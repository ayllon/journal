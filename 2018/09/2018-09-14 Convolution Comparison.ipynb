{
 "cells": [
  {
   "cell_type": "code",
   "execution_count": 1,
   "metadata": {},
   "outputs": [],
   "source": [
    "%matplotlib widget\n",
    "import numpy as np\n",
    "import matplotlib.pyplot as plt\n",
    "from astropy.table import Table"
   ]
  },
  {
   "cell_type": "code",
   "execution_count": 2,
   "metadata": {},
   "outputs": [],
   "source": [
    "before_data = Table.read('/tmp/benchmark_before.csv')\n",
    "after_data = Table.read('/tmp/benchmark_after.csv')\n",
    "repeat = 20"
   ]
  },
  {
   "cell_type": "code",
   "execution_count": 3,
   "metadata": {},
   "outputs": [],
   "source": [
    "before_agg = before_data.group_by(['Image', 'Kernel', 'Implementation']).groups.aggregate(np.mean)\n",
    "after_agg = after_data.group_by(['Image', 'Kernel', 'Implementation']).groups.aggregate(np.mean)"
   ]
  },
  {
   "cell_type": "code",
   "execution_count": 4,
   "metadata": {},
   "outputs": [],
   "source": [
    "before_agg['Implementation'] = [i.split('<')[0] for i in before_agg['Implementation']]\n",
    "after_agg['Implementation'] = [i.split('<')[0] for i in after_agg['Implementation']]"
   ]
  },
  {
   "cell_type": "code",
   "execution_count": 5,
   "metadata": {},
   "outputs": [
    {
     "data": {
      "application/vnd.jupyter.widget-view+json": {
       "model_id": "bb91f250535e4993b459372da2a65e44",
       "version_major": 2,
       "version_minor": 0
      },
      "text/plain": [
       "FigureCanvasNbAgg()"
      ]
     },
     "metadata": {},
     "output_type": "display_data"
    },
    {
     "data": {
      "text/plain": [
       "<matplotlib.legend.Legend at 0x7f65b1f4e710>"
      ]
     },
     "execution_count": 5,
     "metadata": {},
     "output_type": "execute_result"
    }
   ],
   "source": [
    "ref_kernel_size = 45\n",
    "impl = 'SExtractor::DFTConvolution'\n",
    "\n",
    "before = before_agg[(before_agg['Kernel'] == ref_kernel_size) & (before_agg['Implementation'] == impl)]\n",
    "after = after_agg[(after_agg['Kernel'] == ref_kernel_size) & (after_agg['Implementation'] == impl)]\n",
    "\n",
    "plt.figure(figsize=(9,5))\n",
    "plt.plot(before['Image'], before['Time']/(repeat*1e6), 'o-', label='Before')\n",
    "plt.plot(after['Image'], after['Time']/(repeat*1e6), 'x-', label='After')\n",
    "plt.ylabel('ms')\n",
    "plt.xlabel('Image size')\n",
    "plt.legend()"
   ]
  },
  {
   "cell_type": "code",
   "execution_count": null,
   "metadata": {},
   "outputs": [],
   "source": []
  }
 ],
 "metadata": {
  "kernelspec": {
   "display_name": "Python 3",
   "language": "python",
   "name": "python3"
  },
  "language_info": {
   "codemirror_mode": {
    "name": "ipython",
    "version": 3
   },
   "file_extension": ".py",
   "mimetype": "text/x-python",
   "name": "python",
   "nbconvert_exporter": "python",
   "pygments_lexer": "ipython3",
   "version": "3.6.6"
  }
 },
 "nbformat": 4,
 "nbformat_minor": 2
}
