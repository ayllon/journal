{
 "cells": [
  {
   "cell_type": "code",
   "execution_count": 1,
   "metadata": {},
   "outputs": [],
   "source": [
    "%matplotlib widget\n",
    "import numpy as np\n",
    "import matplotlib.pyplot as plt\n",
    "import matplotlib.colors as colors\n",
    "from matplotlib.patches import Circle\n",
    "from astropy.table import Table\n",
    "from astropy.io import fits\n",
    "from astropy.wcs import WCS"
   ]
  },
  {
   "cell_type": "code",
   "execution_count": 2,
   "metadata": {},
   "outputs": [],
   "source": [
    "catalog = Table.read('/home/aalvarez/Work/Data/sim09/small_output.fits')"
   ]
  },
  {
   "cell_type": "code",
   "execution_count": 3,
   "metadata": {},
   "outputs": [],
   "source": [
    "overlap = (catalog['aperture_flag_0_10'] & 2).astype(np.bool)\n",
    "for i in range(1, 4):\n",
    "    overlap = overlap | (catalog[f'aperture_flag_{i}_10'] & 2).astype(np.bool)"
   ]
  },
  {
   "cell_type": "code",
   "execution_count": 4,
   "metadata": {},
   "outputs": [],
   "source": [
    "crowded0 = catalog[overlap]"
   ]
  },
  {
   "cell_type": "code",
   "execution_count": 5,
   "metadata": {},
   "outputs": [],
   "source": [
    "g01 = fits.open('/home/aalvarez/Work/Data/sim09/coadd.fits')[0]\n",
    "wcs = WCS(g01.header)\n",
    "img = g01.data"
   ]
  },
  {
   "cell_type": "code",
   "execution_count": 6,
   "metadata": {},
   "outputs": [
    {
     "data": {
      "application/vnd.jupyter.widget-view+json": {
       "model_id": "76990cb384694edd86bd1fbd816cdad8",
       "version_major": 2,
       "version_minor": 0
      },
      "text/plain": [
       "FigureCanvasNbAgg()"
      ]
     },
     "metadata": {},
     "output_type": "display_data"
    }
   ],
   "source": [
    "fig = plt.figure(figsize=(12,12))\n",
    "ax1 = plt.subplot(1, 1, 1)#, projection=wcs)\n",
    "ax1.imshow(img, cmap=plt.get_cmap('Greys_r'), norm=colors.LogNorm(200))\n",
    "ax1.scatter(catalog['pixel_centroid_x'], catalog['pixel_centroid_y'], marker='*')\n",
    "for s in crowded0:\n",
    "    ax1.add_artist(Circle((s['pixel_centroid_x'], s['pixel_centroid_y']), radius=10, alpha=0.2, color='yellow'))"
   ]
  },
  {
   "cell_type": "code",
   "execution_count": null,
   "metadata": {},
   "outputs": [],
   "source": []
  }
 ],
 "metadata": {
  "kernelspec": {
   "display_name": "Python 3",
   "language": "python",
   "name": "python3"
  },
  "language_info": {
   "codemirror_mode": {
    "name": "ipython",
    "version": 3
   },
   "file_extension": ".py",
   "mimetype": "text/x-python",
   "name": "python",
   "nbconvert_exporter": "python",
   "pygments_lexer": "ipython3",
   "version": "3.6.6"
  }
 },
 "nbformat": 4,
 "nbformat_minor": 2
}
