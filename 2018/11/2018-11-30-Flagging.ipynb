{
 "cells": [
  {
   "cell_type": "code",
   "execution_count": 1,
   "metadata": {},
   "outputs": [],
   "source": [
    "%matplotlib widget\n",
    "import numpy as np\n",
    "import matplotlib.pyplot as plt\n",
    "from matplotlib import colors\n",
    "import os\n",
    "\n",
    "from astropy.io import fits\n",
    "from astropy.table import Table\n",
    "import stuff"
   ]
  },
  {
   "cell_type": "markdown",
   "metadata": {},
   "source": [
    "## Dump configuration"
   ]
  },
  {
   "cell_type": "code",
   "execution_count": 2,
   "metadata": {},
   "outputs": [
    {
     "name": "stdout",
     "output_type": "stream",
     "text": [
      "output-properties=WorldCentroid,PixelCentroid,SourceIDs,AutoPhotometry\n",
      "#,FlexibleModelFitting\n",
      "#,AutoPhotometry\n",
      "detection-image=/home/aalvarez/Work/Data/sim08/coadd.fits\n",
      "weight-image=/home/aalvarez/Work/Data/sim08/coadd.weight.fits\n",
      "weight-type=weight\n",
      "detection-image-saturation=59000\n",
      "detection-image-gain=1\n",
      "detect-minarea=10\n",
      "partition-min-area=10\n",
      "threads-nb=4\n",
      "cellsize-value=32\n",
      "partition-multithreshold=true\n",
      "grouping-algorithm=SPLIT\n",
      "checkimage-residual=/home/aalvarez/Work/Data/sim08/mci_residual.fits\n",
      "checkimage-modelfitting=/home/aalvarez/Work/Data/sim08/mci_modelfitting.fits\n",
      "checkimage-background=/home/aalvarez/Work/Data/sim08/mci_background.fits\n",
      "checkimage-variance=/home/aalvarez/Work/Data/sim08/mci_variance.fits\n",
      "checkimage-segmentation=/home/aalvarez/Work/Data/sim08/mci_segmentation.fits\n",
      "checkimage-partition=/home/aalvarez/Work/Data/sim08/mci_partition.fits\n",
      "checkimage-filtered=/home/aalvarez/Work/Data/sim08/mci_filtered.fits\n",
      "checkimage-aperture=/home/aalvarez/Work/Data/sim08/mci_aperture.fits\n",
      "checkimage-auto-aperture=/home/aalvarez/Work/Data/sim08/mci_auto.fits\n",
      "\n",
      "output-file=/home/aalvarez/Work/Data/sim08/py_output.fits\n",
      "\n",
      "magnitude-zeropoint=26\n",
      "\n",
      "\n",
      "python-config-file=/home/aalvarez/Work/Projects/sextractorxx/tests/test_config.py\n",
      "\n"
     ]
    }
   ],
   "source": [
    "print(open(os.path.expanduser('~/Work/Data/sim08/test_py.config')).read())"
   ]
  },
  {
   "cell_type": "code",
   "execution_count": 3,
   "metadata": {},
   "outputs": [
    {
     "name": "stdout",
     "output_type": "stream",
     "text": [
      "from os.path import expanduser\n",
      "import sys\n",
      "\n",
      "sys.path.append(expanduser('~/Work/Projects/sextractorxx/SEImplementation/python'))\n",
      "sys.path.append(expanduser('~/Work/Projects/sextractorxx/build.x86_64-fc28-gcc82-dbg/lib'))\n",
      "\n",
      "from sextractorxx.config import *\n",
      "from glob import glob\n",
      "\n",
      "images = sorted(glob(expanduser('~/Work/Data/sim08/sim08_[r|i]_0[1|2].fits')))\n",
      "psfs = sorted(glob(expanduser('~/Work/Data/sim08/sim08_[r|i]_0[1|2].psf')))\n",
      "\n",
      "top = load_fits_images(images, psfs)\n",
      "top.split(ByKeyword('FILTER'))\n",
      "\n",
      "measurement_group = MeasurementGroup(top)\n",
      "\n",
      "alpha, delta = get_pos_parameters()\n",
      "angle = FreeParameter(lambda o: o.get_angle(), Range((-2 * 3.14159, 2 * 3.14159), RangeType.LINEAR))\n",
      "ratio = FreeParameter(1, Range((0, 10), RangeType.LINEAR))\n",
      "rad = FreeParameter(lambda o: o.get_radius_world(), Range(lambda v,o: (.01*v, 100*v), RangeType.EXPONENTIAL))\n",
      "\n",
      "add_output_column('alpha', alpha)\n",
      "add_output_column('delta', delta)\n",
      "\n",
      "for band, group in top:\n",
      "    all_ap = []\n",
      "    for img in group:\n",
      "        if band == 'i':\n",
      "            all_ap.extend(add_aperture_photometry(img, [5, 20]))\n",
      "        elif band == 'r':\n",
      "            all_ap.extend(add_aperture_photometry(img, [40, 50, 60]))\n",
      "\n",
      "    #total_flux = get_flux_parameter()\n",
      "    #bulge_disk = FreeParameter(.5, Range((0,1), RangeType.LINEAR))\n",
      "    #flux = DependentParameter(lambda f, r: f * r, total_flux, bulge_disk)\n",
      "    #add_model(group, ExponentialModel(alpha, delta, flux, rad, ratio, angle))\n",
      "\n",
      "    #add_output_column('total_flux_{}'.format(band), total_flux)\n",
      "    add_output_column('aperture_{}'.format(band), all_ap)\n",
      "\n",
      "print_output_columns()\n",
      "print(\"CONFIG DONE\")\n",
      "\n"
     ]
    }
   ],
   "source": [
    "print(open(os.path.expanduser('~/Work/Projects/sextractorxx/tests/test_config.py')).read())"
   ]
  },
  {
   "cell_type": "markdown",
   "metadata": {},
   "source": [
    "## Output catalog"
   ]
  },
  {
   "cell_type": "code",
   "execution_count": 4,
   "metadata": {},
   "outputs": [
    {
     "data": {
      "text/plain": [
       "['aperture_i_flux',\n",
       " 'aperture_r_flux',\n",
       " 'aperture_i_flux_err',\n",
       " 'aperture_r_flux_err',\n",
       " 'aperture_i_mag',\n",
       " 'aperture_r_mag',\n",
       " 'aperture_i_mag_err',\n",
       " 'aperture_r_mag_err',\n",
       " 'aperture_i_flags',\n",
       " 'aperture_r_flags',\n",
       " 'world_centroid_alpha',\n",
       " 'world_centroid_delta',\n",
       " 'pixel_centroid_x',\n",
       " 'pixel_centroid_y',\n",
       " 'source_id',\n",
       " 'detection_id',\n",
       " 'auto_flux',\n",
       " 'auto_flux_err',\n",
       " 'auto_mag',\n",
       " 'auto_mag_err',\n",
       " 'auto_flags']"
      ]
     },
     "execution_count": 4,
     "metadata": {},
     "output_type": "execute_result"
    }
   ],
   "source": [
    "catalog = Table.read(os.path.expanduser('~/Work/Data/sim08/py_output.fits'))\n",
    "catalog.colnames"
   ]
  },
  {
   "cell_type": "code",
   "execution_count": 5,
   "metadata": {},
   "outputs": [],
   "source": [
    "outside_r = (catalog['aperture_r_flags'] & stuff.SourceFlags.OUTSIDE)[:,:,0].astype(np.bool).all(axis=1)\n",
    "in_all_r = np.logical_not(catalog['aperture_r_flags'] & stuff.SourceFlags.OUTSIDE)[:,:,0].astype(np.bool).all(axis=1)"
   ]
  },
  {
   "cell_type": "code",
   "execution_count": 6,
   "metadata": {},
   "outputs": [],
   "source": [
    "outside_i = (catalog['aperture_i_flags'] & stuff.SourceFlags.OUTSIDE)[:,:,0].astype(np.bool).all(axis=1)\n",
    "in_all_i = np.logical_not(catalog['aperture_i_flags'] & stuff.SourceFlags.OUTSIDE)[:,:,0].astype(np.bool).all(axis=1)"
   ]
  },
  {
   "cell_type": "code",
   "execution_count": 7,
   "metadata": {},
   "outputs": [],
   "source": [
    "outside_all = np.logical_and(outside_i, outside_r)\n",
    "inside_all = np.logical_and(in_all_r, in_all_i)"
   ]
  },
  {
   "cell_type": "code",
   "execution_count": 8,
   "metadata": {},
   "outputs": [
    {
     "name": "stdout",
     "output_type": "stream",
     "text": [
      "Inside all R frames: 284 / 753\n",
      "Outside all R frames: 312 / 753\n",
      "Inside all I frames: 186 / 753\n",
      "Outside all I frames: 230 / 753\n",
      "Outside all the frames: 0 / 753\n",
      "Inside all the frames: 96 / 753\n"
     ]
    }
   ],
   "source": [
    "print(\"Inside all R frames:\", sum(in_all_r), \"/\", len(catalog))\n",
    "print(\"Outside all R frames:\", sum(outside_r), \"/\", len(catalog))\n",
    "print(\"Inside all I frames:\", sum(in_all_i), \"/\", len(catalog))\n",
    "print(\"Outside all I frames:\", sum(outside_i), \"/\", len(catalog))\n",
    "print(\"Outside all the frames:\", sum(outside_all), \"/\", len(catalog))\n",
    "print(\"Inside all the frames:\", sum(inside_all), \"/\", len(catalog))"
   ]
  },
  {
   "cell_type": "markdown",
   "metadata": {},
   "source": [
    "## Coadded image"
   ]
  },
  {
   "cell_type": "code",
   "execution_count": 9,
   "metadata": {},
   "outputs": [],
   "source": [
    "coadd_img = fits.open(os.path.expanduser('~/Work/Data/sim08/coadd.fits'))[0].data"
   ]
  },
  {
   "cell_type": "code",
   "execution_count": 10,
   "metadata": {},
   "outputs": [
    {
     "data": {
      "application/vnd.jupyter.widget-view+json": {
       "model_id": "41c60f175b484f698fd4bf6384772141",
       "version_major": 2,
       "version_minor": 0
      },
      "text/plain": [
       "FigureCanvasNbAgg()"
      ]
     },
     "metadata": {},
     "output_type": "display_data"
    },
    {
     "data": {
      "text/plain": [
       "<matplotlib.collections.PathCollection at 0x7f8d4c2c1320>"
      ]
     },
     "execution_count": 10,
     "metadata": {},
     "output_type": "execute_result"
    }
   ],
   "source": [
    "plt.figure(figsize=(8,8))\n",
    "plt.imshow(coadd_img, norm=colors.SymLogNorm(10), cmap=plt.get_cmap('gray'))\n",
    "plt.scatter(catalog[inside_all]['pixel_centroid_x'], catalog[inside_all]['pixel_centroid_y'], marker='*', c='yellow')"
   ]
  },
  {
   "cell_type": "code",
   "execution_count": null,
   "metadata": {},
   "outputs": [],
   "source": []
  }
 ],
 "metadata": {
  "kernelspec": {
   "display_name": "Python 3",
   "language": "python",
   "name": "python3"
  },
  "language_info": {
   "codemirror_mode": {
    "name": "ipython",
    "version": 3
   },
   "file_extension": ".py",
   "mimetype": "text/x-python",
   "name": "python",
   "nbconvert_exporter": "python",
   "pygments_lexer": "ipython3",
   "version": "3.6.7"
  }
 },
 "nbformat": 4,
 "nbformat_minor": 2
}
