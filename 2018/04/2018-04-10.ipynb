{
 "cells": [
  {
   "cell_type": "markdown",
   "metadata": {},
   "source": [
    "Got something new to do: RecomputedPhotomery.\n",
    "`nnpz/weights/RecomputedPhotometry.py` (need to have a look at the other files too).\n",
    "\n",
    "* **filter_map** is a map with the filter transmissions\n",
    "* **phot_type** if $f\\lambda$, or $f\\nu$, etc.\n",
    "* **ebv_list** one entry per object in the target catalog with the [E(B-V)](https://en.wikipedia.org/wiki/Extinction_(astronomy))\n",
    "\n",
    "Per object there should be also a `shift_filter`, which is missing on the existing code.\n",
    "It should be a map of lists, where the key is the filter name.\n",
    "\n",
    "Need to do also the configuration for the paramters, but should start first with just hardcoding the parameters.\n",
    "Look at what do the other weights do.\n",
    "\n",
    "To test, need a catalog with the EBV applied. To be sent.\n",
    "\n",
    "#### Flush disk cache:\n",
    "```bash\n",
    "echo 3 | sudo tee \"/proc/sys/vm/drop_caches\"\n",
    "```"
   ]
  },
  {
   "cell_type": "markdown",
   "metadata": {},
   "source": [
    "The existing implementation just takes the photometry from the corresponding reference and returns it.\n",
    "If I understand (and remember) right, RecomputedPhotometry gets the reference and computes how the reference \"would look like\" if it was measured through the same part of the filter.\n",
    "\n",
    "That's why we need a shift_filter map per each target object, since this shift depends on the position on the sensor where the source was detected.\n",
    "\n",
    "I *think* filter_trans_map is the average for the filter, and the object will have the shift from that value.\n",
    "I don't know if the shift if a $+$ or a $\\times$. Since it is not a stretch, probably just a $+$, but to be checked."
   ]
  }
 ],
 "metadata": {
  "kernelspec": {
   "display_name": "Python 3",
   "language": "python",
   "name": "python3"
  },
  "language_info": {
   "codemirror_mode": {
    "name": "ipython",
    "version": 3
   },
   "file_extension": ".py",
   "mimetype": "text/x-python",
   "name": "python",
   "nbconvert_exporter": "python",
   "pygments_lexer": "ipython3",
   "version": "3.6.5"
  }
 },
 "nbformat": 4,
 "nbformat_minor": 2
}
