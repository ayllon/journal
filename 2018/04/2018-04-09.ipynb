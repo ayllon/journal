{
 "cells": [
  {
   "cell_type": "markdown",
   "metadata": {},
   "source": [
    "### Re-runing with the proper reference sample\n",
    "\n",
    "Jean sent the proper reference sample. I run NnpzBuildPhotometry on it to generate the photometry, and then run nnpz over 100k of the input."
   ]
  },
  {
   "cell_type": "code",
   "execution_count": 1,
   "metadata": {},
   "outputs": [],
   "source": [
    "import nnpz\n",
    "from astropy.table import Table"
   ]
  },
  {
   "cell_type": "code",
   "execution_count": 2,
   "metadata": {
    "scrolled": true
   },
   "outputs": [
    {
     "name": "stdout",
     "output_type": "stream",
     "text": [
      "518404\n"
     ]
    }
   ],
   "source": [
    "ref = nnpz.ReferenceSample('/data/dc3/ReferenceSample/')\n",
    "print(ref.size())"
   ]
  },
  {
   "cell_type": "markdown",
   "metadata": {},
   "source": [
    "Run NnpzBuildPhotometry over the just created RefernceSample\n",
    "```bash\n",
    "./NnpzBuildPhotometry --sample-dir \"/data/dc3/ReferenceSample\" --filters \"/data/dc3/AuxiliaryData/Filters/Euclid\" --out-type F_nu_uJy --out-file \"/data/dc3/dc3_F_nu_uJy.fits\"\n",
    "```"
   ]
  },
  {
   "cell_type": "code",
   "execution_count": 3,
   "metadata": {
    "scrolled": true
   },
   "outputs": [
    {
     "data": {
      "text/html": [
       "&lt;Table length=5&gt;\n",
       "<table id=\"table139731847875776\" class=\"table-striped table-bordered table-condensed\">\n",
       "<thead><tr><th>ID</th><th>g</th><th>r</th><th>J</th><th>Y</th><th>i</th><th>H</th><th>z</th><th>u</th><th>vis</th></tr></thead>\n",
       "<thead><tr><th>int64</th><th>float32</th><th>float32</th><th>float32</th><th>float32</th><th>float32</th><th>float32</th><th>float32</th><th>float32</th><th>float32</th></tr></thead>\n",
       "<tr><td>216439</td><td>2.79845</td><td>6.23974</td><td>15.6645</td><td>13.9629</td><td>8.51193</td><td>18.2761</td><td>11.1786</td><td>0.638427</td><td>7.00802</td></tr>\n",
       "<tr><td>218604</td><td>9.20682</td><td>45.0099</td><td>188.815</td><td>133.947</td><td>77.444</td><td>222.978</td><td>103.189</td><td>1.35828</td><td>55.8059</td></tr>\n",
       "<tr><td>219020</td><td>77.5733</td><td>236.301</td><td>778.685</td><td>625.669</td><td>345.184</td><td>914.782</td><td>463.316</td><td>14.7736</td><td>275.204</td></tr>\n",
       "<tr><td>219656</td><td>0.165762</td><td>0.178471</td><td>0.296531</td><td>0.192683</td><td>0.181013</td><td>0.333025</td><td>0.183007</td><td>0.0986834</td><td>0.178859</td></tr>\n",
       "<tr><td>219657</td><td>0.0306811</td><td>0.0396912</td><td>0.165203</td><td>0.131888</td><td>0.0516333</td><td>0.208743</td><td>0.0873943</td><td>0.0220707</td><td>0.0448142</td></tr>\n",
       "</table>"
      ],
      "text/plain": [
       "<Table length=5>\n",
       "  ID       g         r        J     ...    H         z         u        vis   \n",
       "int64   float32   float32  float32  ... float32   float32   float32   float32 \n",
       "------ --------- --------- -------- ... -------- --------- --------- ---------\n",
       "216439   2.79845   6.23974  15.6645 ...  18.2761   11.1786  0.638427   7.00802\n",
       "218604   9.20682   45.0099  188.815 ...  222.978   103.189   1.35828   55.8059\n",
       "219020   77.5733   236.301  778.685 ...  914.782   463.316   14.7736   275.204\n",
       "219656  0.165762  0.178471 0.296531 ... 0.333025  0.183007 0.0986834  0.178859\n",
       "219657 0.0306811 0.0396912 0.165203 ... 0.208743 0.0873943 0.0220707 0.0448142"
      ]
     },
     "execution_count": 3,
     "metadata": {},
     "output_type": "execute_result"
    }
   ],
   "source": [
    "photometry = Table.read('/data/dc3/dc3_F_nu_uJy.fits', hdu=1)\n",
    "photometry[0:5]"
   ]
  },
  {
   "cell_type": "code",
   "execution_count": 13,
   "metadata": {},
   "outputs": [
    {
     "data": {
      "text/html": [
       "&lt;Table length=5&gt;\n",
       "<table id=\"table140406458026360\" class=\"table-striped table-bordered table-condensed\">\n",
       "<thead><tr><th>ID</th><th>g</th><th>r</th><th>J</th><th>Y</th><th>i</th><th>H</th><th>z</th><th>u</th><th>vis</th></tr></thead>\n",
       "<thead><tr><th>int64</th><th>float32</th><th>float32</th><th>float32</th><th>float32</th><th>float32</th><th>float32</th><th>float32</th><th>float32</th><th>float32</th></tr></thead>\n",
       "<tr><td>216439</td><td>0.00780618</td><td>0.0092537</td><td>0.00540401</td><td>0.00758704</td><td>0.00872465</td><td>0.00363316</td><td>0.00871057</td><td>0.00284716</td><td>0.00902161</td></tr>\n",
       "<tr><td>218604</td><td>0.00709301</td><td>0.00753299</td><td>0.00354284</td><td>0.00509306</td><td>0.00666605</td><td>0.00228456</td><td>0.0061858</td><td>0.00323129</td><td>0.00711058</td></tr>\n",
       "<tr><td>219020</td><td>0.00694116</td><td>0.00714534</td><td>0.00319733</td><td>0.00462758</td><td>0.00621838</td><td>0.00203948</td><td>0.00568171</td><td>0.00329203</td><td>0.00669232</td></tr>\n",
       "<tr><td>219656</td><td>0.00397959</td><td>0.00227214</td><td>0.000494291</td><td>0.00082343</td><td>0.0015671</td><td>0.000285457</td><td>0.00119335</td><td>0.00440326</td><td>0.00195099</td></tr>\n",
       "<tr><td>219657</td><td>0.00521885</td><td>0.00432763</td><td>0.0019829</td><td>0.00281661</td><td>0.00361508</td><td>0.00131018</td><td>0.0033643</td><td>0.0039178</td><td>0.00400876</td></tr>\n",
       "</table>"
      ],
      "text/plain": [
       "<Table length=5>\n",
       "  ID       g          r           J      ...     z          u         vis    \n",
       "int64   float32    float32     float32   ...  float32    float32    float32  \n",
       "------ ---------- ---------- ----------- ... ---------- ---------- ----------\n",
       "216439 0.00780618  0.0092537  0.00540401 ... 0.00871057 0.00284716 0.00902161\n",
       "218604 0.00709301 0.00753299  0.00354284 ...  0.0061858 0.00323129 0.00711058\n",
       "219020 0.00694116 0.00714534  0.00319733 ... 0.00568171 0.00329203 0.00669232\n",
       "219656 0.00397959 0.00227214 0.000494291 ... 0.00119335 0.00440326 0.00195099\n",
       "219657 0.00521885 0.00432763   0.0019829 ...  0.0033643  0.0039178 0.00400876"
      ]
     },
     "execution_count": 13,
     "metadata": {},
     "output_type": "execute_result"
    }
   ],
   "source": [
    "photometry_lambda = Table.read('/data/dc3/DC3.2.0_F_lambda.fits', hdu=1)\n",
    "photometry_lambda[0:5]"
   ]
  },
  {
   "cell_type": "code",
   "execution_count": 4,
   "metadata": {},
   "outputs": [],
   "source": [
    "%matplotlib inline\n",
    "import matplotlib.pyplot as pyplot\n",
    "import numpy as np"
   ]
  },
  {
   "cell_type": "code",
   "execution_count": 5,
   "metadata": {},
   "outputs": [
    {
     "data": {
      "text/plain": [
       "[<matplotlib.lines.Line2D at 0x7f157f5380b8>]"
      ]
     },
     "execution_count": 5,
     "metadata": {},
     "output_type": "execute_result"
    },
    {
     "data": {
      "image/png": "[encoded data removed]",
      "text/plain": [
       "<matplotlib.figure.Figure at 0x7f15a0a9a5c0>"
      ]
     },
     "metadata": {},
     "output_type": "display_data"
    }
   ],
   "source": [
    "nnpz_out = Table.read('/data/dc3/nnpz/out.fits')\n",
    "pdz_vals, pdz_bins = nnpz_out[0]['CoaddedPdz'], nnpz_out[0]['CoaddedPdzBins']\n",
    "pyplot.plot(pdz_bins, pdz_vals)"
   ]
  },
  {
   "cell_type": "code",
   "execution_count": 6,
   "metadata": {},
   "outputs": [
    {
     "data": {
      "text/plain": [
       "1.0"
      ]
     },
     "execution_count": 6,
     "metadata": {},
     "output_type": "execute_result"
    }
   ],
   "source": [
    "np.trapz(pdz_vals, pdz_bins)"
   ]
  },
  {
   "cell_type": "code",
   "execution_count": 7,
   "metadata": {},
   "outputs": [
    {
     "data": {
      "text/plain": [
       "[<matplotlib.lines.Line2D at 0x7f159e677710>]"
      ]
     },
     "execution_count": 7,
     "metadata": {},
     "output_type": "execute_result"
    },
    {
     "data": {
      "image/png": "[encoded data removed]",
      "text/plain": [
       "<matplotlib.figure.Figure at 0x7f159e79cc88>"
      ]
     },
     "metadata": {},
     "output_type": "display_data"
    }
   ],
   "source": [
    "pdz_vals, pdz_bins = nnpz_out[600]['CoaddedPdz'], nnpz_out[600]['CoaddedPdzBins']\n",
    "pyplot.plot(pdz_bins, pdz_vals)"
   ]
  },
  {
   "cell_type": "code",
   "execution_count": 8,
   "metadata": {},
   "outputs": [
    {
     "data": {
      "text/plain": [
       "1.0"
      ]
     },
     "execution_count": 8,
     "metadata": {},
     "output_type": "execute_result"
    }
   ],
   "source": [
    "np.trapz(pdz_vals, pdz_bins)"
   ]
  },
  {
   "cell_type": "code",
   "execution_count": 9,
   "metadata": {},
   "outputs": [
    {
     "data": {
      "text/plain": [
       "[<matplotlib.lines.Line2D at 0x7f159e5d0f98>]"
      ]
     },
     "execution_count": 9,
     "metadata": {},
     "output_type": "execute_result"
    },
    {
     "data": {
      "image/png": "[encoded data removed]",
      "text/plain": [
       "<matplotlib.figure.Figure at 0x7f159e6bcb38>"
      ]
     },
     "metadata": {},
     "output_type": "display_data"
    }
   ],
   "source": [
    "higher_redshift = nnpz_out[nnpz_out['z_true'] > 3][0]\n",
    "pdz_vals, pdz_bins = higher_redshift['CoaddedPdz'], higher_redshift['CoaddedPdzBins']\n",
    "pyplot.plot(pdz_bins, pdz_vals)"
   ]
  },
  {
   "cell_type": "code",
   "execution_count": 10,
   "metadata": {},
   "outputs": [
    {
     "data": {
      "text/plain": [
       "3.5009999"
      ]
     },
     "execution_count": 10,
     "metadata": {},
     "output_type": "execute_result"
    }
   ],
   "source": [
    "higher_redshift['z_true']"
   ]
  },
  {
   "cell_type": "code",
   "execution_count": 11,
   "metadata": {},
   "outputs": [],
   "source": [
    "diff = nnpz_out['Q_50'] - nnpz_out['z_true']\n",
    "diff=diff[np.isnan(diff)==False]\n",
    "err=diff*diff"
   ]
  },
  {
   "cell_type": "code",
   "execution_count": 13,
   "metadata": {},
   "outputs": [
    {
     "data": {
      "text/plain": [
       "(array([  9.61350000e+04,   9.41000000e+02,   3.60000000e+02,\n",
       "          2.51000000e+02,   1.59000000e+02,   1.36000000e+02,\n",
       "          1.56000000e+02,   1.43000000e+02,   1.31000000e+02,\n",
       "          1.47000000e+02,   1.80000000e+02,   1.48000000e+02,\n",
       "          1.69000000e+02,   1.53000000e+02,   1.77000000e+02,\n",
       "          1.76000000e+02,   1.67000000e+02,   1.08000000e+02,\n",
       "          6.00000000e+01,   3.70000000e+01,   2.80000000e+01,\n",
       "          1.50000000e+01,   1.00000000e+01,   0.00000000e+00,\n",
       "          3.00000000e+00,   1.00000000e+00,   2.00000000e+00,\n",
       "          5.00000000e+00,   1.00000000e+00,   1.00000000e+00]),\n",
       " array([  0.        ,   0.57023919,   1.14047839,   1.71071758,\n",
       "          2.28095678,   2.85119597,   3.42143517,   3.99167436,\n",
       "          4.56191355,   5.13215275,   5.70239194,   6.27263114,\n",
       "          6.84287033,   7.41310953,   7.98334872,   8.55358791,\n",
       "          9.12382711,   9.6940663 ,  10.2643055 ,  10.83454469,\n",
       "         11.40478388,  11.97502308,  12.54526227,  13.11550147,\n",
       "         13.68574066,  14.25597986,  14.82621905,  15.39645824,\n",
       "         15.96669744,  16.53693663,  17.10717583]),\n",
       " <a list of 30 Patch objects>)"
      ]
     },
     "execution_count": 13,
     "metadata": {},
     "output_type": "execute_result"
    },
    {
     "data": {
      "image/png": "[encoded data removed]",
      "text/plain": [
       "<matplotlib.figure.Figure at 0x7f159e79cf98>"
      ]
     },
     "metadata": {},
     "output_type": "display_data"
    }
   ],
   "source": [
    "pyplot.hist(err, bins=30)"
   ]
  },
  {
   "cell_type": "markdown",
   "metadata": {},
   "source": [
    "Looks even better now with the proper data."
   ]
  }
 ],
 "metadata": {
  "kernelspec": {
   "display_name": "Python 3",
   "language": "python",
   "name": "python3"
  },
  "language_info": {
   "codemirror_mode": {
    "name": "ipython",
    "version": 3
   },
   "file_extension": ".py",
   "mimetype": "text/x-python",
   "name": "python",
   "nbconvert_exporter": "python",
   "pygments_lexer": "ipython3",
   "version": "3.6.4"
  }
 },
 "nbformat": 4,
 "nbformat_minor": 2
}
