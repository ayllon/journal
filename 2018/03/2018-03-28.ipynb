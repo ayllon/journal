{
 "cells": [
  {
   "cell_type": "markdown",
   "metadata": {},
   "source": [
    "### Working on the nnpz task\n",
    "\n",
    "See: https://redmine.astro.unige.ch/issues/15518\n",
    "\n",
    "Downloaded catalogs and filters from Jean's area into /data/dc3. Copied SEDs from Phosphoros quickstart.\n",
    "\n",
    "Tried to run using the 10x catalogs, but there are duplicated IDs, so Phosphoros failed. It seems the 10x is just\n",
    "the same as the other catalog, but each entry 10 times.\n",
    "\n",
    "Luckily I didn't run with the full set, or it would have taken forever. In any case, if they are exactly identical,\n",
    "just 10 times repeated (to be checked, I may be wrong), I may as well replicate the result 10 times.\n",
    "\n",
    "Run Phosphoros GUI, configure filters, generate the parameter space using the Quickstart values, and run the\n",
    "template fitting.\n",
    "After a couple of hours and burning CPU at 100%, got an output.\n",
    "\n",
    "Run my [ph2ref](https://gitlab.astro.unige.ch/aalvarez/ph2ref) script on the Phosphoros output to generate a reference sample under /data/dc3/ReferenceSample"
   ]
  },
  {
   "cell_type": "code",
   "execution_count": 3,
   "metadata": {},
   "outputs": [],
   "source": [
    "import nnpz\n",
    "from astropy.table import Table"
   ]
  },
  {
   "cell_type": "code",
   "execution_count": 3,
   "metadata": {
    "scrolled": true
   },
   "outputs": [
    {
     "name": "stdout",
     "output_type": "stream",
     "text": [
      "518216\n"
     ]
    }
   ],
   "source": [
    "ref = nnpz.ReferenceSample('/data/dc3/ReferenceSample/')\n",
    "print(ref.size())"
   ]
  },
  {
   "cell_type": "markdown",
   "metadata": {},
   "source": [
    "Run NnpzBuildPhotometry over the just created RefernceSample\n",
    "```bash\n",
    "./NnpzBuildPhotometry --sample-dir \"/data/dc3/ReferenceSample\" --filters \"/data/dc3/AuxiliaryData/Filters/Euclid\" --out-type F_nu_uJy --out-file \"/data/dc3/DC3.2.0_F_nu_uJy.fits\"\n",
    "```"
   ]
  },
  {
   "cell_type": "markdown",
   "metadata": {},
   "source": [
    "Run in 263.36s. An excerpt:"
   ]
  },
  {
   "cell_type": "code",
   "execution_count": 12,
   "metadata": {
    "scrolled": true
   },
   "outputs": [
    {
     "data": {
      "text/html": [
       "&lt;Table length=5&gt;\n",
       "<table id=\"table140406459004576\" class=\"table-striped table-bordered table-condensed\">\n",
       "<thead><tr><th>ID</th><th>g</th><th>r</th><th>J</th><th>Y</th><th>i</th><th>H</th><th>z</th><th>u</th><th>vis</th></tr></thead>\n",
       "<thead><tr><th>int64</th><th>float32</th><th>float32</th><th>float32</th><th>float32</th><th>float32</th><th>float32</th><th>float32</th><th>float32</th><th>float32</th></tr></thead>\n",
       "<tr><td>216439</td><td>5.94379e+15</td><td>1.26111e+16</td><td>3.30109e+16</td><td>2.93887e+16</td><td>1.75996e+16</td><td>3.7315e+16</td><td>2.42022e+16</td><td>1.27347e+15</td><td>1.44539e+16</td></tr>\n",
       "<tr><td>218604</td><td>5.40076e+15</td><td>1.02661e+16</td><td>2.16418e+16</td><td>1.97281e+16</td><td>1.34469e+16</td><td>2.34639e+16</td><td>1.71872e+16</td><td>1.44529e+15</td><td>1.13922e+16</td></tr>\n",
       "<tr><td>219020</td><td>5.28514e+15</td><td>9.73779e+15</td><td>1.95312e+16</td><td>1.79251e+16</td><td>1.25439e+16</td><td>2.09468e+16</td><td>1.57865e+16</td><td>1.47245e+15</td><td>1.0722e+16</td></tr>\n",
       "<tr><td>219656</td><td>3.03014e+15</td><td>3.09651e+15</td><td>3.01943e+15</td><td>3.18958e+15</td><td>3.16121e+15</td><td>2.93183e+15</td><td>3.31571e+15</td><td>1.96949e+15</td><td>3.12577e+15</td></tr>\n",
       "<tr><td>219657</td><td>3.97374e+15</td><td>5.89777e+15</td><td>1.21127e+16</td><td>1.09102e+16</td><td>7.29244e+15</td><td>1.34564e+16</td><td>9.34767e+15</td><td>1.75235e+15</td><td>6.42259e+15</td></tr>\n",
       "</table>"
      ],
      "text/plain": [
       "<Table length=5>\n",
       "  ID        g           r      ...      z           u          vis    \n",
       "int64    float32     float32   ...   float32     float32     float32  \n",
       "------ ----------- ----------- ... ----------- ----------- -----------\n",
       "216439 5.94379e+15 1.26111e+16 ... 2.42022e+16 1.27347e+15 1.44539e+16\n",
       "218604 5.40076e+15 1.02661e+16 ... 1.71872e+16 1.44529e+15 1.13922e+16\n",
       "219020 5.28514e+15 9.73779e+15 ... 1.57865e+16 1.47245e+15  1.0722e+16\n",
       "219656 3.03014e+15 3.09651e+15 ... 3.31571e+15 1.96949e+15 3.12577e+15\n",
       "219657 3.97374e+15 5.89777e+15 ... 9.34767e+15 1.75235e+15 6.42259e+15"
      ]
     },
     "execution_count": 12,
     "metadata": {},
     "output_type": "execute_result"
    }
   ],
   "source": [
    "photometry = Table.read('/data/dc3/DC3.2.0_F_nu_uJy.fits', hdu=1)\n",
    "photometry[0:5]"
   ]
  },
  {
   "cell_type": "markdown",
   "metadata": {},
   "source": [
    "Create a new config file, and use that one to run nnpz\n",
    "```python\n",
    "reference_sample_dir = '/data/dc3/ReferenceSample'\n",
    "reference_sample_phot_file = '/data/dc3/DC3.2.0_F_nu_uJy.fits'\n",
    "reference_sample_phot_filters = ['u', 'g', 'r', 'i', 'z', 'vis', 'Y', 'J', 'H']\n",
    "out_mean_phot_filters = reference_sample_phot_filters\n",
    "\n",
    "target_cat = '/data/dc3/Catalog/Cosmos/euclid_emulated_DC3.2.0_COSMOS15_test.fits'\n",
    "target_filters = [\n",
    "    ('u_obs', 'u_obs_err'),\n",
    "    ('g_obs', 'g_obs_err'),\n",
    "    ('r_obs', 'r_obs_err'),\n",
    "    ('i_obs', 'i_obs_err'),\n",
    "    ('z_obs', 'z_obs_err'),\n",
    "    ('vis_obs', 'vis_obs_err'),\n",
    "    ('Y_obs', 'Y_obs_err'),\n",
    "    ('J_obs', 'J_obs_err'),\n",
    "    ('H_obs', 'H_obs_err')\n",
    "]\n",
    "missing_photometry_flags = [-99]\n",
    "\n",
    "neighbor_method = 'Combined'\n",
    "\n",
    "batch_size = 2000\n",
    "neighbors_no = 30\n",
    "\n",
    "input_size = 1000\n",
    "\n",
    "output_file = '/data/dc3/nnpz/out.fits'\n",
    "```\n",
    "\n",
    "When running, this line takes a long time, and no feedback is available on the terminal :(\n",
    "```python\n",
    "selector = EuclideanRegionBruteForceSelector(neighbors_no, batch_size).initialize(ref_data)\n",
    "```\n",
    "\n",
    "Regenerated the photometries but with F_lambda, not sure if that's ok, need to ask. The values from the\n",
    "previous one were too far away."
   ]
  },
  {
   "cell_type": "code",
   "execution_count": 13,
   "metadata": {},
   "outputs": [
    {
     "data": {
      "text/html": [
       "&lt;Table length=5&gt;\n",
       "<table id=\"table140406458026360\" class=\"table-striped table-bordered table-condensed\">\n",
       "<thead><tr><th>ID</th><th>g</th><th>r</th><th>J</th><th>Y</th><th>i</th><th>H</th><th>z</th><th>u</th><th>vis</th></tr></thead>\n",
       "<thead><tr><th>int64</th><th>float32</th><th>float32</th><th>float32</th><th>float32</th><th>float32</th><th>float32</th><th>float32</th><th>float32</th><th>float32</th></tr></thead>\n",
       "<tr><td>216439</td><td>0.00780618</td><td>0.0092537</td><td>0.00540401</td><td>0.00758704</td><td>0.00872465</td><td>0.00363316</td><td>0.00871057</td><td>0.00284716</td><td>0.00902161</td></tr>\n",
       "<tr><td>218604</td><td>0.00709301</td><td>0.00753299</td><td>0.00354284</td><td>0.00509306</td><td>0.00666605</td><td>0.00228456</td><td>0.0061858</td><td>0.00323129</td><td>0.00711058</td></tr>\n",
       "<tr><td>219020</td><td>0.00694116</td><td>0.00714534</td><td>0.00319733</td><td>0.00462758</td><td>0.00621838</td><td>0.00203948</td><td>0.00568171</td><td>0.00329203</td><td>0.00669232</td></tr>\n",
       "<tr><td>219656</td><td>0.00397959</td><td>0.00227214</td><td>0.000494291</td><td>0.00082343</td><td>0.0015671</td><td>0.000285457</td><td>0.00119335</td><td>0.00440326</td><td>0.00195099</td></tr>\n",
       "<tr><td>219657</td><td>0.00521885</td><td>0.00432763</td><td>0.0019829</td><td>0.00281661</td><td>0.00361508</td><td>0.00131018</td><td>0.0033643</td><td>0.0039178</td><td>0.00400876</td></tr>\n",
       "</table>"
      ],
      "text/plain": [
       "<Table length=5>\n",
       "  ID       g          r           J      ...     z          u         vis    \n",
       "int64   float32    float32     float32   ...  float32    float32    float32  \n",
       "------ ---------- ---------- ----------- ... ---------- ---------- ----------\n",
       "216439 0.00780618  0.0092537  0.00540401 ... 0.00871057 0.00284716 0.00902161\n",
       "218604 0.00709301 0.00753299  0.00354284 ...  0.0061858 0.00323129 0.00711058\n",
       "219020 0.00694116 0.00714534  0.00319733 ... 0.00568171 0.00329203 0.00669232\n",
       "219656 0.00397959 0.00227214 0.000494291 ... 0.00119335 0.00440326 0.00195099\n",
       "219657 0.00521885 0.00432763   0.0019829 ...  0.0033643  0.0039178 0.00400876"
      ]
     },
     "execution_count": 13,
     "metadata": {},
     "output_type": "execute_result"
    }
   ],
   "source": [
    "photometry_lambda = Table.read('/data/dc3/DC3.2.0_F_lambda.fits', hdu=1)\n",
    "photometry_lambda[0:5]"
   ]
  },
  {
   "cell_type": "markdown",
   "metadata": {},
   "source": [
    "So, indeed the results were wrong. The SEDs can not be just pulled into the reference sample like that. I should have been using a pre-generated reference sample instead, and not having to do all this. At least ph2ref may turn out to be useful, as it is something that will be have to be done anyways.\n",
    "\n",
    "Nk will send me a proper reference sample to run. Also, had to filter the catalog and use only those that have a ratio vis/vis_error > 10"
   ]
  },
  {
   "cell_type": "code",
   "execution_count": 15,
   "metadata": {},
   "outputs": [
    {
     "data": {
      "text/html": [
       "&lt;Table masked=True length=5&gt;\n",
       "<table id=\"table140406457648912\" class=\"table-striped table-bordered table-condensed\">\n",
       "<thead><tr><th>ID</th><th>ra</th><th>dec</th><th>z_true</th><th>has_spec_z</th><th>weight</th><th>radius</th><th>u_obs</th><th>u_obs_err</th><th>u_obs_mag</th><th>u_obs_mag_err</th><th>g_obs</th><th>g_obs_err</th><th>g_obs_mag</th><th>g_obs_mag_err</th><th>r_obs</th><th>r_obs_err</th><th>r_obs_mag</th><th>r_obs_mag_err</th><th>i_obs</th><th>i_obs_err</th><th>i_obs_mag</th><th>i_obs_mag_err</th><th>z_obs</th><th>z_obs_err</th><th>z_obs_mag</th><th>z_obs_mag_err</th><th>vis_obs</th><th>vis_obs_err</th><th>vis_obs_mag</th><th>vis_obs_mag_err</th><th>Y_obs</th><th>Y_obs_err</th><th>Y_obs_mag</th><th>Y_obs_mag_err</th><th>J_obs</th><th>J_obs_err</th><th>J_obs_mag</th><th>J_obs_mag_err</th><th>H_obs</th><th>H_obs_err</th><th>H_obs_mag</th><th>H_obs_mag_err</th></tr></thead>\n",
       "<thead><tr><th></th><th>deg</th><th>deg</th><th></th><th></th><th></th><th></th><th>uJy</th><th>uJy</th><th>mag</th><th>mag</th><th>uJy</th><th>uJy</th><th>mag</th><th>mag</th><th>uJy</th><th>uJy</th><th>mag</th><th>mag</th><th>uJy</th><th>uJy</th><th>mag</th><th>mag</th><th>uJy</th><th>uJy</th><th>mag</th><th>mag</th><th>uJy</th><th>uJy</th><th>mag</th><th>mag</th><th>uJy</th><th>uJy</th><th>mag</th><th>mag</th><th>uJy</th><th>uJy</th><th>mag</th><th>mag</th><th>uJy</th><th>uJy</th><th>mag</th><th>mag</th></tr></thead>\n",
       "<thead><tr><th>int64</th><th>float64</th><th>float64</th><th>float32</th><th>int16</th><th>float64</th><th>float32</th><th>float32</th><th>float32</th><th>float32</th><th>float32</th><th>float32</th><th>float32</th><th>float32</th><th>float32</th><th>float32</th><th>float32</th><th>float32</th><th>float32</th><th>float32</th><th>float32</th><th>float32</th><th>float32</th><th>float32</th><th>float32</th><th>float32</th><th>float32</th><th>float32</th><th>float32</th><th>float32</th><th>float32</th><th>float32</th><th>float32</th><th>float32</th><th>float32</th><th>float32</th><th>float32</th><th>float32</th><th>float32</th><th>float32</th><th>float32</th><th>float32</th><th>float32</th></tr></thead>\n",
       "<tr><td>216439</td><td>149.697605634</td><td>1.61663899668</td><td>0.0386</td><td>0</td><td>1.52003949881</td><td>5.29918</td><td>-1.61687</td><td>1.16311</td><td>-1.0</td><td>-1.0</td><td>3.20732</td><td>0.508503</td><td>22.6346</td><td>0.197281</td><td>6.9601</td><td>0.883043</td><td>21.7935</td><td>0.153647</td><td>8.04782</td><td>1.16375</td><td>21.6358</td><td>0.148437</td><td>9.27998</td><td>1.39809</td><td>21.4811</td><td>0.135787</td><td>6.7884</td><td>0.466793</td><td>21.8206</td><td>0.0723167</td><td>16.562</td><td>2.04905</td><td>20.8522</td><td>0.159326</td><td>14.7172</td><td>2.05301</td><td>20.9804</td><td>0.142293</td><td>19.8649</td><td>2.06533</td><td>20.6548</td><td>0.122692</td></tr>\n",
       "<tr><td>218604</td><td>149.749392908</td><td>1.61806787407</td><td>0.3797</td><td>0</td><td>2.04923844337</td><td>0.971324</td><td>1.15183</td><td>0.228525</td><td>23.7465</td><td>0.182664</td><td>9.07489</td><td>0.115342</td><td>21.5054</td><td>0.0136015</td><td>45.0217</td><td>0.221116</td><td>19.7664</td><td>0.00533363</td><td>77.0638</td><td>0.297251</td><td>19.1829</td><td>0.00416721</td><td>103.175</td><td>0.31891</td><td>18.8661</td><td>0.00335541</td><td>55.8513</td><td>0.197614</td><td>19.5324</td><td>0.00384457</td><td>132.436</td><td>1.1472</td><td>18.595</td><td>0.00929858</td><td>189.365</td><td>1.34702</td><td>18.2068</td><td>0.00774545</td><td>220.849</td><td>1.56645</td><td>18.0398</td><td>0.00762718</td></tr>\n",
       "<tr><td>219020</td><td>150.125092889</td><td>1.6169004891</td><td>0.16</td><td>0</td><td>6.22653222084</td><td>1.47236</td><td>14.6935</td><td>0.423113</td><td>20.9822</td><td>0.0310942</td><td>77.3928</td><td>0.243204</td><td>19.1782</td><td>0.00340383</td><td>235.867</td><td>0.423856</td><td>17.9683</td><td>0.00194743</td><td>345.284</td><td>0.543979</td><td>17.5546</td><td>0.00171097</td><td>462.88</td><td>0.559434</td><td>17.2363</td><td>0.00131094</td><td>274.957</td><td>0.416716</td><td>17.8018</td><td>0.00164398</td><td>629.362</td><td>2.41297</td><td>16.9027</td><td>0.00418714</td><td>779.196</td><td>2.6894</td><td>16.6709</td><td>0.00374976</td><td>915.959</td><td>3.13362</td><td>16.4953</td><td>0.00371911</td></tr>\n",
       "<tr><td>219965</td><td>150.405519262</td><td>1.61906231087</td><td>0.0962</td><td>0</td><td>1.62137550116</td><td>1.80295</td><td>18.8277</td><td>0.50083</td><td>20.713</td><td>0.0291145</td><td>67.6201</td><td>0.253453</td><td>19.3248</td><td>0.00404382</td><td>143.624</td><td>0.403345</td><td>18.5069</td><td>0.00304754</td><td>201.809</td><td>0.518031</td><td>18.1376</td><td>0.00278591</td><td>256.312</td><td>0.561814</td><td>17.8781</td><td>0.00237983</td><td>163.706</td><td>0.343472</td><td>18.3648</td><td>0.00228432</td><td>305.651</td><td>1.77891</td><td>17.6869</td><td>0.00631399</td><td>343.068</td><td>1.87867</td><td>17.5616</td><td>0.00592667</td><td>408.94</td><td>2.16321</td><td>17.3708</td><td>0.0057996</td></tr>\n",
       "<tr><td>219996</td><td>150.328351774</td><td>1.61472055804</td><td>0.5502</td><td>0</td><td>1.53129905462</td><td>0.601325</td><td>0.17203</td><td>0.135868</td><td>25.811</td><td>0.690558</td><td>0.290801</td><td>0.0588502</td><td>25.241</td><td>0.212888</td><td>0.421461</td><td>0.101435</td><td>24.8381</td><td>0.193052</td><td>0.665566</td><td>0.133302</td><td>24.342</td><td>0.205402</td><td>1.0289</td><td>0.159338</td><td>23.8691</td><td>0.224845</td><td>0.603768</td><td>0.0556442</td><td>24.4478</td><td>0.100849</td><td>0.557744</td><td>0.247079</td><td>24.5339</td><td>0.275642</td><td>1.23932</td><td>0.251213</td><td>23.667</td><td>0.228012</td><td>1.44826</td><td>0.258692</td><td>23.4979</td><td>0.202085</td></tr>\n",
       "</table>"
      ],
      "text/plain": [
       "<Table masked=True length=5>\n",
       "  ID         ra           dec       z_true ... H_obs_err H_obs_mag H_obs_mag_err\n",
       "            deg           deg              ...    uJy       mag         mag     \n",
       "int64     float64       float64    float32 ...  float32   float32     float32   \n",
       "------ ------------- ------------- ------- ... --------- --------- -------------\n",
       "216439 149.697605634 1.61663899668  0.0386 ...   2.06533   20.6548      0.122692\n",
       "218604 149.749392908 1.61806787407  0.3797 ...   1.56645   18.0398    0.00762718\n",
       "219020 150.125092889  1.6169004891    0.16 ...   3.13362   16.4953    0.00371911\n",
       "219965 150.405519262 1.61906231087  0.0962 ...   2.16321   17.3708     0.0057996\n",
       "219996 150.328351774 1.61472055804  0.5502 ...  0.258692   23.4979      0.202085"
      ]
     },
     "execution_count": 15,
     "metadata": {},
     "output_type": "execute_result"
    }
   ],
   "source": [
    "filtered_catalog = Table.read('/data/dc3/Catalog/Cosmos/euclid_test_filtered_vist.fits')\n",
    "filtered_catalog[0:5]"
   ]
  },
  {
   "cell_type": "code",
   "execution_count": 20,
   "metadata": {},
   "outputs": [
    {
     "data": {
      "text/plain": [
       "True"
      ]
     },
     "execution_count": 20,
     "metadata": {},
     "output_type": "execute_result"
    }
   ],
   "source": [
    "import functools\n",
    "import operator\n",
    "\n",
    "functools.reduce(operator.and_, ((filtered_catalog['vis_obs'] / filtered_catalog['vis_obs_err']) > 10))"
   ]
  },
  {
   "cell_type": "markdown",
   "metadata": {},
   "source": [
    "#### Let's go again\n",
    "Running again with the proper data. This time NK gave also the photometry."
   ]
  },
  {
   "cell_type": "code",
   "execution_count": 2,
   "metadata": {},
   "outputs": [
    {
     "name": "stdout",
     "output_type": "stream",
     "text": [
      "1000\n"
     ]
    }
   ],
   "source": [
    "ref = nnpz.ReferenceSample('/data/dc3/ReferenceSample/')\n",
    "print(ref.size())"
   ]
  },
  {
   "cell_type": "code",
   "execution_count": 7,
   "metadata": {},
   "outputs": [
    {
     "data": {
      "text/html": [
       "&lt;Table length=5&gt;\n",
       "<table id=\"table140108436343888\" class=\"table-striped table-bordered table-condensed\">\n",
       "<thead><tr><th>ID</th><th>vis</th><th>u</th><th>g</th><th>H</th><th>r</th><th>Y</th><th>z</th><th>i</th><th>J</th></tr></thead>\n",
       "<thead><tr><th>int64</th><th>float32</th><th>float32</th><th>float32</th><th>float32</th><th>float32</th><th>float32</th><th>float32</th><th>float32</th><th>float32</th></tr></thead>\n",
       "<tr><td>121295</td><td>26.4869</td><td>18.4824</td><td>32.8555</td><td>25.828</td><td>27.3304</td><td>20.7665</td><td>23.1308</td><td>26.0305</td><td>22.2821</td></tr>\n",
       "<tr><td>128954</td><td>16.6726</td><td>8.54999</td><td>11.6453</td><td>39.9057</td><td>14.6643</td><td>32.3152</td><td>27.7186</td><td>19.3509</td><td>35.0325</td></tr>\n",
       "<tr><td>136007</td><td>5.29038</td><td>0.362386</td><td>0.767606</td><td>58.3095</td><td>3.22579</td><td>21.4571</td><td>13.8873</td><td>8.91877</td><td>35.6717</td></tr>\n",
       "<tr><td>141392</td><td>5.7108</td><td>4.04466</td><td>5.03874</td><td>12.3457</td><td>5.60821</td><td>8.6494</td><td>7.36713</td><td>5.87749</td><td>10.6898</td></tr>\n",
       "<tr><td>144814</td><td>0.782583</td><td>0.0425814</td><td>0.120669</td><td>18.1678</td><td>0.429319</td><td>6.2394</td><td>3.23257</td><td>1.19749</td><td>11.0263</td></tr>\n",
       "</table>"
      ],
      "text/plain": [
       "<Table length=5>\n",
       "  ID     vis        u        g        H    ...    Y       z       i       J   \n",
       "int64  float32   float32  float32  float32 ... float32 float32 float32 float32\n",
       "------ -------- --------- -------- ------- ... ------- ------- ------- -------\n",
       "121295  26.4869   18.4824  32.8555  25.828 ... 20.7665 23.1308 26.0305 22.2821\n",
       "128954  16.6726   8.54999  11.6453 39.9057 ... 32.3152 27.7186 19.3509 35.0325\n",
       "136007  5.29038  0.362386 0.767606 58.3095 ... 21.4571 13.8873 8.91877 35.6717\n",
       "141392   5.7108   4.04466  5.03874 12.3457 ...  8.6494 7.36713 5.87749 10.6898\n",
       "144814 0.782583 0.0425814 0.120669 18.1678 ...  6.2394 3.23257 1.19749 11.0263"
      ]
     },
     "execution_count": 7,
     "metadata": {},
     "output_type": "execute_result"
    }
   ],
   "source": [
    "photometry = Table.read('/data/dc3/ReferenceSample/phot_F_nu_uJy.fits', hdu=1)\n",
    "photometry[0:5]"
   ]
  },
  {
   "cell_type": "code",
   "execution_count": 37,
   "metadata": {},
   "outputs": [],
   "source": [
    "%matplotlib inline\n",
    "import matplotlib.pyplot as pyplot\n",
    "import numpy as np"
   ]
  },
  {
   "cell_type": "code",
   "execution_count": 28,
   "metadata": {},
   "outputs": [
    {
     "data": {
      "text/plain": [
       "[<matplotlib.lines.Line2D at 0x7f6d835da128>]"
      ]
     },
     "execution_count": 28,
     "metadata": {},
     "output_type": "execute_result"
    },
    {
     "data": {
      "image/png": "[encoded data removed]",
      "text/plain": [
       "<matplotlib.figure.Figure at 0x7f6d8374f400>"
      ]
     },
     "metadata": {},
     "output_type": "display_data"
    }
   ],
   "source": [
    "ids = ref.getIds()\n",
    "pdz1 = ref.getPdzData(ids[100])\n",
    "pdz2 = ref.getPdzData(ids[500])\n",
    "test = pdz1 * 0.5 + pdz2 * 0.5\n",
    "pyplot.plot(pdz1[:,0], pdz1[:,1])\n",
    "pyplot.plot(pdz2[:,0], pdz2[:,1])\n",
    "pyplot.plot(test[:,0], test[:,1])"
   ]
  },
  {
   "cell_type": "markdown",
   "metadata": {},
   "source": [
    "I *think* something like that is what it has to be done."
   ]
  },
  {
   "cell_type": "code",
   "execution_count": 32,
   "metadata": {},
   "outputs": [
    {
     "data": {
      "text/plain": [
       "array([ 0.        ,  0.01      ,  0.02      ,  0.03      ,  0.04      ,\n",
       "        0.05      ,  0.06      ,  0.07      ,  0.08      ,  0.09      ,\n",
       "        0.1       ,  0.11      ,  0.12      ,  0.13      ,  0.14      ,\n",
       "        0.15000001,  0.16      ,  0.17      ,  0.18000001,  0.19      ,\n",
       "        0.2       ,  0.20999999,  0.22      ,  0.23      ,  0.23999999,\n",
       "        0.25      ,  0.25999999,  0.27000001,  0.28      ,  0.28999999,\n",
       "        0.30000001,  0.31      ,  0.31999999,  0.33000001,  0.34      ,\n",
       "        0.34999999,  0.36000001,  0.37      ,  0.38      ,  0.38999999,\n",
       "        0.40000001,  0.41      ,  0.41999999,  0.43000001,  0.44      ,\n",
       "        0.44999999,  0.46000001,  0.47      ,  0.47999999,  0.49000001,\n",
       "        0.5       ,  0.50999999,  0.51999998,  0.52999997,  0.54000002,\n",
       "        0.55000001,  0.56      ,  0.56999999,  0.57999998,  0.58999997,\n",
       "        0.60000002,  0.61000001,  0.62      ,  0.63      ,  0.63999999,\n",
       "        0.64999998,  0.66000003,  0.67000002,  0.68000001,  0.69      ,\n",
       "        0.69999999,  0.70999998,  0.72000003,  0.73000002,  0.74000001,\n",
       "        0.75      ,  0.75999999,  0.76999998,  0.77999997,  0.79000002,\n",
       "        0.80000001,  0.81      ,  0.81999999,  0.82999998,  0.83999997,\n",
       "        0.85000002,  0.86000001,  0.87      ,  0.88      ,  0.88999999,\n",
       "        0.89999998,  0.91000003,  0.92000002,  0.93000001,  0.94      ,\n",
       "        0.94999999,  0.95999998,  0.97000003,  0.98000002,  0.99000001,\n",
       "        1.        ,  1.00999999,  1.01999998,  1.02999997,  1.03999996,\n",
       "        1.04999995,  1.05999994,  1.07000005,  1.08000004,  1.09000003,\n",
       "        1.10000002,  1.11000001,  1.12      ,  1.13      ,  1.13999999,\n",
       "        1.14999998,  1.15999997,  1.16999996,  1.17999995,  1.19000006,\n",
       "        1.20000005,  1.21000004,  1.22000003,  1.23000002,  1.24000001,\n",
       "        1.25      ,  1.25999999,  1.26999998,  1.27999997,  1.28999996,\n",
       "        1.29999995,  1.30999994,  1.32000005,  1.33000004,  1.34000003,\n",
       "        1.35000002,  1.36000001,  1.37      ,  1.38      ,  1.38999999,\n",
       "        1.39999998,  1.40999997,  1.41999996,  1.42999995,  1.44000006,\n",
       "        1.45000005,  1.46000004,  1.47000003,  1.48000002,  1.49000001,\n",
       "        1.5       ,  1.50999999,  1.51999998,  1.52999997,  1.53999996,\n",
       "        1.54999995,  1.55999994,  1.57000005,  1.58000004,  1.59000003,\n",
       "        1.60000002,  1.61000001,  1.62      ,  1.63      ,  1.63999999,\n",
       "        1.64999998,  1.65999997,  1.66999996,  1.67999995,  1.69000006,\n",
       "        1.70000005,  1.71000004,  1.72000003,  1.73000002,  1.74000001,\n",
       "        1.75      ,  1.75999999,  1.76999998,  1.77999997,  1.78999996,\n",
       "        1.79999995,  1.80999994,  1.82000005,  1.83000004,  1.84000003,\n",
       "        1.85000002,  1.86000001,  1.87      ,  1.88      ,  1.88999999,\n",
       "        1.89999998,  1.90999997,  1.91999996,  1.92999995,  1.94000006,\n",
       "        1.95000005,  1.96000004,  1.97000003,  1.98000002,  1.99000001,\n",
       "        2.        ,  2.00999999,  2.01999998,  2.02999997,  2.03999996,\n",
       "        2.04999995,  2.05999994,  2.06999993,  2.07999992,  2.08999991,\n",
       "        2.0999999 ,  2.1099999 ,  2.11999989,  2.13000011,  2.1400001 ,\n",
       "        2.1500001 ,  2.16000009,  2.17000008,  2.18000007,  2.19000006,\n",
       "        2.20000005,  2.21000004,  2.22000003,  2.23000002,  2.24000001,\n",
       "        2.25      ,  2.25999999,  2.26999998,  2.27999997,  2.28999996,\n",
       "        2.29999995,  2.30999994,  2.31999993,  2.32999992,  2.33999991,\n",
       "        2.3499999 ,  2.3599999 ,  2.36999989,  2.38000011,  2.3900001 ,\n",
       "        2.4000001 ,  2.41000009,  2.42000008,  2.43000007,  2.44000006,\n",
       "        2.45000005,  2.46000004,  2.47000003,  2.48000002,  2.49000001,\n",
       "        2.5       ,  2.50999999,  2.51999998,  2.52999997,  2.53999996,\n",
       "        2.54999995,  2.55999994,  2.56999993,  2.57999992,  2.58999991,\n",
       "        2.5999999 ,  2.6099999 ,  2.61999989,  2.63000011,  2.6400001 ,\n",
       "        2.6500001 ,  2.66000009,  2.67000008,  2.68000007,  2.69000006,\n",
       "        2.70000005,  2.71000004,  2.72000003,  2.73000002,  2.74000001,\n",
       "        2.75      ,  2.75999999,  2.76999998,  2.77999997,  2.78999996,\n",
       "        2.79999995,  2.80999994,  2.81999993,  2.82999992,  2.83999991,\n",
       "        2.8499999 ,  2.8599999 ,  2.86999989,  2.88000011,  2.8900001 ,\n",
       "        2.9000001 ,  2.91000009,  2.92000008,  2.93000007,  2.94000006,\n",
       "        2.95000005,  2.96000004,  2.97000003,  2.98000002,  2.99000001,\n",
       "        3.        ,  3.00999999,  3.01999998,  3.02999997,  3.03999996,\n",
       "        3.04999995,  3.05999994,  3.06999993,  3.07999992,  3.08999991,\n",
       "        3.0999999 ,  3.1099999 ,  3.11999989,  3.13000011,  3.1400001 ,\n",
       "        3.1500001 ,  3.16000009,  3.17000008,  3.18000007,  3.19000006,\n",
       "        3.20000005,  3.21000004,  3.22000003,  3.23000002,  3.24000001,\n",
       "        3.25      ,  3.25999999,  3.26999998,  3.27999997,  3.28999996,\n",
       "        3.29999995,  3.30999994,  3.31999993,  3.32999992,  3.33999991,\n",
       "        3.3499999 ,  3.3599999 ,  3.36999989,  3.38000011,  3.3900001 ,\n",
       "        3.4000001 ,  3.41000009,  3.42000008,  3.43000007,  3.44000006,\n",
       "        3.45000005,  3.46000004,  3.47000003,  3.48000002,  3.49000001,\n",
       "        3.5       ,  3.50999999,  3.51999998,  3.52999997,  3.53999996,\n",
       "        3.54999995,  3.55999994,  3.56999993,  3.57999992,  3.58999991,\n",
       "        3.5999999 ,  3.6099999 ,  3.61999989,  3.63000011,  3.6400001 ,\n",
       "        3.6500001 ,  3.66000009,  3.67000008,  3.68000007,  3.69000006,\n",
       "        3.70000005,  3.71000004,  3.72000003,  3.73000002,  3.74000001,\n",
       "        3.75      ,  3.75999999,  3.76999998,  3.77999997,  3.78999996,\n",
       "        3.79999995,  3.80999994,  3.81999993,  3.82999992,  3.83999991,\n",
       "        3.8499999 ,  3.8599999 ,  3.86999989,  3.88000011,  3.8900001 ,\n",
       "        3.9000001 ,  3.91000009,  3.92000008,  3.93000007,  3.94000006,\n",
       "        3.95000005,  3.96000004,  3.97000003,  3.98000002,  3.99000001,\n",
       "        4.        ,  4.01000023,  4.01999998,  4.03000021,  4.03999996,\n",
       "        4.05000019,  4.05999994,  4.07000017,  4.07999992,  4.09000015,\n",
       "        4.0999999 ,  4.11000013,  4.11999989,  4.13000011,  4.13999987,\n",
       "        4.1500001 ,  4.15999985,  4.17000008,  4.17999983,  4.19000006,\n",
       "        4.19999981,  4.21000004,  4.21999979,  4.23000002,  4.23999977,\n",
       "        4.25      ,  4.26000023,  4.26999998,  4.28000021,  4.28999996,\n",
       "        4.30000019,  4.30999994,  4.32000017,  4.32999992,  4.34000015,\n",
       "        4.3499999 ,  4.36000013,  4.36999989,  4.38000011,  4.38999987,\n",
       "        4.4000001 ,  4.40999985,  4.42000008,  4.42999983,  4.44000006,\n",
       "        4.44999981,  4.46000004,  4.46999979,  4.48000002,  4.48999977,\n",
       "        4.5       ,  4.51000023,  4.51999998,  4.53000021,  4.53999996,\n",
       "        4.55000019,  4.55999994,  4.57000017,  4.57999992,  4.59000015,\n",
       "        4.5999999 ,  4.61000013,  4.61999989,  4.63000011,  4.63999987,\n",
       "        4.6500001 ,  4.65999985,  4.67000008,  4.67999983,  4.69000006,\n",
       "        4.69999981,  4.71000004,  4.71999979,  4.73000002,  4.73999977,\n",
       "        4.75      ,  4.76000023,  4.76999998,  4.78000021,  4.78999996,\n",
       "        4.80000019,  4.80999994,  4.82000017,  4.82999992,  4.84000015,\n",
       "        4.8499999 ,  4.86000013,  4.86999989,  4.88000011,  4.88999987,\n",
       "        4.9000001 ,  4.90999985,  4.92000008,  4.92999983,  4.94000006,\n",
       "        4.94999981,  4.96000004,  4.96999979,  4.98000002,  4.98999977,\n",
       "        5.        ,  5.01000023,  5.01999998,  5.03000021,  5.03999996,\n",
       "        5.05000019,  5.05999994,  5.07000017,  5.07999992,  5.09000015,\n",
       "        5.0999999 ,  5.11000013,  5.11999989,  5.13000011,  5.13999987,\n",
       "        5.1500001 ,  5.15999985,  5.17000008,  5.17999983,  5.19000006,\n",
       "        5.19999981,  5.21000004,  5.21999979,  5.23000002,  5.23999977,\n",
       "        5.25      ,  5.26000023,  5.26999998,  5.28000021,  5.28999996,\n",
       "        5.30000019,  5.30999994,  5.32000017,  5.32999992,  5.34000015,\n",
       "        5.3499999 ,  5.36000013,  5.36999989,  5.38000011,  5.38999987,\n",
       "        5.4000001 ,  5.40999985,  5.42000008,  5.42999983,  5.44000006,\n",
       "        5.44999981,  5.46000004,  5.46999979,  5.48000002,  5.48999977,\n",
       "        5.5       ,  5.51000023,  5.51999998,  5.53000021,  5.53999996,\n",
       "        5.55000019,  5.55999994,  5.57000017,  5.57999992,  5.59000015,\n",
       "        5.5999999 ,  5.61000013,  5.61999989,  5.63000011,  5.63999987,\n",
       "        5.6500001 ,  5.65999985,  5.67000008,  5.67999983,  5.69000006,\n",
       "        5.69999981,  5.71000004,  5.71999979,  5.73000002,  5.73999977,\n",
       "        5.75      ,  5.76000023,  5.76999998,  5.78000021,  5.78999996,\n",
       "        5.80000019,  5.80999994,  5.82000017,  5.82999992,  5.84000015,\n",
       "        5.8499999 ,  5.86000013,  5.86999989,  5.88000011,  5.88999987,\n",
       "        5.9000001 ,  5.90999985,  5.92000008,  5.92999983,  5.94000006,\n",
       "        5.94999981,  5.96000004,  5.96999979,  5.98000002,  5.98999977,  6.        ], dtype=float32)"
      ]
     },
     "execution_count": 32,
     "metadata": {},
     "output_type": "execute_result"
    }
   ],
   "source": [
    "ref.getPdzData(ids[0])[:,0]"
   ]
  },
  {
   "cell_type": "markdown",
   "metadata": {},
   "source": [
    "Let's see. The first implementation is done. Preview:"
   ]
  },
  {
   "cell_type": "code",
   "execution_count": 55,
   "metadata": {},
   "outputs": [
    {
     "data": {
      "text/plain": [
       "[<matplotlib.lines.Line2D at 0x7f6d828e9390>]"
      ]
     },
     "execution_count": 55,
     "metadata": {},
     "output_type": "execute_result"
    },
    {
     "data": {
      "image/png": "[encoded data removed]",
      "text/plain": [
       "<matplotlib.figure.Figure at 0x7f6d82b2eeb8>"
      ]
     },
     "metadata": {},
     "output_type": "display_data"
    }
   ],
   "source": [
    "nnpz_out = Table.read('/data/dc3/nnpz/out.fits')\n",
    "pdz_vals, pdz_bins = nnpz_out[0]['CoaddedPdz'], nnpz_out[0]['CoaddedPdzBins']\n",
    "pyplot.plot(pdz_bins, pdz_vals)"
   ]
  },
  {
   "cell_type": "code",
   "execution_count": 56,
   "metadata": {},
   "outputs": [
    {
     "data": {
      "text/plain": [
       "0.99999994"
      ]
     },
     "execution_count": 56,
     "metadata": {},
     "output_type": "execute_result"
    }
   ],
   "source": [
    "np.trapz(pdz_vals, pdz_bins)"
   ]
  },
  {
   "cell_type": "code",
   "execution_count": 57,
   "metadata": {},
   "outputs": [
    {
     "data": {
      "text/plain": [
       "[<matplotlib.lines.Line2D at 0x7f6d82c6cef0>]"
      ]
     },
     "execution_count": 57,
     "metadata": {},
     "output_type": "execute_result"
    },
    {
     "data": {
      "image/png": "[encoded data removed]",
      "text/plain": [
       "<matplotlib.figure.Figure at 0x7f6d82ce2eb8>"
      ]
     },
     "metadata": {},
     "output_type": "display_data"
    }
   ],
   "source": [
    "pdz_vals, pdz_bins = nnpz_out[600]['CoaddedPdz'], nnpz_out[600]['CoaddedPdzBins']\n",
    "pyplot.plot(pdz_bins, pdz_vals)"
   ]
  },
  {
   "cell_type": "code",
   "execution_count": 58,
   "metadata": {},
   "outputs": [
    {
     "data": {
      "text/plain": [
       "0.99999994"
      ]
     },
     "execution_count": 58,
     "metadata": {},
     "output_type": "execute_result"
    }
   ],
   "source": [
    "np.trapz(pdz_vals, pdz_bins)"
   ]
  },
  {
   "cell_type": "code",
   "execution_count": 59,
   "metadata": {},
   "outputs": [
    {
     "data": {
      "text/plain": [
       "[<matplotlib.lines.Line2D at 0x7f6d82ab13c8>]"
      ]
     },
     "execution_count": 59,
     "metadata": {},
     "output_type": "execute_result"
    },
    {
     "data": {
      "image/png": "[encoded data removed]",
      "text/plain": [
       "<matplotlib.figure.Figure at 0x7f6d82a6eba8>"
      ]
     },
     "metadata": {},
     "output_type": "display_data"
    }
   ],
   "source": [
    "higher_redshift = nnpz_out[nnpz_out['z_true'] > 3][0]\n",
    "pdz_vals, pdz_bins = higher_redshift['CoaddedPdz'], higher_redshift['CoaddedPdzBins']\n",
    "pyplot.plot(pdz_bins, pdz_vals)"
   ]
  },
  {
   "cell_type": "code",
   "execution_count": 60,
   "metadata": {},
   "outputs": [
    {
     "data": {
      "text/plain": [
       "3.5009999"
      ]
     },
     "execution_count": 60,
     "metadata": {},
     "output_type": "execute_result"
    }
   ],
   "source": [
    "higher_redshift['z_true']"
   ]
  },
  {
   "cell_type": "markdown",
   "metadata": {},
   "source": [
    "Looks kind of ok, no? Adding quantiles to the output and using the median."
   ]
  },
  {
   "cell_type": "code",
   "execution_count": 73,
   "metadata": {},
   "outputs": [],
   "source": [
    "diff = nnpz_out['Q_50'] - nnpz_out['z_true']\n",
    "diff=diff[np.isnan(diff)==False]\n",
    "err=diff*diff"
   ]
  },
  {
   "cell_type": "code",
   "execution_count": 75,
   "metadata": {},
   "outputs": [
    {
     "data": {
      "text/plain": [
       "(array([ 818.,   22.,    7.,    6.,    6.,    6.,    3.,    4.,    6.,\n",
       "           2.,    3.,    2.,    4.,    2.,    2.,    2.,    0.,    2.,\n",
       "           0.,    1.]),\n",
       " array([  8.88178420e-16,   6.18941212e-01,   1.23788242e+00,\n",
       "          1.85682364e+00,   2.47576485e+00,   3.09470606e+00,\n",
       "          3.71364727e+00,   4.33258848e+00,   4.95152969e+00,\n",
       "          5.57047091e+00,   6.18941212e+00,   6.80835333e+00,\n",
       "          7.42729454e+00,   8.04623575e+00,   8.66517696e+00,\n",
       "          9.28411818e+00,   9.90305939e+00,   1.05220006e+01,\n",
       "          1.11409418e+01,   1.17598830e+01,   1.23788242e+01]),\n",
       " <a list of 20 Patch objects>)"
      ]
     },
     "execution_count": 75,
     "metadata": {},
     "output_type": "execute_result"
    },
    {
     "data": {
      "image/png": "[encoded data removed]",
      "text/plain": [
       "<matplotlib.figure.Figure at 0x7f6d82d336d8>"
      ]
     },
     "metadata": {},
     "output_type": "display_data"
    }
   ],
   "source": [
    "pyplot.hist(err, bins=20)"
   ]
  }
 ],
 "metadata": {
  "kernelspec": {
   "display_name": "Python 3",
   "language": "python",
   "name": "python3"
  },
  "language_info": {
   "codemirror_mode": {
    "name": "ipython",
    "version": 3
   },
   "file_extension": ".py",
   "mimetype": "text/x-python",
   "name": "python",
   "nbconvert_exporter": "python",
   "pygments_lexer": "ipython3",
   "version": "3.6.4"
  }
 },
 "nbformat": 4,
 "nbformat_minor": 2
}
