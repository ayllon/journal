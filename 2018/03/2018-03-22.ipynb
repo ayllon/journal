{
 "cells": [
  {
   "cell_type": "markdown",
   "metadata": {},
   "source": [
    "### Read-out error\n",
    "CDD sensors read \"electrons\" triggered by photons. There may be\n",
    "extra electrons not  caused by the photons. This introduces noise.\n",
    "\n",
    "This error is not very relevant for large exposures, but becomes\n",
    "important for short exposures\n",
    "\n",
    "Euclid will get long exposures for parts of the Universe, and these will\n",
    "be high quality data used as a reference for the classification of other objects.\n",
    "\n",
    "There are also errors coming from the source itself: the number of photons\n",
    "emited have a \"statistical\" value of X, but at the moment of the picture, there may be\n",
    "more, or less.\n",
    "\n",
    "We want to increase the signal/noise ratio. This can be done with longer\n",
    "exposures, or with multiple ones.\n",
    "\n",
    "SExtractor makes the measures from the images.\n",
    "\n",
    "### Template fitting for high quality objects\n",
    "#Phosphoros is used for template fitting, to calculate the red shift of astronomical\n",
    "objects (see, galaxies).\n",
    "\n",
    "Other objects, measured with shorter exposures, are classified using the high quality\n",
    "objects as a reference, and then classified according to their nearest neighbors.\n",
    "\n",
    "### Measures\n",
    "f-lambda, f-nu, magnitude (how bright)\n",
    "As for magnitude, it can be AB #magnitude (using physical constants), or relative (i.e to vega, logarithmic\n",
    "scale, -1 = twice, 1 = half)."
   ]
  }
 ],
 "metadata": {
  "kernelspec": {
   "display_name": "Python 3",
   "language": "python",
   "name": "python3"
  },
  "language_info": {
   "codemirror_mode": {
    "name": "ipython",
    "version": 3
   },
   "file_extension": ".py",
   "mimetype": "text/x-python",
   "name": "python",
   "nbconvert_exporter": "python",
   "pygments_lexer": "ipython3",
   "version": "3.6.4"
  }
 },
 "nbformat": 4,
 "nbformat_minor": 2
}
