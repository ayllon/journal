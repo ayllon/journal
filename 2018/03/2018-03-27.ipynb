{
 "cells": [
  {
   "cell_type": "markdown",
   "metadata": {},
   "source": [
    "### NNPZ\n",
    "Asked to write an output column for *nnpz* to generate the co-added PDZ,\n",
    "using the neighbors for a given object.\n",
    "\n",
    "Need to ask Joan for the reference sample.\n",
    "\n",
    "Then run over it the *NnpzBuildPhotometry* to generate the photometries, which will generate the file\n",
    "configured with `reference_sample_phot_file`\n",
    "\n",
    "New output to be written under nnpz/io/output_column_provides.\n",
    "Right now the output is generated using the true redshift, must use a weighted sum of all the\n",
    "neighbors for the object.\n",
    "\n",
    "From the reference sample we can get the bins for the redshift.\n",
    "\n",
    "Construct with 0 and then generate.\n",
    "\n",
    "Cache the reference sample, as the calls with the same reference_i are going to come one after the other.\n",
    "\n",
    "Keep the normalization bit.\n",
    "\n",
    "\n",
    "### About the tables ID\n",
    "Not priority, but can work on if it I want. Will get exposure to metaprogramming and the like.\n",
    "I am getting an error with Phosphoros though, even though the API is kept."
   ]
  }
 ],
 "metadata": {
  "kernelspec": {
   "display_name": "Python 3",
   "language": "python",
   "name": "python3"
  },
  "language_info": {
   "codemirror_mode": {
    "name": "ipython",
    "version": 3
   },
   "file_extension": ".py",
   "mimetype": "text/x-python",
   "name": "python",
   "nbconvert_exporter": "python",
   "pygments_lexer": "ipython3",
   "version": "3.6.4"
  }
 },
 "nbformat": 4,
 "nbformat_minor": 2
}
