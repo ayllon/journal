{
 "cells": [
  {
   "cell_type": "code",
   "execution_count": 1,
   "metadata": {},
   "outputs": [],
   "source": [
    "%matplotlib inline\n",
    "import matplotlib.pyplot as plt\n",
    "import numpy as np\n",
    "import os\n",
    "import shutil\n",
    "import subprocess\n",
    "import sys\n",
    "import time\n",
    "\n",
    "from astropy.table import Table\n",
    "from astropy.io import fits"
   ]
  },
  {
   "cell_type": "markdown",
   "metadata": {},
   "source": [
    "### Handy functions and globals"
   ]
  },
  {
   "cell_type": "code",
   "execution_count": 2,
   "metadata": {},
   "outputs": [],
   "source": [
    "nnpz_dir = '/home/aalvarez/Work/Projects/NNPZ'\n",
    "nnpz_bin = os.path.join(nnpz_dir, 'bin', 'nnpz')\n",
    "nnpzphoto_bin = os.path.join(nnpz_dir, 'bin', 'NnpzBuildPhotometry')\n",
    "reference_sample = '/home/aalvarez/Work/Data/dc3/ReferenceSample'\n",
    "nnpz_env = os.environ.copy()\n",
    "nnpz_env['PYTHONPATH'] = nnpz_env.get('PYTHONPATH', '') + ':' + nnpz_dir\n",
    "\n",
    "output_dir = '/home/aalvarez/Work/Data/coupon/ComparativeMethods_Shift'"
   ]
  },
  {
   "cell_type": "code",
   "execution_count": 3,
   "metadata": {},
   "outputs": [],
   "source": [
    "nnpz_original_config_file = '/home/aalvarez/Work/Data/coupon/nnpz.conf'\n",
    "target_catalog = '/home/aalvarez/Work/Data/coupon/fluxes_COSMOS15_test_with_means.fits'\n",
    "fluxes_file = '/home/aalvarez/Work/Data/coupon/fluxes.fits'"
   ]
  },
  {
   "cell_type": "code",
   "execution_count": 4,
   "metadata": {},
   "outputs": [],
   "source": [
    "def create_shifted_filter_set(original_dir, new_dir, filter_shifted, shift):\n",
    "    shutil.rmtree(new_dir, ignore_errors=True)\n",
    "    shutil.copytree(original_dir, new_dir)\n",
    "    \n",
    "    filter_ascii_file = os.path.join(original_dir, filter_shifted) + '.ascii'\n",
    "    filter_table = Table.read(filter_ascii_file, format='ascii')\n",
    "    filter_table['col1'] += int(np.rint(shift))\n",
    "    \n",
    "    filter_table.write(filter_ascii_file, format='ascii')"
   ]
  },
  {
   "cell_type": "code",
   "execution_count": 5,
   "metadata": {},
   "outputs": [],
   "source": [
    "def compare_filters(original_dir, new_dir, filter_name):\n",
    "    original = Table.read(os.path.join(original_dir, filter_name) + '.ascii', format='ascii')\n",
    "    compared = Table.read(os.path.join(new_dir, filter_name) + '.ascii', format='ascii')\n",
    "    plt.plot(original['col1'], original['col2'], label='Original')\n",
    "    plt.plot(compared['col1'], compared['col2'], label='New')"
   ]
  },
  {
   "cell_type": "code",
   "execution_count": 6,
   "metadata": {},
   "outputs": [],
   "source": [
    "def rebuild_photometry(photometry_output, filters_dir):\n",
    "    if os.path.exists(photometry_output):\n",
    "        print(f\"{photometry_output} already exists, so skipping run\")\n",
    "        return\n",
    "        \n",
    "    nnpzphoto_proc = subprocess.Popen([\n",
    "        nnpzphoto_bin,\n",
    "        '--sample-dir', reference_sample,\n",
    "        '--filters', filters_dir,\n",
    "        '--out-type', 'F_nu_uJy',\n",
    "        '--out-file', photometry_output\n",
    "    ], env=nnpz_env, stdout=subprocess.PIPE, stderr=subprocess.STDOUT)\n",
    "    while nnpzphoto_proc.poll() is None:\n",
    "        print(nnpzphoto_proc.stdout.readline().decode('utf-8'), end='')"
   ]
  },
  {
   "cell_type": "code",
   "execution_count": 7,
   "metadata": {},
   "outputs": [],
   "source": [
    "def run_nnpz(nnpz_bin, nnpz_config, nnpz_env):\n",
    "    nnpz_config_file = '/tmp/nnpz_tests/nnpz.conf'\n",
    "    if os.path.exists(nnpz_config_file):\n",
    "        os.unlink(nnpz_config_file)\n",
    "\n",
    "    if os.path.exists(nnpz_config['output_file']):\n",
    "        print(f\"{nnpz_config['output_file']} already exists, so skipping run\")\n",
    "        return 0\n",
    "        \n",
    "    with open(nnpz_config_file, mode='w') as fd:\n",
    "        for key, value in nnpz_config.items():\n",
    "            if not key.startswith('_'):\n",
    "                if isinstance(value, str):\n",
    "                    print(f'{key} = \"{value}\"', file=fd)\n",
    "                else:\n",
    "                    print(f'{key} = {value}', file=fd)\n",
    "\n",
    "    start = time.monotonic()\n",
    "    nnpz_proc = subprocess.Popen(\n",
    "        [nnpz_bin, nnpz_config_file],\n",
    "        env=nnpz_env, stdout=subprocess.PIPE, stderr=subprocess.STDOUT\n",
    "    )\n",
    "    while nnpz_proc.poll() is None:\n",
    "        print(nnpz_proc.stdout.readline().decode('utf-8'), end='')\n",
    "    end = time.monotonic()\n",
    "    return end - start"
   ]
  },
  {
   "cell_type": "code",
   "execution_count": 8,
   "metadata": {},
   "outputs": [],
   "source": [
    "def plot_matching(reference, target):\n",
    "    max_count = reference['NeighborIDs'].shape[1]\n",
    "    counts = np.zeros(max_count + 1) # One position per count (so 0 to as many neighbours in the reference)\n",
    "    for r, t in zip(reference, target):\n",
    "        c = np.isin(r['NeighborIDs'], t['NeighborIDs']).sum()\n",
    "        counts[c] += 1\n",
    "    plt.hist(range(max_count + 1), weights=counts)\n",
    "    return counts"
   ]
  },
  {
   "cell_type": "code",
   "execution_count": 9,
   "metadata": {},
   "outputs": [],
   "source": [
    "def get_filter_shift(original, new):\n",
    "    fluxes_hdul = fits.open(fluxes_file)\n",
    "    original_hdu = fluxes_hdul[original]\n",
    "    new_hdu = fluxes_hdul[new]\n",
    "    original_mean = np.average(original_hdu.data['Wavelength'], weights=original_hdu.data['Transmission'])\n",
    "    new_mean = np.average(new_hdu.data['Wavelength'], weights=new_hdu.data['Transmission'])\n",
    "    return new_mean - original_mean"
   ]
  },
  {
   "cell_type": "markdown",
   "metadata": {},
   "source": [
    "## Compare \"real\" neighbours when using shifts\n",
    "See task [#16305](https://redmine.isdc.unige.ch/issues/16305?next_issue_id=16303).\n",
    "\n",
    "Since we are going to compare the worst case (greatest mean wavelength shift),\n",
    "we need to recompute the photometry for the reference sample with an `r` filter\n",
    "thas has been shifted as well."
   ]
  },
  {
   "cell_type": "markdown",
   "metadata": {},
   "source": [
    "### Copy filter transmissions shifting 'r'"
   ]
  },
  {
   "cell_type": "code",
   "execution_count": 10,
   "metadata": {},
   "outputs": [],
   "source": [
    "original_filters_dir = '/home/aalvarez/Work/Data/dc3/AuxiliaryData/Filters/Euclid'\n",
    "filters_dir = '/tmp/nnpz_tests/Shift9Filters'\n",
    "filter_shifted = 'r'\n",
    "filter_shift = 100"
   ]
  },
  {
   "cell_type": "markdown",
   "metadata": {},
   "source": [
    "We create a copy of this filters, shifting `filter_shifted`"
   ]
  },
  {
   "cell_type": "code",
   "execution_count": 11,
   "metadata": {},
   "outputs": [
    {
     "data": {
      "image/png": "[encoded data removed]",
      "text/plain": [
       "<Figure size 432x288 with 1 Axes>"
      ]
     },
     "metadata": {},
     "output_type": "display_data"
    }
   ],
   "source": [
    "create_shifted_filter_set(original_filters_dir, filters_dir, filter_shifted, filter_shift)\n",
    "compare_filters(original_filters_dir, filters_dir, filter_shifted)"
   ]
  },
  {
   "cell_type": "markdown",
   "metadata": {},
   "source": [
    "### Recompute photometries for the reference sample using the shifted filter"
   ]
  },
  {
   "cell_type": "code",
   "execution_count": 12,
   "metadata": {},
   "outputs": [],
   "source": [
    "r_shift_9_reference_photometry = '/tmp/nnpz_tests/Shift9ReferencePhotometry.fits'"
   ]
  },
  {
   "cell_type": "code",
   "execution_count": 13,
   "metadata": {},
   "outputs": [
    {
     "name": "stdout",
     "output_type": "stream",
     "text": [
      "\n",
      "Opening reference sample /home/aalvarez/Work/Data/dc3/ReferenceSample...\n",
      "Successfully opened reference sample\n",
      "\n",
      "Reading filter transmissions from /tmp/nnpz_tests/Shift9Filters...\n",
      "    Y\n",
      "    i\n",
      "    J\n",
      "    u\n",
      "    r\n",
      "    g\n",
      "    z\n",
      "    H\n",
      "    vis\n",
      "Successfully read filter transmissions\n",
      "\n",
      "Computing photometry values...\n",
      "    Photometry type: F_nu_uJy\n",
      "    Progress: 0%\n",
      "    Progress: 1%\n",
      "    Progress: 2%\n",
      "    Progress: 3%\n",
      "    Progress: 4%\n",
      "    Progress: 5%\n",
      "    Progress: 6%\n",
      "    Progress: 7%\n",
      "    Progress: 8%\n",
      "    Progress: 9%\n",
      "    Progress: 10%\n",
      "    Progress: 11%\n",
      "    Progress: 12%\n",
      "    Progress: 13%\n",
      "    Progress: 14%\n",
      "    Progress: 15%\n",
      "    Progress: 16%\n",
      "    Progress: 17%\n",
      "    Progress: 18%\n",
      "    Progress: 19%\n",
      "    Progress: 20%\n",
      "    Progress: 21%\n",
      "    Progress: 22%\n",
      "    Progress: 23%\n",
      "    Progress: 24%\n",
      "    Progress: 25%\n",
      "    Progress: 26%\n",
      "    Progress: 27%\n",
      "    Progress: 28%\n",
      "    Progress: 29%\n",
      "    Progress: 30%\n",
      "    Progress: 31%\n",
      "    Progress: 32%\n",
      "    Progress: 33%\n",
      "    Progress: 34%\n",
      "    Progress: 35%\n",
      "    Progress: 36%\n",
      "    Progress: 37%\n",
      "    Progress: 38%\n",
      "    Progress: 39%\n",
      "    Progress: 40%\n",
      "    Progress: 41%\n",
      "    Progress: 42%\n",
      "    Progress: 43%\n",
      "    Progress: 44%\n",
      "    Progress: 45%\n",
      "    Progress: 46%\n",
      "    Progress: 47%\n",
      "    Progress: 48%\n",
      "    Progress: 49%\n",
      "    Progress: 50%\n",
      "    Progress: 51%\n",
      "    Progress: 52%\n",
      "    Progress: 53%\n",
      "    Progress: 54%\n",
      "    Progress: 55%\n",
      "    Progress: 56%\n",
      "    Progress: 57%\n",
      "    Progress: 58%\n",
      "    Progress: 59%\n",
      "    Progress: 60%\n",
      "    Progress: 61%\n",
      "    Progress: 62%\n",
      "    Progress: 63%\n",
      "    Progress: 64%\n",
      "    Progress: 65%\n",
      "    Progress: 66%\n",
      "    Progress: 67%\n",
      "    Progress: 68%\n",
      "    Progress: 69%\n",
      "    Progress: 70%\n",
      "    Progress: 71%\n",
      "    Progress: 72%\n",
      "    Progress: 73%\n",
      "    Progress: 74%\n",
      "    Progress: 75%\n",
      "    Progress: 76%\n",
      "    Progress: 77%\n",
      "    Progress: 78%\n",
      "    Progress: 79%\n",
      "    Progress: 80%\n",
      "    Progress: 81%\n",
      "    Progress: 82%\n",
      "    Progress: 83%\n",
      "    Progress: 84%\n",
      "    Progress: 85%\n",
      "    Progress: 86%\n",
      "    Progress: 87%\n",
      "    Progress: 88%\n",
      "    Progress: 89%\n",
      "    Progress: 90%\n",
      "    Progress: 91%\n",
      "    Progress: 92%\n",
      "    Progress: 93%\n",
      "    Progress: 94%\n",
      "    Progress: 95%\n",
      "    Progress: 96%\n",
      "    Progress: 97%\n",
      "    Progress: 98%\n",
      "    Progress: 99%\n",
      "Successfully computed photometry for 518404 objects\n",
      "\n",
      "Creating output...\n",
      "Photometry created in /tmp/nnpz_tests/Shift9ReferencePhotometry.fits\n"
     ]
    }
   ],
   "source": [
    "rebuild_photometry(r_shift_9_reference_photometry, filters_dir)"
   ]
  },
  {
   "cell_type": "markdown",
   "metadata": {},
   "source": [
    "### Find \"real\" neighbours\n",
    "Ok, so we have re-computed the photometry shifting the filter `r` by 100, which is the maximum shift value on the catalog\n",
    "generated by Coupon.\n",
    "\n",
    "We need now to run NNPZ using *only* bruteforce ($\\chi^2$ distance) to find the best 30 against `r_shift_9` (which is shifted by 100).\n",
    "\n",
    "To make things easier, we patch an existing configuration file."
   ]
  },
  {
   "cell_type": "code",
   "execution_count": 14,
   "metadata": {},
   "outputs": [],
   "source": [
    "real_output_file = os.path.join(output_dir, 'Shift9Real.fits')"
   ]
  },
  {
   "cell_type": "code",
   "execution_count": 15,
   "metadata": {},
   "outputs": [],
   "source": [
    "nnpz_config = {}\n",
    "with open(nnpz_original_config_file) as fd:\n",
    "    exec(fd.read(), nnpz_config)"
   ]
  },
  {
   "cell_type": "code",
   "execution_count": 16,
   "metadata": {},
   "outputs": [],
   "source": [
    "nnpz_config['reference_sample_dir'] = reference_sample\n",
    "nnpz_config['reference_sample_phot_file'] = r_shift_9_reference_photometry\n",
    "nnpz_config['target_catalog'] = target_catalog\n",
    "nnpz_config['target_catalog_filters'] = [\n",
    "    ('u_obs', 'u_obs_err'),\n",
    "    ('g_obs', 'g_obs_err'),\n",
    "    ('r_shift9_obs', 'r_shift9_obs_err'),\n",
    "    ('i_obs', 'i_obs_err'),\n",
    "    ('z_obs', 'z_obs_err'),\n",
    "    ('vis_obs', 'vis_obs_err'),\n",
    "    ('Y_obs', 'Y_obs_err'),\n",
    "    ('J_obs', 'J_obs_err'),\n",
    "    ('H_obs', 'H_obs_err')\n",
    "]\n",
    "nnpz_config['target_catalog_filters_mean'] = None\n",
    "nnpz_config['input_size'] = 10000 # To be changed\n",
    "nnpz_config['neighbor_method'] = 'BruteForce'\n",
    "nnpz_config['neighbors_no'] = 30\n",
    "nnpz_config['output_file'] = real_output_file\n",
    "if 'pdz_mc_samples' in nnpz_config:\n",
    "    del nnpz_config['pdz_mc_samples']"
   ]
  },
  {
   "cell_type": "code",
   "execution_count": 17,
   "metadata": {},
   "outputs": [
    {
     "name": "stdout",
     "output_type": "stream",
     "text": [
      "Configuration file: /tmp/nnpz_tests/nnpz.conf\n",
      "Running NNPZ with the following options:\n",
      "    target_transmission_provider : shifted\n",
      "    log_level : DEBUG\n",
      "    output_file : /home/aalvarez/Work/Data/coupon/ComparativeMethods_Shift/Shift9Real.fits\n",
      "    copy_input_columns : True\n",
      "    reference_sample_phot_file : /tmp/nnpz_tests/Shift9ReferencePhotometry.fits\n",
      "    weight_method : Likelihood\n",
      "    input_size : 10000\n",
      "    flags_in_separate_columns : True\n",
      "    reference_sample_dir : /home/aalvarez/Work/Data/dc3/ReferenceSample\n",
      "    neighbors_no : 30\n",
      "    target_catalog_filters_mean : None\n",
      "    batch_size : 2000\n",
      "    target_catalog_filters : [('u_obs', 'u_obs_err'), ('g_obs', 'g_obs_err'), ('r_shift9_obs', 'r_shift9_obs_err'), ('i_obs', 'i_obs_err'), ('z_obs', 'z_obs_err'), ('vis_obs', 'vis_obs_err'), ('Y_obs', 'Y_obs_err'), ('J_obs', 'J_obs_err'), ('H_obs', 'H_obs_err')]\n",
      "    target_catalog : /home/aalvarez/Work/Data/coupon/fluxes_COSMOS15_test_with_means.fits\n",
      "    reference_sample_phot_filters : ['u', 'g', 'r', 'i', 'z', 'vis', 'Y', 'J', 'H']\n",
      "    reference_catalog_filters : [('u_obs', 'u_obs_err'), ('g_obs', 'g_obs_err'), ('r_obs', 'r_obs_err'), ('i_obs', 'i_obs_err'), ('z_obs', 'z_obs_err'), ('vis_obs', 'vis_obs_err'), ('Y_obs', 'Y_obs_err'), ('J_obs', 'J_obs_err'), ('H_obs', 'H_obs_err')]\n",
      "    neighbor_method : BruteForce\n",
      "    reference_catalog_redshift : z_true\n",
      "    missing_photometry_flags : [-99]\n",
      "    weight_method_alternative : Chi2\n",
      "    reference_catalog_out_mean_phot_filters : [('u_obs', 'u_obs_err'), ('g_obs', 'g_obs_err'), ('r_obs', 'r_obs_err'), ('i_obs', 'i_obs_err'), ('z_obs', 'z_obs_err'), ('vis_obs', 'vis_obs_err'), ('Y_obs', 'Y_obs_err'), ('J_obs', 'J_obs_err'), ('H_obs', 'H_obs_err')]\n",
      "    neighbor_info_output : True\n",
      "    pdz_quantiles : [0.25, 0.5]\n",
      "    reference_sample_out_mean_phot_filters : ['u', 'g', 'r', 'i', 'z', 'vis', 'Y', 'J', 'H']\n",
      "\n",
      "Target catalog photometric columns: [('u_obs', 'u_obs_err'), ('g_obs', 'g_obs_err'), ('r_shift9_obs', 'r_shift9_obs_err'), ('i_obs', 'i_obs_err'), ('z_obs', 'z_obs_err'), ('vis_obs', 'vis_obs_err'), ('Y_obs', 'Y_obs_err'), ('J_obs', 'J_obs_err'), ('H_obs', 'H_obs_err')]\n",
      "Reading target catalog: /home/aalvarez/Work/Data/coupon/fluxes_COSMOS15_test_with_means.fits\n",
      "Processing only first 10000 objects from target catalog\n",
      "Reading reference sample from /home/aalvarez/Work/Data/dc3/ReferenceSample...\n",
      "Reading reference sample done\n",
      "Using reference sample photometry from /tmp/nnpz_tests/Shift9ReferencePhotometry.fits\n",
      "Reference sample photometric bands: ['u', 'g', 'r', 'i', 'z', 'vis', 'Y', 'J', 'H']\n",
      "Using copied photometries for weight calculation\n",
      "Finding neighbors... 100%   \n",
      "Computing neighbor weights...100%511 objects with all weights set to 0, using alternative weight\n",
      "[   1    2    3   23   58  115  148  179  192  219  247  253  309  334  361\n",
      "  367  372  388  404  406  410  426  439  452  453  486  504  520  527  532\n",
      "  533  535  573  574  577  583  589  595  615  671  675  693  701  711  757\n",
      "  771  775  785  792  817  860  870  884  896  897  915  923  936  938  954\n",
      "  965  971 1009 1027 1029 1033 1051 1102 1116 1159 1184 1240 1241 1343 1345\n",
      " 1350 1357 1392 1438 1439 1458 1495 1500 1505 1518 1520 1532 1591 1595 1628\n",
      " 1633 1652 1675 1690 1700 1711 1742 1751 1761 1784 1808 1809 1820 1843 1864\n",
      " 1890 1951 1958 1977 2019 2077 2096 2105 2119 2129 2138 2206 2210 2229 2246\n",
      " 2258 2330 2347 2370 2379 2383 2408 2409 2451 2457 2479 2485 2489 2509 2510\n",
      " 2535 2538 2568 2596 2598 2603 2636 2641 2671 2679 2687 2696 2712 2713 2714\n",
      " 2726 2783 2804 2811 2812 2818 2823 2872 2898 2916 2932 2988 2998 3005 3023\n",
      " 3029 3036 3066 3073 3079 3083 3085 3095 3098 3192 3211 3225 3234 3236 3245\n",
      " 3279 3283 3295 3340 3366 3406 3419 3427 3442 3447 3481 3513 3523 3607 3617\n",
      " 3733 3737 3908 3922 3931 3952 3975 3981 3982 4006 4017 4021 4031 4148 4170\n",
      " 4174 4183 4222 4224 4288 4292 4311 4321 4387 4404 4408 4430 4432 4439 4465\n",
      " 4473 4477 4517 4547 4548 4557 4576 4581 4585 4649 4656 4663 4695 4703 4719\n",
      " 4727 4793 4798 4824 4833 4834 4852 4872 4887 4956 5032 5043 5056 5075 5084\n",
      " 5095 5111 5126 5149 5152 5162 5167 5168 5185 5224 5225 5232 5245 5248 5261\n",
      " 5264 5281 5308 5315 5327 5347 5354 5370 5401 5413 5495 5500 5501 5504 5544\n",
      " 5557 5560 5584 5602 5648 5674 5676 5680 5686 5745 5780 5796 5868 5870 5937\n",
      " 5979 6054 6068 6085 6115 6130 6165 6185 6212 6229 6246 6283 6297 6305 6325\n",
      " 6360 6388 6440 6444 6481 6496 6503 6508 6526 6534 6537 6541 6548 6562 6592\n",
      " 6598 6610 6617 6619 6634 6643 6661 6667 6669 6684 6711 6720 6725 6729 6738\n",
      " 6756 6787 6798 6802 6810 6821 6843 6853 6872 6875 6877 6889 6939 6943 6946\n",
      " 6952 6956 6965 6967 6973 6991 7017 7029 7105 7135 7146 7177 7194 7203 7204\n",
      " 7222 7223 7228 7233 7258 7263 7274 7282 7391 7402 7424 7435 7444 7445 7475\n",
      " 7503 7511 7516 7537 7547 7578 7583 7597 7651 7662 7666 7703 7707 7763 7766\n",
      " 7780 7782 7793 7804 7810 7836 7837 7861 7874 7885 7898 7932 7938 7943 7974\n",
      " 7981 8022 8029 8073 8078 8113 8143 8221 8227 8258 8287 8327 8331 8346 8408\n",
      " 8445 8480 8506 8530 8544 8593 8633 8642 8708 8709 8729 8747 8750 8772 8777\n",
      " 8791 8802 8864 8867 8883 8899 8904 8911 8924 8928 8932 8958 8987 9017 9056\n",
      " 9061 9071 9091 9107 9112 9119 9137 9160 9162 9182 9216 9249 9263 9281 9306\n",
      " 9363 9366 9373 9378 9409 9410 9429 9451 9492 9505 9528 9535 9539 9683 9696\n",
      " 9697 9700 9707 9741 9743 9773 9787 9802 9804 9866 9875 9909 9943 9975 9988\n",
      " 9997]\n",
      "\n",
      "Adding contributions to output...100%   \n",
      "Created file /home/aalvarez/Work/Data/coupon/ComparativeMethods_Shift/Shift9Real.fits\n"
     ]
    },
    {
     "data": {
      "text/plain": [
       "814.9429252569971"
      ]
     },
     "execution_count": 17,
     "metadata": {},
     "output_type": "execute_result"
    }
   ],
   "source": [
    "run_nnpz(nnpz_bin, nnpz_config, nnpz_env)"
   ]
  },
  {
   "cell_type": "markdown",
   "metadata": {},
   "source": [
    "### Run now with the actual reference sample (not shifted)\n",
    "We use the actual reference sample, without the shifted transmission, and classify the same target catalog (with the shifted field as well).\n",
    "This time we use the KD-Tree implementation, and get 1000 neighbours, which should (hopefully) include the \"real\" neighbours we got from the previous step."
   ]
  },
  {
   "cell_type": "code",
   "execution_count": 18,
   "metadata": {},
   "outputs": [],
   "source": [
    "nnpz_config['reference_sample_phot_file'] = '/home/aalvarez/Work/Data/dc3/dc3_F_nu_uJy.fits'\n",
    "nnpz_config['neighbor_method'] = 'KDTree'\n",
    "nnpz_config['neighbors_no'] = 1000\n",
    "euclidean_output_file = os.path.join(output_dir, 'Shift9Euclidean.fits')\n",
    "nnpz_config['output_file'] = euclidean_output_file"
   ]
  },
  {
   "cell_type": "code",
   "execution_count": 19,
   "metadata": {},
   "outputs": [
    {
     "name": "stdout",
     "output_type": "stream",
     "text": [
      "Configuration file: /tmp/nnpz_tests/nnpz.conf\n",
      "Running NNPZ with the following options:\n",
      "    target_transmission_provider : shifted\n",
      "    log_level : DEBUG\n",
      "    output_file : /home/aalvarez/Work/Data/coupon/ComparativeMethods_Shift/Shift9Euclidean.fits\n",
      "    copy_input_columns : True\n",
      "    reference_sample_phot_file : /home/aalvarez/Work/Data/dc3/dc3_F_nu_uJy.fits\n",
      "    weight_method : Likelihood\n",
      "    input_size : 10000\n",
      "    flags_in_separate_columns : True\n",
      "    reference_sample_dir : /home/aalvarez/Work/Data/dc3/ReferenceSample\n",
      "    neighbors_no : 1000\n",
      "    target_catalog_filters_mean : None\n",
      "    batch_size : 2000\n",
      "    target_catalog_filters : [('u_obs', 'u_obs_err'), ('g_obs', 'g_obs_err'), ('r_shift9_obs', 'r_shift9_obs_err'), ('i_obs', 'i_obs_err'), ('z_obs', 'z_obs_err'), ('vis_obs', 'vis_obs_err'), ('Y_obs', 'Y_obs_err'), ('J_obs', 'J_obs_err'), ('H_obs', 'H_obs_err')]\n",
      "    target_catalog : /home/aalvarez/Work/Data/coupon/fluxes_COSMOS15_test_with_means.fits\n",
      "    reference_sample_phot_filters : ['u', 'g', 'r', 'i', 'z', 'vis', 'Y', 'J', 'H']\n",
      "    reference_catalog_filters : [('u_obs', 'u_obs_err'), ('g_obs', 'g_obs_err'), ('r_obs', 'r_obs_err'), ('i_obs', 'i_obs_err'), ('z_obs', 'z_obs_err'), ('vis_obs', 'vis_obs_err'), ('Y_obs', 'Y_obs_err'), ('J_obs', 'J_obs_err'), ('H_obs', 'H_obs_err')]\n",
      "    neighbor_method : KDTree\n",
      "    reference_catalog_redshift : z_true\n",
      "    missing_photometry_flags : [-99]\n",
      "    weight_method_alternative : Chi2\n",
      "    reference_catalog_out_mean_phot_filters : [('u_obs', 'u_obs_err'), ('g_obs', 'g_obs_err'), ('r_obs', 'r_obs_err'), ('i_obs', 'i_obs_err'), ('z_obs', 'z_obs_err'), ('vis_obs', 'vis_obs_err'), ('Y_obs', 'Y_obs_err'), ('J_obs', 'J_obs_err'), ('H_obs', 'H_obs_err')]\n",
      "    neighbor_info_output : True\n",
      "    pdz_quantiles : [0.25, 0.5]\n",
      "    reference_sample_out_mean_phot_filters : ['u', 'g', 'r', 'i', 'z', 'vis', 'Y', 'J', 'H']\n",
      "\n",
      "Reading reference sample from /home/aalvarez/Work/Data/dc3/ReferenceSample...\n",
      "Reading reference sample done\n",
      "Using reference sample photometry from /home/aalvarez/Work/Data/dc3/dc3_F_nu_uJy.fits\n",
      "Reference sample photometric bands: ['u', 'g', 'r', 'i', 'z', 'vis', 'Y', 'J', 'H']\n",
      "Target catalog photometric columns: [('u_obs', 'u_obs_err'), ('g_obs', 'g_obs_err'), ('r_shift9_obs', 'r_shift9_obs_err'), ('i_obs', 'i_obs_err'), ('z_obs', 'z_obs_err'), ('vis_obs', 'vis_obs_err'), ('Y_obs', 'Y_obs_err'), ('J_obs', 'J_obs_err'), ('H_obs', 'H_obs_err')]\n",
      "Reading target catalog: /home/aalvarez/Work/Data/coupon/fluxes_COSMOS15_test_with_means.fits\n",
      "Processing only first 10000 objects from target catalog\n",
      "Using copied photometries for weight calculation\n",
      "Finding neighbors... 100%   \n",
      "Computing neighbor weights...100%   \n",
      "Adding contributions to output...100%   \n",
      "Created file /home/aalvarez/Work/Data/coupon/ComparativeMethods_Shift/Shift9Euclidean.fits\n",
      "Took 357.961912979983 seconds\n"
     ]
    }
   ],
   "source": [
    "duration = run_nnpz(nnpz_bin, nnpz_config, nnpz_env)\n",
    "print(f\"Took {duration} seconds\")"
   ]
  },
  {
   "cell_type": "markdown",
   "metadata": {},
   "source": [
    "### Compare euclidean neighbours with \"real\" neighbours\n",
    "So, by now, we have in `euclidean_output_file` 1k neighbours in euclidean distance, and in `real_output_file` we have the\n",
    "30 real neighbours.\n",
    "We want to check how many of those 30 are in the euclidean output."
   ]
  },
  {
   "cell_type": "code",
   "execution_count": 20,
   "metadata": {},
   "outputs": [
    {
     "name": "stderr",
     "output_type": "stream",
     "text": [
      "WARNING: hdu= was not specified but multiple tables are present, reading in first available table (hdu=1) [astropy.io.fits.connect]\n"
     ]
    }
   ],
   "source": [
    "euclidean = Table.read(euclidean_output_file)\n",
    "real = Table.read(real_output_file)"
   ]
  },
  {
   "cell_type": "code",
   "execution_count": 21,
   "metadata": {},
   "outputs": [
    {
     "name": "stdout",
     "output_type": "stream",
     "text": [
      "True\n"
     ]
    },
    {
     "data": {
      "text/plain": [
       "array([  2.00000000e+00,   4.00000000e+00,   1.00000000e+00,\n",
       "         2.00000000e+00,   1.00000000e+00,   1.00000000e+00,\n",
       "         2.00000000e+00,   1.00000000e+00,   5.00000000e+00,\n",
       "         4.00000000e+00,   8.00000000e+00,   7.00000000e+00,\n",
       "         4.00000000e+00,   6.00000000e+00,   6.00000000e+00,\n",
       "         1.80000000e+01,   1.30000000e+01,   1.30000000e+01,\n",
       "         1.40000000e+01,   1.60000000e+01,   3.50000000e+01,\n",
       "         4.20000000e+01,   4.40000000e+01,   5.60000000e+01,\n",
       "         6.80000000e+01,   1.11000000e+02,   1.54000000e+02,\n",
       "         2.02000000e+02,   3.19000000e+02,   6.95000000e+02,\n",
       "         8.14600000e+03])"
      ]
     },
     "execution_count": 21,
     "metadata": {},
     "output_type": "execute_result"
    },
    {
     "data": {
      "image/png": "[encoded data removed]",
      "text/plain": [
       "<Figure size 432x288 with 1 Axes>"
      ]
     },
     "metadata": {},
     "output_type": "display_data"
    }
   ],
   "source": [
    "print(np.all(real['ID'] == euclidean['ID'])) # Just make sure the output is in the same order\n",
    "plot_matching(real, euclidean)"
   ]
  },
  {
   "cell_type": "markdown",
   "metadata": {},
   "source": [
    "Not bad at first sight."
   ]
  },
  {
   "cell_type": "markdown",
   "metadata": {},
   "source": [
    "### Compare combined neighbours with \"real\" neighbours\n",
    "Pretty much same flow, but use the combined method, with 30 final neighbours, 1000 batch size."
   ]
  },
  {
   "cell_type": "code",
   "execution_count": 22,
   "metadata": {},
   "outputs": [],
   "source": [
    "nnpz_config['neighbor_method'] = 'Combined'\n",
    "nnpz_config['batch_size'] = 1000\n",
    "nnpz_config['neighbors_no'] = 30\n",
    "combined_output_file = os.path.join(output_dir, 'Shift9Combined.fits')\n",
    "nnpz_config['output_file'] = combined_output_file"
   ]
  },
  {
   "cell_type": "code",
   "execution_count": 23,
   "metadata": {},
   "outputs": [
    {
     "name": "stdout",
     "output_type": "stream",
     "text": [
      "Configuration file: /tmp/nnpz_tests/nnpz.conf\n",
      "Running NNPZ with the following options:\n",
      "    target_transmission_provider : shifted\n",
      "    log_level : DEBUG\n",
      "    output_file : /home/aalvarez/Work/Data/coupon/ComparativeMethods_Shift/Shift9Combined.fits\n",
      "    copy_input_columns : True\n",
      "    reference_sample_phot_file : /home/aalvarez/Work/Data/dc3/dc3_F_nu_uJy.fits\n",
      "    weight_method : Likelihood\n",
      "    input_size : 10000\n",
      "    flags_in_separate_columns : True\n",
      "    reference_sample_dir : /home/aalvarez/Work/Data/dc3/ReferenceSample\n",
      "    neighbors_no : 30\n",
      "    target_catalog_filters_mean : None\n",
      "    batch_size : 1000\n",
      "    target_catalog_filters : [('u_obs', 'u_obs_err'), ('g_obs', 'g_obs_err'), ('r_shift9_obs', 'r_shift9_obs_err'), ('i_obs', 'i_obs_err'), ('z_obs', 'z_obs_err'), ('vis_obs', 'vis_obs_err'), ('Y_obs', 'Y_obs_err'), ('J_obs', 'J_obs_err'), ('H_obs', 'H_obs_err')]\n",
      "    target_catalog : /home/aalvarez/Work/Data/coupon/fluxes_COSMOS15_test_with_means.fits\n",
      "    reference_sample_phot_filters : ['u', 'g', 'r', 'i', 'z', 'vis', 'Y', 'J', 'H']\n",
      "    reference_catalog_filters : [('u_obs', 'u_obs_err'), ('g_obs', 'g_obs_err'), ('r_obs', 'r_obs_err'), ('i_obs', 'i_obs_err'), ('z_obs', 'z_obs_err'), ('vis_obs', 'vis_obs_err'), ('Y_obs', 'Y_obs_err'), ('J_obs', 'J_obs_err'), ('H_obs', 'H_obs_err')]\n",
      "    neighbor_method : Combined\n",
      "    reference_catalog_redshift : z_true\n",
      "    missing_photometry_flags : [-99]\n",
      "    weight_method_alternative : Chi2\n",
      "    reference_catalog_out_mean_phot_filters : [('u_obs', 'u_obs_err'), ('g_obs', 'g_obs_err'), ('r_obs', 'r_obs_err'), ('i_obs', 'i_obs_err'), ('z_obs', 'z_obs_err'), ('vis_obs', 'vis_obs_err'), ('Y_obs', 'Y_obs_err'), ('J_obs', 'J_obs_err'), ('H_obs', 'H_obs_err')]\n",
      "    neighbor_info_output : True\n",
      "    pdz_quantiles : [0.25, 0.5]\n",
      "    reference_sample_out_mean_phot_filters : ['u', 'g', 'r', 'i', 'z', 'vis', 'Y', 'J', 'H']\n",
      "\n",
      "Target catalog photometric columns: [('u_obs', 'u_obs_err'), ('g_obs', 'g_obs_err'), ('r_shift9_obs', 'r_shift9_obs_err'), ('i_obs', 'i_obs_err'), ('z_obs', 'z_obs_err'), ('vis_obs', 'vis_obs_err'), ('Y_obs', 'Y_obs_err'), ('J_obs', 'J_obs_err'), ('H_obs', 'H_obs_err')]\n",
      "Reading target catalog: /home/aalvarez/Work/Data/coupon/fluxes_COSMOS15_test_with_means.fits\n",
      "Processing only first 10000 objects from target catalog\n",
      "Reading reference sample from /home/aalvarez/Work/Data/dc3/ReferenceSample...\n",
      "Reading reference sample done\n",
      "Using reference sample photometry from /home/aalvarez/Work/Data/dc3/dc3_F_nu_uJy.fits\n",
      "Reference sample photometric bands: ['u', 'g', 'r', 'i', 'z', 'vis', 'Y', 'J', 'H']\n",
      "Using copied photometries for weight calculation\n",
      "Finding neighbors... 100%   \n",
      "Computing neighbor weights...100%   \n",
      "Adding contributions to output...100%   \n",
      "Created file /home/aalvarez/Work/Data/coupon/ComparativeMethods_Shift/Shift9Combined.fits\n",
      "Took 35.26627379099955 seconds\n"
     ]
    }
   ],
   "source": [
    "duration = run_nnpz(nnpz_bin, nnpz_config, nnpz_env)\n",
    "print(f\"Took {duration} seconds\")"
   ]
  },
  {
   "cell_type": "code",
   "execution_count": 24,
   "metadata": {},
   "outputs": [
    {
     "name": "stderr",
     "output_type": "stream",
     "text": [
      "WARNING: hdu= was not specified but multiple tables are present, reading in first available table (hdu=1) [astropy.io.fits.connect]\n"
     ]
    }
   ],
   "source": [
    "combined = Table.read(combined_output_file)"
   ]
  },
  {
   "cell_type": "code",
   "execution_count": 25,
   "metadata": {},
   "outputs": [
    {
     "data": {
      "image/png": "[encoded data removed]",
      "text/plain": [
       "<Figure size 432x288 with 1 Axes>"
      ]
     },
     "metadata": {},
     "output_type": "display_data"
    }
   ],
   "source": [
    "counts = plot_matching(real, combined)"
   ]
  },
  {
   "cell_type": "code",
   "execution_count": 26,
   "metadata": {},
   "outputs": [
    {
     "data": {
      "text/plain": [
       "67.0"
      ]
     },
     "execution_count": 26,
     "metadata": {},
     "output_type": "execute_result"
    }
   ],
   "source": [
    "counts[0]"
   ]
  },
  {
   "cell_type": "markdown",
   "metadata": {},
   "source": [
    "## Same, but with skew\n",
    "Let's use `r_skew`. We need to get its shift."
   ]
  },
  {
   "cell_type": "code",
   "execution_count": 27,
   "metadata": {},
   "outputs": [
    {
     "name": "stdout",
     "output_type": "stream",
     "text": [
      "57.0093\n"
     ]
    }
   ],
   "source": [
    "skew9_shift = get_filter_shift('r', 'r_skewing9')\n",
    "print(skew9_shift)"
   ]
  },
  {
   "cell_type": "markdown",
   "metadata": {},
   "source": [
    "### Get \"real\" neighbours, using bruteforce and a recomputed photometry"
   ]
  },
  {
   "cell_type": "code",
   "execution_count": 28,
   "metadata": {},
   "outputs": [],
   "source": [
    "r_skew_9_reference_photometry = '/tmp/nnpz_tests/Skew9ReferencePhotometry.fits'\n",
    "skew9_filters_dir = '/tmp/nnpz_tests/Skew9Filters'"
   ]
  },
  {
   "cell_type": "code",
   "execution_count": 29,
   "metadata": {},
   "outputs": [
    {
     "data": {
      "image/png": "[encoded data removed]",
      "text/plain": [
       "<Figure size 432x288 with 1 Axes>"
      ]
     },
     "metadata": {},
     "output_type": "display_data"
    }
   ],
   "source": [
    "create_shifted_filter_set(original_filters_dir, skew9_filters_dir, 'r', skew9_shift)\n",
    "compare_filters(original_filters_dir, skew9_filters_dir, filter_shifted)"
   ]
  },
  {
   "cell_type": "code",
   "execution_count": 30,
   "metadata": {},
   "outputs": [
    {
     "name": "stdout",
     "output_type": "stream",
     "text": [
      "\n",
      "Opening reference sample /home/aalvarez/Work/Data/dc3/ReferenceSample...\n",
      "Successfully opened reference sample\n",
      "\n",
      "Reading filter transmissions from /tmp/nnpz_tests/Skew9Filters...\n",
      "    Y\n",
      "    i\n",
      "    J\n",
      "    u\n",
      "    r\n",
      "    g\n",
      "    z\n",
      "    H\n",
      "    vis\n",
      "Successfully read filter transmissions\n",
      "\n",
      "Computing photometry values...\n",
      "    Photometry type: F_nu_uJy\n",
      "    Progress: 0%\n",
      "    Progress: 1%\n",
      "    Progress: 2%\n",
      "    Progress: 3%\n",
      "    Progress: 4%\n",
      "    Progress: 5%\n",
      "    Progress: 6%\n",
      "    Progress: 7%\n",
      "    Progress: 8%\n",
      "    Progress: 9%\n",
      "    Progress: 10%\n",
      "    Progress: 11%\n",
      "    Progress: 12%\n",
      "    Progress: 13%\n",
      "    Progress: 14%\n",
      "    Progress: 15%\n",
      "    Progress: 16%\n",
      "    Progress: 17%\n",
      "    Progress: 18%\n",
      "    Progress: 19%\n",
      "    Progress: 20%\n",
      "    Progress: 21%\n",
      "    Progress: 22%\n",
      "    Progress: 23%\n",
      "    Progress: 24%\n",
      "    Progress: 25%\n",
      "    Progress: 26%\n",
      "    Progress: 27%\n",
      "    Progress: 28%\n",
      "    Progress: 29%\n",
      "    Progress: 30%\n",
      "    Progress: 31%\n",
      "    Progress: 32%\n",
      "    Progress: 33%\n",
      "    Progress: 34%\n",
      "    Progress: 35%\n",
      "    Progress: 36%\n",
      "    Progress: 37%\n",
      "    Progress: 38%\n",
      "    Progress: 39%\n",
      "    Progress: 40%\n",
      "    Progress: 41%\n",
      "    Progress: 42%\n",
      "    Progress: 43%\n",
      "    Progress: 44%\n",
      "    Progress: 45%\n",
      "    Progress: 46%\n",
      "    Progress: 47%\n",
      "    Progress: 48%\n",
      "    Progress: 49%\n",
      "    Progress: 50%\n",
      "    Progress: 51%\n",
      "    Progress: 52%\n",
      "    Progress: 53%\n",
      "    Progress: 54%\n",
      "    Progress: 55%\n",
      "    Progress: 56%\n",
      "    Progress: 57%\n",
      "    Progress: 58%\n",
      "    Progress: 59%\n",
      "    Progress: 60%\n",
      "    Progress: 61%\n",
      "    Progress: 62%\n",
      "    Progress: 63%\n",
      "    Progress: 64%\n",
      "    Progress: 65%\n",
      "    Progress: 66%\n",
      "    Progress: 67%\n",
      "    Progress: 68%\n",
      "    Progress: 69%\n",
      "    Progress: 70%\n",
      "    Progress: 71%\n",
      "    Progress: 72%\n",
      "    Progress: 73%\n",
      "    Progress: 74%\n",
      "    Progress: 75%\n",
      "    Progress: 76%\n",
      "    Progress: 77%\n",
      "    Progress: 78%\n",
      "    Progress: 79%\n",
      "    Progress: 80%\n",
      "    Progress: 81%\n",
      "    Progress: 82%\n",
      "    Progress: 83%\n",
      "    Progress: 84%\n",
      "    Progress: 85%\n",
      "    Progress: 86%\n",
      "    Progress: 87%\n",
      "    Progress: 88%\n",
      "    Progress: 89%\n",
      "    Progress: 90%\n",
      "    Progress: 91%\n",
      "    Progress: 92%\n",
      "    Progress: 93%\n",
      "    Progress: 94%\n",
      "    Progress: 95%\n",
      "    Progress: 96%\n",
      "    Progress: 97%\n",
      "    Progress: 98%\n",
      "    Progress: 99%\n",
      "Successfully computed photometry for 518404 objects\n",
      "\n",
      "Creating output...\n",
      "Photometry created in /tmp/nnpz_tests/Skew9ReferencePhotometry.fits\n"
     ]
    }
   ],
   "source": [
    "rebuild_photometry(r_skew_9_reference_photometry, skew9_filters_dir)"
   ]
  },
  {
   "cell_type": "code",
   "execution_count": 31,
   "metadata": {},
   "outputs": [],
   "source": [
    "nnpz_config['target_catalog_filters'] = [\n",
    "    ('u_obs', 'u_obs_err'),\n",
    "    ('g_obs', 'g_obs_err'),\n",
    "    ('r_skewing9_obs', 'r_skewing9_obs_err'),\n",
    "    ('i_obs', 'i_obs_err'),\n",
    "    ('z_obs', 'z_obs_err'),\n",
    "    ('vis_obs', 'vis_obs_err'),\n",
    "    ('Y_obs', 'Y_obs_err'),\n",
    "    ('J_obs', 'J_obs_err'),\n",
    "    ('H_obs', 'H_obs_err')\n",
    "]\n",
    "nnpz_config['reference_sample_phot_file'] = r_skew_9_reference_photometry\n",
    "nnpz_config['neighbor_method'] = 'BruteForce'\n",
    "nnpz_config['neighbors_no'] = 30\n",
    "skew9_output_file = os.path.join(output_dir, 'Skew9Real.fits')\n",
    "nnpz_config['output_file'] = skew9_output_file"
   ]
  },
  {
   "cell_type": "code",
   "execution_count": 32,
   "metadata": {},
   "outputs": [
    {
     "name": "stdout",
     "output_type": "stream",
     "text": [
      "Configuration file: /tmp/nnpz_tests/nnpz.conf\n",
      "Running NNPZ with the following options:\n",
      "    target_transmission_provider : shifted\n",
      "    log_level : DEBUG\n",
      "    output_file : /home/aalvarez/Work/Data/coupon/ComparativeMethods_Shift/Skew9Real.fits\n",
      "    copy_input_columns : True\n",
      "    reference_sample_phot_file : /tmp/nnpz_tests/Skew9ReferencePhotometry.fits\n",
      "    weight_method : Likelihood\n",
      "    input_size : 10000\n",
      "    flags_in_separate_columns : True\n",
      "    reference_sample_dir : /home/aalvarez/Work/Data/dc3/ReferenceSample\n",
      "    neighbors_no : 30\n",
      "    target_catalog_filters_mean : None\n",
      "    batch_size : 1000\n",
      "    target_catalog_filters : [('u_obs', 'u_obs_err'), ('g_obs', 'g_obs_err'), ('r_skewing9_obs', 'r_skewing9_obs_err'), ('i_obs', 'i_obs_err'), ('z_obs', 'z_obs_err'), ('vis_obs', 'vis_obs_err'), ('Y_obs', 'Y_obs_err'), ('J_obs', 'J_obs_err'), ('H_obs', 'H_obs_err')]\n",
      "    target_catalog : /home/aalvarez/Work/Data/coupon/fluxes_COSMOS15_test_with_means.fits\n",
      "    reference_sample_phot_filters : ['u', 'g', 'r', 'i', 'z', 'vis', 'Y', 'J', 'H']\n",
      "    reference_catalog_filters : [('u_obs', 'u_obs_err'), ('g_obs', 'g_obs_err'), ('r_obs', 'r_obs_err'), ('i_obs', 'i_obs_err'), ('z_obs', 'z_obs_err'), ('vis_obs', 'vis_obs_err'), ('Y_obs', 'Y_obs_err'), ('J_obs', 'J_obs_err'), ('H_obs', 'H_obs_err')]\n",
      "    neighbor_method : BruteForce\n",
      "    reference_catalog_redshift : z_true\n",
      "    missing_photometry_flags : [-99]\n",
      "    weight_method_alternative : Chi2\n",
      "    reference_catalog_out_mean_phot_filters : [('u_obs', 'u_obs_err'), ('g_obs', 'g_obs_err'), ('r_obs', 'r_obs_err'), ('i_obs', 'i_obs_err'), ('z_obs', 'z_obs_err'), ('vis_obs', 'vis_obs_err'), ('Y_obs', 'Y_obs_err'), ('J_obs', 'J_obs_err'), ('H_obs', 'H_obs_err')]\n",
      "    neighbor_info_output : True\n",
      "    pdz_quantiles : [0.25, 0.5]\n",
      "    reference_sample_out_mean_phot_filters : ['u', 'g', 'r', 'i', 'z', 'vis', 'Y', 'J', 'H']\n",
      "\n",
      "Reading reference sample from /home/aalvarez/Work/Data/dc3/ReferenceSample...\n",
      "Reading reference sample done\n",
      "Target catalog photometric columns: [('u_obs', 'u_obs_err'), ('g_obs', 'g_obs_err'), ('r_skewing9_obs', 'r_skewing9_obs_err'), ('i_obs', 'i_obs_err'), ('z_obs', 'z_obs_err'), ('vis_obs', 'vis_obs_err'), ('Y_obs', 'Y_obs_err'), ('J_obs', 'J_obs_err'), ('H_obs', 'H_obs_err')]\n",
      "Reading target catalog: /home/aalvarez/Work/Data/coupon/fluxes_COSMOS15_test_with_means.fits\n",
      "Processing only first 10000 objects from target catalog\n",
      "Using reference sample photometry from /tmp/nnpz_tests/Skew9ReferencePhotometry.fits\n",
      "Reference sample photometric bands: ['u', 'g', 'r', 'i', 'z', 'vis', 'Y', 'J', 'H']\n",
      "Using copied photometries for weight calculation\n",
      "Finding neighbors... 100%   \n",
      "Computing neighbor weights...100%678 objects with all weights set to 0, using alternative weight\n",
      "[   1    2    3   23   58  114  115  148  179  192  200  219  245  247  253\n",
      "  288  291  309  325  326  334  361  367  372  378  388  404  406  409  410\n",
      "  426  439  452  453  486  488  504  505  520  527  532  533  535  543  573\n",
      "  574  577  580  583  589  595  599  615  642  671  674  675  693  701  711\n",
      "  757  766  771  775  785  792  813  817  828  860  870  884  896  897  915\n",
      "  923  936  938  954  965  971 1009 1027 1029 1033 1051 1055 1093 1102 1116\n",
      " 1154 1159 1161 1165 1184 1234 1240 1241 1313 1343 1345 1350 1351 1357 1392\n",
      " 1430 1438 1439 1458 1495 1500 1505 1518 1520 1532 1591 1595 1628 1633 1652\n",
      " 1675 1690 1699 1700 1711 1742 1751 1759 1761 1784 1808 1809 1820 1843 1864\n",
      " 1890 1951 1958 1977 2017 2019 2064 2077 2096 2105 2119 2129 2138 2140 2154\n",
      " 2177 2184 2206 2210 2229 2246 2258 2330 2347 2370 2372 2379 2383 2408 2409\n",
      " 2426 2451 2457 2461 2479 2483 2485 2489 2509 2510 2525 2535 2538 2568 2569\n",
      " 2596 2598 2603 2626 2636 2641 2658 2671 2679 2687 2696 2712 2713 2714 2726\n",
      " 2783 2801 2804 2811 2812 2818 2823 2839 2853 2872 2896 2898 2916 2932 2955\n",
      " 2988 2998 3005 3023 3029 3036 3042 3066 3072 3073 3079 3083 3085 3095 3098\n",
      " 3124 3185 3192 3211 3225 3234 3236 3245 3279 3283 3285 3295 3340 3346 3366\n",
      " 3406 3414 3419 3426 3427 3442 3447 3481 3494 3513 3523 3607 3617 3677 3680\n",
      " 3732 3733 3737 3801 3810 3826 3908 3922 3926 3931 3932 3952 3975 3981 3982\n",
      " 4006 4017 4021 4031 4035 4036 4037 4117 4148 4170 4174 4183 4222 4224 4235\n",
      " 4261 4288 4292 4311 4321 4387 4404 4407 4408 4417 4430 4432 4439 4465 4473\n",
      " 4477 4492 4517 4544 4547 4548 4557 4573 4576 4581 4585 4599 4649 4656 4663\n",
      " 4688 4695 4703 4719 4727 4738 4780 4793 4798 4811 4824 4833 4834 4852 4857\n",
      " 4872 4887 4956 5018 5032 5043 5056 5075 5084 5093 5095 5111 5126 5149 5152\n",
      " 5162 5167 5168 5174 5185 5189 5195 5216 5224 5225 5232 5245 5248 5261 5264\n",
      " 5281 5283 5308 5315 5327 5336 5347 5354 5370 5401 5413 5420 5467 5468 5495\n",
      " 5500 5501 5504 5508 5518 5530 5541 5544 5557 5560 5584 5600 5602 5629 5648\n",
      " 5674 5676 5680 5686 5745 5780 5796 5798 5824 5865 5868 5870 5915 5937 5969\n",
      " 5979 6054 6064 6068 6079 6085 6096 6100 6115 6128 6130 6165 6185 6212 6213\n",
      " 6229 6246 6283 6297 6305 6325 6347 6360 6388 6416 6440 6444 6481 6496 6503\n",
      " 6508 6510 6526 6534 6537 6539 6541 6548 6562 6592 6597 6598 6610 6617 6619\n",
      " 6634 6643 6661 6667 6669 6684 6697 6711 6720 6725 6729 6738 6756 6764 6787\n",
      " 6798 6802 6810 6821 6843 6845 6853 6872 6875 6877 6889 6935 6939 6943 6946\n",
      " 6952 6956 6965 6967 6973 6991 7017 7029 7074 7105 7129 7135 7138 7146 7159\n",
      " 7177 7194 7203 7204 7222 7223 7228 7233 7258 7263 7274 7282 7340 7391 7395\n",
      " 7402 7403 7424 7435 7444 7445 7475 7482 7503 7511 7516 7537 7547 7578 7583\n",
      " 7597 7629 7651 7662 7666 7703 7706 7707 7763 7766 7780 7782 7793 7804 7810\n",
      " 7836 7837 7850 7861 7874 7885 7898 7922 7932 7934 7938 7943 7974 7981 8017\n",
      " 8022 8029 8035 8059 8073 8078 8113 8143 8221 8227 8258 8287 8303 8312 8327\n",
      " 8331 8346 8374 8402 8408 8409 8445 8473 8480 8506 8530 8538 8544 8550 8593\n",
      " 8633 8642 8708 8709 8711 8729 8736 8747 8750 8772 8777 8778 8791 8802 8864\n",
      " 8867 8883 8885 8890 8899 8904 8911 8924 8928 8932 8952 8958 8987 8995 9017\n",
      " 9039 9056 9061 9062 9071 9091 9107 9112 9119 9137 9160 9162 9168 9182 9187\n",
      " 9212 9216 9249 9263 9281 9306 9355 9363 9366 9373 9378 9409 9410 9429 9450\n",
      " 9451 9492 9505 9528 9534 9535 9539 9558 9593 9683 9691 9696 9697 9698 9700\n",
      " 9707 9731 9741 9743 9767 9773 9787 9802 9804 9809 9866 9875 9904 9909 9943\n",
      " 9975 9988 9997]\n",
      "\n",
      "Adding contributions to output...100%   \n",
      "Created file /home/aalvarez/Work/Data/coupon/ComparativeMethods_Shift/Skew9Real.fits\n",
      "Took 830.1802548650012 seconds\n"
     ]
    }
   ],
   "source": [
    "duration = run_nnpz(nnpz_bin, nnpz_config, nnpz_env)\n",
    "print(f\"Took {duration} seconds\")"
   ]
  },
  {
   "cell_type": "markdown",
   "metadata": {},
   "source": [
    "### Re-run, KD-Tree, but using the standard reference sample"
   ]
  },
  {
   "cell_type": "code",
   "execution_count": 33,
   "metadata": {},
   "outputs": [],
   "source": [
    "nnpz_config['reference_sample_phot_file'] = '/home/aalvarez/Work/Data/dc3/dc3_F_nu_uJy.fits'\n",
    "nnpz_config['neighbor_method'] = 'KDTree'\n",
    "nnpz_config['neighbors_no'] = 1000\n",
    "skew9_euclidean_output_file = os.path.join(output_dir, 'Skew9Euclidean.fits')\n",
    "nnpz_config['output_file'] = skew9_euclidean_output_file"
   ]
  },
  {
   "cell_type": "code",
   "execution_count": 34,
   "metadata": {},
   "outputs": [
    {
     "name": "stdout",
     "output_type": "stream",
     "text": [
      "Configuration file: /tmp/nnpz_tests/nnpz.conf\n",
      "Running NNPZ with the following options:\n",
      "    target_transmission_provider : shifted\n",
      "    log_level : DEBUG\n",
      "    output_file : /home/aalvarez/Work/Data/coupon/ComparativeMethods_Shift/Skew9Euclidean.fits\n",
      "    copy_input_columns : True\n",
      "    reference_sample_phot_file : /home/aalvarez/Work/Data/dc3/dc3_F_nu_uJy.fits\n",
      "    weight_method : Likelihood\n",
      "    input_size : 10000\n",
      "    flags_in_separate_columns : True\n",
      "    reference_sample_dir : /home/aalvarez/Work/Data/dc3/ReferenceSample\n",
      "    neighbors_no : 1000\n",
      "    target_catalog_filters_mean : None\n",
      "    batch_size : 1000\n",
      "    target_catalog_filters : [('u_obs', 'u_obs_err'), ('g_obs', 'g_obs_err'), ('r_skewing9_obs', 'r_skewing9_obs_err'), ('i_obs', 'i_obs_err'), ('z_obs', 'z_obs_err'), ('vis_obs', 'vis_obs_err'), ('Y_obs', 'Y_obs_err'), ('J_obs', 'J_obs_err'), ('H_obs', 'H_obs_err')]\n",
      "    target_catalog : /home/aalvarez/Work/Data/coupon/fluxes_COSMOS15_test_with_means.fits\n",
      "    reference_sample_phot_filters : ['u', 'g', 'r', 'i', 'z', 'vis', 'Y', 'J', 'H']\n",
      "    reference_catalog_filters : [('u_obs', 'u_obs_err'), ('g_obs', 'g_obs_err'), ('r_obs', 'r_obs_err'), ('i_obs', 'i_obs_err'), ('z_obs', 'z_obs_err'), ('vis_obs', 'vis_obs_err'), ('Y_obs', 'Y_obs_err'), ('J_obs', 'J_obs_err'), ('H_obs', 'H_obs_err')]\n",
      "    neighbor_method : KDTree\n",
      "    reference_catalog_redshift : z_true\n",
      "    missing_photometry_flags : [-99]\n",
      "    weight_method_alternative : Chi2\n",
      "    reference_catalog_out_mean_phot_filters : [('u_obs', 'u_obs_err'), ('g_obs', 'g_obs_err'), ('r_obs', 'r_obs_err'), ('i_obs', 'i_obs_err'), ('z_obs', 'z_obs_err'), ('vis_obs', 'vis_obs_err'), ('Y_obs', 'Y_obs_err'), ('J_obs', 'J_obs_err'), ('H_obs', 'H_obs_err')]\n",
      "    neighbor_info_output : True\n",
      "    pdz_quantiles : [0.25, 0.5]\n",
      "    reference_sample_out_mean_phot_filters : ['u', 'g', 'r', 'i', 'z', 'vis', 'Y', 'J', 'H']\n",
      "\n",
      "Reading reference sample from /home/aalvarez/Work/Data/dc3/ReferenceSample...\n",
      "Reading reference sample done\n",
      "Target catalog photometric columns: [('u_obs', 'u_obs_err'), ('g_obs', 'g_obs_err'), ('r_skewing9_obs', 'r_skewing9_obs_err'), ('i_obs', 'i_obs_err'), ('z_obs', 'z_obs_err'), ('vis_obs', 'vis_obs_err'), ('Y_obs', 'Y_obs_err'), ('J_obs', 'J_obs_err'), ('H_obs', 'H_obs_err')]\n",
      "Reading target catalog: /home/aalvarez/Work/Data/coupon/fluxes_COSMOS15_test_with_means.fits\n",
      "Processing only first 10000 objects from target catalog\n",
      "Using reference sample photometry from /home/aalvarez/Work/Data/dc3/dc3_F_nu_uJy.fits\n",
      "Reference sample photometric bands: ['u', 'g', 'r', 'i', 'z', 'vis', 'Y', 'J', 'H']\n",
      "Using copied photometries for weight calculation\n",
      "Finding neighbors... 100%   \n",
      "Computing neighbor weights...100%14 objects with all weights set to 0, using alternative weight\n",
      "[ 785 1029 1595 1633 2019 2409 2712 3975 5245 7511 7578 7780 8911 9909]\n",
      "\n",
      "Adding contributions to output...100%   \n",
      "Created file /home/aalvarez/Work/Data/coupon/ComparativeMethods_Shift/Skew9Euclidean.fits\n",
      "Took 354.23204468897893 seconds\n"
     ]
    }
   ],
   "source": [
    "duration = run_nnpz(nnpz_bin, nnpz_config, nnpz_env)\n",
    "print(f\"Took {duration} seconds\")"
   ]
  },
  {
   "cell_type": "code",
   "execution_count": 35,
   "metadata": {},
   "outputs": [
    {
     "name": "stderr",
     "output_type": "stream",
     "text": [
      "WARNING: hdu= was not specified but multiple tables are present, reading in first available table (hdu=1) [astropy.io.fits.connect]\n"
     ]
    }
   ],
   "source": [
    "skew9_real = Table.read(skew9_output_file)\n",
    "skew9_euclidean = Table.read(skew9_euclidean_output_file)"
   ]
  },
  {
   "cell_type": "code",
   "execution_count": 36,
   "metadata": {},
   "outputs": [
    {
     "data": {
      "image/png": "[encoded data removed]",
      "text/plain": [
       "<Figure size 432x288 with 1 Axes>"
      ]
     },
     "metadata": {},
     "output_type": "display_data"
    }
   ],
   "source": [
    "counts = plot_matching(skew9_real, skew9_euclidean)"
   ]
  },
  {
   "cell_type": "markdown",
   "metadata": {},
   "source": [
    "### Skew, Combined"
   ]
  },
  {
   "cell_type": "code",
   "execution_count": 37,
   "metadata": {},
   "outputs": [],
   "source": [
    "nnpz_config['neighbor_method'] = 'Combined'\n",
    "nnpz_config['batch_size'] = 1000\n",
    "nnpz_config['neighbors_no'] = 30\n",
    "skew9_combined_output_file = os.path.join(output_dir, 'Skew9Combined.fits')\n",
    "nnpz_config['output_file'] = skew9_combined_output_file"
   ]
  },
  {
   "cell_type": "code",
   "execution_count": 38,
   "metadata": {},
   "outputs": [
    {
     "name": "stdout",
     "output_type": "stream",
     "text": [
      "Configuration file: /tmp/nnpz_tests/nnpz.conf\n",
      "Running NNPZ with the following options:\n",
      "    target_transmission_provider : shifted\n",
      "    log_level : DEBUG\n",
      "    output_file : /home/aalvarez/Work/Data/coupon/ComparativeMethods_Shift/Skew9Combined.fits\n",
      "    copy_input_columns : True\n",
      "    reference_sample_phot_file : /home/aalvarez/Work/Data/dc3/dc3_F_nu_uJy.fits\n",
      "    weight_method : Likelihood\n",
      "    input_size : 10000\n",
      "    flags_in_separate_columns : True\n",
      "    reference_sample_dir : /home/aalvarez/Work/Data/dc3/ReferenceSample\n",
      "    neighbors_no : 30\n",
      "    target_catalog_filters_mean : None\n",
      "    batch_size : 1000\n",
      "    target_catalog_filters : [('u_obs', 'u_obs_err'), ('g_obs', 'g_obs_err'), ('r_skewing9_obs', 'r_skewing9_obs_err'), ('i_obs', 'i_obs_err'), ('z_obs', 'z_obs_err'), ('vis_obs', 'vis_obs_err'), ('Y_obs', 'Y_obs_err'), ('J_obs', 'J_obs_err'), ('H_obs', 'H_obs_err')]\n",
      "    target_catalog : /home/aalvarez/Work/Data/coupon/fluxes_COSMOS15_test_with_means.fits\n",
      "    reference_sample_phot_filters : ['u', 'g', 'r', 'i', 'z', 'vis', 'Y', 'J', 'H']\n",
      "    reference_catalog_filters : [('u_obs', 'u_obs_err'), ('g_obs', 'g_obs_err'), ('r_obs', 'r_obs_err'), ('i_obs', 'i_obs_err'), ('z_obs', 'z_obs_err'), ('vis_obs', 'vis_obs_err'), ('Y_obs', 'Y_obs_err'), ('J_obs', 'J_obs_err'), ('H_obs', 'H_obs_err')]\n",
      "    neighbor_method : Combined\n",
      "    reference_catalog_redshift : z_true\n",
      "    missing_photometry_flags : [-99]\n",
      "    weight_method_alternative : Chi2\n",
      "    reference_catalog_out_mean_phot_filters : [('u_obs', 'u_obs_err'), ('g_obs', 'g_obs_err'), ('r_obs', 'r_obs_err'), ('i_obs', 'i_obs_err'), ('z_obs', 'z_obs_err'), ('vis_obs', 'vis_obs_err'), ('Y_obs', 'Y_obs_err'), ('J_obs', 'J_obs_err'), ('H_obs', 'H_obs_err')]\n",
      "    neighbor_info_output : True\n",
      "    pdz_quantiles : [0.25, 0.5]\n",
      "    reference_sample_out_mean_phot_filters : ['u', 'g', 'r', 'i', 'z', 'vis', 'Y', 'J', 'H']\n",
      "\n",
      "Target catalog photometric columns: [('u_obs', 'u_obs_err'), ('g_obs', 'g_obs_err'), ('r_skewing9_obs', 'r_skewing9_obs_err'), ('i_obs', 'i_obs_err'), ('z_obs', 'z_obs_err'), ('vis_obs', 'vis_obs_err'), ('Y_obs', 'Y_obs_err'), ('J_obs', 'J_obs_err'), ('H_obs', 'H_obs_err')]\n",
      "Reading target catalog: /home/aalvarez/Work/Data/coupon/fluxes_COSMOS15_test_with_means.fits\n",
      "Processing only first 10000 objects from target catalog\n",
      "Reading reference sample from /home/aalvarez/Work/Data/dc3/ReferenceSample...\n",
      "Reading reference sample done\n",
      "Using reference sample photometry from /home/aalvarez/Work/Data/dc3/dc3_F_nu_uJy.fits\n",
      "Reference sample photometric bands: ['u', 'g', 'r', 'i', 'z', 'vis', 'Y', 'J', 'H']\n",
      "Using copied photometries for weight calculation\n",
      "Finding neighbors... 100%   \n",
      "Computing neighbor weights...100%14 objects with all weights set to 0, using alternative weight\n",
      "[ 785 1029 1595 1633 2019 2409 2712 3975 5245 7511 7578 7780 8911 9909]\n",
      "\n",
      "Adding contributions to output...100%   \n",
      "Created file /home/aalvarez/Work/Data/coupon/ComparativeMethods_Shift/Skew9Combined.fits\n",
      "Took 34.71394183099619 seconds\n"
     ]
    }
   ],
   "source": [
    "duration = run_nnpz(nnpz_bin, nnpz_config, nnpz_env)\n",
    "print(f\"Took {duration} seconds\")"
   ]
  },
  {
   "cell_type": "code",
   "execution_count": 39,
   "metadata": {},
   "outputs": [
    {
     "name": "stderr",
     "output_type": "stream",
     "text": [
      "WARNING: hdu= was not specified but multiple tables are present, reading in first available table (hdu=1) [astropy.io.fits.connect]\n"
     ]
    }
   ],
   "source": [
    "skew9_combined = Table.read(skew9_combined_output_file)"
   ]
  },
  {
   "cell_type": "code",
   "execution_count": 40,
   "metadata": {},
   "outputs": [
    {
     "data": {
      "image/png": "[encoded data removed]",
      "text/plain": [
       "<Figure size 432x288 with 1 Axes>"
      ]
     },
     "metadata": {},
     "output_type": "display_data"
    }
   ],
   "source": [
    "counts = plot_matching(skew9_real, skew9_combined)"
   ]
  }
 ],
 "metadata": {
  "kernelspec": {
   "display_name": "Python 3",
   "language": "python",
   "name": "python3"
  },
  "language_info": {
   "codemirror_mode": {
    "name": "ipython",
    "version": 3
   },
   "file_extension": ".py",
   "mimetype": "text/x-python",
   "name": "python",
   "nbconvert_exporter": "python",
   "pygments_lexer": "ipython3",
   "version": "3.6.5"
  }
 },
 "nbformat": 4,
 "nbformat_minor": 2
}
