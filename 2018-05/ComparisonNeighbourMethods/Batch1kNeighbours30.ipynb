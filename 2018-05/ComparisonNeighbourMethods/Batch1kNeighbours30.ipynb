{
 "cells": [
  {
   "cell_type": "code",
   "execution_count": 1,
   "metadata": {},
   "outputs": [],
   "source": [
    "%matplotlib inline\n",
    "import matplotlib.pyplot as plt\n",
    "import numpy as np\n",
    "import os\n",
    "import shutil\n",
    "import subprocess\n",
    "import sys\n",
    "import time\n",
    "\n",
    "from astropy.table import Table\n",
    "from astropy.io import fits"
   ]
  },
  {
   "cell_type": "markdown",
   "metadata": {},
   "source": [
    "### Handy functions and globals"
   ]
  },
  {
   "cell_type": "code",
   "execution_count": 2,
   "metadata": {},
   "outputs": [],
   "source": [
    "flux_file = '/home/aalvarez/Work/Data/coupon/fluxes.fits'\n",
    "nnpz_dir = '/home/aalvarez/Work/Projects/NNPZ'\n",
    "nnpz_bin = os.path.join(nnpz_dir, 'bin', 'nnpz')\n",
    "nnpzphoto_bin = os.path.join(nnpz_dir, 'bin', 'NnpzBuildPhotometry')\n",
    "reference_sample = '/home/aalvarez/Work/Data/dc3/ReferenceSample'\n",
    "nnpz_env = os.environ.copy()\n",
    "nnpz_env['PYTHONPATH'] = nnpz_env.get('PYTHONPATH', '') + ':' + nnpz_dir\n",
    "\n",
    "output_dir = '/home/aalvarez/Work/Data/coupon/ComparativeMethods_Shift'"
   ]
  },
  {
   "cell_type": "code",
   "execution_count": 3,
   "metadata": {},
   "outputs": [],
   "source": [
    "flux_hdul = fits.open(flux_file)"
   ]
  },
  {
   "cell_type": "code",
   "execution_count": 4,
   "metadata": {},
   "outputs": [],
   "source": [
    "nnpz_original_config_file = '/home/aalvarez/Work/Data/coupon/nnpz.conf'\n",
    "target_catalog = '/home/aalvarez/Work/Data/coupon/fluxes_COSMOS15_test_with_means.fits'\n",
    "fluxes_file = '/home/aalvarez/Work/Data/coupon/fluxes.fits'"
   ]
  },
  {
   "cell_type": "code",
   "execution_count": 21,
   "metadata": {},
   "outputs": [],
   "source": [
    "def extract_filter_set(original_dir, new_dir, filter_name, flux_hdul, hdu_name):\n",
    "    shutil.rmtree(new_dir, ignore_errors=True)\n",
    "    shutil.copytree(original_dir, new_dir)\n",
    "    \n",
    "    filter_ascii_file = os.path.join(new_dir, filter_shifted) + '.ascii'\n",
    "    filter_hdu = flux_hdul[hdu_name]\n",
    "    t = Table([filter_hdu.data['Wavelength'], filter_hdu.data['Transmission']], names=['col1', 'col2'])\n",
    "    t.write(filter_ascii_file, format='ascii')"
   ]
  },
  {
   "cell_type": "code",
   "execution_count": 23,
   "metadata": {},
   "outputs": [],
   "source": [
    "def compare_filters(original_dir, new_dir, filter_name):\n",
    "    original = Table.read(os.path.join(original_dir, filter_name) + '.ascii', format='ascii')\n",
    "    compared = Table.read(os.path.join(new_dir, filter_name) + '.ascii', format='ascii')\n",
    "    plt.plot(original['col1'], original['col2'], label='Original')\n",
    "    plt.plot(compared['col1'], compared['col2'], label='New')\n",
    "    plt.legend()"
   ]
  },
  {
   "cell_type": "code",
   "execution_count": 61,
   "metadata": {},
   "outputs": [],
   "source": [
    "def plot_filter(filter_dir, filter_name):\n",
    "    content = Table.read(os.path.join(filter_dir, filter_name) + '.ascii', format='ascii')\n",
    "    plt.plot(content['col1'], content['col2'], label=filter_name)\n",
    "    plt.legend()"
   ]
  },
  {
   "cell_type": "code",
   "execution_count": 7,
   "metadata": {},
   "outputs": [],
   "source": [
    "def rebuild_photometry(photometry_output, filters_dir):\n",
    "    if os.path.exists(photometry_output):\n",
    "        print(f\"{photometry_output} already exists, so skipping run\")\n",
    "        return\n",
    "        \n",
    "    nnpzphoto_proc = subprocess.Popen([\n",
    "        nnpzphoto_bin,\n",
    "        '--sample-dir', reference_sample,\n",
    "        '--filters', filters_dir,\n",
    "        '--out-type', 'F_nu_uJy',\n",
    "        '--out-file', photometry_output\n",
    "    ], env=nnpz_env, stdout=subprocess.PIPE, stderr=subprocess.STDOUT)\n",
    "    while nnpzphoto_proc.poll() is None:\n",
    "        print(nnpzphoto_proc.stdout.readline().decode('utf-8'), end='')"
   ]
  },
  {
   "cell_type": "code",
   "execution_count": 8,
   "metadata": {},
   "outputs": [],
   "source": [
    "def run_nnpz(nnpz_bin, nnpz_config, nnpz_env):\n",
    "    nnpz_config_file = '/tmp/nnpz_tests/nnpz.conf'\n",
    "    if os.path.exists(nnpz_config_file):\n",
    "        os.unlink(nnpz_config_file)\n",
    "\n",
    "    if os.path.exists(nnpz_config['output_file']):\n",
    "        print(f\"{nnpz_config['output_file']} already exists, so skipping run\")\n",
    "        return 0\n",
    "        \n",
    "    with open(nnpz_config_file, mode='w') as fd:\n",
    "        for key, value in nnpz_config.items():\n",
    "            if not key.startswith('_'):\n",
    "                if isinstance(value, str):\n",
    "                    print(f'{key} = \"{value}\"', file=fd)\n",
    "                else:\n",
    "                    print(f'{key} = {value}', file=fd)\n",
    "\n",
    "    start = time.monotonic()\n",
    "    nnpz_proc = subprocess.Popen(\n",
    "        [nnpz_bin, nnpz_config_file],\n",
    "        env=nnpz_env, stdout=subprocess.PIPE, stderr=subprocess.STDOUT\n",
    "    )\n",
    "    while nnpz_proc.poll() is None:\n",
    "        print(nnpz_proc.stdout.readline().decode('utf-8'), end='')\n",
    "    end = time.monotonic()\n",
    "    return end - start"
   ]
  },
  {
   "cell_type": "code",
   "execution_count": 9,
   "metadata": {},
   "outputs": [],
   "source": [
    "def plot_matching(reference, target):\n",
    "    max_count = reference['NeighborIDs'].shape[1]\n",
    "    counts = np.zeros(max_count + 1) # One position per count (so 0 to as many neighbours in the reference)\n",
    "    for r, t in zip(reference, target):\n",
    "        c = np.isin(r['NeighborIDs'], t['NeighborIDs']).sum()\n",
    "        counts[c] += 1\n",
    "    plt.hist(range(max_count + 1), weights=counts, bins=max_count+1)\n",
    "    return counts"
   ]
  },
  {
   "cell_type": "code",
   "execution_count": 10,
   "metadata": {},
   "outputs": [],
   "source": [
    "def get_filter_shift(original, new):\n",
    "    fluxes_hdul = fits.open(fluxes_file)\n",
    "    original_hdu = fluxes_hdul[original]\n",
    "    new_hdu = fluxes_hdul[new]\n",
    "    original_mean = np.average(original_hdu.data['Wavelength'], weights=original_hdu.data['Transmission'])\n",
    "    new_mean = np.average(new_hdu.data['Wavelength'], weights=new_hdu.data['Transmission'])\n",
    "    return new_mean - original_mean"
   ]
  },
  {
   "cell_type": "markdown",
   "metadata": {},
   "source": [
    "## Compare \"real\" neighbours when using shifts\n",
    "See task [#16305](https://redmine.isdc.unige.ch/issues/16305?next_issue_id=16303).\n",
    "\n",
    "Since we are going to compare the worst case (greatest mean wavelength shift),\n",
    "we need to recompute the photometry for the reference sample with an `r` filter\n",
    "thas has been shifted as well."
   ]
  },
  {
   "cell_type": "markdown",
   "metadata": {},
   "source": [
    "### Copy filter transmissions, use shifted 'r'"
   ]
  },
  {
   "cell_type": "code",
   "execution_count": 41,
   "metadata": {},
   "outputs": [],
   "source": [
    "original_filters_dir = '/home/aalvarez/Work/Data/dc3/AuxiliaryData/Filters/Euclid'\n",
    "filters_dir = '/tmp/nnpz_tests/Shift9Filters'"
   ]
  },
  {
   "cell_type": "markdown",
   "metadata": {},
   "source": [
    "We create a copy of these filters, using the shifted `r`"
   ]
  },
  {
   "cell_type": "code",
   "execution_count": 58,
   "metadata": {},
   "outputs": [],
   "source": [
    "extract_filter_set(original_filters_dir, filters_dir, 'r', flux_hdul, 'r_shift9')"
   ]
  },
  {
   "cell_type": "code",
   "execution_count": 81,
   "metadata": {},
   "outputs": [
    {
     "data": {
      "image/png": "[encoded data removed]",
      "text/plain": [
       "<Figure size 432x288 with 1 Axes>"
      ]
     },
     "metadata": {},
     "output_type": "display_data"
    }
   ],
   "source": [
    "plot_filter(filters_dir, 'r')"
   ]
  },
  {
   "cell_type": "markdown",
   "metadata": {},
   "source": [
    "### Recompute photometries for the reference sample using the shifted filter"
   ]
  },
  {
   "cell_type": "code",
   "execution_count": 59,
   "metadata": {},
   "outputs": [],
   "source": [
    "r_shift_9_reference_photometry = '/tmp/nnpz_tests/Shift9ReferencePhotometry.fits'"
   ]
  },
  {
   "cell_type": "code",
   "execution_count": 60,
   "metadata": {},
   "outputs": [
    {
     "name": "stdout",
     "output_type": "stream",
     "text": [
      "\n",
      "Opening reference sample /home/aalvarez/Work/Data/dc3/ReferenceSample...\n",
      "Successfully opened reference sample\n",
      "\n",
      "Reading filter transmissions from /tmp/nnpz_tests/Shift9Filters...\n",
      "    Y\n",
      "    i\n",
      "    J\n",
      "    u\n",
      "    r\n",
      "    g\n",
      "    z\n",
      "    H\n",
      "    vis\n",
      "Successfully read filter transmissions\n",
      "\n",
      "Computing photometry values...\n",
      "    Photometry type: F_nu_uJy\n",
      "    Progress: 0%\n",
      "    Progress: 1%\n",
      "    Progress: 2%\n",
      "    Progress: 3%\n",
      "    Progress: 4%\n",
      "    Progress: 5%\n",
      "    Progress: 6%\n",
      "    Progress: 7%\n",
      "    Progress: 8%\n",
      "    Progress: 9%\n",
      "    Progress: 10%\n",
      "    Progress: 11%\n",
      "    Progress: 12%\n",
      "    Progress: 13%\n",
      "    Progress: 14%\n",
      "    Progress: 15%\n",
      "    Progress: 16%\n",
      "    Progress: 17%\n",
      "    Progress: 18%\n",
      "    Progress: 19%\n",
      "    Progress: 20%\n",
      "    Progress: 21%\n",
      "    Progress: 22%\n",
      "    Progress: 23%\n",
      "    Progress: 24%\n",
      "    Progress: 25%\n",
      "    Progress: 26%\n",
      "    Progress: 27%\n",
      "    Progress: 28%\n",
      "    Progress: 29%\n",
      "    Progress: 30%\n",
      "    Progress: 31%\n",
      "    Progress: 32%\n",
      "    Progress: 33%\n",
      "    Progress: 34%\n",
      "    Progress: 35%\n",
      "    Progress: 36%\n",
      "    Progress: 37%\n",
      "    Progress: 38%\n",
      "    Progress: 39%\n",
      "    Progress: 40%\n",
      "    Progress: 41%\n",
      "    Progress: 42%\n",
      "    Progress: 43%\n",
      "    Progress: 44%\n",
      "    Progress: 45%\n",
      "    Progress: 46%\n",
      "    Progress: 47%\n",
      "    Progress: 48%\n",
      "    Progress: 49%\n",
      "    Progress: 50%\n",
      "    Progress: 51%\n",
      "    Progress: 52%\n",
      "    Progress: 53%\n",
      "    Progress: 54%\n",
      "    Progress: 55%\n",
      "    Progress: 56%\n",
      "    Progress: 57%\n",
      "    Progress: 58%\n",
      "    Progress: 59%\n",
      "    Progress: 60%\n",
      "    Progress: 61%\n",
      "    Progress: 62%\n",
      "    Progress: 63%\n",
      "    Progress: 64%\n",
      "    Progress: 65%\n",
      "    Progress: 66%\n",
      "    Progress: 67%\n",
      "    Progress: 68%\n",
      "    Progress: 69%\n",
      "    Progress: 70%\n",
      "    Progress: 71%\n",
      "    Progress: 72%\n",
      "    Progress: 73%\n",
      "    Progress: 74%\n",
      "    Progress: 75%\n",
      "    Progress: 76%\n",
      "    Progress: 77%\n",
      "    Progress: 78%\n",
      "    Progress: 79%\n",
      "    Progress: 80%\n",
      "    Progress: 81%\n",
      "    Progress: 82%\n",
      "    Progress: 83%\n",
      "    Progress: 84%\n",
      "    Progress: 85%\n",
      "    Progress: 86%\n",
      "    Progress: 87%\n",
      "    Progress: 88%\n",
      "    Progress: 89%\n",
      "    Progress: 90%\n",
      "    Progress: 91%\n",
      "    Progress: 92%\n",
      "    Progress: 93%\n",
      "    Progress: 94%\n",
      "    Progress: 95%\n",
      "    Progress: 96%\n",
      "    Progress: 97%\n",
      "    Progress: 98%\n",
      "    Progress: 99%\n",
      "Successfully computed photometry for 518404 objects\n",
      "\n",
      "Creating output...\n",
      "Photometry created in /tmp/nnpz_tests/Shift9ReferencePhotometry.fits\n"
     ]
    }
   ],
   "source": [
    "rebuild_photometry(r_shift_9_reference_photometry, filters_dir)"
   ]
  },
  {
   "cell_type": "markdown",
   "metadata": {},
   "source": [
    "### Find \"real\" neighbours\n",
    "Ok, so we have re-computed the photometry shifting the filter `r` by 100, which is the maximum shift value on the catalog\n",
    "generated by Coupon.\n",
    "\n",
    "We need now to run NNPZ using *only* bruteforce ($\\chi^2$ distance) to find the best 30 against `r_shift_9` (which is shifted by 100).\n",
    "\n",
    "To make things easier, we patch an existing configuration file."
   ]
  },
  {
   "cell_type": "code",
   "execution_count": 63,
   "metadata": {},
   "outputs": [],
   "source": [
    "real_output_file = os.path.join(output_dir, 'Shift9Real.fits')"
   ]
  },
  {
   "cell_type": "code",
   "execution_count": 64,
   "metadata": {},
   "outputs": [],
   "source": [
    "nnpz_config = {}\n",
    "with open(nnpz_original_config_file) as fd:\n",
    "    exec(fd.read(), nnpz_config)"
   ]
  },
  {
   "cell_type": "code",
   "execution_count": 68,
   "metadata": {},
   "outputs": [],
   "source": [
    "nnpz_config['reference_sample_dir'] = reference_sample\n",
    "nnpz_config['reference_sample_phot_file'] = r_shift_9_reference_photometry\n",
    "nnpz_config['target_catalog'] = target_catalog\n",
    "nnpz_config['target_catalog_filters'] = [\n",
    "    ('u_obs', 'u_obs_err'),\n",
    "    ('g_obs', 'g_obs_err'),\n",
    "    ('r_shift9_obs', 'r_shift9_obs_err'),\n",
    "    ('i_obs', 'i_obs_err'),\n",
    "    ('z_obs', 'z_obs_err'),\n",
    "    ('vis_obs', 'vis_obs_err'),\n",
    "    ('Y_obs', 'Y_obs_err'),\n",
    "    ('J_obs', 'J_obs_err'),\n",
    "    ('H_obs', 'H_obs_err')\n",
    "]\n",
    "nnpz_config['target_catalog_filters_mean'] = None\n",
    "nnpz_config['input_size'] = 2000 # To be changed\n",
    "nnpz_config['neighbor_method'] = 'BruteForce'\n",
    "nnpz_config['neighbors_no'] = 30\n",
    "nnpz_config['output_file'] = real_output_file\n",
    "if 'pdz_mc_samples' in nnpz_config:\n",
    "    del nnpz_config['pdz_mc_samples']"
   ]
  },
  {
   "cell_type": "code",
   "execution_count": 69,
   "metadata": {},
   "outputs": [
    {
     "name": "stdout",
     "output_type": "stream",
     "text": [
      "Configuration file: /tmp/nnpz_tests/nnpz.conf\n",
      "Running NNPZ with the following options:\n",
      "    target_transmission_provider : shifted\n",
      "    log_level : DEBUG\n",
      "    output_file : /home/aalvarez/Work/Data/coupon/ComparativeMethods_Shift/Shift9Real.fits\n",
      "    copy_input_columns : True\n",
      "    reference_sample_phot_file : /tmp/nnpz_tests/Shift9ReferencePhotometry.fits\n",
      "    weight_method : Likelihood\n",
      "    input_size : 2000\n",
      "    flags_in_separate_columns : True\n",
      "    reference_sample_dir : /home/aalvarez/Work/Data/dc3/ReferenceSample\n",
      "    neighbors_no : 30\n",
      "    target_catalog_filters_mean : None\n",
      "    batch_size : 2000\n",
      "    target_catalog_filters : [('u_obs', 'u_obs_err'), ('g_obs', 'g_obs_err'), ('r_shift9_obs', 'r_shift9_obs_err'), ('i_obs', 'i_obs_err'), ('z_obs', 'z_obs_err'), ('vis_obs', 'vis_obs_err'), ('Y_obs', 'Y_obs_err'), ('J_obs', 'J_obs_err'), ('H_obs', 'H_obs_err')]\n",
      "    target_catalog : /home/aalvarez/Work/Data/coupon/fluxes_COSMOS15_test_with_means.fits\n",
      "    reference_sample_phot_filters : ['u', 'g', 'r', 'i', 'z', 'vis', 'Y', 'J', 'H']\n",
      "    reference_catalog_filters : [('u_obs', 'u_obs_err'), ('g_obs', 'g_obs_err'), ('r_obs', 'r_obs_err'), ('i_obs', 'i_obs_err'), ('z_obs', 'z_obs_err'), ('vis_obs', 'vis_obs_err'), ('Y_obs', 'Y_obs_err'), ('J_obs', 'J_obs_err'), ('H_obs', 'H_obs_err')]\n",
      "    neighbor_method : BruteForce\n",
      "    reference_catalog_redshift : z_true\n",
      "    missing_photometry_flags : [-99]\n",
      "    weight_method_alternative : Chi2\n",
      "    reference_catalog_out_mean_phot_filters : [('u_obs', 'u_obs_err'), ('g_obs', 'g_obs_err'), ('r_obs', 'r_obs_err'), ('i_obs', 'i_obs_err'), ('z_obs', 'z_obs_err'), ('vis_obs', 'vis_obs_err'), ('Y_obs', 'Y_obs_err'), ('J_obs', 'J_obs_err'), ('H_obs', 'H_obs_err')]\n",
      "    neighbor_info_output : True\n",
      "    pdz_quantiles : [0.25, 0.5]\n",
      "    reference_sample_out_mean_phot_filters : ['u', 'g', 'r', 'i', 'z', 'vis', 'Y', 'J', 'H']\n",
      "\n",
      "Reading reference sample from /home/aalvarez/Work/Data/dc3/ReferenceSample...\n",
      "Reading reference sample done\n",
      "Target catalog photometric columns: [('u_obs', 'u_obs_err'), ('g_obs', 'g_obs_err'), ('r_shift9_obs', 'r_shift9_obs_err'), ('i_obs', 'i_obs_err'), ('z_obs', 'z_obs_err'), ('vis_obs', 'vis_obs_err'), ('Y_obs', 'Y_obs_err'), ('J_obs', 'J_obs_err'), ('H_obs', 'H_obs_err')]\n",
      "Reading target catalog: /home/aalvarez/Work/Data/coupon/fluxes_COSMOS15_test_with_means.fits\n",
      "Processing only first 2000 objects from target catalog\n",
      "Using reference sample photometry from /tmp/nnpz_tests/Shift9ReferencePhotometry.fits\n",
      "Reference sample photometric bands: ['u', 'g', 'r', 'i', 'z', 'vis', 'Y', 'J', 'H']\n",
      "Using copied photometries for weight calculation\n",
      "Finding neighbors... 100%   \n",
      "Computing neighbor weights...100%   \n",
      "Adding contributions to output...100%   \n",
      "Created file /home/aalvarez/Work/Data/coupon/ComparativeMethods_Shift/Shift9Real.fits\n"
     ]
    },
    {
     "data": {
      "text/plain": [
       "200.8839876219863"
      ]
     },
     "execution_count": 69,
     "metadata": {},
     "output_type": "execute_result"
    }
   ],
   "source": [
    "run_nnpz(nnpz_bin, nnpz_config, nnpz_env)"
   ]
  },
  {
   "cell_type": "markdown",
   "metadata": {},
   "source": [
    "### Run now with the actual reference sample (not shifted)\n",
    "We use the actual reference sample, without the shifted transmission, and classify the same target catalog (with the shifted field as well).\n",
    "This time we use the KD-Tree implementation, and get 1000 neighbours, which should (hopefully) include the \"real\" neighbours we got from the previous step."
   ]
  },
  {
   "cell_type": "code",
   "execution_count": 70,
   "metadata": {},
   "outputs": [],
   "source": [
    "nnpz_config['reference_sample_phot_file'] = '/home/aalvarez/Work/Data/dc3/dc3_F_nu_uJy.fits'\n",
    "nnpz_config['neighbor_method'] = 'KDTree'\n",
    "nnpz_config['neighbors_no'] = 1000\n",
    "euclidean_output_file = os.path.join(output_dir, 'Shift9Euclidean.fits')\n",
    "nnpz_config['output_file'] = euclidean_output_file"
   ]
  },
  {
   "cell_type": "code",
   "execution_count": 71,
   "metadata": {},
   "outputs": [
    {
     "name": "stdout",
     "output_type": "stream",
     "text": [
      "Configuration file: /tmp/nnpz_tests/nnpz.conf\n",
      "Running NNPZ with the following options:\n",
      "    target_transmission_provider : shifted\n",
      "    log_level : DEBUG\n",
      "    output_file : /home/aalvarez/Work/Data/coupon/ComparativeMethods_Shift/Shift9Euclidean.fits\n",
      "    copy_input_columns : True\n",
      "    reference_sample_phot_file : /home/aalvarez/Work/Data/dc3/dc3_F_nu_uJy.fits\n",
      "    weight_method : Likelihood\n",
      "    input_size : 2000\n",
      "    flags_in_separate_columns : True\n",
      "    reference_sample_dir : /home/aalvarez/Work/Data/dc3/ReferenceSample\n",
      "    neighbors_no : 1000\n",
      "    target_catalog_filters_mean : None\n",
      "    batch_size : 2000\n",
      "    target_catalog_filters : [('u_obs', 'u_obs_err'), ('g_obs', 'g_obs_err'), ('r_shift9_obs', 'r_shift9_obs_err'), ('i_obs', 'i_obs_err'), ('z_obs', 'z_obs_err'), ('vis_obs', 'vis_obs_err'), ('Y_obs', 'Y_obs_err'), ('J_obs', 'J_obs_err'), ('H_obs', 'H_obs_err')]\n",
      "    target_catalog : /home/aalvarez/Work/Data/coupon/fluxes_COSMOS15_test_with_means.fits\n",
      "    reference_sample_phot_filters : ['u', 'g', 'r', 'i', 'z', 'vis', 'Y', 'J', 'H']\n",
      "    reference_catalog_filters : [('u_obs', 'u_obs_err'), ('g_obs', 'g_obs_err'), ('r_obs', 'r_obs_err'), ('i_obs', 'i_obs_err'), ('z_obs', 'z_obs_err'), ('vis_obs', 'vis_obs_err'), ('Y_obs', 'Y_obs_err'), ('J_obs', 'J_obs_err'), ('H_obs', 'H_obs_err')]\n",
      "    neighbor_method : KDTree\n",
      "    reference_catalog_redshift : z_true\n",
      "    missing_photometry_flags : [-99]\n",
      "    weight_method_alternative : Chi2\n",
      "    reference_catalog_out_mean_phot_filters : [('u_obs', 'u_obs_err'), ('g_obs', 'g_obs_err'), ('r_obs', 'r_obs_err'), ('i_obs', 'i_obs_err'), ('z_obs', 'z_obs_err'), ('vis_obs', 'vis_obs_err'), ('Y_obs', 'Y_obs_err'), ('J_obs', 'J_obs_err'), ('H_obs', 'H_obs_err')]\n",
      "    neighbor_info_output : True\n",
      "    pdz_quantiles : [0.25, 0.5]\n",
      "    reference_sample_out_mean_phot_filters : ['u', 'g', 'r', 'i', 'z', 'vis', 'Y', 'J', 'H']\n",
      "\n",
      "Target catalog photometric columns: [('u_obs', 'u_obs_err'), ('g_obs', 'g_obs_err'), ('r_shift9_obs', 'r_shift9_obs_err'), ('i_obs', 'i_obs_err'), ('z_obs', 'z_obs_err'), ('vis_obs', 'vis_obs_err'), ('Y_obs', 'Y_obs_err'), ('J_obs', 'J_obs_err'), ('H_obs', 'H_obs_err')]\n",
      "Reading target catalog: /home/aalvarez/Work/Data/coupon/fluxes_COSMOS15_test_with_means.fits\n",
      "Processing only first 2000 objects from target catalog\n",
      "Reading reference sample from /home/aalvarez/Work/Data/dc3/ReferenceSample...\n",
      "Reading reference sample done\n",
      "Using reference sample photometry from /home/aalvarez/Work/Data/dc3/dc3_F_nu_uJy.fits\n",
      "Reference sample photometric bands: ['u', 'g', 'r', 'i', 'z', 'vis', 'Y', 'J', 'H']\n",
      "Using copied photometries for weight calculation\n",
      "Finding neighbors... 100%   \n",
      "Computing neighbor weights...100%   \n",
      "Adding contributions to output...100%   \n",
      "Created file /home/aalvarez/Work/Data/coupon/ComparativeMethods_Shift/Shift9Euclidean.fits\n",
      "Took 97.53248558298219 seconds\n"
     ]
    }
   ],
   "source": [
    "duration = run_nnpz(nnpz_bin, nnpz_config, nnpz_env)\n",
    "print(f\"Took {duration} seconds\")"
   ]
  },
  {
   "cell_type": "markdown",
   "metadata": {},
   "source": [
    "### Compare euclidean neighbours with \"real\" neighbours\n",
    "So, by now, we have in `euclidean_output_file` 1k neighbours in euclidean distance, and in `real_output_file` we have the\n",
    "30 real neighbours.\n",
    "We want to check how many of those 30 are in the euclidean output."
   ]
  },
  {
   "cell_type": "code",
   "execution_count": 72,
   "metadata": {},
   "outputs": [
    {
     "name": "stderr",
     "output_type": "stream",
     "text": [
      "WARNING: hdu= was not specified but multiple tables are present, reading in first available table (hdu=1) [astropy.io.fits.connect]\n"
     ]
    }
   ],
   "source": [
    "euclidean = Table.read(euclidean_output_file)\n",
    "real = Table.read(real_output_file)"
   ]
  },
  {
   "cell_type": "code",
   "execution_count": 73,
   "metadata": {},
   "outputs": [
    {
     "name": "stdout",
     "output_type": "stream",
     "text": [
      "True\n"
     ]
    },
    {
     "data": {
      "text/plain": [
       "array([  0.00000000e+00,   0.00000000e+00,   1.00000000e+00,\n",
       "         0.00000000e+00,   1.00000000e+00,   0.00000000e+00,\n",
       "         1.00000000e+00,   2.00000000e+00,   1.00000000e+00,\n",
       "         0.00000000e+00,   0.00000000e+00,   0.00000000e+00,\n",
       "         3.00000000e+00,   2.00000000e+00,   0.00000000e+00,\n",
       "         1.00000000e+00,   1.00000000e+00,   1.00000000e+00,\n",
       "         3.00000000e+00,   2.00000000e+00,   3.00000000e+00,\n",
       "         6.00000000e+00,   4.00000000e+00,   7.00000000e+00,\n",
       "         1.30000000e+01,   9.00000000e+00,   1.00000000e+01,\n",
       "         3.20000000e+01,   5.10000000e+01,   1.22000000e+02,\n",
       "         1.72400000e+03])"
      ]
     },
     "execution_count": 73,
     "metadata": {},
     "output_type": "execute_result"
    },
    {
     "data": {
      "image/png": "[encoded data removed]",
      "text/plain": [
       "<Figure size 432x288 with 1 Axes>"
      ]
     },
     "metadata": {},
     "output_type": "display_data"
    }
   ],
   "source": [
    "print(np.all(real['ID'] == euclidean['ID'])) # Just make sure the output is in the same order\n",
    "plot_matching(real, euclidean)"
   ]
  },
  {
   "cell_type": "markdown",
   "metadata": {},
   "source": [
    "Not bad at first sight."
   ]
  },
  {
   "cell_type": "markdown",
   "metadata": {},
   "source": [
    "### Compare combined neighbours with \"real\" neighbours\n",
    "Pretty much same flow, but use the combined method, with 30 final neighbours, 1000 batch size."
   ]
  },
  {
   "cell_type": "code",
   "execution_count": 74,
   "metadata": {},
   "outputs": [],
   "source": [
    "nnpz_config['neighbor_method'] = 'Combined'\n",
    "nnpz_config['batch_size'] = 1000\n",
    "nnpz_config['neighbors_no'] = 30\n",
    "combined_output_file = os.path.join(output_dir, 'Shift9Combined.fits')\n",
    "nnpz_config['output_file'] = combined_output_file"
   ]
  },
  {
   "cell_type": "code",
   "execution_count": 75,
   "metadata": {},
   "outputs": [
    {
     "name": "stdout",
     "output_type": "stream",
     "text": [
      "Configuration file: /tmp/nnpz_tests/nnpz.conf\n",
      "Running NNPZ with the following options:\n",
      "    target_transmission_provider : shifted\n",
      "    log_level : DEBUG\n",
      "    output_file : /home/aalvarez/Work/Data/coupon/ComparativeMethods_Shift/Shift9Combined.fits\n",
      "    copy_input_columns : True\n",
      "    reference_sample_phot_file : /home/aalvarez/Work/Data/dc3/dc3_F_nu_uJy.fits\n",
      "    weight_method : Likelihood\n",
      "    input_size : 2000\n",
      "    flags_in_separate_columns : True\n",
      "    reference_sample_dir : /home/aalvarez/Work/Data/dc3/ReferenceSample\n",
      "    neighbors_no : 30\n",
      "    target_catalog_filters_mean : None\n",
      "    batch_size : 1000\n",
      "    target_catalog_filters : [('u_obs', 'u_obs_err'), ('g_obs', 'g_obs_err'), ('r_shift9_obs', 'r_shift9_obs_err'), ('i_obs', 'i_obs_err'), ('z_obs', 'z_obs_err'), ('vis_obs', 'vis_obs_err'), ('Y_obs', 'Y_obs_err'), ('J_obs', 'J_obs_err'), ('H_obs', 'H_obs_err')]\n",
      "    target_catalog : /home/aalvarez/Work/Data/coupon/fluxes_COSMOS15_test_with_means.fits\n",
      "    reference_sample_phot_filters : ['u', 'g', 'r', 'i', 'z', 'vis', 'Y', 'J', 'H']\n",
      "    reference_catalog_filters : [('u_obs', 'u_obs_err'), ('g_obs', 'g_obs_err'), ('r_obs', 'r_obs_err'), ('i_obs', 'i_obs_err'), ('z_obs', 'z_obs_err'), ('vis_obs', 'vis_obs_err'), ('Y_obs', 'Y_obs_err'), ('J_obs', 'J_obs_err'), ('H_obs', 'H_obs_err')]\n",
      "    neighbor_method : Combined\n",
      "    reference_catalog_redshift : z_true\n",
      "    missing_photometry_flags : [-99]\n",
      "    weight_method_alternative : Chi2\n",
      "    reference_catalog_out_mean_phot_filters : [('u_obs', 'u_obs_err'), ('g_obs', 'g_obs_err'), ('r_obs', 'r_obs_err'), ('i_obs', 'i_obs_err'), ('z_obs', 'z_obs_err'), ('vis_obs', 'vis_obs_err'), ('Y_obs', 'Y_obs_err'), ('J_obs', 'J_obs_err'), ('H_obs', 'H_obs_err')]\n",
      "    neighbor_info_output : True\n",
      "    pdz_quantiles : [0.25, 0.5]\n",
      "    reference_sample_out_mean_phot_filters : ['u', 'g', 'r', 'i', 'z', 'vis', 'Y', 'J', 'H']\n",
      "\n",
      "Reading reference sample from /home/aalvarez/Work/Data/dc3/ReferenceSample...\n",
      "Reading reference sample done\n",
      "Using reference sample photometry from /home/aalvarez/Work/Data/dc3/dc3_F_nu_uJy.fits\n",
      "Reference sample photometric bands: ['u', 'g', 'r', 'i', 'z', 'vis', 'Y', 'J', 'H']\n",
      "Target catalog photometric columns: [('u_obs', 'u_obs_err'), ('g_obs', 'g_obs_err'), ('r_shift9_obs', 'r_shift9_obs_err'), ('i_obs', 'i_obs_err'), ('z_obs', 'z_obs_err'), ('vis_obs', 'vis_obs_err'), ('Y_obs', 'Y_obs_err'), ('J_obs', 'J_obs_err'), ('H_obs', 'H_obs_err')]\n",
      "Reading target catalog: /home/aalvarez/Work/Data/coupon/fluxes_COSMOS15_test_with_means.fits\n",
      "Processing only first 2000 objects from target catalog\n",
      "Using copied photometries for weight calculation\n",
      "Finding neighbors... 100%   \n",
      "Computing neighbor weights...100%   \n",
      "Adding contributions to output...100%   \n",
      "Created file /home/aalvarez/Work/Data/coupon/ComparativeMethods_Shift/Shift9Combined.fits\n",
      "Took 17.81597791198874 seconds\n"
     ]
    }
   ],
   "source": [
    "duration = run_nnpz(nnpz_bin, nnpz_config, nnpz_env)\n",
    "print(f\"Took {duration} seconds\")"
   ]
  },
  {
   "cell_type": "code",
   "execution_count": 76,
   "metadata": {},
   "outputs": [
    {
     "name": "stderr",
     "output_type": "stream",
     "text": [
      "WARNING: hdu= was not specified but multiple tables are present, reading in first available table (hdu=1) [astropy.io.fits.connect]\n"
     ]
    }
   ],
   "source": [
    "combined = Table.read(combined_output_file)"
   ]
  },
  {
   "cell_type": "code",
   "execution_count": 77,
   "metadata": {},
   "outputs": [
    {
     "data": {
      "image/png": "[encoded data removed]",
      "text/plain": [
       "<Figure size 432x288 with 1 Axes>"
      ]
     },
     "metadata": {},
     "output_type": "display_data"
    }
   ],
   "source": [
    "counts = plot_matching(real, combined)"
   ]
  },
  {
   "cell_type": "code",
   "execution_count": 78,
   "metadata": {},
   "outputs": [
    {
     "data": {
      "text/plain": [
       "0.0"
      ]
     },
     "execution_count": 78,
     "metadata": {},
     "output_type": "execute_result"
    }
   ],
   "source": [
    "counts[0]"
   ]
  },
  {
   "cell_type": "markdown",
   "metadata": {},
   "source": [
    "## Same, but with skew\n",
    "Let's use `r_skewing9`."
   ]
  },
  {
   "cell_type": "markdown",
   "metadata": {},
   "source": [
    "### Get \"real\" neighbours, using bruteforce and a recomputed photometry"
   ]
  },
  {
   "cell_type": "code",
   "execution_count": 79,
   "metadata": {},
   "outputs": [],
   "source": [
    "r_skew_9_reference_photometry = '/tmp/nnpz_tests/Skew9ReferencePhotometry.fits'\n",
    "skew9_filters_dir = '/tmp/nnpz_tests/Skew9Filters'"
   ]
  },
  {
   "cell_type": "code",
   "execution_count": 80,
   "metadata": {},
   "outputs": [
    {
     "data": {
      "image/png": "[encoded data removed]",
      "text/plain": [
       "<Figure size 432x288 with 1 Axes>"
      ]
     },
     "metadata": {},
     "output_type": "display_data"
    }
   ],
   "source": [
    "extract_filter_set(original_filters_dir, skew9_filters_dir, 'r', flux_hdul, 'r_skewing9')\n",
    "plot_filter(skew9_filters_dir, 'r')"
   ]
  },
  {
   "cell_type": "code",
   "execution_count": 82,
   "metadata": {},
   "outputs": [
    {
     "name": "stdout",
     "output_type": "stream",
     "text": [
      "\n",
      "Opening reference sample /home/aalvarez/Work/Data/dc3/ReferenceSample...\n",
      "Successfully opened reference sample\n",
      "\n",
      "Reading filter transmissions from /tmp/nnpz_tests/Skew9Filters...\n",
      "    Y\n",
      "    i\n",
      "    J\n",
      "    u\n",
      "    r\n",
      "    g\n",
      "    z\n",
      "    H\n",
      "    vis\n",
      "Successfully read filter transmissions\n",
      "\n",
      "Computing photometry values...\n",
      "    Photometry type: F_nu_uJy\n",
      "    Progress: 0%\n",
      "    Progress: 1%\n",
      "    Progress: 2%\n",
      "    Progress: 3%\n",
      "    Progress: 4%\n",
      "    Progress: 5%\n",
      "    Progress: 6%\n",
      "    Progress: 7%\n",
      "    Progress: 8%\n",
      "    Progress: 9%\n",
      "    Progress: 10%\n",
      "    Progress: 11%\n",
      "    Progress: 12%\n",
      "    Progress: 13%\n",
      "    Progress: 14%\n",
      "    Progress: 15%\n",
      "    Progress: 16%\n",
      "    Progress: 17%\n",
      "    Progress: 18%\n",
      "    Progress: 19%\n",
      "    Progress: 20%\n",
      "    Progress: 21%\n",
      "    Progress: 22%\n",
      "    Progress: 23%\n",
      "    Progress: 24%\n",
      "    Progress: 25%\n",
      "    Progress: 26%\n",
      "    Progress: 27%\n",
      "    Progress: 28%\n",
      "    Progress: 29%\n",
      "    Progress: 30%\n",
      "    Progress: 31%\n",
      "    Progress: 32%\n",
      "    Progress: 33%\n",
      "    Progress: 34%\n",
      "    Progress: 35%\n",
      "    Progress: 36%\n",
      "    Progress: 37%\n",
      "    Progress: 38%\n",
      "    Progress: 39%\n",
      "    Progress: 40%\n",
      "    Progress: 41%\n",
      "    Progress: 42%\n",
      "    Progress: 43%\n",
      "    Progress: 44%\n",
      "    Progress: 45%\n",
      "    Progress: 46%\n",
      "    Progress: 47%\n",
      "    Progress: 48%\n",
      "    Progress: 49%\n",
      "    Progress: 50%\n",
      "    Progress: 51%\n",
      "    Progress: 52%\n",
      "    Progress: 53%\n",
      "    Progress: 54%\n",
      "    Progress: 55%\n",
      "    Progress: 56%\n",
      "    Progress: 57%\n",
      "    Progress: 58%\n",
      "    Progress: 59%\n",
      "    Progress: 60%\n",
      "    Progress: 61%\n",
      "    Progress: 62%\n",
      "    Progress: 63%\n",
      "    Progress: 64%\n",
      "    Progress: 65%\n",
      "    Progress: 66%\n",
      "    Progress: 67%\n",
      "    Progress: 68%\n",
      "    Progress: 69%\n",
      "    Progress: 70%\n",
      "    Progress: 71%\n",
      "    Progress: 72%\n",
      "    Progress: 73%\n",
      "    Progress: 74%\n",
      "    Progress: 75%\n",
      "    Progress: 76%\n",
      "    Progress: 77%\n",
      "    Progress: 78%\n",
      "    Progress: 79%\n",
      "    Progress: 80%\n",
      "    Progress: 81%\n",
      "    Progress: 82%\n",
      "    Progress: 83%\n",
      "    Progress: 84%\n",
      "    Progress: 85%\n",
      "    Progress: 86%\n",
      "    Progress: 87%\n",
      "    Progress: 88%\n",
      "    Progress: 89%\n",
      "    Progress: 90%\n",
      "    Progress: 91%\n",
      "    Progress: 92%\n",
      "    Progress: 93%\n",
      "    Progress: 94%\n",
      "    Progress: 95%\n",
      "    Progress: 96%\n",
      "    Progress: 97%\n",
      "    Progress: 98%\n",
      "    Progress: 99%\n",
      "Successfully computed photometry for 518404 objects\n",
      "\n",
      "Creating output...\n",
      "Photometry created in /tmp/nnpz_tests/Skew9ReferencePhotometry.fits\n"
     ]
    }
   ],
   "source": [
    "rebuild_photometry(r_skew_9_reference_photometry, skew9_filters_dir)"
   ]
  },
  {
   "cell_type": "code",
   "execution_count": 83,
   "metadata": {},
   "outputs": [],
   "source": [
    "nnpz_config['target_catalog_filters'] = [\n",
    "    ('u_obs', 'u_obs_err'),\n",
    "    ('g_obs', 'g_obs_err'),\n",
    "    ('r_skewing9_obs', 'r_skewing9_obs_err'),\n",
    "    ('i_obs', 'i_obs_err'),\n",
    "    ('z_obs', 'z_obs_err'),\n",
    "    ('vis_obs', 'vis_obs_err'),\n",
    "    ('Y_obs', 'Y_obs_err'),\n",
    "    ('J_obs', 'J_obs_err'),\n",
    "    ('H_obs', 'H_obs_err')\n",
    "]\n",
    "nnpz_config['reference_sample_phot_file'] = r_skew_9_reference_photometry\n",
    "nnpz_config['neighbor_method'] = 'BruteForce'\n",
    "nnpz_config['neighbors_no'] = 30\n",
    "skew9_output_file = os.path.join(output_dir, 'Skew9Real.fits')\n",
    "nnpz_config['output_file'] = skew9_output_file"
   ]
  },
  {
   "cell_type": "code",
   "execution_count": 84,
   "metadata": {},
   "outputs": [
    {
     "name": "stdout",
     "output_type": "stream",
     "text": [
      "Configuration file: /tmp/nnpz_tests/nnpz.conf\n",
      "Running NNPZ with the following options:\n",
      "    target_transmission_provider : shifted\n",
      "    log_level : DEBUG\n",
      "    output_file : /home/aalvarez/Work/Data/coupon/ComparativeMethods_Shift/Skew9Real.fits\n",
      "    copy_input_columns : True\n",
      "    reference_sample_phot_file : /tmp/nnpz_tests/Skew9ReferencePhotometry.fits\n",
      "    weight_method : Likelihood\n",
      "    input_size : 2000\n",
      "    flags_in_separate_columns : True\n",
      "    reference_sample_dir : /home/aalvarez/Work/Data/dc3/ReferenceSample\n",
      "    neighbors_no : 30\n",
      "    target_catalog_filters_mean : None\n",
      "    batch_size : 1000\n",
      "    target_catalog_filters : [('u_obs', 'u_obs_err'), ('g_obs', 'g_obs_err'), ('r_skewing9_obs', 'r_skewing9_obs_err'), ('i_obs', 'i_obs_err'), ('z_obs', 'z_obs_err'), ('vis_obs', 'vis_obs_err'), ('Y_obs', 'Y_obs_err'), ('J_obs', 'J_obs_err'), ('H_obs', 'H_obs_err')]\n",
      "    target_catalog : /home/aalvarez/Work/Data/coupon/fluxes_COSMOS15_test_with_means.fits\n",
      "    reference_sample_phot_filters : ['u', 'g', 'r', 'i', 'z', 'vis', 'Y', 'J', 'H']\n",
      "    reference_catalog_filters : [('u_obs', 'u_obs_err'), ('g_obs', 'g_obs_err'), ('r_obs', 'r_obs_err'), ('i_obs', 'i_obs_err'), ('z_obs', 'z_obs_err'), ('vis_obs', 'vis_obs_err'), ('Y_obs', 'Y_obs_err'), ('J_obs', 'J_obs_err'), ('H_obs', 'H_obs_err')]\n",
      "    neighbor_method : BruteForce\n",
      "    reference_catalog_redshift : z_true\n",
      "    missing_photometry_flags : [-99]\n",
      "    weight_method_alternative : Chi2\n",
      "    reference_catalog_out_mean_phot_filters : [('u_obs', 'u_obs_err'), ('g_obs', 'g_obs_err'), ('r_obs', 'r_obs_err'), ('i_obs', 'i_obs_err'), ('z_obs', 'z_obs_err'), ('vis_obs', 'vis_obs_err'), ('Y_obs', 'Y_obs_err'), ('J_obs', 'J_obs_err'), ('H_obs', 'H_obs_err')]\n",
      "    neighbor_info_output : True\n",
      "    pdz_quantiles : [0.25, 0.5]\n",
      "    reference_sample_out_mean_phot_filters : ['u', 'g', 'r', 'i', 'z', 'vis', 'Y', 'J', 'H']\n",
      "\n",
      "Target catalog photometric columns: [('u_obs', 'u_obs_err'), ('g_obs', 'g_obs_err'), ('r_skewing9_obs', 'r_skewing9_obs_err'), ('i_obs', 'i_obs_err'), ('z_obs', 'z_obs_err'), ('vis_obs', 'vis_obs_err'), ('Y_obs', 'Y_obs_err'), ('J_obs', 'J_obs_err'), ('H_obs', 'H_obs_err')]\n",
      "Reading target catalog: /home/aalvarez/Work/Data/coupon/fluxes_COSMOS15_test_with_means.fits\n",
      "Processing only first 2000 objects from target catalog\n",
      "Reading reference sample from /home/aalvarez/Work/Data/dc3/ReferenceSample...\n",
      "Reading reference sample done\n",
      "Using reference sample photometry from /tmp/nnpz_tests/Skew9ReferencePhotometry.fits\n",
      "Reference sample photometric bands: ['u', 'g', 'r', 'i', 'z', 'vis', 'Y', 'J', 'H']\n",
      "Using copied photometries for weight calculation\n",
      "Finding neighbors... 100%   \n",
      "Computing neighbor weights...100%   \n",
      "Adding contributions to output...100%   \n",
      "Created file /home/aalvarez/Work/Data/coupon/ComparativeMethods_Shift/Skew9Real.fits\n",
      "Took 181.01725467399228 seconds\n"
     ]
    }
   ],
   "source": [
    "duration = run_nnpz(nnpz_bin, nnpz_config, nnpz_env)\n",
    "print(f\"Took {duration} seconds\")"
   ]
  },
  {
   "cell_type": "markdown",
   "metadata": {},
   "source": [
    "### Re-run, KD-Tree, but using the standard reference sample"
   ]
  },
  {
   "cell_type": "code",
   "execution_count": 85,
   "metadata": {},
   "outputs": [],
   "source": [
    "nnpz_config['reference_sample_phot_file'] = '/home/aalvarez/Work/Data/dc3/dc3_F_nu_uJy.fits'\n",
    "nnpz_config['neighbor_method'] = 'KDTree'\n",
    "nnpz_config['neighbors_no'] = 1000\n",
    "skew9_euclidean_output_file = os.path.join(output_dir, 'Skew9Euclidean.fits')\n",
    "nnpz_config['output_file'] = skew9_euclidean_output_file"
   ]
  },
  {
   "cell_type": "code",
   "execution_count": 86,
   "metadata": {},
   "outputs": [
    {
     "name": "stdout",
     "output_type": "stream",
     "text": [
      "Configuration file: /tmp/nnpz_tests/nnpz.conf\n",
      "Running NNPZ with the following options:\n",
      "    target_transmission_provider : shifted\n",
      "    log_level : DEBUG\n",
      "    output_file : /home/aalvarez/Work/Data/coupon/ComparativeMethods_Shift/Skew9Euclidean.fits\n",
      "    copy_input_columns : True\n",
      "    reference_sample_phot_file : /home/aalvarez/Work/Data/dc3/dc3_F_nu_uJy.fits\n",
      "    weight_method : Likelihood\n",
      "    input_size : 2000\n",
      "    flags_in_separate_columns : True\n",
      "    reference_sample_dir : /home/aalvarez/Work/Data/dc3/ReferenceSample\n",
      "    neighbors_no : 1000\n",
      "    target_catalog_filters_mean : None\n",
      "    batch_size : 1000\n",
      "    target_catalog_filters : [('u_obs', 'u_obs_err'), ('g_obs', 'g_obs_err'), ('r_skewing9_obs', 'r_skewing9_obs_err'), ('i_obs', 'i_obs_err'), ('z_obs', 'z_obs_err'), ('vis_obs', 'vis_obs_err'), ('Y_obs', 'Y_obs_err'), ('J_obs', 'J_obs_err'), ('H_obs', 'H_obs_err')]\n",
      "    target_catalog : /home/aalvarez/Work/Data/coupon/fluxes_COSMOS15_test_with_means.fits\n",
      "    reference_sample_phot_filters : ['u', 'g', 'r', 'i', 'z', 'vis', 'Y', 'J', 'H']\n",
      "    reference_catalog_filters : [('u_obs', 'u_obs_err'), ('g_obs', 'g_obs_err'), ('r_obs', 'r_obs_err'), ('i_obs', 'i_obs_err'), ('z_obs', 'z_obs_err'), ('vis_obs', 'vis_obs_err'), ('Y_obs', 'Y_obs_err'), ('J_obs', 'J_obs_err'), ('H_obs', 'H_obs_err')]\n",
      "    neighbor_method : KDTree\n",
      "    reference_catalog_redshift : z_true\n",
      "    missing_photometry_flags : [-99]\n",
      "    weight_method_alternative : Chi2\n",
      "    reference_catalog_out_mean_phot_filters : [('u_obs', 'u_obs_err'), ('g_obs', 'g_obs_err'), ('r_obs', 'r_obs_err'), ('i_obs', 'i_obs_err'), ('z_obs', 'z_obs_err'), ('vis_obs', 'vis_obs_err'), ('Y_obs', 'Y_obs_err'), ('J_obs', 'J_obs_err'), ('H_obs', 'H_obs_err')]\n",
      "    neighbor_info_output : True\n",
      "    pdz_quantiles : [0.25, 0.5]\n",
      "    reference_sample_out_mean_phot_filters : ['u', 'g', 'r', 'i', 'z', 'vis', 'Y', 'J', 'H']\n",
      "\n",
      "Target catalog photometric columns: [('u_obs', 'u_obs_err'), ('g_obs', 'g_obs_err'), ('r_skewing9_obs', 'r_skewing9_obs_err'), ('i_obs', 'i_obs_err'), ('z_obs', 'z_obs_err'), ('vis_obs', 'vis_obs_err'), ('Y_obs', 'Y_obs_err'), ('J_obs', 'J_obs_err'), ('H_obs', 'H_obs_err')]\n",
      "Reading target catalog: /home/aalvarez/Work/Data/coupon/fluxes_COSMOS15_test_with_means.fits\n",
      "Processing only first 2000 objects from target catalog\n",
      "Reading reference sample from /home/aalvarez/Work/Data/dc3/ReferenceSample...\n",
      "Reading reference sample done\n",
      "Using reference sample photometry from /home/aalvarez/Work/Data/dc3/dc3_F_nu_uJy.fits\n",
      "Reference sample photometric bands: ['u', 'g', 'r', 'i', 'z', 'vis', 'Y', 'J', 'H']\n",
      "Using copied photometries for weight calculation\n",
      "Finding neighbors... 100%   \n",
      "Computing neighbor weights...100%4 objects with all weights set to 0, using alternative weight\n",
      "[ 785 1029 1595 1633]\n",
      "\n",
      "Adding contributions to output...100%   \n",
      "Created file /home/aalvarez/Work/Data/coupon/ComparativeMethods_Shift/Skew9Euclidean.fits\n",
      "Took 98.20977681496879 seconds\n"
     ]
    }
   ],
   "source": [
    "duration = run_nnpz(nnpz_bin, nnpz_config, nnpz_env)\n",
    "print(f\"Took {duration} seconds\")"
   ]
  },
  {
   "cell_type": "code",
   "execution_count": 87,
   "metadata": {},
   "outputs": [
    {
     "name": "stderr",
     "output_type": "stream",
     "text": [
      "WARNING: hdu= was not specified but multiple tables are present, reading in first available table (hdu=1) [astropy.io.fits.connect]\n"
     ]
    }
   ],
   "source": [
    "skew9_real = Table.read(skew9_output_file)\n",
    "skew9_euclidean = Table.read(skew9_euclidean_output_file)"
   ]
  },
  {
   "cell_type": "code",
   "execution_count": 88,
   "metadata": {},
   "outputs": [
    {
     "data": {
      "image/png": "[encoded data removed]",
      "text/plain": [
       "<Figure size 432x288 with 1 Axes>"
      ]
     },
     "metadata": {},
     "output_type": "display_data"
    }
   ],
   "source": [
    "counts = plot_matching(skew9_real, skew9_euclidean)"
   ]
  },
  {
   "cell_type": "code",
   "execution_count": 89,
   "metadata": {},
   "outputs": [
    {
     "data": {
      "text/plain": [
       "0.0"
      ]
     },
     "execution_count": 89,
     "metadata": {},
     "output_type": "execute_result"
    }
   ],
   "source": [
    "counts[0]"
   ]
  },
  {
   "cell_type": "markdown",
   "metadata": {},
   "source": [
    "### Skew, Combined"
   ]
  },
  {
   "cell_type": "code",
   "execution_count": 90,
   "metadata": {},
   "outputs": [],
   "source": [
    "nnpz_config['neighbor_method'] = 'Combined'\n",
    "nnpz_config['batch_size'] = 1000\n",
    "nnpz_config['neighbors_no'] = 30\n",
    "skew9_combined_output_file = os.path.join(output_dir, 'Skew9Combined.fits')\n",
    "nnpz_config['output_file'] = skew9_combined_output_file"
   ]
  },
  {
   "cell_type": "code",
   "execution_count": 91,
   "metadata": {},
   "outputs": [
    {
     "name": "stdout",
     "output_type": "stream",
     "text": [
      "Configuration file: /tmp/nnpz_tests/nnpz.conf\n",
      "Running NNPZ with the following options:\n",
      "    target_transmission_provider : shifted\n",
      "    log_level : DEBUG\n",
      "    output_file : /home/aalvarez/Work/Data/coupon/ComparativeMethods_Shift/Skew9Combined.fits\n",
      "    copy_input_columns : True\n",
      "    reference_sample_phot_file : /home/aalvarez/Work/Data/dc3/dc3_F_nu_uJy.fits\n",
      "    weight_method : Likelihood\n",
      "    input_size : 2000\n",
      "    flags_in_separate_columns : True\n",
      "    reference_sample_dir : /home/aalvarez/Work/Data/dc3/ReferenceSample\n",
      "    neighbors_no : 30\n",
      "    target_catalog_filters_mean : None\n",
      "    batch_size : 1000\n",
      "    target_catalog_filters : [('u_obs', 'u_obs_err'), ('g_obs', 'g_obs_err'), ('r_skewing9_obs', 'r_skewing9_obs_err'), ('i_obs', 'i_obs_err'), ('z_obs', 'z_obs_err'), ('vis_obs', 'vis_obs_err'), ('Y_obs', 'Y_obs_err'), ('J_obs', 'J_obs_err'), ('H_obs', 'H_obs_err')]\n",
      "    target_catalog : /home/aalvarez/Work/Data/coupon/fluxes_COSMOS15_test_with_means.fits\n",
      "    reference_sample_phot_filters : ['u', 'g', 'r', 'i', 'z', 'vis', 'Y', 'J', 'H']\n",
      "    reference_catalog_filters : [('u_obs', 'u_obs_err'), ('g_obs', 'g_obs_err'), ('r_obs', 'r_obs_err'), ('i_obs', 'i_obs_err'), ('z_obs', 'z_obs_err'), ('vis_obs', 'vis_obs_err'), ('Y_obs', 'Y_obs_err'), ('J_obs', 'J_obs_err'), ('H_obs', 'H_obs_err')]\n",
      "    neighbor_method : Combined\n",
      "    reference_catalog_redshift : z_true\n",
      "    missing_photometry_flags : [-99]\n",
      "    weight_method_alternative : Chi2\n",
      "    reference_catalog_out_mean_phot_filters : [('u_obs', 'u_obs_err'), ('g_obs', 'g_obs_err'), ('r_obs', 'r_obs_err'), ('i_obs', 'i_obs_err'), ('z_obs', 'z_obs_err'), ('vis_obs', 'vis_obs_err'), ('Y_obs', 'Y_obs_err'), ('J_obs', 'J_obs_err'), ('H_obs', 'H_obs_err')]\n",
      "    neighbor_info_output : True\n",
      "    pdz_quantiles : [0.25, 0.5]\n",
      "    reference_sample_out_mean_phot_filters : ['u', 'g', 'r', 'i', 'z', 'vis', 'Y', 'J', 'H']\n",
      "\n",
      "Target catalog photometric columns: [('u_obs', 'u_obs_err'), ('g_obs', 'g_obs_err'), ('r_skewing9_obs', 'r_skewing9_obs_err'), ('i_obs', 'i_obs_err'), ('z_obs', 'z_obs_err'), ('vis_obs', 'vis_obs_err'), ('Y_obs', 'Y_obs_err'), ('J_obs', 'J_obs_err'), ('H_obs', 'H_obs_err')]\n",
      "Reading target catalog: /home/aalvarez/Work/Data/coupon/fluxes_COSMOS15_test_with_means.fits\n",
      "Processing only first 2000 objects from target catalog\n",
      "Reading reference sample from /home/aalvarez/Work/Data/dc3/ReferenceSample...\n",
      "Reading reference sample done\n",
      "Using reference sample photometry from /home/aalvarez/Work/Data/dc3/dc3_F_nu_uJy.fits\n",
      "Reference sample photometric bands: ['u', 'g', 'r', 'i', 'z', 'vis', 'Y', 'J', 'H']\n",
      "Using copied photometries for weight calculation\n",
      "Finding neighbors... 100%   \n",
      "Computing neighbor weights...100%4 objects with all weights set to 0, using alternative weight\n",
      "[ 785 1029 1595 1633]\n",
      "\n",
      "Adding contributions to output...100%   \n",
      "Created file /home/aalvarez/Work/Data/coupon/ComparativeMethods_Shift/Skew9Combined.fits\n",
      "Took 16.882167972042225 seconds\n"
     ]
    }
   ],
   "source": [
    "duration = run_nnpz(nnpz_bin, nnpz_config, nnpz_env)\n",
    "print(f\"Took {duration} seconds\")"
   ]
  },
  {
   "cell_type": "code",
   "execution_count": 92,
   "metadata": {},
   "outputs": [
    {
     "name": "stderr",
     "output_type": "stream",
     "text": [
      "WARNING: hdu= was not specified but multiple tables are present, reading in first available table (hdu=1) [astropy.io.fits.connect]\n"
     ]
    }
   ],
   "source": [
    "skew9_combined = Table.read(skew9_combined_output_file)"
   ]
  },
  {
   "cell_type": "code",
   "execution_count": 93,
   "metadata": {},
   "outputs": [
    {
     "data": {
      "image/png": "[encoded data removed]",
      "text/plain": [
       "<Figure size 432x288 with 1 Axes>"
      ]
     },
     "metadata": {},
     "output_type": "display_data"
    }
   ],
   "source": [
    "counts = plot_matching(skew9_real, skew9_combined)"
   ]
  },
  {
   "cell_type": "code",
   "execution_count": 94,
   "metadata": {},
   "outputs": [
    {
     "data": {
      "text/plain": [
       "0.0"
      ]
     },
     "execution_count": 94,
     "metadata": {},
     "output_type": "execute_result"
    }
   ],
   "source": [
    "counts[0]"
   ]
  }
 ],
 "metadata": {
  "kernelspec": {
   "display_name": "Python 3",
   "language": "python",
   "name": "python3"
  },
  "language_info": {
   "codemirror_mode": {
    "name": "ipython",
    "version": 3
   },
   "file_extension": ".py",
   "mimetype": "text/x-python",
   "name": "python",
   "nbconvert_exporter": "python",
   "pygments_lexer": "ipython3",
   "version": "3.6.5"
  }
 },
 "nbformat": 4,
 "nbformat_minor": 2
}
