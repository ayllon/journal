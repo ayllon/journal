{
 "cells": [
  {
   "cell_type": "code",
   "execution_count": 1,
   "metadata": {},
   "outputs": [],
   "source": [
    "%matplotlib inline\n",
    "import matplotlib.pyplot as plt\n",
    "import numpy as np\n",
    "import os\n",
    "import shutil\n",
    "import subprocess\n",
    "import sys\n",
    "import time\n",
    "\n",
    "from astropy.table import Table\n",
    "from astropy.io import fits"
   ]
  },
  {
   "cell_type": "markdown",
   "metadata": {},
   "source": [
    "### Handy functions and globals"
   ]
  },
  {
   "cell_type": "code",
   "execution_count": 2,
   "metadata": {},
   "outputs": [],
   "source": [
    "flux_file = '/home/aalvarez/Work/Data/coupon/fluxes.fits'\n",
    "nnpz_dir = '/home/aalvarez/Work/Projects/NNPZ'\n",
    "nnpz_bin = os.path.join(nnpz_dir, 'bin', 'nnpz')\n",
    "nnpzphoto_bin = os.path.join(nnpz_dir, 'bin', 'NnpzBuildPhotometry')\n",
    "reference_sample = '/home/aalvarez/Work/Data/dc3/ReferenceSample'\n",
    "reference_photo = '/home/aalvarez/Work/Data/dc3/dc3_F_nu_uJy.fits'\n",
    "nnpz_env = os.environ.copy()\n",
    "nnpz_env['PYTHONPATH'] = nnpz_env.get('PYTHONPATH', '') + ':' + nnpz_dir\n",
    "\n",
    "output_dir = '/home/aalvarez/Work/Data/coupon/ComparativeMethods_WideSoft'"
   ]
  },
  {
   "cell_type": "code",
   "execution_count": 3,
   "metadata": {},
   "outputs": [],
   "source": [
    "nnpz_original_config_file = '/home/aalvarez/Work/Data/coupon/nnpz.conf'\n",
    "target_catalog = '/home/aalvarez/Work/Data/coupon/fluxes_COSMOS15_test_with_means.fits'\n",
    "fluxes_file = '/home/aalvarez/Work/Data/coupon/fluxes.fits'"
   ]
  },
  {
   "cell_type": "code",
   "execution_count": 4,
   "metadata": {},
   "outputs": [],
   "source": [
    "flux_hdul = fits.open(flux_file)"
   ]
  },
  {
   "cell_type": "code",
   "execution_count": 5,
   "metadata": {},
   "outputs": [],
   "source": [
    "def extract_filter_set(original_dir, new_dir, filter_name, flux_hdul, hdu_name):\n",
    "    shutil.rmtree(new_dir, ignore_errors=True)\n",
    "    shutil.copytree(original_dir, new_dir)\n",
    "    \n",
    "    filter_ascii_file = os.path.join(new_dir, filter_name) + '.ascii'\n",
    "    filter_hdu = flux_hdul[hdu_name]\n",
    "    t = Table([filter_hdu.data['Wavelength'], filter_hdu.data['Transmission']], names=['col1', 'col2'])\n",
    "    t.write(filter_ascii_file, format='ascii')"
   ]
  },
  {
   "cell_type": "code",
   "execution_count": 6,
   "metadata": {},
   "outputs": [],
   "source": [
    "def plot_filter(filter_dir, filter_name):\n",
    "    content = Table.read(os.path.join(filter_dir, filter_name) + '.ascii', format='ascii')\n",
    "    plt.plot(content['col1'], content['col2'], label=filter_name)\n",
    "    plt.legend()"
   ]
  },
  {
   "cell_type": "code",
   "execution_count": 7,
   "metadata": {},
   "outputs": [],
   "source": [
    "def rebuild_photometry(photometry_output, filters_dir):\n",
    "    if os.path.exists(photometry_output):\n",
    "        print(f\"{photometry_output} already exists, so skipping run\")\n",
    "        return\n",
    "        \n",
    "    nnpzphoto_proc = subprocess.Popen([\n",
    "        nnpzphoto_bin,\n",
    "        '--sample-dir', reference_sample,\n",
    "        '--filters', filters_dir,\n",
    "        '--out-type', 'F_nu_uJy',\n",
    "        '--out-file', photometry_output\n",
    "    ], env=nnpz_env, stdout=subprocess.PIPE, stderr=subprocess.STDOUT)\n",
    "    while nnpzphoto_proc.poll() is None:\n",
    "        print(nnpzphoto_proc.stdout.readline().decode('utf-8'), end='')"
   ]
  },
  {
   "cell_type": "code",
   "execution_count": 8,
   "metadata": {},
   "outputs": [],
   "source": [
    "def run_nnpz(nnpz_bin, nnpz_config, nnpz_env):\n",
    "    nnpz_config_file = '/tmp/nnpz_tests/nnpz.conf'\n",
    "    if os.path.exists(nnpz_config_file):\n",
    "        os.unlink(nnpz_config_file)\n",
    "\n",
    "    if os.path.exists(nnpz_config['output_file']):\n",
    "        print(f\"{nnpz_config['output_file']} already exists, so skipping run\")\n",
    "        return 0\n",
    "        \n",
    "    with open(nnpz_config_file, mode='w') as fd:\n",
    "        for key, value in nnpz_config.items():\n",
    "            if not key.startswith('_'):\n",
    "                if isinstance(value, str):\n",
    "                    print(f'{key} = \"{value}\"', file=fd)\n",
    "                else:\n",
    "                    print(f'{key} = {value}', file=fd)\n",
    "\n",
    "    start = time.monotonic()\n",
    "    nnpz_proc = subprocess.Popen(\n",
    "        [nnpz_bin, nnpz_config_file],\n",
    "        env=nnpz_env, stdout=subprocess.PIPE, stderr=subprocess.STDOUT\n",
    "    )\n",
    "    while nnpz_proc.poll() is None:\n",
    "        print(nnpz_proc.stdout.readline().decode('utf-8'), end='')\n",
    "    end = time.monotonic()\n",
    "    return end - start"
   ]
  },
  {
   "cell_type": "code",
   "execution_count": 9,
   "metadata": {},
   "outputs": [],
   "source": [
    "def plot_matching(reference, target):\n",
    "    max_count = reference['NeighborIDs'].shape[1]\n",
    "    counts = np.zeros(max_count + 1) # One position per count (so 0 to as many neighbours in the reference)\n",
    "    for r, t in zip(reference, target):\n",
    "        c = np.isin(r['NeighborIDs'], t['NeighborIDs']).sum()\n",
    "        counts[c] += 1\n",
    "    plt.hist(range(max_count + 1), weights=counts, bins=max_count+1)\n",
    "    return counts"
   ]
  },
  {
   "cell_type": "markdown",
   "metadata": {},
   "source": [
    "## Compare \"real\" neighbours when using widening\n",
    "\n",
    "### Recompute photometry"
   ]
  },
  {
   "cell_type": "code",
   "execution_count": 10,
   "metadata": {},
   "outputs": [],
   "source": [
    "original_filters_dir = '/home/aalvarez/Work/Data/dc3/AuxiliaryData/Filters/Euclid'\n",
    "filters_dir = '/tmp/nnpz_tests/Wide9Filters'"
   ]
  },
  {
   "cell_type": "code",
   "execution_count": 11,
   "metadata": {},
   "outputs": [
    {
     "data": {
      "image/png": "[encoded data removed]",
      "text/plain": [
       "<Figure size 432x288 with 1 Axes>"
      ]
     },
     "metadata": {},
     "output_type": "display_data"
    }
   ],
   "source": [
    "extract_filter_set(original_filters_dir, filters_dir, 'r', flux_hdul, 'r_widening9')\n",
    "plot_filter(filters_dir, 'r')"
   ]
  },
  {
   "cell_type": "code",
   "execution_count": 12,
   "metadata": {},
   "outputs": [
    {
     "name": "stdout",
     "output_type": "stream",
     "text": [
      "/tmp/nnpz_tests/Wide9ReferencePhotometry.fits already exists, so skipping run\n"
     ]
    }
   ],
   "source": [
    "r_wide_9_reference_photometry = '/tmp/nnpz_tests/Wide9ReferencePhotometry.fits'\n",
    "rebuild_photometry(r_wide_9_reference_photometry, filters_dir)"
   ]
  },
  {
   "cell_type": "markdown",
   "metadata": {},
   "source": [
    "### Find \"real\" neighbours"
   ]
  },
  {
   "cell_type": "code",
   "execution_count": 13,
   "metadata": {},
   "outputs": [],
   "source": [
    "real_wide_file = os.path.join(output_dir, 'Wide9Real.fits')"
   ]
  },
  {
   "cell_type": "code",
   "execution_count": 14,
   "metadata": {},
   "outputs": [],
   "source": [
    "nnpz_config = {}\n",
    "with open(nnpz_original_config_file) as fd:\n",
    "    exec(fd.read(), nnpz_config)"
   ]
  },
  {
   "cell_type": "code",
   "execution_count": 15,
   "metadata": {},
   "outputs": [],
   "source": [
    "nnpz_config['reference_sample_dir'] = reference_sample\n",
    "nnpz_config['reference_sample_phot_file'] = r_wide_9_reference_photometry\n",
    "nnpz_config['target_catalog'] = target_catalog\n",
    "nnpz_config['target_catalog_filters'] = [\n",
    "    ('u_obs', 'u_obs_err'),\n",
    "    ('g_obs', 'g_obs_err'),\n",
    "    ('r_widening9_obs', 'r_widening9_obs_err'),\n",
    "    ('i_obs', 'i_obs_err'),\n",
    "    ('z_obs', 'z_obs_err'),\n",
    "    ('vis_obs', 'vis_obs_err'),\n",
    "    ('Y_obs', 'Y_obs_err'),\n",
    "    ('J_obs', 'J_obs_err'),\n",
    "    ('H_obs', 'H_obs_err')\n",
    "]\n",
    "nnpz_config['target_catalog_filters_mean'] = None\n",
    "nnpz_config['input_size'] = 2000 # To be changed\n",
    "nnpz_config['neighbor_method'] = 'BruteForce'\n",
    "nnpz_config['neighbors_no'] = 30\n",
    "nnpz_config['output_file'] = real_wide_file\n",
    "if 'pdz_mc_samples' in nnpz_config:\n",
    "    del nnpz_config['pdz_mc_samples']"
   ]
  },
  {
   "cell_type": "code",
   "execution_count": 16,
   "metadata": {},
   "outputs": [
    {
     "name": "stdout",
     "output_type": "stream",
     "text": [
      "Configuration file: /tmp/nnpz_tests/nnpz.conf\n",
      "Running NNPZ with the following options:\n",
      "    target_transmission_provider : shifted\n",
      "    log_level : DEBUG\n",
      "    output_file : /home/aalvarez/Work/Data/coupon/ComparativeMethods_WideSoft/Wide9Real.fits\n",
      "    copy_input_columns : True\n",
      "    reference_sample_phot_file : /tmp/nnpz_tests/Wide9ReferencePhotometry.fits\n",
      "    weight_method : Likelihood\n",
      "    input_size : 2000\n",
      "    flags_in_separate_columns : True\n",
      "    reference_sample_dir : /home/aalvarez/Work/Data/dc3/ReferenceSample\n",
      "    neighbors_no : 30\n",
      "    target_catalog_filters_mean : None\n",
      "    batch_size : 2000\n",
      "    target_catalog_filters : [('u_obs', 'u_obs_err'), ('g_obs', 'g_obs_err'), ('r_widening9_obs', 'r_widening9_obs_err'), ('i_obs', 'i_obs_err'), ('z_obs', 'z_obs_err'), ('vis_obs', 'vis_obs_err'), ('Y_obs', 'Y_obs_err'), ('J_obs', 'J_obs_err'), ('H_obs', 'H_obs_err')]\n",
      "    target_catalog : /home/aalvarez/Work/Data/coupon/fluxes_COSMOS15_test_with_means.fits\n",
      "    reference_sample_phot_filters : ['u', 'g', 'r', 'i', 'z', 'vis', 'Y', 'J', 'H']\n",
      "    reference_catalog_filters : [('u_obs', 'u_obs_err'), ('g_obs', 'g_obs_err'), ('r_obs', 'r_obs_err'), ('i_obs', 'i_obs_err'), ('z_obs', 'z_obs_err'), ('vis_obs', 'vis_obs_err'), ('Y_obs', 'Y_obs_err'), ('J_obs', 'J_obs_err'), ('H_obs', 'H_obs_err')]\n",
      "    neighbor_method : BruteForce\n",
      "    reference_catalog_redshift : z_true\n",
      "    missing_photometry_flags : [-99]\n",
      "    weight_method_alternative : Chi2\n",
      "    reference_catalog_out_mean_phot_filters : [('u_obs', 'u_obs_err'), ('g_obs', 'g_obs_err'), ('r_obs', 'r_obs_err'), ('i_obs', 'i_obs_err'), ('z_obs', 'z_obs_err'), ('vis_obs', 'vis_obs_err'), ('Y_obs', 'Y_obs_err'), ('J_obs', 'J_obs_err'), ('H_obs', 'H_obs_err')]\n",
      "    neighbor_info_output : True\n",
      "    pdz_quantiles : [0.25, 0.5]\n",
      "    reference_sample_out_mean_phot_filters : ['u', 'g', 'r', 'i', 'z', 'vis', 'Y', 'J', 'H']\n",
      "\n",
      "Reading reference sample from /home/aalvarez/Work/Data/dc3/ReferenceSample...\n",
      "Reading reference sample done\n",
      "Target catalog photometric columns: [('u_obs', 'u_obs_err'), ('g_obs', 'g_obs_err'), ('r_widening9_obs', 'r_widening9_obs_err'), ('i_obs', 'i_obs_err'), ('z_obs', 'z_obs_err'), ('vis_obs', 'vis_obs_err'), ('Y_obs', 'Y_obs_err'), ('J_obs', 'J_obs_err'), ('H_obs', 'H_obs_err')]\n",
      "Reading target catalog: /home/aalvarez/Work/Data/coupon/fluxes_COSMOS15_test_with_means.fits\n",
      "Processing only first 2000 objects from target catalog\n",
      "Using reference sample photometry from /tmp/nnpz_tests/Wide9ReferencePhotometry.fits\n",
      "Reference sample photometric bands: ['u', 'g', 'r', 'i', 'z', 'vis', 'Y', 'J', 'H']\n",
      "Using copied photometries for weight calculation\n",
      "Finding neighbors... 100%   \n",
      "Computing neighbor weights...100%   \n",
      "Adding contributions to output...100%   \n",
      "Created file /home/aalvarez/Work/Data/coupon/ComparativeMethods_WideSoft/Wide9Real.fits\n"
     ]
    },
    {
     "data": {
      "text/plain": [
       "188.35460226295982"
      ]
     },
     "execution_count": 16,
     "metadata": {},
     "output_type": "execute_result"
    }
   ],
   "source": [
    "run_nnpz(nnpz_bin, nnpz_config, nnpz_env)"
   ]
  },
  {
   "cell_type": "markdown",
   "metadata": {},
   "source": [
    "### Run now euclidean"
   ]
  },
  {
   "cell_type": "code",
   "execution_count": 17,
   "metadata": {},
   "outputs": [],
   "source": [
    "nnpz_config['neighbor_method'] = 'KDTree'\n",
    "nnpz_config['neighbors_no'] = 1000\n",
    "euclidean_output_file = os.path.join(output_dir, 'Wide9Euclidean.fits')\n",
    "nnpz_config['output_file'] = euclidean_output_file"
   ]
  },
  {
   "cell_type": "code",
   "execution_count": 18,
   "metadata": {},
   "outputs": [
    {
     "name": "stdout",
     "output_type": "stream",
     "text": [
      "Configuration file: /tmp/nnpz_tests/nnpz.conf\n",
      "Running NNPZ with the following options:\n",
      "    target_transmission_provider : shifted\n",
      "    log_level : DEBUG\n",
      "    output_file : /home/aalvarez/Work/Data/coupon/ComparativeMethods_WideSoft/Wide9Euclidean.fits\n",
      "    copy_input_columns : True\n",
      "    reference_sample_phot_file : /tmp/nnpz_tests/Wide9ReferencePhotometry.fits\n",
      "    weight_method : Likelihood\n",
      "    input_size : 2000\n",
      "    flags_in_separate_columns : True\n",
      "    reference_sample_dir : /home/aalvarez/Work/Data/dc3/ReferenceSample\n",
      "    neighbors_no : 1000\n",
      "    target_catalog_filters_mean : None\n",
      "    batch_size : 2000\n",
      "    target_catalog_filters : [('u_obs', 'u_obs_err'), ('g_obs', 'g_obs_err'), ('r_widening9_obs', 'r_widening9_obs_err'), ('i_obs', 'i_obs_err'), ('z_obs', 'z_obs_err'), ('vis_obs', 'vis_obs_err'), ('Y_obs', 'Y_obs_err'), ('J_obs', 'J_obs_err'), ('H_obs', 'H_obs_err')]\n",
      "    target_catalog : /home/aalvarez/Work/Data/coupon/fluxes_COSMOS15_test_with_means.fits\n",
      "    reference_sample_phot_filters : ['u', 'g', 'r', 'i', 'z', 'vis', 'Y', 'J', 'H']\n",
      "    reference_catalog_filters : [('u_obs', 'u_obs_err'), ('g_obs', 'g_obs_err'), ('r_obs', 'r_obs_err'), ('i_obs', 'i_obs_err'), ('z_obs', 'z_obs_err'), ('vis_obs', 'vis_obs_err'), ('Y_obs', 'Y_obs_err'), ('J_obs', 'J_obs_err'), ('H_obs', 'H_obs_err')]\n",
      "    neighbor_method : KDTree\n",
      "    reference_catalog_redshift : z_true\n",
      "    missing_photometry_flags : [-99]\n",
      "    weight_method_alternative : Chi2\n",
      "    reference_catalog_out_mean_phot_filters : [('u_obs', 'u_obs_err'), ('g_obs', 'g_obs_err'), ('r_obs', 'r_obs_err'), ('i_obs', 'i_obs_err'), ('z_obs', 'z_obs_err'), ('vis_obs', 'vis_obs_err'), ('Y_obs', 'Y_obs_err'), ('J_obs', 'J_obs_err'), ('H_obs', 'H_obs_err')]\n",
      "    neighbor_info_output : True\n",
      "    pdz_quantiles : [0.25, 0.5]\n",
      "    reference_sample_out_mean_phot_filters : ['u', 'g', 'r', 'i', 'z', 'vis', 'Y', 'J', 'H']\n",
      "\n",
      "Reading reference sample from /home/aalvarez/Work/Data/dc3/ReferenceSample...\n",
      "Reading reference sample done\n",
      "Using reference sample photometry from /tmp/nnpz_tests/Wide9ReferencePhotometry.fits\n",
      "Reference sample photometric bands: ['u', 'g', 'r', 'i', 'z', 'vis', 'Y', 'J', 'H']\n",
      "Target catalog photometric columns: [('u_obs', 'u_obs_err'), ('g_obs', 'g_obs_err'), ('r_widening9_obs', 'r_widening9_obs_err'), ('i_obs', 'i_obs_err'), ('z_obs', 'z_obs_err'), ('vis_obs', 'vis_obs_err'), ('Y_obs', 'Y_obs_err'), ('J_obs', 'J_obs_err'), ('H_obs', 'H_obs_err')]\n",
      "Reading target catalog: /home/aalvarez/Work/Data/coupon/fluxes_COSMOS15_test_with_means.fits\n",
      "Processing only first 2000 objects from target catalog\n",
      "Using copied photometries for weight calculation\n",
      "Finding neighbors... 100%   \n",
      "Computing neighbor weights...100%   \n",
      "Adding contributions to output...100%   \n",
      "Created file /home/aalvarez/Work/Data/coupon/ComparativeMethods_WideSoft/Wide9Euclidean.fits\n",
      "Took 98.2727744760341 seconds\n"
     ]
    }
   ],
   "source": [
    "duration = run_nnpz(nnpz_bin, nnpz_config, nnpz_env)\n",
    "print(f\"Took {duration} seconds\")"
   ]
  },
  {
   "cell_type": "markdown",
   "metadata": {},
   "source": [
    "### Compare euclidean neighbours with \"real\" neighbours"
   ]
  },
  {
   "cell_type": "code",
   "execution_count": 19,
   "metadata": {},
   "outputs": [
    {
     "name": "stderr",
     "output_type": "stream",
     "text": [
      "WARNING: hdu= was not specified but multiple tables are present, reading in first available table (hdu=1) [astropy.io.fits.connect]\n"
     ]
    }
   ],
   "source": [
    "euclidean = Table.read(euclidean_output_file)\n",
    "real = Table.read(real_wide_file)"
   ]
  },
  {
   "cell_type": "code",
   "execution_count": 20,
   "metadata": {},
   "outputs": [
    {
     "data": {
      "text/plain": [
       "array([  0.00000000e+00,   0.00000000e+00,   1.00000000e+00,\n",
       "         0.00000000e+00,   1.00000000e+00,   1.00000000e+00,\n",
       "         0.00000000e+00,   0.00000000e+00,   2.00000000e+00,\n",
       "         0.00000000e+00,   1.00000000e+00,   1.00000000e+00,\n",
       "         2.00000000e+00,   3.00000000e+00,   1.00000000e+00,\n",
       "         1.00000000e+00,   0.00000000e+00,   2.00000000e+00,\n",
       "         2.00000000e+00,   4.00000000e+00,   2.00000000e+00,\n",
       "         8.00000000e+00,   6.00000000e+00,   5.00000000e+00,\n",
       "         1.00000000e+01,   1.50000000e+01,   1.80000000e+01,\n",
       "         2.10000000e+01,   4.60000000e+01,   1.11000000e+02,\n",
       "         1.73600000e+03])"
      ]
     },
     "execution_count": 20,
     "metadata": {},
     "output_type": "execute_result"
    },
    {
     "data": {
      "image/png": "[encoded data removed]",
      "text/plain": [
       "<Figure size 432x288 with 1 Axes>"
      ]
     },
     "metadata": {},
     "output_type": "display_data"
    }
   ],
   "source": [
    "plot_matching(real, euclidean)"
   ]
  },
  {
   "cell_type": "markdown",
   "metadata": {},
   "source": [
    "### Compare combined neighbours with \"real\" neighbours\n",
    "The mean doesn't change, so I don't think it makes sense to "
   ]
  },
  {
   "cell_type": "code",
   "execution_count": 21,
   "metadata": {},
   "outputs": [],
   "source": [
    "nnpz_config['neighbor_method'] = 'Combined'\n",
    "nnpz_config['batch_size'] = 1000\n",
    "nnpz_config['neighbors_no'] = 30\n",
    "combined_output_file = os.path.join(output_dir, 'Wide9Combined.fits')\n",
    "nnpz_config['output_file'] = combined_output_file"
   ]
  },
  {
   "cell_type": "code",
   "execution_count": 22,
   "metadata": {},
   "outputs": [
    {
     "name": "stdout",
     "output_type": "stream",
     "text": [
      "Configuration file: /tmp/nnpz_tests/nnpz.conf\n",
      "Running NNPZ with the following options:\n",
      "    target_transmission_provider : shifted\n",
      "    log_level : DEBUG\n",
      "    output_file : /home/aalvarez/Work/Data/coupon/ComparativeMethods_WideSoft/Wide9Combined.fits\n",
      "    copy_input_columns : True\n",
      "    reference_sample_phot_file : /tmp/nnpz_tests/Wide9ReferencePhotometry.fits\n",
      "    weight_method : Likelihood\n",
      "    input_size : 2000\n",
      "    flags_in_separate_columns : True\n",
      "    reference_sample_dir : /home/aalvarez/Work/Data/dc3/ReferenceSample\n",
      "    neighbors_no : 30\n",
      "    target_catalog_filters_mean : None\n",
      "    batch_size : 1000\n",
      "    target_catalog_filters : [('u_obs', 'u_obs_err'), ('g_obs', 'g_obs_err'), ('r_widening9_obs', 'r_widening9_obs_err'), ('i_obs', 'i_obs_err'), ('z_obs', 'z_obs_err'), ('vis_obs', 'vis_obs_err'), ('Y_obs', 'Y_obs_err'), ('J_obs', 'J_obs_err'), ('H_obs', 'H_obs_err')]\n",
      "    target_catalog : /home/aalvarez/Work/Data/coupon/fluxes_COSMOS15_test_with_means.fits\n",
      "    reference_sample_phot_filters : ['u', 'g', 'r', 'i', 'z', 'vis', 'Y', 'J', 'H']\n",
      "    reference_catalog_filters : [('u_obs', 'u_obs_err'), ('g_obs', 'g_obs_err'), ('r_obs', 'r_obs_err'), ('i_obs', 'i_obs_err'), ('z_obs', 'z_obs_err'), ('vis_obs', 'vis_obs_err'), ('Y_obs', 'Y_obs_err'), ('J_obs', 'J_obs_err'), ('H_obs', 'H_obs_err')]\n",
      "    neighbor_method : Combined\n",
      "    reference_catalog_redshift : z_true\n",
      "    missing_photometry_flags : [-99]\n",
      "    weight_method_alternative : Chi2\n",
      "    reference_catalog_out_mean_phot_filters : [('u_obs', 'u_obs_err'), ('g_obs', 'g_obs_err'), ('r_obs', 'r_obs_err'), ('i_obs', 'i_obs_err'), ('z_obs', 'z_obs_err'), ('vis_obs', 'vis_obs_err'), ('Y_obs', 'Y_obs_err'), ('J_obs', 'J_obs_err'), ('H_obs', 'H_obs_err')]\n",
      "    neighbor_info_output : True\n",
      "    pdz_quantiles : [0.25, 0.5]\n",
      "    reference_sample_out_mean_phot_filters : ['u', 'g', 'r', 'i', 'z', 'vis', 'Y', 'J', 'H']\n",
      "\n",
      "Reading reference sample from /home/aalvarez/Work/Data/dc3/ReferenceSample...\n",
      "Reading reference sample done\n",
      "Using reference sample photometry from /tmp/nnpz_tests/Wide9ReferencePhotometry.fits\n",
      "Reference sample photometric bands: ['u', 'g', 'r', 'i', 'z', 'vis', 'Y', 'J', 'H']\n",
      "Target catalog photometric columns: [('u_obs', 'u_obs_err'), ('g_obs', 'g_obs_err'), ('r_widening9_obs', 'r_widening9_obs_err'), ('i_obs', 'i_obs_err'), ('z_obs', 'z_obs_err'), ('vis_obs', 'vis_obs_err'), ('Y_obs', 'Y_obs_err'), ('J_obs', 'J_obs_err'), ('H_obs', 'H_obs_err')]\n",
      "Reading target catalog: /home/aalvarez/Work/Data/coupon/fluxes_COSMOS15_test_with_means.fits\n",
      "Processing only first 2000 objects from target catalog\n",
      "Using copied photometries for weight calculation\n",
      "Finding neighbors... 100%   \n",
      "Computing neighbor weights...100%   \n",
      "Adding contributions to output...100%   \n",
      "Created file /home/aalvarez/Work/Data/coupon/ComparativeMethods_WideSoft/Wide9Combined.fits\n",
      "Took 15.880255478958134 seconds\n"
     ]
    }
   ],
   "source": [
    "duration = run_nnpz(nnpz_bin, nnpz_config, nnpz_env)\n",
    "print(f\"Took {duration} seconds\")"
   ]
  },
  {
   "cell_type": "code",
   "execution_count": 23,
   "metadata": {},
   "outputs": [
    {
     "name": "stderr",
     "output_type": "stream",
     "text": [
      "WARNING: hdu= was not specified but multiple tables are present, reading in first available table (hdu=1) [astropy.io.fits.connect]\n"
     ]
    }
   ],
   "source": [
    "combined = Table.read(combined_output_file)"
   ]
  },
  {
   "cell_type": "code",
   "execution_count": 24,
   "metadata": {},
   "outputs": [
    {
     "data": {
      "image/png": "[encoded data removed]",
      "text/plain": [
       "<Figure size 432x288 with 1 Axes>"
      ]
     },
     "metadata": {},
     "output_type": "display_data"
    }
   ],
   "source": [
    "counts = plot_matching(real, combined)"
   ]
  },
  {
   "cell_type": "code",
   "execution_count": 25,
   "metadata": {},
   "outputs": [
    {
     "data": {
      "text/plain": [
       "0.0"
      ]
     },
     "execution_count": 25,
     "metadata": {},
     "output_type": "execute_result"
    }
   ],
   "source": [
    "counts[0]"
   ]
  },
  {
   "cell_type": "markdown",
   "metadata": {},
   "source": [
    "## Same, but with softening\n",
    "Let's use `r_softening`.\n",
    "\n",
    "### Recompute photometry"
   ]
  },
  {
   "cell_type": "code",
   "execution_count": 26,
   "metadata": {},
   "outputs": [
    {
     "data": {
      "image/png": "[encoded data removed]",
      "text/plain": [
       "<Figure size 432x288 with 1 Axes>"
      ]
     },
     "metadata": {},
     "output_type": "display_data"
    }
   ],
   "source": [
    "soft9_filters_dir = '/tmp/nnpz_tests/Soft9Filters'\n",
    "extract_filter_set(original_filters_dir, soft9_filters_dir, 'r', flux_hdul, 'r_softening9')\n",
    "plot_filter(soft9_filters_dir, 'r')"
   ]
  },
  {
   "cell_type": "code",
   "execution_count": 27,
   "metadata": {},
   "outputs": [
    {
     "name": "stdout",
     "output_type": "stream",
     "text": [
      "/tmp/nnpz_tests/Soft9ReferencePhotometry.fits already exists, so skipping run\n"
     ]
    }
   ],
   "source": [
    "r_soft_9_reference_photometry = '/tmp/nnpz_tests/Soft9ReferencePhotometry.fits'\n",
    "rebuild_photometry(r_soft_9_reference_photometry, soft9_filters_dir)"
   ]
  },
  {
   "cell_type": "markdown",
   "metadata": {},
   "source": [
    "### Get \"real\" neighbours"
   ]
  },
  {
   "cell_type": "code",
   "execution_count": 28,
   "metadata": {},
   "outputs": [],
   "source": [
    "nnpz_config['reference_sample_phot_file'] = r_soft_9_reference_photometry\n",
    "nnpz_config['target_catalog_filters'] = [\n",
    "    ('u_obs', 'u_obs_err'),\n",
    "    ('g_obs', 'g_obs_err'),\n",
    "    ('r_softening9_obs', 'r_softening9_obs_err'),\n",
    "    ('i_obs', 'i_obs_err'),\n",
    "    ('z_obs', 'z_obs_err'),\n",
    "    ('vis_obs', 'vis_obs_err'),\n",
    "    ('Y_obs', 'Y_obs_err'),\n",
    "    ('J_obs', 'J_obs_err'),\n",
    "    ('H_obs', 'H_obs_err')\n",
    "]\n",
    "nnpz_config['neighbor_method'] = 'BruteForce'\n",
    "nnpz_config['neighbors_no'] = 30\n",
    "soft9_output_file = os.path.join(output_dir, 'Soft9Real.fits')\n",
    "nnpz_config['output_file'] = soft9_output_file"
   ]
  },
  {
   "cell_type": "code",
   "execution_count": 29,
   "metadata": {},
   "outputs": [
    {
     "name": "stdout",
     "output_type": "stream",
     "text": [
      "Configuration file: /tmp/nnpz_tests/nnpz.conf\n",
      "Running NNPZ with the following options:\n",
      "    target_transmission_provider : shifted\n",
      "    log_level : DEBUG\n",
      "    output_file : /home/aalvarez/Work/Data/coupon/ComparativeMethods_WideSoft/Soft9Real.fits\n",
      "    copy_input_columns : True\n",
      "    reference_sample_phot_file : /tmp/nnpz_tests/Soft9ReferencePhotometry.fits\n",
      "    weight_method : Likelihood\n",
      "    input_size : 2000\n",
      "    flags_in_separate_columns : True\n",
      "    reference_sample_dir : /home/aalvarez/Work/Data/dc3/ReferenceSample\n",
      "    neighbors_no : 30\n",
      "    target_catalog_filters_mean : None\n",
      "    batch_size : 1000\n",
      "    target_catalog_filters : [('u_obs', 'u_obs_err'), ('g_obs', 'g_obs_err'), ('r_softening9_obs', 'r_softening9_obs_err'), ('i_obs', 'i_obs_err'), ('z_obs', 'z_obs_err'), ('vis_obs', 'vis_obs_err'), ('Y_obs', 'Y_obs_err'), ('J_obs', 'J_obs_err'), ('H_obs', 'H_obs_err')]\n",
      "    target_catalog : /home/aalvarez/Work/Data/coupon/fluxes_COSMOS15_test_with_means.fits\n",
      "    reference_sample_phot_filters : ['u', 'g', 'r', 'i', 'z', 'vis', 'Y', 'J', 'H']\n",
      "    reference_catalog_filters : [('u_obs', 'u_obs_err'), ('g_obs', 'g_obs_err'), ('r_obs', 'r_obs_err'), ('i_obs', 'i_obs_err'), ('z_obs', 'z_obs_err'), ('vis_obs', 'vis_obs_err'), ('Y_obs', 'Y_obs_err'), ('J_obs', 'J_obs_err'), ('H_obs', 'H_obs_err')]\n",
      "    neighbor_method : BruteForce\n",
      "    reference_catalog_redshift : z_true\n",
      "    missing_photometry_flags : [-99]\n",
      "    weight_method_alternative : Chi2\n",
      "    reference_catalog_out_mean_phot_filters : [('u_obs', 'u_obs_err'), ('g_obs', 'g_obs_err'), ('r_obs', 'r_obs_err'), ('i_obs', 'i_obs_err'), ('z_obs', 'z_obs_err'), ('vis_obs', 'vis_obs_err'), ('Y_obs', 'Y_obs_err'), ('J_obs', 'J_obs_err'), ('H_obs', 'H_obs_err')]\n",
      "    neighbor_info_output : True\n",
      "    pdz_quantiles : [0.25, 0.5]\n",
      "    reference_sample_out_mean_phot_filters : ['u', 'g', 'r', 'i', 'z', 'vis', 'Y', 'J', 'H']\n",
      "\n",
      "Reading reference sample from /home/aalvarez/Work/Data/dc3/ReferenceSample...\n",
      "Reading reference sample done\n",
      "Using reference sample photometry from /tmp/nnpz_tests/Soft9ReferencePhotometry.fits\n",
      "Reference sample photometric bands: ['u', 'g', 'r', 'i', 'z', 'vis', 'Y', 'J', 'H']\n",
      "Target catalog photometric columns: [('u_obs', 'u_obs_err'), ('g_obs', 'g_obs_err'), ('r_softening9_obs', 'r_softening9_obs_err'), ('i_obs', 'i_obs_err'), ('z_obs', 'z_obs_err'), ('vis_obs', 'vis_obs_err'), ('Y_obs', 'Y_obs_err'), ('J_obs', 'J_obs_err'), ('H_obs', 'H_obs_err')]\n",
      "Reading target catalog: /home/aalvarez/Work/Data/coupon/fluxes_COSMOS15_test_with_means.fits\n",
      "Processing only first 2000 objects from target catalog\n",
      "Using copied photometries for weight calculation\n",
      "Finding neighbors... 100%   \n",
      "Computing neighbor weights...100%   \n",
      "Adding contributions to output...100%   \n",
      "Created file /home/aalvarez/Work/Data/coupon/ComparativeMethods_WideSoft/Soft9Real.fits\n",
      "Took 181.39561172103276 seconds\n"
     ]
    }
   ],
   "source": [
    "duration = run_nnpz(nnpz_bin, nnpz_config, nnpz_env)\n",
    "print(f\"Took {duration} seconds\")"
   ]
  },
  {
   "cell_type": "markdown",
   "metadata": {},
   "source": [
    "### Re-run, KD-Tree, but using the standard reference sample"
   ]
  },
  {
   "cell_type": "code",
   "execution_count": 30,
   "metadata": {},
   "outputs": [],
   "source": [
    "nnpz_config['reference_sample_phot_file'] = reference_photo\n",
    "nnpz_config['neighbor_method'] = 'KDTree'\n",
    "nnpz_config['neighbors_no'] = 1000\n",
    "soft9_euclidean_output_file = os.path.join(output_dir, 'Soft9Euclidean.fits')\n",
    "nnpz_config['output_file'] = soft9_euclidean_output_file"
   ]
  },
  {
   "cell_type": "code",
   "execution_count": 31,
   "metadata": {},
   "outputs": [
    {
     "name": "stdout",
     "output_type": "stream",
     "text": [
      "Configuration file: /tmp/nnpz_tests/nnpz.conf\n",
      "Running NNPZ with the following options:\n",
      "    target_transmission_provider : shifted\n",
      "    log_level : DEBUG\n",
      "    output_file : /home/aalvarez/Work/Data/coupon/ComparativeMethods_WideSoft/Soft9Euclidean.fits\n",
      "    copy_input_columns : True\n",
      "    reference_sample_phot_file : /home/aalvarez/Work/Data/dc3/dc3_F_nu_uJy.fits\n",
      "    weight_method : Likelihood\n",
      "    input_size : 2000\n",
      "    flags_in_separate_columns : True\n",
      "    reference_sample_dir : /home/aalvarez/Work/Data/dc3/ReferenceSample\n",
      "    neighbors_no : 1000\n",
      "    target_catalog_filters_mean : None\n",
      "    batch_size : 1000\n",
      "    target_catalog_filters : [('u_obs', 'u_obs_err'), ('g_obs', 'g_obs_err'), ('r_softening9_obs', 'r_softening9_obs_err'), ('i_obs', 'i_obs_err'), ('z_obs', 'z_obs_err'), ('vis_obs', 'vis_obs_err'), ('Y_obs', 'Y_obs_err'), ('J_obs', 'J_obs_err'), ('H_obs', 'H_obs_err')]\n",
      "    target_catalog : /home/aalvarez/Work/Data/coupon/fluxes_COSMOS15_test_with_means.fits\n",
      "    reference_sample_phot_filters : ['u', 'g', 'r', 'i', 'z', 'vis', 'Y', 'J', 'H']\n",
      "    reference_catalog_filters : [('u_obs', 'u_obs_err'), ('g_obs', 'g_obs_err'), ('r_obs', 'r_obs_err'), ('i_obs', 'i_obs_err'), ('z_obs', 'z_obs_err'), ('vis_obs', 'vis_obs_err'), ('Y_obs', 'Y_obs_err'), ('J_obs', 'J_obs_err'), ('H_obs', 'H_obs_err')]\n",
      "    neighbor_method : KDTree\n",
      "    reference_catalog_redshift : z_true\n",
      "    missing_photometry_flags : [-99]\n",
      "    weight_method_alternative : Chi2\n",
      "    reference_catalog_out_mean_phot_filters : [('u_obs', 'u_obs_err'), ('g_obs', 'g_obs_err'), ('r_obs', 'r_obs_err'), ('i_obs', 'i_obs_err'), ('z_obs', 'z_obs_err'), ('vis_obs', 'vis_obs_err'), ('Y_obs', 'Y_obs_err'), ('J_obs', 'J_obs_err'), ('H_obs', 'H_obs_err')]\n",
      "    neighbor_info_output : True\n",
      "    pdz_quantiles : [0.25, 0.5]\n",
      "    reference_sample_out_mean_phot_filters : ['u', 'g', 'r', 'i', 'z', 'vis', 'Y', 'J', 'H']\n",
      "\n",
      "Reading reference sample from /home/aalvarez/Work/Data/dc3/ReferenceSample...\n",
      "Reading reference sample done\n",
      "Using reference sample photometry from /home/aalvarez/Work/Data/dc3/dc3_F_nu_uJy.fits\n",
      "Reference sample photometric bands: ['u', 'g', 'r', 'i', 'z', 'vis', 'Y', 'J', 'H']\n",
      "Target catalog photometric columns: [('u_obs', 'u_obs_err'), ('g_obs', 'g_obs_err'), ('r_softening9_obs', 'r_softening9_obs_err'), ('i_obs', 'i_obs_err'), ('z_obs', 'z_obs_err'), ('vis_obs', 'vis_obs_err'), ('Y_obs', 'Y_obs_err'), ('J_obs', 'J_obs_err'), ('H_obs', 'H_obs_err')]\n",
      "Reading target catalog: /home/aalvarez/Work/Data/coupon/fluxes_COSMOS15_test_with_means.fits\n",
      "Processing only first 2000 objects from target catalog\n",
      "Using copied photometries for weight calculation\n",
      "Finding neighbors... 100%   \n",
      "Computing neighbor weights...100%17 objects with all weights set to 0, using alternative weight\n",
      "[   2    3   23  148  361  785  792 1029 1033 1102 1184 1357 1495 1595 1633\n",
      " 1711 1809]\n",
      "\n",
      "Adding contributions to output...100%   \n",
      "Created file /home/aalvarez/Work/Data/coupon/ComparativeMethods_WideSoft/Soft9Euclidean.fits\n",
      "Took 89.8645284990198 seconds\n"
     ]
    }
   ],
   "source": [
    "duration = run_nnpz(nnpz_bin, nnpz_config, nnpz_env)\n",
    "print(f\"Took {duration} seconds\")"
   ]
  },
  {
   "cell_type": "code",
   "execution_count": 32,
   "metadata": {},
   "outputs": [
    {
     "name": "stderr",
     "output_type": "stream",
     "text": [
      "WARNING: hdu= was not specified but multiple tables are present, reading in first available table (hdu=1) [astropy.io.fits.connect]\n"
     ]
    }
   ],
   "source": [
    "soft9_euclidean = Table.read(soft9_euclidean_output_file)"
   ]
  },
  {
   "cell_type": "code",
   "execution_count": 33,
   "metadata": {},
   "outputs": [
    {
     "data": {
      "image/png": "[encoded data removed]",
      "text/plain": [
       "<Figure size 432x288 with 1 Axes>"
      ]
     },
     "metadata": {},
     "output_type": "display_data"
    }
   ],
   "source": [
    "counts = plot_matching(real, soft9_euclidean)"
   ]
  },
  {
   "cell_type": "markdown",
   "metadata": {},
   "source": [
    "### Softening, Combined"
   ]
  },
  {
   "cell_type": "code",
   "execution_count": 34,
   "metadata": {},
   "outputs": [],
   "source": [
    "nnpz_config['neighbor_method'] = 'Combined'\n",
    "nnpz_config['batch_size'] = 1000\n",
    "nnpz_config['neighbors_no'] = 30\n",
    "soft9_combined_output_file = os.path.join(output_dir, 'Soft9Combined.fits')\n",
    "nnpz_config['output_file'] = soft9_combined_output_file"
   ]
  },
  {
   "cell_type": "code",
   "execution_count": 35,
   "metadata": {},
   "outputs": [
    {
     "name": "stdout",
     "output_type": "stream",
     "text": [
      "Configuration file: /tmp/nnpz_tests/nnpz.conf\n",
      "Running NNPZ with the following options:\n",
      "    target_transmission_provider : shifted\n",
      "    log_level : DEBUG\n",
      "    output_file : /home/aalvarez/Work/Data/coupon/ComparativeMethods_WideSoft/Soft9Combined.fits\n",
      "    copy_input_columns : True\n",
      "    reference_sample_phot_file : /home/aalvarez/Work/Data/dc3/dc3_F_nu_uJy.fits\n",
      "    weight_method : Likelihood\n",
      "    input_size : 2000\n",
      "    flags_in_separate_columns : True\n",
      "    reference_sample_dir : /home/aalvarez/Work/Data/dc3/ReferenceSample\n",
      "    neighbors_no : 30\n",
      "    target_catalog_filters_mean : None\n",
      "    batch_size : 1000\n",
      "    target_catalog_filters : [('u_obs', 'u_obs_err'), ('g_obs', 'g_obs_err'), ('r_softening9_obs', 'r_softening9_obs_err'), ('i_obs', 'i_obs_err'), ('z_obs', 'z_obs_err'), ('vis_obs', 'vis_obs_err'), ('Y_obs', 'Y_obs_err'), ('J_obs', 'J_obs_err'), ('H_obs', 'H_obs_err')]\n",
      "    target_catalog : /home/aalvarez/Work/Data/coupon/fluxes_COSMOS15_test_with_means.fits\n",
      "    reference_sample_phot_filters : ['u', 'g', 'r', 'i', 'z', 'vis', 'Y', 'J', 'H']\n",
      "    reference_catalog_filters : [('u_obs', 'u_obs_err'), ('g_obs', 'g_obs_err'), ('r_obs', 'r_obs_err'), ('i_obs', 'i_obs_err'), ('z_obs', 'z_obs_err'), ('vis_obs', 'vis_obs_err'), ('Y_obs', 'Y_obs_err'), ('J_obs', 'J_obs_err'), ('H_obs', 'H_obs_err')]\n",
      "    neighbor_method : Combined\n",
      "    reference_catalog_redshift : z_true\n",
      "    missing_photometry_flags : [-99]\n",
      "    weight_method_alternative : Chi2\n",
      "    reference_catalog_out_mean_phot_filters : [('u_obs', 'u_obs_err'), ('g_obs', 'g_obs_err'), ('r_obs', 'r_obs_err'), ('i_obs', 'i_obs_err'), ('z_obs', 'z_obs_err'), ('vis_obs', 'vis_obs_err'), ('Y_obs', 'Y_obs_err'), ('J_obs', 'J_obs_err'), ('H_obs', 'H_obs_err')]\n",
      "    neighbor_info_output : True\n",
      "    pdz_quantiles : [0.25, 0.5]\n",
      "    reference_sample_out_mean_phot_filters : ['u', 'g', 'r', 'i', 'z', 'vis', 'Y', 'J', 'H']\n",
      "\n",
      "Target catalog photometric columns: [('u_obs', 'u_obs_err'), ('g_obs', 'g_obs_err'), ('r_softening9_obs', 'r_softening9_obs_err'), ('i_obs', 'i_obs_err'), ('z_obs', 'z_obs_err'), ('vis_obs', 'vis_obs_err'), ('Y_obs', 'Y_obs_err'), ('J_obs', 'J_obs_err'), ('H_obs', 'H_obs_err')]\n",
      "Reading target catalog: /home/aalvarez/Work/Data/coupon/fluxes_COSMOS15_test_with_means.fits\n",
      "Processing only first 2000 objects from target catalog\n",
      "Reading reference sample from /home/aalvarez/Work/Data/dc3/ReferenceSample...\n",
      "Reading reference sample done\n",
      "Using reference sample photometry from /home/aalvarez/Work/Data/dc3/dc3_F_nu_uJy.fits\n",
      "Reference sample photometric bands: ['u', 'g', 'r', 'i', 'z', 'vis', 'Y', 'J', 'H']\n",
      "Using copied photometries for weight calculation\n",
      "Finding neighbors... 100%   \n",
      "Computing neighbor weights...100%17 objects with all weights set to 0, using alternative weight\n",
      "[   2    3   23  148  361  785  792 1029 1033 1102 1184 1357 1495 1595 1633\n",
      " 1711 1809]\n",
      "\n",
      "Adding contributions to output...100%   \n",
      "Created file /home/aalvarez/Work/Data/coupon/ComparativeMethods_WideSoft/Soft9Combined.fits\n",
      "Took 15.907134080014657 seconds\n"
     ]
    }
   ],
   "source": [
    "duration = run_nnpz(nnpz_bin, nnpz_config, nnpz_env)\n",
    "print(f\"Took {duration} seconds\")"
   ]
  },
  {
   "cell_type": "code",
   "execution_count": 36,
   "metadata": {},
   "outputs": [
    {
     "name": "stderr",
     "output_type": "stream",
     "text": [
      "WARNING: hdu= was not specified but multiple tables are present, reading in first available table (hdu=1) [astropy.io.fits.connect]\n"
     ]
    }
   ],
   "source": [
    "soft9_combined = Table.read(soft9_combined_output_file)"
   ]
  },
  {
   "cell_type": "code",
   "execution_count": 37,
   "metadata": {},
   "outputs": [
    {
     "data": {
      "image/png": "[encoded data removed]",
      "text/plain": [
       "<Figure size 432x288 with 1 Axes>"
      ]
     },
     "metadata": {},
     "output_type": "display_data"
    }
   ],
   "source": [
    "counts = plot_matching(real, soft9_combined)"
   ]
  },
  {
   "cell_type": "markdown",
   "metadata": {},
   "source": [
    "### Increase more neighbours"
   ]
  },
  {
   "cell_type": "code",
   "execution_count": 38,
   "metadata": {},
   "outputs": [],
   "source": [
    "nnpz_config['neighbor_method'] = 'Combined'\n",
    "nnpz_config['batch_size'] = 1000\n",
    "nnpz_config['neighbors_no'] = 50\n",
    "soft9_50_combined_output_file = os.path.join(output_dir, 'Soft9Combined50.fits')\n",
    "nnpz_config['output_file'] = soft9_50_combined_output_file"
   ]
  },
  {
   "cell_type": "code",
   "execution_count": 39,
   "metadata": {},
   "outputs": [
    {
     "name": "stdout",
     "output_type": "stream",
     "text": [
      "Configuration file: /tmp/nnpz_tests/nnpz.conf\n",
      "Running NNPZ with the following options:\n",
      "    target_transmission_provider : shifted\n",
      "    log_level : DEBUG\n",
      "    output_file : /home/aalvarez/Work/Data/coupon/ComparativeMethods_WideSoft/Soft9Combined50.fits\n",
      "    copy_input_columns : True\n",
      "    reference_sample_phot_file : /home/aalvarez/Work/Data/dc3/dc3_F_nu_uJy.fits\n",
      "    weight_method : Likelihood\n",
      "    input_size : 2000\n",
      "    flags_in_separate_columns : True\n",
      "    reference_sample_dir : /home/aalvarez/Work/Data/dc3/ReferenceSample\n",
      "    neighbors_no : 50\n",
      "    target_catalog_filters_mean : None\n",
      "    batch_size : 1000\n",
      "    target_catalog_filters : [('u_obs', 'u_obs_err'), ('g_obs', 'g_obs_err'), ('r_softening9_obs', 'r_softening9_obs_err'), ('i_obs', 'i_obs_err'), ('z_obs', 'z_obs_err'), ('vis_obs', 'vis_obs_err'), ('Y_obs', 'Y_obs_err'), ('J_obs', 'J_obs_err'), ('H_obs', 'H_obs_err')]\n",
      "    target_catalog : /home/aalvarez/Work/Data/coupon/fluxes_COSMOS15_test_with_means.fits\n",
      "    reference_sample_phot_filters : ['u', 'g', 'r', 'i', 'z', 'vis', 'Y', 'J', 'H']\n",
      "    reference_catalog_filters : [('u_obs', 'u_obs_err'), ('g_obs', 'g_obs_err'), ('r_obs', 'r_obs_err'), ('i_obs', 'i_obs_err'), ('z_obs', 'z_obs_err'), ('vis_obs', 'vis_obs_err'), ('Y_obs', 'Y_obs_err'), ('J_obs', 'J_obs_err'), ('H_obs', 'H_obs_err')]\n",
      "    neighbor_method : Combined\n",
      "    reference_catalog_redshift : z_true\n",
      "    missing_photometry_flags : [-99]\n",
      "    weight_method_alternative : Chi2\n",
      "    reference_catalog_out_mean_phot_filters : [('u_obs', 'u_obs_err'), ('g_obs', 'g_obs_err'), ('r_obs', 'r_obs_err'), ('i_obs', 'i_obs_err'), ('z_obs', 'z_obs_err'), ('vis_obs', 'vis_obs_err'), ('Y_obs', 'Y_obs_err'), ('J_obs', 'J_obs_err'), ('H_obs', 'H_obs_err')]\n",
      "    neighbor_info_output : True\n",
      "    pdz_quantiles : [0.25, 0.5]\n",
      "    reference_sample_out_mean_phot_filters : ['u', 'g', 'r', 'i', 'z', 'vis', 'Y', 'J', 'H']\n",
      "\n",
      "Target catalog photometric columns: [('u_obs', 'u_obs_err'), ('g_obs', 'g_obs_err'), ('r_softening9_obs', 'r_softening9_obs_err'), ('i_obs', 'i_obs_err'), ('z_obs', 'z_obs_err'), ('vis_obs', 'vis_obs_err'), ('Y_obs', 'Y_obs_err'), ('J_obs', 'J_obs_err'), ('H_obs', 'H_obs_err')]\n",
      "Reading target catalog: /home/aalvarez/Work/Data/coupon/fluxes_COSMOS15_test_with_means.fits\n",
      "Processing only first 2000 objects from target catalog\n",
      "Reading reference sample from /home/aalvarez/Work/Data/dc3/ReferenceSample...\n",
      "Reading reference sample done\n",
      "Using reference sample photometry from /home/aalvarez/Work/Data/dc3/dc3_F_nu_uJy.fits\n",
      "Reference sample photometric bands: ['u', 'g', 'r', 'i', 'z', 'vis', 'Y', 'J', 'H']\n",
      "Using copied photometries for weight calculation\n",
      "Finding neighbors... 100%   \n",
      "Computing neighbor weights...100%17 objects with all weights set to 0, using alternative weight\n",
      "[   2    3   23  148  361  785  792 1029 1033 1102 1184 1357 1495 1595 1633\n",
      " 1711 1809]\n",
      "\n",
      "Adding contributions to output...100%   \n",
      "Created file /home/aalvarez/Work/Data/coupon/ComparativeMethods_WideSoft/Soft9Combined50.fits\n",
      "Took 18.598824620014057 seconds\n"
     ]
    }
   ],
   "source": [
    "duration = run_nnpz(nnpz_bin, nnpz_config, nnpz_env)\n",
    "print(f\"Took {duration} seconds\")"
   ]
  },
  {
   "cell_type": "code",
   "execution_count": 40,
   "metadata": {},
   "outputs": [
    {
     "name": "stderr",
     "output_type": "stream",
     "text": [
      "WARNING: hdu= was not specified but multiple tables are present, reading in first available table (hdu=1) [astropy.io.fits.connect]\n"
     ]
    }
   ],
   "source": [
    "soft9_combined_50 = Table.read(soft9_50_combined_output_file)"
   ]
  },
  {
   "cell_type": "code",
   "execution_count": 41,
   "metadata": {},
   "outputs": [
    {
     "data": {
      "image/png": "[encoded data removed]",
      "text/plain": [
       "<Figure size 432x288 with 1 Axes>"
      ]
     },
     "metadata": {},
     "output_type": "display_data"
    }
   ],
   "source": [
    "count = plot_matching(real, soft9_combined_50)"
   ]
  },
  {
   "cell_type": "code",
   "execution_count": 57,
   "metadata": {},
   "outputs": [
    {
     "data": {
      "text/plain": [
       "Text(0,0.5,'coadded_pdz_50')"
      ]
     },
     "execution_count": 57,
     "metadata": {},
     "output_type": "execute_result"
    },
    {
     "data": {
      "image/png": "[encoded data removed]",
      "text/plain": [
       "<Figure size 432x288 with 1 Axes>"
      ]
     },
     "metadata": {},
     "output_type": "display_data"
    }
   ],
   "source": [
    "plt.scatter(real['z_true'], real['CoaddedPdz_50'], marker='.')\n",
    "plt.xlabel('z_true')\n",
    "plt.ylabel('coadded_pdz_50')"
   ]
  },
  {
   "cell_type": "code",
   "execution_count": 59,
   "metadata": {},
   "outputs": [
    {
     "data": {
      "text/plain": [
       "Text(0,0.5,'coadded_pdz_50')"
      ]
     },
     "execution_count": 59,
     "metadata": {},
     "output_type": "execute_result"
    },
    {
     "data": {
      "image/png": "[encoded data removed]",
      "text/plain": [
       "<Figure size 432x288 with 1 Axes>"
      ]
     },
     "metadata": {},
     "output_type": "display_data"
    }
   ],
   "source": [
    "plt.scatter(soft9_combined_50['z_true'], soft9_combined_50['CoaddedPdz_50'], marker='.')\n",
    "plt.xlabel('z_true')\n",
    "plt.ylabel('coadded_pdz_50')"
   ]
  },
  {
   "cell_type": "code",
   "execution_count": 114,
   "metadata": {},
   "outputs": [],
   "source": [
    "def plot_topn(reference, target):\n",
    "    if not np.all(reference['ID'] == target['ID']):\n",
    "        raise Exception('ID on reference and target do not match')\n",
    "    \n",
    "    max_count = reference['NeighborIDs'].shape[1]\n",
    "    counts = np.zeros(max_count + 1)\n",
    "    \n",
    "    for r, t in zip(reference, target):\n",
    "        top_index = np.flip(r['NeighborWeights'].argsort(), axis=-1)\n",
    "        sorted_in = np.isin(r['NeighborIDs'][top_index], t['NeighborIDs'])\n",
    "        if sorted_in.sum() == max_count:\n",
    "            counts[max_count] += 1\n",
    "        else:\n",
    "            counts[sorted_in.argmin()] += 1\n",
    "    \n",
    "    plt.hist(range(max_count + 1), weights=counts, bins=max_count+1)\n",
    "    return counts"
   ]
  },
  {
   "cell_type": "code",
   "execution_count": 107,
   "metadata": {},
   "outputs": [
    {
     "name": "stdout",
     "output_type": "stream",
     "text": [
      "[ 0.14345716  0.11408281  0.0865758   0.07778225  0.0669239   0.06458334\n",
      "  0.0599095   0.05847847  0.05606081  0.05605197  0.05600841  0.05569724\n",
      "  0.05545834  0.04965174  0.04909024  0.04901087  0.04889813  0.04879304\n",
      "  0.04840697  0.04788481  0.04647483  0.04517189  0.04490574  0.04383589\n",
      "  0.0433402   0.04272079  0.040856    0.04025582  0.03960398  0.03915868]\n",
      "[709477 479460 697884 781262 779013 246195 942259 394117 821342 776554\n",
      " 383488 841814 401860 301137 988589 788360 704362 480896 707657 893184\n",
      " 216439 349690 959823 576712 438018 335331 382087 547820 749596 612969]\n"
     ]
    },
    {
     "data": {
      "text/plain": [
       "0"
      ]
     },
     "execution_count": 107,
     "metadata": {},
     "output_type": "execute_result"
    }
   ],
   "source": [
    "top_index = np.flip(real[0]['NeighborWeights'].argsort(), axis=-1)\n",
    "print(real[0]['NeighborWeights'][top_index])\n",
    "print(real[0]['NeighborIDs'][top_index])\n",
    "np.isin(real[0]['NeighborIDs'][top_index], combined[0]['NeighborIDs']).argmin()"
   ]
  },
  {
   "cell_type": "code",
   "execution_count": 115,
   "metadata": {},
   "outputs": [
    {
     "data": {
      "text/plain": [
       "array([    9.,     7.,     7.,     6.,     4.,     6.,    10.,     3.,\n",
       "           7.,     4.,     7.,     7.,     9.,     7.,    10.,     9.,\n",
       "          12.,    10.,     9.,    17.,     6.,    11.,     6.,    13.,\n",
       "          12.,     7.,     8.,    13.,    13.,    15.,  1736.])"
      ]
     },
     "execution_count": 115,
     "metadata": {},
     "output_type": "execute_result"
    },
    {
     "data": {
      "image/png": "[encoded data removed]",
      "text/plain": [
       "<Figure size 432x288 with 1 Axes>"
      ]
     },
     "metadata": {},
     "output_type": "display_data"
    }
   ],
   "source": [
    "plot_topn(real, combined)"
   ]
  },
  {
   "cell_type": "code",
   "execution_count": 116,
   "metadata": {},
   "outputs": [
    {
     "data": {
      "text/plain": [
       "array([  0.00000000e+00,   0.00000000e+00,   1.00000000e+00,\n",
       "         0.00000000e+00,   1.00000000e+00,   1.00000000e+00,\n",
       "         0.00000000e+00,   0.00000000e+00,   2.00000000e+00,\n",
       "         0.00000000e+00,   1.00000000e+00,   1.00000000e+00,\n",
       "         2.00000000e+00,   3.00000000e+00,   1.00000000e+00,\n",
       "         1.00000000e+00,   0.00000000e+00,   2.00000000e+00,\n",
       "         2.00000000e+00,   4.00000000e+00,   2.00000000e+00,\n",
       "         8.00000000e+00,   6.00000000e+00,   5.00000000e+00,\n",
       "         1.00000000e+01,   1.50000000e+01,   1.80000000e+01,\n",
       "         2.10000000e+01,   4.60000000e+01,   1.11000000e+02,\n",
       "         1.73600000e+03])"
      ]
     },
     "execution_count": 116,
     "metadata": {},
     "output_type": "execute_result"
    },
    {
     "data": {
      "image/png": "[encoded data removed]",
      "text/plain": [
       "<Figure size 432x288 with 1 Axes>"
      ]
     },
     "metadata": {},
     "output_type": "display_data"
    }
   ],
   "source": [
    "plot_matching(real, combined)"
   ]
  }
 ],
 "metadata": {
  "kernelspec": {
   "display_name": "Python 3",
   "language": "python",
   "name": "python3"
  },
  "language_info": {
   "codemirror_mode": {
    "name": "ipython",
    "version": 3
   },
   "file_extension": ".py",
   "mimetype": "text/x-python",
   "name": "python",
   "nbconvert_exporter": "python",
   "pygments_lexer": "ipython3",
   "version": "3.6.5"
  }
 },
 "nbformat": 4,
 "nbformat_minor": 2
}
