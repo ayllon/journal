{
 "cells": [
  {
   "cell_type": "code",
   "execution_count": 1,
   "metadata": {},
   "outputs": [],
   "source": [
    "%matplotlib inline\n",
    "import matplotlib.pyplot as plt\n",
    "import numpy as np\n",
    "import os\n",
    "import shutil\n",
    "import subprocess\n",
    "import sys\n",
    "import time\n",
    "\n",
    "from astropy.table import Table\n",
    "from astropy.io import fits"
   ]
  },
  {
   "cell_type": "markdown",
   "metadata": {},
   "source": [
    "### Handy functions and globals"
   ]
  },
  {
   "cell_type": "code",
   "execution_count": 2,
   "metadata": {},
   "outputs": [],
   "source": [
    "nnpz_dir = '/home/aalvarez/Work/Projects/NNPZ'\n",
    "nnpz_bin = os.path.join(nnpz_dir, 'bin', 'nnpz')\n",
    "nnpzphoto_bin = os.path.join(nnpz_dir, 'bin', 'NnpzBuildPhotometry')\n",
    "reference_sample = '/home/aalvarez/Work/Data/dc3/ReferenceSample'\n",
    "nnpz_env = os.environ.copy()\n",
    "nnpz_env['PYTHONPATH'] = nnpz_env.get('PYTHONPATH', '') + ':' + nnpz_dir\n",
    "\n",
    "output_dir = '/home/aalvarez/Work/Data/coupon/ComparativeMethods_Shift_50'"
   ]
  },
  {
   "cell_type": "code",
   "execution_count": 3,
   "metadata": {},
   "outputs": [],
   "source": [
    "nnpz_original_config_file = '/home/aalvarez/Work/Data/coupon/nnpz.conf'\n",
    "target_catalog = '/home/aalvarez/Work/Data/coupon/fluxes_COSMOS15_test_with_means.fits'\n",
    "fluxes_file = '/home/aalvarez/Work/Data/coupon/fluxes.fits'"
   ]
  },
  {
   "cell_type": "code",
   "execution_count": 4,
   "metadata": {},
   "outputs": [],
   "source": [
    "def create_shifted_filter_set(original_dir, new_dir, filter_shifted, shift):\n",
    "    shutil.rmtree(new_dir, ignore_errors=True)\n",
    "    shutil.copytree(original_dir, new_dir)\n",
    "    \n",
    "    filter_ascii_file = os.path.join(original_dir, filter_shifted) + '.ascii'\n",
    "    filter_table = Table.read(filter_ascii_file, format='ascii')\n",
    "    filter_table['col1'] += int(np.rint(shift))\n",
    "    \n",
    "    filter_table.write(filter_ascii_file, format='ascii')"
   ]
  },
  {
   "cell_type": "code",
   "execution_count": 5,
   "metadata": {},
   "outputs": [],
   "source": [
    "def compare_filters(original_dir, new_dir, filter_name):\n",
    "    original = Table.read(os.path.join(original_dir, filter_name) + '.ascii', format='ascii')\n",
    "    compared = Table.read(os.path.join(new_dir, filter_name) + '.ascii', format='ascii')\n",
    "    plt.plot(original['col1'], original['col2'], label='Original')\n",
    "    plt.plot(compared['col1'], compared['col2'], label='New')"
   ]
  },
  {
   "cell_type": "code",
   "execution_count": 6,
   "metadata": {},
   "outputs": [],
   "source": [
    "def rebuild_photometry(photometry_output, filters_dir):\n",
    "    if os.path.exists(photometry_output):\n",
    "        print(f\"{photometry_output} already exists, so skipping run\")\n",
    "        return\n",
    "        \n",
    "    nnpzphoto_proc = subprocess.Popen([\n",
    "        nnpzphoto_bin,\n",
    "        '--sample-dir', reference_sample,\n",
    "        '--filters', filters_dir,\n",
    "        '--out-type', 'F_nu_uJy',\n",
    "        '--out-file', photometry_output\n",
    "    ], env=nnpz_env, stdout=subprocess.PIPE, stderr=subprocess.STDOUT)\n",
    "    while nnpzphoto_proc.poll() is None:\n",
    "        print(nnpzphoto_proc.stdout.readline().decode('utf-8'), end='')"
   ]
  },
  {
   "cell_type": "code",
   "execution_count": 7,
   "metadata": {},
   "outputs": [],
   "source": [
    "def run_nnpz(nnpz_bin, nnpz_config, nnpz_env):\n",
    "    nnpz_config_file = '/tmp/nnpz_tests/nnpz.conf'\n",
    "    if os.path.exists(nnpz_config_file):\n",
    "        os.unlink(nnpz_config_file)\n",
    "\n",
    "    if os.path.exists(nnpz_config['output_file']):\n",
    "        print(f\"{nnpz_config['output_file']} already exists, so skipping run\")\n",
    "        return 0\n",
    "        \n",
    "    with open(nnpz_config_file, mode='w') as fd:\n",
    "        for key, value in nnpz_config.items():\n",
    "            if not key.startswith('_'):\n",
    "                if isinstance(value, str):\n",
    "                    print(f'{key} = \"{value}\"', file=fd)\n",
    "                else:\n",
    "                    print(f'{key} = {value}', file=fd)\n",
    "\n",
    "    start = time.monotonic()\n",
    "    nnpz_proc = subprocess.Popen(\n",
    "        [nnpz_bin, nnpz_config_file],\n",
    "        env=nnpz_env, stdout=subprocess.PIPE, stderr=subprocess.STDOUT\n",
    "    )\n",
    "    while nnpz_proc.poll() is None:\n",
    "        print(nnpz_proc.stdout.readline().decode('utf-8'), end='')\n",
    "    end = time.monotonic()\n",
    "    return end - start"
   ]
  },
  {
   "cell_type": "code",
   "execution_count": 8,
   "metadata": {},
   "outputs": [],
   "source": [
    "def plot_matching(reference, target):\n",
    "    max_count = reference['NeighborIDs'].shape[1]\n",
    "    counts = np.zeros(max_count + 1) # One position per count (so 0 to as many neighbours in the reference)\n",
    "    for r, t in zip(reference, target):\n",
    "        c = np.isin(r['NeighborIDs'], t['NeighborIDs']).sum()\n",
    "        counts[c] += 1\n",
    "    plt.hist(range(max_count + 1), weights=counts)\n",
    "    return counts"
   ]
  },
  {
   "cell_type": "code",
   "execution_count": 9,
   "metadata": {},
   "outputs": [],
   "source": [
    "def get_filter_shift(original, new):\n",
    "    fluxes_hdul = fits.open(fluxes_file)\n",
    "    original_hdu = fluxes_hdul[original]\n",
    "    new_hdu = fluxes_hdul[new]\n",
    "    original_mean = np.average(original_hdu.data['Wavelength'], weights=original_hdu.data['Transmission'])\n",
    "    new_mean = np.average(new_hdu.data['Wavelength'], weights=new_hdu.data['Transmission'])\n",
    "    return new_mean - original_mean"
   ]
  },
  {
   "cell_type": "markdown",
   "metadata": {},
   "source": [
    "## Compare \"real\" neighbours when using shifts\n",
    "See task [#16305](https://redmine.isdc.unige.ch/issues/16305?next_issue_id=16303).\n",
    "\n",
    "Since we are going to compare the worst case (greatest mean wavelength shift),\n",
    "we need to recompute the photometry for the reference sample with an `r` filter\n",
    "thas has been shifted as well."
   ]
  },
  {
   "cell_type": "markdown",
   "metadata": {},
   "source": [
    "### Copy filter transmissions shifting 'r'"
   ]
  },
  {
   "cell_type": "code",
   "execution_count": 10,
   "metadata": {},
   "outputs": [],
   "source": [
    "original_filters_dir = '/home/aalvarez/Work/Data/dc3/AuxiliaryData/Filters/Euclid'\n",
    "filters_dir = '/tmp/nnpz_tests/Shift9Filters'\n",
    "filter_shifted = 'r'\n",
    "filter_shift = 100"
   ]
  },
  {
   "cell_type": "markdown",
   "metadata": {},
   "source": [
    "We create a copy of this filters, shifting `filter_shifted`"
   ]
  },
  {
   "cell_type": "code",
   "execution_count": 11,
   "metadata": {},
   "outputs": [
    {
     "data": {
      "image/png": "[encoded data removed]",
      "text/plain": [
       "<Figure size 432x288 with 1 Axes>"
      ]
     },
     "metadata": {},
     "output_type": "display_data"
    }
   ],
   "source": [
    "create_shifted_filter_set(original_filters_dir, filters_dir, filter_shifted, filter_shift)\n",
    "compare_filters(original_filters_dir, filters_dir, filter_shifted)"
   ]
  },
  {
   "cell_type": "markdown",
   "metadata": {},
   "source": [
    "### Recompute photometries for the reference sample using the shifted filter"
   ]
  },
  {
   "cell_type": "code",
   "execution_count": 12,
   "metadata": {},
   "outputs": [],
   "source": [
    "r_shift_9_reference_photometry = '/tmp/nnpz_tests/Shift9ReferencePhotometry.fits'"
   ]
  },
  {
   "cell_type": "code",
   "execution_count": 13,
   "metadata": {
    "scrolled": true
   },
   "outputs": [
    {
     "name": "stdout",
     "output_type": "stream",
     "text": [
      "/tmp/nnpz_tests/Shift9ReferencePhotometry.fits already exists, so skipping run\n"
     ]
    }
   ],
   "source": [
    "rebuild_photometry(r_shift_9_reference_photometry, filters_dir)"
   ]
  },
  {
   "cell_type": "markdown",
   "metadata": {},
   "source": [
    "### Find \"real\" neighbours\n",
    "Ok, so we have re-computed the photometry shifting the filter `r` by 100, which is the maximum shift value on the catalog\n",
    "generated by Coupon.\n",
    "\n",
    "We need now to run NNPZ using *only* bruteforce ($\\chi^2$ distance) to find the best 30 against `r_shift_9` (which is shifted by 100).\n",
    "\n",
    "To make things easier, we patch an existing configuration file."
   ]
  },
  {
   "cell_type": "code",
   "execution_count": 14,
   "metadata": {},
   "outputs": [],
   "source": [
    "real_output_file = os.path.join(output_dir, 'Shift9Real.fits')"
   ]
  },
  {
   "cell_type": "code",
   "execution_count": 15,
   "metadata": {},
   "outputs": [],
   "source": [
    "nnpz_config = {}\n",
    "with open(nnpz_original_config_file) as fd:\n",
    "    exec(fd.read(), nnpz_config)"
   ]
  },
  {
   "cell_type": "code",
   "execution_count": 16,
   "metadata": {},
   "outputs": [],
   "source": [
    "nnpz_config['reference_sample_dir'] = reference_sample\n",
    "nnpz_config['reference_sample_phot_file'] = r_shift_9_reference_photometry\n",
    "nnpz_config['target_catalog'] = target_catalog\n",
    "nnpz_config['target_catalog_filters'] = [\n",
    "    ('u_obs', 'u_obs_err'),\n",
    "    ('g_obs', 'g_obs_err'),\n",
    "    ('r_shift9_obs', 'r_shift9_obs_err'),\n",
    "    ('i_obs', 'i_obs_err'),\n",
    "    ('z_obs', 'z_obs_err'),\n",
    "    ('vis_obs', 'vis_obs_err'),\n",
    "    ('Y_obs', 'Y_obs_err'),\n",
    "    ('J_obs', 'J_obs_err'),\n",
    "    ('H_obs', 'H_obs_err')\n",
    "]\n",
    "nnpz_config['target_catalog_filters_mean'] = None\n",
    "nnpz_config['input_size'] = 10000 # To be changed\n",
    "nnpz_config['neighbor_method'] = 'BruteForce'\n",
    "nnpz_config['neighbors_no'] = 30\n",
    "nnpz_config['output_file'] = real_output_file\n",
    "if 'pdz_mc_samples' in nnpz_config:\n",
    "    del nnpz_config['pdz_mc_samples']"
   ]
  },
  {
   "cell_type": "code",
   "execution_count": 17,
   "metadata": {},
   "outputs": [
    {
     "name": "stdout",
     "output_type": "stream",
     "text": [
      "/home/aalvarez/Work/Data/coupon/ComparativeMethods_Shift_50/Shift9Real.fits already exists, so skipping run\n"
     ]
    },
    {
     "data": {
      "text/plain": [
       "0"
      ]
     },
     "execution_count": 17,
     "metadata": {},
     "output_type": "execute_result"
    }
   ],
   "source": [
    "run_nnpz(nnpz_bin, nnpz_config, nnpz_env)"
   ]
  },
  {
   "cell_type": "markdown",
   "metadata": {},
   "source": [
    "### Compare combined neighbours with \"real\" neighbours\n",
    "Pretty much same flow, but use the combined method, with 30 final neighbours, 1000 batch size."
   ]
  },
  {
   "cell_type": "code",
   "execution_count": 18,
   "metadata": {},
   "outputs": [],
   "source": [
    "nnpz_config['neighbor_method'] = 'Combined'\n",
    "nnpz_config['batch_size'] = 1000\n",
    "nnpz_config['neighbors_no'] = 50\n",
    "combined_output_file = os.path.join(output_dir, 'Shift9Combined.fits')\n",
    "nnpz_config['output_file'] = combined_output_file"
   ]
  },
  {
   "cell_type": "code",
   "execution_count": 19,
   "metadata": {},
   "outputs": [
    {
     "name": "stdout",
     "output_type": "stream",
     "text": [
      "/home/aalvarez/Work/Data/coupon/ComparativeMethods_Shift_50/Shift9Combined.fits already exists, so skipping run\n",
      "Took 0 seconds\n"
     ]
    }
   ],
   "source": [
    "duration = run_nnpz(nnpz_bin, nnpz_config, nnpz_env)\n",
    "print(f\"Took {duration} seconds\")"
   ]
  },
  {
   "cell_type": "code",
   "execution_count": 20,
   "metadata": {},
   "outputs": [
    {
     "name": "stderr",
     "output_type": "stream",
     "text": [
      "WARNING: hdu= was not specified but multiple tables are present, reading in first available table (hdu=1) [astropy.io.fits.connect]\n"
     ]
    }
   ],
   "source": [
    "combined = Table.read(combined_output_file)\n",
    "real = Table.read(real_output_file)"
   ]
  },
  {
   "cell_type": "code",
   "execution_count": 21,
   "metadata": {},
   "outputs": [
    {
     "data": {
      "image/png": "[encoded data removed]",
      "text/plain": [
       "<Figure size 432x288 with 1 Axes>"
      ]
     },
     "metadata": {},
     "output_type": "display_data"
    }
   ],
   "source": [
    "counts = plot_matching(real, combined)"
   ]
  },
  {
   "cell_type": "code",
   "execution_count": 22,
   "metadata": {},
   "outputs": [
    {
     "data": {
      "text/plain": [
       "3.0"
      ]
     },
     "execution_count": 22,
     "metadata": {},
     "output_type": "execute_result"
    }
   ],
   "source": [
    "counts[0]"
   ]
  },
  {
   "cell_type": "markdown",
   "metadata": {},
   "source": [
    "## Same, but with skew\n",
    "Let's use `r_skew`. We need to get its shift."
   ]
  },
  {
   "cell_type": "code",
   "execution_count": 23,
   "metadata": {},
   "outputs": [
    {
     "name": "stdout",
     "output_type": "stream",
     "text": [
      "57.0093\n"
     ]
    }
   ],
   "source": [
    "skew9_shift = get_filter_shift('r', 'r_skewing9')\n",
    "print(skew9_shift)"
   ]
  },
  {
   "cell_type": "markdown",
   "metadata": {},
   "source": [
    "### Get \"real\" neighbours, using bruteforce and a recomputed photometry"
   ]
  },
  {
   "cell_type": "code",
   "execution_count": 24,
   "metadata": {},
   "outputs": [],
   "source": [
    "r_skew_9_reference_photometry = '/tmp/nnpz_tests/Skew9ReferencePhotometry.fits'\n",
    "skew9_filters_dir = '/tmp/nnpz_tests/Skew9Filters'"
   ]
  },
  {
   "cell_type": "code",
   "execution_count": 25,
   "metadata": {},
   "outputs": [
    {
     "data": {
      "image/png": "[encoded data removed]",
      "text/plain": [
       "<Figure size 432x288 with 1 Axes>"
      ]
     },
     "metadata": {},
     "output_type": "display_data"
    }
   ],
   "source": [
    "create_shifted_filter_set(original_filters_dir, skew9_filters_dir, 'r', skew9_shift)\n",
    "compare_filters(original_filters_dir, skew9_filters_dir, filter_shifted)"
   ]
  },
  {
   "cell_type": "code",
   "execution_count": 26,
   "metadata": {},
   "outputs": [
    {
     "name": "stdout",
     "output_type": "stream",
     "text": [
      "/tmp/nnpz_tests/Skew9ReferencePhotometry.fits already exists, so skipping run\n"
     ]
    }
   ],
   "source": [
    "rebuild_photometry(r_skew_9_reference_photometry, skew9_filters_dir)"
   ]
  },
  {
   "cell_type": "code",
   "execution_count": 27,
   "metadata": {},
   "outputs": [],
   "source": [
    "nnpz_config['target_catalog_filters'] = [\n",
    "    ('u_obs', 'u_obs_err'),\n",
    "    ('g_obs', 'g_obs_err'),\n",
    "    ('r_skewing9_obs', 'r_skewing9_obs_err'),\n",
    "    ('i_obs', 'i_obs_err'),\n",
    "    ('z_obs', 'z_obs_err'),\n",
    "    ('vis_obs', 'vis_obs_err'),\n",
    "    ('Y_obs', 'Y_obs_err'),\n",
    "    ('J_obs', 'J_obs_err'),\n",
    "    ('H_obs', 'H_obs_err')\n",
    "]\n",
    "nnpz_config['reference_sample_phot_file'] = r_skew_9_reference_photometry\n",
    "nnpz_config['neighbor_method'] = 'BruteForce'\n",
    "nnpz_config['neighbors_no'] = 30\n",
    "skew9_output_file = os.path.join(output_dir, 'Skew9Real.fits')\n",
    "nnpz_config['output_file'] = skew9_output_file"
   ]
  },
  {
   "cell_type": "code",
   "execution_count": 28,
   "metadata": {},
   "outputs": [
    {
     "name": "stdout",
     "output_type": "stream",
     "text": [
      "/home/aalvarez/Work/Data/coupon/ComparativeMethods_Shift_50/Skew9Real.fits already exists, so skipping run\n",
      "Took 0 seconds\n"
     ]
    }
   ],
   "source": [
    "duration = run_nnpz(nnpz_bin, nnpz_config, nnpz_env)\n",
    "print(f\"Took {duration} seconds\")"
   ]
  },
  {
   "cell_type": "markdown",
   "metadata": {},
   "source": [
    "### Skew, Combined"
   ]
  },
  {
   "cell_type": "code",
   "execution_count": 29,
   "metadata": {},
   "outputs": [],
   "source": [
    "nnpz_config['neighbor_method'] = 'Combined'\n",
    "nnpz_config['batch_size'] = 1000\n",
    "nnpz_config['neighbors_no'] = 50\n",
    "skew9_combined_output_file = os.path.join(output_dir, 'Skew9Combined.fits')\n",
    "nnpz_config['output_file'] = skew9_combined_output_file"
   ]
  },
  {
   "cell_type": "code",
   "execution_count": 30,
   "metadata": {},
   "outputs": [
    {
     "name": "stdout",
     "output_type": "stream",
     "text": [
      "/home/aalvarez/Work/Data/coupon/ComparativeMethods_Shift_50/Skew9Combined.fits already exists, so skipping run\n",
      "Took 0 seconds\n"
     ]
    }
   ],
   "source": [
    "duration = run_nnpz(nnpz_bin, nnpz_config, nnpz_env)\n",
    "print(f\"Took {duration} seconds\")"
   ]
  },
  {
   "cell_type": "code",
   "execution_count": 31,
   "metadata": {},
   "outputs": [
    {
     "name": "stderr",
     "output_type": "stream",
     "text": [
      "WARNING: hdu= was not specified but multiple tables are present, reading in first available table (hdu=1) [astropy.io.fits.connect]\n"
     ]
    }
   ],
   "source": [
    "skew9_real = Table.read(skew9_output_file)\n",
    "skew9_combined = Table.read(skew9_combined_output_file)"
   ]
  },
  {
   "cell_type": "code",
   "execution_count": 32,
   "metadata": {},
   "outputs": [
    {
     "data": {
      "image/png": "[encoded data removed]",
      "text/plain": [
       "<Figure size 432x288 with 1 Axes>"
      ]
     },
     "metadata": {},
     "output_type": "display_data"
    }
   ],
   "source": [
    "counts = plot_matching(skew9_real, skew9_combined)"
   ]
  },
  {
   "cell_type": "code",
   "execution_count": 33,
   "metadata": {},
   "outputs": [
    {
     "data": {
      "text/plain": [
       "132.0"
      ]
     },
     "execution_count": 33,
     "metadata": {},
     "output_type": "execute_result"
    }
   ],
   "source": [
    "counts[0]"
   ]
  },
  {
   "cell_type": "markdown",
   "metadata": {},
   "source": [
    "### Skew, combined, 100"
   ]
  },
  {
   "cell_type": "code",
   "execution_count": 34,
   "metadata": {},
   "outputs": [
    {
     "name": "stdout",
     "output_type": "stream",
     "text": [
      "/home/aalvarez/Work/Data/coupon/ComparativeMethods_Shift_50/Skew9Combined100.fits already exists, so skipping run\n",
      "Took 0 seconds\n"
     ]
    }
   ],
   "source": [
    "nnpz_config['neighbor_method'] = 'Combined'\n",
    "nnpz_config['batch_size'] = 1000\n",
    "nnpz_config['neighbors_no'] = 100\n",
    "skew9_combined100_output_file = os.path.join(output_dir, 'Skew9Combined100.fits')\n",
    "nnpz_config['output_file'] = skew9_combined100_output_file\n",
    "\n",
    "duration = run_nnpz(nnpz_bin, nnpz_config, nnpz_env)\n",
    "print(f\"Took {duration} seconds\")"
   ]
  },
  {
   "cell_type": "code",
   "execution_count": 35,
   "metadata": {},
   "outputs": [
    {
     "name": "stderr",
     "output_type": "stream",
     "text": [
      "WARNING: hdu= was not specified but multiple tables are present, reading in first available table (hdu=1) [astropy.io.fits.connect]\n"
     ]
    }
   ],
   "source": [
    "skew9_combined100 = Table.read(skew9_combined100_output_file)"
   ]
  },
  {
   "cell_type": "code",
   "execution_count": 36,
   "metadata": {},
   "outputs": [
    {
     "data": {
      "image/png": "[encoded data removed]",
      "text/plain": [
       "<Figure size 432x288 with 1 Axes>"
      ]
     },
     "metadata": {},
     "output_type": "display_data"
    }
   ],
   "source": [
    "counts = plot_matching(skew9_real, skew9_combined100)"
   ]
  },
  {
   "cell_type": "code",
   "execution_count": 37,
   "metadata": {},
   "outputs": [
    {
     "data": {
      "text/plain": [
       "18.0"
      ]
     },
     "execution_count": 37,
     "metadata": {},
     "output_type": "execute_result"
    }
   ],
   "source": [
    "counts[0]"
   ]
  }
 ],
 "metadata": {
  "kernelspec": {
   "display_name": "Python 3",
   "language": "python",
   "name": "python3"
  },
  "language_info": {
   "codemirror_mode": {
    "name": "ipython",
    "version": 3
   },
   "file_extension": ".py",
   "mimetype": "text/x-python",
   "name": "python",
   "nbconvert_exporter": "python",
   "pygments_lexer": "ipython3",
   "version": "3.6.5"
  }
 },
 "nbformat": 4,
 "nbformat_minor": 2
}
