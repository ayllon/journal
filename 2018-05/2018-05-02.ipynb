{
 "cells": [
  {
   "cell_type": "markdown",
   "metadata": {},
   "source": [
    "Need to figure out what's consuming memory on nnpz. Apparently, memory keeps increasing even though the output had been already pre-allocated."
   ]
  },
  {
   "cell_type": "code",
   "execution_count": 1,
   "metadata": {},
   "outputs": [],
   "source": [
    "import numpy as np\n",
    "import matplotlib.pyplot as plt\n",
    "%matplotlib inline"
   ]
  },
  {
   "cell_type": "code",
   "execution_count": 2,
   "metadata": {},
   "outputs": [],
   "source": [
    "mprof_path = '/home/aalvarez/Work/Projects/NNPZ/profiles/mprofile_20180502093630.dat'"
   ]
  },
  {
   "cell_type": "code",
   "execution_count": 3,
   "metadata": {},
   "outputs": [],
   "source": [
    "def read_mprof(path):\n",
    "    times = []\n",
    "    mem = []\n",
    "    with open(path) as fd:\n",
    "        for l in fd:\n",
    "            key, val = l.split(' ', 1)\n",
    "            if key == 'MEM':\n",
    "                values = val.split(' ')\n",
    "                mem.append(float(values[0]))\n",
    "                times.append(float(values[1]))\n",
    "    return np.array([times, mem]).transpose()"
   ]
  },
  {
   "cell_type": "code",
   "execution_count": 4,
   "metadata": {},
   "outputs": [
    {
     "data": {
      "image/png": "[encoded data removed]",
      "text/plain": [
       "<matplotlib.figure.Figure at 0x7f46e8228dd8>"
      ]
     },
     "metadata": {},
     "output_type": "display_data"
    }
   ],
   "source": [
    "mprof_data = read_mprof(mprof_path)\n",
    "_ = plt.plot(mprof_data[:, 0], mprof_data[:, 1])"
   ]
  },
  {
   "cell_type": "markdown",
   "metadata": {},
   "source": [
    "This is a run with the full test catalog. Indeed there are sharp memory increases. Not entirely sure, but they seem to happen roughly when computing the weights, when adding the contributions, and when dumping the file (?)\n",
    "Need to be check with more details what's happening."
   ]
  },
  {
   "cell_type": "markdown",
   "metadata": {},
   "source": [
    "```\n",
    "Line #    Mem usage    Increment   Line Contents\n",
    "================================================\n",
    "    33    670.0 MiB    670.0 MiB       @profile\n",
    "    34                                 def findAffected(self, input_coord_iter, flags_iter, progress_listener=None):\n",
    "    ...\n",
    "    52    670.0 MiB      0.0 MiB           result = {}\n",
    "    53    751.9 MiB      4.6 MiB           for i, (in_data, flags) in enumerate(zip(input_coord_iter, flags_iter)):\n",
    "    54    751.9 MiB      0.0 MiB               if progress_listener:\n",
    "    55    751.9 MiB      0.0 MiB                   progress_listener(i+1)\n",
    "    56    751.9 MiB     44.0 MiB               neighbor_indices, _ = self.__selector.findNeighbors(in_data, flags)\n",
    "    57    751.9 MiB      2.0 MiB               for ref_i in neighbor_indices:\n",
    "    58    751.9 MiB      0.4 MiB                   if not ref_i in result:\n",
    "    59    751.9 MiB      0.2 MiB                       result[ref_i] = []\n",
    "    60    751.9 MiB     12.8 MiB                   result[ref_i].append(i)\n",
    "    61    734.0 MiB    -17.9 MiB           return result\n",
    "```\n",
    "\n",
    "I don't understand why does it say \"4.6\" when there is an increase of 80 MiB :/"
   ]
  },
  {
   "cell_type": "markdown",
   "metadata": {},
   "source": [
    "```\n",
    "Line #    Mem usage    Increment   Line Contents\n",
    "================================================\n",
    "    36    734.0 MiB    734.0 MiB       @profile\n",
    "    37                                 def computeWeights(self, affected, target_data, result_flags, progress_listener):\n",
    "...\n",
    "    50                                     # Note that we iterate the affected map in increasing order of the reference\n",
    "    51                                     # sample indices. This is done to use as much the cache of the disk, by accessing\n",
    "    52                                     # the SEDs sequentially.\n",
    "    53    734.0 MiB      0.0 MiB           weights = {}\n",
    "    54                             \n",
    "    55                                     # All weights of a target object are 0 if their sum is 0\n",
    "    56    734.0 MiB      0.0 MiB           weight_sum_per_target = np.zeros(target_data.shape[0], dtype=np.float32)\n",
    "    57                             \n",
    "    58                                     # A map where the key is a tuple (ref index, target_index), and the value\n",
    "    59                                     # an alternative weight precomputed if the preferred one was 0\n",
    "    60    734.0 MiB      0.0 MiB           alt_weights = {}\n",
    "    61                             \n",
    "    62                                     # A map to keep track of the references that are a neighbor of a given target\n",
    "    63    734.0 MiB      0.0 MiB           alt_neighbors = {}\n",
    "    64                             \n",
    "    65    734.0 MiB      0.0 MiB           filters_shape = target_data.shape[1:]\n",
    "    66    869.8 MiB      0.0 MiB           for progress, ref_i in enumerate(sorted(affected)):\n",
    "    67    869.8 MiB      0.0 MiB               progress_listener(progress)\n",
    "    68                             \n",
    "    69                                         # Affected targets\n",
    "    70    869.8 MiB      0.0 MiB               target_i_list = affected[ref_i]\n",
    "    71                             \n",
    "    72                                         # Get the reference sample object photometry to use for the weight calculation\n",
    "    73    869.8 MiB     10.7 MiB               ref_obj = np.ndarray((len(target_i_list),) + filters_shape, dtype=np.float32)\n",
    "    74    869.8 MiB      0.0 MiB               for i, target_i in enumerate(target_i_list):\n",
    "    75    869.8 MiB      0.0 MiB                   flag = result_flags[target_i]\n",
    "    76    869.8 MiB      0.0 MiB                   ref_obj[i, :, :] = self._weight_phot_provider(ref_i, target_i, flag)\n",
    "    77                             \n",
    "    78    869.8 MiB      0.0 MiB               weights[ref_i] = _apply_weight_calculator(\n",
    "    79    869.8 MiB    121.1 MiB                   self._weight_calculator, target_i_list, ref_obj, target_data, result_flags\n",
    "    80                                         )\n",
    "    81                             \n",
    "    82    869.8 MiB      0.0 MiB               for target_i, w in zip(target_i_list, weights[ref_i]):\n",
    "    83    869.8 MiB      0.0 MiB                   weight_sum_per_target[target_i] += w\n",
    "    84                             \n",
    "    85                                         # Since we have the photometry calculated here already, and\n",
    "    86                                         # computing it is expensive, for weights that are 0 with the preferred method\n",
    "    87                                         # we apply an alternative method, and keep it for later, in case all weights\n",
    "    88                                         # for a given target are 0\n",
    "    89    869.8 MiB      0.0 MiB               if self._weight_calculator_alt:\n",
    "    90                                             target_i_zero_weights = [\n",
    "    91    869.8 MiB      0.0 MiB                       target_i for target_i, ref_w in zip(target_i_list, weights[ref_i]) if ref_w == 0\n",
    "    92                                             ]\n",
    "    93                                             ref_obj_zero_weights = [\n",
    "    94    869.8 MiB      0.0 MiB                       ref_obj for ref_obj, ref_w in zip(ref_obj, weights[ref_i]) if ref_w == 0\n",
    "    95                                             ]\n",
    "    96    869.8 MiB      0.0 MiB                   new_weights = _apply_weight_calculator(\n",
    "    97    869.8 MiB      0.3 MiB                       self._weight_calculator_alt, target_i_zero_weights, ref_obj_zero_weights, target_data, result_flags\n",
    "    98                                             )\n",
    "    99    869.8 MiB      0.0 MiB                   for target_i, w in zip(target_i_zero_weights, new_weights):\n",
    "   100    869.8 MiB      3.9 MiB                       alt_weights[(ref_i, target_i)] = w\n",
    "   101    869.8 MiB      0.0 MiB                       if target_i not in alt_neighbors:\n",
    "   102    860.3 MiB      0.0 MiB                           alt_neighbors[target_i] = list()\n",
    "   103    869.8 MiB      0.0 MiB                       alt_neighbors[target_i].append(ref_i)\n",
    "   104                             \n",
    "   105                                     # For target objects with *all* their weights being 0, override with the alternative\n",
    "   106    869.8 MiB      0.0 MiB           all_zero_mask = (weight_sum_per_target == 0)\n",
    "   107    869.8 MiB      0.0 MiB           all_zero_i = np.arange(len(weight_sum_per_target))[all_zero_mask]\n",
    "   108                             \n",
    "   109    869.8 MiB      0.0 MiB           if len(all_zero_i) > 0:\n",
    "   110    869.8 MiB      0.0 MiB               log.debug('{} objects with all weights set to 0, using alternative weight'.format(len(all_zero_i)))\n",
    "   111    869.8 MiB      0.0 MiB               log.debug(all_zero_i)\n",
    "   112                             \n",
    "   113    869.8 MiB      0.0 MiB           for target_i in all_zero_i:\n",
    "   114                                         # Some target entries may not even have any neighbor\n",
    "   115    869.8 MiB      0.0 MiB               for ref_i in alt_neighbors.get(target_i, []):\n",
    "   116    869.8 MiB      0.0 MiB                   offset = affected[ref_i].index(target_i)\n",
    "   117    869.8 MiB      0.0 MiB                   weights[ref_i][offset] = alt_weights[(ref_i, target_i)]\n",
    "   118    869.8 MiB      0.0 MiB               result_flags[target_i] |= NnpzFlag.AlternativeWeightFlag\n",
    "   119                             \n",
    "   120    869.8 MiB      0.0 MiB           return weights\n",
    "```"
   ]
  },
  {
   "cell_type": "markdown",
   "metadata": {},
   "source": [
    "Doesn't look crazy. Anyway, I can see how the memory consumption start growing at \"Adding contributions\"..."
   ]
  },
  {
   "cell_type": "markdown",
   "metadata": {},
   "source": [
    "```\n",
    "Line #    Mem usage    Increment   Line Contents\n",
    "================================================\n",
    "   122    869.8 MiB    869.8 MiB   @profile\n",
    "   123                             def addcontrib_wrap():\n",
    "   124    869.8 MiB      0.0 MiB       progress_listener = ProgressListener(len(affected)-1, 'Adding contributions to output...')\n",
    "   125   1525.1 MiB      0.0 MiB       for progress, ref_i in enumerate(sorted(affected)):\n",
    "   126   1525.1 MiB      0.0 MiB           progress_listener(progress)\n",
    "   127   1525.1 MiB      0.0 MiB           for target_i, w in zip(affected[ref_i], weights[ref_i]):\n",
    "   128   1525.1 MiB    655.3 MiB               output.addContribution(ref_i, target_i, w, result_flags[target_i])\n",
    "```\n",
    "\n",
    "This one duplicates the memory usage."
   ]
  },
  {
   "cell_type": "markdown",
   "metadata": {},
   "source": [
    "```\n",
    "Line #    Mem usage    Increment   Line Contents\n",
    "================================================\n",
    "   133   1525.1 MiB   1525.1 MiB   @profile\n",
    "   134                             def save_wrap():\n",
    "   135   2111.7 MiB    586.6 MiB       output.save(output_file)\n",
    "```\n",
    "\n",
    "This one is pretty bad as well! And surprisingly so. Shouldn't it just be writing?"
   ]
  },
  {
   "cell_type": "markdown",
   "metadata": {},
   "source": [
    "Some hints:\n",
    "  * Almost all output providers pre-allocate the required memory, *but* for the neighbors+weight lists, they are appended in each iteration, so that provider grows in memory during execution\n",
    "  * I think that the output table copies the columns. Also, I think that creating the hdu from the table generates yet another copy of the very same data. There is 1.2 GiB difference on save between its entry and exit!\n",
    "  * When generating columns, there are operations that generate new arrays"
   ]
  },
  {
   "cell_type": "markdown",
   "metadata": {},
   "source": [
    "```\n",
    "Line #    Mem usage    Increment   Line Contents\n",
    "================================================\n",
    "    69   1505.6 MiB   1505.6 MiB       @profile\n",
    "    70                                 def save(self, filename):\n",
    "    71   1505.6 MiB      0.0 MiB           hdu_list = []\n",
    "    72                             \n",
    "    73                                     # Primary hdu\n",
    "    74   1505.6 MiB      0.0 MiB           hdr = fits.Header()\n",
    "    75   1505.6 MiB      0.0 MiB           hdr['COMMENT'] = 'Generated by nnpz'\n",
    "    76   1505.6 MiB      0.0 MiB           hdu_list.append(fits.PrimaryHDU(header=hdr))\n",
    "    77                             \n",
    "    78                                     # Table with the results\n",
    "    79   1505.6 MiB      0.0 MiB           out = Table()\n",
    "    80   2090.6 MiB      0.0 MiB           for prov in self.__column_providers:\n",
    "    81   2090.6 MiB    585.1 MiB               out.add_columns(prov.getColumns(), copy=False)\n",
    "    82   2635.3 MiB    544.6 MiB           hdu_list.append(tableToHdu(out))\n",
    "    83                             \n",
    "    84                                     # Extensions\n",
    "    85   2635.5 MiB      0.0 MiB           for hp in self.__hdu_providers:\n",
    "    86   2635.5 MiB      0.2 MiB               for name, table in hp.getExtensionTables().items():\n",
    "    87   2635.5 MiB      0.0 MiB                   ext_hdu = tableToHdu(table)\n",
    "    88   2635.5 MiB      0.0 MiB                   ext_hdu.name = name\n",
    "    89   2635.5 MiB      0.0 MiB                   hdu_list.append(ext_hdu)\n",
    "    90                             \n",
    "    91   2635.5 MiB      0.0 MiB           hdul = fits.HDUList(hdu_list)\n",
    "    92                             \n",
    "    93   2635.5 MiB      0.0 MiB           if os.path.exists(filename):\n",
    "    94   2635.5 MiB      0.0 MiB               os.remove(filename)\n",
    "    95   2635.5 MiB      0.0 MiB           hdul.writeto(filename)\n",
    "```\n",
    "Writing the output is actually expensive :("
   ]
  },
  {
   "cell_type": "markdown",
   "metadata": {},
   "source": [
    "```\n",
    "#9: output_column_providers/NeighborList.py:22: 2734.4 KiB\n",
    "    self.__weights[catalog_i].append(weight)\n",
    "#10: output_column_providers/NeighborList.py:21: 2734.4 KiB\n",
    "    self.__neighbors[catalog_i].append(self.__ref_ids[reference_sample_i])\n",
    "```\n",
    "I think this confirms during addContribution this is where memory is allocated."
   ]
  }
 ],
 "metadata": {
  "kernelspec": {
   "display_name": "Python 3",
   "language": "python",
   "name": "python3"
  },
  "language_info": {
   "codemirror_mode": {
    "name": "ipython",
    "version": 3
   },
   "file_extension": ".py",
   "mimetype": "text/x-python",
   "name": "python",
   "nbconvert_exporter": "python",
   "pygments_lexer": "ipython3",
   "version": "3.6.5"
  }
 },
 "nbformat": 4,
 "nbformat_minor": 2
}
