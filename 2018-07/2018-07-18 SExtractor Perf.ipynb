{
 "cells": [
  {
   "cell_type": "code",
   "execution_count": 1,
   "metadata": {},
   "outputs": [],
   "source": [
    "using IJulia"
   ]
  },
  {
   "cell_type": "code",
   "execution_count": 2,
   "metadata": {},
   "outputs": [],
   "source": [
    "using CSV\n",
    "using DataFrames\n",
    "using StatPlots"
   ]
  },
  {
   "cell_type": "code",
   "execution_count": 3,
   "metadata": {},
   "outputs": [
    {
     "data": {
      "text/html": [
       "<table class=\"data-frame\"><thead><tr><th></th><th>Change</th><th>File</th><th>Time</th></tr></thead><tbody><tr><th>1</th><td>none</td><td>sim09_r_05.fits</td><td>151.24</td></tr><tr><th>2</th><td>none</td><td>sim09_r_05.fits</td><td>150.31</td></tr><tr><th>3</th><td>none</td><td>sim09_r_05.fits</td><td>149.39</td></tr><tr><th>4</th><td>none</td><td>sim09_r.fits</td><td>1149.71</td></tr><tr><th>5</th><td>cache</td><td>sim09_r_05.fits</td><td>66.85</td></tr><tr><th>6</th><td>cache</td><td>sim09_r_05.fits</td><td>71.28</td></tr><tr><th>7</th><td>cache</td><td>sim09_r_05.fits</td><td>70.75</td></tr><tr><th>8</th><td>cache</td><td>sim09_r.fits</td><td>471.25</td></tr><tr><th>9</th><td>loop</td><td>sim09_r_05.fits</td><td>29.11</td></tr><tr><th>10</th><td>loop</td><td>sim09_r_05.fits</td><td>28.89</td></tr><tr><th>11</th><td>loop</td><td>sim09_r_05.fits</td><td>30.15</td></tr><tr><th>12</th><td>loop</td><td>sim09_r.fits</td><td>124.3</td></tr><tr><th>13</th><td>loop</td><td>sim09_r.fits</td><td>126.93</td></tr><tr><th>14</th><td>loop</td><td>sim09_r.fits</td><td>124.74</td></tr></tbody></table>"
      ],
      "text/plain": [
       "14×3 DataFrames.DataFrame\n",
       "│ Row │ Change │ File            │ Time    │\n",
       "├─────┼────────┼─────────────────┼─────────┤\n",
       "│ 1   │ none   │ sim09_r_05.fits │ 151.24  │\n",
       "│ 2   │ none   │ sim09_r_05.fits │ 150.31  │\n",
       "│ 3   │ none   │ sim09_r_05.fits │ 149.39  │\n",
       "│ 4   │ none   │ sim09_r.fits    │ 1149.71 │\n",
       "│ 5   │ cache  │ sim09_r_05.fits │ 66.85   │\n",
       "│ 6   │ cache  │ sim09_r_05.fits │ 71.28   │\n",
       "│ 7   │ cache  │ sim09_r_05.fits │ 70.75   │\n",
       "│ 8   │ cache  │ sim09_r.fits    │ 471.25  │\n",
       "│ 9   │ loop   │ sim09_r_05.fits │ 29.11   │\n",
       "│ 10  │ loop   │ sim09_r_05.fits │ 28.89   │\n",
       "│ 11  │ loop   │ sim09_r_05.fits │ 30.15   │\n",
       "│ 12  │ loop   │ sim09_r.fits    │ 124.3   │\n",
       "│ 13  │ loop   │ sim09_r.fits    │ 126.93  │\n",
       "│ 14  │ loop   │ sim09_r.fits    │ 124.74  │"
      ]
     },
     "execution_count": 3,
     "metadata": {},
     "output_type": "execute_result"
    }
   ],
   "source": [
    "perf_data = CSV.read(\"sextractorxx.csv\")"
   ]
  },
  {
   "cell_type": "code",
   "execution_count": 4,
   "metadata": {},
   "outputs": [
    {
     "data": {
      "text/html": [
       "<table class=\"data-frame\"><thead><tr><th></th><th>Change</th><th>File</th><th>x1</th></tr></thead><tbody><tr><th>1</th><td>none</td><td>sim09_r_05.fits</td><td>150.313</td></tr><tr><th>2</th><td>none</td><td>sim09_r.fits</td><td>1149.71</td></tr><tr><th>3</th><td>cache</td><td>sim09_r_05.fits</td><td>69.6267</td></tr><tr><th>4</th><td>cache</td><td>sim09_r.fits</td><td>471.25</td></tr><tr><th>5</th><td>loop</td><td>sim09_r_05.fits</td><td>29.3833</td></tr><tr><th>6</th><td>loop</td><td>sim09_r.fits</td><td>125.323</td></tr></tbody></table>"
      ],
      "text/plain": [
       "6×3 DataFrames.DataFrame\n",
       "│ Row │ Change │ File            │ x1      │\n",
       "├─────┼────────┼─────────────────┼─────────┤\n",
       "│ 1   │ none   │ sim09_r_05.fits │ 150.313 │\n",
       "│ 2   │ none   │ sim09_r.fits    │ 1149.71 │\n",
       "│ 3   │ cache  │ sim09_r_05.fits │ 69.6267 │\n",
       "│ 4   │ cache  │ sim09_r.fits    │ 471.25  │\n",
       "│ 5   │ loop   │ sim09_r_05.fits │ 29.3833 │\n",
       "│ 6   │ loop   │ sim09_r.fits    │ 125.323 │"
      ]
     },
     "execution_count": 4,
     "metadata": {},
     "output_type": "execute_result"
    }
   ],
   "source": [
    "avg_time = by(perf_data, [:Change, :File], df -> mean(df[:Time]))"
   ]
  },
  {
   "cell_type": "code",
   "execution_count": 5,
   "metadata": {},
   "outputs": [
    {
     "data": {
      "image/svg+xml": [
       "<?xml version=\"1.0\" encoding=\"utf-8\"?>\n",
       "<svg xmlns=\"http://www.w3.org/2000/svg\" xmlns:xlink=\"http://www.w3.org/1999/xlink\" width=\"800\" height=\"600\" viewBox=\"0 0 800 600\">\n",
       "<defs>\n",
       "  <clipPath id=\"clip9600\">\n",
       "    <rect x=\"0\" y=\"0\" width=\"800\" height=\"600\"/>\n",
       "  </clipPath>\n",
       "</defs>\n",
       "<polygon clip-path=\"url(#clip9600)\" points=\"\n",
       "0,600 800,600 800,0 0,0 \n",
       "  \" fill=\"#ffffff\" fill-opacity=\"1\"/>\n",
       "<defs>\n",
       "  <clipPath id=\"clip9601\">\n",
       "    <rect x=\"160\" y=\"0\" width=\"561\" height=\"561\"/>\n",
       "  </clipPath>\n",
       "</defs>\n",
       "<polygon clip-path=\"url(#clip9600)\" points=\"\n",
       "66.1324,560.121 780.315,560.121 780.315,11.811 66.1324,11.811 \n",
       "  \" fill=\"#ffffff\" fill-opacity=\"1\"/>\n",
       "<defs>\n",
       "  <clipPath id=\"clip9602\">\n",
       "    <rect x=\"66\" y=\"11\" width=\"715\" height=\"549\"/>\n",
       "  </clipPath>\n",
       "</defs>\n",
       "<polyline clip-path=\"url(#clip9602)\" style=\"stroke:#000000; stroke-width:0.5; stroke-opacity:0.1; fill:none\" points=\"\n",
       "  194.366,560.121 194.366,11.811 \n",
       "  \"/>\n",
       "<polyline clip-path=\"url(#clip9602)\" style=\"stroke:#000000; stroke-width:0.5; stroke-opacity:0.1; fill:none\" points=\"\n",
       "  423.224,560.121 423.224,11.811 \n",
       "  \"/>\n",
       "<polyline clip-path=\"url(#clip9602)\" style=\"stroke:#000000; stroke-width:0.5; stroke-opacity:0.1; fill:none\" points=\"\n",
       "  652.081,560.121 652.081,11.811 \n",
       "  \"/>\n",
       "<polyline clip-path=\"url(#clip9602)\" style=\"stroke:#000000; stroke-width:0.5; stroke-opacity:0.1; fill:none\" points=\"\n",
       "  66.1324,544.602 780.315,544.602 \n",
       "  \"/>\n",
       "<polyline clip-path=\"url(#clip9602)\" style=\"stroke:#000000; stroke-width:0.5; stroke-opacity:0.1; fill:none\" points=\"\n",
       "  66.1324,432.123 780.315,432.123 \n",
       "  \"/>\n",
       "<polyline clip-path=\"url(#clip9602)\" style=\"stroke:#000000; stroke-width:0.5; stroke-opacity:0.1; fill:none\" points=\"\n",
       "  66.1324,319.644 780.315,319.644 \n",
       "  \"/>\n",
       "<polyline clip-path=\"url(#clip9602)\" style=\"stroke:#000000; stroke-width:0.5; stroke-opacity:0.1; fill:none\" points=\"\n",
       "  66.1324,207.165 780.315,207.165 \n",
       "  \"/>\n",
       "<polyline clip-path=\"url(#clip9602)\" style=\"stroke:#000000; stroke-width:0.5; stroke-opacity:0.1; fill:none\" points=\"\n",
       "  66.1324,94.6862 780.315,94.6862 \n",
       "  \"/>\n",
       "<polyline clip-path=\"url(#clip9600)\" style=\"stroke:#000000; stroke-width:1; stroke-opacity:1; fill:none\" points=\"\n",
       "  66.1324,560.121 780.315,560.121 \n",
       "  \"/>\n",
       "<polyline clip-path=\"url(#clip9600)\" style=\"stroke:#000000; stroke-width:1; stroke-opacity:1; fill:none\" points=\"\n",
       "  66.1324,560.121 66.1324,11.811 \n",
       "  \"/>\n",
       "<polyline clip-path=\"url(#clip9600)\" style=\"stroke:#000000; stroke-width:1; stroke-opacity:1; fill:none\" points=\"\n",
       "  194.366,560.121 194.366,551.896 \n",
       "  \"/>\n",
       "<polyline clip-path=\"url(#clip9600)\" style=\"stroke:#000000; stroke-width:1; stroke-opacity:1; fill:none\" points=\"\n",
       "  423.224,560.121 423.224,551.896 \n",
       "  \"/>\n",
       "<polyline clip-path=\"url(#clip9600)\" style=\"stroke:#000000; stroke-width:1; stroke-opacity:1; fill:none\" points=\"\n",
       "  652.081,560.121 652.081,551.896 \n",
       "  \"/>\n",
       "<polyline clip-path=\"url(#clip9600)\" style=\"stroke:#000000; stroke-width:1; stroke-opacity:1; fill:none\" points=\"\n",
       "  66.1324,544.602 76.8452,544.602 \n",
       "  \"/>\n",
       "<polyline clip-path=\"url(#clip9600)\" style=\"stroke:#000000; stroke-width:1; stroke-opacity:1; fill:none\" points=\"\n",
       "  66.1324,432.123 76.8452,432.123 \n",
       "  \"/>\n",
       "<polyline clip-path=\"url(#clip9600)\" style=\"stroke:#000000; stroke-width:1; stroke-opacity:1; fill:none\" points=\"\n",
       "  66.1324,319.644 76.8452,319.644 \n",
       "  \"/>\n",
       "<polyline clip-path=\"url(#clip9600)\" style=\"stroke:#000000; stroke-width:1; stroke-opacity:1; fill:none\" points=\"\n",
       "  66.1324,207.165 76.8452,207.165 \n",
       "  \"/>\n",
       "<polyline clip-path=\"url(#clip9600)\" style=\"stroke:#000000; stroke-width:1; stroke-opacity:1; fill:none\" points=\"\n",
       "  66.1324,94.6862 76.8452,94.6862 \n",
       "  \"/>\n",
       "<g clip-path=\"url(#clip9600)\">\n",
       "<text style=\"fill:#000000; fill-opacity:1; font-family:Arial,Helvetica Neue,Helvetica,sans-serif; font-size:12; text-anchor:middle;\" transform=\"rotate(0, 194.366, 574.921)\" x=\"194.366\" y=\"574.921\">none</text>\n",
       "</g>\n",
       "<g clip-path=\"url(#clip9600)\">\n",
       "<text style=\"fill:#000000; fill-opacity:1; font-family:Arial,Helvetica Neue,Helvetica,sans-serif; font-size:12; text-anchor:middle;\" transform=\"rotate(0, 423.224, 574.921)\" x=\"423.224\" y=\"574.921\">cache</text>\n",
       "</g>\n",
       "<g clip-path=\"url(#clip9600)\">\n",
       "<text style=\"fill:#000000; fill-opacity:1; font-family:Arial,Helvetica Neue,Helvetica,sans-serif; font-size:12; text-anchor:middle;\" transform=\"rotate(0, 652.081, 574.921)\" x=\"652.081\" y=\"574.921\">loop</text>\n",
       "</g>\n",
       "<g clip-path=\"url(#clip9600)\">\n",
       "<text style=\"fill:#000000; fill-opacity:1; font-family:Arial,Helvetica Neue,Helvetica,sans-serif; font-size:12; text-anchor:end;\" transform=\"rotate(0, 58.1324, 549.102)\" x=\"58.1324\" y=\"549.102\">0</text>\n",
       "</g>\n",
       "<g clip-path=\"url(#clip9600)\">\n",
       "<text style=\"fill:#000000; fill-opacity:1; font-family:Arial,Helvetica Neue,Helvetica,sans-serif; font-size:12; text-anchor:end;\" transform=\"rotate(0, 58.1324, 436.623)\" x=\"58.1324\" y=\"436.623\">250</text>\n",
       "</g>\n",
       "<g clip-path=\"url(#clip9600)\">\n",
       "<text style=\"fill:#000000; fill-opacity:1; font-family:Arial,Helvetica Neue,Helvetica,sans-serif; font-size:12; text-anchor:end;\" transform=\"rotate(0, 58.1324, 324.144)\" x=\"58.1324\" y=\"324.144\">500</text>\n",
       "</g>\n",
       "<g clip-path=\"url(#clip9600)\">\n",
       "<text style=\"fill:#000000; fill-opacity:1; font-family:Arial,Helvetica Neue,Helvetica,sans-serif; font-size:12; text-anchor:end;\" transform=\"rotate(0, 58.1324, 211.665)\" x=\"58.1324\" y=\"211.665\">750</text>\n",
       "</g>\n",
       "<g clip-path=\"url(#clip9600)\">\n",
       "<text style=\"fill:#000000; fill-opacity:1; font-family:Arial,Helvetica Neue,Helvetica,sans-serif; font-size:12; text-anchor:end;\" transform=\"rotate(0, 58.1324, 99.1862)\" x=\"58.1324\" y=\"99.1862\">1000</text>\n",
       "</g>\n",
       "<g clip-path=\"url(#clip9600)\">\n",
       "<text style=\"fill:#000000; fill-opacity:1; font-family:Arial,Helvetica Neue,Helvetica,sans-serif; font-size:16; text-anchor:middle;\" transform=\"rotate(0, 423.224, 597.6)\" x=\"423.224\" y=\"597.6\">Optimization</text>\n",
       "</g>\n",
       "<g clip-path=\"url(#clip9600)\">\n",
       "<text style=\"fill:#000000; fill-opacity:1; font-family:Arial,Helvetica Neue,Helvetica,sans-serif; font-size:16; text-anchor:middle;\" transform=\"rotate(-90, 14.4, 285.966)\" x=\"14.4\" y=\"285.966\">Seconds</text>\n",
       "</g>\n",
       "<polygon clip-path=\"url(#clip9602)\" points=\"\n",
       "102.823,27.3292 102.823,544.602 194.366,544.602 194.366,27.3292 102.823,27.3292 102.823,27.3292 \n",
       "  \" fill=\"#009af9\" fill-opacity=\"1\"/>\n",
       "<polyline clip-path=\"url(#clip9602)\" style=\"stroke:#000000; stroke-width:1; stroke-opacity:1; fill:none\" points=\"\n",
       "  102.823,27.3292 102.823,544.602 194.366,544.602 194.366,27.3292 102.823,27.3292 \n",
       "  \"/>\n",
       "<polygon clip-path=\"url(#clip9602)\" points=\"\n",
       "331.681,332.579 331.681,544.602 423.224,544.602 423.224,332.579 331.681,332.579 331.681,332.579 \n",
       "  \" fill=\"#009af9\" fill-opacity=\"1\"/>\n",
       "<polyline clip-path=\"url(#clip9602)\" style=\"stroke:#000000; stroke-width:1; stroke-opacity:1; fill:none\" points=\"\n",
       "  331.681,332.579 331.681,544.602 423.224,544.602 423.224,332.579 331.681,332.579 \n",
       "  \"/>\n",
       "<polygon clip-path=\"url(#clip9602)\" points=\"\n",
       "560.538,488.217 560.538,544.602 652.081,544.602 652.081,488.217 560.538,488.217 560.538,488.217 \n",
       "  \" fill=\"#009af9\" fill-opacity=\"1\"/>\n",
       "<polyline clip-path=\"url(#clip9602)\" style=\"stroke:#000000; stroke-width:1; stroke-opacity:1; fill:none\" points=\"\n",
       "  560.538,488.217 560.538,544.602 652.081,544.602 652.081,488.217 560.538,488.217 \n",
       "  \"/>\n",
       "<polygon clip-path=\"url(#clip9602)\" points=\"\n",
       "194.366,476.974 194.366,544.602 285.909,544.602 285.909,476.974 194.366,476.974 194.366,476.974 \n",
       "  \" fill=\"#e26f46\" fill-opacity=\"1\"/>\n",
       "<polyline clip-path=\"url(#clip9602)\" style=\"stroke:#000000; stroke-width:1; stroke-opacity:1; fill:none\" points=\"\n",
       "  194.366,476.974 194.366,544.602 285.909,544.602 285.909,476.974 194.366,476.974 \n",
       "  \"/>\n",
       "<polygon clip-path=\"url(#clip9602)\" points=\"\n",
       "423.224,513.276 423.224,544.602 514.767,544.602 514.767,513.276 423.224,513.276 423.224,513.276 \n",
       "  \" fill=\"#e26f46\" fill-opacity=\"1\"/>\n",
       "<polyline clip-path=\"url(#clip9602)\" style=\"stroke:#000000; stroke-width:1; stroke-opacity:1; fill:none\" points=\"\n",
       "  423.224,513.276 423.224,544.602 514.767,544.602 514.767,513.276 423.224,513.276 \n",
       "  \"/>\n",
       "<polygon clip-path=\"url(#clip9602)\" points=\"\n",
       "652.081,531.382 652.081,544.602 743.624,544.602 743.624,531.382 652.081,531.382 652.081,531.382 \n",
       "  \" fill=\"#e26f46\" fill-opacity=\"1\"/>\n",
       "<polyline clip-path=\"url(#clip9602)\" style=\"stroke:#000000; stroke-width:1; stroke-opacity:1; fill:none\" points=\"\n",
       "  652.081,531.382 652.081,544.602 743.624,544.602 743.624,531.382 652.081,531.382 \n",
       "  \"/>\n",
       "<polygon clip-path=\"url(#clip9600)\" points=\"\n",
       "594.728,90.051 756.315,90.051 756.315,44.691 594.728,44.691 \n",
       "  \" fill=\"#ffffff\" fill-opacity=\"1\"/>\n",
       "<polyline clip-path=\"url(#clip9600)\" style=\"stroke:#000000; stroke-width:1; stroke-opacity:1; fill:none\" points=\"\n",
       "  594.728,90.051 756.315,90.051 756.315,44.691 594.728,44.691 594.728,90.051 \n",
       "  \"/>\n",
       "<polygon clip-path=\"url(#clip9600)\" points=\"\n",
       "602.728,65.859 650.728,65.859 650.728,53.763 602.728,53.763 602.728,65.859 \n",
       "  \" fill=\"#009af9\" fill-opacity=\"1\"/>\n",
       "<polyline clip-path=\"url(#clip9600)\" style=\"stroke:#000000; stroke-width:1; stroke-opacity:1; fill:none\" points=\"\n",
       "  602.728,65.859 650.728,65.859 650.728,53.763 602.728,53.763 602.728,65.859 \n",
       "  \"/>\n",
       "<g clip-path=\"url(#clip9600)\">\n",
       "<text style=\"fill:#000000; fill-opacity:1; font-family:Arial,Helvetica Neue,Helvetica,sans-serif; font-size:12; text-anchor:start;\" transform=\"rotate(0, 658.728, 64.311)\" x=\"658.728\" y=\"64.311\">sim09_r.fits</text>\n",
       "</g>\n",
       "<polygon clip-path=\"url(#clip9600)\" points=\"\n",
       "602.728,80.979 650.728,80.979 650.728,68.883 602.728,68.883 602.728,80.979 \n",
       "  \" fill=\"#e26f46\" fill-opacity=\"1\"/>\n",
       "<polyline clip-path=\"url(#clip9600)\" style=\"stroke:#000000; stroke-width:1; stroke-opacity:1; fill:none\" points=\"\n",
       "  602.728,80.979 650.728,80.979 650.728,68.883 602.728,68.883 602.728,80.979 \n",
       "  \"/>\n",
       "<g clip-path=\"url(#clip9600)\">\n",
       "<text style=\"fill:#000000; fill-opacity:1; font-family:Arial,Helvetica Neue,Helvetica,sans-serif; font-size:12; text-anchor:start;\" transform=\"rotate(0, 658.728, 79.431)\" x=\"658.728\" y=\"79.431\">sim09_r_05.fits</text>\n",
       "</g>\n",
       "</svg>\n"
      ]
     },
     "execution_count": 5,
     "metadata": {},
     "output_type": "execute_result"
    }
   ],
   "source": [
    "gr(size=(800,600))\n",
    "groupedbar(avg_time[:Change], avg_time[:x1], group = avg_time[:File], xlabel=\"Optimization\", ylabel=\"Seconds\")"
   ]
  }
 ],
 "metadata": {
  "kernelspec": {
   "display_name": "Julia 0.6.3",
   "language": "julia",
   "name": "julia-0.6"
  },
  "language_info": {
   "file_extension": ".jl",
   "mimetype": "application/julia",
   "name": "julia",
   "version": "0.6.3"
  }
 },
 "nbformat": 4,
 "nbformat_minor": 2
}
