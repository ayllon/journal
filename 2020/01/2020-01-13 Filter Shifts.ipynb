{
 "cells": [
  {
   "cell_type": "code",
   "execution_count": 2,
   "metadata": {},
   "outputs": [],
   "source": [
    "import sys\n",
    "import os"
   ]
  },
  {
   "cell_type": "code",
   "execution_count": 3,
   "metadata": {},
   "outputs": [],
   "source": [
    "sys.path.append('/home/aalvarez/Work/Projects/Elements/5.8/InstallArea/x86_64-fc31-gcc92-dbg/python/')\n",
    "sys.path.append('/home/aalvarez/Work/Projects/Phosphoros/Phosphoros/InstallArea/x86_64-fc31-gcc92-dbg/python/')"
   ]
  },
  {
   "cell_type": "code",
   "execution_count": 4,
   "metadata": {},
   "outputs": [],
   "source": [
    "from astropy.table import Table\n",
    "from PhzCLI.PlotSpecZComparison import SpeczPhotozPlot, displayHistogram, compute_stats\n",
    "import matplotlib.pyplot as plt\n",
    "import numpy as np"
   ]
  },
  {
   "cell_type": "code",
   "execution_count": 5,
   "metadata": {},
   "outputs": [],
   "source": [
    "filters = ['u', 'g', 'r', 'i', 'z', 'vis', 'H', 'Y', 'J']"
   ]
  },
  {
   "cell_type": "markdown",
   "metadata": {},
   "source": [
    "# Compare runs"
   ]
  },
  {
   "cell_type": "code",
   "execution_count": 18,
   "metadata": {},
   "outputs": [],
   "source": [
    "not_shifted = Table.read('/home/aalvarez/Work/Data/WillHartley/RUN_not_shifted.fits', hdu=1)\n",
    "ot_corrected = Table.read('/home/aalvarez/Work/Data/WillHartley/RUN_not_corrected.fits', hdu=1)\n",
    "corrected = Table.read('/home/aalvarez/Work/Data/WillHartley/RUN_corrected.fits', hdu=1)"
   ]
  },
  {
   "cell_type": "code",
   "execution_count": 15,
   "metadata": {},
   "outputs": [
    {
     "name": "stdout",
     "output_type": "stream",
     "text": [
      "--> Mean                :  0.0121892085\n",
      "--> Median              :  0.012381364\n",
      "--> Sigma               :  0.019837067\n",
      "--> Mad                 :  0.008972294\n",
      "--> Outliers            :  0.048 %\n",
      "--> Sigma (no outliers) :  0.014505297\n"
     ]
    }
   ],
   "source": [
    "_ = compute_stats(not_shifted['z'], not_shifted['REDSHIFT_MODE'])"
   ]
  },
  {
   "cell_type": "code",
   "execution_count": 16,
   "metadata": {},
   "outputs": [
    {
     "name": "stdout",
     "output_type": "stream",
     "text": [
      "--> Mean                :  0.013111889\n",
      "--> Median              :  0.013193158\n",
      "--> Sigma               :  0.020157564\n",
      "--> Mad                 :  0.009171791\n",
      "--> Outliers            :  0.051 %\n",
      "--> Sigma (no outliers) :  0.014882903\n"
     ]
    }
   ],
   "source": [
    "_ = compute_stats(not_corrected['z'], not_corrected['REDSHIFT_MODE'])"
   ]
  },
  {
   "cell_type": "code",
   "execution_count": 19,
   "metadata": {},
   "outputs": [
    {
     "name": "stdout",
     "output_type": "stream",
     "text": [
      "--> Mean                :  0.015546867\n",
      "--> Median              :  0.015971832\n",
      "--> Sigma               :  0.021357547\n",
      "--> Mad                 :  0.010004336\n",
      "--> Outliers            :  0.055 %\n",
      "--> Sigma (no outliers) :  0.015545255\n"
     ]
    }
   ],
   "source": [
    "_ = compute_stats(corrected['z'], corrected['REDSHIFT_MODE'])"
   ]
  },
  {
   "cell_type": "code",
   "execution_count": null,
   "metadata": {},
   "outputs": [],
   "source": []
  }
 ],
 "metadata": {
  "kernelspec": {
   "display_name": "Python 3",
   "language": "python",
   "name": "python3"
  },
  "language_info": {
   "codemirror_mode": {
    "name": "ipython",
    "version": 3
   },
   "file_extension": ".py",
   "mimetype": "text/x-python",
   "name": "python",
   "nbconvert_exporter": "python",
   "pygments_lexer": "ipython3",
   "version": "3.7.5"
  }
 },
 "nbformat": 4,
 "nbformat_minor": 4
}
