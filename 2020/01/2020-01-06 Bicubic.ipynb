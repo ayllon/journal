{
 "cells": [
  {
   "cell_type": "code",
   "execution_count": 1,
   "metadata": {},
   "outputs": [],
   "source": [
    "%matplotlib widget\n",
    "import matplotlib.pyplot as plt\n",
    "import numpy as np\n",
    "import scipy.interpolate\n",
    "from astropy.io import fits\n",
    "from matplotlib.colors import SymLogNorm, Normalize\n",
    "from PIL import Image"
   ]
  },
  {
   "cell_type": "code",
   "execution_count": 2,
   "metadata": {},
   "outputs": [
    {
     "data": {
      "text/plain": [
       "(24, 24)"
      ]
     },
     "execution_count": 2,
     "metadata": {},
     "output_type": "execute_result"
    }
   ],
   "source": [
    "original = fits.open('../../2019/12/bgmodel.fits')[0].data\n",
    "original.shape"
   ]
  },
  {
   "cell_type": "code",
   "execution_count": 3,
   "metadata": {},
   "outputs": [
    {
     "data": {
      "application/vnd.jupyter.widget-view+json": {
       "model_id": "",
       "version_major": 2,
       "version_minor": 0
      },
      "text/plain": [
       "Canvas(toolbar=Toolbar(toolitems=[('Home', 'Reset original view', 'home', 'home'), ('Back', 'Back to previous …"
      ]
     },
     "metadata": {},
     "output_type": "display_data"
    }
   ],
   "source": [
    "plt.figure(figsize=(10,10))\n",
    "plt.imshow(original, cmap='Greys_r')\n",
    "plt.colorbar()\n",
    "plt.show()"
   ]
  },
  {
   "cell_type": "markdown",
   "metadata": {},
   "source": [
    "## 1D interpolation"
   ]
  },
  {
   "cell_type": "code",
   "execution_count": 81,
   "metadata": {},
   "outputs": [],
   "source": [
    "def interpolate(y, newsize):\n",
    "    x = np.linspace(0, 1, len(y))\n",
    "    newx = np.linspace(0, 1, newsize)\n",
    "    return scipy.interpolate.interp1d(x, y, 'cubic')(newx)"
   ]
  },
  {
   "cell_type": "code",
   "execution_count": 82,
   "metadata": {},
   "outputs": [],
   "source": [
    "def myinterpolate(y, newsize):\n",
    "    # https://en.wikiversity.org/wiki/Cubic_Spline_Interpolation\n",
    "    # For inversion: https://en.wikipedia.org/wiki/Tridiagonal_matrix\n",
    "    size = len(y)\n",
    "    result = np.zeros(newsize)\n",
    "    \n",
    "    # x = [0:n:1]\n",
    "    newx = np.linspace(0, len(y)-1, newsize)\n",
    "    \n",
    "    # h[i] = x[i] - x[i-1], but since pixels are equally spaced, all h_i are 1, so we skip them\n",
    "    # u[i] = h[i] / (h[i] + h[i+1]), which is always 1/2\n",
    "    # l[i] = 1 - u[i], which, again, is always 1/2\n",
    "    u = 0.5\n",
    "    l = 0.5\n",
    "       \n",
    "    d = np.zeros(size)\n",
    "    # By definition of natural cubic spline, second derivative is 0\n",
    "    d[0] = d[-1] = 0.\n",
    "    # X is equally spaced with width 1, so x[i] - x[i-1] \n",
    "    d[1:-1] = 6 * ((y[2:] - y[1:-1]) - (y[1:-1] - y[:-2])) / 2\n",
    "    \n",
    "    # From https://en.wikiversity.org/wiki/Cubic_Spline_Interpolation\n",
    "    # We now use a matrix A, where the diagonal is 2, the lower diagonal is u[n], and the upper diagonal l[n]\n",
    "    # The rest is 0\n",
    "    # Therefore, we can just apply the Tridiagonal matrix algorithm to solve the system\n",
    "    # A x M = d\n",
    "    # We do not need the full matrix. As a matter of fact, we do not even need arrays, as all $\\lambda_i$ and $\\mu_i$ have the same\n",
    "    # values except if i = 0\n",
    "    # @see https://en.wikipedia.org/wiki/Tridiagonal_matrix_algorithm\n",
    "    \n",
    "    # Forward sweep\n",
    "    M = np.zeros(size)\n",
    "    B = np.full(size, 2.)\n",
    "    for i in range(1, size):\n",
    "        a = u if i < size - 1 else 0\n",
    "        c = l if i > 1 else 0\n",
    "        W = a / B[i-1]\n",
    "        B[i] = B[i] - W * c\n",
    "        d[i] = d[i] - W * d[i-1]\n",
    "\n",
    "    # Back substitution\n",
    "    M[-1] = d[-1] / B[-1]\n",
    "    for i in range(size - 2, -1, -1):\n",
    "        c = l if i > 1 else 0\n",
    "        M[i] = (d[i] - c * M[i + 1]) / B[i]\n",
    "    \n",
    "    # M is always divided by 6 on formula 1 since h[i] is 1\n",
    "    M /= 6\n",
    "    \n",
    "    for ni, nx in enumerate(newx):\n",
    "        # i is a proxy for x[i]\n",
    "        i = int(nx) + 1\n",
    "        if i > size-1:\n",
    "            i = size-1\n",
    "        result[ni] =   M[i-1] * (i - nx)**3 \\\n",
    "                    + M[i]  * (nx - (i-1))**3 \\\n",
    "                    + (y[i-1] - M[i-1]) * (i - nx) \\\n",
    "                    + (y[i] - M[i]) * (nx - (i-1))\n",
    "        \n",
    "    return result"
   ]
  },
  {
   "cell_type": "code",
   "execution_count": 83,
   "metadata": {},
   "outputs": [],
   "source": [
    "data_y = original[13,:]\n",
    "data_x = np.arange(len(data_y))"
   ]
  },
  {
   "cell_type": "code",
   "execution_count": 84,
   "metadata": {},
   "outputs": [],
   "source": [
    "scinew = interpolate(data_y, 100)\n",
    "mynew = myinterpolate(data_y, 100)\n",
    "\n",
    "new_x = np.linspace(0, len(data_y)-1, 100)"
   ]
  },
  {
   "cell_type": "code",
   "execution_count": 85,
   "metadata": {},
   "outputs": [
    {
     "data": {
      "application/vnd.jupyter.widget-view+json": {
       "model_id": "7017953e001140a991a165bb0e34ced3",
       "version_major": 2,
       "version_minor": 0
      },
      "text/plain": [
       "Canvas(toolbar=Toolbar(toolitems=[('Home', 'Reset original view', 'home', 'home'), ('Back', 'Back to previous …"
      ]
     },
     "metadata": {},
     "output_type": "display_data"
    }
   ],
   "source": [
    "plt.close()\n",
    "\n",
    "fig, axes = plt.subplots(nrows=1, ncols=1, figsize=(20,15), sharex=True)\n",
    "plt.subplots_adjust(hspace=0)\n",
    "axes.plot(data_x, data_y, marker='o', label='Downsampled', c='orange')\n",
    "axes.plot(new_x, scinew, marker='x', label='SciPy', c='r')\n",
    "axes.plot(new_x, mynew, marker='.', label='My', c='blue', linestyle=':')\n",
    "\n",
    "axes.legend()\n",
    "\n",
    "plt.show()"
   ]
  },
  {
   "cell_type": "markdown",
   "metadata": {},
   "source": [
    "## 2D interpolation"
   ]
  },
  {
   "cell_type": "code",
   "execution_count": 86,
   "metadata": {},
   "outputs": [],
   "source": [
    "cell_size = 64\n",
    "newsize = original.shape[0]*cell_size, original.shape[1]*cell_size"
   ]
  },
  {
   "cell_type": "code",
   "execution_count": 87,
   "metadata": {},
   "outputs": [],
   "source": [
    "ox = np.arange(original.shape[0])\n",
    "oy = np.arange(original.shape[1])\n",
    "nx = np.arange(newsize[0])/(newsize[0]-1) * (original.shape[0]-1)\n",
    "ny = np.arange(newsize[1])/(newsize[1]-1) * (original.shape[1]-1)\n",
    "sample = scipy.interpolate.interp2d(ox, oy, original, kind='cubic')(nx, ny)"
   ]
  },
  {
   "cell_type": "code",
   "execution_count": 88,
   "metadata": {},
   "outputs": [],
   "source": [
    "img = np.zeros(newsize)\n",
    "for i in range(original.shape[1]):\n",
    "    img[:, i*cell_size] = myinterpolate(original[:, i], newsize[0])\n",
    "for i in range(img.shape[0]):\n",
    "    img[i, :] = myinterpolate(img[i, ::cell_size], newsize[1])"
   ]
  },
  {
   "cell_type": "code",
   "execution_count": 89,
   "metadata": {},
   "outputs": [
    {
     "data": {
      "application/vnd.jupyter.widget-view+json": {
       "model_id": "b89ab52f7d084f6c9d5b87efc4e860b6",
       "version_major": 2,
       "version_minor": 0
      },
      "text/plain": [
       "Canvas(toolbar=Toolbar(toolitems=[('Home', 'Reset original view', 'home', 'home'), ('Back', 'Back to previous …"
      ]
     },
     "metadata": {},
     "output_type": "display_data"
    }
   ],
   "source": [
    "fig, axes = plt.subplots(ncols=3, nrows=1, figsize=(22, 10))\n",
    "axes[0].imshow(img, cmap='Greys_r')\n",
    "axes[1].imshow(sample, cmap='Greys_r')\n",
    "d = axes[2].imshow(img-sample)\n",
    "plt.colorbar(d)\n",
    "plt.tight_layout()\n",
    "plt.show()"
   ]
  },
  {
   "cell_type": "code",
   "execution_count": 90,
   "metadata": {},
   "outputs": [],
   "source": [
    "from astropy.io import fits"
   ]
  },
  {
   "cell_type": "code",
   "execution_count": 91,
   "metadata": {},
   "outputs": [],
   "source": [
    "fits.PrimaryHDU(img).writeto('bg_scaled.fits', overwrite=True)"
   ]
  },
  {
   "cell_type": "code",
   "execution_count": null,
   "metadata": {},
   "outputs": [],
   "source": []
  }
 ],
 "metadata": {
  "kernelspec": {
   "display_name": "Python 3",
   "language": "python",
   "name": "python3"
  },
  "language_info": {
   "codemirror_mode": {
    "name": "ipython",
    "version": 3
   },
   "file_extension": ".py",
   "mimetype": "text/x-python",
   "name": "python",
   "nbconvert_exporter": "python",
   "pygments_lexer": "ipython3",
   "version": "3.7.5"
  }
 },
 "nbformat": 4,
 "nbformat_minor": 4
}
