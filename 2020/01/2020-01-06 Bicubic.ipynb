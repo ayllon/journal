{
 "cells": [
  {
   "cell_type": "code",
   "execution_count": 1,
   "metadata": {},
   "outputs": [],
   "source": [
    "%matplotlib widget\n",
    "import matplotlib.pyplot as plt\n",
    "import numpy as np\n",
    "import scipy.interpolate\n",
    "from astropy.io import fits\n",
    "from matplotlib.colors import SymLogNorm, Normalize\n",
    "from PIL import Image"
   ]
  },
  {
   "cell_type": "code",
   "execution_count": 2,
   "metadata": {},
   "outputs": [
    {
     "data": {
      "text/plain": [
       "(24, 24)"
      ]
     },
     "execution_count": 2,
     "metadata": {},
     "output_type": "execute_result"
    }
   ],
   "source": [
    "original = fits.open('../../2019/12/bgmodel.fits')[0].data\n",
    "original.shape"
   ]
  },
  {
   "cell_type": "code",
   "execution_count": 3,
   "metadata": {},
   "outputs": [
    {
     "data": {
      "application/vnd.jupyter.widget-view+json": {
       "model_id": "",
       "version_major": 2,
       "version_minor": 0
      },
      "text/plain": [
       "Canvas(toolbar=Toolbar(toolitems=[('Home', 'Reset original view', 'home', 'home'), ('Back', 'Back to previous …"
      ]
     },
     "metadata": {},
     "output_type": "display_data"
    }
   ],
   "source": [
    "plt.figure(figsize=(10,10))\n",
    "plt.imshow(original, cmap='Greys_r')\n",
    "plt.colorbar()\n",
    "plt.show()"
   ]
  },
  {
   "cell_type": "markdown",
   "metadata": {},
   "source": [
    "## 1D interpolation"
   ]
  },
  {
   "cell_type": "code",
   "execution_count": 4,
   "metadata": {},
   "outputs": [],
   "source": [
    "def interpolate(y, x, newx):\n",
    "    return scipy.interpolate.interp1d(x, y, 'cubic')(newx)"
   ]
  },
  {
   "cell_type": "code",
   "execution_count": 5,
   "metadata": {},
   "outputs": [],
   "source": [
    "def myinterpolate(y, x, newx):\n",
    "    # https://en.wikiversity.org/wiki/Cubic_Spline_Interpolation\n",
    "    size = len(x)\n",
    "    newsize = len(newx)\n",
    "    result = np.zeros(newsize)\n",
    "    intervals = []\n",
    "    \n",
    "    h = np.zeros(size)\n",
    "    h[1:] = x[1:] - x[:-1]\n",
    "    u = np.zeros(size)\n",
    "    u[:-1] = h[:-1] / (h[:-1] + h[1:])\n",
    "    l = 1 - u\n",
    "    l[0] = u[0] = 0\n",
    "    \n",
    "    d = np.zeros(size)\n",
    "    d[0] = d[-1] = 0.\n",
    "    d[1:-1] = 6 * ((y[2:] - y[1:-1]) / (x[2:] - x[1:-1]) - (y[1:-1] - y[:-2]) / (x[1:-1] - x[0:-2])) / (x[2:] - x[:-2])\n",
    "\n",
    "    A = np.eye(size) * 2\n",
    "    for i in range(size-1):\n",
    "        A[i+1, i] = u[i+1]\n",
    "        A[i, i+1] = l[i]\n",
    "    \n",
    "    AI = np.linalg.inv(A)\n",
    "    M = AI.dot(d)\n",
    "    \n",
    "    for ni, nx in enumerate(newx):\n",
    "        i = int(nx) + 1\n",
    "        if i > size-1:\n",
    "            i = size-1\n",
    "        result[ni] =   M[i-1] * (x[i] - nx)**3 / 6 * h[i] \\\n",
    "                    + M[i]  * (nx - x[i-1])**3 / 6 * h[i] \\\n",
    "                    + (y[i-1] - (M[i-1]*h[i]**2)/6) * (x[i] - nx) / h[i] \\\n",
    "                    + (y[i] - (M[i] * h[i]**2)/6) * (nx - x[i-1]) / h[i]\n",
    "        \n",
    "    return result, intervals"
   ]
  },
  {
   "cell_type": "code",
   "execution_count": 6,
   "metadata": {},
   "outputs": [],
   "source": [
    "data_y = original[13,0:50]\n",
    "data_x = np.arange(len(data_y))"
   ]
  },
  {
   "cell_type": "code",
   "execution_count": 7,
   "metadata": {},
   "outputs": [],
   "source": [
    "new_x = np.linspace(0, len(data_y)-1, 100)"
   ]
  },
  {
   "cell_type": "code",
   "execution_count": 8,
   "metadata": {},
   "outputs": [],
   "source": [
    "scinew = interpolate(data_y, data_x, new_x)\n",
    "mynew, intervals = myinterpolate(data_y, data_x, new_x)"
   ]
  },
  {
   "cell_type": "code",
   "execution_count": 14,
   "metadata": {},
   "outputs": [
    {
     "data": {
      "application/vnd.jupyter.widget-view+json": {
       "model_id": "20ab05111c2948aeb21531bf46206c82",
       "version_major": 2,
       "version_minor": 0
      },
      "text/plain": [
       "Canvas(toolbar=Toolbar(toolitems=[('Home', 'Reset original view', 'home', 'home'), ('Back', 'Back to previous …"
      ]
     },
     "metadata": {},
     "output_type": "display_data"
    }
   ],
   "source": [
    "plt.close()\n",
    "\n",
    "fig, axes = plt.subplots(nrows=1, ncols=1, figsize=(20,15), sharex=True)\n",
    "plt.subplots_adjust(hspace=0)\n",
    "axes.plot(data_x, data_y, marker='o', label='Downsampled', c='orange')\n",
    "axes.plot(new_x, scinew, marker='x', label='SciPy', c='green')\n",
    "axes.plot(new_x, mynew, marker='.', label='My', c='blue', linestyle='--')\n",
    "\n",
    "if False:\n",
    "    for idx in [0, 1, 5, 6, 9, 10]:\n",
    "        a, b, c, d = intervals[idx]\n",
    "        v = np.linspace(-1,2,100)\n",
    "        l = a * v**3 + b * v**2 + c * v + d\n",
    "        axes.plot(data_x[idx]+ v, l, c='r', linestyle=':')\n",
    "\n",
    "axes.legend()\n",
    "\n",
    "plt.show()\n",
    "\n",
    "if False:\n",
    "    # Some consistency tests\n",
    "    def derivative_at_point(f, p, epsilon=1e-4):\n",
    "        x = np.linspace(p - epsilon, p+epsilon, 9)\n",
    "        y = f(x)\n",
    "        dy = np.gradient(y, x[1]-x[0])\n",
    "        ddy = np.gradient(dy, x[1]-x[0])\n",
    "        return dy[4], ddy[4]\n",
    "\n",
    "    for idx in range(len(intervals) - 1):\n",
    "        a, b, c, d = intervals[idx]\n",
    "        lf = lambda v: a * v**3 + b * v**2 + c * v + d\n",
    "        lv = lf(1)\n",
    "        ldy, lddy = derivative_at_point(lf, 1)\n",
    "\n",
    "        a, b, c, d = intervals[idx+1]\n",
    "        rf = lambda v: a * v**3 + b * v**2 + c * v + d\n",
    "        rv = rf(0)\n",
    "        rdy, rddy = derivative_at_point(lambda v: a * v**3 + b * v**2 + c * v + d, 0)\n",
    "\n",
    "        # Derivative of the right and left piecewises at this point is the same\n",
    "        if not np.isclose(ldy, rdy):\n",
    "            print(idx, ldy, rdy)\n",
    "        print(idx, lddy, rddy)\n",
    "        # Value of the right and left piecewises at the intersection is the same\n",
    "        assert np.isclose(lv, rv)\n",
    "        # And they match with the actual interpolated value\n",
    "        assert np.isclose(lv, data_y[idx+1])"
   ]
  },
  {
   "cell_type": "markdown",
   "metadata": {},
   "source": [
    "## 2D interpolation"
   ]
  },
  {
   "cell_type": "code",
   "execution_count": 10,
   "metadata": {},
   "outputs": [],
   "source": [
    "cell_size = 16\n",
    "newsize = original.shape[0]*cell_size, original.shape[1]*cell_size"
   ]
  },
  {
   "cell_type": "code",
   "execution_count": 11,
   "metadata": {},
   "outputs": [],
   "source": [
    "ox = np.arange(original.shape[0])\n",
    "oy = np.arange(original.shape[1])\n",
    "nx = np.arange(newsize[0])/(newsize[0]-1) * (original.shape[0]-1)\n",
    "ny = np.arange(newsize[1])/(newsize[1]-1) * (original.shape[1]-1)\n",
    "sample = scipy.interpolate.interp2d(ox, oy, original, kind='cubic')(nx, ny)"
   ]
  },
  {
   "cell_type": "code",
   "execution_count": 12,
   "metadata": {},
   "outputs": [],
   "source": [
    "img = np.zeros(newsize)\n",
    "for i in range(original.shape[1]):\n",
    "    img[:, i*cell_size], _ = myinterpolate(original[:, i], ox, nx)\n",
    "for i in range(img.shape[0]):\n",
    "    img[i, :], _ = myinterpolate(img[i, ::cell_size], oy, ny)"
   ]
  },
  {
   "cell_type": "code",
   "execution_count": 13,
   "metadata": {},
   "outputs": [
    {
     "data": {
      "application/vnd.jupyter.widget-view+json": {
       "model_id": "",
       "version_major": 2,
       "version_minor": 0
      },
      "text/plain": [
       "Canvas(toolbar=Toolbar(toolitems=[('Home', 'Reset original view', 'home', 'home'), ('Back', 'Back to previous …"
      ]
     },
     "metadata": {},
     "output_type": "display_data"
    }
   ],
   "source": [
    "fig, axes = plt.subplots(ncols=3, nrows=1, figsize=(22, 10))\n",
    "axes[0].imshow(img, cmap='Greys_r')\n",
    "axes[1].imshow(sample, cmap='Greys_r')\n",
    "d = axes[2].imshow(img-sample)\n",
    "plt.colorbar(d)\n",
    "plt.tight_layout()\n",
    "plt.show()"
   ]
  },
  {
   "cell_type": "code",
   "execution_count": null,
   "metadata": {},
   "outputs": [],
   "source": []
  }
 ],
 "metadata": {
  "kernelspec": {
   "display_name": "Python 3",
   "language": "python",
   "name": "python3"
  },
  "language_info": {
   "codemirror_mode": {
    "name": "ipython",
    "version": 3
   },
   "file_extension": ".py",
   "mimetype": "text/x-python",
   "name": "python",
   "nbconvert_exporter": "python",
   "pygments_lexer": "ipython3",
   "version": "3.7.5"
  }
 },
 "nbformat": 4,
 "nbformat_minor": 4
}
