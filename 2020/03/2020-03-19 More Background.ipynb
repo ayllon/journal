{
 "cells": [
  {
   "cell_type": "code",
   "execution_count": 1,
   "metadata": {},
   "outputs": [],
   "source": [
    "%matplotlib widget\n",
    "import matplotlib.pyplot as plt\n",
    "import numpy as np\n",
    "from astropy.io import fits\n",
    "from matplotlib.colors import SymLogNorm, Normalize\n",
    "from ipywidgets import interactive, IntSlider"
   ]
  },
  {
   "cell_type": "code",
   "execution_count": 2,
   "metadata": {},
   "outputs": [],
   "source": [
    "orig_bg = fits.open('/tmp/histo.fits')[0].data"
   ]
  },
  {
   "cell_type": "code",
   "execution_count": 3,
   "metadata": {},
   "outputs": [],
   "source": [
    "new_bg = fits.open('/tmp/sim11_r_01_ng_background.fits')[0].data"
   ]
  },
  {
   "cell_type": "code",
   "execution_count": 4,
   "metadata": {},
   "outputs": [
    {
     "data": {
      "application/vnd.jupyter.widget-view+json": {
       "model_id": "d239473045774ba28eb02e5a02d0eb16",
       "version_major": 2,
       "version_minor": 0
      },
      "text/plain": [
       "Canvas(toolbar=Toolbar(toolitems=[('Home', 'Reset original view', 'home', 'home'), ('Back', 'Back to previous …"
      ]
     },
     "metadata": {},
     "output_type": "display_data"
    }
   ],
   "source": [
    "fig, axes = plt.subplots(ncols=2, nrows=2, figsize=(10,10))\n",
    "\n",
    "norm = Normalize()\n",
    "\n",
    "axes[0, 0].set_title('SE')\n",
    "im1 = axes[0, 0].imshow(orig_bg, norm=norm)\n",
    "plt.colorbar(im1, ax=axes[0, 0])\n",
    "\n",
    "axes[0, 1].set_title('NG')\n",
    "im2 = axes[0, 1].imshow(new_bg, norm=norm)\n",
    "plt.colorbar(im2, ax=axes[0, 1])\n",
    "\n",
    "axes[1, 0].set_title('$\\Delta$')\n",
    "bg_diff = new_bg - orig_bg\n",
    "df = axes[1, 0].imshow(bg_diff)\n",
    "plt.colorbar(df, ax=axes[1, 0])\n",
    "\n",
    "axes[1, 1].set_title('isclose')\n",
    "close = axes[1, 1].imshow(np.isclose(orig_bg, new_bg, rtol=1e-3, atol=1e-5).astype(np.int))\n",
    "plt.colorbar(close, ax=axes[1, 1])\n",
    "\n",
    "plt.tight_layout()\n",
    "plt.show()"
   ]
  },
  {
   "cell_type": "code",
   "execution_count": 5,
   "metadata": {},
   "outputs": [
    {
     "name": "stdout",
     "output_type": "stream",
     "text": [
      "0.059936523 410\n",
      "17 2\n",
      "-0.059936523\n",
      "821.0766\n",
      "821.01666\n"
     ]
    }
   ],
   "source": [
    "idx = np.nanargmax(np.abs(bg_diff))\n",
    "print(np.nanmax(np.abs(bg_diff)), idx)\n",
    "x, y = idx // bg_diff.shape[1], idx % bg_diff.shape[1]\n",
    "print(x, y)\n",
    "print(bg_diff[x,y])\n",
    "print(orig_bg[x,y])\n",
    "print(new_bg[x,y])"
   ]
  },
  {
   "cell_type": "code",
   "execution_count": 6,
   "metadata": {},
   "outputs": [],
   "source": [
    "orig_var = np.sqrt(fits.open('/tmp/var.fits')[0].data)"
   ]
  },
  {
   "cell_type": "code",
   "execution_count": 7,
   "metadata": {},
   "outputs": [],
   "source": [
    "new_var = fits.open('/tmp/sim11_r_01_ng_variance.fits')[0].data"
   ]
  },
  {
   "cell_type": "code",
   "execution_count": 8,
   "metadata": {},
   "outputs": [
    {
     "data": {
      "application/vnd.jupyter.widget-view+json": {
       "model_id": "66b77214a08a4635812a0d693c7a8dd6",
       "version_major": 2,
       "version_minor": 0
      },
      "text/plain": [
       "Canvas(toolbar=Toolbar(toolitems=[('Home', 'Reset original view', 'home', 'home'), ('Back', 'Back to previous …"
      ]
     },
     "metadata": {},
     "output_type": "display_data"
    }
   ],
   "source": [
    "fig, axes = plt.subplots(ncols=2, nrows=2, figsize=(10,10))\n",
    "\n",
    "norm = Normalize()\n",
    "\n",
    "axes[0, 0].set_title('SE')\n",
    "im1 = axes[0, 0].imshow(orig_var, norm=norm)\n",
    "plt.colorbar(im1, ax=axes[0, 0])\n",
    "\n",
    "axes[0, 1].set_title('NG')\n",
    "im2 = axes[0, 1].imshow(new_var, norm=norm)\n",
    "plt.colorbar(im2, ax=axes[0, 1])\n",
    "\n",
    "axes[1, 0].set_title('$\\Delta$')\n",
    "var_diff = new_var - orig_var\n",
    "df = axes[1, 0].imshow(var_diff)\n",
    "plt.colorbar(df, ax=axes[1, 0])\n",
    "\n",
    "axes[1, 1].set_title('isclose')\n",
    "close = axes[1, 1].imshow(np.isclose(new_var, orig_var, rtol=1e-3, atol=1e-5).astype(np.int))\n",
    "plt.colorbar(close, ax=axes[1, 1])\n",
    "\n",
    "plt.tight_layout()\n",
    "plt.show()"
   ]
  },
  {
   "cell_type": "code",
   "execution_count": 9,
   "metadata": {},
   "outputs": [
    {
     "name": "stdout",
     "output_type": "stream",
     "text": [
      "0.00012207031 157\n",
      "6 13\n",
      "0.00012207031\n",
      "30.541273\n",
      "30.541395\n",
      "(24, 24)\n"
     ]
    }
   ],
   "source": [
    "idx = np.nanargmax(np.abs(var_diff))\n",
    "print(np.nanmax(np.abs(var_diff)), idx)\n",
    "x, y = idx // var_diff.shape[1], idx % var_diff.shape[1]\n",
    "print(x, y)\n",
    "print(var_diff[x,y])\n",
    "print(orig_var[x,y])\n",
    "print(new_var[x,y])\n",
    "print(new_var.shape)"
   ]
  },
  {
   "cell_type": "code",
   "execution_count": null,
   "metadata": {},
   "outputs": [],
   "source": []
  }
 ],
 "metadata": {
  "kernelspec": {
   "display_name": "Python 3",
   "language": "python",
   "name": "python3"
  },
  "language_info": {
   "codemirror_mode": {
    "name": "ipython",
    "version": 3
   },
   "file_extension": ".py",
   "mimetype": "text/x-python",
   "name": "python",
   "nbconvert_exporter": "python",
   "pygments_lexer": "ipython3",
   "version": "3.7.6"
  }
 },
 "nbformat": 4,
 "nbformat_minor": 4
}
