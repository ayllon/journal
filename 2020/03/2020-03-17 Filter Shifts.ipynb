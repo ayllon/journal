{
 "cells": [
  {
   "cell_type": "code",
   "execution_count": 2,
   "metadata": {},
   "outputs": [],
   "source": [
    "import sys\n",
    "import os"
   ]
  },
  {
   "cell_type": "code",
   "execution_count": 3,
   "metadata": {},
   "outputs": [],
   "source": [
    "sys.path.append('/home/aalvarez/Work/Projects/Elements/5.8/InstallArea/x86_64-fc31-gcc92-dbg/python/')\n",
    "sys.path.append('/home/aalvarez/Work/Projects/Phosphoros/Phosphoros/InstallArea/x86_64-fc31-gcc92-dbg/python/')"
   ]
  },
  {
   "cell_type": "code",
   "execution_count": 4,
   "metadata": {},
   "outputs": [],
   "source": [
    "from astropy.table import Table\n",
    "from PhzCLI.PlotSpecZComparison import SpeczPhotozPlot, displayHistogram, compute_stats\n",
    "import matplotlib.pyplot as plt\n",
    "import numpy as np"
   ]
  },
  {
   "cell_type": "markdown",
   "metadata": {},
   "source": [
    "# Compare runs"
   ]
  },
  {
   "cell_type": "code",
   "execution_count": 5,
   "metadata": {},
   "outputs": [],
   "source": [
    "not_shifted = Table.read('/home/aalvarez/Work/Data/WillHartley/RUN_not_shifted.fits', hdu=1)\n",
    "not_corrected = Table.read('/home/aalvarez/Work/Data/WillHartley/RUN_not_corrected.fits', hdu=1)\n",
    "corrected = Table.read('/home/aalvarez/Work/Data/WillHartley/RUN_corrected.fits', hdu=1)"
   ]
  },
  {
   "cell_type": "code",
   "execution_count": 6,
   "metadata": {},
   "outputs": [
    {
     "name": "stdout",
     "output_type": "stream",
     "text": [
      "--> Mean                :  0.02140114\n",
      "--> Median              :  0.007366202\n",
      "--> Sigma               :  0.13568898\n",
      "--> Mad                 :  0.017919742\n",
      "--> Outliers            :  3.17 %\n",
      "--> Sigma (no outliers) :  0.027816936\n"
     ]
    }
   ],
   "source": [
    "_ = compute_stats(not_shifted['z'], not_shifted['REDSHIFT_MEDIAN'])"
   ]
  },
  {
   "cell_type": "code",
   "execution_count": 7,
   "metadata": {},
   "outputs": [
    {
     "name": "stdout",
     "output_type": "stream",
     "text": [
      "--> Mean                :  0.019718656\n",
      "--> Median              :  0.0043965066\n",
      "--> Sigma               :  0.148289\n",
      "--> Mad                 :  0.018336223\n",
      "--> Outliers            :  3.19 %\n",
      "--> Sigma (no outliers) :  0.027483132\n"
     ]
    }
   ],
   "source": [
    "_ = compute_stats(not_corrected['z'], not_corrected['REDSHIFT_MEDIAN'])"
   ]
  },
  {
   "cell_type": "code",
   "execution_count": 8,
   "metadata": {},
   "outputs": [
    {
     "name": "stdout",
     "output_type": "stream",
     "text": [
      "--> Mean                :  0.022151997\n",
      "--> Median              :  0.0070244763\n",
      "--> Sigma               :  0.14852744\n",
      "--> Mad                 :  0.018029483\n",
      "--> Outliers            :  3.13 %\n",
      "--> Sigma (no outliers) :  0.027657218\n"
     ]
    }
   ],
   "source": [
    "_ = compute_stats(corrected['z'], corrected['REDSHIFT_MEDIAN'])"
   ]
  },
  {
   "cell_type": "code",
   "execution_count": null,
   "metadata": {},
   "outputs": [],
   "source": []
  }
 ],
 "metadata": {
  "kernelspec": {
   "display_name": "Python 3",
   "language": "python",
   "name": "python3"
  },
  "language_info": {
   "codemirror_mode": {
    "name": "ipython",
    "version": 3
   },
   "file_extension": ".py",
   "mimetype": "text/x-python",
   "name": "python",
   "nbconvert_exporter": "python",
   "pygments_lexer": "ipython3",
   "version": "3.7.6"
  }
 },
 "nbformat": 4,
 "nbformat_minor": 4
}
