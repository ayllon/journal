{
 "cells": [
  {
   "cell_type": "code",
   "execution_count": 1,
   "metadata": {},
   "outputs": [],
   "source": [
    "from astropy.table import Table, Column\n",
    "from tqdm.notebook import tqdm\n",
    "import numpy as np\n",
    "import sys\n",
    "import os\n",
    "import shutil\n",
    "import subprocess"
   ]
  },
  {
   "cell_type": "code",
   "execution_count": 2,
   "metadata": {},
   "outputs": [],
   "source": [
    "sys.path.append('/home/aalvarez/Work/Projects/Elements/5.8/InstallArea/x86_64-fc31-gcc92-dbg/python/')\n",
    "sys.path.append('/home/aalvarez/Work/Projects/PHZ_NNPZ/PHZ_NNPZ/NNPZ/python/')\n",
    "os.environ['ELEMENTS_AUX_PATH'] = '/home/aalvarez/Work/Projects/PHZ_NNPZ/PHZ_NNPZ/NNPZ/auxdir/'\n",
    "os.environ['PATH'] = os.environ['PATH'] + ':/home/aalvarez/Work/Projects/PHZ_NNPZ/PHZ_NNPZ/build.x86_64-fc31-gcc92-dbg/scripts/'"
   ]
  },
  {
   "cell_type": "code",
   "execution_count": 3,
   "metadata": {},
   "outputs": [],
   "source": [
    "from nnpz.photometry import *"
   ]
  },
  {
   "cell_type": "code",
   "execution_count": 4,
   "metadata": {},
   "outputs": [],
   "source": [
    "filter_provider = DirectoryFilterProvider('/home/aalvarez/Work/Data/WillHartley/DC3')"
   ]
  },
  {
   "cell_type": "code",
   "execution_count": 5,
   "metadata": {},
   "outputs": [
    {
     "name": "stdout",
     "output_type": "stream",
     "text": [
      "Loading J\n",
      "Loading r\n",
      "Loading z\n",
      "Loading g\n",
      "Loading i\n",
      "Loading Y\n",
      "Loading u\n",
      "Loading vis\n",
      "Loading H\n"
     ]
    }
   ],
   "source": [
    "transmission_means = dict()\n",
    "for filter_name in filter_provider.getFilterNames():\n",
    "    print(f'Loading {filter_name}')\n",
    "    transmissions = filter_provider.getFilterTransmission(filter_name)\n",
    "    transmission_means[filter_name] = np.average(transmissions[:, 0], weights=transmissions[:, 1])\n",
    "filters = transmission_means.keys()"
   ]
  },
  {
   "cell_type": "code",
   "execution_count": 6,
   "metadata": {},
   "outputs": [],
   "source": [
    "t = Table.read('/home/aalvarez/Work/Data/WillHartley/NNPZ_filter_shift_test_sample_10Mar20.fits')"
   ]
  },
  {
   "cell_type": "code",
   "execution_count": 7,
   "metadata": {},
   "outputs": [],
   "source": [
    "for f, w in transmission_means.items():\n",
    "    t[f'WL_mean_{f}'] = w + t[f'WL_shift_{f}']"
   ]
  },
  {
   "cell_type": "code",
   "execution_count": 8,
   "metadata": {},
   "outputs": [
    {
     "name": "stdout",
     "output_type": "stream",
     "text": [
      "Drop Mag_vis\n",
      "Drop Magerr_vis\n",
      "Drop Rad_vis\n",
      "Drop Mag_u\n",
      "Drop Magerr_u\n",
      "Drop Rad_u\n",
      "Drop Mag_g\n",
      "Drop Magerr_g\n",
      "Drop Rad_g\n",
      "Drop Mag_r\n",
      "Drop Magerr_r\n",
      "Drop Rad_r\n",
      "Drop Mag_i\n",
      "Drop Magerr_i\n",
      "Drop Rad_i\n",
      "Drop Mag_z\n",
      "Drop Magerr_z\n",
      "Drop Rad_z\n",
      "Drop Mag_Y\n",
      "Drop Magerr_Y\n",
      "Drop Rad_Y\n",
      "Drop Mag_J\n",
      "Drop Magerr_J\n",
      "Drop Rad_J\n",
      "Drop Mag_H\n",
      "Drop Magerr_H\n",
      "Drop Rad_H\n"
     ]
    }
   ],
   "source": [
    "for c in t.colnames:\n",
    "    if c.startswith('Mag') or c.startswith('Rad'):\n",
    "        print(f'Drop {c}')\n",
    "        del t[c]"
   ]
  },
  {
   "cell_type": "code",
   "execution_count": 9,
   "metadata": {},
   "outputs": [],
   "source": [
    "t.write('/home/aalvarez/Work/Data/WillHartley/NNPZ_filter_mean_test_sample_10Mar20.fits', overwrite=True)"
   ]
  },
  {
   "cell_type": "code",
   "execution_count": null,
   "metadata": {},
   "outputs": [],
   "source": []
  }
 ],
 "metadata": {
  "kernelspec": {
   "display_name": "Python 3",
   "language": "python",
   "name": "python3"
  },
  "language_info": {
   "codemirror_mode": {
    "name": "ipython",
    "version": 3
   },
   "file_extension": ".py",
   "mimetype": "text/x-python",
   "name": "python",
   "nbconvert_exporter": "python",
   "pygments_lexer": "ipython3",
   "version": "3.7.6"
  }
 },
 "nbformat": 4,
 "nbformat_minor": 4
}
