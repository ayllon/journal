{
 "cells": [
  {
   "cell_type": "code",
   "execution_count": 2,
   "metadata": {},
   "outputs": [
    {
     "name": "stdout",
     "output_type": "stream",
     "text": [
      "The autoreload extension is already loaded. To reload it, use:\n",
      "  %reload_ext autoreload\n"
     ]
    }
   ],
   "source": [
    "import numpy as np\n",
    "import Euclid\n",
    "import matplotlib.pyplot as plt\n",
    "from astropy.io import fits\n",
    "from astropy.table import Table, Column\n",
    "import shutil\n",
    "from tqdm.notebook import tqdm\n",
    "import numpy.lib.recfunctions as rfn\n",
    "\n",
    "%elogin\n",
    "%erun Elements 5.10\n",
    "\n",
    "sys.path.append('/home/aalvarez/Work/Projects/PHZ_NNPZ/PHZ_NNPZ/nnpz/python/')\n",
    "\n",
    "%load_ext autoreload\n",
    "%autoreload 2\n",
    "from nnpz.reference_sample.ReferenceSample import ReferenceSample\n",
    "from nnpz.photometry.DirectoryFilterProvider import DirectoryFilterProvider"
   ]
  },
  {
   "cell_type": "code",
   "execution_count": 3,
   "metadata": {},
   "outputs": [],
   "source": [
    "filter_provider = DirectoryFilterProvider('/home/aalvarez/Phosphoros/AuxiliaryData/Filters/')\n",
    "\n",
    "bands = [\n",
    "    'u','g','r','i','z',\n",
    "    'vis', 'Y','J','H']\n",
    "fbands = [\n",
    "    'kids/u', 'des/g', 'des/r', 'des/i', 'des/z',\n",
    "    'euclid/VIS', 'euclid/Y', 'euclid/J', 'euclid/H'\n",
    "]"
   ]
  },
  {
   "cell_type": "markdown",
   "metadata": {},
   "source": [
    "# Load data"
   ]
  },
  {
   "cell_type": "code",
   "execution_count": 50,
   "metadata": {},
   "outputs": [],
   "source": [
    "ophoto = np.load('/home/aalvarez/Work/Data/WillPP/photometry_data_0.npy', mmap_mode='r')\n",
    "opdz = np.load('/home/aalvarez/Work/Data/WillPP/pdz_data_0.npy', mmap_mode='r')\n",
    "opp_samples = np.load('/home/aalvarez/Work/Data/WillPP/mc_data_0.npy', mmap_mode='r')\n",
    "pdz_bins = opdz[0]\n",
    "opdz = opdz[1:]"
   ]
  },
  {
   "cell_type": "code",
   "execution_count": 51,
   "metadata": {},
   "outputs": [
    {
     "data": {
      "text/plain": [
       "22327"
      ]
     },
     "execution_count": 51,
     "metadata": {},
     "output_type": "execute_result"
    }
   ],
   "source": [
    "oids = np.arange(len(ophoto))\n",
    "len(oids)"
   ]
  },
  {
   "cell_type": "markdown",
   "metadata": {},
   "source": [
    "# Filter -99, invalid fluxes, etc"
   ]
  },
  {
   "cell_type": "code",
   "execution_count": 52,
   "metadata": {},
   "outputs": [
    {
     "name": "stdout",
     "output_type": "stream",
     "text": [
      "All 22327\n",
      "Print good fluxes 5268\n",
      "Good Z 5266\n"
     ]
    }
   ],
   "source": [
    "mask = np.full(len(oids), True)\n",
    "print('All', mask.sum())\n",
    "\n",
    "# Fluxes\n",
    "for i in range(len(bands)):\n",
    "    mask = mask & (ophoto['Flux'][:,i] >= 0)\n",
    "    mask = mask & (ophoto['Flux'][:,i] / ophoto['Flux_err'][:,i] >= 10)\n",
    "print('Print good fluxes', mask.sum())\n",
    "    \n",
    "# -99 Z\n",
    "mask = mask & (opp_samples['Z'][:,0] >= 0)\n",
    "print('Good Z', mask.sum())\n",
    "\n",
    "ids = oids[mask]\n",
    "photo = ophoto[mask]\n",
    "pdz = opdz[mask]\n",
    "pp_samples = opp_samples[mask]"
   ]
  },
  {
   "cell_type": "code",
   "execution_count": 53,
   "metadata": {},
   "outputs": [],
   "source": [
    "assert len(ids) == len(photo)\n",
    "assert len(pdz) == len(photo)\n",
    "assert len(pp_samples) == len(photo)"
   ]
  },
  {
   "cell_type": "code",
   "execution_count": 54,
   "metadata": {},
   "outputs": [
    {
     "data": {
      "text/plain": [
       "(-0.16260003566741954, 0.1697999763488771)"
      ]
     },
     "execution_count": 54,
     "metadata": {},
     "output_type": "execute_result"
    }
   ],
   "source": [
    "diff = []\n",
    "for i in range(len(ids)):\n",
    "    diff.append(pp_samples['Z'][i,0] - pdz_bins[pdz[i].argmax()])\n",
    "np.min(diff), np.max(diff)"
   ]
  },
  {
   "cell_type": "code",
   "execution_count": 55,
   "metadata": {},
   "outputs": [
    {
     "name": "stdout",
     "output_type": "stream",
     "text": [
      "1.8323999643325806\n"
     ]
    },
    {
     "data": {
      "text/plain": [
       "[<matplotlib.lines.Line2D at 0x7f41dc5f5490>]"
      ]
     },
     "execution_count": 55,
     "metadata": {},
     "output_type": "execute_result"
    },
    {
     "data": {
      "image/png": "[encoded data removed]",
      "text/plain": [
       "<Figure size 432x288 with 1 Axes>"
      ]
     },
     "metadata": {
      "needs_background": "light"
     },
     "output_type": "display_data"
    }
   ],
   "source": [
    "print(pp_samples['Z'][np.argmin(diff),0])\n",
    "plt.figure()\n",
    "plt.plot(pdz_bins, pdz[np.argmin(diff)])"
   ]
  },
  {
   "cell_type": "markdown",
   "metadata": {},
   "source": [
    "Bueno, los peores son bimodales, y el valor Z es la media, es de esperar."
   ]
  },
  {
   "cell_type": "code",
   "execution_count": 56,
   "metadata": {},
   "outputs": [
    {
     "data": {
      "image/png": "[encoded data removed]",
      "text/plain": [
       "<Figure size 432x288 with 1 Axes>"
      ]
     },
     "metadata": {
      "needs_background": "light"
     },
     "output_type": "display_data"
    }
   ],
   "source": [
    "plt.figure()\n",
    "plt.hist(diff, bins=100)\n",
    "plt.show()"
   ]
  },
  {
   "cell_type": "markdown",
   "metadata": {},
   "source": [
    "# Photometry"
   ]
  },
  {
   "cell_type": "code",
   "execution_count": 57,
   "metadata": {},
   "outputs": [
    {
     "data": {
      "text/plain": [
       "5266"
      ]
     },
     "execution_count": 57,
     "metadata": {},
     "output_type": "execute_result"
    }
   ],
   "source": [
    "columns = [\n",
    "    Column(ids, name='ID', dtype=np.int),\n",
    "    Column(pp_samples['Z'][:,0], 'Z')\n",
    "]\n",
    "\n",
    "for i, f in enumerate(bands):\n",
    "    columns.append(Column(photo['Flux'][:,i], name=f'{f}_obs'))\n",
    "    columns.append(Column(photo['Flux_err'][:,i], name=f'{f}_obs_err'))\n",
    "    \n",
    "table = Table(columns)\n",
    "len(table)"
   ]
  },
  {
   "cell_type": "code",
   "execution_count": 58,
   "metadata": {},
   "outputs": [],
   "source": [
    "idx = np.arange(len(table))\n",
    "np.random.shuffle(idx)\n",
    "nref = int(len(idx) * 0.9)\n",
    "ref_idx = idx[:nref]\n",
    "target_idx = idx[nref:]"
   ]
  },
  {
   "cell_type": "code",
   "execution_count": 59,
   "metadata": {},
   "outputs": [],
   "source": [
    "ref_hdus = fits.HDUList([fits.PrimaryHDU(), fits.BinTableHDU(table[ref_idx], name='NNPZ_PHOTOMETRY')])\n",
    "\n",
    "for f, ftrans in zip(bands, fbands):\n",
    "    trans = filter_provider.getFilterTransmission(ftrans)\n",
    "    trans_col_data = [\n",
    "        table.Column(trans[:, 0]),\n",
    "        table.Column(trans[:, 1])\n",
    "    ]\n",
    "    ref_hdus.append(fits.BinTableHDU(\n",
    "        Table(trans_col_data, names=['Wavelength', 'Transmission']),\n",
    "        name=f'{f}_obs'\n",
    "    ))\n",
    "\n",
    "ref_hdus.writeto('/home/aalvarez/Work/Data/WillPP/Reference.fits', overwrite=True)"
   ]
  },
  {
   "cell_type": "code",
   "execution_count": 60,
   "metadata": {},
   "outputs": [],
   "source": [
    "table[target_idx].write('/home/aalvarez/Work/Data/WillPP/Target.fits', overwrite=True)"
   ]
  },
  {
   "cell_type": "markdown",
   "metadata": {},
   "source": [
    "# Generate full ref sample"
   ]
  },
  {
   "cell_type": "code",
   "execution_count": 61,
   "metadata": {},
   "outputs": [
    {
     "name": "stderr",
     "output_type": "stream",
     "text": [
      "INFO    : Found provider PdzProvider\n",
      "2020-10-30T10:59:25CET ReferenceSample  INFO : Found provider PdzProvider\n",
      "INFO    : Found provider SedProvider\n",
      "2020-10-30T10:59:25CET ReferenceSample  INFO : Found provider SedProvider\n"
     ]
    },
    {
     "data": {
      "application/vnd.jupyter.widget-view+json": {
       "model_id": "8d6460c825d046fd89707eab1cf2fc21",
       "version_major": 2,
       "version_minor": 0
      },
      "text/plain": [
       "HBox(children=(HTML(value=''), FloatProgress(value=0.0, max=4739.0), HTML(value='')))"
      ]
     },
     "metadata": {},
     "output_type": "display_data"
    },
    {
     "name": "stdout",
     "output_type": "stream",
     "text": [
      "\n"
     ]
    }
   ],
   "source": [
    "try:\n",
    "    shutil.rmtree('/home/aalvarez/Work/Data/WillPP/ReferenceSample')\n",
    "except:\n",
    "    pass\n",
    "\n",
    "ref = ReferenceSample.createNew('/home/aalvarez/Work/Data/WillPP/ReferenceSample')\n",
    "for i in tqdm(ref_idx):\n",
    "    oid = table['ID'][i]\n",
    "    ref.addPdzData(oid, np.stack([pdz_bins, pdz[i]], axis=-1))"
   ]
  },
  {
   "cell_type": "code",
   "execution_count": 62,
   "metadata": {},
   "outputs": [
    {
     "data": {
      "text/plain": [
       "<nnpz.reference_sample.MontecarloProvider.MontecarloProvider at 0x7f41dc5c7990>"
      ]
     },
     "execution_count": 62,
     "metadata": {},
     "output_type": "execute_result"
    }
   ],
   "source": [
    "oids = table['ID'][ref_idx]\n",
    "ref.addProvider('MontecarloProvider', 'pp', 'pp_data_{}.npy', oids, pp_samples[ref_idx])"
   ]
  },
  {
   "cell_type": "code",
   "execution_count": 63,
   "metadata": {},
   "outputs": [],
   "source": [
    "ref.flush()"
   ]
  },
  {
   "cell_type": "code",
   "execution_count": 65,
   "metadata": {},
   "outputs": [
    {
     "data": {
      "application/vnd.jupyter.widget-view+json": {
       "model_id": "5c156f77ba58495da0402a2e29f79ef3",
       "version_major": 2,
       "version_minor": 0
      },
      "text/plain": [
       "HBox(children=(HTML(value=''), FloatProgress(value=0.0, max=4739.0), HTML(value='')))"
      ]
     },
     "metadata": {},
     "output_type": "display_data"
    },
    {
     "name": "stdout",
     "output_type": "stream",
     "text": [
      "\n"
     ]
    }
   ],
   "source": [
    "diff = []\n",
    "idxs = []\n",
    "for oid in tqdm(ref.getIds()):\n",
    "    idx = np.where(ids == oid)[0][0]\n",
    "    diff.append(pp_samples['Z'][idx,0] - pdz_bins[ref.getPdzData(oid)[:,1].argmax()])\n",
    "    idxs.append(idx)"
   ]
  },
  {
   "cell_type": "code",
   "execution_count": 66,
   "metadata": {},
   "outputs": [
    {
     "data": {
      "text/plain": [
       "(-0.16260003566741954, 0.1697999763488771)"
      ]
     },
     "execution_count": 66,
     "metadata": {},
     "output_type": "execute_result"
    }
   ],
   "source": [
    "np.min(diff), np.max(diff)"
   ]
  },
  {
   "cell_type": "code",
   "execution_count": 67,
   "metadata": {},
   "outputs": [
    {
     "name": "stdout",
     "output_type": "stream",
     "text": [
      "1.364799976348877\n",
      "1.1949999999999998\n"
     ]
    },
    {
     "data": {
      "text/plain": [
       "[<matplotlib.lines.Line2D at 0x7f41dcb33f90>]"
      ]
     },
     "execution_count": 67,
     "metadata": {},
     "output_type": "execute_result"
    },
    {
     "data": {
      "image/png": "[encoded data removed]",
      "text/plain": [
       "<Figure size 432x288 with 1 Axes>"
      ]
     },
     "metadata": {
      "needs_background": "light"
     },
     "output_type": "display_data"
    }
   ],
   "source": [
    "midx = idxs[np.argmax(diff)]\n",
    "print(pp_samples['Z'][midx,0])\n",
    "print(pdz_bins[pdz[midx].argmax()])\n",
    "plt.figure()\n",
    "plt.plot(pdz_bins, pdz[midx])"
   ]
  },
  {
   "cell_type": "code",
   "execution_count": 68,
   "metadata": {},
   "outputs": [
    {
     "data": {
      "image/png": "[encoded data removed]",
      "text/plain": [
       "<Figure size 432x288 with 1 Axes>"
      ]
     },
     "metadata": {
      "needs_background": "light"
     },
     "output_type": "display_data"
    }
   ],
   "source": [
    "plt.figure()\n",
    "plt.hist(diff, bins=50)\n",
    "plt.show()"
   ]
  },
  {
   "cell_type": "code",
   "execution_count": null,
   "metadata": {},
   "outputs": [],
   "source": []
  }
 ],
 "metadata": {
  "kernelspec": {
   "display_name": "Python 3",
   "language": "python",
   "name": "python3"
  },
  "language_info": {
   "codemirror_mode": {
    "name": "ipython",
    "version": 3
   },
   "file_extension": ".py",
   "mimetype": "text/x-python",
   "name": "python",
   "nbconvert_exporter": "python",
   "pygments_lexer": "ipython3",
   "version": "3.7.8"
  }
 },
 "nbformat": 4,
 "nbformat_minor": 4
}
