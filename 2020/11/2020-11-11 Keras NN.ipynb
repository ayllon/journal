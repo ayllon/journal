{
 "cells": [
  {
   "cell_type": "code",
   "execution_count": 1,
   "metadata": {},
   "outputs": [],
   "source": [
    "%matplotlib inline\n",
    "from astropy.table import Table\n",
    "import keras\n",
    "from keras import layers\n",
    "import keras.backend as K\n",
    "import tensorflow as tf\n",
    "import matplotlib.pyplot as plt\n",
    "import numpy as np\n",
    "from tensorflow.compat.v1.keras.backend import set_session"
   ]
  },
  {
   "cell_type": "code",
   "execution_count": 2,
   "metadata": {},
   "outputs": [
    {
     "name": "stdout",
     "output_type": "stream",
     "text": [
      "Device mapping:\n",
      "/job:localhost/replica:0/task:0/device:XLA_CPU:0 -> device: XLA_CPU device\n",
      "/job:localhost/replica:0/task:0/device:GPU:0 -> device: 0, name: Quadro M2200, pci bus id: 0000:01:00.0, compute capability: 5.2\n",
      "/job:localhost/replica:0/task:0/device:XLA_GPU:0 -> device: XLA_GPU device\n",
      "\n"
     ]
    }
   ],
   "source": [
    "config = tf.compat.v1.ConfigProto()\n",
    "config.gpu_options.allow_growth = True  # dynamically grow the memory used on the GPU\n",
    "config.log_device_placement = True  # to log device placement (on which device the operation ran)\n",
    "sess = tf.compat.v1.Session(config=config)\n",
    "set_session(sess)"
   ]
  },
  {
   "cell_type": "code",
   "execution_count": 3,
   "metadata": {},
   "outputs": [],
   "source": [
    "bands = ['g', 'r', 'i', 'z', 'VIS', 'Y', 'J', 'H']"
   ]
  },
  {
   "cell_type": "code",
   "execution_count": 4,
   "metadata": {},
   "outputs": [],
   "source": [
    "mer_fluxes, mer_errors = [], []\n",
    "ref_fluxes = []\n",
    "for b in bands:\n",
    "    if b in 'ugriz':\n",
    "        mer_fluxes.append(f'FLUX_{b.upper()}_EXT_LSST_APER')\n",
    "        mer_errors.append(f'FLUXERR_{b.upper()}_EXT_LSST_APER')\n",
    "        ref_fluxes.append(f'lsst/{b}')\n",
    "    else:\n",
    "        mer_fluxes.append(f'FLUX_{b.upper()}_APER')\n",
    "        mer_errors.append(f'FLUXERR_{b.upper()}_APER')\n",
    "        ref_fluxes.append(f'euclid/{b}')"
   ]
  },
  {
   "cell_type": "code",
   "execution_count": 5,
   "metadata": {},
   "outputs": [],
   "source": [
    "target = Table.read('/home/aalvarez/Work/Data/SC8/PHZ_Prod/data/MOCK_MER_WIDE_2740.fits')\n",
    "ref = Table.read('/home/aalvarez/Work/Data/SC8/PHZ_Prod/data/EUC_PHZ_REFPHOT__20200910T050620.214530Z_00.00.fits', hdu=1)"
   ]
  },
  {
   "cell_type": "code",
   "execution_count": 6,
   "metadata": {},
   "outputs": [],
   "source": [
    "def prepare_cat(catalog, fluxes, fluxes_err):   \n",
    "    output = np.zeros((len(catalog), 2, len(fluxes)), dtype=np.float32)\n",
    "    for i, f in enumerate(fluxes):\n",
    "        output[:, 0, i] = catalog[f]\n",
    "        \n",
    "    for i, e in enumerate(fluxes_err):\n",
    "        output[:, 1, i] = catalog[e]\n",
    "    return output"
   ]
  },
  {
   "cell_type": "code",
   "execution_count": 7,
   "metadata": {},
   "outputs": [],
   "source": [
    "target_data = prepare_cat(target, mer_fluxes, mer_errors)\n",
    "ref_data = prepare_cat(ref, ref_fluxes, [])"
   ]
  },
  {
   "cell_type": "code",
   "execution_count": 8,
   "metadata": {},
   "outputs": [],
   "source": [
    "def chi2_ref(ref_data, target):\n",
    "    nom = ref_data[:,0,:] - target[0,:]\n",
    "    nom *= nom\n",
    "    den = ref_data[:,1,:]*ref_data[:,1,:] + target[1,:]*target[1,:]\n",
    "    return np.sum(nom/den,axis=1)"
   ]
  },
  {
   "cell_type": "code",
   "execution_count": 9,
   "metadata": {},
   "outputs": [],
   "source": [
    "def chi2_np(ref_data, target, out=None):\n",
    "    batch_size = target.shape[0]\n",
    "    ref_size = ref_data.shape[0]\n",
    "    \n",
    "    # Tile along a new axis\n",
    "    tiled_ref = ref_data.reshape(1, ref_size, 2, len(bands))\n",
    "    tiled_target = target.reshape(-1, 1, 2, len(bands))\n",
    "    \n",
    "    nom = (tiled_ref[:,:,0,:] - tiled_target[:,:,0,:])\n",
    "    nom = nom*nom\n",
    "    den = tiled_ref[:,:,1,:]*tiled_ref[:,:,1,:] + tiled_target[:,:,1,:]*tiled_target[:,:,1,:]\n",
    "    return np.sum(nom / den, axis=-1, out=out)"
   ]
  },
  {
   "cell_type": "code",
   "execution_count": 30,
   "metadata": {},
   "outputs": [
    {
     "data": {
      "text/plain": [
       "TensorShape([497533, 2, 8])"
      ]
     },
     "execution_count": 30,
     "metadata": {},
     "output_type": "execute_result"
    }
   ],
   "source": [
    "ref_photo = K.constant(ref_data)\n",
    "ref_photo.shape"
   ]
  },
  {
   "cell_type": "code",
   "execution_count": 31,
   "metadata": {},
   "outputs": [
    {
     "data": {
      "text/plain": [
       "tensorflow.python.framework.ops.EagerTensor"
      ]
     },
     "execution_count": 31,
     "metadata": {},
     "output_type": "execute_result"
    }
   ],
   "source": [
    "type(ref_photo)"
   ]
  },
  {
   "cell_type": "code",
   "execution_count": 11,
   "metadata": {},
   "outputs": [],
   "source": [
    "def Chi2Layer(target_photo):\n",
    "    batch_size = K.shape(target_photo)[0]\n",
    "    ref_size = K.shape(ref_photo)[0]\n",
    "    \n",
    "    # Tile along a new axis\n",
    "    tiled_ref = K.reshape(ref_photo, (1, ref_size, 2, len(bands)))\n",
    "    tiled_target = K.reshape(target_photo, (-1, 1, 2, len(bands)))\n",
    "    \n",
    "    # Compute nom/den\n",
    "    nom = tiled_ref[:,:,0,:] - tiled_target[:,:,0,:]\n",
    "    nom = nom * nom\n",
    "    den = tiled_ref[:,:,1,:]*tiled_ref[:,:,1,:] + tiled_target[:,:,1,:]*tiled_target[:,:,1,:]\n",
    "    \n",
    "    # Sum along last axis    \n",
    "    return K.sum(nom / den, axis=-1)"
   ]
  },
  {
   "cell_type": "code",
   "execution_count": 12,
   "metadata": {},
   "outputs": [],
   "source": [
    "input_layer = layers.Input(shape=target_data.shape[1:])\n",
    "chi2_layer = layers.Lambda(Chi2Layer)(input_layer)"
   ]
  },
  {
   "cell_type": "code",
   "execution_count": 13,
   "metadata": {},
   "outputs": [],
   "source": [
    "model = keras.Model(inputs=input_layer, outputs=chi2_layer)"
   ]
  },
  {
   "cell_type": "code",
   "execution_count": 14,
   "metadata": {},
   "outputs": [
    {
     "name": "stdout",
     "output_type": "stream",
     "text": [
      "Model: \"model\"\n",
      "_________________________________________________________________\n",
      "Layer (type)                 Output Shape              Param #   \n",
      "=================================================================\n",
      "input_1 (InputLayer)         [(None, 2, 8)]            0         \n",
      "_________________________________________________________________\n",
      "lambda (Lambda)              (None, 497533)            0         \n",
      "=================================================================\n",
      "Total params: 0\n",
      "Trainable params: 0\n",
      "Non-trainable params: 0\n",
      "_________________________________________________________________\n"
     ]
    }
   ],
   "source": [
    "model.summary()"
   ]
  },
  {
   "cell_type": "code",
   "execution_count": 15,
   "metadata": {},
   "outputs": [],
   "source": [
    "model.compile()"
   ]
  },
  {
   "cell_type": "code",
   "execution_count": 16,
   "metadata": {},
   "outputs": [],
   "source": [
    "test_idx = np.arange(0, 512)\n",
    "batch_size = 8"
   ]
  },
  {
   "cell_type": "code",
   "execution_count": 17,
   "metadata": {},
   "outputs": [
    {
     "name": "stdout",
     "output_type": "stream",
     "text": [
      "CPU times: user 2.53 s, sys: 373 ms, total: 2.9 s\n",
      "Wall time: 2.87 s\n"
     ]
    }
   ],
   "source": [
    "%%time\n",
    "gpu_D = model.predict(target_data[test_idx], batch_size=batch_size)"
   ]
  },
  {
   "cell_type": "code",
   "execution_count": 18,
   "metadata": {},
   "outputs": [
    {
     "name": "stdout",
     "output_type": "stream",
     "text": [
      "CPU times: user 12.9 s, sys: 2.37 s, total: 15.3 s\n",
      "Wall time: 15.3 s\n"
     ]
    }
   ],
   "source": [
    "%%time\n",
    "np_D = np.zeros((len(test_idx), len(ref_data)))\n",
    "for i in range(len(test_idx)//batch_size):\n",
    "    chi2_np(ref_data, target_data[i*batch_size:(i+1)*batch_size], out=np_D[i*batch_size:(i+1)*batch_size])"
   ]
  },
  {
   "cell_type": "code",
   "execution_count": 19,
   "metadata": {},
   "outputs": [
    {
     "name": "stdout",
     "output_type": "stream",
     "text": [
      "CPU times: user 14.8 s, sys: 2.55 s, total: 17.3 s\n",
      "Wall time: 17.4 s\n"
     ]
    }
   ],
   "source": [
    "%%time\n",
    "np_I = np.zeros((len(test_idx), len(ref_data)))\n",
    "for i, j in enumerate(test_idx):\n",
    "    np_I[i] = chi2_ref(ref_data, target_data[i])"
   ]
  },
  {
   "cell_type": "code",
   "execution_count": 20,
   "metadata": {},
   "outputs": [
    {
     "name": "stdout",
     "output_type": "stream",
     "text": [
      "True\n",
      "True\n"
     ]
    }
   ],
   "source": [
    "print(np.isclose(np_D, np_I).all())\n",
    "print(np.isclose(np_D, gpu_D).all())"
   ]
  },
  {
   "cell_type": "code",
   "execution_count": 33,
   "metadata": {},
   "outputs": [
    {
     "data": {
      "text/plain": [
       "6.062717770034842"
      ]
     },
     "execution_count": 33,
     "metadata": {},
     "output_type": "execute_result"
    }
   ],
   "source": [
    "17.4/2.87"
   ]
  },
  {
   "cell_type": "code",
   "execution_count": null,
   "metadata": {},
   "outputs": [],
   "source": []
  }
 ],
 "metadata": {
  "kernelspec": {
   "display_name": "Python 3",
   "language": "python",
   "name": "python3"
  },
  "language_info": {
   "codemirror_mode": {
    "name": "ipython",
    "version": 3
   },
   "file_extension": ".py",
   "mimetype": "text/x-python",
   "name": "python",
   "nbconvert_exporter": "python",
   "pygments_lexer": "ipython3",
   "version": "3.7.8"
  }
 },
 "nbformat": 4,
 "nbformat_minor": 4
}
