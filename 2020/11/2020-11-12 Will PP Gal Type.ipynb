{
 "cells": [
  {
   "cell_type": "code",
   "execution_count": 1,
   "metadata": {},
   "outputs": [
    {
     "name": "stderr",
     "output_type": "stream",
     "text": [
      "WARNING : using environment variable BINARY_TAG for binary_tag\n",
      "WARNING : x86_64-fc32-gcc102-dbg is not in the list of distributed configurations\n"
     ]
    }
   ],
   "source": [
    "import numpy as np\n",
    "from astropy.table import Table\n",
    "import Euclid\n",
    "from tqdm.notebook import tqdm\n",
    "\n",
    "%elogin\n",
    "%erun Elements 5.10\n",
    "\n",
    "sys.path.append('/home/aalvarez/Work/Projects/PHZ_NNPZ/PHZ_NNPZ/nnpz/python/')\n",
    "from nnpz.reference_sample.ReferenceSample import ReferenceSample"
   ]
  },
  {
   "cell_type": "code",
   "execution_count": 2,
   "metadata": {},
   "outputs": [],
   "source": [
    "ref = Table.read('/home/aalvarez/Phosphoros/Results/WillPP/Reference/phz_cat.fits')\n",
    "ref = ref[ref['ID'].argsort()]"
   ]
  },
  {
   "cell_type": "code",
   "execution_count": 3,
   "metadata": {},
   "outputs": [],
   "source": [
    "gal_types = np.array(['Elliptical', 'Spiral', 'Starforming'])\n",
    "sfh_types = np.array(['Exponentially declining', 'Delayed exponential'])\n",
    "\n",
    "sed_class = dict(\n",
    "    Ell1_A_0 = (0, 0, 0.3),\n",
    "    Ell2_A_0 = (0, 0, 0.3),\n",
    "    Ell3_A_0 = (0, 0, 0.7),\n",
    "    Ell4_A_0 = (0, 0, 0.7),\n",
    "    Ell5_A_0 = (0, 0, 1.5),\n",
    "    Ell6_A_0 = (0, 0, 1.5),\n",
    "    Ell7_A_0 = (0, 0, 2.5),\n",
    "    S0_A_0   = (1, 0, 2.5),\n",
    "    Sa_A_0   = (1, 0, 5.0),\n",
    "    Sa_A_1   = (1, 0, 5.0),\n",
    "    Sb_A_0   = (1, 0, 5.0),\n",
    "    Sb_A_1   = (1, 0, 5.0),\n",
    "    Sc_A_0   = (1, 0, 10.0),\n",
    "    Sc_A_1   = (1, 0, 10.0),\n",
    "    Sc_A_2   = (1, 0, 10.0),\n",
    "    Sd_A_0   = (1, 1, 0.3),\n",
    "    Sd_A_1   = (1, 1, 0.3),\n",
    "    Sd_A_2   = (1, 1, 0.3),\n",
    "    Sdm_A_0  = (1, 1, 0.3),\n",
    "    SB0_A_0  = (2, 1, 1.5),\n",
    "    SB10_A_0 = (2, 1, 10.0),\n",
    "    SB11_A_0 = (2, 1, 10.0),\n",
    "    SB1_A_0  = (2, 1, 2.5),\n",
    "    SB2_A_0  = (2, 1, 2.5),\n",
    "    SB3_A_0  = (2, 1, 2.5),\n",
    "    SB4_A_0  = (2, 1, 2.5),\n",
    "    SB5_A_0  = (2, 1, 5.0),\n",
    "    SB6_A_0  = (2, 1, 5.0),\n",
    "    SB7_A_0  = (2, 1, 5.0),\n",
    "    SB8_A_0  = (2, 1, 5.0),\n",
    "    SB9_A_0  = (2, 1, 10.0),\n",
    ")"
   ]
  },
  {
   "cell_type": "code",
   "execution_count": 4,
   "metadata": {},
   "outputs": [],
   "source": [
    "ref_gal_type = []\n",
    "ref_sfh_type = []\n",
    "ref_sfh_tau = []\n",
    "for sed in ref['SED']:\n",
    "    sed = sed.split('/')[1].strip()\n",
    "    gal_type, sfh_type, sfh_tau = sed_class[sed]\n",
    "    ref_gal_type.append(gal_type)\n",
    "    ref_sfh_type.append(sfh_type)\n",
    "    ref_sfh_tau.append(sfh_tau)\n",
    "ref_gal_type = np.array(ref_gal_type)\n",
    "ref_sfh_type = np.array(ref_sfh_type)\n",
    "ref_sfh_tau = np.array(ref_sfh_tau)"
   ]
  },
  {
   "cell_type": "code",
   "execution_count": 5,
   "metadata": {},
   "outputs": [],
   "source": [
    "idx = np.load('/home/aalvarez/Work/Data/WillPP/ReferenceSample/index.npy', mmap_mode='r')"
   ]
  },
  {
   "cell_type": "code",
   "execution_count": 6,
   "metadata": {},
   "outputs": [
    {
     "data": {
      "text/plain": [
       "True"
      ]
     },
     "execution_count": 6,
     "metadata": {},
     "output_type": "execute_result"
    }
   ],
   "source": [
    "(idx['id'] == ref['ID']).all()"
   ]
  },
  {
   "cell_type": "code",
   "execution_count": 7,
   "metadata": {},
   "outputs": [],
   "source": [
    "npps = []\n",
    "for i in [1,2]:\n",
    "    pp = np.load(f'/home/aalvarez/Work/Data/WillPP/ReferenceSample/pp_data_{i}.npy', mmap_mode='r')\n",
    "    dtypes = dict([(n, pp.dtype[n]) for n in pp.dtype.names])\n",
    "    dtypes['GAL_TYPE'] = np.int64\n",
    "    dtypes['SFH_TYPE'] = np.int64\n",
    "    npp = np.zeros(pp.shape, dtype=list(dtypes.items()))\n",
    "    for c in pp.dtype.names:\n",
    "        npp[c] = pp[c]\n",
    "    npp['GAL_TYPE'] = ref_gal_type[idx['pp_file'] == i, np.newaxis]\n",
    "    npp['SFH_TYPE'] = ref_sfh_type[idx['pp_file'] == i, np.newaxis]\n",
    "    npp['SFH_TAU']  = ref_sfh_tau[idx['pp_file'] == i, np.newaxis]\n",
    "    npps.append(npp)"
   ]
  },
  {
   "cell_type": "code",
   "execution_count": 8,
   "metadata": {},
   "outputs": [],
   "source": [
    "for i in [1,2]:\n",
    "    np.save(f'/home/aalvarez/Work/Data/WillPP/ReferenceSample/pp_data_{i}.npy', npps[i-1])"
   ]
  },
  {
   "cell_type": "code",
   "execution_count": 9,
   "metadata": {},
   "outputs": [
    {
     "name": "stderr",
     "output_type": "stream",
     "text": [
      "INFO    : Found provider MontecarloProvider\n",
      "2020-11-16T14:04:31CET ReferenceSample  INFO : Found provider MontecarloProvider\n"
     ]
    }
   ],
   "source": [
    "sample = ReferenceSample('/home/aalvarez/Work/Data/WillPP/ReferenceSample/', providers={'MontecarloProvider': {'name': 'pp', 'data': 'pp_data_{}.npy'}})"
   ]
  },
  {
   "cell_type": "code",
   "execution_count": 10,
   "metadata": {},
   "outputs": [
    {
     "data": {
      "application/vnd.jupyter.widget-view+json": {
       "model_id": "d3e4384cd07545bb9d4a1e09189b47f8",
       "version_major": 2,
       "version_minor": 0
      },
      "text/plain": [
       "HBox(children=(HTML(value=''), FloatProgress(value=0.0, max=90080.0), HTML(value='')))"
      ]
     },
     "metadata": {},
     "output_type": "display_data"
    },
    {
     "name": "stdout",
     "output_type": "stream",
     "text": [
      "\n"
     ]
    }
   ],
   "source": [
    "prov = sample.getProvider('pp')\n",
    "for j, i in tqdm(list(enumerate(ref['ID']))):\n",
    "    assert (prov.getData(i)['GAL_TYPE'] == ref_gal_type[j]).all()\n",
    "    assert (prov.getData(i)['SFH_TYPE'] == ref_sfh_type[j]).all()\n",
    "    assert (prov.getData(i)['SFH_TAU'] == ref_sfh_tau[j]).all()"
   ]
  },
  {
   "cell_type": "code",
   "execution_count": null,
   "metadata": {},
   "outputs": [],
   "source": []
  }
 ],
 "metadata": {
  "kernelspec": {
   "display_name": "Python 3",
   "language": "python",
   "name": "python3"
  },
  "language_info": {
   "codemirror_mode": {
    "name": "ipython",
    "version": 3
   },
   "file_extension": ".py",
   "mimetype": "text/x-python",
   "name": "python",
   "nbconvert_exporter": "python",
   "pygments_lexer": "ipython3",
   "version": "3.7.8"
  }
 },
 "nbformat": 4,
 "nbformat_minor": 4
}
