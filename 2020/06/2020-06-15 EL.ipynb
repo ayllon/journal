{
 "cells": [
  {
   "cell_type": "code",
   "execution_count": 1,
   "metadata": {},
   "outputs": [],
   "source": [
    "%matplotlib inline\n",
    "import matplotlib.pyplot as plt\n",
    "import numpy as np\n",
    "from astropy.table import Table\n",
    "import astropy.units as u\n",
    "\n",
    "plt.rcParams['figure.figsize'] = (20, 10)"
   ]
  },
  {
   "cell_type": "code",
   "execution_count": 2,
   "metadata": {},
   "outputs": [],
   "source": [
    "def read_el(path):\n",
    "    t = Table.read(path, format='ascii', names=('line', 'lambda', 'ratio'))\n",
    "    t.columns[0].unit = u.AA\n",
    "    return t\n",
    "\n",
    "def read_sed(path):\n",
    "    t = Table.read(path, format='ascii', names=('lambda', 'flux'))\n",
    "    t.columns[0].unit = u.AA\n",
    "    t.columns[1].unit = u.uJy\n",
    "    return t"
   ]
  },
  {
   "cell_type": "code",
   "execution_count": 4,
   "metadata": {},
   "outputs": [],
   "source": [
    "el_audrey = read_el('/home/aalvarez/Work/Projects/Phosphoros/Phosphoros/EmissionLines/auxdir/EmissionLines/O2_lines.txt')\n",
    "el_stephane = read_el('/home/aalvarez/Work/Projects/Phosphoros/Phosphoros/EmissionLines/auxdir/EmissionLines/Ha_lines.txt')"
   ]
  },
  {
   "cell_type": "code",
   "execution_count": 16,
   "metadata": {},
   "outputs": [],
   "source": [
    "sed_audrey = read_sed('SEDs_Audrey/CosmosSB_el/SB1_A_0.sed')\n",
    "sed_step = read_sed('SEDs_Stephane/CosmosSB_el/SB1_A_0.sed')"
   ]
  },
  {
   "cell_type": "code",
   "execution_count": 17,
   "metadata": {},
   "outputs": [],
   "source": [
    "def equivalent_width(el, sed):\n",
    "    # https://en.wikipedia.org/wiki/Equivalent_width\n",
    "    eps = 1e-5\n",
    "\n",
    "    lines_dict = dict()\n",
    "    for line_name, l, _ in el:\n",
    "        # Find the line position\n",
    "        idx = np.argmax(np.logical_and(sed['lambda'] >= l - eps, sed['lambda'] <= l + eps))\n",
    "        # Get the reference value\n",
    "        F0 = sed['flux'][idx - 1] * sed['flux'].unit\n",
    "        # Compute W_\\lambda\n",
    "        Fl = sed['flux'][idx - 1 : idx + 1]\n",
    "        dl = sed['lambda'][idx - 1 : idx + 1]\n",
    "        Wl = np.trapz(1 - Fl/F0, dl)\n",
    "        # Emission, make sure it is negative\n",
    "        assert Wl < 0\n",
    "        assert Wl.unit == u.AA\n",
    "        Wl = np.abs(Wl)\n",
    "        if line_name not in lines_dict:\n",
    "            lines_dict[line_name] = []\n",
    "        lines_dict[line_name].append(Wl)\n",
    "    for k in lines_dict.keys():\n",
    "        lines_dict[k] = u.Quantity(lines_dict[k])\n",
    "    return lines_dict"
   ]
  },
  {
   "cell_type": "code",
   "execution_count": 18,
   "metadata": {},
   "outputs": [],
   "source": [
    "def print_eq_dict(d):\n",
    "    for k in sorted(d.keys()):\n",
    "        print(f'{k:10}', end='\\t')\n",
    "        for v in d[k]:\n",
    "            print(f'{v:.3f}', end='\\t')\n",
    "        print()"
   ]
  },
  {
   "cell_type": "code",
   "execution_count": 19,
   "metadata": {},
   "outputs": [
    {
     "name": "stdout",
     "output_type": "stream",
     "text": [
      "H_alpha   \t13.893 Angstrom\t\n",
      "H_beta    \t3.240 Angstrom\t\n",
      "H_delta   \t0.751 Angstrom\t\n",
      "H_gamma   \t1.343 Angstrom\t\n",
      "[OIII]    \t0.840 Angstrom\t2.539 Angstrom\t\n",
      "[OII]     \t11.098 Angstrom\t\n"
     ]
    }
   ],
   "source": [
    "ew_audrey = equivalent_width(el_audrey, sed_audrey)\n",
    "print_eq_dict(ew_audrey)"
   ]
  },
  {
   "cell_type": "code",
   "execution_count": 20,
   "metadata": {},
   "outputs": [
    {
     "name": "stdout",
     "output_type": "stream",
     "text": [
      "H_alpha   \t24.317 Angstrom\t\n",
      "H_beta    \t5.653 Angstrom\t\n",
      "H_delta   \t1.366 Angstrom\t\n",
      "H_gamma   \t2.522 Angstrom\t\n",
      "[OIII]    \t0.811 Angstrom\t2.567 Angstrom\t\n",
      "[OII]     \t8.304 Angstrom\t8.330 Angstrom\t\n"
     ]
    }
   ],
   "source": [
    "ew_step = equivalent_width(el_stephane, sed_step)\n",
    "print_eq_dict(ew_step)"
   ]
  },
  {
   "cell_type": "code",
   "execution_count": 21,
   "metadata": {},
   "outputs": [
    {
     "name": "stdout",
     "output_type": "stream",
     "text": [
      "Ratios\n",
      "======\n",
      "H_alpha   \t0.571\n",
      "H_beta    \t0.573\n",
      "H_delta   \t0.550\n",
      "H_gamma   \t0.533\n",
      "[OIII]    \t1.036\n",
      "[OIII]    \t0.989\n",
      "sum([OII])\t0.6672\n"
     ]
    }
   ],
   "source": [
    "print('Ratios')\n",
    "print('======')\n",
    "for k in sorted(ew_audrey.keys()):\n",
    "    aws = ew_audrey[k]\n",
    "    sws = ew_step[k]\n",
    "    if len(aws) == len(sws):\n",
    "        for aw, sw in zip(aws, sws):\n",
    "            print(f'{k:10}\\t{aw/sw:.3f}')\n",
    "    else:\n",
    "        aw, sw = np.sum(aws), np.sum(sws)\n",
    "        print(f'sum({k})\\t{aw/sw:.4f}')"
   ]
  },
  {
   "cell_type": "code",
   "execution_count": null,
   "metadata": {},
   "outputs": [],
   "source": []
  }
 ],
 "metadata": {
  "kernelspec": {
   "display_name": "Python 3",
   "language": "python",
   "name": "python3"
  },
  "language_info": {
   "codemirror_mode": {
    "name": "ipython",
    "version": 3
   },
   "file_extension": ".py",
   "mimetype": "text/x-python",
   "name": "python",
   "nbconvert_exporter": "python",
   "pygments_lexer": "ipython3",
   "version": "3.7.6"
  }
 },
 "nbformat": 4,
 "nbformat_minor": 4
}
