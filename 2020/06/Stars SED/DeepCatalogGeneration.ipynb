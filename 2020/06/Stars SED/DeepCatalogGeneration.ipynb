{
 "cells": [
  {
   "cell_type": "code",
   "execution_count": 1,
   "metadata": {},
   "outputs": [],
   "source": [
    "%matplotlib inline\n",
    "\n",
    "import matplotlib\n",
    "import numpy as np\n",
    "import matplotlib.pyplot as plt\n",
    "from scipy import stats\n",
    "from collections import OrderedDict\n",
    "\n",
    "from astropy.table import Table, vstack, Column\n",
    "\n",
    "from astropy.io import fits\n",
    "import numpy as np\n",
    "\n",
    "from os import listdir\n",
    "from os.path import isfile, join\n",
    "\n"
   ]
  },
  {
   "cell_type": "markdown",
   "metadata": {},
   "source": [
    "# Configuration"
   ]
  },
  {
   "cell_type": "code",
   "execution_count": 2,
   "metadata": {},
   "outputs": [],
   "source": [
    "input_catalogs_path ='/home/aalvarez/Work/Data/SC7/TU/Stars/Deep/HealPix/Deep.fits'\n",
    "output_catalog_path ='/home/aalvarez/Phosphoros/Catalogs/SC7_Stars/'"
   ]
  },
  {
   "cell_type": "code",
   "execution_count": 3,
   "metadata": {},
   "outputs": [],
   "source": [
    "# filter names\n",
    "filters_name = [\"TU_FNU_VIS\", \"TU_FNU_Y_NISP\", \"TU_FNU_J_NISP\", \"TU_FNU_H_NISP\", \n",
    "        \"TU_FNU_G_DECAM\", \"TU_FNU_R_DECAM\", \"TU_FNU_I_DECAM\", \"TU_FNU_Z_DECAM\", \n",
    "        \"TU_FNU_U_MEGACAM\", \"TU_FNU_R_MEGACAM\", \"TU_FNU_G_JPCAM\", \n",
    "        \"TU_FNU_I_PANSTARRS\", \"TU_FNU_Z_PANSTARRS\", \"TU_FNU_Z_HSC\", \"TU_FNU_U_LSST\", \n",
    "        \"TU_FNU_G_LSST\", \"TU_FNU_R_LSST\", \"TU_FNU_I_LSST\", \"TU_FNU_Z_LSST\"]\n",
    "\n",
    "# 10-sigma depths in Euclid-survey bands\n",
    "# from J.-C. Cuillandre's report\n",
    "depths = {\n",
    "        \"TU_FNU_VIS\":24.5, \"TU_FNU_Y_NISP\":24.0 , \"TU_FNU_J_NISP\":24.0, \"TU_FNU_H_NISP\":24.0 , \n",
    "        \"TU_FNU_G_DECAM\":24.6, \"TU_FNU_R_DECAM\":24.4, \"TU_FNU_I_DECAM\":23.7, \"TU_FNU_Z_DECAM\":23.0, \n",
    "        \"TU_FNU_U_MEGACAM\":23.6, \"TU_FNU_R_MEGACAM\":23.9, \"TU_FNU_G_JPCAM\":24.5, \n",
    "        \"TU_FNU_I_PANSTARRS\":23.6, \"TU_FNU_Z_PANSTARRS\":23.4, \"TU_FNU_Z_HSC\":23.4, \"TU_FNU_U_LSST\":24.2, \n",
    "        \"TU_FNU_G_LSST\":24.5, \"TU_FNU_R_LSST\":23.9, \"TU_FNU_I_LSST\":23.6, \"TU_FNU_Z_LSST\":23.4\n",
    "        }\n",
    "\n",
    "# training should be 5 times deeper (25x exposure time)\n",
    "depths_deep = {}\n",
    "for d in depths:\n",
    "    depths_deep[d] = depths[d]+2.5*np.log10(5.0)\n",
    "\n",
    "\n",
    "# sky brightness in Euclid-survey bands\n",
    "sky_AB={\n",
    "        \"TU_FNU_VIS\":22.33, \"TU_FNU_Y_NISP\":22.10 , \"TU_FNU_J_NISP\":22.11, \"TU_FNU_H_NISP\":22.28 , \n",
    "        \"TU_FNU_G_DECAM\":22.00, \"TU_FNU_R_DECAM\":20.80, \"TU_FNU_I_DECAM\":20.30, \"TU_FNU_Z_DECAM\":19.40, \n",
    "        \"TU_FNU_U_MEGACAM\": 22.70, \"TU_FNU_R_MEGACAM\":20.80, \"TU_FNU_G_JPCAM\":22.00, \n",
    "        \"TU_FNU_I_PANSTARRS\":20.30, \"TU_FNU_Z_PANSTARRS\":19.40, \"TU_FNU_Z_HSC\":23.4, \"TU_FNU_U_LSST\": 22.70, \n",
    "        \"TU_FNU_G_LSST\":22.00, \"TU_FNU_R_LSST\":20.80, \"TU_FNU_I_LSST\":20.30, \"TU_FNU_Z_LSST\":19.40\n",
    "        }"
   ]
  },
  {
   "cell_type": "code",
   "execution_count": 4,
   "metadata": {},
   "outputs": [],
   "source": [
    "catalog_output_type=\"deep\" # \"deep\" or \"wide\"\n",
    "cuttof_VIS_MAB = 24.0"
   ]
  },
  {
   "cell_type": "markdown",
   "metadata": {},
   "source": [
    "# Functions\n"
   ]
  },
  {
   "cell_type": "code",
   "execution_count": 11,
   "metadata": {},
   "outputs": [],
   "source": [
    "def simulate(emulated, filters_name, depths, sky_AB):\n",
    "\n",
    "    # create table\n",
    "    t = Table()\n",
    "\n",
    "    # first copy all non-photometry columns\n",
    "    for c in emulated.columns:\n",
    "        if c not in filters_name:\n",
    "            t[c] = emulated[c]\n",
    "\n",
    "    # loop over filters\n",
    "    for f in filters_name:\n",
    "        # compute unique flux error per band from background rms\n",
    "        flux_lim = pow(10.0, (-depths[f]+23.9)/2.5)\n",
    "\n",
    "        flux_err = compute_err(\n",
    "            emulated[f], flux_lim/10.0, sky_AB[f])\n",
    "        flux = emulated[f] + np.random.normal(0.0, flux_err)\n",
    "        mag, mag_err = compute_mags(flux, flux_err, flux_lim, emulated[f])\n",
    "\n",
    "        t[f+'_obs'] = Column(flux, unit='uJy', dtype=np.float32)\n",
    "        t[f+'_obs_err'] = Column(flux_err, unit='uJy', dtype=np.float32)\n",
    "        t[f+'_obs_mag'] = Column(mag, unit='mag', dtype=np.float32)\n",
    "        t[f+'_obs_mag_err'] = Column(mag_err, unit='mag', dtype=np.float32)\n",
    "\n",
    "    return t\n",
    "\n",
    "def compute_err(f, f_bgk_err_typical, sky_AB):\n",
    "    \"\"\" Compute the total flux error from the\n",
    "    sky background and flux photon count\n",
    "\n",
    "    OUPUT:\n",
    "    - flux error\n",
    "    \"\"\"\n",
    "    r = 3\n",
    "\n",
    "    # background flux error adjusted to\n",
    "    # the galaxy aperture\n",
    "    f_err_bgk = f_bgk_err_typical\n",
    "\n",
    "    # background flux adjusted to\n",
    "    # the galaxy aperture\n",
    "    f_bgk = AB_to_uJy(sky_AB)*np.pi*r**2\n",
    "\n",
    "    # galaxy photon error\n",
    "    f_err = f_err_bgk*np.sqrt(f/f_bgk)\n",
    "\n",
    "    # total error\n",
    "    return np.sqrt(f_err_bgk**2+f_err**2)\n",
    "\n",
    "\n",
    "def AB_to_uJy(AB):\n",
    "    return pow(10.0, -0.4*(AB - 23.9))\n",
    "\n",
    "def uJy_to_AB(muJy):\n",
    "    return -2.5*np.log10(muJy)+23.9\n",
    "\n",
    "def compute_mags(f, fErr, flux_limit, fTrue):\n",
    "    \"\"\"Compute mags and mag errors from flux\n",
    "    and flux errors\n",
    "\n",
    "    When the flux is negative or close to\n",
    "    1-sigma detection, put -1.\n",
    "    \"\"\"\n",
    "\n",
    "    N = len(f)\n",
    "    mag = np.zeros(N)-1.0\n",
    "    magErr = np.zeros(N)-1.0\n",
    "\n",
    "    # detected = (f > flux_lim/50.0) & (f > 0.0) & (fTrue > 0.0)\n",
    "    detected = (f > 0.0) & (fTrue > 0.0)\n",
    "    mag[detected] = -2.5*np.log10(f[detected])+23.9\n",
    "    magErr[detected] = 1.0857*fErr[detected]/fTrue[detected]\n",
    "\n",
    "    # mag = uJy_to_AB(f)\n",
    "    # magErr = 1.0857*fErr/f\n",
    "\n",
    "    return mag, magErr\n",
    "\n"
   ]
  },
  {
   "cell_type": "code",
   "execution_count": 6,
   "metadata": {},
   "outputs": [],
   "source": [
    "def openTable(file_path):\n",
    "    print('Processing file :' + file_path)\n",
    "    hdul = fits.open(file_path)\n",
    "    return Table(hdul[1].data)\n",
    "    "
   ]
  },
  {
   "cell_type": "code",
   "execution_count": 7,
   "metadata": {},
   "outputs": [],
   "source": [
    "def filterTableMag(table, mag_cutoff):\n",
    "    mag_vis = table['TU_FNU_VIS_obs_mag']\n",
    "    mask = mag_vis <= mag_cutoff\n",
    "    return table[mask]"
   ]
  },
  {
   "cell_type": "markdown",
   "metadata": {},
   "source": [
    "# Processing"
   ]
  },
  {
   "cell_type": "code",
   "execution_count": 16,
   "metadata": {},
   "outputs": [
    {
     "name": "stdout",
     "output_type": "stream",
     "text": [
      "Processing file :/home/aalvarez/Work/Data/SC7/TU/Stars/Deep/HealPix/Deep.fits\n"
     ]
    }
   ],
   "source": [
    "if catalog_output_type == 'deep':\n",
    "    d = depths_deep\n",
    "else:\n",
    "    d = depths\n",
    "\n",
    "\n",
    "emulated = openTable(input_catalogs_path)\n",
    "table = simulate(emulated, filters_name, d, sky_AB)\n",
    "del emulated\n",
    "filtered_table = filterTableMag(table, cuttof_VIS_MAB)\n",
    "del table\n",
    "\n",
    "# https://astronomy.swin.edu.au/cosmos/i/Interstellar+Reddening\n",
    "# AV = 3.2E(B-V)\n",
    "# AV/3.2 = E(B-V)\n",
    "filtered_table.add_column(Column(filtered_table['AV']/3.2, name='ebv'))\n",
    "\n",
    "filtered_table.write(output_catalog_path + os.path.basename(input_catalogs_path), format='fits', overwrite=True)\n"
   ]
  },
  {
   "cell_type": "code",
   "execution_count": null,
   "metadata": {},
   "outputs": [],
   "source": []
  }
 ],
 "metadata": {
  "kernelspec": {
   "display_name": "Python 3",
   "language": "python",
   "name": "python3"
  },
  "language_info": {
   "codemirror_mode": {
    "name": "ipython",
    "version": 3
   },
   "file_extension": ".py",
   "mimetype": "text/x-python",
   "name": "python",
   "nbconvert_exporter": "python",
   "pygments_lexer": "ipython3",
   "version": "3.7.7"
  }
 },
 "nbformat": 4,
 "nbformat_minor": 4
}
