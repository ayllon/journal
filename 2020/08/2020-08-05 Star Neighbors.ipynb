{
 "cells": [
  {
   "cell_type": "markdown",
   "metadata": {},
   "source": [
    "For the Phosphoros run see `2020-07-02 Chase stars sed`\n",
    "\n",
    "For the NNPZ run see `2020-07-02 Check NNPZ IB`"
   ]
  },
  {
   "cell_type": "code",
   "execution_count": 1,
   "metadata": {},
   "outputs": [],
   "source": [
    "%matplotlib inline\n",
    "from astropy.table import Table, Column, join\n",
    "import matplotlib.pyplot as plt\n",
    "import numpy as np\n",
    "from tqdm.notebook import tqdm\n",
    "import re\n",
    "from scikitplot.metrics import plot_confusion_matrix\n",
    "\n",
    "plt.rcParams['figure.figsize'] = (20, 20)"
   ]
  },
  {
   "cell_type": "code",
   "execution_count": 2,
   "metadata": {},
   "outputs": [],
   "source": [
    "SPECTRAL_NAMES = np.array(['UNKNOWN', 'O', 'B', 'A', 'F', 'G', 'K', 'M'])\n",
    "LUMINOSITY_NAMES = np.flip(np.array(['I', 'II', 'III', 'IV', 'V']))\n",
    "\n",
    "SED_RE = re.compile('uk([rw]?)(\\w\\d+(\\.\\d+)?)(\\w+)')\n",
    "\n",
    "def classes_from_sed_name(sed):\n",
    "    \"\"\"\n",
    "    From the sed filename, extract luminosity and spectral class (in this order)\n",
    "    \"\"\"\n",
    "    filename = os.path.basename(sed)\n",
    "    if filename.endswith('.sed'):\n",
    "        filename = filename[:-4]\n",
    "    match = SED_RE.match(filename)\n",
    "    assert match is not None, sed\n",
    "    return match.group(4).upper(), match.group(2).upper()\n",
    "\n",
    "def categorical_idx(data, labels):\n",
    "    \"\"\"\n",
    "    Returns the index of each categorical data entry in labels\n",
    "    \"\"\"\n",
    "    sorter = np.argsort(labels)\n",
    "    data_idx = sorter[np.searchsorted(labels, data, sorter=sorter)]\n",
    "    return data_idx\n",
    "\n",
    "TEMP_TO_SPECTRAL = Table([\n",
    "    Column(['O', 'B', 'A', 'F', 'G', 'K', 'M'], name='T'),\n",
    "    Column([30000, 10000, 7500, 6000, 5200, 3700, 0.], name='MIN'),\n",
    "    Column([np.inf, 30000, 10000, 7500, 6000, 5200, 3700], name='MAX')\n",
    "])\n",
    "SED_LIB = Table.read('/home/aalvarez/Work/Data/SC7/TU/Stars/Deep/EUC-TEST-SEDLIB-2013-11-14_MODIF.fits')\n",
    "\n",
    "def classes_from_tu_seds(template_idx):\n",
    "    seds = SED_LIB[template_idx]\n",
    "    spectral = []\n",
    "    for sed in tqdm(seds):\n",
    "        match = np.logical_and(TEMP_TO_SPECTRAL['MIN'] < sed['TEFF'], sed['TEFF'] <= TEMP_TO_SPECTRAL['MAX'])\n",
    "        assert match.sum() == 1\n",
    "        spectral.append(TEMP_TO_SPECTRAL['T'][match][0])\n",
    "    return np.array(spectral)\n",
    "\n",
    "def categorical_hist(ax, data, labels, density=True, **kwargs):\n",
    "    \"\"\"\n",
    "    Plot an histogram of categorical classes following the order given in labels\n",
    "    \"\"\"\n",
    "    sorter = np.argsort(labels)\n",
    "    data_idx = sorter[np.searchsorted(labels, data, sorter=sorter)]\n",
    "    ax.hist(data_idx, bins=np.arange(-0.5, len(labels)), density=density)\n",
    "    ax.set_xticks(np.arange(0, len(labels)))\n",
    "    ax.set_xticklabels(labels, **kwargs.get('ticks', {}))"
   ]
  },
  {
   "cell_type": "code",
   "execution_count": 3,
   "metadata": {},
   "outputs": [],
   "source": [
    "ref_table = Table.read('/home/aalvarez/Work/Data/StarsSEDs/Reference.fits')\n",
    "ref_spectral = []\n",
    "ref_luminosity = []\n",
    "for rs in ref_table['SED']:\n",
    "    lumi, spec = classes_from_sed_name(rs)\n",
    "    ref_spectral.append(spec[0])\n",
    "    ref_luminosity.append(lumi)\n",
    "ref_spectral = categorical_idx(ref_spectral, SPECTRAL_NAMES)\n",
    "ref_luminosity = categorical_idx(ref_luminosity, LUMINOSITY_NAMES)\n",
    "ref_table.add_column(Column(ref_spectral, name='SP'))\n",
    "ref_table.add_column(Column(ref_luminosity, name='LM'))"
   ]
  },
  {
   "cell_type": "code",
   "execution_count": 4,
   "metadata": {},
   "outputs": [
    {
     "data": {
      "application/vnd.jupyter.widget-view+json": {
       "model_id": "9c84d68a7a764d6f8ed3dbf718380ce1",
       "version_major": 2,
       "version_minor": 0
      },
      "text/plain": [
       "HBox(children=(FloatProgress(value=0.0, max=100000.0), HTML(value='')))"
      ]
     },
     "metadata": {},
     "output_type": "display_data"
    },
    {
     "name": "stdout",
     "output_type": "stream",
     "text": [
      "\n"
     ]
    }
   ],
   "source": [
    "true_photo = Table.read('/home/aalvarez/Work/Data/StarsSEDs/TargetSynth2.fits', hdu=1)\n",
    "\n",
    "spectral = classes_from_tu_seds(true_photo['SED_TEMPLATE'])\n",
    "spectral = categorical_idx(spectral, SPECTRAL_NAMES)\n",
    "true_photo.add_column(Column(spectral, name='SP'))"
   ]
  },
  {
   "cell_type": "code",
   "execution_count": 56,
   "metadata": {},
   "outputs": [],
   "source": [
    "uniform = Table.read('/home/aalvarez/Work/Data/StarsSEDs/UniformEBV.fits')\n",
    "uniform_matched = join(true_photo, uniform, 'ID')"
   ]
  },
  {
   "cell_type": "markdown",
   "metadata": {},
   "source": [
    "# Sources with all neighbors at the same distance"
   ]
  },
  {
   "cell_type": "code",
   "execution_count": 57,
   "metadata": {},
   "outputs": [
    {
     "data": {
      "text/plain": [
       "(5000, 4984)"
      ]
     },
     "execution_count": 57,
     "metadata": {},
     "output_type": "execute_result"
    }
   ],
   "source": [
    "nw = uniform['NEIGHBOR_WEIGHTS']\n",
    "all_same_weights = np.sum(np.isclose(nw[:,0:1], nw), axis=1) == 30\n",
    "len(all_same_weights), all_same_weights.sum()"
   ]
  },
  {
   "cell_type": "markdown",
   "metadata": {},
   "source": [
    "## Not flagged"
   ]
  },
  {
   "cell_type": "code",
   "execution_count": 58,
   "metadata": {},
   "outputs": [
    {
     "data": {
      "text/plain": [
       "(622, 613)"
      ]
     },
     "execution_count": 58,
     "metadata": {},
     "output_type": "execute_result"
    }
   ],
   "source": [
    "mask = uniform['FLAGS_1'] == 0\n",
    "nw = uniform['NEIGHBOR_WEIGHTS'][mask]\n",
    "all_same_weights = np.sum(np.isclose(nw[:,0:1], nw), axis=1) == 30\n",
    "len(all_same_weights), all_same_weights.sum()"
   ]
  },
  {
   "cell_type": "markdown",
   "metadata": {},
   "source": [
    "## Not all at the same distance"
   ]
  },
  {
   "cell_type": "code",
   "execution_count": 59,
   "metadata": {},
   "outputs": [],
   "source": [
    "nw = uniform_matched['NEIGHBOR_WEIGHTS']\n",
    "mask = np.sum(np.isclose(nw[:,0:1], nw), axis=1) != 30\n",
    "not_all = uniform_matched[mask]"
   ]
  },
  {
   "cell_type": "code",
   "execution_count": 60,
   "metadata": {},
   "outputs": [
    {
     "data": {
      "image/png": "[encoded data removed]",
      "text/plain": [
       "<Figure size 1440x720 with 1 Axes>"
      ]
     },
     "metadata": {
      "needs_background": "light"
     },
     "output_type": "display_data"
    }
   ],
   "source": [
    "fig, axes = plt.subplots(ncols=1, figsize=(20, 10))\n",
    "categorical_hist(axes, SPECTRAL_NAMES[not_all['SP']], SPECTRAL_NAMES, density=False)\n",
    "plt.show()"
   ]
  }
 ],
 "metadata": {
  "kernelspec": {
   "display_name": "Python 3",
   "language": "python",
   "name": "python3"
  },
  "language_info": {
   "codemirror_mode": {
    "name": "ipython",
    "version": 3
   },
   "file_extension": ".py",
   "mimetype": "text/x-python",
   "name": "python",
   "nbconvert_exporter": "python",
   "pygments_lexer": "ipython3",
   "version": "3.8.5"
  }
 },
 "nbformat": 4,
 "nbformat_minor": 4
}
