{
 "cells": [
  {
   "cell_type": "code",
   "execution_count": 1,
   "metadata": {},
   "outputs": [
    {
     "name": "stderr",
     "output_type": "stream",
     "text": [
      "WARNING : using environment variable BINARY_TAG for binary_tag\n",
      "WARNING : x86_64-fc32-gcc102-dbg is not in the list of distributed configurations\n"
     ]
    }
   ],
   "source": [
    "%matplotlib inline\n",
    "import logging\n",
    "import Euclid\n",
    "import matplotlib.pyplot as plt\n",
    "import numpy as np\n",
    "\n",
    "from collections import namedtuple\n",
    "from glob import glob\n",
    "from matplotlib import colors\n",
    "from astropy.table import Table\n",
    "from tqdm.notebook import tqdm\n",
    "from scipy.stats import gaussian_kde\n",
    "\n",
    "%elogin\n",
    "%erun PHZ_NNPZ 0.9\n",
    "\n",
    "%load_ext autoreload\n",
    "%autoreload 2\n",
    "from nnpz.reference_sample.ReferenceSample import ReferenceSample\n",
    "from nnpz.photometry.ListFileFilterProvider import ListFileFilterProvider\n",
    "from nnpz.photometry.FnuuJyPrePostProcessor import FnuuJyPrePostProcessor\n",
    "from nnpz.photometry.ReferenceSampleParallelPhotometryBuilder import ReferenceSamplePhotometryParallelBuilder as ParallelPhotometryBuilder\n",
    "from nnpz.photometry.ReferenceSamplePhotometryBuilder import ReferenceSamplePhotometryBuilder as PhotometryBuilder\n",
    "\n",
    "plt.rcParams['figure.figsize'] = (20, 10)\n",
    "\n",
    "class TqdmWrapper(object):\n",
    "    def __init__(self, total):\n",
    "        self.tqdm = tqdm(total=total)\n",
    "        self.progress = 0\n",
    "        \n",
    "    def __call__(self, n):\n",
    "        self.tqdm.update(n - self.progress)\n",
    "        self.progress = n\n",
    "\n",
    "Iter = namedtuple('Iter', ['sed'])"
   ]
  },
  {
   "cell_type": "code",
   "execution_count": 2,
   "metadata": {},
   "outputs": [],
   "source": [
    "logging.getLogger().setLevel(logging.WARNING)"
   ]
  },
  {
   "cell_type": "code",
   "execution_count": 3,
   "metadata": {},
   "outputs": [],
   "source": [
    "ref_sample = ReferenceSample('/home/aalvarez/Work/Data/SC8/PHZ_Calibration/MergeReferenceSampleDirs/reference_sample_dir.dir/')"
   ]
  },
  {
   "cell_type": "code",
   "execution_count": 4,
   "metadata": {},
   "outputs": [],
   "source": [
    "# Filter Provider\n",
    "subaru_trans_files = glob('/home/aalvarez/Phosphoros/AuxiliaryData/Filters/Subaru/IB6*.dat')\n",
    "with open('/tmp/filter_list.txt', 'wt') as fd:\n",
    "    fd.write('\\n'.join(subaru_trans_files))\n",
    "filter_provider = ListFileFilterProvider('/tmp/filter_list.txt')\n",
    "\n",
    "# Photometry\n",
    "fnuu = FnuuJyPrePostProcessor()"
   ]
  },
  {
   "cell_type": "code",
   "execution_count": 6,
   "metadata": {},
   "outputs": [],
   "source": [
    "# Builder\n",
    "photo_builder = ParallelPhotometryBuilder(filter_provider, fnuu, ncores=2)"
   ]
  },
  {
   "cell_type": "code",
   "execution_count": 7,
   "metadata": {},
   "outputs": [],
   "source": [
    "class SedGenerator(object):\n",
    "    def __init__(self):\n",
    "        self.__seds = []\n",
    "        self.__zs = []\n",
    "        \n",
    "    def add(self, sed, z):\n",
    "        self.__seds.append(sed)\n",
    "        self.__zs.append(z)\n",
    "        \n",
    "    def __iter__(self):\n",
    "        for sed, zs in zip(self.__seds, self.__zs):\n",
    "            for z in zs:\n",
    "                yield Iter(sed=np.stack([sed[:, 0] * (z + 1), sed[:,1] / (1 + z)**2], axis=1))\n",
    "                \n",
    "    def __len__(self):\n",
    "        return len(self.__seds) * len(self.__zs[0])"
   ]
  },
  {
   "cell_type": "code",
   "execution_count": 8,
   "metadata": {},
   "outputs": [
    {
     "data": {
      "application/vnd.jupyter.widget-view+json": {
       "model_id": "b40edba32d5c4f988642d5fe2e1fe7b7",
       "version_major": 2,
       "version_minor": 0
      },
      "text/plain": [
       "HBox(children=(FloatProgress(value=0.0, max=99923.0), HTML(value='')))"
      ]
     },
     "metadata": {},
     "output_type": "display_data"
    },
    {
     "name": "stdout",
     "output_type": "stream",
     "text": [
      "\n"
     ]
    }
   ],
   "source": [
    "NSAMPLES = 500\n",
    "\n",
    "transmissions = dict([(n, []) for n in filter_provider.getFilterNames()])\n",
    "all_seds = SedGenerator()\n",
    "\n",
    "all_ids = ref_sample.getIds()\n",
    "for obj_id in tqdm(all_ids):\n",
    "    sed_z = ref_sample.getSedData(obj_id)\n",
    "    pdz = ref_sample.getPdzData(obj_id)\n",
    "    # SED corresponds to max PDZ (?)\n",
    "    ref_z = pdz[:,0][pdz[:,1].argmax()]\n",
    "    # Un-shift SED\n",
    "    sed = np.copy(sed_z)\n",
    "    sed[:, 0] /= 1 + ref_z\n",
    "    sed[:, 1] *= (1 + ref_z)**2\n",
    "    \n",
    "    # Generate MC Z samples\n",
    "    # Note: we use ABS becase due to some floating point errors we may get tiny negatives (basically 0)\n",
    "    normed_pdz = np.abs(pdz[:,1]) / np.sum(np.abs(pdz[:,1]))\n",
    "    zpicks = np.random.choice(pdz[:,0], NSAMPLES, p=normed_pdz)\n",
    "    all_seds.add(sed, zpicks)"
   ]
  },
  {
   "cell_type": "code",
   "execution_count": 9,
   "metadata": {},
   "outputs": [
    {
     "data": {
      "application/vnd.jupyter.widget-view+json": {
       "model_id": "66ef92bd79b34a9d8199752ae331bdb8",
       "version_major": 2,
       "version_minor": 0
      },
      "text/plain": [
       "HBox(children=(FloatProgress(value=0.0, max=49961500.0), HTML(value='')))"
      ]
     },
     "metadata": {},
     "output_type": "display_data"
    }
   ],
   "source": [
    "ret = photo_builder.buildPhotometry(all_seds, progress_listener=TqdmWrapper(len(all_seds)))"
   ]
  },
  {
   "cell_type": "code",
   "execution_count": 58,
   "metadata": {},
   "outputs": [],
   "source": [
    "basepath = '/home/aalvarez/Work/Data/SC8/PHZ_Calibration/MergeReferenceSampleDirs/'\n",
    "all_v = []\n",
    "names = []\n",
    "for k, v in ret.items():\n",
    "    filename = os.path.join(basepath, k + '_data_1.npy')\n",
    "    np.save(filename, v.reshape(-1, NSAMPLES))\n",
    "    idx_filename = os.path.join(basepath, k + '_index.npy')\n",
    "    idx = np.zeros((len(all_ids), 3), dtype=np.int64)\n",
    "    idx[:, 0] = all_ids\n",
    "    idx[:, 1] = 1\n",
    "    idx[:, 2] = np.arange(0, len(all_ids))\n",
    "    np.save(idx_filename, idx)\n",
    "    all_v.append(v.reshape(-1, NSAMPLES, 1))\n",
    "    names.append(k)"
   ]
  },
  {
   "cell_type": "markdown",
   "metadata": {},
   "source": [
    "Merge all"
   ]
  },
  {
   "cell_type": "code",
   "execution_count": 59,
   "metadata": {},
   "outputs": [],
   "source": [
    "z=np.concatenate(all_v, axis=-1)"
   ]
  },
  {
   "cell_type": "code",
   "execution_count": 60,
   "metadata": {},
   "outputs": [],
   "source": [
    "z_idx = np.array(idx, copy=True)"
   ]
  },
  {
   "cell_type": "code",
   "execution_count": 61,
   "metadata": {},
   "outputs": [],
   "source": [
    "np.save(os.path.join(basepath, 'MultiBand_data_1.npy'), z)\n",
    "np.save(os.path.join(basepath, 'Multiband_index.npy'), z_idx)"
   ]
  },
  {
   "cell_type": "code",
   "execution_count": 62,
   "metadata": {},
   "outputs": [],
   "source": [
    "np.save(os.path.join(basepath, 'MultiBand_names.npy'), names)"
   ]
  },
  {
   "cell_type": "code",
   "execution_count": 73,
   "metadata": {},
   "outputs": [
    {
     "data": {
      "text/plain": [
       "(500,)"
      ]
     },
     "execution_count": 73,
     "metadata": {},
     "output_type": "execute_result"
    }
   ],
   "source": [
    "x=np.zeros(500, dtype={'names':['ID', 'Ring'], 'formats':[np.int, np.int]})\n",
    "x.shape"
   ]
  },
  {
   "cell_type": "code",
   "execution_count": null,
   "metadata": {},
   "outputs": [],
   "source": []
  }
 ],
 "metadata": {
  "kernelspec": {
   "display_name": "Python 3",
   "language": "python",
   "name": "python3"
  },
  "language_info": {
   "codemirror_mode": {
    "name": "ipython",
    "version": 3
   },
   "file_extension": ".py",
   "mimetype": "text/x-python",
   "name": "python",
   "nbconvert_exporter": "python",
   "pygments_lexer": "ipython3",
   "version": "3.8.5"
  }
 },
 "nbformat": 4,
 "nbformat_minor": 4
}
