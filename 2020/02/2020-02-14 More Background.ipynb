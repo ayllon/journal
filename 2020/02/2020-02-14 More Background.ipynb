{
 "cells": [
  {
   "cell_type": "code",
   "execution_count": 88,
   "metadata": {},
   "outputs": [],
   "source": [
    "%matplotlib inline\n",
    "import matplotlib.pyplot as plt\n",
    "import numpy as np\n",
    "from astropy.io import fits\n",
    "from matplotlib.colors import SymLogNorm, Normalize"
   ]
  },
  {
   "cell_type": "code",
   "execution_count": 118,
   "metadata": {},
   "outputs": [],
   "source": [
    "img = fits.open('/home/aalvarez/Work/Data/sim11/sim11_r_01.fits')[0]\n",
    "img = img.data * img.header['FLXSCALE']"
   ]
  },
  {
   "cell_type": "code",
   "execution_count": 119,
   "metadata": {},
   "outputs": [],
   "source": [
    "cell_size = 64"
   ]
  },
  {
   "cell_type": "code",
   "execution_count": 120,
   "metadata": {},
   "outputs": [],
   "source": [
    "def get_cell(x, y):\n",
    "    return img[y*cell_size:y*cell_size+cell_size,x*cell_size:x*cell_size+cell_size]"
   ]
  },
  {
   "cell_type": "code",
   "execution_count": 135,
   "metadata": {},
   "outputs": [],
   "source": [
    "cell = get_cell(3, 17)"
   ]
  },
  {
   "cell_type": "code",
   "execution_count": 141,
   "metadata": {},
   "outputs": [
    {
     "data": {
      "text/plain": [
       "<matplotlib.image.AxesImage at 0x7fd41ab7bd90>"
      ]
     },
     "execution_count": 141,
     "metadata": {},
     "output_type": "execute_result"
    },
    {
     "data": {
      "image/png": "[encoded data removed]",
      "text/plain": [
       "<Figure size 432x288 with 1 Axes>"
      ]
     },
     "metadata": {
      "needs_background": "light"
     },
     "output_type": "display_data"
    }
   ],
   "source": [
    "plt.figure()\n",
    "plt.imshow(cell, cmap='Greys_r', norm=SymLogNorm(1000))"
   ]
  },
  {
   "cell_type": "code",
   "execution_count": 149,
   "metadata": {},
   "outputs": [],
   "source": [
    "def hist_stats(hist_mid, hist_val):\n",
    "    lowsum = highsum = 0.\n",
    "    ilow = 0\n",
    "    ihigh = len(hist_val) - 1\n",
    "    sum_total = 0.\n",
    "    sum_count = 0.\n",
    "    std = 0.\n",
    "    for val, count in zip(hist_mid, hist_val):\n",
    "        if lowsum < highsum:\n",
    "            lowsum += hist_val[ilow]\n",
    "            ilow += 1\n",
    "        else:\n",
    "            highsum += hist_val[ihigh]\n",
    "            ihigh -= 1\n",
    "        sum_total += val * count\n",
    "        sum_count += count\n",
    "        std += count * val * val\n",
    "        \n",
    "    i = np.max([hist_val[ilow], hist_val[ihigh]])\n",
    "    median = hist_mid[ihigh] + 0.5 + (highsum - lowsum) / (2 * i)\n",
    "    mean = sum_total / sum_count\n",
    "    std = np.sqrt(std / sum_count - mean ** 2)    \n",
    "    return median, mean, std"
   ]
  },
  {
   "cell_type": "code",
   "execution_count": 150,
   "metadata": {},
   "outputs": [],
   "source": [
    "class BackgroundHistogram(object):\n",
    "    \n",
    "    def __compute_binning(self, ndata, nsigma, minpixel):\n",
    "        nbins = (ndata * np.sqrt(2/np.pi) * nsigma / minpixel) + 1\n",
    "        return np.min([nbins, 4096]).astype(np.int)\n",
    "    \n",
    "    def __init__(self, data, kappa=2, nsigma=5, minpixel=4):\n",
    "        \"\"\"\n",
    "        Constructor\n",
    "        \"\"\"\n",
    "        # Compute mean and standard deviation over the original data\n",
    "        mean, std = np.mean(data), np.std(data)\n",
    "        # Compute first cut, +- std * kappa\n",
    "        lcut, hcut = mean - std * kappa, mean + std * kappa\n",
    "        print(mean, std, kappa)\n",
    "        print(lcut, hcut)\n",
    "        \n",
    "        # Filter values using this cuts\n",
    "        f = np.logical_and(data >= lcut, data <= hcut)\n",
    "        self.mean = np.mean(data[f])\n",
    "        self.sigma = np.std(data[f])\n",
    "        self.ndata = np.sum(f)\n",
    "        \n",
    "        \n",
    "        self.nbins = self.__compute_binning(self.ndata, nsigma, minpixel)\n",
    "        self.bin_scale = 2 * (nsigma * self.sigma) / self.nbins\n",
    "        self.bin_zero = self.mean - (nsigma * self.sigma)\n",
    "        self.bin_const = 0.499999 - self.bin_zero / self.bin_scale\n",
    "        self.bin_counts = np.zeros(self.nbins)\n",
    "        \n",
    "        idx = (data / self.bin_scale + self.bin_const).astype(np.int)\n",
    "        inrange = np.logical_and(0 <= idx, idx < self.nbins)\n",
    "        for i in idx[inrange]:\n",
    "            self.bin_counts[i] += 1\n",
    "\n",
    "    def edges(self):\n",
    "        return np.arange(start=-self.bin_const, stop=self.nbins+1 - self.bin_const) * self.bin_scale\n",
    "\n",
    "    def get_backguess(self, niter=100, rtol=1e-4):\n",
    "        sigma = 10\n",
    "        prev_sigma = 1.\n",
    "        counts = self.bin_counts\n",
    "        values = np.arange(len(self.bin_counts))\n",
    "\n",
    "        while niter > 0 and sigma >= 0.1 and abs(sigma / prev_sigma - 1) > rtol:\n",
    "            prev_sigma = sigma\n",
    "            median, mean, sigma = hist_stats(values, counts)\n",
    "            idx = np.logical_and(values >= int(median - sigma * 3 + 0.5), values <= int(median + sigma * 3 + 0.5))\n",
    "            values = values[idx]\n",
    "            counts = counts[idx]\n",
    "            niter -= 1\n",
    "\n",
    "        if abs(sigma) <= 0:\n",
    "            return self.bin_zero+mean*self.bin_scale, sigma * self.bin_scale\n",
    "        elif abs((mean - median)/ sigma) < 0.3:\n",
    "            return self.bin_zero+(2.5*median-1.5*mean)*self.bin_scale, sigma*self.bin_scale\n",
    "        return self.bin_zero+median*self.bin_scale, sigma * self.bin_scale"
   ]
  },
  {
   "cell_type": "code",
   "execution_count": 151,
   "metadata": {},
   "outputs": [
    {
     "name": "stdout",
     "output_type": "stream",
     "text": [
      "5283.9395 15727.382 2\n",
      "-26170.82421875 36738.703125\n"
     ]
    }
   ],
   "source": [
    "b = BackgroundHistogram(cell)"
   ]
  },
  {
   "cell_type": "code",
   "execution_count": 152,
   "metadata": {},
   "outputs": [
    {
     "data": {
      "text/plain": [
       "(842.790700587937, 66.74254500344632)"
      ]
     },
     "execution_count": 152,
     "metadata": {},
     "output_type": "execute_result"
    }
   ],
   "source": [
    "b.get_backguess()"
   ]
  },
  {
   "cell_type": "code",
   "execution_count": null,
   "metadata": {},
   "outputs": [],
   "source": []
  }
 ],
 "metadata": {
  "kernelspec": {
   "display_name": "Python 3",
   "language": "python",
   "name": "python3"
  },
  "language_info": {
   "codemirror_mode": {
    "name": "ipython",
    "version": 3
   },
   "file_extension": ".py",
   "mimetype": "text/x-python",
   "name": "python",
   "nbconvert_exporter": "python",
   "pygments_lexer": "ipython3",
   "version": "3.7.5"
  }
 },
 "nbformat": 4,
 "nbformat_minor": 4
}
