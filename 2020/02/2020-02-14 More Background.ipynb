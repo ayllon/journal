{
 "cells": [
  {
   "cell_type": "code",
   "execution_count": 1,
   "metadata": {},
   "outputs": [],
   "source": [
    "%matplotlib widget\n",
    "import matplotlib.pyplot as plt\n",
    "import numpy as np\n",
    "from astropy.io import fits\n",
    "from matplotlib.colors import SymLogNorm, Normalize\n",
    "from ipywidgets import interactive, IntSlider"
   ]
  },
  {
   "cell_type": "code",
   "execution_count": 2,
   "metadata": {},
   "outputs": [],
   "source": [
    "orig_bg = fits.open('/tmp/sim11_r_se2_background.fits')[0].data"
   ]
  },
  {
   "cell_type": "code",
   "execution_count": 3,
   "metadata": {},
   "outputs": [],
   "source": [
    "new_bg = fits.open('/tmp/sim11_r_ng_background.fits')[0].data\n",
    "new_bg[new_bg < -1e30] = np.nan"
   ]
  },
  {
   "cell_type": "code",
   "execution_count": 4,
   "metadata": {},
   "outputs": [
    {
     "data": {
      "application/vnd.jupyter.widget-view+json": {
       "model_id": "b4c22f4da2bc40af91b8f9b96c3dee9a",
       "version_major": 2,
       "version_minor": 0
      },
      "text/plain": [
       "Canvas(toolbar=Toolbar(toolitems=[('Home', 'Reset original view', 'home', 'home'), ('Back', 'Back to previous …"
      ]
     },
     "metadata": {},
     "output_type": "display_data"
    }
   ],
   "source": [
    "fig, axes = plt.subplots(ncols=2, nrows=2, figsize=(15,10))\n",
    "\n",
    "norm = Normalize()\n",
    "\n",
    "axes[0, 0].set_title('SE')\n",
    "im1 = axes[0, 0].imshow(orig_bg, norm=norm)\n",
    "plt.colorbar(im1, ax=axes[0, 0])\n",
    "\n",
    "axes[0, 1].set_title('NG')\n",
    "im2 = axes[0, 1].imshow(new_bg, norm=norm)\n",
    "plt.colorbar(im2, ax=axes[0, 1])\n",
    "\n",
    "axes[1, 0].set_title('$\\Delta$')\n",
    "diff = new_bg - orig_bg\n",
    "df = axes[1, 0].imshow(diff)\n",
    "plt.colorbar(df, ax=axes[1, 0])\n",
    "\n",
    "axes[1, 1].set_title('isclose')\n",
    "close = axes[1, 1].imshow(np.isclose(orig_bg, new_bg, rtol=1e-3, atol=1e-5).astype(np.int))\n",
    "plt.colorbar(close, ax=axes[1, 1])\n",
    "\n",
    "plt.tight_layout()\n",
    "plt.show()"
   ]
  },
  {
   "cell_type": "code",
   "execution_count": 5,
   "metadata": {},
   "outputs": [
    {
     "data": {
      "text/plain": [
       "179412.97"
      ]
     },
     "execution_count": 5,
     "metadata": {},
     "output_type": "execute_result"
    }
   ],
   "source": [
    "np.nansum(np.abs(diff))"
   ]
  },
  {
   "cell_type": "code",
   "execution_count": 6,
   "metadata": {},
   "outputs": [
    {
     "name": "stdout",
     "output_type": "stream",
     "text": [
      "0.30239245 270842\n",
      "76 2182\n",
      "0.30239245\n",
      "0.034862638\n",
      "0.3372551\n"
     ]
    }
   ],
   "source": [
    "idx = np.nanargmax(np.abs(diff))\n",
    "print(np.nanmax(np.abs(diff)), idx)\n",
    "x, y = idx // diff.shape[1], idx % diff.shape[1]\n",
    "print(x, y)\n",
    "print(diff[x,y])\n",
    "print(orig_bg[x,y])\n",
    "print(new_bg[x,y])"
   ]
  },
  {
   "cell_type": "code",
   "execution_count": 12,
   "metadata": {},
   "outputs": [],
   "source": [
    "mode = fits.open('/tmp/back.fits')[0].data\n",
    "mode_centers_y = 32+np.arange(mode.shape[1])*64\n",
    "mode_centers_x = 32+np.arange(mode.shape[0])*64"
   ]
  },
  {
   "cell_type": "code",
   "execution_count": 13,
   "metadata": {},
   "outputs": [],
   "source": [
    "mode_fig = None\n",
    "def plot_mode_slice(x, y):\n",
    "    global mode_fig\n",
    "    if mode_fig is not None:\n",
    "        plt.close(mode_fig)\n",
    "    mode_fig, axes = plt.subplots(ncols=1, nrows=2, figsize=(15,8))\n",
    "    \n",
    "    histo_x = x//64\n",
    "    histo_y = y//64\n",
    "    \n",
    "    axes[0].set_title(f'x {x} ({histo_x})')\n",
    "    axes[0].bar(mode_centers_y, mode[histo_x,:], width=60, color='y', alpha=0.5, label='Cell mode$')\n",
    "    axes[0].plot(np.arange(orig_bg.shape[1]), orig_bg[x,:], 'o-', label='SE2')\n",
    "    axes[0].plot(np.arange(new_bg.shape[1]), new_bg[x,:], '.:', label='NG')\n",
    "    axes[0].legend()\n",
    "\n",
    "    axes[1].set_title(f'y {y} ({histo_y})')\n",
    "    axes[1].bar(mode_centers_x, mode[:, histo_y], width=60, color='y', alpha=0.5, label='Cell mode')\n",
    "    axes[1].plot(np.arange(orig_bg.shape[0]), orig_bg[:,y], 'o-', label='SE2')\n",
    "    axes[1].plot(np.arange(new_bg.shape[0]), new_bg[:,y], '.:', label='NG')\n",
    "    axes[1].legend()\n",
    "    \n",
    "    fig.show()"
   ]
  },
  {
   "cell_type": "code",
   "execution_count": 14,
   "metadata": {},
   "outputs": [
    {
     "data": {
      "application/vnd.jupyter.widget-view+json": {
       "model_id": "afe6777ad899478da389423f3b4dd720",
       "version_major": 2,
       "version_minor": 0
      },
      "text/plain": [
       "interactive(children=(IntSlider(value=0, continuous_update=False, description='x', max=3367), IntSlider(value=…"
      ]
     },
     "metadata": {},
     "output_type": "display_data"
    }
   ],
   "source": [
    "interactive(plot_mode_slice, x=IntSlider(min=0, max=new_bg.shape[0], continuous_update=False), y=IntSlider(min=0, max=new_bg.shape[1], continuous_update=False))"
   ]
  },
  {
   "cell_type": "code",
   "execution_count": 15,
   "metadata": {},
   "outputs": [],
   "source": [
    "orig_var = fits.open('/tmp/sim11_r_se2_variance.fits')[0].data"
   ]
  },
  {
   "cell_type": "code",
   "execution_count": 16,
   "metadata": {},
   "outputs": [],
   "source": [
    "new_var = fits.open('/tmp/sim11_r_ng_variance.fits')[0].data"
   ]
  },
  {
   "cell_type": "code",
   "execution_count": 17,
   "metadata": {},
   "outputs": [
    {
     "data": {
      "application/vnd.jupyter.widget-view+json": {
       "model_id": "755ceb968a124212839a7c8a389f1423",
       "version_major": 2,
       "version_minor": 0
      },
      "text/plain": [
       "Canvas(toolbar=Toolbar(toolitems=[('Home', 'Reset original view', 'home', 'home'), ('Back', 'Back to previous …"
      ]
     },
     "metadata": {},
     "output_type": "display_data"
    }
   ],
   "source": [
    "fig, axes = plt.subplots(ncols=2, nrows=2, figsize=(15,10))\n",
    "\n",
    "norm = Normalize()\n",
    "\n",
    "axes[0, 0].set_title('SE')\n",
    "im1 = axes[0, 0].imshow(orig_var, norm=norm)\n",
    "plt.colorbar(im1, ax=axes[0, 0])\n",
    "\n",
    "axes[0, 1].set_title('NG')\n",
    "im2 = axes[0, 1].imshow(new_var, norm=norm)\n",
    "plt.colorbar(im2, ax=axes[0, 1])\n",
    "\n",
    "axes[1, 0].set_title('$\\Delta$')\n",
    "diff = new_var - orig_var\n",
    "df = axes[1, 0].imshow(diff)\n",
    "plt.colorbar(df, ax=axes[1, 0])\n",
    "\n",
    "axes[1, 1].set_title('isclose')\n",
    "close = axes[1, 1].imshow(np.isclose(new_var, orig_var, rtol=1e-4, atol=1e-5).astype(np.int))\n",
    "plt.colorbar(close, ax=axes[1, 1])\n",
    "\n",
    "plt.tight_layout()\n",
    "plt.show()"
   ]
  },
  {
   "cell_type": "code",
   "execution_count": 18,
   "metadata": {},
   "outputs": [
    {
     "name": "stdout",
     "output_type": "stream",
     "text": [
      "20.648804 2655540\n",
      "751 755\n",
      "20.648804\n",
      "552.84436\n",
      "573.49316\n",
      "(3367, 3535)\n"
     ]
    }
   ],
   "source": [
    "idx = np.nanargmax(np.abs(diff))\n",
    "print(np.nanmax(np.abs(diff)), idx)\n",
    "x, y = idx // diff.shape[1], idx % diff.shape[1]\n",
    "print(x, y)\n",
    "print(diff[x,y])\n",
    "print(orig_var[x,y])\n",
    "print(new_var[x,y])\n",
    "print(new_var.shape)"
   ]
  },
  {
   "cell_type": "code",
   "execution_count": 21,
   "metadata": {},
   "outputs": [],
   "source": [
    "var = fits.open('/tmp/var.fits')[0].data\n",
    "var_centers_y = 32+np.arange(var.shape[1])*64\n",
    "var_centers_x = 32+np.arange(var.shape[0])*64"
   ]
  },
  {
   "cell_type": "code",
   "execution_count": 22,
   "metadata": {},
   "outputs": [],
   "source": [
    "var_fig = None\n",
    "def plot_var_slice(x, y):\n",
    "    global var_fig\n",
    "    if var_fig is not None:\n",
    "        plt.close(var_fig)\n",
    "    var_fig, axes = plt.subplots(ncols=1, nrows=2, figsize=(15,8))\n",
    "    \n",
    "    histo_x = x//64\n",
    "    histo_y = y//64\n",
    "    \n",
    "    axes[0].set_title(f'x {x} ({histo_x})')\n",
    "    axes[0].bar(var_centers_y, var[histo_x,:], width=60, color='y', alpha=0.5, label='Cell $\\sigma^2$')\n",
    "    axes[0].plot(np.arange(orig_var.shape[1]), orig_var[x,:], 'o-', label='SE2')\n",
    "    axes[0].plot(np.arange(new_var.shape[1]), new_var[x,:], '.:', label='NG')\n",
    "    axes[0].legend()\n",
    "\n",
    "    axes[1].set_title(f'y {y} ({histo_y})')\n",
    "    axes[1].bar(var_centers_x, var[:, histo_y], width=60, color='y', alpha=0.5, label='Cell $\\sigma^2$')\n",
    "    axes[1].plot(np.arange(orig_var.shape[0]), orig_var[:,y], 'o-', label='SE2')\n",
    "    axes[1].plot(np.arange(new_var.shape[0]), new_var[:,y], '.:', label='NG')\n",
    "    axes[1].legend()\n",
    "    \n",
    "    fig.show()"
   ]
  },
  {
   "cell_type": "code",
   "execution_count": 24,
   "metadata": {},
   "outputs": [
    {
     "data": {
      "application/vnd.jupyter.widget-view+json": {
       "model_id": "c142dc9bd16342609e3491c2d091f494",
       "version_major": 2,
       "version_minor": 0
      },
      "text/plain": [
       "interactive(children=(IntSlider(value=0, continuous_update=False, description='x', max=3367), IntSlider(value=…"
      ]
     },
     "metadata": {},
     "output_type": "display_data"
    }
   ],
   "source": [
    "interactive(plot_var_slice, x=IntSlider(min=0, max=new_var.shape[0], continuous_update=False), y=IntSlider(min=0, max=new_var.shape[1], continuous_update=False))"
   ]
  },
  {
   "cell_type": "code",
   "execution_count": null,
   "metadata": {},
   "outputs": [],
   "source": []
  }
 ],
 "metadata": {
  "kernelspec": {
   "display_name": "Python 3",
   "language": "python",
   "name": "python3"
  },
  "language_info": {
   "codemirror_mode": {
    "name": "ipython",
    "version": 3
   },
   "file_extension": ".py",
   "mimetype": "text/x-python",
   "name": "python",
   "nbconvert_exporter": "python",
   "pygments_lexer": "ipython3",
   "version": "3.7.6"
  }
 },
 "nbformat": 4,
 "nbformat_minor": 4
}
