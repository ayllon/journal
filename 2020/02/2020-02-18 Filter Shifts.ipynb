{
 "cells": [
  {
   "cell_type": "code",
   "execution_count": 1,
   "metadata": {},
   "outputs": [],
   "source": [
    "import sys\n",
    "import os"
   ]
  },
  {
   "cell_type": "code",
   "execution_count": 2,
   "metadata": {},
   "outputs": [],
   "source": [
    "sys.path.append('/home/aalvarez/Work/Projects/Elements/5.8/InstallArea/x86_64-fc31-gcc92-dbg/python/')\n",
    "sys.path.append('/home/aalvarez/Work/Projects/Phosphoros/Phosphoros/InstallArea/x86_64-fc31-gcc92-dbg/python/')"
   ]
  },
  {
   "cell_type": "code",
   "execution_count": 3,
   "metadata": {},
   "outputs": [],
   "source": [
    "from astropy.table import Table\n",
    "from PhzCLI.PlotSpecZComparison import SpeczPhotozPlot, displayHistogram, compute_stats\n",
    "import matplotlib.pyplot as plt\n",
    "import numpy as np"
   ]
  },
  {
   "cell_type": "markdown",
   "metadata": {},
   "source": [
    "# Compare runs"
   ]
  },
  {
   "cell_type": "code",
   "execution_count": 4,
   "metadata": {},
   "outputs": [],
   "source": [
    "not_shifted = Table.read('/home/aalvarez/Work/Data/WillHartley/RUN_not_shifted.fits', hdu=1)\n",
    "not_corrected = Table.read('/home/aalvarez/Work/Data/WillHartley/RUN_not_corrected.fits', hdu=1)\n",
    "corrected = Table.read('/home/aalvarez/Work/Data/WillHartley/RUN_corrected.fits', hdu=1)"
   ]
  },
  {
   "cell_type": "code",
   "execution_count": 5,
   "metadata": {},
   "outputs": [
    {
     "name": "stdout",
     "output_type": "stream",
     "text": [
      "--> Mean                :  0.0054985597\n",
      "--> Median              :  0.004244265\n",
      "--> Sigma               :  0.043960143\n",
      "--> Mad                 :  0.009190103\n",
      "--> Outliers            :  0.73 %\n",
      "--> Sigma (no outliers) :  0.019271854\n"
     ]
    }
   ],
   "source": [
    "_ = compute_stats(not_shifted['z'], not_shifted['REDSHIFT_MODE'])"
   ]
  },
  {
   "cell_type": "code",
   "execution_count": 6,
   "metadata": {},
   "outputs": [
    {
     "name": "stdout",
     "output_type": "stream",
     "text": [
      "--> Mean                :  0.006495729\n",
      "--> Median              :  0.004931612\n",
      "--> Sigma               :  0.072067045\n",
      "--> Mad                 :  0.010585568\n",
      "--> Outliers            :  1.56 %\n",
      "--> Sigma (no outliers) :  0.02193543\n"
     ]
    }
   ],
   "source": [
    "_ = compute_stats(not_corrected['z'], not_corrected['REDSHIFT_MODE'])"
   ]
  },
  {
   "cell_type": "code",
   "execution_count": 7,
   "metadata": {},
   "outputs": [
    {
     "name": "stdout",
     "output_type": "stream",
     "text": [
      "--> Mean                :  0.009304181\n",
      "--> Median              :  0.008236015\n",
      "--> Sigma               :  0.04751769\n",
      "--> Mad                 :  0.010091603\n",
      "--> Outliers            :  0.69 %\n",
      "--> Sigma (no outliers) :  0.019481804\n"
     ]
    }
   ],
   "source": [
    "_ = compute_stats(corrected['z'], corrected['REDSHIFT_MODE'])"
   ]
  },
  {
   "cell_type": "code",
   "execution_count": null,
   "metadata": {},
   "outputs": [],
   "source": []
  }
 ],
 "metadata": {
  "kernelspec": {
   "display_name": "Python 3",
   "language": "python",
   "name": "python3"
  },
  "language_info": {
   "codemirror_mode": {
    "name": "ipython",
    "version": 3
   },
   "file_extension": ".py",
   "mimetype": "text/x-python",
   "name": "python",
   "nbconvert_exporter": "python",
   "pygments_lexer": "ipython3",
   "version": "3.7.5"
  }
 },
 "nbformat": 4,
 "nbformat_minor": 4
}
