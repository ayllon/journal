{
 "cells": [
  {
   "cell_type": "code",
   "execution_count": 1,
   "metadata": {},
   "outputs": [],
   "source": [
    "%matplotlib widget\n",
    "from astropy.table import Table\n",
    "from tqdm.notebook import tqdm\n",
    "from types import SimpleNamespace\n",
    "import matplotlib.pyplot as plt\n",
    "import numpy as np\n",
    "import sys\n",
    "import os\n",
    "import shutil\n",
    "import subprocess\n",
    "import itertools"
   ]
  },
  {
   "cell_type": "code",
   "execution_count": 2,
   "metadata": {},
   "outputs": [],
   "source": [
    "sys.path.append('/home/aalvarez/Work/Projects/Elements/5.8/InstallArea/x86_64-fc31-gcc92-dbg/python/')\n",
    "sys.path.append('/home/aalvarez/Work/Projects/PHZ_NNPZ/PHZ_NNPZ/NNPZ/python/')\n",
    "os.environ['ELEMENTS_AUX_PATH'] = '/home/aalvarez/Work/Projects/PHZ_NNPZ/PHZ_NNPZ/NNPZ/auxdir/'\n",
    "os.environ['PATH'] = os.environ['PATH'] + ':/home/aalvarez/Work/Projects/PHZ_NNPZ/PHZ_NNPZ/build.x86_64-fc31-gcc92-dbg/scripts/'"
   ]
  },
  {
   "cell_type": "code",
   "execution_count": 3,
   "metadata": {},
   "outputs": [],
   "source": [
    "from nnpz.photometry import *\n",
    "from nnpz.reference_sample.ReferenceSample import ReferenceSample"
   ]
  },
  {
   "cell_type": "code",
   "execution_count": 4,
   "metadata": {},
   "outputs": [],
   "source": [
    "filter_provider = DirectoryFilterProvider('/home/aalvarez/Work/Data/WillHartley/DC3')"
   ]
  },
  {
   "cell_type": "markdown",
   "metadata": {},
   "source": [
    "# Filter / SED integration\n",
    "As SEDs and filters can, and do, have different binning, when integrating a SED through a filter, NNPZ <= 0.6 truncates the SED to the covered range, and interpolates the filter into the SED binning. The code is as follows:\n",
    "\n",
    "```python\n",
    "# Truncate the SED to the size of the filter\n",
    "trunc_sed = self.__truncateSed(sed, self.__filter_range_map[filter_name])\n",
    "\n",
    "# Interpolate the filter to the SED knots\n",
    "interp_filter = np.interp(trunc_sed[:,0], filter_trans[:,0], filter_trans[:,1], left=0, right=0)\n",
    "\n",
    "# Compute the SED through the filter\n",
    "filtered_sed = trunc_sed[:,1] * interp_filter\n",
    "\n",
    "# Compute the intensity of the filtered object\n",
    "intensity = np.trapz(filtered_sed, x=trunc_sed[:,0])\n",
    "```\n",
    "\n",
    "**Hypothesis:** Previous checks showed that the ratio between Will's integration and NNPZ integration depends on filter, SED _and_ redshift.\n",
    "When applying the redshift to a SED, an effect is an spacing on the binning. If we interpolate the filter into the SED grid we may lose marked features\n",
    "of the filter."
   ]
  },
  {
   "cell_type": "markdown",
   "metadata": {},
   "source": [
    "## Verify that indeed the bin size depends on the redshift"
   ]
  },
  {
   "cell_type": "code",
   "execution_count": 5,
   "metadata": {},
   "outputs": [],
   "source": [
    "def truncateSed(sed, range):\n",
    "    \"\"\"Truncates the given SED at the given range\"\"\"\n",
    "    min_i = np.searchsorted(sed[:, 0], range[0])\n",
    "    if min_i > 0:\n",
    "        min_i -= 1\n",
    "    max_i = np.searchsorted(sed[:, 0], range[1])\n",
    "    max_i += 1\n",
    "    return sed[min_i:max_i+1, :]"
   ]
  },
  {
   "cell_type": "code",
   "execution_count": 6,
   "metadata": {},
   "outputs": [
    {
     "data": {
      "text/plain": [
       "2.9787273"
      ]
     },
     "execution_count": 6,
     "metadata": {},
     "output_type": "execute_result"
    }
   ],
   "source": [
    "ref_catalog = Table.read('/home/aalvarez/Work/Data/WillHartley/ReferenceSubset.fits')\n",
    "np.max(ref_catalog['z'])"
   ]
  },
  {
   "cell_type": "code",
   "execution_count": 7,
   "metadata": {},
   "outputs": [],
   "source": [
    "sed_names = np.unique(ref_catalog['SED_name'])"
   ]
  },
  {
   "cell_type": "code",
   "execution_count": 8,
   "metadata": {},
   "outputs": [
    {
     "ename": "ValueError",
     "evalue": "buffer is smaller than requested size",
     "output_type": "error",
     "traceback": [
      "\u001b[0;31m---------------------------------------------------------------------------\u001b[0m",
      "\u001b[0;31mValueError\u001b[0m                                Traceback (most recent call last)",
      "\u001b[0;32m<ipython-input-8-1a0233f27f5f>\u001b[0m in \u001b[0;36m<module>\u001b[0;34m\u001b[0m\n\u001b[0;32m----> 1\u001b[0;31m \u001b[0mref\u001b[0m \u001b[0;34m=\u001b[0m \u001b[0mReferenceSample\u001b[0m\u001b[0;34m(\u001b[0m\u001b[0;34m'/home/aalvarez/Work/Data/WillHartley/ReferenceSample/'\u001b[0m\u001b[0;34m)\u001b[0m\u001b[0;34m\u001b[0m\u001b[0;34m\u001b[0m\u001b[0m\n\u001b[0m",
      "\u001b[0;32m~/Work/Projects/PHZ_NNPZ/PHZ_NNPZ/NNPZ/python/nnpz/reference_sample/ReferenceSample.py\u001b[0m in \u001b[0;36m__init__\u001b[0;34m(self, path, index_filename, sed_pattern, pdz_pattern)\u001b[0m\n\u001b[1;32m    113\u001b[0m \u001b[0;34m\u001b[0m\u001b[0m\n\u001b[1;32m    114\u001b[0m         \u001b[0;31m# Initialize the internal handler for the index\u001b[0m\u001b[0;34m\u001b[0m\u001b[0;34m\u001b[0m\u001b[0;34m\u001b[0m\u001b[0m\n\u001b[0;32m--> 115\u001b[0;31m         \u001b[0mself\u001b[0m\u001b[0;34m.\u001b[0m\u001b[0m__index\u001b[0m \u001b[0;34m=\u001b[0m \u001b[0mIndexProvider\u001b[0m\u001b[0;34m(\u001b[0m\u001b[0mself\u001b[0m\u001b[0;34m.\u001b[0m\u001b[0m__index_path\u001b[0m\u001b[0;34m)\u001b[0m\u001b[0;34m\u001b[0m\u001b[0;34m\u001b[0m\u001b[0m\n\u001b[0m\u001b[1;32m    116\u001b[0m \u001b[0;34m\u001b[0m\u001b[0m\n\u001b[1;32m    117\u001b[0m         \u001b[0;31m# Check that all the SED files referred in the index exist\u001b[0m\u001b[0;34m\u001b[0m\u001b[0;34m\u001b[0m\u001b[0;34m\u001b[0m\u001b[0m\n",
      "\u001b[0;32m~/Work/Projects/PHZ_NNPZ/PHZ_NNPZ/NNPZ/python/nnpz/reference_sample/IndexProvider.py\u001b[0m in \u001b[0;36m__init__\u001b[0;34m(self, filename)\u001b[0m\n\u001b[1;32m     74\u001b[0m         \u001b[0mbuf_pos\u001b[0m \u001b[0;34m=\u001b[0m \u001b[0;36m0\u001b[0m\u001b[0;34m\u001b[0m\u001b[0;34m\u001b[0m\u001b[0m\n\u001b[1;32m     75\u001b[0m         \u001b[0;32mwhile\u001b[0m \u001b[0mbuf_pos\u001b[0m \u001b[0;34m<\u001b[0m \u001b[0mfile_size\u001b[0m\u001b[0;34m:\u001b[0m\u001b[0;34m\u001b[0m\u001b[0;34m\u001b[0m\u001b[0m\n\u001b[0;32m---> 76\u001b[0;31m             \u001b[0mself\u001b[0m\u001b[0;34m.\u001b[0m\u001b[0m__id_list\u001b[0m\u001b[0;34m.\u001b[0m\u001b[0mappend\u001b[0m\u001b[0;34m(\u001b[0m\u001b[0mnp\u001b[0m\u001b[0;34m.\u001b[0m\u001b[0mfrombuffer\u001b[0m\u001b[0;34m(\u001b[0m\u001b[0mbuffer\u001b[0m\u001b[0;34m,\u001b[0m \u001b[0mcount\u001b[0m\u001b[0;34m=\u001b[0m\u001b[0;36m1\u001b[0m\u001b[0;34m,\u001b[0m \u001b[0moffset\u001b[0m\u001b[0;34m=\u001b[0m\u001b[0mbuf_pos\u001b[0m\u001b[0;34m,\u001b[0m \u001b[0mdtype\u001b[0m\u001b[0;34m=\u001b[0m\u001b[0mnp\u001b[0m\u001b[0;34m.\u001b[0m\u001b[0mint64\u001b[0m\u001b[0;34m)\u001b[0m\u001b[0;34m[\u001b[0m\u001b[0;36m0\u001b[0m\u001b[0;34m]\u001b[0m\u001b[0;34m)\u001b[0m\u001b[0;34m\u001b[0m\u001b[0;34m\u001b[0m\u001b[0m\n\u001b[0m\u001b[1;32m     77\u001b[0m             \u001b[0mbuf_pos\u001b[0m \u001b[0;34m+=\u001b[0m \u001b[0;36m8\u001b[0m\u001b[0;34m\u001b[0m\u001b[0;34m\u001b[0m\u001b[0m\n\u001b[1;32m     78\u001b[0m             \u001b[0mself\u001b[0m\u001b[0;34m.\u001b[0m\u001b[0m__sed_file_list\u001b[0m\u001b[0;34m.\u001b[0m\u001b[0mappend\u001b[0m\u001b[0;34m(\u001b[0m\u001b[0mnp\u001b[0m\u001b[0;34m.\u001b[0m\u001b[0mfrombuffer\u001b[0m\u001b[0;34m(\u001b[0m\u001b[0mbuffer\u001b[0m\u001b[0;34m,\u001b[0m \u001b[0mcount\u001b[0m\u001b[0;34m=\u001b[0m\u001b[0;36m1\u001b[0m\u001b[0;34m,\u001b[0m \u001b[0moffset\u001b[0m\u001b[0;34m=\u001b[0m\u001b[0mbuf_pos\u001b[0m\u001b[0;34m,\u001b[0m \u001b[0mdtype\u001b[0m\u001b[0;34m=\u001b[0m\u001b[0mnp\u001b[0m\u001b[0;34m.\u001b[0m\u001b[0muint16\u001b[0m\u001b[0;34m)\u001b[0m\u001b[0;34m[\u001b[0m\u001b[0;36m0\u001b[0m\u001b[0;34m]\u001b[0m\u001b[0;34m)\u001b[0m\u001b[0;34m\u001b[0m\u001b[0;34m\u001b[0m\u001b[0m\n",
      "\u001b[0;31mValueError\u001b[0m: buffer is smaller than requested size"
     ]
    }
   ],
   "source": [
    "ref = ReferenceSample('/home/aalvarez/Work/Data/WillHartley/ReferenceSample/')"
   ]
  },
  {
   "cell_type": "code",
   "execution_count": null,
   "metadata": {},
   "outputs": [],
   "source": [
    "def get_representative(z, sed):\n",
    "    shiftf = np.logical_and(ref_catalog['z'] >= z - 0.1, ref_catalog['z'] < z + 0.1)\n",
    "    sedf = ref_catalog['SED_name'] == sed\n",
    "    return np.random.choice(ref_catalog[np.logical_and(shiftf, sedf)])"
   ]
  },
  {
   "cell_type": "code",
   "execution_count": null,
   "metadata": {},
   "outputs": [],
   "source": [
    "def plot_by_sed(sed_pick):\n",
    "    grid = np.arange(100., 21000.,1.)\n",
    "    \n",
    "    redshifted = dict()\n",
    "    maxz = np.max(ref_catalog[ref_catalog['SED_name'] == sed_pick]['z'])\n",
    "    for z in np.linspace(0, maxz, 3):\n",
    "        redshifted[z] = ref.getSedData(get_representative(z, sed_pick)['ID'])\n",
    "\n",
    "    filters = filter_provider.getFilterNames()\n",
    "    nfilters = len(filters)\n",
    "    ncols = 2\n",
    "    nrows = int(np.ceil(nfilters / ncols))\n",
    "\n",
    "    fig, axes = plt.subplots(nrows=nrows, ncols=ncols, figsize=(20, 40))\n",
    "    fig.canvas.layout.height = '20in'\n",
    "    fig.canvas.layout.width = '100%'\n",
    "    plt.suptitle(f'{sed_pick}')\n",
    "\n",
    "    axes = np.ravel(axes)\n",
    "    for i, filter_name in enumerate(filters):\n",
    "        ax = axes[i]\n",
    "        ax.set_title(filter_name)\n",
    "        transmission = filter_provider.getFilterTransmission(filter_name)\n",
    "        transmission = transmission[transmission[:,0] > 0.]\n",
    "        integral = np.trapz(transmission[:,1], transmission[:,0])\n",
    "        ax.plot(transmission[:,0], transmission[:,1], label=f'Truth ({integral/integral})', linestyle='-')\n",
    "        for z, sed in redshifted.items():\n",
    "            sed = truncateSed(sed, [transmission[0,0], transmission[-1,0]])\n",
    "            interp_filter = np.interp(grid, transmission[:,0], transmission[:,1], left=0, right=0)\n",
    "            subintergral = np.trapz(interp_filter, grid)\n",
    "            ax.plot(grid, interp_filter, label=f'{z:.2} ({subintergral/integral:.3f})', linestyle=':')\n",
    "\n",
    "        ax.legend()"
   ]
  },
  {
   "cell_type": "code",
   "execution_count": null,
   "metadata": {},
   "outputs": [],
   "source": [
    "plot_by_sed(sed_names[8])"
   ]
  },
  {
   "cell_type": "code",
   "execution_count": null,
   "metadata": {},
   "outputs": [],
   "source": [
    "plot_by_sed(sed_names[0])"
   ]
  },
  {
   "cell_type": "code",
   "execution_count": null,
   "metadata": {},
   "outputs": [],
   "source": [
    "sed = ref.getSedData(get_representative(0, sed_names[0])['ID'])"
   ]
  },
  {
   "cell_type": "code",
   "execution_count": null,
   "metadata": {},
   "outputs": [],
   "source": [
    "plt.figure()\n",
    "plt.hist(np.diff(sed[:,0]), bins=20)\n",
    "plt.show()"
   ]
  },
  {
   "cell_type": "code",
   "execution_count": null,
   "metadata": {},
   "outputs": [],
   "source": []
  }
 ],
 "metadata": {
  "kernelspec": {
   "display_name": "Python 3",
   "language": "python",
   "name": "python3"
  },
  "language_info": {
   "codemirror_mode": {
    "name": "ipython",
    "version": 3
   },
   "file_extension": ".py",
   "mimetype": "text/x-python",
   "name": "python",
   "nbconvert_exporter": "python",
   "pygments_lexer": "ipython3",
   "version": "3.7.5"
  }
 },
 "nbformat": 4,
 "nbformat_minor": 4
}
