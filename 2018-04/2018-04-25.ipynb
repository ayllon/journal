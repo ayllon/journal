{
 "cells": [
  {
   "cell_type": "markdown",
   "metadata": {},
   "source": [
    "So, running [`add-filter-means-wavelength.py`](https://gitlab.astro.unige.ch/aalvarez/ph2ref/blob/master/add-filter-means-wavelength.py) gives us one fits file per modified `r` filter."
   ]
  },
  {
   "cell_type": "code",
   "execution_count": 1,
   "metadata": {},
   "outputs": [],
   "source": [
    "import os\n",
    "from astropy.table import Table\n",
    "import numpy as np\n",
    "%matplotlib inline  \n",
    "import matplotlib.pyplot as plt"
   ]
  },
  {
   "cell_type": "code",
   "execution_count": 2,
   "metadata": {},
   "outputs": [
    {
     "data": {
      "text/plain": [
       "['fluxes_COSMOS15_test_with_means_r_widening6.fits',\n",
       " 'fluxes_COSMOS15_test_with_means_r_shift5.fits',\n",
       " 'fluxes_COSMOS15_test_with_means_r_widening8.fits',\n",
       " 'fluxes_COSMOS15_test_with_means_r_softening1.fits',\n",
       " 'fluxes_COSMOS15_test_with_means_r_softening0.fits',\n",
       " 'fluxes_COSMOS15_test_with_means_r_shift8.fits',\n",
       " 'fluxes_COSMOS15_test.fits',\n",
       " 'fluxes_COSMOS15_test_with_means_r_widening7.fits',\n",
       " 'fluxes_COSMOS15_test_with_means_r_shift2.fits',\n",
       " 'fluxes_COSMOS15_test_with_means_r_softening7.fits',\n",
       " 'fluxes_COSMOS15_test_with_means_r_shift6.fits',\n",
       " 'fluxes_COSMOS15_test_with_means_r_skewing2.fits',\n",
       " 'fluxes_COSMOS15_test_with_means_r_widening2.fits',\n",
       " 'fluxes_COSMOS15_test_with_means_r_skewing9.fits',\n",
       " 'fluxes_COSMOS15_test_with_means_r_widening4.fits',\n",
       " 'fluxes_COSMOS15_test_with_means_r_skewing7.fits',\n",
       " 'fluxes_COSMOS15.fits',\n",
       " 'fluxes_COSMOS15_test_with_means_r_softening5.fits',\n",
       " 'fluxes_COSMOS15_test_with_means_r_shift7.fits',\n",
       " 'fluxes_COSMOS15_test_with_means_r_softening8.fits',\n",
       " 'fluxes.fits',\n",
       " 'fluxes_COSMOS15_test_with_means_r_skewing5.fits',\n",
       " 'fluxes_COSMOS15_test_with_means_merged.fits',\n",
       " 'fluxes_COSMOS15_test_with_means_r_shift4.fits',\n",
       " 'fluxes_COSMOS15_test_with_means_r_softening2.fits',\n",
       " 'fluxes_COSMOS15_test_with_means_r_skewing4.fits',\n",
       " 'fluxes_COSMOS15_test_with_means_r_shift0.fits',\n",
       " 'fluxes_COSMOS15_test_with_means_r_widening5.fits',\n",
       " 'fluxes_COSMOS15_test_with_means_r_softening3.fits',\n",
       " 'fluxes_COSMOS15_test_with_means_r_widening9.fits',\n",
       " 'fluxes_COSMOS15_test_with_means_r_widening0.fits',\n",
       " 'fluxes_COSMOS15_test_with_means_r_skewing3.fits',\n",
       " 'nnpz.conf',\n",
       " 'fluxes_COSMOS15_test_with_means_r_shift1.fits',\n",
       " 'fluxes_COSMOS15_training.fits',\n",
       " 'fluxes_COSMOS15_test_with_means_r_shift9.fits',\n",
       " 'fluxes_COSMOS15_test_with_means_r_skewing6.fits',\n",
       " 'fluxes_COSMOS15_test_with_means.fits',\n",
       " 'fluxes_COSMOS15_test_with_means_r_softening4.fits',\n",
       " 'fluxes_COSMOS15_test_with_means_r_softening6.fits',\n",
       " 'fluxes_COSMOS15_test_with_means_r.fits',\n",
       " 'fluxes_COSMOS15_test_with_means_r_skewing1.fits',\n",
       " 'fluxes_COSMOS15_test_with_means_r_shift3.fits',\n",
       " 'fluxes_COSMOS15_validation.fits',\n",
       " 'fluxes_COSMOS15_test_with_means_r_softening9.fits',\n",
       " 'fluxes_COSMOS15_test_with_means_r_skewing8.fits',\n",
       " 'fluxes_COSMOS15_test_with_means_r_widening3.fits',\n",
       " 'fluxes_COSMOS15_test_with_means_r_widening1.fits',\n",
       " 'fluxes_COSMOS15_test_with_means_r_skewing0.fits']"
      ]
     },
     "execution_count": 2,
     "metadata": {},
     "output_type": "execute_result"
    }
   ],
   "source": [
    "os.listdir('/home/aalvarez/Work/Data/coupon/')"
   ]
  },
  {
   "cell_type": "markdown",
   "metadata": {},
   "source": [
    "The suffix tells the filter used. I have also patched nnpz to make sure from the output the proper columns are being used. For instance:\n",
    "\n",
    "<pre><font color=\"#4E9A06\">2018-04-25 09:11:18</font> <font color=\"#75507B\">leela</font> <font color=\"#3465A4\">__main__[19089]</font> <font color=\"#2E3436\"><b>INFO</b></font> Running nnpz for fluxes_COSMOS15_test_with_means, filter r_skewing2 (using r_skewing2_mean for filter mean wavelength)\n",
    "<font color=\"#4E9A06\">2018-04-25 09:11:18</font> <font color=\"#75507B\">leela</font> <font color=\"#3465A4\">__main__[19089]</font> <font color=\"#2E3436\"><b>INFO</b></font> Output will be /home/aalvarez/Work/Data/coupon/fluxes_COSMOS15_test_with_means_r_skewing2.fits\n",
    "<font color=\"#4E9A06\">2018-04-25 09:11:18</font> <font color=\"#75507B\">leela</font> <font color=\"#3465A4\">__main__[19089]</font> <font color=\"#2E3436\"><b>DEBUG</b></font> <font color=\"#4E9A06\">Replacing r_obs with r_skewing2_obs</font>\n",
    "<font color=\"#4E9A06\">2018-04-25 09:11:18</font> <font color=\"#75507B\">leela</font> <font color=\"#3465A4\">__main__[19089]</font> <font color=\"#2E3436\"><b>DEBUG</b></font> <font color=\"#4E9A06\">Using PYTHONPATH: &quot;:/home/aalvarez/Work/Projects/NNPZ&quot;</font>\n",
    "Target catalog photometric columns: [(&apos;u_obs&apos;, &apos;u_obs_err&apos;), (&apos;g_obs&apos;, &apos;g_obs_err&apos;), (&apos;r_skewing2_obs&apos;, &apos;r_skewing2_obs_err&apos;), (&apos;i_obs&apos;, &apos;i_obs_err&apos;), (&apos;z_obs&apos;, &apos;z_obs_err&apos;), (&apos;vis_obs&apos;, &apos;vis_obs_err&apos;), (&apos;Y_obs&apos;, &apos;Y_obs_err&apos;), (&apos;J_obs&apos;, &apos;J_obs_err&apos;), (&apos;H_obs&apos;, &apos;H_obs_err&apos;)]\n",
    "Reading target catalog: /home/aalvarez/Work/Data/coupon/fluxes_COSMOS15_test_with_means.fits\n",
    "Using filters mean wavelength columns {&apos;r_skewing2&apos;: &apos;r_skewing2_mean&apos;}\n",
    "Processing only first 100 objects from target catalog\n",
    "Reading reference sample from /home/aalvarez/Work/Data/dc3/ReferenceSample...\n",
    "Reading reference sample done\n",
    "Using reference sample photometry from /home/aalvarez/Work/Data/dc3/dc3_F_nu_uJy.fits\n",
    "Reference sample photometric bands: [&apos;u&apos;, &apos;g&apos;, &apos;r&apos;, &apos;i&apos;, &apos;z&apos;, &apos;vis&apos;, &apos;Y&apos;, &apos;J&apos;, &apos;H&apos;]\n",
    "Using recomputed photometries for weight calculation\n",
    "Finding neighbors... 100%   \n",
    "Computing neighbor weights...100%   \n",
    "Adding contributions to output...100%   \n",
    "</pre>\n",
    "\n",
    "\n",
    "So the configuration overriding is working fine (`r_skewing2_obs` instead of `r_obs`, and \"Using filters mean wavelength columns\" is also there with the proper values.)."
   ]
  },
  {
   "cell_type": "markdown",
   "metadata": {},
   "source": [
    "The same script can merge all these intermediate results so we can have a look at them together easily. This can be done with the `--merge` flag."
   ]
  },
  {
   "cell_type": "code",
   "execution_count": 3,
   "metadata": {},
   "outputs": [],
   "source": [
    "merged = Table.read('/home/aalvarez/Work/Data/coupon/fluxes_COSMOS15_test_with_means_merged.fits')"
   ]
  },
  {
   "cell_type": "code",
   "execution_count": 4,
   "metadata": {},
   "outputs": [
    {
     "data": {
      "text/plain": [
       "['ID',\n",
       " 'ra',\n",
       " 'dec',\n",
       " 'z_true',\n",
       " 'r_obs',\n",
       " 'r_shift0_obs',\n",
       " 'r_shift0_obs_err',\n",
       " 'r_shift1_obs',\n",
       " 'r_shift1_obs_err',\n",
       " 'r_shift2_obs',\n",
       " 'r_shift2_obs_err',\n",
       " 'r_shift3_obs',\n",
       " 'r_shift3_obs_err',\n",
       " 'r_shift4_obs',\n",
       " 'r_shift4_obs_err',\n",
       " 'r_shift5_obs',\n",
       " 'r_shift5_obs_err',\n",
       " 'r_shift6_obs',\n",
       " 'r_shift6_obs_err',\n",
       " 'r_shift7_obs',\n",
       " 'r_shift7_obs_err',\n",
       " 'r_shift8_obs',\n",
       " 'r_shift8_obs_err',\n",
       " 'r_shift9_obs',\n",
       " 'r_shift9_obs_err',\n",
       " 'r_widening0_obs',\n",
       " 'r_widening0_obs_err',\n",
       " 'r_widening1_obs',\n",
       " 'r_widening1_obs_err',\n",
       " 'r_widening2_obs',\n",
       " 'r_widening2_obs_err',\n",
       " 'r_widening3_obs',\n",
       " 'r_widening3_obs_err',\n",
       " 'r_widening4_obs',\n",
       " 'r_widening4_obs_err',\n",
       " 'r_widening5_obs',\n",
       " 'r_widening5_obs_err',\n",
       " 'r_widening6_obs',\n",
       " 'r_widening6_obs_err',\n",
       " 'r_widening7_obs',\n",
       " 'r_widening7_obs_err',\n",
       " 'r_widening8_obs',\n",
       " 'r_widening8_obs_err',\n",
       " 'r_widening9_obs',\n",
       " 'r_widening9_obs_err',\n",
       " 'r_skewing0_obs',\n",
       " 'r_skewing0_obs_err',\n",
       " 'r_skewing1_obs',\n",
       " 'r_skewing1_obs_err',\n",
       " 'r_skewing2_obs',\n",
       " 'r_skewing2_obs_err',\n",
       " 'r_skewing3_obs',\n",
       " 'r_skewing3_obs_err',\n",
       " 'r_skewing4_obs',\n",
       " 'r_skewing4_obs_err',\n",
       " 'r_skewing5_obs',\n",
       " 'r_skewing5_obs_err',\n",
       " 'r_skewing6_obs',\n",
       " 'r_skewing6_obs_err',\n",
       " 'r_skewing7_obs',\n",
       " 'r_skewing7_obs_err',\n",
       " 'r_skewing8_obs',\n",
       " 'r_skewing8_obs_err',\n",
       " 'r_skewing9_obs',\n",
       " 'r_skewing9_obs_err',\n",
       " 'r_softening0_obs',\n",
       " 'r_softening0_obs_err',\n",
       " 'r_softening1_obs',\n",
       " 'r_softening1_obs_err',\n",
       " 'r_softening2_obs',\n",
       " 'r_softening2_obs_err',\n",
       " 'r_softening3_obs',\n",
       " 'r_softening3_obs_err',\n",
       " 'r_softening4_obs',\n",
       " 'r_softening4_obs_err',\n",
       " 'r_softening5_obs',\n",
       " 'r_softening5_obs_err',\n",
       " 'r_softening6_obs',\n",
       " 'r_softening6_obs_err',\n",
       " 'r_softening7_obs',\n",
       " 'r_softening7_obs_err',\n",
       " 'r_softening8_obs',\n",
       " 'r_softening8_obs_err',\n",
       " 'r_softening9_obs',\n",
       " 'r_softening9_obs_err',\n",
       " 'CoaddedPdz_50_r',\n",
       " 'CoaddedPdz_50_r_shift0',\n",
       " 'CoaddedPdz_50_r_shift1',\n",
       " 'CoaddedPdz_50_r_shift2',\n",
       " 'CoaddedPdz_50_r_shift3',\n",
       " 'CoaddedPdz_50_r_shift4',\n",
       " 'CoaddedPdz_50_r_shift5',\n",
       " 'CoaddedPdz_50_r_shift6',\n",
       " 'CoaddedPdz_50_r_shift7',\n",
       " 'CoaddedPdz_50_r_shift8',\n",
       " 'CoaddedPdz_50_r_shift9',\n",
       " 'CoaddedPdz_50_r_widening0',\n",
       " 'CoaddedPdz_50_r_widening1',\n",
       " 'CoaddedPdz_50_r_widening2',\n",
       " 'CoaddedPdz_50_r_widening3',\n",
       " 'CoaddedPdz_50_r_widening4',\n",
       " 'CoaddedPdz_50_r_widening5',\n",
       " 'CoaddedPdz_50_r_widening6',\n",
       " 'CoaddedPdz_50_r_widening7',\n",
       " 'CoaddedPdz_50_r_widening8',\n",
       " 'CoaddedPdz_50_r_widening9',\n",
       " 'CoaddedPdz_50_r_skewing0',\n",
       " 'CoaddedPdz_50_r_skewing1',\n",
       " 'CoaddedPdz_50_r_skewing2',\n",
       " 'CoaddedPdz_50_r_skewing3',\n",
       " 'CoaddedPdz_50_r_skewing4',\n",
       " 'CoaddedPdz_50_r_skewing5',\n",
       " 'CoaddedPdz_50_r_skewing6',\n",
       " 'CoaddedPdz_50_r_skewing7',\n",
       " 'CoaddedPdz_50_r_skewing8',\n",
       " 'CoaddedPdz_50_r_skewing9',\n",
       " 'CoaddedPdz_50_r_softening0',\n",
       " 'CoaddedPdz_50_r_softening1',\n",
       " 'CoaddedPdz_50_r_softening2',\n",
       " 'CoaddedPdz_50_r_softening3',\n",
       " 'CoaddedPdz_50_r_softening4',\n",
       " 'CoaddedPdz_50_r_softening5',\n",
       " 'CoaddedPdz_50_r_softening6',\n",
       " 'CoaddedPdz_50_r_softening7',\n",
       " 'CoaddedPdz_50_r_softening8',\n",
       " 'CoaddedPdz_50_r_softening9']"
      ]
     },
     "execution_count": 4,
     "metadata": {},
     "output_type": "execute_result"
    }
   ],
   "source": [
    "merged.colnames"
   ]
  },
  {
   "cell_type": "markdown",
   "metadata": {},
   "source": [
    "So we can see the columns include the median resulting from using different modified filters."
   ]
  },
  {
   "cell_type": "code",
   "execution_count": 5,
   "metadata": {},
   "outputs": [],
   "source": [
    "import itertools"
   ]
  },
  {
   "cell_type": "code",
   "execution_count": 6,
   "metadata": {},
   "outputs": [],
   "source": [
    "all_filters = list(\n",
    "    map(lambda a: 'r_{}{}'.format(*a), itertools.product(['shift', 'widening', 'skewing', 'softening'], range(10)))\n",
    ")\n",
    "all_filters.append('r')"
   ]
  },
  {
   "cell_type": "code",
   "execution_count": 7,
   "metadata": {},
   "outputs": [],
   "source": [
    "errors = {}\n",
    "for f_name in all_filters:\n",
    "    f_err = merged[f'CoaddedPdz_50_{f_name}'] - merged['z_true']\n",
    "    errors[f_name] = f_err[np.isnan(f_err) == False]"
   ]
  },
  {
   "cell_type": "code",
   "execution_count": 9,
   "metadata": {},
   "outputs": [
    {
     "data": {
      "image/png": "[encoded data removed]",
      "text/plain": [
       "<matplotlib.figure.Figure at 0x7febdc05f400>"
      ]
     },
     "metadata": {},
     "output_type": "display_data"
    }
   ],
   "source": [
    "plt.rcParams['figure.figsize'] = [15, 10]\n",
    "plt.grid(color='lightgrey', linestyle='-', linewidth=1)\n",
    "_ = plt.boxplot(list(errors.values()), 0, '', vert=False, labels=list(errors.keys()))"
   ]
  }
 ],
 "metadata": {
  "kernelspec": {
   "display_name": "Python 3",
   "language": "python",
   "name": "python3"
  },
  "language_info": {
   "codemirror_mode": {
    "name": "ipython",
    "version": 3
   },
   "file_extension": ".py",
   "mimetype": "text/x-python",
   "name": "python",
   "nbconvert_exporter": "python",
   "pygments_lexer": "ipython3",
   "version": "3.6.5"
  }
 },
 "nbformat": 4,
 "nbformat_minor": 2
}
