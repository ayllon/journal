{
 "cells": [
  {
   "cell_type": "code",
   "execution_count": 1,
   "metadata": {},
   "outputs": [],
   "source": [
    "import numpy as np\n",
    "from astropy.table import Table"
   ]
  },
  {
   "cell_type": "markdown",
   "metadata": {},
   "source": [
    "Implemented the first try of using alternative weights. Running over 10k objects, regular `r`, no shift correction."
   ]
  },
  {
   "cell_type": "code",
   "execution_count": 2,
   "metadata": {},
   "outputs": [
    {
     "name": "stderr",
     "output_type": "stream",
     "text": [
      "WARNING: hdu= was not specified but multiple tables are present, reading in first available table (hdu=1) [astropy.io.fits.connect]\n"
     ]
    }
   ],
   "source": [
    "r = Table.read('/home/aalvarez/Work/Data/coupon/fluxes_COSMOS15_test_with_means_r_float32.fits')"
   ]
  },
  {
   "cell_type": "code",
   "execution_count": 3,
   "metadata": {},
   "outputs": [],
   "source": [
    "usedAlternative = r[r['AlternativeWeightFlag'] == True]"
   ]
  },
  {
   "cell_type": "code",
   "execution_count": 4,
   "metadata": {},
   "outputs": [
    {
     "data": {
      "text/plain": [
       "56"
      ]
     },
     "execution_count": 4,
     "metadata": {},
     "output_type": "execute_result"
    }
   ],
   "source": [
    "len(usedAlternative)"
   ]
  },
  {
   "cell_type": "markdown",
   "metadata": {},
   "source": [
    "Let's see how far are they."
   ]
  },
  {
   "cell_type": "code",
   "execution_count": 5,
   "metadata": {},
   "outputs": [],
   "source": [
    "f_err = usedAlternative['CoaddedPdz_50'] - usedAlternative['z_true']\n",
    "f_err = f_err[np.isnan(f_err) == False]"
   ]
  },
  {
   "cell_type": "code",
   "execution_count": 6,
   "metadata": {},
   "outputs": [],
   "source": [
    "import matplotlib.pyplot as plt\n",
    "%matplotlib inline  \n",
    "plt.rcParams['figure.figsize'] = [15, 10]"
   ]
  },
  {
   "cell_type": "code",
   "execution_count": 7,
   "metadata": {},
   "outputs": [
    {
     "data": {
      "image/png": "[encoded data removed]",
      "text/plain": [
       "<matplotlib.figure.Figure at 0x7f3f161a4358>"
      ]
     },
     "metadata": {},
     "output_type": "display_data"
    }
   ],
   "source": [
    "plt.grid(color='lightgrey', linestyle='-', linewidth=1)\n",
    "_ = plt.boxplot([f_err.data])"
   ]
  },
  {
   "cell_type": "markdown",
   "metadata": {},
   "source": [
    "However, there are still some NaN... :/"
   ]
  },
  {
   "cell_type": "code",
   "execution_count": 8,
   "metadata": {},
   "outputs": [],
   "source": [
    "nan_entries = usedAlternative[np.isnan(usedAlternative['CoaddedPdz_50'])]"
   ]
  },
  {
   "cell_type": "code",
   "execution_count": 9,
   "metadata": {},
   "outputs": [
    {
     "data": {
      "text/html": [
       "&lt;Table length=5&gt;\n",
       "<table id=\"table139908930489312\" class=\"table-striped table-bordered table-condensed\">\n",
       "<thead><tr><th>CoaddedPdz [601]</th><th>CoaddedPdz_25</th><th>CoaddedPdz_50</th><th>CoaddedPdz_mc [100]</th><th>AlternativeWeightFlag</th><th>mean_u</th><th>mean_u_ERR</th><th>mean_g</th><th>mean_g_ERR</th><th>mean_r</th><th>mean_r_ERR</th><th>mean_i</th><th>mean_i_ERR</th><th>mean_z</th><th>mean_z_ERR</th><th>mean_vis</th><th>mean_vis_ERR</th><th>mean_Y</th><th>mean_Y_ERR</th><th>mean_J</th><th>mean_J_ERR</th><th>mean_H</th><th>mean_H_ERR</th><th>NeighborIDs [30]</th><th>NeighborWeights [30]</th><th>ID</th><th>u</th><th>g</th><th>r</th><th>i</th><th>z</th><th>vis</th><th>Y</th><th>J</th><th>H</th><th>r_shift0</th><th>r_shift1</th><th>r_shift2</th><th>r_shift3</th><th>r_shift4</th><th>r_shift5</th><th>r_shift6</th><th>r_shift7</th><th>r_shift8</th><th>r_shift9</th><th>r_widening0</th><th>r_widening1</th><th>r_widening2</th><th>r_widening3</th><th>r_widening4</th><th>r_widening5</th><th>r_widening6</th><th>r_widening7</th><th>r_widening8</th><th>r_widening9</th><th>r_skewing0</th><th>r_skewing1</th><th>r_skewing2</th><th>r_skewing3</th><th>r_skewing4</th><th>r_skewing5</th><th>r_skewing6</th><th>r_skewing7</th><th>r_skewing8</th><th>r_skewing9</th><th>r_softening0</th><th>r_softening1</th><th>r_softening2</th><th>r_softening3</th><th>r_softening4</th><th>r_softening5</th><th>r_softening6</th><th>r_softening7</th><th>r_softening8</th><th>r_softening9</th><th>ra</th><th>dec</th><th>z_true</th><th>has_spec_z</th><th>weight</th><th>radius</th><th>r_shift7_obs_mag_err</th><th>r_widening8_obs_mag</th><th>r_skewing9_obs_err</th><th>r_softening1_obs_mag</th><th>r_softening5_obs</th><th>r_softening8_obs_err</th><th>r_skewing3_obs_mag_err</th><th>r_shift0_obs_mag_err</th><th>r_softening9_obs_err</th><th>r_skewing8_obs_err</th><th>r_shift1_obs_err</th><th>r_skewing0_obs</th><th>r_shift9_obs_err</th><th>r_skewing6_obs_mag</th><th>i_obs_mag</th><th>r_widening0_obs_err</th><th>r_softening0_obs</th><th>r_widening7_obs_mag</th><th>r_skewing5_obs_mag</th><th>J_obs_mag_err</th><th>i_obs</th><th>r_softening1_obs</th><th>r_skewing8_obs_mag</th><th>r_softening4_obs_mag_err</th><th>z_obs_mag</th><th>r_widening6_obs_mag_err</th><th>r_softening5_obs_err</th><th>r_skewing1_obs</th><th>r_shift3_obs_mag</th><th>r_widening8_obs_mag_err</th><th>r_widening3_obs_mag</th><th>r_widening3_obs_mag_err</th><th>r_skewing2_obs_err</th><th>r_softening4_obs_mag</th><th>r_widening6_obs_mag</th><th>r_skewing6_obs_err</th><th>r_softening3_obs_err</th><th>r_widening8_obs</th><th>r_skewing4_obs_mag_err</th><th>r_softening0_obs_mag</th><th>r_shift0_obs</th><th>Y_obs_mag</th><th>r_skewing5_obs_err</th><th>r_shift6_obs_mag_err</th><th>g_obs_mag</th><th>r_skewing1_obs_mag</th><th>r_softening0_obs_mag_err</th><th>g_obs</th><th>r_softening1_obs_mag_err</th><th>u_obs_mag_err</th><th>r_shift7_obs</th><th>r_widening4_obs_mag_err</th><th>i_obs_mag_err</th><th>r_obs</th><th>r_obs_err</th><th>r_widening0_obs_mag</th><th>r_widening6_obs_err</th><th>r_softening5_obs_mag</th><th>r_widening5_obs_mag</th><th>r_softening5_obs_mag_err</th><th>r_softening7_obs_err</th><th>r_widening5_obs_err</th><th>r_skewing7_obs_err</th><th>r_widening4_obs</th><th>r_softening6_obs_err</th><th>H_obs_mag</th><th>r_widening6_obs</th><th>g_obs_err</th><th>r_softening8_obs_mag_err</th><th>r_skewing0_obs_mag</th><th>r_widening5_obs_mag_err</th><th>r_softening2_obs_mag_err</th><th>H_obs_mag_err</th><th>r_widening9_obs</th><th>r_skewing1_obs_mag_err</th><th>r_softening6_obs_mag</th><th>r_skewing9_obs</th><th>r_shift0_obs_err</th><th>vis_obs_mag_err</th><th>r_shift5_obs_err</th><th>r_widening2_obs_err</th><th>r_widening8_obs_err</th><th>r_skewing8_obs_mag_err</th><th>r_widening3_obs</th><th>r_skewing6_obs_mag_err</th><th>r_softening9_obs</th><th>r_skewing3_obs_err</th><th>r_skewing0_obs_mag_err</th><th>r_shift8_obs_mag_err</th><th>r_widening1_obs_err</th><th>r_widening2_obs_mag_err</th><th>r_softening6_obs</th><th>r_widening2_obs</th><th>r_shift8_obs_err</th><th>r_widening2_obs_mag</th><th>r_skewing8_obs</th><th>r_softening3_obs_mag</th><th>r_skewing3_obs</th><th>r_shift2_obs_err</th><th>r_skewing7_obs</th><th>r_skewing7_obs_mag</th><th>r_softening0_obs_err</th><th>r_softening7_obs_mag_err</th><th>r_shift6_obs</th><th>r_softening3_obs_mag_err</th><th>r_skewing1_obs_err</th><th>r_shift3_obs_err</th><th>r_shift8_obs</th><th>r_skewing4_obs_mag</th><th>r_shift6_obs_mag</th><th>r_shift4_obs_err</th><th>r_softening4_obs</th><th>r_shift1_obs_mag_err</th><th>r_shift5_obs_mag_err</th><th>r_skewing4_obs_err</th><th>r_skewing0_obs_err</th><th>r_shift9_obs_mag_err</th><th>r_skewing4_obs</th><th>r_shift9_obs</th><th>J_obs</th><th>r_shift9_obs_mag</th><th>r_softening8_obs_mag</th><th>r_shift5_obs_mag</th><th>r_softening4_obs_err</th><th>r_widening7_obs_err</th><th>r_widening9_obs_mag_err</th><th>H_obs_err</th><th>r_widening9_obs_mag</th><th>z_obs_mag_err</th><th>r_obs_mag</th><th>vis_obs</th><th>Y_obs_err</th><th>z_obs</th><th>Y_obs_mag_err</th><th>r_softening2_obs</th><th>r_shift4_obs</th><th>u_obs_err</th><th>r_softening3_obs</th><th>r_softening6_obs_mag_err</th><th>r_shift6_obs_err</th><th>r_skewing9_obs_mag</th><th>r_shift4_obs_mag_err</th><th>vis_obs_mag</th><th>r_shift3_obs_mag_err</th><th>r_widening4_obs_err</th><th>r_shift1_obs_mag</th><th>J_obs_err</th><th>H_obs</th><th>r_softening1_obs_err</th><th>r_softening2_obs_mag</th><th>r_shift8_obs_mag</th><th>r_shift2_obs_mag_err</th><th>u_obs_mag</th><th>g_obs_mag_err</th><th>r_shift2_obs_mag</th><th>Y_obs</th><th>z_obs_err</th><th>r_softening9_obs_mag</th><th>r_skewing5_obs</th><th>r_shift3_obs</th><th>r_widening4_obs_mag</th><th>J_obs_mag</th><th>r_widening1_obs</th><th>r_widening0_obs</th><th>r_shift5_obs</th><th>r_softening9_obs_mag_err</th><th>r_shift4_obs_mag</th><th>u_obs</th><th>r_shift0_obs_mag</th><th>r_skewing2_obs_mag</th><th>r_widening3_obs_err</th><th>vis_obs_err</th><th>r_widening1_obs_mag_err</th><th>r_shift7_obs_err</th><th>r_shift2_obs</th><th>r_skewing7_obs_mag_err</th><th>r_widening5_obs</th><th>r_softening7_obs_mag</th><th>r_widening9_obs_err</th><th>r_shift7_obs_mag</th><th>r_widening1_obs_mag</th><th>r_skewing2_obs_mag_err</th><th>r_softening2_obs_err</th><th>r_widening7_obs</th><th>i_obs_err</th><th>r_skewing5_obs_mag_err</th><th>r_widening7_obs_mag_err</th><th>r_skewing2_obs</th><th>r_skewing3_obs_mag</th><th>r_skewing9_obs_mag_err</th><th>r_skewing6_obs</th><th>r_widening0_obs_mag_err</th><th>r_softening8_obs</th><th>r_shift1_obs</th><th>r_obs_mag_err</th><th>r_softening7_obs</th><th>r_shift0_mean</th><th>r_shift1_mean</th><th>r_shift2_mean</th><th>r_shift3_mean</th><th>r_shift4_mean</th><th>r_shift5_mean</th><th>r_shift6_mean</th><th>r_shift7_mean</th><th>r_shift8_mean</th><th>r_shift9_mean</th><th>r_widening0_mean</th><th>r_widening1_mean</th><th>r_widening2_mean</th><th>r_widening3_mean</th><th>r_widening4_mean</th><th>r_widening5_mean</th><th>r_widening6_mean</th><th>r_widening7_mean</th><th>r_widening8_mean</th><th>r_widening9_mean</th><th>r_skewing0_mean</th><th>r_skewing1_mean</th><th>r_skewing2_mean</th><th>r_skewing3_mean</th><th>r_skewing4_mean</th><th>r_skewing5_mean</th><th>r_skewing6_mean</th><th>r_skewing7_mean</th><th>r_skewing8_mean</th><th>r_skewing9_mean</th><th>r_softening0_mean</th><th>r_softening1_mean</th><th>r_softening2_mean</th><th>r_softening3_mean</th><th>r_softening4_mean</th><th>r_softening5_mean</th><th>r_softening6_mean</th><th>r_softening7_mean</th><th>r_softening8_mean</th><th>r_softening9_mean</th></tr></thead>\n",
       "<thead><tr><th>float32</th><th>float32</th><th>float32</th><th>float32</th><th>bool</th><th>float32</th><th>float32</th><th>float32</th><th>float32</th><th>float32</th><th>float32</th><th>float32</th><th>float32</th><th>float32</th><th>float32</th><th>float32</th><th>float32</th><th>float32</th><th>float32</th><th>float32</th><th>float32</th><th>float32</th><th>float32</th><th>int64</th><th>float64</th><th>int64</th><th>float32</th><th>float32</th><th>float32</th><th>float32</th><th>float32</th><th>float32</th><th>float32</th><th>float32</th><th>float32</th><th>float32</th><th>float32</th><th>float32</th><th>float32</th><th>float32</th><th>float32</th><th>float32</th><th>float32</th><th>float32</th><th>float32</th><th>float32</th><th>float32</th><th>float32</th><th>float32</th><th>float32</th><th>float32</th><th>float32</th><th>float32</th><th>float32</th><th>float32</th><th>float32</th><th>float32</th><th>float32</th><th>float32</th><th>float32</th><th>float32</th><th>float32</th><th>float32</th><th>float32</th><th>float32</th><th>float32</th><th>float32</th><th>float32</th><th>float32</th><th>float32</th><th>float32</th><th>float32</th><th>float32</th><th>float32</th><th>float32</th><th>float64</th><th>float64</th><th>float32</th><th>int16</th><th>float64</th><th>float64</th><th>float32</th><th>float32</th><th>float32</th><th>float32</th><th>float32</th><th>float32</th><th>float32</th><th>float32</th><th>float32</th><th>float32</th><th>float32</th><th>float32</th><th>float32</th><th>float32</th><th>float32</th><th>float32</th><th>float32</th><th>float32</th><th>float32</th><th>float32</th><th>float32</th><th>float32</th><th>float32</th><th>float32</th><th>float32</th><th>float32</th><th>float32</th><th>float32</th><th>float32</th><th>float32</th><th>float32</th><th>float32</th><th>float32</th><th>float32</th><th>float32</th><th>float32</th><th>float32</th><th>float32</th><th>float32</th><th>float32</th><th>float32</th><th>float32</th><th>float32</th><th>float32</th><th>float32</th><th>float32</th><th>float32</th><th>float32</th><th>float32</th><th>float32</th><th>float32</th><th>float32</th><th>float32</th><th>float32</th><th>float32</th><th>float32</th><th>float32</th><th>float32</th><th>float32</th><th>float32</th><th>float32</th><th>float32</th><th>float32</th><th>float32</th><th>float32</th><th>float32</th><th>float32</th><th>float32</th><th>float32</th><th>float32</th><th>float32</th><th>float32</th><th>float32</th><th>float32</th><th>float32</th><th>float32</th><th>float32</th><th>float32</th><th>float32</th><th>float32</th><th>float32</th><th>float32</th><th>float32</th><th>float32</th><th>float32</th><th>float32</th><th>float32</th><th>float32</th><th>float32</th><th>float32</th><th>float32</th><th>float32</th><th>float32</th><th>float32</th><th>float32</th><th>float32</th><th>float32</th><th>float32</th><th>float32</th><th>float32</th><th>float32</th><th>float32</th><th>float32</th><th>float32</th><th>float32</th><th>float32</th><th>float32</th><th>float32</th><th>float32</th><th>float32</th><th>float32</th><th>float32</th><th>float32</th><th>float32</th><th>float32</th><th>float32</th><th>float32</th><th>float32</th><th>float32</th><th>float32</th><th>float32</th><th>float32</th><th>float32</th><th>float32</th><th>float32</th><th>float32</th><th>float32</th><th>float32</th><th>float32</th><th>float32</th><th>float32</th><th>float32</th><th>float32</th><th>float32</th><th>float32</th><th>float32</th><th>float32</th><th>float32</th><th>float32</th><th>float32</th><th>float32</th><th>float32</th><th>float32</th><th>float32</th><th>float32</th><th>float32</th><th>float32</th><th>float32</th><th>float32</th><th>float32</th><th>float32</th><th>float32</th><th>float32</th><th>float32</th><th>float32</th><th>float32</th><th>float32</th><th>float32</th><th>float32</th><th>float32</th><th>float32</th><th>float32</th><th>float32</th><th>float32</th><th>float32</th><th>float32</th><th>float32</th><th>float32</th><th>float32</th><th>float32</th><th>float32</th><th>float32</th><th>float32</th><th>float32</th><th>float32</th><th>float32</th><th>float32</th><th>float32</th><th>float32</th><th>float32</th><th>float32</th><th>float32</th><th>float32</th><th>float32</th><th>float32</th><th>float32</th><th>float32</th><th>float32</th><th>float32</th><th>float32</th><th>float32</th><th>float32</th><th>float32</th><th>float32</th><th>float32</th><th>float32</th><th>float32</th><th>float32</th><th>float32</th><th>float32</th><th>float32</th><th>float32</th><th>float32</th><th>float32</th><th>float32</th><th>float32</th><th>float32</th><th>float32</th><th>float32</th><th>float32</th><th>float32</th><th>float32</th><th>float32</th><th>float32</th><th>float32</th><th>float32</th><th>float32</th><th>float32</th><th>float32</th><th>float32</th><th>float32</th><th>float32</th><th>float32</th><th>float32</th><th>float32</th><th>float32</th><th>float32</th><th>float32</th><th>float32</th><th>float32</th><th>float32</th><th>float32</th><th>float32</th><th>float32</th><th>float32</th><th>float32</th></tr></thead>\n",
       "<tr><td>nan .. nan</td><td>nan</td><td>nan</td><td>nan .. nan</td><td>True</td><td>nan</td><td>nan</td><td>nan</td><td>nan</td><td>nan</td><td>nan</td><td>nan</td><td>nan</td><td>nan</td><td>nan</td><td>nan</td><td>nan</td><td>nan</td><td>nan</td><td>nan</td><td>nan</td><td>nan</td><td>nan</td><td>226709 .. 979425</td><td>1.74381062454e-59 .. 4.70750561307e-266</td><td>226709</td><td>5.42452</td><td>10.3497</td><td>33.6123</td><td>58.0361</td><td>82.4123</td><td>43.524</td><td>109.046</td><td>149.211</td><td>186.577</td><td>31.9831</td><td>32.6035</td><td>32.4266</td><td>33.4734</td><td>34.1419</td><td>34.5696</td><td>34.312</td><td>35.3517</td><td>36.0272</td><td>36.4453</td><td>34.6211</td><td>34.3881</td><td>34.1734</td><td>33.9461</td><td>33.7218</td><td>33.5149</td><td>33.6171</td><td>34.5424</td><td>34.3342</td><td>34.1139</td><td>32.5477</td><td>32.781</td><td>33.0161</td><td>33.2532</td><td>33.4921</td><td>33.733</td><td>33.9758</td><td>34.2206</td><td>34.4674</td><td>34.7162</td><td>33.6123</td><td>33.8306</td><td>34.0514</td><td>33.949</td><td>33.9638</td><td>33.9303</td><td>33.8529</td><td>33.8401</td><td>33.8002</td><td>33.7539</td><td>149.569273882</td><td>1.62204121188</td><td>0.5006</td><td>0</td><td>1.77900928259</td><td>0.899010515213</td><td>0.00616786</td><td>20.0625</td><td>0.200028</td><td>20.0758</td><td>33.7037</td><td>0.198863</td><td>0.00646995</td><td>0.00667144</td><td>0.198804</td><td>0.199713</td><td>0.19733</td><td>32.1742</td><td>0.20221</td><td>20.0776</td><td>19.4941</td><td>0.199908</td><td>33.4027</td><td>20.0596</td><td>20.0909</td><td>0.0087486</td><td>57.8577</td><td>33.8591</td><td>20.053</td><td>0.00636361</td><td>19.1114</td><td>0.00641494</td><td>0.199029</td><td>32.9236</td><td>20.0891</td><td>0.00630986</td><td>20.0597</td><td>0.0063662</td><td>0.19786</td><td>20.0796</td><td>20.0872</td><td>0.199087</td><td>0.199053</td><td>34.2778</td><td>0.00643371</td><td>20.0905</td><td>31.9873</td><td>18.8025</td><td>0.198777</td><td>0.00631306</td><td>21.356</td><td>20.1062</td><td>0.00641566</td><td>10.4133</td><td>0.0063832</td><td>0.0515912</td><td>35.0773</td><td>0.00639933</td><td>0.00499207</td><td>33.3148</td><td>0.198623</td><td>20.054</td><td>0.198629</td><td>20.0808</td><td>20.0828</td><td>0.00636851</td><td>0.198914</td><td>0.198499</td><td>0.199399</td><td>33.2453</td><td>0.19893</td><td>18.2307</td><td>33.5057</td><td>0.11255</td><td>0.0063877</td><td>20.1312</td><td>0.00643027</td><td>0.00635079</td><td>0.00835131</td><td>34.6278</td><td>0.00654309</td><td>20.0692</td><td>35.0233</td><td>0.196531</td><td>0.00439663</td><td>0.199842</td><td>0.199339</td><td>0.199543</td><td>0.00629081</td><td>34.3665</td><td>0.00636185</td><td>33.7164</td><td>0.198164</td><td>0.00657999</td><td>0.00607788</td><td>0.199612</td><td>0.00633306</td><td>34.065</td><td>34.1847</td><td>0.201685</td><td>20.0654</td><td>34.5777</td><td>20.0734</td><td>33.1841</td><td>0.197103</td><td>34.1143</td><td>20.0677</td><td>0.198623</td><td>0.0063818</td><td>34.0646</td><td>0.00636578</td><td>0.197558</td><td>0.198446</td><td>36.0127</td><td>20.0852</td><td>20.0692</td><td>0.199298</td><td>33.7396</td><td>0.00657112</td><td>0.00627629</td><td>0.198469</td><td>0.197258</td><td>0.00602381</td><td>33.5681</td><td>36.4396</td><td>149.24</td><td>19.9961</td><td>20.0836</td><td>20.0417</td><td>0.199072</td><td>0.199808</td><td>0.00634169</td><td>1.43517</td><td>20.0514</td><td>0.003845</td><td>20.0934</td><td>43.5074</td><td>1.03886</td><td>82.3069</td><td>0.0103432</td><td>33.636</td><td>34.1099</td><td>0.257767</td><td>33.9339</td><td>0.00637991</td><td>0.199515</td><td>20.0391</td><td>0.00633763</td><td>19.8036</td><td>0.00643652</td><td>0.198763</td><td>20.1285</td><td>1.20234</td><td>185.231</td><td>0.198902</td><td>20.083</td><td>20.0089</td><td>0.00659934</td><td>22.1178</td><td>0.0118066</td><td>20.134</td><td>109.398</td><td>0.291863</td><td>20.0804</td><td>33.3924</td><td>33.4461</td><td>20.0957</td><td>18.4653</td><td>34.3054</td><td>34.547</td><td>34.9401</td><td>0.00639457</td><td>20.0678</td><td>5.16287</td><td>20.1376</td><td>20.1068</td><td>0.199049</td><td>0.176254</td><td>0.00630213</td><td>0.200833</td><td>32.0936</td><td>0.00632623</td><td>33.6429</td><td>20.0787</td><td>0.199263</td><td>20.0374</td><td>20.0616</td><td>0.00650642</td><td>0.199183</td><td>34.3684</td><td>0.266851</td><td>0.00639767</td><td>0.00628015</td><td>32.9066</td><td>20.0977</td><td>0.0062556</td><td>33.8049</td><td>0.006269</td><td>33.6161</td><td>32.2549</td><td>0.00641566</td><td>33.7704</td><td>6199.88</td><td>6222.1</td><td>6244.32</td><td>6266.55</td><td>6288.77</td><td>6310.99</td><td>6333.21</td><td>6355.44</td><td>6377.66</td><td>6399.88</td><td>6299.73</td><td>6299.73</td><td>6299.73</td><td>6299.73</td><td>6299.73</td><td>6299.73</td><td>6299.73</td><td>6299.73</td><td>6299.73</td><td>6299.73</td><td>6242.87</td><td>6255.54</td><td>6268.21</td><td>6280.88</td><td>6293.55</td><td>6306.21</td><td>6318.88</td><td>6331.55</td><td>6344.22</td><td>6356.89</td><td>6299.88</td><td>6299.88</td><td>6299.88</td><td>6299.88</td><td>6299.88</td><td>6299.88</td><td>6299.88</td><td>6299.88</td><td>6299.88</td><td>6299.88</td></tr>\n",
       "<tr><td>nan .. nan</td><td>nan</td><td>nan</td><td>nan .. nan</td><td>True</td><td>nan</td><td>nan</td><td>nan</td><td>nan</td><td>nan</td><td>nan</td><td>nan</td><td>nan</td><td>nan</td><td>nan</td><td>nan</td><td>nan</td><td>nan</td><td>nan</td><td>nan</td><td>nan</td><td>nan</td><td>nan</td><td>229857 .. 988248</td><td>8.50300825124e-58 .. 3.26343118787e-169</td><td>229857</td><td>1.2309</td><td>7.56184</td><td>31.8956</td><td>63.3648</td><td>88.3252</td><td>44.4645</td><td>113.638</td><td>152.365</td><td>182.656</td><td>29.4494</td><td>29.6636</td><td>30.3815</td><td>31.0718</td><td>31.7817</td><td>32.0096</td><td>32.6571</td><td>33.3125</td><td>33.7549</td><td>34.2147</td><td>31.4826</td><td>31.7288</td><td>32.428</td><td>32.2123</td><td>31.9995</td><td>31.8032</td><td>31.5955</td><td>31.3903</td><td>31.587</td><td>32.2224</td><td>30.4</td><td>30.7277</td><td>31.058</td><td>31.391</td><td>31.7267</td><td>32.0651</td><td>32.4062</td><td>32.7501</td><td>33.0969</td><td>33.4464</td><td>31.8956</td><td>31.645</td><td>31.7137</td><td>31.7637</td><td>31.6711</td><td>31.6889</td><td>31.6789</td><td>31.6263</td><td>31.6541</td><td>31.6216</td><td>149.667598981</td><td>1.62720696665</td><td>0.49</td><td>1</td><td>1.88034510612</td><td>0.980141758919</td><td>0.00679927</td><td>20.1523</td><td>0.208785</td><td>20.1387</td><td>31.4258</td><td>0.206595</td><td>0.00713417</td><td>0.00751596</td><td>0.206555</td><td>0.208359</td><td>0.204135</td><td>30.7245</td><td>0.209716</td><td>20.1216</td><td>19.4</td><td>0.206384</td><td>31.7529</td><td>20.1492</td><td>20.1341</td><td>0.00871508</td><td>63.0971</td><td>31.9536</td><td>20.1074</td><td>0.00708289</td><td>19.0357</td><td>0.00709665</td><td>0.206638</td><td>31.0059</td><td>20.1662</td><td>0.00709819</td><td>20.1236</td><td>0.00698624</td><td>0.205861</td><td>20.1463</td><td>20.1566</td><td>0.207517</td><td>0.206729</td><td>31.5563</td><td>0.00707281</td><td>20.1455</td><td>29.7923</td><td>18.7691</td><td>0.207099</td><td>0.00690917</td><td>21.722</td><td>20.1714</td><td>0.00704242</td><td>7.43375</td><td>0.00708763</td><td>0.202104</td><td>33.4022</td><td>0.00702387</td><td>0.00489194</td><td>31.7907</td><td>0.206891</td><td>20.1556</td><td>0.206523</td><td>20.1568</td><td>20.131</td><td>0.00707965</td><td>0.206561</td><td>0.206778</td><td>0.207937</td><td>31.8205</td><td>0.206625</td><td>18.2488</td><td>31.4316</td><td>0.112478</td><td>0.00708598</td><td>20.1813</td><td>0.007059</td><td>0.00707516</td><td>0.00849187</td><td>31.9149</td><td>0.00725929</td><td>20.153</td><td>33.4672</td><td>0.203869</td><td>0.00441991</td><td>0.207031</td><td>0.207543</td><td>0.206512</td><td>0.00683496</td><td>32.4026</td><td>0.00695239</td><td>31.4139</td><td>0.206272</td><td>0.00732308</td><td>0.00672744</td><td>0.206687</td><td>0.00694862</td><td>31.5352</td><td>32.5287</td><td>0.209159</td><td>20.1193</td><td>32.8867</td><td>20.1478</td><td>31.3349</td><td>0.205026</td><td>32.6308</td><td>20.1159</td><td>0.206891</td><td>0.00709102</td><td>32.7567</td><td>0.00706613</td><td>0.205454</td><td>0.205878</td><td>33.661</td><td>20.155</td><td>20.1117</td><td>0.206752</td><td>31.7308</td><td>0.00747144</td><td>0.00702207</td><td>0.206684</td><td>0.205049</td><td>0.00665472</td><td>31.4779</td><td>34.6775</td><td>155.03</td><td>20.0499</td><td>20.1511</td><td>20.1358</td><td>0.206616</td><td>0.206271</td><td>0.00698448</td><td>1.42866</td><td>20.14</td><td>0.00384548</td><td>20.1443</td><td>44.639</td><td>1.06859</td><td>88.2501</td><td>0.0102094</td><td>31.9936</td><td>31.8659</td><td>0.229133</td><td>31.6879</td><td>0.00708147</td><td>0.207823</td><td>20.0885</td><td>0.00706287</td><td>19.7757</td><td>0.00719373</td><td>0.207019</td><td>20.2219</td><td>1.22306</td><td>182.167</td><td>0.206584</td><td>20.1373</td><td>20.0822</td><td>0.00732671</td><td>23.7297</td><td>0.0161492</td><td>20.1864</td><td>112.81</td><td>0.312842</td><td>20.1572</td><td>32.0886</td><td>31.1544</td><td>20.1432</td><td>18.424</td><td>31.7282</td><td>31.4598</td><td>32.038</td><td>0.00709188</td><td>20.1417</td><td>1.16985</td><td>20.2147</td><td>20.1761</td><td>0.207279</td><td>0.181016</td><td>0.00707242</td><td>0.208622</td><td>30.5796</td><td>0.00689331</td><td>32.1824</td><td>20.1419</td><td>0.207292</td><td>20.0906</td><td>20.1464</td><td>0.00719633</td><td>0.206668</td><td>31.6453</td><td>0.285509</td><td>0.00701222</td><td>0.0071343</td><td>30.8722</td><td>20.1599</td><td>0.00677733</td><td>32.4606</td><td>0.00711731</td><td>31.5911</td><td>29.5969</td><td>0.00704242</td><td>31.8595</td><td>6199.88</td><td>6222.1</td><td>6244.32</td><td>6266.55</td><td>6288.77</td><td>6310.99</td><td>6333.21</td><td>6355.44</td><td>6377.66</td><td>6399.88</td><td>6299.73</td><td>6299.73</td><td>6299.73</td><td>6299.73</td><td>6299.73</td><td>6299.73</td><td>6299.73</td><td>6299.73</td><td>6299.73</td><td>6299.73</td><td>6242.87</td><td>6255.54</td><td>6268.21</td><td>6280.88</td><td>6293.55</td><td>6306.21</td><td>6318.88</td><td>6331.55</td><td>6344.22</td><td>6356.89</td><td>6299.88</td><td>6299.88</td><td>6299.88</td><td>6299.88</td><td>6299.88</td><td>6299.88</td><td>6299.88</td><td>6299.88</td><td>6299.88</td><td>6299.88</td></tr>\n",
       "<tr><td>nan .. nan</td><td>nan</td><td>nan</td><td>nan .. nan</td><td>True</td><td>nan</td><td>nan</td><td>nan</td><td>nan</td><td>nan</td><td>nan</td><td>nan</td><td>nan</td><td>nan</td><td>nan</td><td>nan</td><td>nan</td><td>nan</td><td>nan</td><td>nan</td><td>nan</td><td>nan</td><td>nan</td><td>230041 .. 994831</td><td>1.38077164651e-54 .. 2.75609064059e-172</td><td>230041</td><td>0.51905</td><td>3.90444</td><td>16.6074</td><td>39.3376</td><td>55.2245</td><td>25.8717</td><td>71.1232</td><td>95.2536</td><td>118.997</td><td>14.9767</td><td>15.5737</td><td>15.9821</td><td>15.8567</td><td>16.4648</td><td>17.0146</td><td>17.4381</td><td>17.3377</td><td>18.0862</td><td>18.6044</td><td>16.8165</td><td>16.7033</td><td>16.599</td><td>16.4886</td><td>16.3797</td><td>16.5902</td><td>16.5602</td><td>16.8797</td><td>16.7779</td><td>16.6703</td><td>15.7078</td><td>15.9049</td><td>16.1036</td><td>16.3039</td><td>16.5058</td><td>16.7094</td><td>16.9146</td><td>17.1215</td><td>17.33</td><td>17.5403</td><td>16.6074</td><td>16.6732</td><td>16.7098</td><td>16.6447</td><td>16.6816</td><td>16.6793</td><td>16.6589</td><td>16.6862</td><td>16.6851</td><td>16.6804</td><td>149.624842151</td><td>1.62633161932</td><td>0.5662</td><td>1</td><td>2.26317000389</td><td>0.769196605682</td><td>0.00993914</td><td>20.8477</td><td>0.159043</td><td>20.8543</td><td>16.5718</td><td>0.157672</td><td>0.0104587</td><td>0.011229</td><td>0.157665</td><td>0.158707</td><td>0.155874</td><td>15.6642</td><td>0.160732</td><td>20.8138</td><td>19.9121</td><td>0.157884</td><td>16.4548</td><td>20.8156</td><td>20.8483</td><td>0.0110147</td><td>39.3708</td><td>16.5303</td><td>20.7825</td><td>0.0102615</td><td>19.5398</td><td>0.0103239</td><td>0.157663</td><td>15.7484</td><td>20.8918</td><td>0.0102126</td><td>20.867</td><td>0.0103612</td><td>0.156734</td><td>20.842</td><td>20.8598</td><td>0.158041</td><td>0.157607</td><td>16.6307</td><td>0.0103522</td><td>20.8593</td><td>15.0625</td><td>19.2609</td><td>0.157712</td><td>0.00989186</td><td>22.4063</td><td>20.9069</td><td>0.0102996</td><td>3.9579</td><td>0.0102658</td><td>0.369006</td><td>17.1703</td><td>0.0104184</td><td>0.0061947</td><td>16.4523</td><td>0.157547</td><td>20.8276</td><td>0.157471</td><td>20.8516</td><td>20.8481</td><td>0.0102627</td><td>0.157674</td><td>0.15752</td><td>0.158373</td><td>16.5451</td><td>0.15763</td><td>18.7046</td><td>16.4467</td><td>0.0860797</td><td>0.0102598</td><td>20.9127</td><td>0.0103084</td><td>0.0102471</td><td>0.0105012</td><td>16.5633</td><td>0.010677</td><td>20.8605</td><td>17.4416</td><td>0.154899</td><td>0.00583218</td><td>0.158202</td><td>0.157534</td><td>0.157822</td><td>0.00994275</td><td>16.3385</td><td>0.0101442</td><td>16.7277</td><td>0.157058</td><td>0.0107888</td><td>0.00959937</td><td>0.157702</td><td>0.0103039</td><td>16.4366</td><td>16.6378</td><td>0.159911</td><td>20.8473</td><td>17.6604</td><td>20.8347</td><td>16.0829</td><td>0.156537</td><td>17.1164</td><td>20.8165</td><td>0.157547</td><td>0.0102592</td><td>17.6518</td><td>0.0102804</td><td>0.156412</td><td>0.156334</td><td>17.9941</td><td>20.8661</td><td>20.783</td><td>0.157318</td><td>16.7192</td><td>0.0108665</td><td>0.0100948</td><td>0.157384</td><td>0.156092</td><td>0.00937985</td><td>16.3509</td><td>18.1911</td><td>97.1204</td><td>20.7504</td><td>20.8589</td><td>20.8299</td><td>0.157667</td><td>0.157985</td><td>0.0102673</td><td>1.15097</td><td>20.8521</td><td>0.00483832</td><td>20.8594</td><td>25.8818</td><td>0.844563</td><td>55.4704</td><td>0.0128923</td><td>16.4577</td><td>16.3248</td><td>0.176414</td><td>16.832</td><td>0.0102731</td><td>0.15888</td><td>20.796</td><td>0.0103736</td><td>20.3675</td><td>0.0107041</td><td>0.15718</td><td>20.9137</td><td>0.966371</td><td>119.716</td><td>0.157653</td><td>20.8591</td><td>20.7622</td><td>0.0106339</td><td>25.3483</td><td>0.023936</td><td>20.898</td><td>71.7196</td><td>0.246103</td><td>20.8414</td><td>16.6222</td><td>15.9685</td><td>20.8533</td><td>18.9317</td><td>16.8858</td><td>16.9411</td><td>16.906</td><td>0.0102621</td><td>20.8679</td><td>0.263434</td><td>20.9553</td><td>20.8877</td><td>0.157356</td><td>0.138978</td><td>0.0102505</td><td>0.158719</td><td>15.8785</td><td>0.0100427</td><td>16.6252</td><td>20.8557</td><td>0.157649</td><td>20.8131</td><td>20.8312</td><td>0.0105669</td><td>0.157712</td><td>17.1302</td><td>0.224449</td><td>0.0102474</td><td>0.0101616</td><td>16.0299</td><td>20.8841</td><td>0.00984434</td><td>17.1589</td><td>0.0101932</td><td>16.4603</td><td>15.6504</td><td>0.0102996</td><td>16.5094</td><td>6199.88</td><td>6222.1</td><td>6244.32</td><td>6266.55</td><td>6288.77</td><td>6310.99</td><td>6333.21</td><td>6355.44</td><td>6377.66</td><td>6399.88</td><td>6299.73</td><td>6299.73</td><td>6299.73</td><td>6299.73</td><td>6299.73</td><td>6299.73</td><td>6299.73</td><td>6299.73</td><td>6299.73</td><td>6299.73</td><td>6242.87</td><td>6255.54</td><td>6268.21</td><td>6280.88</td><td>6293.55</td><td>6306.21</td><td>6318.88</td><td>6331.55</td><td>6344.22</td><td>6356.89</td><td>6299.88</td><td>6299.88</td><td>6299.88</td><td>6299.88</td><td>6299.88</td><td>6299.88</td><td>6299.88</td><td>6299.88</td><td>6299.88</td><td>6299.88</td></tr>\n",
       "<tr><td>nan .. nan</td><td>nan</td><td>nan</td><td>nan .. nan</td><td>True</td><td>nan</td><td>nan</td><td>nan</td><td>nan</td><td>nan</td><td>nan</td><td>nan</td><td>nan</td><td>nan</td><td>nan</td><td>nan</td><td>nan</td><td>nan</td><td>nan</td><td>nan</td><td>nan</td><td>nan</td><td>nan</td><td>235297 .. 985519</td><td>3.25819939234e-76 .. 1.34907798526e-281</td><td>235297</td><td>1.20561</td><td>6.77053</td><td>27.142</td><td>52.2257</td><td>67.7231</td><td>36.9874</td><td>80.6718</td><td>101.08</td><td>118.711</td><td>25.0146</td><td>25.7041</td><td>26.5286</td><td>26.4471</td><td>27.0451</td><td>27.6948</td><td>27.9375</td><td>28.5474</td><td>29.1504</td><td>29.8108</td><td>27.6084</td><td>27.4226</td><td>27.2513</td><td>27.0701</td><td>27.2304</td><td>27.0634</td><td>27.6714</td><td>27.4917</td><td>27.3261</td><td>27.1507</td><td>25.9377</td><td>26.2016</td><td>26.4676</td><td>26.7357</td><td>27.006</td><td>27.2785</td><td>27.5532</td><td>27.8301</td><td>28.1093</td><td>28.3908</td><td>27.142</td><td>27.4778</td><td>27.3751</td><td>27.2857</td><td>27.3353</td><td>27.2849</td><td>27.2524</td><td>27.2651</td><td>27.2369</td><td>27.2282</td><td>150.327317005</td><td>1.63768612878</td><td>0.5191</td><td>0</td><td>1.57633727789</td><td>0.8470287323</td><td>0.00705031</td><td>20.321</td><td>0.185166</td><td>20.3008</td><td>27.5228</td><td>0.183578</td><td>0.00742667</td><td>0.00783332</td><td>0.183566</td><td>0.18478</td><td>0.181447</td><td>25.8192</td><td>0.187102</td><td>20.3049</td><td>19.6048</td><td>0.184091</td><td>27.5672</td><td>20.3003</td><td>20.3131</td><td>0.0107626</td><td>52.2489</td><td>27.5222</td><td>20.2754</td><td>0.00729674</td><td>19.3168</td><td>0.0072263</td><td>0.183644</td><td>26.2895</td><td>20.339</td><td>0.00729869</td><td>20.3181</td><td>0.00735351</td><td>0.182512</td><td>20.3178</td><td>20.2891</td><td>0.184015</td><td>0.183646</td><td>27.0152</td><td>0.0073674</td><td>20.299</td><td>25.0722</td><td>19.1317</td><td>0.183636</td><td>0.00717171</td><td>21.8407</td><td>20.3505</td><td>0.00733802</td><td>6.664</td><td>0.00726667</td><td>0.181594</td><td>28.2986</td><td>0.00731907</td><td>0.00524293</td><td>26.8997</td><td>0.183447</td><td>20.3132</td><td>0.184178</td><td>20.3008</td><td>20.3182</td><td>0.00730745</td><td>0.183617</td><td>0.183338</td><td>0.184396</td><td>27.0704</td><td>0.1836</td><td>18.7199</td><td>27.8209</td><td>0.100092</td><td>0.00731768</td><td>20.3701</td><td>0.00735497</td><td>0.00728831</td><td>0.0105872</td><td>26.9879</td><td>0.00754729</td><td>20.3146</td><td>28.6218</td><td>0.18048</td><td>0.00479038</td><td>0.18421</td><td>0.183598</td><td>0.183701</td><td>0.00713699</td><td>27.0875</td><td>0.00725088</td><td>27.3419</td><td>0.182884</td><td>0.00760868</td><td>0.00693514</td><td>0.183835</td><td>0.0073146</td><td>27.1747</td><td>27.0783</td><td>0.186204</td><td>20.3184</td><td>28.1734</td><td>20.3175</td><td>26.8225</td><td>0.182596</td><td>27.9082</td><td>20.2857</td><td>0.183447</td><td>0.00731167</td><td>28.0119</td><td>0.00730727</td><td>0.182141</td><td>0.182483</td><td>29.2571</td><td>20.3149</td><td>20.2816</td><td>0.183313</td><td>27.0941</td><td>0.00766405</td><td>0.00722146</td><td>0.183259</td><td>0.181773</td><td>0.00681421</td><td>27.166</td><td>29.6078</td><td>101.102</td><td>20.2215</td><td>20.3099</td><td>20.2896</td><td>0.183714</td><td>0.18393</td><td>0.00733614</td><td>1.15761</td><td>20.3221</td><td>0.00435247</td><td>20.3256</td><td>36.9037</td><td>0.903211</td><td>68.1217</td><td>0.0121556</td><td>27.24</td><td>27.2259</td><td>0.201651</td><td>27.1009</td><td>0.00731436</td><td>0.184544</td><td>20.2583</td><td>0.00735892</td><td>19.9823</td><td>0.00749125</td><td>0.183569</td><td>20.3899</td><td>1.00201</td><td>118.046</td><td>0.183911</td><td>20.312</td><td>20.2344</td><td>0.00747289</td><td>23.5673</td><td>0.0160504</td><td>20.3457</td><td>80.78</td><td>0.271495</td><td>20.3079</td><td>27.2127</td><td>26.5708</td><td>20.3188</td><td>18.8881</td><td>27.5339</td><td>27.2093</td><td>27.8071</td><td>0.00731952</td><td>20.3125</td><td>1.35851</td><td>20.402</td><td>20.3365</td><td>0.183347</td><td>0.163198</td><td>0.00727829</td><td>0.185381</td><td>26.4077</td><td>0.00719361</td><td>27.0854</td><td>20.3079</td><td>0.183459</td><td>20.2706</td><td>20.3003</td><td>0.00748663</td><td>0.183769</td><td>27.535</td><td>0.252202</td><td>0.00730881</td><td>0.00726374</td><td>26.6321</td><td>20.3288</td><td>0.007081</td><td>27.417</td><td>0.00723938</td><td>27.2912</td><td>25.3539</td><td>0.00733802</td><td>27.3415</td><td>6199.88</td><td>6222.1</td><td>6244.32</td><td>6266.55</td><td>6288.77</td><td>6310.99</td><td>6333.21</td><td>6355.44</td><td>6377.66</td><td>6399.88</td><td>6299.73</td><td>6299.73</td><td>6299.73</td><td>6299.73</td><td>6299.73</td><td>6299.73</td><td>6299.73</td><td>6299.73</td><td>6299.73</td><td>6299.73</td><td>6242.87</td><td>6255.54</td><td>6268.21</td><td>6280.88</td><td>6293.55</td><td>6306.21</td><td>6318.88</td><td>6331.55</td><td>6344.22</td><td>6356.89</td><td>6299.88</td><td>6299.88</td><td>6299.88</td><td>6299.88</td><td>6299.88</td><td>6299.88</td><td>6299.88</td><td>6299.88</td><td>6299.88</td><td>6299.88</td></tr>\n",
       "<tr><td>nan .. nan</td><td>nan</td><td>nan</td><td>nan .. nan</td><td>True</td><td>nan</td><td>nan</td><td>nan</td><td>nan</td><td>nan</td><td>nan</td><td>nan</td><td>nan</td><td>nan</td><td>nan</td><td>nan</td><td>nan</td><td>nan</td><td>nan</td><td>nan</td><td>nan</td><td>nan</td><td>nan</td><td>225920 .. 865664</td><td>1.74963024793e-116 .. 7.9715614954e-198</td><td>264345</td><td>1.82234</td><td>10.4649</td><td>38.6052</td><td>66.4601</td><td>87.2952</td><td>49.7149</td><td>112.562</td><td>149.481</td><td>177.356</td><td>36.8138</td><td>37.4214</td><td>37.5669</td><td>37.9641</td><td>38.4675</td><td>38.99</td><td>39.4551</td><td>40.5694</td><td>40.3013</td><td>40.9319</td><td>39.1497</td><td>38.8862</td><td>38.6434</td><td>38.3864</td><td>38.731</td><td>39.3332</td><td>39.0763</td><td>38.8226</td><td>38.5887</td><td>38.341</td><td>37.7393</td><td>37.929</td><td>38.1203</td><td>38.3131</td><td>38.5075</td><td>38.7034</td><td>38.9009</td><td>39.1001</td><td>39.3008</td><td>39.5032</td><td>38.6052</td><td>39.0225</td><td>38.7667</td><td>38.7731</td><td>38.7237</td><td>38.6554</td><td>38.6646</td><td>38.601</td><td>38.6045</td><td>38.5634</td><td>150.363250882</td><td>1.68233014924</td><td>0.3185</td><td>0</td><td>1.76774972677</td><td>0.724464726448</td><td>0.00501596</td><td>19.931</td><td>0.185983</td><td>19.9296</td><td>38.6763</td><td>0.184752</td><td>0.00522408</td><td>0.00537564</td><td>0.184696</td><td>0.185706</td><td>0.18312</td><td>37.8686</td><td>0.187922</td><td>19.9292</td><td>19.3453</td><td>0.1855</td><td>38.8957</td><td>19.9236</td><td>19.9283</td><td>0.0086148</td><td>66.3564</td><td>38.7388</td><td>19.9103</td><td>0.00518451</td><td>19.048</td><td>0.00515115</td><td>0.184822</td><td>37.8863</td><td>19.9577</td><td>0.00519743</td><td>19.9389</td><td>0.00521696</td><td>0.184086</td><td>19.9306</td><td>19.9236</td><td>0.185159</td><td>0.184984</td><td>38.6909</td><td>0.00520525</td><td>19.9252</td><td>36.9074</td><td>18.7661</td><td>0.184888</td><td>0.00511594</td><td>21.3407</td><td>19.9538</td><td>0.00519584</td><td>10.5617</td><td>0.00515621</td><td>0.11069</td><td>40.3761</td><td>0.00518381</td><td>0.00407595</td><td>38.3132</td><td>0.184753</td><td>19.9232</td><td>0.185399</td><td>19.9314</td><td>19.9143</td><td>0.00519104</td><td>0.184748</td><td>0.18575</td><td>0.185432</td><td>38.777</td><td>0.184835</td><td>18.2873</td><td>38.9545</td><td>0.100629</td><td>0.00519591</td><td>19.9543</td><td>0.0051272</td><td>0.00518041</td><td>0.00848788</td><td>38.5049</td><td>0.00526182</td><td>19.9297</td><td>39.7548</td><td>0.182276</td><td>0.00393363</td><td>0.185281</td><td>0.184806</td><td>0.184731</td><td>0.00513021</td><td>38.4085</td><td>0.00516767</td><td>38.4735</td><td>0.184352</td><td>0.00528074</td><td>0.00503954</td><td>0.185139</td><td>0.00519219</td><td>38.7368</td><td>38.739</td><td>0.187068</td><td>19.9296</td><td>39.4363</td><td>19.926</td><td>38.127</td><td>0.183322</td><td>39.362</td><td>19.9123</td><td>0.184753</td><td>0.00519625</td><td>39.3279</td><td>0.0051798</td><td>0.183822</td><td>0.183871</td><td>40.2138</td><td>19.9368</td><td>19.9132</td><td>0.184564</td><td>38.7034</td><td>0.00531284</td><td>0.00515927</td><td>0.184619</td><td>0.18356</td><td>0.00498454</td><td>38.4847</td><td>40.7715</td><td>148.541</td><td>19.8741</td><td>19.9382</td><td>19.9226</td><td>0.184916</td><td>0.185052</td><td>0.00522136</td><td>1.38655</td><td>19.9362</td><td>0.00322351</td><td>19.9416</td><td>49.6397</td><td>1.03394</td><td>87.2574</td><td>0.00997271</td><td>38.7765</td><td>38.4394</td><td>0.185793</td><td>38.8683</td><td>0.00519015</td><td>0.185917</td><td>19.9015</td><td>0.00520911</td><td>19.6604</td><td>0.00525834</td><td>0.184926</td><td>19.9535</td><td>1.1861</td><td>175.829</td><td>0.185326</td><td>19.9286</td><td>19.8891</td><td>0.00529808</td><td>23.0997</td><td>0.0104399</td><td>19.9705</td><td>113.125</td><td>0.259185</td><td>19.9371</td><td>38.7881</td><td>37.7496</td><td>19.9286</td><td>18.4704</td><td>38.8579</td><td>38.9696</td><td>38.9902</td><td>0.00519986</td><td>19.9381</td><td>2.08993</td><td>19.9822</td><td>19.9459</td><td>0.184453</td><td>0.180123</td><td>0.00516906</td><td>0.187432</td><td>37.3092</td><td>0.00514892</td><td>39.2916</td><td>19.9354</td><td>0.18439</td><td>19.8847</td><td>19.9263</td><td>0.00524294</td><td>0.184975</td><td>38.956</td><td>0.249506</td><td>0.00518644</td><td>0.00517509</td><td>38.1611</td><td>19.9469</td><td>0.00511152</td><td>38.7558</td><td>0.00514428</td><td>38.4336</td><td>37.8957</td><td>0.00519584</td><td>38.5331</td><td>6199.88</td><td>6222.1</td><td>6244.32</td><td>6266.55</td><td>6288.77</td><td>6310.99</td><td>6333.21</td><td>6355.44</td><td>6377.66</td><td>6399.88</td><td>6299.73</td><td>6299.73</td><td>6299.73</td><td>6299.73</td><td>6299.73</td><td>6299.73</td><td>6299.73</td><td>6299.73</td><td>6299.73</td><td>6299.73</td><td>6242.87</td><td>6255.54</td><td>6268.21</td><td>6280.88</td><td>6293.55</td><td>6306.21</td><td>6318.88</td><td>6331.55</td><td>6344.22</td><td>6356.89</td><td>6299.88</td><td>6299.88</td><td>6299.88</td><td>6299.88</td><td>6299.88</td><td>6299.88</td><td>6299.88</td><td>6299.88</td><td>6299.88</td><td>6299.88</td></tr>\n",
       "</table>"
      ],
      "text/plain": [
       "<Table length=5>\n",
       "CoaddedPdz [601] CoaddedPdz_25 ... r_softening8_mean r_softening9_mean\n",
       "    float32         float32    ...      float32           float32     \n",
       "---------------- ------------- ... ----------------- -----------------\n",
       "      nan .. nan           nan ...           6299.88           6299.88\n",
       "      nan .. nan           nan ...           6299.88           6299.88\n",
       "      nan .. nan           nan ...           6299.88           6299.88\n",
       "      nan .. nan           nan ...           6299.88           6299.88\n",
       "      nan .. nan           nan ...           6299.88           6299.88"
      ]
     },
     "execution_count": 9,
     "metadata": {},
     "output_type": "execute_result"
    }
   ],
   "source": [
    "nan_entries"
   ]
  },
  {
   "cell_type": "code",
   "execution_count": 10,
   "metadata": {},
   "outputs": [
    {
     "data": {
      "text/plain": [
       "array([  1.74381062e-059,   2.82273336e-245,   5.81898684e-190,\n",
       "         2.09795850e-184,   1.37315660e-232,   7.52849974e-255,\n",
       "         1.80770996e-126,   1.28939844e-220,   2.39081152e-200,\n",
       "         1.34076564e-230,   2.67678390e-276,   2.03599888e-181,\n",
       "         8.03893718e-233,   2.46668017e-234,   9.34855535e-210,\n",
       "         9.90718902e-236,   6.06593872e-291,   1.07905742e-270,\n",
       "         3.69154750e-217,   2.17474384e-146,   5.11750743e-270,\n",
       "         9.61408362e-263,   1.00770161e-096,   1.40944721e-276,\n",
       "         4.43130651e-245,   1.57279554e-149,   1.05764257e-216,\n",
       "         2.24767664e-145,   2.05587029e-285,   4.70750561e-266])"
      ]
     },
     "execution_count": 10,
     "metadata": {},
     "output_type": "execute_result"
    }
   ],
   "source": [
    "nan_entries['NeighborWeights'][0]"
   ]
  },
  {
   "cell_type": "markdown",
   "metadata": {},
   "source": [
    "Probably it is because here:\n",
    "\n",
    "```python\n",
    "self.__pdzs[catalog_i] += self.__current_ref_pdz[:, 1] * weight\n",
    "```\n",
    "\n",
    "If weight is sooo small, and the pdz is small enough too, it basically results in 0"
   ]
  },
  {
   "cell_type": "code",
   "execution_count": 11,
   "metadata": {},
   "outputs": [],
   "source": [
    "from nnpz.reference_sample.ReferenceSample import ReferenceSample"
   ]
  },
  {
   "cell_type": "code",
   "execution_count": 12,
   "metadata": {},
   "outputs": [],
   "source": [
    "ref = ReferenceSample('/home/aalvarez/Work/Data/dc3/ReferenceSample/')"
   ]
  },
  {
   "cell_type": "code",
   "execution_count": 13,
   "metadata": {},
   "outputs": [
    {
     "name": "stdout",
     "output_type": "stream",
     "text": [
      "226709\n",
      "1.74381062454e-59 <class 'numpy.float64'>\n"
     ]
    }
   ],
   "source": [
    "print(nan_entries['NeighborIDs'][0][0])\n",
    "print(nan_entries['NeighborWeights'][0][0], type(nan_entries['NeighborWeights'][0][0]))"
   ]
  },
  {
   "cell_type": "code",
   "execution_count": 14,
   "metadata": {},
   "outputs": [
    {
     "name": "stdout",
     "output_type": "stream",
     "text": [
      "<class 'numpy.float32'>\n",
      "[[ 0.  0.]\n",
      " [ 0.  0.]\n",
      " [ 0.  0.]\n",
      " ..., \n",
      " [ 0.  0.]\n",
      " [ 0.  0.]\n",
      " [ 0.  0.]]\n"
     ]
    }
   ],
   "source": [
    "pdz = ref.getPdzData(226709)\n",
    "print(type(pdz[0][0]))\n",
    "after = pdz * nan_entries['NeighborWeights'][0][0]\n",
    "print(after)"
   ]
  },
  {
   "cell_type": "code",
   "execution_count": 15,
   "metadata": {},
   "outputs": [
    {
     "data": {
      "text/plain": [
       "array([], dtype=float32)"
      ]
     },
     "execution_count": 15,
     "metadata": {},
     "output_type": "execute_result"
    }
   ],
   "source": [
    "after[after != 0]"
   ]
  },
  {
   "cell_type": "code",
   "execution_count": 16,
   "metadata": {},
   "outputs": [
    {
     "data": {
      "text/plain": [
       "12"
      ]
     },
     "execution_count": 16,
     "metadata": {},
     "output_type": "execute_result"
    }
   ],
   "source": [
    "sum(np.isnan(r['CoaddedPdz_50']))"
   ]
  },
  {
   "cell_type": "markdown",
   "metadata": {},
   "source": [
    "## Trying with float64 and casting back to float32 after normalization"
   ]
  },
  {
   "cell_type": "code",
   "execution_count": 18,
   "metadata": {},
   "outputs": [
    {
     "name": "stderr",
     "output_type": "stream",
     "text": [
      "WARNING: hdu= was not specified but multiple tables are present, reading in first available table (hdu=1) [astropy.io.fits.connect]\n"
     ]
    },
    {
     "data": {
      "text/plain": [
       "0"
      ]
     },
     "execution_count": 18,
     "metadata": {},
     "output_type": "execute_result"
    }
   ],
   "source": [
    "r64 = Table.read('/home/aalvarez/Work/Data/coupon/fluxes_COSMOS15_test_with_means_r.fits')\n",
    "sum(np.isnan(r64['CoaddedPdz_50']))"
   ]
  },
  {
   "cell_type": "markdown",
   "metadata": {},
   "source": [
    "We can see that there are no nans anymore! Also, there are no more complains during the execution."
   ]
  },
  {
   "cell_type": "code",
   "execution_count": 19,
   "metadata": {},
   "outputs": [
    {
     "data": {
      "text/plain": [
       "56"
      ]
     },
     "execution_count": 19,
     "metadata": {},
     "output_type": "execute_result"
    }
   ],
   "source": [
    "usedAlternative64 = r64[r64['AlternativeWeightFlag'] == True]\n",
    "len(usedAlternative64)"
   ]
  },
  {
   "cell_type": "code",
   "execution_count": 22,
   "metadata": {},
   "outputs": [
    {
     "data": {
      "image/png": "[encoded data removed]",
      "text/plain": [
       "<matplotlib.figure.Figure at 0x7f3f0bb69518>"
      ]
     },
     "metadata": {},
     "output_type": "display_data"
    }
   ],
   "source": [
    "f64_err = usedAlternative64['CoaddedPdz_50'] - usedAlternative64['z_true']\n",
    "plt.grid(color='lightgrey', linestyle='-', linewidth=1)\n",
    "_ = plt.boxplot([f64_err.data])"
   ]
  },
  {
   "cell_type": "markdown",
   "metadata": {},
   "source": [
    "Even looks better. We are not losing target entries, and the error doesn't get worse."
   ]
  },
  {
   "cell_type": "code",
   "execution_count": null,
   "metadata": {},
   "outputs": [],
   "source": []
  }
 ],
 "metadata": {
  "kernelspec": {
   "display_name": "Python 3",
   "language": "python",
   "name": "python3"
  },
  "language_info": {
   "codemirror_mode": {
    "name": "ipython",
    "version": 3
   },
   "file_extension": ".py",
   "mimetype": "text/x-python",
   "name": "python",
   "nbconvert_exporter": "python",
   "pygments_lexer": "ipython3",
   "version": "3.6.5"
  }
 },
 "nbformat": 4,
 "nbformat_minor": 2
}
