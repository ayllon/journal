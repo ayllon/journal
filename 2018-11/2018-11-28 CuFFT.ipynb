{
 "cells": [
  {
   "cell_type": "code",
   "execution_count": 1,
   "metadata": {},
   "outputs": [],
   "source": [
    "%matplotlib widget\n",
    "import numpy as np\n",
    "import matplotlib.pyplot as plt\n",
    "from astropy.table import Table"
   ]
  },
  {
   "cell_type": "code",
   "execution_count": 2,
   "metadata": {},
   "outputs": [],
   "source": [
    "bench_data = Table.read('/tmp/benchmark.csv')\n",
    "repeat = 50"
   ]
  },
  {
   "cell_type": "code",
   "execution_count": 3,
   "metadata": {},
   "outputs": [],
   "source": [
    "mean = bench_data.group_by(['Image', 'Kernel', 'Implementation']).groups.aggregate(np.mean)"
   ]
  },
  {
   "cell_type": "code",
   "execution_count": 4,
   "metadata": {},
   "outputs": [],
   "source": [
    "mean['Implementation'] = ['CuFFT' if 'CuFFT' in i else i.split('<')[0] for i in mean['Implementation']]"
   ]
  },
  {
   "cell_type": "code",
   "execution_count": 5,
   "metadata": {},
   "outputs": [
    {
     "data": {
      "application/vnd.jupyter.widget-view+json": {
       "model_id": "a9b39479130c4d92bf9c5e76202f29d9",
       "version_major": 2,
       "version_minor": 0
      },
      "text/plain": [
       "FigureCanvasNbAgg()"
      ]
     },
     "metadata": {},
     "output_type": "display_data"
    }
   ],
   "source": [
    "ref_img_size = 10\n",
    "ref_kernel_size = 45\n",
    "\n",
    "by_img_size = mean[mean['Image'] == ref_img_size]\n",
    "by_kernel_size = mean[mean['Kernel'] == ref_kernel_size]\n",
    "\n",
    "_, axs = plt.subplots(2, 1, figsize=(9, 9))\n",
    "\n",
    "for i in np.unique(mean['Implementation']):\n",
    "    krn_impl_subset = by_kernel_size[by_kernel_size['Implementation'] == i]\n",
    "    img_impl_subset = by_img_size[by_img_size['Implementation'] == i]\n",
    "        \n",
    "    axs[0].plot(krn_impl_subset['Image'], krn_impl_subset['Time']/repeat/1e6, '-o', label=i)\n",
    "    axs[1].plot(img_impl_subset['Kernel'], img_impl_subset['Time']/repeat/1e6, '-o', label=i)\n",
    "    \n",
    "axs[0].legend(); axs[1].legend()\n",
    "axs[0].set_xlabel('Image size'); axs[1].set_xlabel('Kernel size')\n",
    "axs[0].set_ylabel('ms'); axs[1].set_ylabel('ms')\n",
    "\n",
    "axs[0].set_title(f'Fixed kernel size {ref_kernel_size}')\n",
    "axs[1].set_title(f'Fixed image size {ref_img_size}')\n",
    "axs[0].grid(True)\n",
    "axs[1].grid(True)\n",
    "\n",
    "_ = plt.tight_layout()"
   ]
  },
  {
   "cell_type": "code",
   "execution_count": null,
   "metadata": {},
   "outputs": [],
   "source": []
  }
 ],
 "metadata": {
  "kernelspec": {
   "display_name": "Python 3",
   "language": "python",
   "name": "python3"
  },
  "language_info": {
   "codemirror_mode": {
    "name": "ipython",
    "version": 3
   },
   "file_extension": ".py",
   "mimetype": "text/x-python",
   "name": "python",
   "nbconvert_exporter": "python",
   "pygments_lexer": "ipython3",
   "version": "3.6.6"
  }
 },
 "nbformat": 4,
 "nbformat_minor": 2
}
