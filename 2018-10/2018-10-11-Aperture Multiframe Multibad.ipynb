{
 "cells": [
  {
   "cell_type": "code",
   "execution_count": 1,
   "metadata": {},
   "outputs": [],
   "source": [
    "%matplotlib widget\n",
    "import numpy as np\n",
    "import matplotlib.pyplot as plt\n",
    "from astropy.table import Table\n",
    "from astropy.io import fits\n",
    "from astropy.wcs import WCS\n",
    "from scipy.spatial import KDTree\n",
    "from matplotlib import colors\n",
    "import yaml"
   ]
  },
  {
   "cell_type": "code",
   "execution_count": 2,
   "metadata": {},
   "outputs": [],
   "source": [
    "# Custom code to load .list files\n",
    "import stuff"
   ]
  },
  {
   "cell_type": "markdown",
   "metadata": {},
   "source": [
    "# Auto Photometry, bands R, G and I"
   ]
  },
  {
   "cell_type": "markdown",
   "metadata": {},
   "source": [
    "## Configuration"
   ]
  },
  {
   "cell_type": "code",
   "execution_count": 3,
   "metadata": {},
   "outputs": [
    {
     "name": "stdout",
     "output_type": "stream",
     "text": [
      "measurement-config-file=/home/aalvarez/Work/Data/sim08/config.yaml\n",
      "output-properties=WorldCentroid,PixelCentroid,SourceIDs,SourceFlags,AperturePhotometry,AutoPhotometry\n",
      "#,MultiframeModelFitting\n",
      "detection-image=/home/aalvarez/Work/Data/sim08/sim08.fits\n",
      "weight-image=/home/aalvarez/Work/Data/sim08/sim08.weight.fits\n",
      "weight-type=weight\n",
      "detection-image-saturation=59000\n",
      "detection-image-gain=1\n",
      "detect-minarea=10\n",
      "partition-min-area=10\n",
      "threads-nb=4\n",
      "cellsize-value=32\n",
      "partition-multithreshold=true\n",
      "grouping-algorithm=SPLIT\n",
      "checkimage-residual=/home/aalvarez/Work/Data/sim08/mci_residual.fits\n",
      "checkimage-modelfitting=/home/aalvarez/Work/Data/sim08/mci_modelfitting.fits\n",
      "checkimage-background=/home/aalvarez/Work/Data/sim08/mci_background.fits\n",
      "checkimage-variance=/home/aalvarez/Work/Data/sim08/mci_variance.fits\n",
      "checkimage-segmentation=/home/aalvarez/Work/Data/sim08/mci_segmentation.fits\n",
      "checkimage-partition=/home/aalvarez/Work/Data/sim08/mci_partition.fits\n",
      "checkimage-filtered=/home/aalvarez/Work/Data/sim08/mci_filtered.fits\n",
      "checkimage-aperture=/home/aalvarez/Work/Data/sim08/mci_aperture.fits\n",
      "checkimage-auto-aperture=/home/aalvarez/Work/Data/sim08/mci_auto.fits\n",
      "\n",
      "output-file=/home/aalvarez/Work/Data/sim08/multiframe_output.fits\n",
      "\n",
      "model-fitting-iterations=1\n",
      "magnitude-zeropoint=26\n",
      "\n",
      "\n"
     ]
    }
   ],
   "source": [
    "print(open('/home/aalvarez/Work/Data/sim08/test_multiframe.config').read())"
   ]
  },
  {
   "cell_type": "code",
   "execution_count": 4,
   "metadata": {},
   "outputs": [
    {
     "name": "stdout",
     "output_type": "stream",
     "text": [
      "- measurements-group:\n",
      "    image-files:\n",
      "    - {path: /home/aalvarez/Work/Data/sim08/sim08_g_*.fits, psf-path: /home/aalvarez/Work/Data/sim08/sim08_g_*.psf}\n",
      "    name: g\n",
      "- measurements-group:\n",
      "    image-files:\n",
      "    - {path: /home/aalvarez/Work/Data/sim08/sim08_r_*.fits, psf-path: /home/aalvarez/Work/Data/sim08/sim08_r_*.psf}\n",
      "    name: r\n",
      "- measurements-group:\n",
      "    image-files:\n",
      "    - {path: /home/aalvarez/Work/Data/sim08/sim08_i_*.fits, psf-path: /home/aalvarez/Work/Data/sim08/sim08_i_*.psf}\n",
      "    name: i\n",
      "\n"
     ]
    }
   ],
   "source": [
    "multiframe_config = yaml.load(open('/home/aalvarez/Work/Data/sim08/config.yaml'))\n",
    "print(yaml.dump(multiframe_config))"
   ]
  },
  {
   "cell_type": "markdown",
   "metadata": {},
   "source": [
    "## Load simulation data"
   ]
  },
  {
   "cell_type": "code",
   "execution_count": 5,
   "metadata": {},
   "outputs": [],
   "source": [
    "r_stars, r_galaxies = stuff.parse_stuff_list('/home/aalvarez/Work/Data/sim08/sim08_r.list')\n",
    "g_stars, g_galaxies = stuff.parse_stuff_list('/home/aalvarez/Work/Data/sim08/sim08_g.list')\n",
    "i_stars, i_galaxies = stuff.parse_stuff_list('/home/aalvarez/Work/Data/sim08/sim08_i.list')"
   ]
  },
  {
   "cell_type": "markdown",
   "metadata": {},
   "source": [
    "## Display coadded image"
   ]
  },
  {
   "cell_type": "code",
   "execution_count": 6,
   "metadata": {},
   "outputs": [],
   "source": [
    "coadd_img = fits.open('/home/aalvarez/Work/Data/sim08/sim08.fits')[0]\n",
    "aperture_img = fits.open('/home/aalvarez/Work/Data/sim08/mci_auto.fits')[0]"
   ]
  },
  {
   "cell_type": "code",
   "execution_count": 7,
   "metadata": {},
   "outputs": [
    {
     "data": {
      "application/vnd.jupyter.widget-view+json": {
       "model_id": "169d9b1769f64afc8f876997596b3397",
       "version_major": 2,
       "version_minor": 0
      },
      "text/plain": [
       "FigureCanvasNbAgg()"
      ]
     },
     "metadata": {},
     "output_type": "display_data"
    },
    {
     "data": {
      "text/plain": [
       "Text(0.5,1,'Coadded image')"
      ]
     },
     "execution_count": 7,
     "metadata": {},
     "output_type": "execute_result"
    }
   ],
   "source": [
    "plt.figure(figsize=(15,15))\n",
    "plt.imshow(coadd_img.data, norm=colors.SymLogNorm(5), cmap=plt.get_cmap('Greys_r'))\n",
    "plt.title('Coadded image')"
   ]
  },
  {
   "cell_type": "markdown",
   "metadata": {},
   "source": [
    "### Build a KDTree with the source coordinates"
   ]
  },
  {
   "cell_type": "code",
   "execution_count": 8,
   "metadata": {},
   "outputs": [],
   "source": [
    "# We imagine the coordinates are the same for all simulations!\n",
    "assert(np.all(r_stars.ra == g_stars.ra) and np.all(r_stars.dec == g_stars.dec))\n",
    "assert(np.all(r_galaxies.ra == g_galaxies.ra) and np.all(r_galaxies.dec == g_galaxies.dec))\n",
    "assert(np.all(r_galaxies.ra == i_galaxies.ra) and np.all(r_galaxies.dec == i_galaxies.dec))\n",
    "\n",
    "stars_coords = np.stack([r_stars.ra, r_stars.dec]).T\n",
    "galaxies_coords = np.stack([r_galaxies.ra, r_galaxies.dec]).T\n",
    "all_coords = np.append(stars_coords, galaxies_coords, axis=0)\n",
    "all_kdtree = KDTree(all_coords)\n",
    "r_mags = np.append(r_stars.mag, r_galaxies.mag)\n",
    "g_mags = np.append(g_stars.mag, g_galaxies.mag)\n",
    "i_mags = np.append(i_stars.mag, i_galaxies.mag)\n",
    "\n",
    "n_stars = len(r_stars)\n",
    "n_galaxies = len(r_galaxies)"
   ]
  },
  {
   "cell_type": "markdown",
   "metadata": {},
   "source": [
    "### Load the output catalog"
   ]
  },
  {
   "cell_type": "code",
   "execution_count": 9,
   "metadata": {},
   "outputs": [],
   "source": [
    "output_catalog = Table.read('/home/aalvarez/Work/Data/sim08/multiframe_output.fits')"
   ]
  },
  {
   "cell_type": "markdown",
   "metadata": {},
   "source": [
    "Compute average magnitudes"
   ]
  },
  {
   "cell_type": "code",
   "execution_count": 10,
   "metadata": {},
   "outputs": [],
   "source": [
    "# This comes from sim09_*_sky.conf\n",
    "mag_zeropoint = 26.\n",
    "exp_time = 300."
   ]
  },
  {
   "cell_type": "code",
   "execution_count": 11,
   "metadata": {},
   "outputs": [
    {
     "name": "stderr",
     "output_type": "stream",
     "text": [
      "/home/aalvarez/.local/lib/python3.6/site-packages/ipykernel_launcher.py:8: RuntimeWarning: invalid value encountered in log10\n",
      "  \n"
     ]
    }
   ],
   "source": [
    "for i in range(10):\n",
    "    for b in ['r', 'g', 'i']:\n",
    "        auto_mag_cname = f'auto_mag_{b}_{i}'\n",
    "        flux_cname = f'auto_flux_{b}_{i}'\n",
    "        mag_cname = f'mag_{b}_{i}'\n",
    "        output_catalog[auto_mag_cname][output_catalog[auto_mag_cname] >= 99.] = np.nan\n",
    "        output_catalog[flux_cname][output_catalog[flux_cname] == 0.] = np.nan\n",
    "        output_catalog[mag_cname] = mag_zeropoint - 2.5 * np.log10(output_catalog[flux_cname] / exp_time)"
   ]
  },
  {
   "cell_type": "code",
   "execution_count": 12,
   "metadata": {},
   "outputs": [
    {
     "name": "stderr",
     "output_type": "stream",
     "text": [
      "/home/aalvarez/.local/lib/python3.6/site-packages/ipykernel_launcher.py:2: RuntimeWarning: Mean of empty slice\n",
      "  \n",
      "/home/aalvarez/.local/lib/python3.6/site-packages/ipykernel_launcher.py:3: RuntimeWarning: Mean of empty slice\n",
      "  This is separate from the ipykernel package so we can avoid doing imports until\n",
      "/home/aalvarez/.local/lib/python3.6/site-packages/ipykernel_launcher.py:4: RuntimeWarning: All-NaN slice encountered\n",
      "  after removing the cwd from sys.path.\n",
      "/home/aalvarez/.local/lib/python3.6/site-packages/ipykernel_launcher.py:5: RuntimeWarning: All-NaN slice encountered\n",
      "  \"\"\"\n"
     ]
    }
   ],
   "source": [
    "for b in ['r', 'g', 'i']:\n",
    "    output_catalog[f'auto_flux_{b}'] = np.nanmean(np.array([output_catalog[f'auto_flux_{b}_{i}'] for i in range(10)]), axis=0)\n",
    "    output_catalog[f'{b}_mag'] = np.nanmean(np.array([output_catalog[f'mag_{b}_{i}'] for i in range(10)]), axis=0)\n",
    "    output_catalog[f'{b}_mag_max'] = np.nanmax(np.array([output_catalog[f'mag_{b}_{i}'] for i in range(10)]), axis=0) - output_catalog[f'{b}_mag']\n",
    "    output_catalog[f'{b}_mag_min'] = output_catalog[f'{b}_mag'] - np.nanmin(np.array([output_catalog[f'mag_{b}_{i}'] for i in range(10)]), axis=0)"
   ]
  },
  {
   "cell_type": "code",
   "execution_count": null,
   "metadata": {},
   "outputs": [],
   "source": []
  },
  {
   "cell_type": "markdown",
   "metadata": {},
   "source": [
    "### Compare results"
   ]
  },
  {
   "cell_type": "code",
   "execution_count": 13,
   "metadata": {},
   "outputs": [],
   "source": [
    "def get_closest(catalog):\n",
    "    distances = []\n",
    "    index_c = []\n",
    "    index_s = []\n",
    "    for i, e in enumerate(catalog):\n",
    "        d, s = all_kdtree.query([e['world_centroid_alpha'], e['world_centroid_delta']], 1)\n",
    "        distances.append(d)\n",
    "        index_c.append(i)\n",
    "        index_s.append(s)\n",
    "    return {\n",
    "        'dist': np.array(distances),\n",
    "        'catalog': np.array(index_c),\n",
    "        'source': np.array(index_s),\n",
    "    }"
   ]
  },
  {
   "cell_type": "code",
   "execution_count": 14,
   "metadata": {},
   "outputs": [],
   "source": [
    "closest = get_closest(output_catalog)"
   ]
  },
  {
   "cell_type": "code",
   "execution_count": 15,
   "metadata": {},
   "outputs": [
    {
     "name": "stdout",
     "output_type": "stream",
     "text": [
      "Number of sources found: 1443\n"
     ]
    }
   ],
   "source": [
    "print(\"Number of sources found:\", len(closest['dist']))"
   ]
  },
  {
   "cell_type": "code",
   "execution_count": 16,
   "metadata": {},
   "outputs": [],
   "source": [
    "def plot_stats(ax, data):\n",
    "    ax.text(\n",
    "        0.7, 0.7,\n",
    "        '$\\mu$: {:.3e}\\n$\\sigma$: {:.3e}\\n$\\%_{{50}}$: {:.3e}'.format(\n",
    "            np.average(data),\n",
    "            np.std(data),\n",
    "            np.median(data),\n",
    "        ),\n",
    "        transform=ax.transAxes\n",
    "    )"
   ]
  },
  {
   "cell_type": "code",
   "execution_count": 17,
   "metadata": {},
   "outputs": [
    {
     "data": {
      "application/vnd.jupyter.widget-view+json": {
       "model_id": "d4512e6b68ce413f9777b84390026150",
       "version_major": 2,
       "version_minor": 0
      },
      "text/plain": [
       "FigureCanvasNbAgg()"
      ]
     },
     "metadata": {},
     "output_type": "display_data"
    }
   ],
   "source": [
    "plt.figure(figsize=(12, 6))\n",
    "ax1 = plt.subplot(1, 1, 1)\n",
    "ax1.hist(closest['dist'], 80, rwidth=0.9)\n",
    "plot_stats(ax1, closest['dist'])\n",
    "_ = ax1.set_title('Distance to closest')"
   ]
  },
  {
   "cell_type": "markdown",
   "metadata": {},
   "source": [
    "### Magnitudes"
   ]
  },
  {
   "cell_type": "code",
   "execution_count": 18,
   "metadata": {},
   "outputs": [
    {
     "name": "stderr",
     "output_type": "stream",
     "text": [
      "/home/aalvarez/.local/lib/python3.6/site-packages/ipykernel_launcher.py:9: RuntimeWarning: invalid value encountered in greater_equal\n",
      "  if __name__ == '__main__':\n",
      "/home/aalvarez/.local/lib/python3.6/site-packages/ipykernel_launcher.py:9: RuntimeWarning: invalid value encountered in less_equal\n",
      "  if __name__ == '__main__':\n",
      "/home/aalvarez/.local/lib/python3.6/site-packages/ipykernel_launcher.py:10: RuntimeWarning: invalid value encountered in greater_equal\n",
      "  # Remove the CWD from sys.path while we load stuff.\n",
      "/home/aalvarez/.local/lib/python3.6/site-packages/ipykernel_launcher.py:10: RuntimeWarning: invalid value encountered in less_equal\n",
      "  # Remove the CWD from sys.path while we load stuff.\n",
      "/home/aalvarez/.local/lib/python3.6/site-packages/ipykernel_launcher.py:11: RuntimeWarning: invalid value encountered in greater_equal\n",
      "  # This is added back by InteractiveShellApp.init_path()\n",
      "/home/aalvarez/.local/lib/python3.6/site-packages/ipykernel_launcher.py:11: RuntimeWarning: invalid value encountered in less_equal\n",
      "  # This is added back by InteractiveShellApp.init_path()\n"
     ]
    }
   ],
   "source": [
    "r_mag_diff = output_catalog[closest['catalog']]['r_mag'] - r_mags[closest['source']]\n",
    "g_mag_diff = output_catalog[closest['catalog']]['r_mag'] - g_mags[closest['source']]\n",
    "i_mag_diff = output_catalog[closest['catalog']]['i_mag'] - i_mags[closest['source']]\n",
    "\n",
    "# Filter NaN and outliers\n",
    "r_not_nan = (np.isnan(r_mag_diff) == False)\n",
    "g_not_nan = (np.isnan(g_mag_diff) == False)\n",
    "i_not_nan = (np.isnan(i_mag_diff) == False)\n",
    "r_outlier_filter = (r_mag_diff >= np.percentile(r_mag_diff[r_not_nan], 5)) & (r_mag_diff <= np.percentile(r_mag_diff[r_not_nan], 95)) & r_not_nan\n",
    "g_outlier_filter = (g_mag_diff >= np.percentile(g_mag_diff[g_not_nan], 5)) & (g_mag_diff <= np.percentile(g_mag_diff[g_not_nan], 95)) & g_not_nan\n",
    "i_outlier_filter = (i_mag_diff >= np.percentile(i_mag_diff[i_not_nan], 5)) & (i_mag_diff <= np.percentile(i_mag_diff[i_not_nan], 95)) & i_not_nan"
   ]
  },
  {
   "cell_type": "code",
   "execution_count": 19,
   "metadata": {},
   "outputs": [
    {
     "data": {
      "application/vnd.jupyter.widget-view+json": {
       "model_id": "4698585831524dd8a6325aa34062951a",
       "version_major": 2,
       "version_minor": 0
      },
      "text/plain": [
       "FigureCanvasNbAgg()"
      ]
     },
     "metadata": {},
     "output_type": "display_data"
    }
   ],
   "source": [
    "plt.figure(figsize=(12, 6))\n",
    "\n",
    "ax1 = plt.subplot(2, 2, 1)\n",
    "ax1.hist(r_mag_diff[r_outlier_filter], 80)\n",
    "ax1.set_xlabel('Computed - Real')\n",
    "plot_stats(ax1, r_mag_diff[r_outlier_filter])\n",
    "ax1.set_title('R - magnitude difference')\n",
    "\n",
    "ax2 = plt.subplot(2, 2, 2, sharey=ax1)\n",
    "ax2.hist(g_mag_diff[g_outlier_filter], 80)\n",
    "ax2.set_xlabel('Computed - Real')\n",
    "plot_stats(ax2, g_mag_diff[g_outlier_filter])\n",
    "_ = ax2.set_title('G - magnitude difference')\n",
    "\n",
    "ax3 = plt.subplot(2, 2, 3, sharey=ax1)\n",
    "ax3.hist(i_mag_diff[i_outlier_filter], 80)\n",
    "ax3.set_xlabel('Computed - Real')\n",
    "plot_stats(ax3, i_mag_diff[i_outlier_filter])\n",
    "_ = ax3.set_title('I - magnitude difference')\n",
    "\n",
    "plt.tight_layout()"
   ]
  },
  {
   "cell_type": "code",
   "execution_count": 20,
   "metadata": {},
   "outputs": [
    {
     "data": {
      "application/vnd.jupyter.widget-view+json": {
       "model_id": "8c7a17ac6a444e73a7e9d6a235fe5181",
       "version_major": 2,
       "version_minor": 0
      },
      "text/plain": [
       "FigureCanvasNbAgg()"
      ]
     },
     "metadata": {},
     "output_type": "display_data"
    }
   ],
   "source": [
    "plt.figure(figsize=(12, 6))\n",
    "plt.subplots_adjust(left=0.07, right=0.99, hspace=0.0, wspace=0.2)\n",
    "\n",
    "ax1 = plt.subplot2grid((3, 2), (0, 0), 2)\n",
    "ax1.errorbar(\n",
    "    g_mags[closest['source']][g_outlier_filter],\n",
    "    output_catalog[closest['catalog']]['g_mag'][g_outlier_filter],\n",
    "    yerr=[\n",
    "        output_catalog[closest['catalog']]['g_mag_min'][g_outlier_filter],\n",
    "        output_catalog[closest['catalog']]['g_mag_max'][g_outlier_filter]\n",
    "    ],\n",
    "    fmt='.'\n",
    ")\n",
    "ax1.set_ylabel('Computed magnitude')\n",
    "ax1.set_xlabel('Real magnitude')\n",
    "ax1.grid(True, linestyle=':')\n",
    "ax1.set_title('G Band - Computed vs Real magnitudes')\n",
    "\n",
    "ax2 = plt.subplot2grid((3, 2), (2, 0), 1)\n",
    "ax2.errorbar(\n",
    "    g_mags[closest['source']][g_outlier_filter],\n",
    "    (output_catalog[closest['catalog']]['g_mag'] - g_mags[closest['source']])[g_outlier_filter],\n",
    "    yerr=[\n",
    "        output_catalog[closest['catalog']]['g_mag_min'][g_outlier_filter],\n",
    "        output_catalog[closest['catalog']]['g_mag_max'][g_outlier_filter]\n",
    "    ],\n",
    "    fmt='.'\n",
    ")\n",
    "ax2.set_ylabel('$\\Delta$')\n",
    "ax2.set_xlabel('Real magnitude')\n",
    "ax2.grid(True, linestyle=':')\n",
    "\n",
    "ax3 = plt.subplot2grid((3, 2), (0, 1), 2)\n",
    "ax3.errorbar(\n",
    "    r_mags[closest['source']][r_outlier_filter],\n",
    "    output_catalog[closest['catalog']]['r_mag'][r_outlier_filter],\n",
    "    yerr=[\n",
    "        output_catalog[closest['catalog']]['r_mag_min'][r_outlier_filter],\n",
    "        output_catalog[closest['catalog']]['r_mag_max'][r_outlier_filter]\n",
    "    ],\n",
    "    fmt='.', c='red'\n",
    ")\n",
    "ax3.set_ylabel('Computed magnitude')\n",
    "ax3.set_xlabel('Real magnitude')\n",
    "ax3.grid(True, linestyle=':')\n",
    "ax3.set_title('R Band - Computed vs Real magnitudes')\n",
    "\n",
    "ax4 = plt.subplot2grid((3, 2), (2, 1), 1)\n",
    "ax4.errorbar(\n",
    "    r_mags[closest['source']][r_outlier_filter],\n",
    "    (output_catalog[closest['catalog']]['r_mag'] - r_mags[closest['source']])[r_outlier_filter],\n",
    "    yerr=[\n",
    "        output_catalog[closest['catalog']]['r_mag_min'][r_outlier_filter],\n",
    "        output_catalog[closest['catalog']]['r_mag_max'][r_outlier_filter]\n",
    "    ],\n",
    "    fmt='.', c='red'\n",
    ")\n",
    "ax4.set_ylabel('$\\Delta$')\n",
    "ax4.set_xlabel('Real magnitude')\n",
    "ax4.grid(True, linestyle=':')\n",
    "\n",
    "_ = 0"
   ]
  },
  {
   "cell_type": "code",
   "execution_count": 21,
   "metadata": {},
   "outputs": [
    {
     "data": {
      "text/plain": [
       "438"
      ]
     },
     "execution_count": 21,
     "metadata": {},
     "output_type": "execute_result"
    }
   ],
   "source": [
    "saturated_flag = (output_catalog[closest['catalog']]['source_flags'] & 8).sum(axis=1).astype(np.bool)\n",
    "neighbour_flag = (output_catalog[closest['catalog']]['auto_flag']).astype(np.bool)\n",
    "i_mark = saturated_flag | neighbour_flag\n",
    "i_mark.sum()"
   ]
  },
  {
   "cell_type": "code",
   "execution_count": 22,
   "metadata": {},
   "outputs": [
    {
     "data": {
      "application/vnd.jupyter.widget-view+json": {
       "model_id": "a53d45c69629435e81391fe8db884ead",
       "version_major": 2,
       "version_minor": 0
      },
      "text/plain": [
       "FigureCanvasNbAgg()"
      ]
     },
     "metadata": {},
     "output_type": "display_data"
    }
   ],
   "source": [
    "plt.figure(figsize=(12, 10))\n",
    "plt.subplots_adjust(left=0.07, right=0.99, hspace=0.0, wspace=0.2)\n",
    "\n",
    "ax1 = plt.subplot2grid((3, 1), (0, 0), 2)\n",
    "ax1.errorbar(\n",
    "    i_mags[closest['source']][i_outlier_filter],\n",
    "    output_catalog[closest['catalog']]['i_mag'][i_outlier_filter],\n",
    "    yerr=[\n",
    "        output_catalog[closest['catalog']]['i_mag_min'][i_outlier_filter],\n",
    "        output_catalog[closest['catalog']]['i_mag_max'][i_outlier_filter]\n",
    "    ],\n",
    "    fmt='.'\n",
    ")\n",
    "ax1.scatter(\n",
    "    i_mags[closest['source']][(i_outlier_filter & i_mark)],\n",
    "    output_catalog[closest['catalog']]['i_mag'][i_outlier_filter & i_mark],\n",
    "    marker='o', c='orange'\n",
    ")\n",
    "ax1.set_ylabel('Computed magnitude')\n",
    "ax1.set_xlabel('Real magnitude')\n",
    "ax1.grid(True, linestyle=':')\n",
    "ax1.set_title('I Band - Computed vs Real magnitudes')\n",
    "\n",
    "ax2 = plt.subplot2grid((3, 1), (2, 0), 1)\n",
    "ax2.errorbar(\n",
    "    i_mags[closest['source']][i_outlier_filter],\n",
    "    (output_catalog[closest['catalog']]['i_mag'] - i_mags[closest['source']])[i_outlier_filter],\n",
    "    yerr=[\n",
    "        output_catalog[closest['catalog']]['i_mag_min'][i_outlier_filter],\n",
    "        output_catalog[closest['catalog']]['i_mag_max'][i_outlier_filter]\n",
    "    ],\n",
    "    fmt='.'\n",
    ")\n",
    "ax2.scatter(\n",
    "    i_mags[closest['source']][i_outlier_filter & i_mark],\n",
    "    (output_catalog[closest['catalog']]['i_mag'] - i_mags[closest['source']])[i_outlier_filter & i_mark],\n",
    "    marker='o', c='orange'\n",
    ")\n",
    "ax2.set_ylabel('$\\Delta$')\n",
    "ax2.set_xlabel('Real magnitude')\n",
    "ax2.grid(True, linestyle=':')"
   ]
  },
  {
   "cell_type": "markdown",
   "metadata": {},
   "source": [
    "### Figure out who are those outliers"
   ]
  },
  {
   "cell_type": "code",
   "execution_count": 23,
   "metadata": {},
   "outputs": [
    {
     "name": "stderr",
     "output_type": "stream",
     "text": [
      "/home/aalvarez/.local/lib/python3.6/site-packages/ipykernel_launcher.py:1: RuntimeWarning: invalid value encountered in greater\n",
      "  \"\"\"Entry point for launching an IPython kernel.\n"
     ]
    }
   ],
   "source": [
    "weird_filter = (output_catalog['i_mag_max'] - output_catalog['i_mag_min'] > 1) & ~i_mark"
   ]
  },
  {
   "cell_type": "code",
   "execution_count": 24,
   "metadata": {},
   "outputs": [
    {
     "data": {
      "text/html": [
       "&lt;Column name=&apos;source_id&apos; dtype=&apos;int32&apos; length=17&gt;\n",
       "<table>\n",
       "<tr><td>209</td></tr>\n",
       "<tr><td>219</td></tr>\n",
       "<tr><td>305</td></tr>\n",
       "<tr><td>306</td></tr>\n",
       "<tr><td>334</td></tr>\n",
       "<tr><td>393</td></tr>\n",
       "<tr><td>471</td></tr>\n",
       "<tr><td>495</td></tr>\n",
       "<tr><td>552</td></tr>\n",
       "<tr><td>594</td></tr>\n",
       "<tr><td>637</td></tr>\n",
       "<tr><td>652</td></tr>\n",
       "<tr><td>653</td></tr>\n",
       "<tr><td>709</td></tr>\n",
       "<tr><td>942</td></tr>\n",
       "<tr><td>997</td></tr>\n",
       "<tr><td>1224</td></tr>\n",
       "</table>"
      ],
      "text/plain": [
       "<Column name='source_id' dtype='int32' length=17>\n",
       " 209\n",
       " 219\n",
       " 305\n",
       " 306\n",
       " 334\n",
       " 393\n",
       " 471\n",
       " 495\n",
       " 552\n",
       " 594\n",
       " 637\n",
       " 652\n",
       " 653\n",
       " 709\n",
       " 942\n",
       " 997\n",
       "1224"
      ]
     },
     "execution_count": 24,
     "metadata": {},
     "output_type": "execute_result"
    }
   ],
   "source": [
    "output_catalog[weird_filter]['source_id']"
   ]
  },
  {
   "cell_type": "code",
   "execution_count": 25,
   "metadata": {},
   "outputs": [
    {
     "name": "stdout",
     "output_type": "stream",
     "text": [
      "(3856, 3791, 4)\n"
     ]
    }
   ],
   "source": [
    "some_id = (aperture_img.data > 0).astype(np.float)\n",
    "aperture_mask = np.ones(aperture_img.shape + (4,))\n",
    "aperture_mask[:,:,0] = some_id\n",
    "aperture_mask[:,:,1] = some_id\n",
    "aperture_mask[:,:,2] = some_id\n",
    "aperture_mask[:,:,3] = some_id * 0.4\n",
    "print(aperture_mask.shape)"
   ]
  },
  {
   "cell_type": "code",
   "execution_count": 27,
   "metadata": {},
   "outputs": [
    {
     "data": {
      "application/vnd.jupyter.widget-view+json": {
       "model_id": "2d6bca90fc7d4c96bb9e0f739c7b859f",
       "version_major": 2,
       "version_minor": 0
      },
      "text/plain": [
       "FigureCanvasNbAgg()"
      ]
     },
     "metadata": {},
     "output_type": "display_data"
    },
    {
     "data": {
      "text/plain": [
       "<matplotlib.collections.PathCollection at 0x7feee1ef46d8>"
      ]
     },
     "execution_count": 27,
     "metadata": {},
     "output_type": "execute_result"
    }
   ],
   "source": [
    "plt.figure(figsize=(12,12))\n",
    "plt.imshow(coadd_img.data, norm=colors.SymLogNorm(5), cmap=plt.get_cmap('Greys_r'))\n",
    "plt.imshow(aperture_mask)\n",
    "plt.scatter(output_catalog[weird_filter]['pixel_centroid_x'], output_catalog[weird_filter]['pixel_centroid_y'], marker='*', c='orange')"
   ]
  },
  {
   "cell_type": "code",
   "execution_count": null,
   "metadata": {},
   "outputs": [],
   "source": []
  }
 ],
 "metadata": {
  "kernelspec": {
   "display_name": "Python 3",
   "language": "python",
   "name": "python3"
  },
  "language_info": {
   "codemirror_mode": {
    "name": "ipython",
    "version": 3
   },
   "file_extension": ".py",
   "mimetype": "text/x-python",
   "name": "python",
   "nbconvert_exporter": "python",
   "pygments_lexer": "ipython3",
   "version": "3.6.6"
  }
 },
 "nbformat": 4,
 "nbformat_minor": 2
}
