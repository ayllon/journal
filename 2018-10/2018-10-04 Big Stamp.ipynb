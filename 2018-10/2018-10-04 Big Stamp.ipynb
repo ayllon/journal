{
 "cells": [
  {
   "cell_type": "code",
   "execution_count": 1,
   "metadata": {},
   "outputs": [],
   "source": [
    "%matplotlib widget\n",
    "import matplotlib.pyplot as plt\n",
    "from matplotlib import colors\n",
    "from astropy.io import fits\n",
    "from astropy.table import Table"
   ]
  },
  {
   "cell_type": "code",
   "execution_count": 2,
   "metadata": {},
   "outputs": [],
   "source": [
    "img_hdu = fits.open('/home/aalvarez/Work/Data/sim09/sim09.fits')[0]\n",
    "img = img_hdu.data"
   ]
  },
  {
   "cell_type": "code",
   "execution_count": 10,
   "metadata": {},
   "outputs": [],
   "source": [
    "catalog = Table.read('/home/aalvarez/Work/Data/sim09/multiframe_output.fits')"
   ]
  },
  {
   "cell_type": "code",
   "execution_count": 11,
   "metadata": {},
   "outputs": [
    {
     "data": {
      "text/html": [
       "&lt;Row index=0&gt;\n",
       "<table id=\"table140429070729512\">\n",
       "<thead><tr><th>pixel_centroid_x</th><th>pixel_centroid_y</th><th>source_id</th><th>detection_id</th><th>source_flags [2]</th><th>group_stamp_top</th><th>group_stamp_left</th><th>group_stamp_width</th><th>group_stamp_height</th><th>mmf_x</th><th>mmf_y</th><th>mmf_alpha</th><th>mmf_delta</th><th>mmf_fluxes [2]</th><th>mmf_exp_fluxes [2]</th><th>mmf_dev_fluxes [2]</th><th>mmf_exp_radius</th><th>mmf_dev_radius</th><th>mmf_reduced_chi_2</th><th>mmf_iterations</th><th>mmf_nframes</th></tr></thead>\n",
       "<thead><tr><th>float64</th><th>float64</th><th>int32</th><th>int32</th><th>int64</th><th>int32</th><th>int32</th><th>int32</th><th>int32</th><th>float64</th><th>float64</th><th>float64</th><th>float64</th><th>float64</th><th>float64</th><th>float64</th><th>float64</th><th>float64</th><th>float64</th><th>int32</th><th>int32</th></tr></thead>\n",
       "<tr><td>1664.6590576171875</td><td>1059.9937744140625</td><td>503</td><td>3991</td><td>12 .. 12</td><td>412</td><td>1520</td><td>288</td><td>1299</td><td>nan</td><td>nan</td><td>nan</td><td>nan</td><td>nan .. nan</td><td>nan .. nan</td><td>nan .. nan</td><td>nan</td><td>nan</td><td>nan</td><td>0</td><td>19</td></tr>\n",
       "</table>"
      ],
      "text/plain": [
       "<Row index=0>\n",
       " pixel_centroid_x   pixel_centroid_y  source_id detection_id source_flags [2] group_stamp_top group_stamp_left group_stamp_width group_stamp_height  mmf_x   mmf_y  mmf_alpha mmf_delta mmf_fluxes [2] mmf_exp_fluxes [2] mmf_dev_fluxes [2] mmf_exp_radius mmf_dev_radius mmf_reduced_chi_2 mmf_iterations mmf_nframes\n",
       "     float64            float64         int32      int32          int64            int32           int32             int32             int32        float64 float64  float64   float64     float64          float64            float64          float64        float64          float64          int32         int32   \n",
       "------------------ ------------------ --------- ------------ ---------------- --------------- ---------------- ----------------- ------------------ ------- ------- --------- --------- -------------- ------------------ ------------------ -------------- -------------- ----------------- -------------- -----------\n",
       "1664.6590576171875 1059.9937744140625       503         3991         12 .. 12             412             1520               288               1299     nan     nan       nan       nan     nan .. nan         nan .. nan         nan .. nan            nan            nan               nan              0          19"
      ]
     },
     "execution_count": 11,
     "metadata": {},
     "output_type": "execute_result"
    }
   ],
   "source": [
    "target = catalog[catalog['source_id'] == 503][0]\n",
    "target"
   ]
  },
  {
   "cell_type": "code",
   "execution_count": 5,
   "metadata": {},
   "outputs": [],
   "source": [
    "x, y = target['group_stamp_left'], target['group_stamp_top']\n",
    "w, h = target['group_stamp_width'], target['group_stamp_height']\n",
    "stamp = img[y:y+h,x:x+w]"
   ]
  },
  {
   "cell_type": "code",
   "execution_count": 6,
   "metadata": {},
   "outputs": [
    {
     "data": {
      "application/vnd.jupyter.widget-view+json": {
       "model_id": "61d6709312314b9fbb0740c14c1c5b9e",
       "version_major": 2,
       "version_minor": 0
      },
      "text/plain": [
       "FigureCanvasNbAgg()"
      ]
     },
     "metadata": {},
     "output_type": "display_data"
    },
    {
     "data": {
      "text/plain": [
       "<matplotlib.image.AxesImage at 0x7fb83135eef0>"
      ]
     },
     "execution_count": 6,
     "metadata": {},
     "output_type": "execute_result"
    }
   ],
   "source": [
    "plt.figure(figsize=(5,10))\n",
    "plt.imshow(stamp, cmap=plt.get_cmap('Greys_r'), norm=colors.SymLogNorm(10))"
   ]
  }
 ],
 "metadata": {
  "kernelspec": {
   "display_name": "Python 3",
   "language": "python",
   "name": "python3"
  },
  "language_info": {
   "codemirror_mode": {
    "name": "ipython",
    "version": 3
   },
   "file_extension": ".py",
   "mimetype": "text/x-python",
   "name": "python",
   "nbconvert_exporter": "python",
   "pygments_lexer": "ipython3",
   "version": "3.6.6"
  }
 },
 "nbformat": 4,
 "nbformat_minor": 2
}
