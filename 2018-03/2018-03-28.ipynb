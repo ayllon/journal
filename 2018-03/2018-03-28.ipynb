{
 "cells": [
  {
   "cell_type": "markdown",
   "metadata": {},
   "source": [
    "### Working on the nnpz task\n",
    "\n",
    "See: https://redmine.astro.unige.ch/issues/15518\n",
    "\n",
    "Downloaded catalogs and filters from Jean's area into /data/dc3. Copied SEDs from Phosphoros quickstart.\n",
    "\n",
    "Tried to run using the 10x catalogs, but there are duplicated IDs, so Phosphoros failed. It seems the 10x is just\n",
    "the same as the other catalog, but each entry 10 times.\n",
    "\n",
    "Luckily I didn't run with the full set, or it would have taken forever. In any case, if they are exactly identical,\n",
    "just 10 times repeated (to be checked, I may be wrong), I may as well replicate the result 10 times.\n",
    "\n",
    "Run Phosphoros GUI, configure filters, generate the parameter space using the Quickstart values, and run the\n",
    "template fitting.\n",
    "After a couple of hours and burning CPU at 100%, got an output.\n",
    "\n",
    "Run my ph2ref script on the Phosphoros output to generate a reference sample under /data/dc3/ReferenceSample"
   ]
  },
  {
   "cell_type": "code",
   "execution_count": 3,
   "metadata": {},
   "outputs": [
    {
     "name": "stdout",
     "output_type": "stream",
     "text": [
      "518216\n"
     ]
    }
   ],
   "source": [
    "import nnpz\n",
    "ref = nnpz.ReferenceSample('/data/dc3/ReferenceSample/')\n",
    "print(ref.size())"
   ]
  },
  {
   "cell_type": "markdown",
   "metadata": {},
   "source": [
    "Run NnpzBuildPhotometry over the just created RefernceSample\n",
    "```bash\n",
    "./NnpzBuildPhotometry --sample-dir \"/data/dc3/ReferenceSample\" --filters \"/data/dc3/AuxiliaryData/Filters/Euclid\" --out-type F_nu_uJy --out-file \"/data/dc3/DC3.2.0_F_nu_uJy.fits\"\n",
    "```"
   ]
  },
  {
   "cell_type": "markdown",
   "metadata": {},
   "source": [
    "Run in 263.36s. An excerpt:"
   ]
  },
  {
   "cell_type": "code",
   "execution_count": 7,
   "metadata": {
    "scrolled": true
   },
   "outputs": [
    {
     "data": {
      "text/html": [
       "&lt;Table length=5&gt;\n",
       "<table id=\"table140406458778064\" class=\"table-striped table-bordered table-condensed\">\n",
       "<thead><tr><th>ID</th><th>g</th><th>r</th><th>J</th><th>Y</th><th>i</th><th>H</th><th>z</th><th>u</th><th>vis</th></tr></thead>\n",
       "<thead><tr><th>int64</th><th>float32</th><th>float32</th><th>float32</th><th>float32</th><th>float32</th><th>float32</th><th>float32</th><th>float32</th><th>float32</th></tr></thead>\n",
       "<tr><td>216439</td><td>5.94379e+15</td><td>1.26111e+16</td><td>3.30109e+16</td><td>2.93887e+16</td><td>1.75996e+16</td><td>3.7315e+16</td><td>2.42022e+16</td><td>1.27347e+15</td><td>1.44539e+16</td></tr>\n",
       "<tr><td>218604</td><td>5.40076e+15</td><td>1.02661e+16</td><td>2.16418e+16</td><td>1.97281e+16</td><td>1.34469e+16</td><td>2.34639e+16</td><td>1.71872e+16</td><td>1.44529e+15</td><td>1.13922e+16</td></tr>\n",
       "<tr><td>219020</td><td>5.28514e+15</td><td>9.73779e+15</td><td>1.95312e+16</td><td>1.79251e+16</td><td>1.25439e+16</td><td>2.09468e+16</td><td>1.57865e+16</td><td>1.47245e+15</td><td>1.0722e+16</td></tr>\n",
       "<tr><td>219656</td><td>3.03014e+15</td><td>3.09651e+15</td><td>3.01943e+15</td><td>3.18958e+15</td><td>3.16121e+15</td><td>2.93183e+15</td><td>3.31571e+15</td><td>1.96949e+15</td><td>3.12577e+15</td></tr>\n",
       "<tr><td>219657</td><td>3.97374e+15</td><td>5.89777e+15</td><td>1.21127e+16</td><td>1.09102e+16</td><td>7.29244e+15</td><td>1.34564e+16</td><td>9.34767e+15</td><td>1.75235e+15</td><td>6.42259e+15</td></tr>\n",
       "</table>"
      ],
      "text/plain": [
       "<Table length=5>\n",
       "  ID        g           r      ...      z           u          vis    \n",
       "int64    float32     float32   ...   float32     float32     float32  \n",
       "------ ----------- ----------- ... ----------- ----------- -----------\n",
       "216439 5.94379e+15 1.26111e+16 ... 2.42022e+16 1.27347e+15 1.44539e+16\n",
       "218604 5.40076e+15 1.02661e+16 ... 1.71872e+16 1.44529e+15 1.13922e+16\n",
       "219020 5.28514e+15 9.73779e+15 ... 1.57865e+16 1.47245e+15  1.0722e+16\n",
       "219656 3.03014e+15 3.09651e+15 ... 3.31571e+15 1.96949e+15 3.12577e+15\n",
       "219657 3.97374e+15 5.89777e+15 ... 9.34767e+15 1.75235e+15 6.42259e+15"
      ]
     },
     "execution_count": 7,
     "metadata": {},
     "output_type": "execute_result"
    }
   ],
   "source": [
    "from astropy.table import Table\n",
    "photometry = Table.read('/data/dc3/DC3.2.0_F_nu_uJy.fits', hdu=1)\n",
    "photometry[0:5]"
   ]
  },
  {
   "cell_type": "markdown",
   "metadata": {},
   "source": [
    "Create a new config file, and use that one to run nnpz\n",
    "```python\n",
    "reference_sample_dir = '/data/dc3/ReferenceSample'\n",
    "reference_sample_phot_file = '/data/dc3/DC3.2.0_F_nu_uJy.fits'\n",
    "reference_sample_phot_filters = ['u', 'g', 'r', 'i', 'z', 'vis', 'Y', 'J', 'H']\n",
    "out_mean_phot_filters = reference_sample_phot_filters\n",
    "\n",
    "target_cat = '/data/dc3/Catalog/Cosmos/euclid_emulated_DC3.2.0_COSMOS15_test.fits'\n",
    "target_filters = [\n",
    "    ('u_obs', 'u_obs_err'),\n",
    "    ('g_obs', 'g_obs_err'),\n",
    "    ('r_obs', 'r_obs_err'),\n",
    "    ('i_obs', 'i_obs_err'),\n",
    "    ('z_obs', 'z_obs_err'),\n",
    "    ('vis_obs', 'vis_obs_err'),\n",
    "    ('Y_obs', 'Y_obs_err'),\n",
    "    ('J_obs', 'J_obs_err'),\n",
    "    ('H_obs', 'H_obs_err')\n",
    "]\n",
    "missing_photometry_flags = [-99]\n",
    "\n",
    "neighbor_method = 'Combined'\n",
    "\n",
    "batch_size = 2000\n",
    "neighbors_no = 30\n",
    "\n",
    "input_size = 1000\n",
    "\n",
    "output_file = '/data/dc3/nnpz/out.fits'\n",
    "```\n",
    "\n",
    "When running, this line takes a long time, and no feedback is available on the terminal :(\n",
    "```python\n",
    "selector = EuclideanRegionBruteForceSelector(neighbors_no, batch_size).initialize(ref_data)\n",
    "```"
   ]
  }
 ],
 "metadata": {
  "kernelspec": {
   "display_name": "Python 3",
   "language": "python",
   "name": "python3"
  },
  "language_info": {
   "codemirror_mode": {
    "name": "ipython",
    "version": 3
   },
   "file_extension": ".py",
   "mimetype": "text/x-python",
   "name": "python",
   "nbconvert_exporter": "python",
   "pygments_lexer": "ipython3",
   "version": "3.6.4"
  }
 },
 "nbformat": 4,
 "nbformat_minor": 2
}
