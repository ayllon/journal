{
 "cells": [
  {
   "cell_type": "code",
   "execution_count": 1,
   "metadata": {},
   "outputs": [],
   "source": [
    "import os\n",
    "import sys\n",
    "import shutil\n",
    "import subprocess"
   ]
  },
  {
   "cell_type": "code",
   "execution_count": 2,
   "metadata": {},
   "outputs": [],
   "source": [
    "sys.path.append('/home/aalvarez/Work/Projects/Elements/5.8/InstallArea/x86_64-fc30-gcc92-dbg/python/')\n",
    "sys.path.append('/home/aalvarez/Work/Projects/PHZ_NNPZ/PHZ_NNPZ/InstallArea/x86_64-fc30-gcc91-dbg/python/')"
   ]
  },
  {
   "cell_type": "code",
   "execution_count": 3,
   "metadata": {},
   "outputs": [],
   "source": [
    "import matplotlib.pyplot as plt\n",
    "import numpy as np\n",
    "from astropy.table import Table\n",
    "from nnpz.reference_sample.ReferenceSample import ReferenceSample"
   ]
  },
  {
   "cell_type": "markdown",
   "metadata": {},
   "source": [
    "# Filters and seds\n",
    "We use only Y and J from DC3, and an artifical SED with a very marked peak, so when we shift we move towards one or the other."
   ]
  },
  {
   "cell_type": "code",
   "execution_count": 82,
   "metadata": {},
   "outputs": [],
   "source": [
    "sed = np.asarray([(10000, 0.), (10010, 0.1),(10020,0.)])\n",
    "sed_shifted = sed.copy()\n",
    "sed_shifted[:,0] *= 1.3\n",
    "sed_shifted[:,1] /= 1.3"
   ]
  },
  {
   "cell_type": "code",
   "execution_count": 83,
   "metadata": {},
   "outputs": [],
   "source": [
    "Y = np.recfromtxt('/home/aalvarez/Work/Data/TestShift/Filters/Y.ascii')\n",
    "J = np.recfromtxt('/home/aalvarez/Work/Data/TestShift/Filters/J.ascii')"
   ]
  },
  {
   "cell_type": "code",
   "execution_count": 84,
   "metadata": {},
   "outputs": [
    {
     "data": {
      "text/plain": [
       "3000.0"
      ]
     },
     "execution_count": 84,
     "metadata": {},
     "output_type": "execute_result"
    }
   ],
   "source": [
    "shift = np.average(J[:,0], weights=J[:,1]) - np.average(Y[:,0], weights=Y[:,1])\n",
    "shift"
   ]
  },
  {
   "cell_type": "code",
   "execution_count": 85,
   "metadata": {},
   "outputs": [
    {
     "data": {
      "text/plain": [
       "3003.0"
      ]
     },
     "execution_count": 85,
     "metadata": {},
     "output_type": "execute_result"
    }
   ],
   "source": [
    "np.average(sed_shifted[:,0], weights=sed_shifted[:,1]) - np.average(sed[:,0], weights=sed[:,1])"
   ]
  },
  {
   "cell_type": "code",
   "execution_count": 86,
   "metadata": {},
   "outputs": [
    {
     "data": {
      "text/plain": [
       "<matplotlib.legend.Legend at 0x7f0e36e04c90>"
      ]
     },
     "execution_count": 86,
     "metadata": {},
     "output_type": "execute_result"
    },
    {
     "data": {
      "image/png": "[encoded data removed]",
      "text/plain": [
       "<Figure size 1440x720 with 1 Axes>"
      ]
     },
     "metadata": {
      "needs_background": "light"
     },
     "output_type": "display_data"
    }
   ],
   "source": [
    "plt.figure(figsize=(20,10))\n",
    "plt.plot(Y[:,0], Y[:,1], label='Y')\n",
    "plt.plot(J[:,0], J[:,1], label='J')\n",
    "plt.plot(sed[:,0], sed[:,1], label='Sed Z=1')\n",
    "plt.plot(sed_shifted[:,0], sed_shifted[:,1], label='Sed Z=1.3')\n",
    "plt.legend()"
   ]
  },
  {
   "cell_type": "markdown",
   "metadata": {},
   "source": [
    "# Reference sample\n",
    "We generate only 10, half with an arbitrary redshift of 1, and half with an arbitrary refshift of 1.3"
   ]
  },
  {
   "cell_type": "code",
   "execution_count": 87,
   "metadata": {},
   "outputs": [],
   "source": [
    "ref_sample_dir = '/home/aalvarez/Work/Data/TestShift/ReferenceSample'\n",
    "photometry_file = '/home/aalvarez/Work/Data/TestShift/ReferencePhotometry.fits'\n",
    "shutil.rmtree(ref_sample_dir, ignore_errors=True)\n",
    "ref_sample = ReferenceSample.createNew(ref_sample_dir)\n",
    "for i in range(0, 5):\n",
    "    ref_sample.createObject(i)\n",
    "    ref_sample.addSedData(i, sed)\n",
    "    ref_sample.addPdzData(i, np.asarray([(1., 1.), (1.3, 0.)]))\n",
    "for i in range(5, 10):\n",
    "    ref_sample.createObject(i)\n",
    "    ref_sample.addSedData(i, sed_shifted)\n",
    "    ref_sample.addPdzData(i, np.asarray([(1., 0.), (1.3, 1.)]))"
   ]
  },
  {
   "cell_type": "code",
   "execution_count": 88,
   "metadata": {},
   "outputs": [
    {
     "name": "stdout",
     "output_type": "stream",
     "text": [
      "2019-10-14T16:59:12CEST ElementsProgram  WARN : The \"NnpzBuildPhotometry.conf\" configuration file cannot be found in:\n",
      "2019-10-14T16:59:12CEST ElementsProgram  WARN :  /home/aalvarez/Work/Projects/PHZ_NNPZ/PHZ_NNPZ/NNPZ/conf\n",
      "2019-10-14T16:59:12CEST ElementsProgram  WARN :  /home/aalvarez/Work/Projects/Elements/5.2.2/InstallArea/x86_64-fc30-gcc92-dbg/conf\n",
      "2019-10-14T16:59:12CEST ElementsProgram  WARN :  /home/aalvarez/Work/Projects/PHZ_NNPZ/PHZ_NNPZ/build.x86_64-fc30-gcc92-dbg/conf\n",
      "2019-10-14T16:59:12CEST ElementsProgram  WARN :  /home/aalvarez/Work/Projects/PHZ_NNPZ/PHZ_NNPZ/InstallArea/x86_64-fc30-gcc92-dbg/conf\n",
      "2019-10-14T16:59:12CEST ElementsProgram  WARN :  /home/aalvarez/Work/Projects/Elements/5.2.2/InstallArea/x86_64-fc30-gcc92-dbg/conf\n",
      "2019-10-14T16:59:12CEST ElementsProgram  WARN :  /usr/share/conf\n",
      "2019-10-14T16:59:12CEST ElementsProgram  WARN : Trying \"NNPZ/NnpzBuildPhotometry.conf\".\n",
      "2019-10-14T16:59:12CEST ElementsProgram  INFO : ##########################################################\n",
      "2019-10-14T16:59:12CEST ElementsProgram  INFO : ##########################################################\n",
      "2019-10-14T16:59:12CEST ElementsProgram  INFO : #\n",
      "2019-10-14T16:59:12CEST ElementsProgram  INFO : #    Python program: nnpz.program.BuildPhotometry starts \n",
      "2019-10-14T16:59:12CEST ElementsProgram  INFO : #\n",
      "2019-10-14T16:59:12CEST ElementsProgram  INFO : ##########################################################\n",
      "2019-10-14T16:59:12CEST ElementsProgram  INFO : #\n",
      "2019-10-14T16:59:12CEST ElementsProgram  INFO : # List of all program options\n",
      "2019-10-14T16:59:12CEST ElementsProgram  INFO : # ---------------------------\n",
      "2019-10-14T16:59:12CEST ElementsProgram  INFO : #\n",
      "2019-10-14T16:59:12CEST ElementsProgram  INFO : sample-dir = /home/aalvarez/Work/Data/TestShift/ReferenceSample\n",
      "2019-10-14T16:59:12CEST ElementsProgram  INFO : filters = /home/aalvarez/Work/Data/TestShift/Filters\n",
      "2019-10-14T16:59:12CEST ElementsProgram  INFO : out-type = F_nu_uJy\n",
      "2019-10-14T16:59:12CEST ElementsProgram  INFO : out-file = /home/aalvarez/Work/Data/TestShift/ReferencePhotometry.fits\n",
      "2019-10-14T16:59:12CEST ElementsProgram  INFO : gal-ebv = None\n",
      "2019-10-14T16:59:12CEST ElementsProgram  INFO : config-file = None\n",
      "2019-10-14T16:59:12CEST ElementsProgram  INFO : log-file = None\n",
      "2019-10-14T16:59:12CEST ElementsProgram  INFO : log-level = None\n",
      "2019-10-14T16:59:12CEST ElementsProgram  INFO : #\n",
      "2019-10-14T16:59:12CEST BuildPhotometry  INFO : \n",
      "2019-10-14T16:59:12CEST BuildPhotometry  INFO : Opening reference sample /home/aalvarez/Work/Data/TestShift/ReferenceSample...\n",
      "2019-10-14T16:59:12CEST BuildPhotometry  INFO : Successfully opened reference sample\n",
      "2019-10-14T16:59:12CEST BuildPhotometry  INFO : \n",
      "2019-10-14T16:59:12CEST BuildPhotometry  INFO : Reading filter transmissions from /home/aalvarez/Work/Data/TestShift/Filters...\n",
      "2019-10-14T16:59:12CEST BuildPhotometry  INFO :     J\n",
      "2019-10-14T16:59:12CEST BuildPhotometry  INFO :     Y\n",
      "2019-10-14T16:59:12CEST BuildPhotometry  INFO : Successfully read filter transmissions\n",
      "2019-10-14T16:59:12CEST BuildPhotometry  INFO : \n",
      "2019-10-14T16:59:12CEST BuildPhotometry  INFO : Computing photometry values...\n",
      "2019-10-14T16:59:12CEST BuildPhotometry  INFO :     Photometry type: F_nu_uJy\n",
      "2019-10-14T16:59:12CEST BuildPhotometry  INFO : 0%\n",
      "2019-10-14T16:59:12CEST BuildPhotometry  INFO : 10%\n",
      "2019-10-14T16:59:12CEST BuildPhotometry  INFO : 20%\n",
      "2019-10-14T16:59:12CEST BuildPhotometry  INFO : 30%\n",
      "2019-10-14T16:59:12CEST BuildPhotometry  INFO : 40%\n",
      "2019-10-14T16:59:12CEST BuildPhotometry  INFO : 50%\n",
      "2019-10-14T16:59:12CEST BuildPhotometry  INFO : 60%\n",
      "2019-10-14T16:59:12CEST BuildPhotometry  INFO : 70%\n",
      "2019-10-14T16:59:12CEST BuildPhotometry  INFO : 80%\n",
      "2019-10-14T16:59:12CEST BuildPhotometry  INFO : 90%\n",
      "2019-10-14T16:59:12CEST BuildPhotometry  INFO : Successfully computed photometry for 10 objects\n",
      "2019-10-14T16:59:12CEST BuildPhotometry  INFO : \n",
      "2019-10-14T16:59:12CEST BuildPhotometry  INFO : Creating output...\n",
      "2019-10-14T16:59:12CEST BuildPhotometry  INFO : Photometry created in /home/aalvarez/Work/Data/TestShift/ReferencePhotometry.fits\n",
      "2019-10-14T16:59:12CEST ElementsProgram  INFO : ##########################################################\n",
      "2019-10-14T16:59:12CEST ElementsProgram  INFO : #\n",
      "2019-10-14T16:59:12CEST ElementsProgram  INFO : #    Python program: nnpz.program.BuildPhotometry stops \n",
      "2019-10-14T16:59:12CEST ElementsProgram  INFO : #\n",
      "2019-10-14T16:59:12CEST ElementsProgram  INFO : ##########################################################\n",
      "2019-10-14T16:59:12CEST ElementsProgram  INFO : ##########################################################\n"
     ]
    }
   ],
   "source": [
    "if os.path.exists(photometry_file): os.unlink(photometry_file)\n",
    "cmd = '/home/aalvarez/Work/Projects/PHZ_NNPZ/PHZ_NNPZ/build.x86_64-fc30-gcc92-dbg/run NnpzBuildPhotometry --sample-dir {} --out-type F_nu_uJy --out-file {} --filters /home/aalvarez/Work/Data/TestShift/Filters'.format(ref_sample_dir, photometry_file)\n",
    "!{cmd}"
   ]
  },
  {
   "cell_type": "code",
   "execution_count": 89,
   "metadata": {},
   "outputs": [
    {
     "data": {
      "text/html": [
       "<i>Table length=10</i>\n",
       "<table id=\"table139699029343568\" class=\"table-striped table-bordered table-condensed\">\n",
       "<thead><tr><th>ID</th><th>J</th><th>Y</th></tr></thead>\n",
       "<thead><tr><th>int64</th><th>float32</th><th>float32</th></tr></thead>\n",
       "<tr><td>0</td><td>0.0</td><td>5.137677e+16</td></tr>\n",
       "<tr><td>1</td><td>0.0</td><td>5.137677e+16</td></tr>\n",
       "<tr><td>2</td><td>0.0</td><td>5.137677e+16</td></tr>\n",
       "<tr><td>3</td><td>0.0</td><td>5.137677e+16</td></tr>\n",
       "<tr><td>4</td><td>0.0</td><td>5.137677e+16</td></tr>\n",
       "<tr><td>5</td><td>6.0776566e+16</td><td>0.0</td></tr>\n",
       "<tr><td>6</td><td>6.0776566e+16</td><td>0.0</td></tr>\n",
       "<tr><td>7</td><td>6.0776566e+16</td><td>0.0</td></tr>\n",
       "<tr><td>8</td><td>6.0776566e+16</td><td>0.0</td></tr>\n",
       "<tr><td>9</td><td>6.0776566e+16</td><td>0.0</td></tr>\n",
       "</table>"
      ],
      "text/plain": [
       "<Table length=10>\n",
       "  ID        J            Y      \n",
       "int64    float32      float32   \n",
       "----- ------------- ------------\n",
       "    0           0.0 5.137677e+16\n",
       "    1           0.0 5.137677e+16\n",
       "    2           0.0 5.137677e+16\n",
       "    3           0.0 5.137677e+16\n",
       "    4           0.0 5.137677e+16\n",
       "    5 6.0776566e+16          0.0\n",
       "    6 6.0776566e+16          0.0\n",
       "    7 6.0776566e+16          0.0\n",
       "    8 6.0776566e+16          0.0\n",
       "    9 6.0776566e+16          0.0"
      ]
     },
     "execution_count": 89,
     "metadata": {},
     "output_type": "execute_result"
    }
   ],
   "source": [
    "photometry = Table.read(photometry_file)\n",
    "photometry"
   ]
  },
  {
   "cell_type": "code",
   "execution_count": 90,
   "metadata": {},
   "outputs": [
    {
     "data": {
      "image/png": "[encoded data removed]",
      "text/plain": [
       "<Figure size 432x288 with 1 Axes>"
      ]
     },
     "metadata": {
      "needs_background": "light"
     },
     "output_type": "display_data"
    }
   ],
   "source": [
    "plt.figure()\n",
    "plt.hist2d(photometry['Y'], photometry['J'])\n",
    "plt.show()"
   ]
  },
  {
   "cell_type": "markdown",
   "metadata": {},
   "source": [
    "# Catalog\n",
    "Now generate just four sources: two redshifted, two redshifted, one without filter shift, one with"
   ]
  },
  {
   "cell_type": "code",
   "execution_count": 91,
   "metadata": {},
   "outputs": [],
   "source": [
    "os.environ['ELEMENTS_AUX_PATH'] = '/home/aalvarez/Work/Projects/PHZ_NNPZ/PHZ_NNPZ/InstallArea/x86_64-fc30-gcc91-dbg/auxdir/'\n",
    "from nnpz.photometry.PhotometryCalculator import PhotometryCalculator\n",
    "from nnpz.photometry.FnuuJyPrePostProcessor import FnuuJyPrePostProcessor\n",
    "from nnpz.photometry.DirectoryFilterProvider import DirectoryFilterProvider"
   ]
  },
  {
   "cell_type": "code",
   "execution_count": 92,
   "metadata": {},
   "outputs": [],
   "source": [
    "redshifts = [1., 1.3, 1., 1.3]\n",
    "filter_shifts = [0., 0., True, True]"
   ]
  },
  {
   "cell_type": "code",
   "execution_count": 105,
   "metadata": {},
   "outputs": [],
   "source": [
    "filter_provider = DirectoryFilterProvider('/home/aalvarez/Work/Data/TestShift/Filters/')\n",
    "filter_map = {\n",
    "    'Y': filter_provider.getFilterTransmission('Y'),\n",
    "    'J': filter_provider.getFilterTransmission('J'),\n",
    "}\n",
    "filter_map_shift = {\n",
    "    'Y': filter_map['Y'].copy(),\n",
    "    'J': filter_map['J'].copy()\n",
    "}\n",
    "filter_map_shift['Y'][:,0] += shift\n",
    "filter_map_shift['J'][:,0] -= shift\n",
    "calculator = PhotometryCalculator(filter_map, FnuuJyPrePostProcessor())\n",
    "calculator_shifted = PhotometryCalculator(filter_map_shift, FnuuJyPrePostProcessor())"
   ]
  },
  {
   "cell_type": "code",
   "execution_count": 106,
   "metadata": {},
   "outputs": [
    {
     "data": {
      "image/png": "[encoded data removed]",
      "text/plain": [
       "<Figure size 1440x360 with 4 Axes>"
      ]
     },
     "metadata": {
      "needs_background": "light"
     },
     "output_type": "display_data"
    }
   ],
   "source": [
    "rows = []\n",
    "fig, axes = plt.subplots(1, 4, figsize=(20,5))\n",
    "for i, (redshift, filter_shift) in enumerate(zip(redshifts, filter_shifts)):\n",
    "    redshifted_sed = sed.copy()\n",
    "    redshifted_sed[:,0]+=1. # Just avoid infinites\n",
    "    redshifted_sed[:,0]*=redshift\n",
    "    redshifted_sed[:,1]/=redshift\n",
    "    \n",
    "    if filter_shift:\n",
    "        photo = calculator_shifted.compute(redshifted_sed)\n",
    "        axes[i].plot(Y[:,0]+shift, Y[:,1], label='Y', c='r')\n",
    "        axes[i].plot(J[:,0]-shift, J[:,1], label='J')\n",
    "        this_shift = shift\n",
    "    else:\n",
    "        photo = calculator.compute(redshifted_sed)\n",
    "        axes[i].plot(Y[:,0], Y[:,1], label='Y', c='r')\n",
    "        axes[i].plot(J[:,0], J[:,1], label='J')\n",
    "        this_shift = 0\n",
    "    \n",
    "    axes[i].plot(redshifted_sed[:,0], redshifted_sed[:,1], label='SED')\n",
    "    rows.append((i, photo['Y'], photo['J'], redshift, +this_shift, -this_shift))"
   ]
  },
  {
   "cell_type": "code",
   "execution_count": 107,
   "metadata": {},
   "outputs": [],
   "source": [
    "if os.path.exists('/home/aalvarez/Work/Data/TestShift/Catalog.fits'): os.unlink('/home/aalvarez/Work/Data/TestShift/Catalog.fits')\n",
    "\n",
    "catalog = Table(rows=rows, names=['ID', 'Y', 'J', 'Z', 'Y_shift', 'J_shift'])\n",
    "catalog.write('/home/aalvarez/Work/Data/TestShift/Catalog.fits')"
   ]
  },
  {
   "cell_type": "code",
   "execution_count": 108,
   "metadata": {},
   "outputs": [
    {
     "data": {
      "text/html": [
       "<i>Table length=4</i>\n",
       "<table id=\"table139699011298192\" class=\"table-striped table-bordered table-condensed\">\n",
       "<thead><tr><th>ID</th><th>Y</th><th>J</th><th>Z</th><th>Y_shift</th><th>J_shift</th></tr></thead>\n",
       "<thead><tr><th>int64</th><th>float64</th><th>float64</th><th>float64</th><th>float64</th><th>float64</th></tr></thead>\n",
       "<tr><td>0</td><td>4.62437107219698e+16</td><td>0.0</td><td>1.0</td><td>0.0</td><td>0.0</td></tr>\n",
       "<tr><td>1</td><td>0.0</td><td>4.949443173420478e+16</td><td>1.3</td><td>0.0</td><td>0.0</td></tr>\n",
       "<tr><td>2</td><td>0.0</td><td>4.62437107219698e+16</td><td>1.0</td><td>3000.0</td><td>-3000.0</td></tr>\n",
       "<tr><td>3</td><td>4.949443173420478e+16</td><td>0.0</td><td>1.3</td><td>3000.0</td><td>-3000.0</td></tr>\n",
       "</table>"
      ],
      "text/plain": [
       "<Table length=4>\n",
       "  ID            Y                     J              Z    Y_shift J_shift\n",
       "int64        float64               float64        float64 float64 float64\n",
       "----- --------------------- --------------------- ------- ------- -------\n",
       "    0  4.62437107219698e+16                   0.0     1.0     0.0     0.0\n",
       "    1                   0.0 4.949443173420478e+16     1.3     0.0     0.0\n",
       "    2                   0.0  4.62437107219698e+16     1.0  3000.0 -3000.0\n",
       "    3 4.949443173420478e+16                   0.0     1.3  3000.0 -3000.0"
      ]
     },
     "execution_count": 108,
     "metadata": {},
     "output_type": "execute_result"
    }
   ],
   "source": [
    "catalog"
   ]
  },
  {
   "cell_type": "code",
   "execution_count": null,
   "metadata": {},
   "outputs": [],
   "source": []
  },
  {
   "cell_type": "code",
   "execution_count": null,
   "metadata": {},
   "outputs": [],
   "source": []
  }
 ],
 "metadata": {
  "kernelspec": {
   "display_name": "Python 3",
   "language": "python",
   "name": "python3"
  },
  "language_info": {
   "codemirror_mode": {
    "name": "ipython",
    "version": 3
   },
   "file_extension": ".py",
   "mimetype": "text/x-python",
   "name": "python",
   "nbconvert_exporter": "python",
   "pygments_lexer": "ipython3",
   "version": "3.7.4"
  }
 },
 "nbformat": 4,
 "nbformat_minor": 4
}
