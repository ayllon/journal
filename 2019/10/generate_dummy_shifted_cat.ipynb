{
 "cells": [
  {
   "cell_type": "code",
   "execution_count": 1,
   "metadata": {},
   "outputs": [],
   "source": [
    "import os\n",
    "import sys\n",
    "import shutil\n",
    "import subprocess"
   ]
  },
  {
   "cell_type": "code",
   "execution_count": 2,
   "metadata": {},
   "outputs": [],
   "source": [
    "sys.path.append('/home/aalvarez/Work/Projects/Elements/5.8/InstallArea/x86_64-fc30-gcc92-dbg/python/')\n",
    "sys.path.append('/home/aalvarez/Work/Projects/PHZ_NNPZ/PHZ_NNPZ/InstallArea/x86_64-fc30-gcc92-dbg/python/')"
   ]
  },
  {
   "cell_type": "code",
   "execution_count": 3,
   "metadata": {},
   "outputs": [],
   "source": [
    "import matplotlib.pyplot as plt\n",
    "import numpy as np\n",
    "from astropy.table import Table\n",
    "from nnpz.reference_sample.ReferenceSample import ReferenceSample"
   ]
  },
  {
   "cell_type": "markdown",
   "metadata": {},
   "source": [
    "# Filters and seds\n",
    "We use only fake, peaky, Y and J bands, and an artifical SED with a very marked peak."
   ]
  },
  {
   "cell_type": "code",
   "execution_count": 4,
   "metadata": {},
   "outputs": [],
   "source": [
    "sed = np.asarray([(10000, 0.), (10010, 0.1),(10020,0.)])\n",
    "sed_shifted = sed.copy()\n",
    "sed_shifted[:,0] *= 1.3\n",
    "sed_shifted[:,1] /= 1.3"
   ]
  },
  {
   "cell_type": "code",
   "execution_count": 5,
   "metadata": {},
   "outputs": [],
   "source": [
    "Y = np.recfromtxt('/home/aalvarez/Work/Data/TestShift/Filters/Y.ascii')\n",
    "J = np.recfromtxt('/home/aalvarez/Work/Data/TestShift/Filters/J.ascii')"
   ]
  },
  {
   "cell_type": "code",
   "execution_count": 6,
   "metadata": {},
   "outputs": [
    {
     "data": {
      "text/plain": [
       "3000.0"
      ]
     },
     "execution_count": 6,
     "metadata": {},
     "output_type": "execute_result"
    }
   ],
   "source": [
    "shift = np.average(J[:,0], weights=J[:,1]) - np.average(Y[:,0], weights=Y[:,1])\n",
    "shift"
   ]
  },
  {
   "cell_type": "code",
   "execution_count": 7,
   "metadata": {},
   "outputs": [
    {
     "data": {
      "text/plain": [
       "3003.0"
      ]
     },
     "execution_count": 7,
     "metadata": {},
     "output_type": "execute_result"
    }
   ],
   "source": [
    "np.average(sed_shifted[:,0], weights=sed_shifted[:,1]) - np.average(sed[:,0], weights=sed[:,1])"
   ]
  },
  {
   "cell_type": "code",
   "execution_count": 8,
   "metadata": {},
   "outputs": [
    {
     "data": {
      "text/plain": [
       "<matplotlib.legend.Legend at 0x7fbf30e0fb10>"
      ]
     },
     "execution_count": 8,
     "metadata": {},
     "output_type": "execute_result"
    },
    {
     "data": {
      "image/png": "[encoded data removed]",
      "text/plain": [
       "<Figure size 1440x720 with 1 Axes>"
      ]
     },
     "metadata": {
      "needs_background": "light"
     },
     "output_type": "display_data"
    }
   ],
   "source": [
    "plt.figure(figsize=(20,10))\n",
    "plt.plot(Y[:,0], Y[:,1], label='Y')\n",
    "plt.plot(J[:,0], J[:,1], label='J')\n",
    "plt.plot(sed[:,0], sed[:,1], label='Sed Z=1')\n",
    "plt.plot(sed_shifted[:,0], sed_shifted[:,1], label='Sed Z=1.3')\n",
    "plt.legend()"
   ]
  },
  {
   "cell_type": "markdown",
   "metadata": {},
   "source": [
    "We can see that for a redshift of 1, the SED falls fully into the 'Y' band, while for 1.3 it falls into 'J'."
   ]
  },
  {
   "cell_type": "markdown",
   "metadata": {},
   "source": [
    "# Reference sample\n",
    "We generate only 10, half with an arbitrary redshift of 1, and half with an arbitrary refshift of 1.3"
   ]
  },
  {
   "cell_type": "code",
   "execution_count": 9,
   "metadata": {},
   "outputs": [],
   "source": [
    "ref_sample_dir = '/home/aalvarez/Work/Data/TestShift/ReferenceSample'\n",
    "photometry_file = '/home/aalvarez/Work/Data/TestShift/ReferencePhotometry.fits'\n",
    "shutil.rmtree(ref_sample_dir, ignore_errors=True)\n",
    "ref_sample = ReferenceSample.createNew(ref_sample_dir)\n",
    "for i in range(0, 5):\n",
    "    ref_sample.createObject(i)\n",
    "    ref_sample.addSedData(i, sed)\n",
    "    ref_sample.addPdzData(i, np.asarray([(1., 1.), (1.3, 0.)]))\n",
    "for i in range(5, 10):\n",
    "    ref_sample.createObject(i)\n",
    "    ref_sample.addSedData(i, sed_shifted)\n",
    "    ref_sample.addPdzData(i, np.asarray([(1., 0.), (1.3, 1.)]))"
   ]
  },
  {
   "cell_type": "code",
   "execution_count": 10,
   "metadata": {},
   "outputs": [
    {
     "data": {
      "text/plain": [
       "0"
      ]
     },
     "execution_count": 10,
     "metadata": {},
     "output_type": "execute_result"
    }
   ],
   "source": [
    "if os.path.exists(photometry_file): os.unlink(photometry_file)\n",
    "    \n",
    "import subprocess\n",
    "subprocess.call([\n",
    "    '/home/aalvarez/Work/Projects/PHZ_NNPZ/PHZ_NNPZ/build.x86_64-fc30-gcc92-dbg/run', 'NnpzBuildPhotometry',\n",
    "    '--sample-dir', ref_sample_dir,\n",
    "    '--out-type', 'F_nu_uJy',\n",
    "    '--out-file', photometry_file,\n",
    "    '--filters', '/home/aalvarez/Work/Data/TestShift/Filters'\n",
    "])"
   ]
  },
  {
   "cell_type": "code",
   "execution_count": 11,
   "metadata": {},
   "outputs": [
    {
     "data": {
      "text/html": [
       "<i>Table length=10</i>\n",
       "<table id=\"table140459135246096\" class=\"table-striped table-bordered table-condensed\">\n",
       "<thead><tr><th>ID</th><th>J</th><th>Y</th></tr></thead>\n",
       "<thead><tr><th>int64</th><th>float32</th><th>float32</th></tr></thead>\n",
       "<tr><td>0</td><td>0.0</td><td>5.137677e+16</td></tr>\n",
       "<tr><td>1</td><td>0.0</td><td>5.137677e+16</td></tr>\n",
       "<tr><td>2</td><td>0.0</td><td>5.137677e+16</td></tr>\n",
       "<tr><td>3</td><td>0.0</td><td>5.137677e+16</td></tr>\n",
       "<tr><td>4</td><td>0.0</td><td>5.137677e+16</td></tr>\n",
       "<tr><td>5</td><td>6.0776566e+16</td><td>0.0</td></tr>\n",
       "<tr><td>6</td><td>6.0776566e+16</td><td>0.0</td></tr>\n",
       "<tr><td>7</td><td>6.0776566e+16</td><td>0.0</td></tr>\n",
       "<tr><td>8</td><td>6.0776566e+16</td><td>0.0</td></tr>\n",
       "<tr><td>9</td><td>6.0776566e+16</td><td>0.0</td></tr>\n",
       "</table>"
      ],
      "text/plain": [
       "<Table length=10>\n",
       "  ID        J            Y      \n",
       "int64    float32      float32   \n",
       "----- ------------- ------------\n",
       "    0           0.0 5.137677e+16\n",
       "    1           0.0 5.137677e+16\n",
       "    2           0.0 5.137677e+16\n",
       "    3           0.0 5.137677e+16\n",
       "    4           0.0 5.137677e+16\n",
       "    5 6.0776566e+16          0.0\n",
       "    6 6.0776566e+16          0.0\n",
       "    7 6.0776566e+16          0.0\n",
       "    8 6.0776566e+16          0.0\n",
       "    9 6.0776566e+16          0.0"
      ]
     },
     "execution_count": 11,
     "metadata": {},
     "output_type": "execute_result"
    }
   ],
   "source": [
    "photometry = Table.read(photometry_file, hdu=1)\n",
    "photometry"
   ]
  },
  {
   "cell_type": "markdown",
   "metadata": {},
   "source": [
    "* The first four sources, with a redshift of 1, fall entirely in 'Y'.\n",
    "* The second four sources, with a redshift of 1.3, fall entirely in 'J'"
   ]
  },
  {
   "cell_type": "markdown",
   "metadata": {},
   "source": [
    "# Catalog\n",
    "Now we generate just four sources: two with a redshift of 1, two with a redshift of 1.3. For each redshift, one without filter shift, one with."
   ]
  },
  {
   "cell_type": "code",
   "execution_count": 12,
   "metadata": {},
   "outputs": [],
   "source": [
    "os.environ['ELEMENTS_AUX_PATH'] = '/home/aalvarez/Work/Projects/PHZ_NNPZ/PHZ_NNPZ/InstallArea/x86_64-fc30-gcc92-dbg/auxdir/'\n",
    "from nnpz.photometry.PhotometryCalculator import PhotometryCalculator\n",
    "from nnpz.photometry.FnuuJyPrePostProcessor import FnuuJyPrePostProcessor\n",
    "from nnpz.photometry.DirectoryFilterProvider import DirectoryFilterProvider"
   ]
  },
  {
   "cell_type": "code",
   "execution_count": 13,
   "metadata": {},
   "outputs": [],
   "source": [
    "redshifts = [1., 1.3, 1., 1.3]\n",
    "filter_shifts = [0., 0., True, True]"
   ]
  },
  {
   "cell_type": "code",
   "execution_count": 14,
   "metadata": {},
   "outputs": [],
   "source": [
    "filter_provider = DirectoryFilterProvider('/home/aalvarez/Work/Data/TestShift/Filters/')\n",
    "filter_map = {\n",
    "    'Y': filter_provider.getFilterTransmission('Y'),\n",
    "    'J': filter_provider.getFilterTransmission('J'),\n",
    "}\n",
    "filter_map_shift = {\n",
    "    'Y': filter_map['Y'].copy(),\n",
    "    'J': filter_map['J'].copy()\n",
    "}\n",
    "filter_map_shift['Y'][:,0] += shift\n",
    "filter_map_shift['J'][:,0] -= shift\n",
    "calculator = PhotometryCalculator(filter_map, FnuuJyPrePostProcessor())\n",
    "calculator_shifted = PhotometryCalculator(filter_map_shift, FnuuJyPrePostProcessor())"
   ]
  },
  {
   "cell_type": "code",
   "execution_count": 15,
   "metadata": {},
   "outputs": [
    {
     "data": {
      "image/png": "[encoded data removed]",
      "text/plain": [
       "<Figure size 1440x360 with 4 Axes>"
      ]
     },
     "metadata": {
      "needs_background": "light"
     },
     "output_type": "display_data"
    }
   ],
   "source": [
    "rows = []\n",
    "fig, axes = plt.subplots(1, 4, figsize=(20,5))\n",
    "for i, (redshift, filter_shift) in enumerate(zip(redshifts, filter_shifts)):\n",
    "    redshifted_sed = sed.copy()\n",
    "    redshifted_sed[:,0]+=1. # Just avoid infinites\n",
    "    redshifted_sed[:,0]*=redshift\n",
    "    redshifted_sed[:,1]/=redshift\n",
    "\n",
    "    title = f'Redshift {redshift}'\n",
    "    if filter_shift:\n",
    "        photo = calculator_shifted.compute(redshifted_sed)\n",
    "        axes[i].plot(Y[:,0]+shift, Y[:,1], label='Y', c='r')\n",
    "        axes[i].plot(J[:,0]-shift, J[:,1], label='J')\n",
    "        this_shift = shift\n",
    "        title += ', filters shifted'\n",
    "    else:\n",
    "        photo = calculator.compute(redshifted_sed)\n",
    "        axes[i].plot(Y[:,0], Y[:,1], label='Y', c='r')\n",
    "        axes[i].plot(J[:,0], J[:,1], label='J')\n",
    "        this_shift = 0\n",
    "    axes[i].set_title(title)\n",
    "    \n",
    "    axes[i].plot(redshifted_sed[:,0], redshifted_sed[:,1], label='SED')\n",
    "    rows.append((i, photo['Y'], photo['J'], redshift, +this_shift, -this_shift))"
   ]
  },
  {
   "cell_type": "code",
   "execution_count": 16,
   "metadata": {},
   "outputs": [],
   "source": [
    "if os.path.exists('/home/aalvarez/Work/Data/TestShift/Catalog.fits'): os.unlink('/home/aalvarez/Work/Data/TestShift/Catalog.fits')\n",
    "\n",
    "catalog = Table(rows=rows, names=['ID', 'Y', 'J', 'Z', 'Y_shift', 'J_shift'])\n",
    "catalog.write('/home/aalvarez/Work/Data/TestShift/Catalog.fits')"
   ]
  },
  {
   "cell_type": "code",
   "execution_count": 17,
   "metadata": {},
   "outputs": [
    {
     "data": {
      "text/html": [
       "<i>Table length=4</i>\n",
       "<table id=\"table140459133183696\" class=\"table-striped table-bordered table-condensed\">\n",
       "<thead><tr><th>ID</th><th>Y</th><th>J</th><th>Z</th><th>Y_shift</th><th>J_shift</th></tr></thead>\n",
       "<thead><tr><th>int64</th><th>float64</th><th>float64</th><th>float64</th><th>float64</th><th>float64</th></tr></thead>\n",
       "<tr><td>0</td><td>4.62437107219698e+16</td><td>0.0</td><td>1.0</td><td>0.0</td><td>0.0</td></tr>\n",
       "<tr><td>1</td><td>0.0</td><td>4.949443173420478e+16</td><td>1.3</td><td>0.0</td><td>0.0</td></tr>\n",
       "<tr><td>2</td><td>0.0</td><td>4.62437107219698e+16</td><td>1.0</td><td>3000.0</td><td>-3000.0</td></tr>\n",
       "<tr><td>3</td><td>4.949443173420478e+16</td><td>0.0</td><td>1.3</td><td>3000.0</td><td>-3000.0</td></tr>\n",
       "</table>"
      ],
      "text/plain": [
       "<Table length=4>\n",
       "  ID            Y                     J              Z    Y_shift J_shift\n",
       "int64        float64               float64        float64 float64 float64\n",
       "----- --------------------- --------------------- ------- ------- -------\n",
       "    0  4.62437107219698e+16                   0.0     1.0     0.0     0.0\n",
       "    1                   0.0 4.949443173420478e+16     1.3     0.0     0.0\n",
       "    2                   0.0  4.62437107219698e+16     1.0  3000.0 -3000.0\n",
       "    3 4.949443173420478e+16                   0.0     1.3  3000.0 -3000.0"
      ]
     },
     "execution_count": 17,
     "metadata": {},
     "output_type": "execute_result"
    }
   ],
   "source": [
    "catalog"
   ]
  },
  {
   "cell_type": "markdown",
   "metadata": {},
   "source": [
    "# Run NNPZ without correcting the filter shift"
   ]
  },
  {
   "cell_type": "code",
   "execution_count": 18,
   "metadata": {},
   "outputs": [
    {
     "data": {
      "text/plain": [
       "0"
      ]
     },
     "execution_count": 18,
     "metadata": {},
     "output_type": "execute_result"
    }
   ],
   "source": [
    "catalog_without_filter_shift = '/home/aalvarez/Work/Data/TestShift/TestRunNo.fits'\n",
    "if os.path.exists(catalog_without_filter_shift):\n",
    "    os.unlink(catalog_without_filter_shift)\n",
    "subprocess.call([\n",
    "    '/home/aalvarez/Work/Projects/PHZ_NNPZ/PHZ_NNPZ/build.x86_64-fc30-gcc92-dbg/run', 'nnpz',\n",
    "    '--config-file', '/home/aalvarez/Work/Data/TestShift/nnpz.conf',\n",
    "    '--target_catalog_filters_shift=None',\n",
    "    '--output_file', catalog_without_filter_shift\n",
    "], cwd='/home/aalvarez/Work/Data/TestShift/')"
   ]
  },
  {
   "cell_type": "code",
   "execution_count": 19,
   "metadata": {},
   "outputs": [
    {
     "data": {
      "text/html": [
       "<i>Table length=4</i>\n",
       "<table id=\"table140459135242512\" class=\"table-striped table-bordered table-condensed\">\n",
       "<thead><tr><th>ID</th><th>REDSHIFT_MODE</th><th>Z</th></tr></thead>\n",
       "<thead><tr><th>int64</th><th>float32</th><th>float64</th></tr></thead>\n",
       "<tr><td>0</td><td>1.0</td><td>1.0</td></tr>\n",
       "<tr><td>1</td><td>1.3</td><td>1.3</td></tr>\n",
       "<tr><td>2</td><td>1.3</td><td>1.0</td></tr>\n",
       "<tr><td>3</td><td>1.0</td><td>1.3</td></tr>\n",
       "</table>"
      ],
      "text/plain": [
       "<Table length=4>\n",
       "  ID  REDSHIFT_MODE    Z   \n",
       "int64    float32    float64\n",
       "----- ------------- -------\n",
       "    0           1.0     1.0\n",
       "    1           1.3     1.3\n",
       "    2           1.3     1.0\n",
       "    3           1.0     1.3"
      ]
     },
     "execution_count": 19,
     "metadata": {},
     "output_type": "execute_result"
    }
   ],
   "source": [
    "no_correction = Table.read(catalog_without_filter_shift, hdu=1)\n",
    "no_correction[['ID', 'REDSHIFT_MODE', 'Z']]"
   ]
  },
  {
   "cell_type": "markdown",
   "metadata": {},
   "source": [
    "Without corrections, the predictions are obviosly wrong, as the redshift 1.0 with filter shift looks exactly as a redshift 1.3 "
   ]
  },
  {
   "cell_type": "markdown",
   "metadata": {},
   "source": [
    "# Run NNPZ with correction"
   ]
  },
  {
   "cell_type": "code",
   "execution_count": 20,
   "metadata": {},
   "outputs": [
    {
     "data": {
      "text/plain": [
       "0"
      ]
     },
     "execution_count": 20,
     "metadata": {},
     "output_type": "execute_result"
    }
   ],
   "source": [
    "catalog_with_filter_shift = '/home/aalvarez/Work/Data/TestShift/TestRun.fits'\n",
    "if os.path.exists(catalog_with_filter_shift):\n",
    "    os.unlink(catalog_with_filter_shift)\n",
    "subprocess.call([\n",
    "    '/home/aalvarez/Work/Projects/PHZ_NNPZ/PHZ_NNPZ/build.x86_64-fc30-gcc92-dbg/run', 'nnpz',\n",
    "    '--config-file', '/home/aalvarez/Work/Data/TestShift/nnpz.conf',\n",
    "    '--output_file', catalog_with_filter_shift\n",
    "], cwd='/home/aalvarez/Work/Data/TestShift/')"
   ]
  },
  {
   "cell_type": "code",
   "execution_count": 21,
   "metadata": {},
   "outputs": [
    {
     "data": {
      "text/html": [
       "<i>Table length=4</i>\n",
       "<table id=\"table140459133159440\" class=\"table-striped table-bordered table-condensed\">\n",
       "<thead><tr><th>ID</th><th>REDSHIFT_MODE</th><th>Z</th></tr></thead>\n",
       "<thead><tr><th>int64</th><th>float32</th><th>float64</th></tr></thead>\n",
       "<tr><td>0</td><td>1.0</td><td>1.0</td></tr>\n",
       "<tr><td>1</td><td>1.3</td><td>1.3</td></tr>\n",
       "<tr><td>2</td><td>1.0</td><td>1.0</td></tr>\n",
       "<tr><td>3</td><td>1.3</td><td>1.3</td></tr>\n",
       "</table>"
      ],
      "text/plain": [
       "<Table length=4>\n",
       "  ID  REDSHIFT_MODE    Z   \n",
       "int64    float32    float64\n",
       "----- ------------- -------\n",
       "    0           1.0     1.0\n",
       "    1           1.3     1.3\n",
       "    2           1.0     1.0\n",
       "    3           1.3     1.3"
      ]
     },
     "execution_count": 21,
     "metadata": {},
     "output_type": "execute_result"
    }
   ],
   "source": [
    "correction = Table.read(catalog_with_filter_shift, hdu=1)\n",
    "correction[['ID', 'REDSHIFT_MODE', 'Z']]"
   ]
  },
  {
   "cell_type": "markdown",
   "metadata": {},
   "source": [
    "Now the values are exactly what expected, since the artificial shift has been corrected."
   ]
  },
  {
   "cell_type": "code",
   "execution_count": null,
   "metadata": {},
   "outputs": [],
   "source": []
  }
 ],
 "metadata": {
  "kernelspec": {
   "display_name": "Python 3",
   "language": "python",
   "name": "python3"
  },
  "language_info": {
   "codemirror_mode": {
    "name": "ipython",
    "version": 3
   },
   "file_extension": ".py",
   "mimetype": "text/x-python",
   "name": "python",
   "nbconvert_exporter": "python",
   "pygments_lexer": "ipython3",
   "version": "3.7.4"
  }
 },
 "nbformat": 4,
 "nbformat_minor": 4
}
