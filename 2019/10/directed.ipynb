{
 "cells": [
  {
   "cell_type": "code",
   "execution_count": 4,
   "metadata": {},
   "outputs": [],
   "source": [
    "import numpy as np\n",
    "import matplotlib.pyplot as plt\n",
    "import itertools"
   ]
  },
  {
   "cell_type": "code",
   "execution_count": 251,
   "metadata": {},
   "outputs": [],
   "source": [
    "axis = np.arange(0, 41, 20)\n",
    "reference = np.array(list(itertools.product(axis, axis)))\n",
    "point = np.array([20, 20])"
   ]
  },
  {
   "cell_type": "code",
   "execution_count": 264,
   "metadata": {},
   "outputs": [],
   "source": [
    "def directed_distance(ref_data_values, coord_values):\n",
    "    euclidean = ref_data_values - coord_values\n",
    "    euclidean = euclidean * euclidean\n",
    "    euclidean = np.sum(euclidean, axis=1)\n",
    "\n",
    "    angular_num = np.dot(ref_data_values, coord_values)\n",
    "    angular_den = np.linalg.norm(ref_data_values, axis=1) * np.linalg.norm(coord_values)\n",
    "    print(angular_num, angular_den)\n",
    "    angular = angular_num / angular_den\n",
    "    print(euclidean)\n",
    "\n",
    "    return euclidean* np.sin(np.arccos(angular))**2"
   ]
  },
  {
   "cell_type": "code",
   "execution_count": 266,
   "metadata": {},
   "outputs": [
    {
     "name": "stdout",
     "output_type": "stream",
     "text": [
      "[   0  400  800  400  800 1200  800 1200 1600] [   0.          565.68542495 1131.3708499   565.68542495  800.\n",
      " 1264.91106407 1131.3708499  1264.91106407 1600.        ]\n",
      "[800 400 800 400   0 400 800 400 800]\n"
     ]
    },
    {
     "name": "stderr",
     "output_type": "stream",
     "text": [
      "/home/aalvarez/miniconda3/envs/phz/lib/python3.7/site-packages/ipykernel_launcher.py:9: RuntimeWarning: invalid value encountered in true_divide\n",
      "  if __name__ == '__main__':\n"
     ]
    },
    {
     "data": {
      "text/plain": [
       "array([           nan, 2.00000000e+02, 4.00000000e+02, 2.00000000e+02,\n",
       "       0.00000000e+00, 4.00000000e+01, 4.00000000e+02, 4.00000000e+01,\n",
       "       1.77635684e-13])"
      ]
     },
     "execution_count": 266,
     "metadata": {},
     "output_type": "execute_result"
    }
   ],
   "source": [
    "distances = directed_distance(reference, point)\n",
    "distances"
   ]
  },
  {
   "cell_type": "code",
   "execution_count": 258,
   "metadata": {},
   "outputs": [
    {
     "data": {
      "image/png": "[encoded data removed]",
      "text/plain": [
       "<Figure size 720x720 with 2 Axes>"
      ]
     },
     "metadata": {
      "needs_background": "light"
     },
     "output_type": "display_data"
    }
   ],
   "source": [
    "plt.figure(figsize=(10,10))\n",
    "plt.imshow(distances.reshape(len(axis),-1), cmap=plt.get_cmap('afmhot_r'))\n",
    "plt.colorbar()\n",
    "plt.show()"
   ]
  },
  {
   "cell_type": "code",
   "execution_count": 259,
   "metadata": {},
   "outputs": [
    {
     "data": {
      "text/plain": [
       "array([           nan, 2.00000000e+02, 4.00000000e+02, 2.00000000e+02,\n",
       "       0.00000000e+00, 4.00000000e+01, 4.00000000e+02, 4.00000000e+01,\n",
       "       1.77635684e-13])"
      ]
     },
     "execution_count": 259,
     "metadata": {},
     "output_type": "execute_result"
    }
   ],
   "source": [
    "distances"
   ]
  },
  {
   "cell_type": "code",
   "execution_count": null,
   "metadata": {},
   "outputs": [],
   "source": []
  }
 ],
 "metadata": {
  "kernelspec": {
   "display_name": "Python 3",
   "language": "python",
   "name": "python3"
  },
  "language_info": {
   "codemirror_mode": {
    "name": "ipython",
    "version": 3
   },
   "file_extension": ".py",
   "mimetype": "text/x-python",
   "name": "python",
   "nbconvert_exporter": "python",
   "pygments_lexer": "ipython3",
   "version": "3.7.4"
  }
 },
 "nbformat": 4,
 "nbformat_minor": 4
}
