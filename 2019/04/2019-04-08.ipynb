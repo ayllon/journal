{
 "cells": [
  {
   "cell_type": "code",
   "execution_count": 1,
   "metadata": {},
   "outputs": [],
   "source": [
    "import numpy as np\n",
    "import scipy.ndimage as ndimage"
   ]
  },
  {
   "cell_type": "markdown",
   "metadata": {},
   "source": [
    "# Segmentation filter\n",
    "The original implementation is:"
   ]
  },
  {
   "cell_type": "code",
   "execution_count": 2,
   "metadata": {},
   "outputs": [],
   "source": [
    "def generateTileOriginal(kernel, image, variance, threshold=.5):\n",
    "    output = np.zeros(image.shape)\n",
    "    hx = kernel.shape[0] // 2\n",
    "    hy = kernel.shape[1] // 2\n",
    "    width = image.shape[0]\n",
    "    height = image.shape[1]\n",
    "\n",
    "    for iy in range(0, height):\n",
    "        for ix in range(0, width):\n",
    "            total = 0.\n",
    "            total_ignoring_threshold = 0.\n",
    "            conv_weight = 0.\n",
    "            conv_weight_ignoring_threshold = 0.\n",
    "            if variance[ix, iy] < threshold:\n",
    "                for cy in range(0, kernel.shape[1]):\n",
    "                    for cx in range(0, kernel.shape[0]):\n",
    "                        x2 = ix + cx - hx\n",
    "                        y2 = iy + cy - hy\n",
    "\n",
    "                        if x2 >= 0 and x2 < width and y2 >= 0 and y2 < height:\n",
    "                            if variance[x2,y2] < threshold:\n",
    "                                total += image[x2, y2] * kernel[cx, cy]\n",
    "                                conv_weight += kernel[cx, cy]\n",
    "                            total_ignoring_threshold += image[x2, y2] * kernel[cx, cy]\n",
    "                            conv_weight_ignoring_threshold += kernel[cx, cy]\n",
    "\n",
    "                if conv_weight > 0:\n",
    "                    output[ix, iy] = total / conv_weight\n",
    "                else:\n",
    "                    output[ix, iy] = total_ignoring_threshold / conv_weight_ignoring_threshold\n",
    "\n",
    "    return output"
   ]
  },
  {
   "cell_type": "markdown",
   "metadata": {},
   "source": [
    "### A first rewrite\n",
    "First thing to notice is that the variance map is used only in two conditionals: lines 14 and 21. Therefore, we could generate an image where pixels are 1 if the variance is below the threshold, or 0 if above, and replace\n",
    "\n",
    "```python\n",
    "if variance[x2,y2] < threshold:\n",
    "```\n",
    "\n",
    "with \n",
    "\n",
    "```python\n",
    "if mask[x2,y2]\n",
    "``` \n",
    "\n",
    "If we inspect closer where this conditional would be used, we can see that the effect is, in the inner `if`, equivalent to add 0 when the mask is 0, or the value of the image multiplied by the kernel when it is 1; and similarly for the weight addition. So we can get rid of the conditional, and rewrite as:\n",
    "\n",
    "```python\n",
    "total += image[x2, y2] * kernel[cx, cy] * mask[x2, y2]\n",
    "conv_weight += kernel[cx, cy] * mask[x2, y2]\n",
    "```\n",
    "\n",
    "The variables `total_ignoring_threshold` and `conv_weight_ignoring_threshold` are kind of pointless since the outer conditional was added, as, at least, the central pixel will have a variance lower than the threshold. So conv_weight will always be greater than 0."
   ]
  },
  {
   "cell_type": "code",
   "execution_count": 3,
   "metadata": {},
   "outputs": [],
   "source": [
    "def generateTileVersionA(kernel, image, variance, threshold=.5):\n",
    "    output = np.zeros(image.shape)\n",
    "    hx = kernel.shape[0] // 2\n",
    "    hy = kernel.shape[1] // 2\n",
    "    width = image.shape[0]\n",
    "    height = image.shape[1]\n",
    "    mask = (variance < threshold).astype(np.float)\n",
    "\n",
    "    for iy in range(0, height):\n",
    "        for ix in range(0, width):\n",
    "            total = 0.\n",
    "            conv_weight = 0.\n",
    "            if mask[ix, iy]:\n",
    "                for cy in range(0, kernel.shape[1]):\n",
    "                    for cx in range(0, kernel.shape[0]):\n",
    "                        x2 = ix + cx - hx\n",
    "                        y2 = iy + cy - hy\n",
    "\n",
    "                        if x2 >= 0 and x2 < width and y2 >= 0 and y2 < height:\n",
    "                            total += image[x2, y2] * kernel[cx, cy] * mask[x2, y2]\n",
    "                            conv_weight += kernel[cx, cy] * mask[x2, y2]\n",
    "\n",
    "                output[ix, iy] = total / conv_weight\n",
    "\n",
    "    return output"
   ]
  },
  {
   "cell_type": "markdown",
   "metadata": {},
   "source": [
    "Let's verify they give the same result."
   ]
  },
  {
   "cell_type": "code",
   "execution_count": 4,
   "metadata": {},
   "outputs": [],
   "source": [
    "img = np.arange(25).reshape(5,-1).astype(np.float)\n",
    "var = np.random.random((5,5))\n",
    "kernel=np.array([[0,1,0],[1,2,1],[0,1,0]]).astype(np.float)\n",
    "threshold = 0.5"
   ]
  },
  {
   "cell_type": "code",
   "execution_count": 5,
   "metadata": {},
   "outputs": [
    {
     "data": {
      "text/plain": [
       "array([[ 0.,  1.,  2.,  3.,  4.],\n",
       "       [ 5.,  6.,  7.,  8.,  9.],\n",
       "       [10., 11., 12., 13., 14.],\n",
       "       [15., 16., 17., 18., 19.],\n",
       "       [20., 21., 22., 23., 24.]])"
      ]
     },
     "execution_count": 5,
     "metadata": {},
     "output_type": "execute_result"
    }
   ],
   "source": [
    "img"
   ]
  },
  {
   "cell_type": "code",
   "execution_count": 6,
   "metadata": {},
   "outputs": [
    {
     "data": {
      "text/plain": [
       "array([[0.26966613, 0.51548509, 0.82427199, 0.11087943, 0.27400985],\n",
       "       [0.5773263 , 0.50657198, 0.34718092, 0.59590405, 0.30646345],\n",
       "       [0.7754545 , 0.44818602, 0.98572844, 0.0455693 , 0.27501566],\n",
       "       [0.70661158, 0.95080935, 0.54487754, 0.97771282, 0.44513659],\n",
       "       [0.03833808, 0.01719552, 0.29122308, 0.25883254, 0.59640376]])"
      ]
     },
     "execution_count": 6,
     "metadata": {},
     "output_type": "execute_result"
    }
   ],
   "source": [
    "var"
   ]
  },
  {
   "cell_type": "code",
   "execution_count": 7,
   "metadata": {},
   "outputs": [
    {
     "data": {
      "text/plain": [
       "array([[0., 1., 0.],\n",
       "       [1., 2., 1.],\n",
       "       [0., 1., 0.]])"
      ]
     },
     "execution_count": 7,
     "metadata": {},
     "output_type": "execute_result"
    }
   ],
   "source": [
    "kernel"
   ]
  },
  {
   "cell_type": "code",
   "execution_count": 8,
   "metadata": {},
   "outputs": [
    {
     "data": {
      "text/plain": [
       "array([[ 0.        ,  0.        ,  0.        ,  3.33333333,  5.        ],\n",
       "       [ 0.        ,  0.        ,  7.        ,  0.        ,  9.        ],\n",
       "       [ 0.        , 11.        ,  0.        , 13.33333333, 13.8       ],\n",
       "       [ 0.        ,  0.        ,  0.        ,  0.        , 17.33333333],\n",
       "       [20.33333333, 21.        , 22.        , 22.66666667,  0.        ]])"
      ]
     },
     "execution_count": 8,
     "metadata": {},
     "output_type": "execute_result"
    }
   ],
   "source": [
    "generateTileOriginal(kernel, img, var, threshold)"
   ]
  },
  {
   "cell_type": "code",
   "execution_count": 9,
   "metadata": {},
   "outputs": [
    {
     "data": {
      "text/plain": [
       "array([[ 0.        ,  0.        ,  0.        ,  3.33333333,  5.        ],\n",
       "       [ 0.        ,  0.        ,  7.        ,  0.        ,  9.        ],\n",
       "       [ 0.        , 11.        ,  0.        , 13.33333333, 13.8       ],\n",
       "       [ 0.        ,  0.        ,  0.        ,  0.        , 17.33333333],\n",
       "       [20.33333333, 21.        , 22.        , 22.66666667,  0.        ]])"
      ]
     },
     "execution_count": 9,
     "metadata": {},
     "output_type": "execute_result"
    }
   ],
   "source": [
    "generateTileVersionA(kernel, img, var, threshold)"
   ]
  },
  {
   "cell_type": "markdown",
   "metadata": {},
   "source": [
    "They do match.\n",
    "\n",
    "### Second rewrite\n",
    "Can we get rid of the other conditional, and use the mask instead? Well, that `if` is basically setting a pixel to 0 if the mask is 0, and to the convolved value otherwise. We could get rid of it, and move the if (or the application of the mask) outside.\n",
    "\n",
    "If we do this, we need to put a check for `conv_weight`, as it may be be 0 now! Again, if the mask is not 0, then it will have a value."
   ]
  },
  {
   "cell_type": "code",
   "execution_count": 10,
   "metadata": {},
   "outputs": [],
   "source": [
    "def generateTileVersionB(kernel, image, variance, threshold=.5):\n",
    "    output = np.zeros(image.shape)\n",
    "    hx = kernel.shape[0] // 2\n",
    "    hy = kernel.shape[1] // 2\n",
    "    width = image.shape[0]\n",
    "    height = image.shape[1]\n",
    "    mask = (variance < threshold).astype(np.float)\n",
    "\n",
    "    for iy in range(0, height):\n",
    "        for ix in range(0, width):\n",
    "            total = 0.\n",
    "            conv_weight = 0.\n",
    "            for cy in range(0, kernel.shape[1]):\n",
    "                for cx in range(0, kernel.shape[0]):\n",
    "                    x2 = ix + cx - hx\n",
    "                    y2 = iy + cy - hy\n",
    "\n",
    "                    if x2 >= 0 and x2 < width and y2 >= 0 and y2 < height:\n",
    "                        total += image[x2, y2] * kernel[cx, cy] * mask[x2, y2]\n",
    "                        conv_weight += kernel[cx, cy] * mask[x2, y2]\n",
    "\n",
    "            if mask[ix, iy]:\n",
    "                output[ix, iy] = total / conv_weight\n",
    "\n",
    "    return output * mask"
   ]
  },
  {
   "cell_type": "code",
   "execution_count": 11,
   "metadata": {},
   "outputs": [
    {
     "data": {
      "text/plain": [
       "array([[ 0.        ,  0.        ,  0.        ,  3.33333333,  5.        ],\n",
       "       [ 0.        ,  0.        ,  7.        ,  0.        ,  9.        ],\n",
       "       [ 0.        , 11.        ,  0.        , 13.33333333, 13.8       ],\n",
       "       [ 0.        ,  0.        ,  0.        ,  0.        , 17.33333333],\n",
       "       [20.33333333, 21.        , 22.        , 22.66666667,  0.        ]])"
      ]
     },
     "execution_count": 11,
     "metadata": {},
     "output_type": "execute_result"
    }
   ],
   "source": [
    "generateTileVersionB(kernel, img, var, threshold)"
   ]
  },
  {
   "cell_type": "markdown",
   "metadata": {},
   "source": [
    "### Third rewrite\n",
    "Line 18 is applying the kernel to the image and then mask. Or, equivalent, is applying the kernel to the masked image.\n",
    "Line 19 is applying the kernel to the mask.\n",
    "\n",
    "Lines 22 and 23 are dividing the convolved image by the convolved mask for non masked pixels.\n",
    "\n",
    "So, equivalently:"
   ]
  },
  {
   "cell_type": "code",
   "execution_count": 14,
   "metadata": {},
   "outputs": [],
   "source": [
    "def generateTileVersionC(kernel, image, variance, threshold=.5):\n",
    "    output = np.zeros(image.shape)\n",
    "    width = image.shape[0]\n",
    "    height = image.shape[1]\n",
    "    mask = (variance < threshold).astype(np.float)\n",
    "    \n",
    "    total = ndimage.convolve(image * mask, kernel, mode='constant')\n",
    "    weight = ndimage.convolve(mask, kernel, mode='constant')\n",
    "\n",
    "    for iy in range(0, height):\n",
    "        for ix in range(0, width):\n",
    "            if mask[ix, iy]:\n",
    "                output[ix, iy] = total[ix, iy] / weight[ix, iy]\n",
    "\n",
    "    return output"
   ]
  },
  {
   "cell_type": "code",
   "execution_count": 15,
   "metadata": {},
   "outputs": [
    {
     "data": {
      "text/plain": [
       "array([[ 0.        ,  0.        ,  0.        ,  3.33333333,  5.        ],\n",
       "       [ 0.        ,  0.        ,  7.        ,  0.        ,  9.        ],\n",
       "       [ 0.        , 11.        ,  0.        , 13.33333333, 13.8       ],\n",
       "       [ 0.        ,  0.        ,  0.        ,  0.        , 17.33333333],\n",
       "       [20.33333333, 21.        , 22.        , 22.66666667,  0.        ]])"
      ]
     },
     "execution_count": 15,
     "metadata": {},
     "output_type": "execute_result"
    }
   ],
   "source": [
    "generateTileVersionC(kernel, img, var, threshold)"
   ]
  },
  {
   "cell_type": "code",
   "execution_count": null,
   "metadata": {},
   "outputs": [],
   "source": []
  }
 ],
 "metadata": {
  "kernelspec": {
   "display_name": "Python 3",
   "language": "python",
   "name": "python3"
  },
  "language_info": {
   "codemirror_mode": {
    "name": "ipython",
    "version": 3
   },
   "file_extension": ".py",
   "mimetype": "text/x-python",
   "name": "python",
   "nbconvert_exporter": "python",
   "pygments_lexer": "ipython3",
   "version": "3.7.2"
  }
 },
 "nbformat": 4,
 "nbformat_minor": 2
}
