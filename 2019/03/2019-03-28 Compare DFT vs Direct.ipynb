{
 "cells": [
  {
   "cell_type": "code",
   "execution_count": 1,
   "metadata": {},
   "outputs": [],
   "source": [
    "%matplotlib inline\n",
    "import os\n",
    "import sys\n",
    "import prettyprint\n",
    "import numpy as np\n",
    "import matplotlib.pyplot as plt\n",
    "from astropy.table import Table\n",
    "from astropy.io import fits"
   ]
  },
  {
   "cell_type": "code",
   "execution_count": 2,
   "metadata": {},
   "outputs": [],
   "source": [
    "SEXTRACTOR_DIR='/home/aalvarez/Work/Projects/SExtractorxx'"
   ]
  },
  {
   "cell_type": "code",
   "execution_count": 3,
   "metadata": {},
   "outputs": [],
   "source": [
    "os.environ['PYTHONPATH'] = f'{SEXTRACTOR_DIR}/build.x86_64-fc29-gcc83-dbg/lib:{SEXTRACTOR_DIR}/SEImplementation/python'"
   ]
  },
  {
   "cell_type": "markdown",
   "metadata": {},
   "source": [
    "## Configuration"
   ]
  },
  {
   "cell_type": "code",
   "execution_count": 4,
   "metadata": {},
   "outputs": [
    {
     "data": {
      "text/html": [
       "<style type=\"text/css\">.highlight .hll { background-color: #ffffcc }\n",
       ".highlight  { background: #f8f8f8; }\n",
       ".highlight .c { color: #408080; font-style: italic } /* Comment */\n",
       ".highlight .err { border: 1px solid #FF0000 } /* Error */\n",
       ".highlight .k { color: #008000; font-weight: bold } /* Keyword */\n",
       ".highlight .o { color: #666666 } /* Operator */\n",
       ".highlight .ch { color: #408080; font-style: italic } /* Comment.Hashbang */\n",
       ".highlight .cm { color: #408080; font-style: italic } /* Comment.Multiline */\n",
       ".highlight .cp { color: #BC7A00 } /* Comment.Preproc */\n",
       ".highlight .cpf { color: #408080; font-style: italic } /* Comment.PreprocFile */\n",
       ".highlight .c1 { color: #408080; font-style: italic } /* Comment.Single */\n",
       ".highlight .cs { color: #408080; font-style: italic } /* Comment.Special */\n",
       ".highlight .gd { color: #A00000 } /* Generic.Deleted */\n",
       ".highlight .ge { font-style: italic } /* Generic.Emph */\n",
       ".highlight .gr { color: #FF0000 } /* Generic.Error */\n",
       ".highlight .gh { color: #000080; font-weight: bold } /* Generic.Heading */\n",
       ".highlight .gi { color: #00A000 } /* Generic.Inserted */\n",
       ".highlight .go { color: #888888 } /* Generic.Output */\n",
       ".highlight .gp { color: #000080; font-weight: bold } /* Generic.Prompt */\n",
       ".highlight .gs { font-weight: bold } /* Generic.Strong */\n",
       ".highlight .gu { color: #800080; font-weight: bold } /* Generic.Subheading */\n",
       ".highlight .gt { color: #0044DD } /* Generic.Traceback */\n",
       ".highlight .kc { color: #008000; font-weight: bold } /* Keyword.Constant */\n",
       ".highlight .kd { color: #008000; font-weight: bold } /* Keyword.Declaration */\n",
       ".highlight .kn { color: #008000; font-weight: bold } /* Keyword.Namespace */\n",
       ".highlight .kp { color: #008000 } /* Keyword.Pseudo */\n",
       ".highlight .kr { color: #008000; font-weight: bold } /* Keyword.Reserved */\n",
       ".highlight .kt { color: #B00040 } /* Keyword.Type */\n",
       ".highlight .m { color: #666666 } /* Literal.Number */\n",
       ".highlight .s { color: #BA2121 } /* Literal.String */\n",
       ".highlight .na { color: #7D9029 } /* Name.Attribute */\n",
       ".highlight .nb { color: #008000 } /* Name.Builtin */\n",
       ".highlight .nc { color: #0000FF; font-weight: bold } /* Name.Class */\n",
       ".highlight .no { color: #880000 } /* Name.Constant */\n",
       ".highlight .nd { color: #AA22FF } /* Name.Decorator */\n",
       ".highlight .ni { color: #999999; font-weight: bold } /* Name.Entity */\n",
       ".highlight .ne { color: #D2413A; font-weight: bold } /* Name.Exception */\n",
       ".highlight .nf { color: #0000FF } /* Name.Function */\n",
       ".highlight .nl { color: #A0A000 } /* Name.Label */\n",
       ".highlight .nn { color: #0000FF; font-weight: bold } /* Name.Namespace */\n",
       ".highlight .nt { color: #008000; font-weight: bold } /* Name.Tag */\n",
       ".highlight .nv { color: #19177C } /* Name.Variable */\n",
       ".highlight .ow { color: #AA22FF; font-weight: bold } /* Operator.Word */\n",
       ".highlight .w { color: #bbbbbb } /* Text.Whitespace */\n",
       ".highlight .mb { color: #666666 } /* Literal.Number.Bin */\n",
       ".highlight .mf { color: #666666 } /* Literal.Number.Float */\n",
       ".highlight .mh { color: #666666 } /* Literal.Number.Hex */\n",
       ".highlight .mi { color: #666666 } /* Literal.Number.Integer */\n",
       ".highlight .mo { color: #666666 } /* Literal.Number.Oct */\n",
       ".highlight .sa { color: #BA2121 } /* Literal.String.Affix */\n",
       ".highlight .sb { color: #BA2121 } /* Literal.String.Backtick */\n",
       ".highlight .sc { color: #BA2121 } /* Literal.String.Char */\n",
       ".highlight .dl { color: #BA2121 } /* Literal.String.Delimiter */\n",
       ".highlight .sd { color: #BA2121; font-style: italic } /* Literal.String.Doc */\n",
       ".highlight .s2 { color: #BA2121 } /* Literal.String.Double */\n",
       ".highlight .se { color: #BB6622; font-weight: bold } /* Literal.String.Escape */\n",
       ".highlight .sh { color: #BA2121 } /* Literal.String.Heredoc */\n",
       ".highlight .si { color: #BB6688; font-weight: bold } /* Literal.String.Interpol */\n",
       ".highlight .sx { color: #008000 } /* Literal.String.Other */\n",
       ".highlight .sr { color: #BB6688 } /* Literal.String.Regex */\n",
       ".highlight .s1 { color: #BA2121 } /* Literal.String.Single */\n",
       ".highlight .ss { color: #19177C } /* Literal.String.Symbol */\n",
       ".highlight .bp { color: #008000 } /* Name.Builtin.Pseudo */\n",
       ".highlight .fm { color: #0000FF } /* Name.Function.Magic */\n",
       ".highlight .vc { color: #19177C } /* Name.Variable.Class */\n",
       ".highlight .vg { color: #19177C } /* Name.Variable.Global */\n",
       ".highlight .vi { color: #19177C } /* Name.Variable.Instance */\n",
       ".highlight .vm { color: #19177C } /* Name.Variable.Magic */\n",
       ".highlight .il { color: #666666 } /* Literal.Number.Integer.Long */</style><div class=\"highlight\"><pre><span></span><span class=\"na\">detection-image</span><span class=\"o\">=</span><span class=\"s\">/run/media/aalvarez/Astrodata/test19k.fits</span>\n",
       "<span class=\"na\">weight-image</span><span class=\"o\">=</span><span class=\"s\">/run/media/aalvarez/Astrodata/test19k.weight.fits</span>\n",
       "<span class=\"na\">output-catalog-filename</span><span class=\"o\">=</span><span class=\"s\">/run/media/aalvarez/Astrodata/test19k_catalog.fits</span>\n",
       "\n",
       "<span class=\"na\">detection-threshold</span><span class=\"o\">=</span><span class=\"s\">1.5</span>\n",
       "<span class=\"na\">detection-image-interpolation</span><span class=\"o\">=</span><span class=\"s\">0</span>\n",
       "<span class=\"na\">detection-image-interpolation-gap</span><span class=\"o\">=</span><span class=\"s\">0</span>\n",
       "<span class=\"na\">detect-minarea</span><span class=\"o\">=</span><span class=\"s\">10</span>\n",
       "<span class=\"c1\">#weight-absolute=1</span>\n",
       "<span class=\"na\">weight-type</span><span class=\"o\">=</span><span class=\"s\">weight</span>\n",
       "<span class=\"c1\">#weight-threshold=9.0e+15</span>\n",
       "<span class=\"na\">weight-usesymmetry</span><span class=\"o\">=</span><span class=\"s\">1</span>\n",
       "<span class=\"na\">background-cell-size</span><span class=\"o\">=</span><span class=\"s\">32</span>\n",
       "<span class=\"na\">smoothing-box-size</span><span class=\"o\">=</span><span class=\"s\">0 </span>\n",
       "<span class=\"na\">background-value</span><span class=\"o\">=</span><span class=\"s\">0.0</span>\n",
       "<span class=\"na\">segmentation-filter</span><span class=\"o\">=</span><span class=\"s\">/run/media/aalvarez/Astrodata/mer.conv</span>\n",
       "<span class=\"na\">partition-multithreshold</span><span class=\"o\">=</span><span class=\"s\">1</span>\n",
       "<span class=\"na\">partition-min-area</span><span class=\"o\">=</span><span class=\"s\">10</span>\n",
       "<span class=\"na\">output-properties</span><span class=\"o\">=</span><span class=\"s\">PixelCentroid,WorldCentroid,SourceIDs,IsophotalFlux,SourceFlags,AutoPhotometry</span>\n",
       "<span class=\"na\">tile-memory-limit</span><span class=\"o\">=</span><span class=\"s\">4096</span>\n",
       "<span class=\"na\">tile-size</span><span class=\"o\">=</span><span class=\"s\">4096</span>\n",
       "<span class=\"na\">psf-fwhm</span><span class=\"o\">=</span><span class=\"s\">2.0</span>\n",
       "<span class=\"na\">psf-pixel-scale</span><span class=\"o\">=</span><span class=\"s\">0.1</span>\n",
       "<span class=\"na\">magnitude-zeropoint</span><span class=\"o\">=</span><span class=\"s\">26.849000</span>\n",
       "</pre></div>\n"
      ],
      "text/plain": [
       "<IPython.core.display.HTML object>"
      ]
     },
     "execution_count": 4,
     "metadata": {},
     "output_type": "execute_result"
    }
   ],
   "source": [
    "prettyprint.prettyprint('/run/media/aalvarez/Astrodata/sextractorxx_19k.config')"
   ]
  },
  {
   "cell_type": "code",
   "execution_count": 5,
   "metadata": {},
   "outputs": [
    {
     "data": {
      "text/plain": [
       "(19200, 19200)"
      ]
     },
     "execution_count": 5,
     "metadata": {},
     "output_type": "execute_result"
    }
   ],
   "source": [
    "fits.open('/run/media/aalvarez/Astrodata/test19k.fits')[0].shape"
   ]
  },
  {
   "cell_type": "code",
   "execution_count": 6,
   "metadata": {},
   "outputs": [
    {
     "data": {
      "text/html": [
       "<style type=\"text/css\">.highlight .hll { background-color: #ffffcc }\n",
       ".highlight  { background: #f8f8f8; }\n",
       ".highlight .c { color: #408080; font-style: italic } /* Comment */\n",
       ".highlight .err { border: 1px solid #FF0000 } /* Error */\n",
       ".highlight .k { color: #008000; font-weight: bold } /* Keyword */\n",
       ".highlight .o { color: #666666 } /* Operator */\n",
       ".highlight .ch { color: #408080; font-style: italic } /* Comment.Hashbang */\n",
       ".highlight .cm { color: #408080; font-style: italic } /* Comment.Multiline */\n",
       ".highlight .cp { color: #BC7A00 } /* Comment.Preproc */\n",
       ".highlight .cpf { color: #408080; font-style: italic } /* Comment.PreprocFile */\n",
       ".highlight .c1 { color: #408080; font-style: italic } /* Comment.Single */\n",
       ".highlight .cs { color: #408080; font-style: italic } /* Comment.Special */\n",
       ".highlight .gd { color: #A00000 } /* Generic.Deleted */\n",
       ".highlight .ge { font-style: italic } /* Generic.Emph */\n",
       ".highlight .gr { color: #FF0000 } /* Generic.Error */\n",
       ".highlight .gh { color: #000080; font-weight: bold } /* Generic.Heading */\n",
       ".highlight .gi { color: #00A000 } /* Generic.Inserted */\n",
       ".highlight .go { color: #888888 } /* Generic.Output */\n",
       ".highlight .gp { color: #000080; font-weight: bold } /* Generic.Prompt */\n",
       ".highlight .gs { font-weight: bold } /* Generic.Strong */\n",
       ".highlight .gu { color: #800080; font-weight: bold } /* Generic.Subheading */\n",
       ".highlight .gt { color: #0044DD } /* Generic.Traceback */\n",
       ".highlight .kc { color: #008000; font-weight: bold } /* Keyword.Constant */\n",
       ".highlight .kd { color: #008000; font-weight: bold } /* Keyword.Declaration */\n",
       ".highlight .kn { color: #008000; font-weight: bold } /* Keyword.Namespace */\n",
       ".highlight .kp { color: #008000 } /* Keyword.Pseudo */\n",
       ".highlight .kr { color: #008000; font-weight: bold } /* Keyword.Reserved */\n",
       ".highlight .kt { color: #B00040 } /* Keyword.Type */\n",
       ".highlight .m { color: #666666 } /* Literal.Number */\n",
       ".highlight .s { color: #BA2121 } /* Literal.String */\n",
       ".highlight .na { color: #7D9029 } /* Name.Attribute */\n",
       ".highlight .nb { color: #008000 } /* Name.Builtin */\n",
       ".highlight .nc { color: #0000FF; font-weight: bold } /* Name.Class */\n",
       ".highlight .no { color: #880000 } /* Name.Constant */\n",
       ".highlight .nd { color: #AA22FF } /* Name.Decorator */\n",
       ".highlight .ni { color: #999999; font-weight: bold } /* Name.Entity */\n",
       ".highlight .ne { color: #D2413A; font-weight: bold } /* Name.Exception */\n",
       ".highlight .nf { color: #0000FF } /* Name.Function */\n",
       ".highlight .nl { color: #A0A000 } /* Name.Label */\n",
       ".highlight .nn { color: #0000FF; font-weight: bold } /* Name.Namespace */\n",
       ".highlight .nt { color: #008000; font-weight: bold } /* Name.Tag */\n",
       ".highlight .nv { color: #19177C } /* Name.Variable */\n",
       ".highlight .ow { color: #AA22FF; font-weight: bold } /* Operator.Word */\n",
       ".highlight .w { color: #bbbbbb } /* Text.Whitespace */\n",
       ".highlight .mb { color: #666666 } /* Literal.Number.Bin */\n",
       ".highlight .mf { color: #666666 } /* Literal.Number.Float */\n",
       ".highlight .mh { color: #666666 } /* Literal.Number.Hex */\n",
       ".highlight .mi { color: #666666 } /* Literal.Number.Integer */\n",
       ".highlight .mo { color: #666666 } /* Literal.Number.Oct */\n",
       ".highlight .sa { color: #BA2121 } /* Literal.String.Affix */\n",
       ".highlight .sb { color: #BA2121 } /* Literal.String.Backtick */\n",
       ".highlight .sc { color: #BA2121 } /* Literal.String.Char */\n",
       ".highlight .dl { color: #BA2121 } /* Literal.String.Delimiter */\n",
       ".highlight .sd { color: #BA2121; font-style: italic } /* Literal.String.Doc */\n",
       ".highlight .s2 { color: #BA2121 } /* Literal.String.Double */\n",
       ".highlight .se { color: #BB6622; font-weight: bold } /* Literal.String.Escape */\n",
       ".highlight .sh { color: #BA2121 } /* Literal.String.Heredoc */\n",
       ".highlight .si { color: #BB6688; font-weight: bold } /* Literal.String.Interpol */\n",
       ".highlight .sx { color: #008000 } /* Literal.String.Other */\n",
       ".highlight .sr { color: #BB6688 } /* Literal.String.Regex */\n",
       ".highlight .s1 { color: #BA2121 } /* Literal.String.Single */\n",
       ".highlight .ss { color: #19177C } /* Literal.String.Symbol */\n",
       ".highlight .bp { color: #008000 } /* Name.Builtin.Pseudo */\n",
       ".highlight .fm { color: #0000FF } /* Name.Function.Magic */\n",
       ".highlight .vc { color: #19177C } /* Name.Variable.Class */\n",
       ".highlight .vg { color: #19177C } /* Name.Variable.Global */\n",
       ".highlight .vi { color: #19177C } /* Name.Variable.Instance */\n",
       ".highlight .vm { color: #19177C } /* Name.Variable.Magic */\n",
       ".highlight .il { color: #666666 } /* Literal.Number.Integer.Long */</style><div class=\"highlight\"><pre><span></span>CONV NORM\n",
       "# 11x11\n",
       "# Gaussian with FWHM=3.0\n",
       "#\n",
       "3.31924710e-08 5.22298080e-07 4.12520058e-06 1.80085899e-05 4.35553666e-05 5.93481636e-05 4.35553666e-05 1.80085899e-05 4.12520058e-06 5.22298080e-07 3.31924710e-08 \n",
       "5.22298080e-07 7.48430921e-06 6.00166022e-05 2.61083711e-04 6.30124996e-04 8.48539581e-04 6.30124996e-04 2.61083711e-04 6.00166022e-05 7.48430921e-06 5.22298080e-07 \n",
       "4.12520058e-06 6.00166022e-05 4.71694511e-04 2.05834955e-03 4.96875448e-03 6.67392276e-03 4.96875448e-03 2.05834955e-03 4.71694511e-04 6.00166022e-05 4.12520058e-06 \n",
       "1.80085899e-05 2.61083711e-04 2.05834955e-03 8.96176044e-03 2.15734039e-02 2.89077386e-02 2.15734039e-02 8.96176044e-03 2.05834955e-03 2.61083711e-04 1.80085899e-05 \n",
       "4.35553666e-05 6.30124996e-04 4.96875448e-03 2.15734039e-02 5.19330688e-02 6.95888102e-02 5.19330688e-02 2.15734039e-02 4.96875448e-03 6.30124996e-04 4.35553666e-05 \n",
       "5.93481636e-05 8.48539581e-04 6.67392276e-03 2.89077386e-02 6.95888102e-02 9.32470039e-02 6.95888102e-02 2.89077386e-02 6.67392276e-03 8.48539581e-04 5.93481636e-05 \n",
       "4.35553666e-05 6.30124996e-04 4.96875448e-03 2.15734039e-02 5.19330688e-02 6.95888102e-02 5.19330688e-02 2.15734039e-02 4.96875448e-03 6.30124996e-04 4.35553666e-05 \n",
       "1.80085899e-05 2.61083711e-04 2.05834955e-03 8.96176044e-03 2.15734039e-02 2.89077386e-02 2.15734039e-02 8.96176044e-03 2.05834955e-03 2.61083711e-04 1.80085899e-05 \n",
       "4.12520058e-06 6.00166022e-05 4.71694511e-04 2.05834955e-03 4.96875448e-03 6.67392276e-03 4.96875448e-03 2.05834955e-03 4.71694511e-04 6.00166022e-05 4.12520058e-06 \n",
       "5.22298080e-07 7.48430921e-06 6.00166022e-05 2.61083711e-04 6.30124996e-04 8.48539581e-04 6.30124996e-04 2.61083711e-04 6.00166022e-05 7.48430921e-06 5.22298080e-07 \n",
       "3.31924710e-08 5.22298080e-07 4.12520058e-06 1.80085899e-05 4.35553666e-05 5.93481636e-05 4.35553666e-05 1.80085899e-05 4.12520058e-06 5.22298080e-07 3.31924710e-08 \n",
       "</pre></div>\n"
      ],
      "text/plain": [
       "<IPython.core.display.HTML object>"
      ]
     },
     "execution_count": 6,
     "metadata": {},
     "output_type": "execute_result"
    }
   ],
   "source": [
    "prettyprint.prettyprint('/run/media/aalvarez/Astrodata/mer.conv')"
   ]
  },
  {
   "cell_type": "markdown",
   "metadata": {},
   "source": [
    "Before each command:\n",
    "```bash\n",
    "echo 3 | sudo tee /proc/sys/vm/drop_caches\n",
    "```"
   ]
  },
  {
   "cell_type": "markdown",
   "metadata": {},
   "source": [
    "### Run branch with DFT"
   ]
  },
  {
   "cell_type": "code",
   "execution_count": 8,
   "metadata": {},
   "outputs": [
    {
     "name": "stdout",
     "output_type": "stream",
     "text": [
      "  copr\u001b[m\n",
      "  develop\u001b[m\n",
      "  feature/call_from_python\u001b[m\n",
      "* \u001b[32mfeature/dft_background\u001b[m\n",
      "  feature/flux_scale\u001b[m\n",
      "  feature/image_chunks\u001b[m\n",
      "  feature/progress\u001b[m\n",
      "  feature/remove_thread_specifics\u001b[m\n",
      "  master\u001b[m\n",
      "  play/cufft\u001b[m\n"
     ]
    }
   ],
   "source": [
    "!cd /home/aalvarez/Work/Projects/SExtractorxx/ && git branch"
   ]
  },
  {
   "cell_type": "code",
   "execution_count": 9,
   "metadata": {},
   "outputs": [
    {
     "name": "stdout",
     "output_type": "stream",
     "text": [
      "2019-03-28T15:56:02CET ElementsProgram  WARN : The \"sextractor++.conf\" configuration file cannot be found in:\n",
      "2019-03-28T15:56:02CET ElementsProgram  WARN :  \"/home/aalvarez/Work/Projects/SExtractorxx/build.x86_64-fc29-gcc83-dbg/conf\"\n",
      "2019-03-28T15:56:02CET ElementsProgram  WARN :  \"/home/aalvarez/Work/Projects/SExtractorxx/InstallArea/x86_64-fc29-gcc83-dbg/conf\"\n",
      "2019-03-28T15:56:02CET ElementsProgram  WARN :  \"/home/aalvarez/Work/Projects/Alexandria/master/InstallArea/x86_64-fc29-gcc83-dbg/conf\"\n",
      "2019-03-28T15:56:02CET ElementsProgram  WARN :  \"/home/aalvarez/Work/Projects/Elements/5.4/InstallArea/x86_64-fc29-gcc83-dbg/conf\"\n",
      "2019-03-28T15:56:02CET ElementsProgram  WARN :  \"/usr/share/conf\"\n",
      "2019-03-28T15:56:02CET ElementsProgram  WARN : Trying \"SEMain/sextractor++.conf\".\n",
      "2019-03-28T15:56:02CET ElementsProgram  WARN : The \"sextractor++.conf\" configuration file cannot be found in:\n",
      "2019-03-28T15:56:02CET ElementsProgram  WARN :  \"/home/aalvarez/Work/Projects/SExtractorxx/build.x86_64-fc29-gcc83-dbg/conf\"\n",
      "2019-03-28T15:56:02CET ElementsProgram  WARN :  \"/home/aalvarez/Work/Projects/SExtractorxx/InstallArea/x86_64-fc29-gcc83-dbg/conf\"\n",
      "2019-03-28T15:56:02CET ElementsProgram  WARN :  \"/home/aalvarez/Work/Projects/Alexandria/master/InstallArea/x86_64-fc29-gcc83-dbg/conf\"\n",
      "2019-03-28T15:56:02CET ElementsProgram  WARN :  \"/home/aalvarez/Work/Projects/Elements/5.4/InstallArea/x86_64-fc29-gcc83-dbg/conf\"\n",
      "2019-03-28T15:56:02CET ElementsProgram  WARN :  \"/home/aalvarez/Work/Projects/SExtractorxx/build.x86_64-fc29-gcc83-dbg/conf\"\n",
      "2019-03-28T15:56:02CET ElementsProgram  WARN :  \"/home/aalvarez/Work/Projects/SExtractorxx/InstallArea/x86_64-fc29-gcc83-dbg/conf\"\n",
      "2019-03-28T15:56:02CET ElementsProgram  WARN :  \"/home/aalvarez/Work/Projects/Alexandria/master/InstallArea/x86_64-fc29-gcc83-dbg/conf\"\n",
      "2019-03-28T15:56:02CET ElementsProgram  WARN :  \"/home/aalvarez/Work/Projects/Elements/5.4/InstallArea/x86_64-fc29-gcc83-dbg/conf\"\n",
      "2019-03-28T15:56:02CET ElementsProgram  WARN :  \"/usr/share/conf\"\n",
      "2019-03-28T15:56:02CET ElementsProgram  WARN : Trying \"SEMain/sextractor++.conf\".\n",
      "2019-03-28T15:56:02CET ElementsProgram  INFO : ##########################################################\n",
      "2019-03-28T15:56:02CET ElementsProgram  INFO : ##########################################################\n",
      "2019-03-28T15:56:02CET ElementsProgram  INFO : #\n",
      "2019-03-28T15:56:02CET ElementsProgram  INFO : #  C++ program:  sextractor++ starts \n",
      "2019-03-28T15:56:02CET ElementsProgram  INFO : #\n",
      "2019-03-28T15:56:02CET ElementsProgram  INFO : ##########################################################\n",
      "2019-03-28T15:56:02CET ElementsProgram  INFO : #\n",
      "2019-03-28T15:56:02CET ElementsProgram  INFO : # List of all program options\n",
      "2019-03-28T15:56:02CET ElementsProgram  INFO : # ---------------------------\n",
      "2019-03-28T15:56:02CET ElementsProgram  INFO : #\n",
      "2019-03-28T15:56:02CET ElementsProgram  INFO : auto-kron-factor = 2.5\n",
      "2019-03-28T15:56:02CET ElementsProgram  INFO : auto-kron-min-radius = 3.5\n",
      "2019-03-28T15:56:02CET ElementsProgram  INFO : background-cell-size = 32\n",
      "2019-03-28T15:56:02CET ElementsProgram  INFO : background-value = 0\n",
      "2019-03-28T15:56:02CET ElementsProgram  INFO : check-image-aperture = \n",
      "2019-03-28T15:56:02CET ElementsProgram  INFO : check-image-auto-aperture = \n",
      "2019-03-28T15:56:02CET ElementsProgram  INFO : check-image-background = \n",
      "2019-03-28T15:56:02CET ElementsProgram  INFO : check-image-filtered = \n",
      "2019-03-28T15:56:02CET ElementsProgram  INFO : check-image-grouping = \n",
      "2019-03-28T15:56:02CET ElementsProgram  INFO : check-image-model-fitting = \n",
      "2019-03-28T15:56:02CET ElementsProgram  INFO : check-image-moffat = \n",
      "2019-03-28T15:56:02CET ElementsProgram  INFO : check-image-partition = \n",
      "2019-03-28T15:56:02CET ElementsProgram  INFO : check-image-residual = \n",
      "2019-03-28T15:56:02CET ElementsProgram  INFO : check-image-segmentation = \n",
      "2019-03-28T15:56:02CET ElementsProgram  INFO : check-image-variance = \n",
      "2019-03-28T15:56:02CET ElementsProgram  INFO : cleaning-minarea = 3\n",
      "2019-03-28T15:56:02CET ElementsProgram  INFO : config-file = \"/run/media/aalvarez/Astrodata/sextractorxx_19k.config\"\n",
      "2019-03-28T15:56:02CET ElementsProgram  INFO : detect-minarea = 10\n",
      "2019-03-28T15:56:02CET ElementsProgram  INFO : detection-image = /run/media/aalvarez/Astrodata/test19k.fits\n",
      "2019-03-28T15:56:02CET ElementsProgram  INFO : Option detection-image-interpolation of type b not supported in logging !\n",
      "\n",
      "2019-03-28T15:56:02CET ElementsProgram  INFO : detection-image-interpolation-gap = 0\n",
      "2019-03-28T15:56:02CET ElementsProgram  INFO : detection-threshold = 1.5\n",
      "2019-03-28T15:56:02CET ElementsProgram  INFO : grouping-algorithm = SPLIT\n",
      "2019-03-28T15:56:02CET ElementsProgram  INFO : grouping-moffat-threshold = 0.02\n",
      "2019-03-28T15:56:02CET ElementsProgram  INFO : Option list-output-properties of type b not supported in logging !\n",
      "\n",
      "2019-03-28T15:56:02CET ElementsProgram  INFO : log-level = INFO\n",
      "2019-03-28T15:56:02CET ElementsProgram  INFO : magnitude-zeropoint = 26.849\n",
      "2019-03-28T15:56:02CET ElementsProgram  INFO : model-fitting-iterations = 1000\n",
      "2019-03-28T15:56:02CET ElementsProgram  INFO : output-catalog-filename = /run/media/aalvarez/Astrodata/t19k_dft.fits\n",
      "2019-03-28T15:56:02CET ElementsProgram  INFO : output-catalog-format = FITS\n",
      "2019-03-28T15:56:02CET ElementsProgram  INFO : output-properties = PixelCentroid,WorldCentroid,SourceIDs,IsophotalFlux,SourceFlags,AutoPhotometry\n",
      "2019-03-28T15:56:02CET ElementsProgram  INFO : partition-min-area = 10\n",
      "2019-03-28T15:56:02CET ElementsProgram  INFO : partition-min-contrast = 0.005\n",
      "2019-03-28T15:56:02CET ElementsProgram  INFO : Option partition-multithreshold of type b not supported in logging !\n",
      "\n",
      "2019-03-28T15:56:02CET ElementsProgram  INFO : partition-threshold-count = 32\n",
      "2019-03-28T15:56:02CET ElementsProgram  INFO : plugin = { }\n",
      "2019-03-28T15:56:02CET ElementsProgram  INFO : plugin-directory = \n",
      "2019-03-28T15:56:02CET ElementsProgram  INFO : Option property-column-mapping of type b not supported in logging !\n",
      "\n",
      "2019-03-28T15:56:02CET ElementsProgram  INFO : Option property-column-mapping-all of type b not supported in logging !\n",
      "\n",
      "2019-03-28T15:56:02CET ElementsProgram  INFO : psf-fwhm = 2\n",
      "2019-03-28T15:56:02CET ElementsProgram  INFO : psf-pixel-scale = 0.1\n",
      "2019-03-28T15:56:02CET ElementsProgram  INFO : python-config-file = \n",
      "2019-03-28T15:56:02CET ElementsProgram  INFO : segmentation-algorithm = LUTZ\n",
      "2019-03-28T15:56:02CET ElementsProgram  INFO : Option segmentation-disable-filtering of type b not supported in logging !\n",
      "\n",
      "2019-03-28T15:56:02CET ElementsProgram  INFO : segmentation-filter = /run/media/aalvarez/Astrodata/mer.conv\n",
      "2019-03-28T15:56:02CET ElementsProgram  INFO : smoothing-box-size = 0\n",
      "2019-03-28T15:56:02CET ElementsProgram  INFO : thread-count = 4\n",
      "2019-03-28T15:56:02CET ElementsProgram  INFO : tile-memory-limit = 4096\n",
      "2019-03-28T15:56:02CET ElementsProgram  INFO : tile-size = 4096\n",
      "2019-03-28T15:56:02CET ElementsProgram  INFO : Option use-attractors-partition of type b not supported in logging !\n",
      "\n",
      "2019-03-28T15:56:02CET ElementsProgram  INFO : Option use-cleaning of type b not supported in logging !\n",
      "\n",
      "2019-03-28T15:56:02CET ElementsProgram  INFO : Option weight-absolute of type b not supported in logging !\n",
      "\n",
      "2019-03-28T15:56:02CET ElementsProgram  INFO : weight-image = /run/media/aalvarez/Astrodata/test19k.weight.fits\n",
      "2019-03-28T15:56:02CET ElementsProgram  INFO : weight-scaling = 1\n",
      "2019-03-28T15:56:02CET ElementsProgram  INFO : weight-type = weight\n",
      "2019-03-28T15:56:02CET ElementsProgram  INFO : Option weight-usesymmetry of type b not supported in logging !\n",
      "\n",
      "2019-03-28T15:56:02CET ElementsProgram  INFO : #\n",
      "2019-03-28T15:56:02CET SegmentationConfig  INFO : Loaded segmentation filter: /run/media/aalvarez/Astrodata/mer.conv width: 11 height: 11\n",
      "2019-03-28T15:56:03CET BackgroundModel  INFO : Mask image with size: (19200,19200)!\n",
      "2019-03-28T15:56:03CET BackgroundModel  INFO : Variance image with size: (19200,19200)!\n",
      "2019-03-28T15:56:03CET BackgroundModel  INFO : Background cell size=(32,32)!\n",
      "2019-03-28T15:56:03CET BackgroundModel  INFO : Filter box size=(0,0)!\n",
      "2019-03-28T15:56:03CET BackgroundModel  INFO : The variance threshold is: 3.40282e+38!\n",
      "2019-03-28T15:58:01CET BackgroundModel  INFO : Median background value: 0.00140792!\n",
      "2019-03-28T15:58:01CET BackgroundModel  INFO : Median variance value: 387.864!\n",
      "2019-03-28T15:58:01CET BackgroundModel  INFO : Scaling value: 1.05215e-06!\n",
      "2019-03-28T15:58:06CET SExtractor  INFO : Detected background level: 0.234185 RMS: 19.6943\n",
      "2019-03-28T15:58:06CET SExtractor  INFO : Using background level: 0 RMS: 19.6943 threshold: 29.5414\n",
      "2019-03-28T16:17:58CET SExtractor  INFO : 1000 sources detected\n",
      "2019-03-28T16:17:58CET ElementsProgram  INFO : ##########################################################\n",
      "2019-03-28T16:17:58CET ElementsProgram  INFO : #\n",
      "2019-03-28T16:17:58CET ElementsProgram  INFO : #  C++ program:  sextractor++ stops \n",
      "2019-03-28T16:17:58CET ElementsProgram  INFO : #\n",
      "2019-03-28T16:17:58CET ElementsProgram  INFO : ##########################################################\n",
      "2019-03-28T16:17:58CET ElementsProgram  INFO : ##########################################################\n",
      "\n",
      "real\t21m55.672s\n",
      "user\t15m46.695s\n",
      "sys\t1m24.520s\n"
     ]
    }
   ],
   "source": [
    "!time /home/aalvarez/Work/Projects/SExtractorxx/build.x86_64-fc29-gcc83-dbg/bin/sextractor++ --config-file=\"/run/media/aalvarez/Astrodata/sextractorxx_19k.config\" --log-level=INFO --output-catalog-filename=\"/run/media/aalvarez/Astrodata/t19k_dft.fits\""
   ]
  },
  {
   "cell_type": "markdown",
   "metadata": {},
   "source": [
    "### Run branch without DFT"
   ]
  },
  {
   "cell_type": "code",
   "execution_count": 13,
   "metadata": {},
   "outputs": [
    {
     "name": "stdout",
     "output_type": "stream",
     "text": [
      "  copr\u001b[m\n",
      "* \u001b[32mdevelop\u001b[m\n",
      "  feature/call_from_python\u001b[m\n",
      "  feature/dft_background\u001b[m\n",
      "  feature/flux_scale\u001b[m\n",
      "  feature/image_chunks\u001b[m\n",
      "  feature/progress\u001b[m\n",
      "  feature/remove_thread_specifics\u001b[m\n",
      "  master\u001b[m\n",
      "  play/cufft\u001b[m\n"
     ]
    }
   ],
   "source": [
    "!cd /home/aalvarez/Work/Projects/SExtractorxx/ && git branch"
   ]
  },
  {
   "cell_type": "code",
   "execution_count": 14,
   "metadata": {},
   "outputs": [
    {
     "name": "stdout",
     "output_type": "stream",
     "text": [
      "2019-03-28T16:19:01CET ElementsProgram  WARN : The \"sextractor++.conf\" configuration file cannot be found in:\n",
      "2019-03-28T16:19:01CET ElementsProgram  WARN :  \"/home/aalvarez/Work/Projects/SExtractorxx/build.x86_64-fc29-gcc83-dbg/conf\"\n",
      "2019-03-28T16:19:01CET ElementsProgram  WARN :  \"/home/aalvarez/Work/Projects/SExtractorxx/InstallArea/x86_64-fc29-gcc83-dbg/conf\"\n",
      "2019-03-28T16:19:01CET ElementsProgram  WARN :  \"/home/aalvarez/Work/Projects/Alexandria/master/InstallArea/x86_64-fc29-gcc83-dbg/conf\"\n",
      "2019-03-28T16:19:01CET ElementsProgram  WARN :  \"/home/aalvarez/Work/Projects/Elements/5.4/InstallArea/x86_64-fc29-gcc83-dbg/conf\"\n",
      "2019-03-28T16:19:01CET ElementsProgram  WARN :  \"/usr/share/conf\"\n",
      "2019-03-28T16:19:01CET ElementsProgram  WARN : Trying \"SEMain/sextractor++.conf\".\n",
      "2019-03-28T16:19:01CET ElementsProgram  WARN : The \"sextractor++.conf\" configuration file cannot be found in:\n",
      "2019-03-28T16:19:01CET ElementsProgram  WARN :  \"/home/aalvarez/Work/Projects/SExtractorxx/build.x86_64-fc29-gcc83-dbg/conf\"\n",
      "2019-03-28T16:19:01CET ElementsProgram  WARN :  \"/home/aalvarez/Work/Projects/SExtractorxx/InstallArea/x86_64-fc29-gcc83-dbg/conf\"\n",
      "2019-03-28T16:19:01CET ElementsProgram  WARN :  \"/home/aalvarez/Work/Projects/Alexandria/master/InstallArea/x86_64-fc29-gcc83-dbg/conf\"\n",
      "2019-03-28T16:19:01CET ElementsProgram  WARN :  \"/home/aalvarez/Work/Projects/Elements/5.4/InstallArea/x86_64-fc29-gcc83-dbg/conf\"\n",
      "2019-03-28T16:19:01CET ElementsProgram  WARN :  \"/home/aalvarez/Work/Projects/SExtractorxx/build.x86_64-fc29-gcc83-dbg/conf\"\n",
      "2019-03-28T16:19:01CET ElementsProgram  WARN :  \"/home/aalvarez/Work/Projects/SExtractorxx/InstallArea/x86_64-fc29-gcc83-dbg/conf\"\n",
      "2019-03-28T16:19:01CET ElementsProgram  WARN :  \"/home/aalvarez/Work/Projects/Alexandria/master/InstallArea/x86_64-fc29-gcc83-dbg/conf\"\n",
      "2019-03-28T16:19:01CET ElementsProgram  WARN :  \"/home/aalvarez/Work/Projects/Elements/5.4/InstallArea/x86_64-fc29-gcc83-dbg/conf\"\n",
      "2019-03-28T16:19:01CET ElementsProgram  WARN :  \"/usr/share/conf\"\n",
      "2019-03-28T16:19:01CET ElementsProgram  WARN : Trying \"SEMain/sextractor++.conf\".\n",
      "2019-03-28T16:19:01CET ElementsProgram  INFO : ##########################################################\n",
      "2019-03-28T16:19:01CET ElementsProgram  INFO : ##########################################################\n",
      "2019-03-28T16:19:01CET ElementsProgram  INFO : #\n",
      "2019-03-28T16:19:01CET ElementsProgram  INFO : #  C++ program:  sextractor++ starts \n",
      "2019-03-28T16:19:01CET ElementsProgram  INFO : #\n",
      "2019-03-28T16:19:01CET ElementsProgram  INFO : ##########################################################\n",
      "2019-03-28T16:19:01CET ElementsProgram  INFO : #\n",
      "2019-03-28T16:19:01CET ElementsProgram  INFO : # List of all program options\n",
      "2019-03-28T16:19:01CET ElementsProgram  INFO : # ---------------------------\n",
      "2019-03-28T16:19:01CET ElementsProgram  INFO : #\n",
      "2019-03-28T16:19:01CET ElementsProgram  INFO : auto-kron-factor = 2.5\n",
      "2019-03-28T16:19:01CET ElementsProgram  INFO : auto-kron-min-radius = 3.5\n",
      "2019-03-28T16:19:01CET ElementsProgram  INFO : background-cell-size = 32\n",
      "2019-03-28T16:19:01CET ElementsProgram  INFO : background-value = 0\n",
      "2019-03-28T16:19:01CET ElementsProgram  INFO : check-image-aperture = \n",
      "2019-03-28T16:19:01CET ElementsProgram  INFO : check-image-auto-aperture = \n",
      "2019-03-28T16:19:01CET ElementsProgram  INFO : check-image-background = \n",
      "2019-03-28T16:19:01CET ElementsProgram  INFO : check-image-filtered = \n",
      "2019-03-28T16:19:01CET ElementsProgram  INFO : check-image-grouping = \n",
      "2019-03-28T16:19:01CET ElementsProgram  INFO : check-image-model-fitting = \n",
      "2019-03-28T16:19:01CET ElementsProgram  INFO : check-image-moffat = \n",
      "2019-03-28T16:19:01CET ElementsProgram  INFO : check-image-partition = \n",
      "2019-03-28T16:19:01CET ElementsProgram  INFO : check-image-residual = \n",
      "2019-03-28T16:19:01CET ElementsProgram  INFO : check-image-segmentation = \n",
      "2019-03-28T16:19:01CET ElementsProgram  INFO : check-image-variance = \n",
      "2019-03-28T16:19:01CET ElementsProgram  INFO : cleaning-minarea = 3\n",
      "2019-03-28T16:19:01CET ElementsProgram  INFO : config-file = \"/run/media/aalvarez/Astrodata/sextractorxx_19k.config\"\n",
      "2019-03-28T16:19:01CET ElementsProgram  INFO : detect-minarea = 10\n",
      "2019-03-28T16:19:01CET ElementsProgram  INFO : detection-image = /run/media/aalvarez/Astrodata/test19k.fits\n",
      "2019-03-28T16:19:01CET ElementsProgram  INFO : Option detection-image-interpolation of type b not supported in logging !\n",
      "\n",
      "2019-03-28T16:19:01CET ElementsProgram  INFO : detection-image-interpolation-gap = 0\n",
      "2019-03-28T16:19:01CET ElementsProgram  INFO : detection-threshold = 1.5\n",
      "2019-03-28T16:19:01CET ElementsProgram  INFO : grouping-algorithm = SPLIT\n",
      "2019-03-28T16:19:01CET ElementsProgram  INFO : grouping-moffat-threshold = 0.02\n",
      "2019-03-28T16:19:01CET ElementsProgram  INFO : Option list-output-properties of type b not supported in logging !\n",
      "\n",
      "2019-03-28T16:19:01CET ElementsProgram  INFO : log-level = INFO\n",
      "2019-03-28T16:19:01CET ElementsProgram  INFO : magnitude-zeropoint = 26.849\n",
      "2019-03-28T16:19:01CET ElementsProgram  INFO : model-fitting-iterations = 1000\n",
      "2019-03-28T16:19:01CET ElementsProgram  INFO : output-catalog-filename = /run/media/aalvarez/Astrodata/t19k_direct.fits\n",
      "2019-03-28T16:19:01CET ElementsProgram  INFO : output-catalog-format = FITS\n",
      "2019-03-28T16:19:01CET ElementsProgram  INFO : output-properties = PixelCentroid,WorldCentroid,SourceIDs,IsophotalFlux,SourceFlags,AutoPhotometry\n",
      "2019-03-28T16:19:01CET ElementsProgram  INFO : partition-min-area = 10\n",
      "2019-03-28T16:19:01CET ElementsProgram  INFO : partition-min-contrast = 0.005\n",
      "2019-03-28T16:19:01CET ElementsProgram  INFO : Option partition-multithreshold of type b not supported in logging !\n",
      "\n",
      "2019-03-28T16:19:01CET ElementsProgram  INFO : partition-threshold-count = 32\n",
      "2019-03-28T16:19:01CET ElementsProgram  INFO : plugin = { }\n",
      "2019-03-28T16:19:01CET ElementsProgram  INFO : plugin-directory = \n",
      "2019-03-28T16:19:01CET ElementsProgram  INFO : Option property-column-mapping of type b not supported in logging !\n",
      "\n",
      "2019-03-28T16:19:01CET ElementsProgram  INFO : Option property-column-mapping-all of type b not supported in logging !\n",
      "\n",
      "2019-03-28T16:19:01CET ElementsProgram  INFO : psf-fwhm = 2\n",
      "2019-03-28T16:19:01CET ElementsProgram  INFO : psf-pixel-scale = 0.1\n",
      "2019-03-28T16:19:01CET ElementsProgram  INFO : python-config-file = \n",
      "2019-03-28T16:19:01CET ElementsProgram  INFO : segmentation-algorithm = LUTZ\n",
      "2019-03-28T16:19:01CET ElementsProgram  INFO : Option segmentation-disable-filtering of type b not supported in logging !\n",
      "\n",
      "2019-03-28T16:19:01CET ElementsProgram  INFO : segmentation-filter = /run/media/aalvarez/Astrodata/mer.conv\n",
      "2019-03-28T16:19:01CET ElementsProgram  INFO : smoothing-box-size = 0\n",
      "2019-03-28T16:19:01CET ElementsProgram  INFO : thread-count = 4\n",
      "2019-03-28T16:19:01CET ElementsProgram  INFO : tile-memory-limit = 4096\n",
      "2019-03-28T16:19:01CET ElementsProgram  INFO : tile-size = 4096\n",
      "2019-03-28T16:19:01CET ElementsProgram  INFO : Option use-attractors-partition of type b not supported in logging !\n",
      "\n",
      "2019-03-28T16:19:01CET ElementsProgram  INFO : Option use-cleaning of type b not supported in logging !\n",
      "\n",
      "2019-03-28T16:19:01CET ElementsProgram  INFO : Option weight-absolute of type b not supported in logging !\n",
      "\n",
      "2019-03-28T16:19:01CET ElementsProgram  INFO : weight-image = /run/media/aalvarez/Astrodata/test19k.weight.fits\n",
      "2019-03-28T16:19:01CET ElementsProgram  INFO : weight-scaling = 1\n",
      "2019-03-28T16:19:01CET ElementsProgram  INFO : weight-type = weight\n",
      "2019-03-28T16:19:01CET ElementsProgram  INFO : Option weight-usesymmetry of type b not supported in logging !\n",
      "\n",
      "2019-03-28T16:19:01CET ElementsProgram  INFO : #\n",
      "2019-03-28T16:19:01CET SegmentationConfig  INFO : Loaded segmentation filter: /run/media/aalvarez/Astrodata/mer.conv width: 11 height: 11\n",
      "2019-03-28T16:19:01CET BackgroundModel  INFO : Mask image with size: (19200,19200)!\n",
      "2019-03-28T16:19:01CET BackgroundModel  INFO : Variance image with size: (19200,19200)!\n",
      "2019-03-28T16:19:01CET BackgroundModel  INFO : Background cell size=(32,32)!\n",
      "2019-03-28T16:19:01CET BackgroundModel  INFO : Filter box size=(0,0)!\n",
      "2019-03-28T16:19:01CET BackgroundModel  INFO : The variance threshold is: 3.40282e+38!\n",
      "2019-03-28T16:20:59CET BackgroundModel  INFO : Median background value: 0.00140792!\n",
      "2019-03-28T16:20:59CET BackgroundModel  INFO : Median variance value: 387.864!\n",
      "2019-03-28T16:20:59CET BackgroundModel  INFO : Scaling value: 1.05215e-06!\n",
      "2019-03-28T16:21:05CET SExtractor  INFO : Detected background level: 0.234185 RMS: 19.6943\n",
      "2019-03-28T16:21:05CET SExtractor  INFO : Using background level: 0 RMS: 19.6943 threshold: 29.5414\n",
      "2019-03-28T22:39:57CET SExtractor  INFO : 1000 sources detected\n",
      "2019-03-28T22:39:57CET ElementsProgram  INFO : ##########################################################\n",
      "2019-03-28T22:39:57CET ElementsProgram  INFO : #\n",
      "2019-03-28T22:39:57CET ElementsProgram  INFO : #  C++ program:  sextractor++ stops \n",
      "2019-03-28T22:39:57CET ElementsProgram  INFO : #\n",
      "2019-03-28T22:39:57CET ElementsProgram  INFO : ##########################################################\n",
      "2019-03-28T22:39:57CET ElementsProgram  INFO : ##########################################################\n",
      "\n",
      "real\t380m56.979s\n",
      "user\t378m6.046s\n",
      "sys\t0m23.239s\n"
     ]
    }
   ],
   "source": [
    "!time /home/aalvarez/Work/Projects/SExtractorxx/build.x86_64-fc29-gcc83-dbg/bin/sextractor++ --config-file=\"/run/media/aalvarez/Astrodata/sextractorxx_19k.config\" --log-level=INFO --output-catalog-filename=\"/run/media/aalvarez/Astrodata/t19k_direct.fits\""
   ]
  },
  {
   "cell_type": "markdown",
   "metadata": {},
   "source": [
    "## Comparison"
   ]
  },
  {
   "cell_type": "code",
   "execution_count": 15,
   "metadata": {},
   "outputs": [],
   "source": [
    "dft = Table.read('/run/media/aalvarez/Astrodata/t19k_dft.fits')\n",
    "direct = Table.read('/run/media/aalvarez/Astrodata/t19k_direct.fits')"
   ]
  },
  {
   "cell_type": "code",
   "execution_count": 16,
   "metadata": {},
   "outputs": [
    {
     "data": {
      "text/plain": [
       "['pixel_centroid_x',\n",
       " 'pixel_centroid_y',\n",
       " 'world_centroid_alpha',\n",
       " 'world_centroid_delta',\n",
       " 'source_id',\n",
       " 'detection_id',\n",
       " 'isophotal_flux',\n",
       " 'isophotal_flux_err',\n",
       " 'isophotal_mag',\n",
       " 'isophotal_mag_err',\n",
       " 'source_flags',\n",
       " 'auto_flux',\n",
       " 'auto_flux_err',\n",
       " 'auto_mag',\n",
       " 'auto_mag_err',\n",
       " 'auto_flags']"
      ]
     },
     "execution_count": 16,
     "metadata": {},
     "output_type": "execute_result"
    }
   ],
   "source": [
    "direct.colnames"
   ]
  },
  {
   "cell_type": "code",
   "execution_count": 17,
   "metadata": {},
   "outputs": [
    {
     "data": {
      "text/plain": [
       "['pixel_centroid_x',\n",
       " 'pixel_centroid_y',\n",
       " 'world_centroid_alpha',\n",
       " 'world_centroid_delta',\n",
       " 'source_id',\n",
       " 'detection_id',\n",
       " 'isophotal_flux',\n",
       " 'isophotal_flux_err',\n",
       " 'isophotal_mag',\n",
       " 'isophotal_mag_err',\n",
       " 'source_flags',\n",
       " 'auto_flux',\n",
       " 'auto_flux_err',\n",
       " 'auto_mag',\n",
       " 'auto_mag_err',\n",
       " 'auto_flags']"
      ]
     },
     "execution_count": 17,
     "metadata": {},
     "output_type": "execute_result"
    }
   ],
   "source": [
    "dft.colnames"
   ]
  },
  {
   "cell_type": "code",
   "execution_count": 18,
   "metadata": {},
   "outputs": [
    {
     "data": {
      "text/plain": [
       "0.0"
      ]
     },
     "execution_count": 18,
     "metadata": {},
     "output_type": "execute_result"
    }
   ],
   "source": [
    "(dft['pixel_centroid_x'] - direct['pixel_centroid_x']).sum()"
   ]
  },
  {
   "cell_type": "code",
   "execution_count": 19,
   "metadata": {},
   "outputs": [
    {
     "data": {
      "text/plain": [
       "0.0"
      ]
     },
     "execution_count": 19,
     "metadata": {},
     "output_type": "execute_result"
    }
   ],
   "source": [
    "(dft['pixel_centroid_y'] - direct['pixel_centroid_y']).sum()"
   ]
  },
  {
   "cell_type": "code",
   "execution_count": 21,
   "metadata": {},
   "outputs": [
    {
     "data": {
      "text/plain": [
       "0.0"
      ]
     },
     "execution_count": 21,
     "metadata": {},
     "output_type": "execute_result"
    }
   ],
   "source": [
    "(dft['isophotal_flux'] - direct['isophotal_flux']).sum()"
   ]
  },
  {
   "cell_type": "code",
   "execution_count": 22,
   "metadata": {},
   "outputs": [
    {
     "data": {
      "text/plain": [
       "0.0"
      ]
     },
     "execution_count": 22,
     "metadata": {},
     "output_type": "execute_result"
    }
   ],
   "source": [
    "(dft['auto_flux'] - direct['auto_flux']).sum()"
   ]
  },
  {
   "cell_type": "code",
   "execution_count": null,
   "metadata": {},
   "outputs": [],
   "source": []
  }
 ],
 "metadata": {
  "kernelspec": {
   "display_name": "Python 3",
   "language": "python",
   "name": "python3"
  },
  "language_info": {
   "codemirror_mode": {
    "name": "ipython",
    "version": 3
   },
   "file_extension": ".py",
   "mimetype": "text/x-python",
   "name": "python",
   "nbconvert_exporter": "python",
   "pygments_lexer": "ipython3",
   "version": "3.7.2"
  }
 },
 "nbformat": 4,
 "nbformat_minor": 2
}
