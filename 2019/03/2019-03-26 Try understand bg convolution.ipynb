{
 "cells": [
  {
   "cell_type": "markdown",
   "metadata": {},
   "source": [
    "# BackgroundConvolution.h\n",
    "It is a convolution taking into acount the variance, so the variance map acts somehow as a filter.\n",
    "The problem is that it also affects the weights of the different pixels: normalization of the kernel.\n",
    "\n",
    "I am not entirely sure how it works, let's try to make it visual."
   ]
  },
  {
   "cell_type": "code",
   "execution_count": 1,
   "metadata": {},
   "outputs": [],
   "source": [
    "%matplotlib inline\n",
    "from matplotlib import pyplot as plt\n",
    "import numpy as np\n",
    "from astropy.io import fits\n",
    "import scipy.ndimage as ndimage"
   ]
  },
  {
   "cell_type": "code",
   "execution_count": 2,
   "metadata": {},
   "outputs": [],
   "source": [
    "def convolve(image, kernel):\n",
    "    return ndimage.convolve(image, kernel, mode='constant')\n",
    "    if 0:\n",
    "        kwidth = kernel.shape[0]\n",
    "        kheight = kernel.shape[1]\n",
    "        kxcenter = kwidth // 2\n",
    "        kycenter = kheight // 2\n",
    "        convolved = np.zeros(image.shape)\n",
    "\n",
    "        for x in range(image.shape[0]):\n",
    "            for y in range(image.shape[1]):\n",
    "                for kx in range(-(kwidth//2), kwidth//2+1):\n",
    "                    for ky in range(-(kheight//2), kheight//2+1):\n",
    "                        x2 = x + kx\n",
    "                        y2 = y + ky\n",
    "                        if x2 >= 0 and x2 < image.shape[0] and y2 >= 0 and y2 < image.shape[1]:\n",
    "                            convolved[x,y] += image[x+kx,y+ky] * kernel[kxcenter+kx,kycenter+ky]\n",
    "        return convolved"
   ]
  },
  {
   "cell_type": "code",
   "execution_count": 3,
   "metadata": {},
   "outputs": [],
   "source": [
    "# Existing implementation    \n",
    "def generateTile(kernel, image, variance, threshold=.5):\n",
    "    output = np.zeros(image.shape)\n",
    "    hx = kernel.shape[0] // 2\n",
    "    hy = kernel.shape[1] // 2\n",
    "    width = image.shape[0]\n",
    "    height = image.shape[1]\n",
    "\n",
    "    for iy in range(0, height):\n",
    "        for ix in range(0, width):\n",
    "            total = 0.\n",
    "            total_ignoring_threshold = 0.\n",
    "            conv_weight = 0.\n",
    "            conv_weight_ignoring_threshold = 0.\n",
    "\n",
    "            for cy in range(0, kernel.shape[1]):\n",
    "                for cx in range(0, kernel.shape[0]):\n",
    "                    x2 = ix + cx - hx\n",
    "                    y2 = iy + cy - hy\n",
    "\n",
    "                    if x2 >= 0 and x2 < width and y2 >= 0 and y2 < height:\n",
    "                        if variance[x2,y2] < threshold:\n",
    "                            total += image[x2, y2] * kernel[cx, cy]\n",
    "                            conv_weight += kernel[cx, cy]\n",
    "                        total_ignoring_threshold += image[x2, y2] * kernel[cx, cy]\n",
    "                        conv_weight_ignoring_threshold += kernel[cx, cy]\n",
    "\n",
    "            if conv_weight > 0:\n",
    "                output[ix, iy] = total / conv_weight\n",
    "            else:\n",
    "                output[ix, iy] = total_ignoring_threshold / conv_weight_ignoring_threshold\n",
    "\n",
    "    return output"
   ]
  },
  {
   "cell_type": "code",
   "execution_count": 4,
   "metadata": {},
   "outputs": [],
   "source": [
    "img = np.arange(25).reshape(5,-1).astype(np.float)\n",
    "var = np.ones((5,5)).astype(np.float)\n",
    "kernel=np.array([[0,1,0],[1,1,1],[0,1,0]]).astype(np.float)\n",
    "threshold = 0.5"
   ]
  },
  {
   "cell_type": "code",
   "execution_count": 5,
   "metadata": {},
   "outputs": [
    {
     "data": {
      "text/plain": [
       "array([[0., 1., 0.],\n",
       "       [1., 1., 1.],\n",
       "       [0., 1., 0.]])"
      ]
     },
     "execution_count": 5,
     "metadata": {},
     "output_type": "execute_result"
    }
   ],
   "source": [
    "kernel"
   ]
  },
  {
   "cell_type": "code",
   "execution_count": 6,
   "metadata": {},
   "outputs": [
    {
     "data": {
      "text/plain": [
       "array([[ 0.,  1.,  2.,  3.,  4.],\n",
       "       [ 5.,  6.,  7.,  8.,  9.],\n",
       "       [10., 11., 12., 13., 14.],\n",
       "       [15., 16., 17., 18., 19.],\n",
       "       [20., 21., 22., 23., 24.]])"
      ]
     },
     "execution_count": 6,
     "metadata": {},
     "output_type": "execute_result"
    }
   ],
   "source": [
    "img"
   ]
  },
  {
   "cell_type": "code",
   "execution_count": 7,
   "metadata": {},
   "outputs": [
    {
     "data": {
      "text/plain": [
       "array([[1., 1., 1., 1., 1.],\n",
       "       [1., 1., 1., 1., 1.],\n",
       "       [1., 1., 1., 1., 1.],\n",
       "       [1., 1., 1., 1., 1.],\n",
       "       [1., 1., 1., 1., 1.]])"
      ]
     },
     "execution_count": 7,
     "metadata": {},
     "output_type": "execute_result"
    }
   ],
   "source": [
    "var"
   ]
  },
  {
   "cell_type": "code",
   "execution_count": 8,
   "metadata": {},
   "outputs": [
    {
     "data": {
      "text/plain": [
       "array([[1., 1., 1., 1., 1.],\n",
       "       [1., 1., 1., 1., 1.],\n",
       "       [1., 1., 0., 0., 1.],\n",
       "       [1., 1., 1., 1., 1.],\n",
       "       [1., 1., 1., 1., 1.]])"
      ]
     },
     "execution_count": 8,
     "metadata": {},
     "output_type": "execute_result"
    }
   ],
   "source": [
    "var[2,2]=0.\n",
    "var[2,3]=0.\n",
    "var"
   ]
  },
  {
   "cell_type": "code",
   "execution_count": 9,
   "metadata": {},
   "outputs": [
    {
     "data": {
      "text/plain": [
       "array([[ 2.        ,  2.25      ,  3.25      ,  4.25      ,  5.33333333],\n",
       "       [ 5.25      ,  6.        , 12.        , 13.        ,  8.75      ],\n",
       "       [10.25      , 12.        , 12.5       , 12.5       , 13.        ],\n",
       "       [15.25      , 16.        , 12.        , 13.        , 18.75      ],\n",
       "       [18.66666667, 19.75      , 20.75      , 21.75      , 22.        ]])"
      ]
     },
     "execution_count": 9,
     "metadata": {},
     "output_type": "execute_result"
    }
   ],
   "source": [
    "old = generateTile(kernel, img, var, threshold)\n",
    "old"
   ]
  },
  {
   "cell_type": "code",
   "execution_count": 10,
   "metadata": {},
   "outputs": [],
   "source": [
    "# Alternative\n",
    "def generateTileAlt(kernel, image, variance, threshold=5.):\n",
    "    masked_img = image.copy()\n",
    "    masked_img[variance > threshold] = 0.\n",
    "    \n",
    "    conv_img = convolve(image, kernel)\n",
    "    conv_masked_img = convolve(masked_img, kernel)\n",
    "    conv_var_mask = convolve((variance <= threshold).astype(np.float), kernel)\n",
    "    conv_var_neg_mask = convolve((variance > threshold).astype(np.float), kernel)\n",
    "    \n",
    "    out = conv_img\n",
    "    out[conv_var_neg_mask > 0] = conv_img[conv_var_neg_mask > 0] / conv_var_neg_mask[conv_var_neg_mask > 0]\n",
    "    out[conv_var_mask > 0] = conv_masked_img[conv_var_mask > 0] / conv_var_mask[conv_var_mask > 0]\n",
    "    \n",
    "    return out"
   ]
  },
  {
   "cell_type": "code",
   "execution_count": 11,
   "metadata": {},
   "outputs": [
    {
     "data": {
      "text/plain": [
       "array([[ 2.        ,  2.25      ,  3.25      ,  4.25      ,  5.33333333],\n",
       "       [ 5.25      ,  6.        , 12.        , 13.        ,  8.75      ],\n",
       "       [10.25      , 12.        , 12.5       , 12.5       , 13.        ],\n",
       "       [15.25      , 16.        , 12.        , 13.        , 18.75      ],\n",
       "       [18.66666667, 19.75      , 20.75      , 21.75      , 22.        ]])"
      ]
     },
     "execution_count": 11,
     "metadata": {},
     "output_type": "execute_result"
    }
   ],
   "source": [
    "new = generateTileAlt(kernel, img, var, threshold)\n",
    "new"
   ]
  },
  {
   "cell_type": "code",
   "execution_count": 12,
   "metadata": {},
   "outputs": [
    {
     "name": "stdout",
     "output_type": "stream",
     "text": [
      "201 µs ± 18.7 µs per loop (mean ± std. dev. of 7 runs, 1000 loops each)\n"
     ]
    }
   ],
   "source": [
    "%timeit old=generateTile(kernel, img, var, threshold)"
   ]
  },
  {
   "cell_type": "code",
   "execution_count": 13,
   "metadata": {},
   "outputs": [
    {
     "name": "stdout",
     "output_type": "stream",
     "text": [
      "57.1 µs ± 1.85 µs per loop (mean ± std. dev. of 7 runs, 10000 loops each)\n"
     ]
    }
   ],
   "source": [
    "%timeit new=generateTileAlt(kernel, img, var, threshold)"
   ]
  },
  {
   "cell_type": "code",
   "execution_count": 14,
   "metadata": {},
   "outputs": [],
   "source": [
    "np.testing.assert_equal(old, new)"
   ]
  },
  {
   "cell_type": "markdown",
   "metadata": {},
   "source": [
    "## Compare"
   ]
  },
  {
   "cell_type": "code",
   "execution_count": 15,
   "metadata": {},
   "outputs": [
    {
     "name": "stdout",
     "output_type": "stream",
     "text": [
      "(3, 3)\n",
      "(128, 128)\n",
      "(128, 128)\n",
      "176 ms ± 1.22 ms per loop (mean ± std. dev. of 7 runs, 10 loops each)\n",
      "1.02 ms ± 55.5 µs per loop (mean ± std. dev. of 7 runs, 1000 loops each)\n",
      "(5, 5)\n",
      "(128, 128)\n",
      "(128, 128)\n",
      "502 ms ± 24.8 ms per loop (mean ± std. dev. of 7 runs, 1 loop each)\n",
      "1.9 ms ± 37.6 µs per loop (mean ± std. dev. of 7 runs, 1000 loops each)\n",
      "(7, 7)\n",
      "(128, 128)\n",
      "(128, 128)\n",
      "810 ms ± 42.3 ms per loop (mean ± std. dev. of 7 runs, 1 loop each)\n",
      "3.16 ms ± 145 µs per loop (mean ± std. dev. of 7 runs, 100 loops each)\n",
      "(9, 9)\n",
      "(128, 128)\n",
      "(128, 128)\n",
      "1.34 s ± 36.5 ms per loop (mean ± std. dev. of 7 runs, 1 loop each)\n",
      "5.68 ms ± 175 µs per loop (mean ± std. dev. of 7 runs, 100 loops each)\n",
      "(11, 11)\n",
      "(128, 128)\n",
      "(128, 128)\n",
      "1.92 s ± 55.2 ms per loop (mean ± std. dev. of 7 runs, 1 loop each)\n",
      "8.62 ms ± 299 µs per loop (mean ± std. dev. of 7 runs, 100 loops each)\n",
      "(13, 13)\n",
      "(128, 128)\n",
      "(128, 128)\n",
      "2.64 s ± 61.5 ms per loop (mean ± std. dev. of 7 runs, 1 loop each)\n",
      "12.1 ms ± 124 µs per loop (mean ± std. dev. of 7 runs, 100 loops each)\n"
     ]
    }
   ],
   "source": [
    "time_legacy = []\n",
    "time_new = []\n",
    "\n",
    "imgsize = 128\n",
    "for ksize in range(3, 15, 2):\n",
    "    kernel = np.random.rand(ksize, ksize)\n",
    "    image = np.random.rand(imgsize, imgsize)\n",
    "    variance = np.random.rand(imgsize, imgsize)\n",
    "    \n",
    "    print(kernel.shape)\n",
    "    print(image.shape)\n",
    "    print(variance.shape)\n",
    "    \n",
    "    told = %timeit -o old = generateTile(kernel, image, variance, 0.5)\n",
    "    tnew = %timeit -o new = generateTileAlt(kernel, image, variance, 0.5)\n",
    "    np.testing.assert_equal(old, new)\n",
    "    time_legacy.append(told)\n",
    "    time_new.append(tnew)"
   ]
  },
  {
   "cell_type": "code",
   "execution_count": 16,
   "metadata": {},
   "outputs": [
    {
     "data": {
      "text/plain": [
       "<matplotlib.legend.Legend at 0x7fd22351e080>"
      ]
     },
     "execution_count": 16,
     "metadata": {},
     "output_type": "execute_result"
    },
    {
     "data": {
      "image/png": "[encoded data removed]",
      "text/plain": [
       "<Figure size 864x432 with 1 Axes>"
      ]
     },
     "metadata": {
      "needs_background": "light"
     },
     "output_type": "display_data"
    }
   ],
   "source": [
    "plt.figure(figsize=(12,6))\n",
    "plt.plot(range(3,15,2), [t.best/100. for t in time_legacy], label='Legacy')\n",
    "plt.plot(range(3,15,2), [t.best for t in time_new], label='DFT based')\n",
    "plt.xlabel('Kernel size')\n",
    "plt.ylabel('Seconds')\n",
    "plt.legend()"
   ]
  },
  {
   "cell_type": "code",
   "execution_count": 24,
   "metadata": {},
   "outputs": [
    {
     "name": "stdout",
     "output_type": "stream",
     "text": [
      "[[0.  0.5 0. ]\n",
      " [0.5 1.  0.5]\n",
      " [0.  0.5 0. ]]\n",
      "[[0. 0. 0. 0. 0.]\n",
      " [0. 0. 0. 0. 0.]\n",
      " [0. 0. 1. 1. 0.]\n",
      " [0. 0. 0. 0. 0.]\n",
      " [0. 0. 0. 0. 0.]]\n",
      "[[1.  2.  3.  4.  5. ]\n",
      " [1.1 2.1 3.1 4.1 5.1]\n",
      " [1.2 2.2 3.2 4.2 5.2]\n",
      " [1.3 2.3 3.3 4.3 5.3]\n",
      " [1.4 2.4 3.4 4.4 5.4]]\n",
      "[[0.  0.  0.  0.  0. ]\n",
      " [0.  0.  0.  0.  0. ]\n",
      " [0.  0.  3.2 4.2 0. ]\n",
      " [0.  0.  0.  0.  0. ]\n",
      " [0.  0.  0.  0.  0. ]]\n",
      "[[0.  0.  0.  0.  0. ]\n",
      " [0.  0.  0.5 0.5 0. ]\n",
      " [0.  0.5 1.5 1.5 0.5]\n",
      " [0.  0.  0.5 0.5 0. ]\n",
      " [0.  0.  0.  0.  0. ]]\n",
      "[[2.  2.5 2.5 2.5 2. ]\n",
      " [2.5 3.  2.5 2.5 2.5]\n",
      " [2.5 2.5 1.5 1.5 2. ]\n",
      " [2.5 3.  2.5 2.5 2.5]\n",
      " [2.  2.5 2.5 2.5 2. ]]\n"
     ]
    }
   ],
   "source": [
    "k=np.array([[0,0.5,0],[0.5,1,0.5],[0,0.5,0]])\n",
    "print(k)\n",
    "mask=np.array([[0,0,0,0,0],[0,0,0,0,0],[0,0,1,1,0],[0,0,0,0,0],[0,0,0,0,0]]).astype(np.float)\n",
    "mask_neg=1-mask\n",
    "img=np.array([[1.0, 2.0, 3.0, 4.0, 5.0],[1.1, 2.1, 3.1, 4.1, 5.1],[1.2, 2.2, 3.2, 4.2, 5.2],[1.3, 2.3, 3.3, 4.3, 5.3],[1.4, 2.4, 3.4, 4.4, 5.4]])\n",
    "print(mask)\n",
    "print(img)\n",
    "print(img*mask)\n",
    "print(convolve(mask, k))\n",
    "print(convolve(mask_neg,k))"
   ]
  },
  {
   "cell_type": "code",
   "execution_count": null,
   "metadata": {},
   "outputs": [],
   "source": []
  }
 ],
 "metadata": {
  "kernelspec": {
   "display_name": "Python 3",
   "language": "python",
   "name": "python3"
  },
  "language_info": {
   "codemirror_mode": {
    "name": "ipython",
    "version": 3
   },
   "file_extension": ".py",
   "mimetype": "text/x-python",
   "name": "python",
   "nbconvert_exporter": "python",
   "pygments_lexer": "ipython3",
   "version": "3.7.2"
  }
 },
 "nbformat": 4,
 "nbformat_minor": 2
}
