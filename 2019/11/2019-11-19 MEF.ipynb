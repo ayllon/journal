{
 "cells": [
  {
   "cell_type": "code",
   "execution_count": 5,
   "metadata": {},
   "outputs": [],
   "source": [
    "%matplotlib inline\n",
    "from astropy.io import fits\n",
    "import matplotlib.pyplot as plt\n",
    "import numpy as np\n",
    "import os\n",
    "from glob import glob"
   ]
  },
  {
   "cell_type": "code",
   "execution_count": 3,
   "metadata": {},
   "outputs": [],
   "source": [
    "img_base = '/home/aalvarez/Work/Projects/SourceXtractor-litmus/data/sim09/img'\n",
    "psf_base = '/home/aalvarez/Work/Projects/SourceXtractor-litmus/data/sim09/psf/'\n",
    "out_mef = '/home/aalvarez/Work/Projects/SourceXtractor-litmus/data/mef/'"
   ]
  },
  {
   "cell_type": "code",
   "execution_count": 4,
   "metadata": {},
   "outputs": [],
   "source": [
    "bands = ['r', 'g']"
   ]
  },
  {
   "cell_type": "code",
   "execution_count": 30,
   "metadata": {},
   "outputs": [
    {
     "name": "stdout",
     "output_type": "stream",
     "text": [
      "Processing r\n",
      "\tsim09_r_01.fits / sim09_r_01.psf\n",
      "\tsim09_r_02.fits / sim09_r_02.psf\n",
      "\tsim09_r_03.fits / sim09_r_03.psf\n",
      "\tsim09_r_04.fits / sim09_r_04.psf\n",
      "\tsim09_r_05.fits / sim09_r_05.psf\n",
      "\tsim09_r_06.fits / sim09_r_06.psf\n",
      "\tsim09_r_07.fits / sim09_r_07.psf\n",
      "\tsim09_r_08.fits / sim09_r_08.psf\n",
      "\tsim09_r_09.fits / sim09_r_09.psf\n",
      "\tsim09_r_10.fits / sim09_r_10.psf\n",
      "\tWriting /home/aalvarez/Work/Projects/SourceXtractor-litmus/data/mef/mef_r.fits (11)\n",
      "\tWriting /home/aalvarez/Work/Projects/SourceXtractor-litmus/data/mef/mef_r.psf (11)\n",
      "Processing g\n",
      "\tsim09_g_01.fits / sim09_g_01.psf\n",
      "\tsim09_g_02.fits / sim09_g_02.psf\n",
      "\tsim09_g_03.fits / sim09_g_03.psf\n",
      "\tsim09_g_04.fits / sim09_g_04.psf\n",
      "\tsim09_g_05.fits / sim09_g_05.psf\n",
      "\tsim09_g_06.fits / sim09_g_06.psf\n",
      "\tsim09_g_07.fits / sim09_g_07.psf\n",
      "\tsim09_g_08.fits / sim09_g_08.psf\n",
      "\tsim09_g_09.fits / sim09_g_09.psf\n",
      "\tsim09_g_10.fits / sim09_g_10.psf\n",
      "\tWriting /home/aalvarez/Work/Projects/SourceXtractor-litmus/data/mef/mef_g.fits (11)\n",
      "\tWriting /home/aalvarez/Work/Projects/SourceXtractor-litmus/data/mef/mef_g.psf (11)\n"
     ]
    }
   ],
   "source": [
    "for band in bands:\n",
    "    print(f'Processing {band}')\n",
    "    imgs = sorted(glob(os.path.join(img_base, f'sim09_{band}_*.fits')))\n",
    "    psfs = sorted(glob(os.path.join(psf_base, f'sim09_{band}_*.psf')))\n",
    "    \n",
    "    img_hdus = [fits.PrimaryHDU()]\n",
    "    psf_hdus = [fits.PrimaryHDU()]\n",
    "    \n",
    "    for img, psf in zip(imgs, psfs):\n",
    "        print(f'\\t{os.path.basename(img)} / {os.path.basename(psf)}')\n",
    "        img_hdu = fits.open(img)[0]\n",
    "        psf_hdu = fits.open(psf)[1]\n",
    "        img_hdus.append(fits.ImageHDU(data=img_hdu.data, header=img_hdu.header))\n",
    "        psf_hdus.append(fits.BinTableHDU(data=psf_hdu.data, header=psf_hdu.header, name=psf_hdu.name))\n",
    "        \n",
    "    out_img = os.path.join(out_mef, f'mef_{band}.fits')\n",
    "    out_psf = os.path.join(out_mef, f'mef_{band}.psf')\n",
    "    \n",
    "    print(f'\\tWriting {out_img} ({len(img_hdus)})')\n",
    "    img_hdulist = fits.HDUList(img_hdus)\n",
    "    img_hdulist.writeto(out_img, overwrite=True)\n",
    "    \n",
    "    print(f'\\tWriting {out_psf} ({len(psf_hdus)})')\n",
    "    psf_hdulist = fits.HDUList(psf_hdus)\n",
    "    psf_hdulist.writeto(out_psf, overwrite=True)"
   ]
  },
  {
   "cell_type": "code",
   "execution_count": null,
   "metadata": {},
   "outputs": [],
   "source": []
  }
 ],
 "metadata": {
  "kernelspec": {
   "display_name": "Python 3",
   "language": "python",
   "name": "python3"
  },
  "language_info": {
   "codemirror_mode": {
    "name": "ipython",
    "version": 3
   },
   "file_extension": ".py",
   "mimetype": "text/x-python",
   "name": "python",
   "nbconvert_exporter": "python",
   "pygments_lexer": "ipython3",
   "version": "3.7.4"
  }
 },
 "nbformat": 4,
 "nbformat_minor": 4
}
