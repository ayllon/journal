{
 "cells": [
  {
   "cell_type": "markdown",
   "metadata": {},
   "source": [
    "# Compare Levmar vs GSL engines (sinh, only sim09_r.fits)"
   ]
  },
  {
   "cell_type": "code",
   "execution_count": 1,
   "metadata": {},
   "outputs": [],
   "source": [
    "%matplotlib widget\n",
    "from astropy.io import fits\n",
    "from astropy.table import Table\n",
    "import matplotlib.pyplot as plt\n",
    "import prettyprint\n",
    "import re\n",
    "import numpy as np\n",
    "from glob import glob\n",
    "from matplotlib import colors\n",
    "from matplotlib.patches import Ellipse\n",
    "from matplotlib.collections import PatchCollection\n",
    "from matplotlib.gridspec import GridSpec\n",
    "from stuff import Simulation\n",
    "from validation import CrossValidation\n",
    "from image import Image"
   ]
  },
  {
   "cell_type": "markdown",
   "metadata": {},
   "source": [
    "## Model configuration"
   ]
  },
  {
   "cell_type": "code",
   "execution_count": 2,
   "metadata": {},
   "outputs": [
    {
     "data": {
      "text/html": [
       "<style type=\"text/css\">.highlight .hll { background-color: #ffffcc }\n",
       ".highlight  { background: #f8f8f8; }\n",
       ".highlight .c { color: #408080; font-style: italic } /* Comment */\n",
       ".highlight .err { border: 1px solid #FF0000 } /* Error */\n",
       ".highlight .k { color: #008000; font-weight: bold } /* Keyword */\n",
       ".highlight .o { color: #666666 } /* Operator */\n",
       ".highlight .ch { color: #408080; font-style: italic } /* Comment.Hashbang */\n",
       ".highlight .cm { color: #408080; font-style: italic } /* Comment.Multiline */\n",
       ".highlight .cp { color: #BC7A00 } /* Comment.Preproc */\n",
       ".highlight .cpf { color: #408080; font-style: italic } /* Comment.PreprocFile */\n",
       ".highlight .c1 { color: #408080; font-style: italic } /* Comment.Single */\n",
       ".highlight .cs { color: #408080; font-style: italic } /* Comment.Special */\n",
       ".highlight .gd { color: #A00000 } /* Generic.Deleted */\n",
       ".highlight .ge { font-style: italic } /* Generic.Emph */\n",
       ".highlight .gr { color: #FF0000 } /* Generic.Error */\n",
       ".highlight .gh { color: #000080; font-weight: bold } /* Generic.Heading */\n",
       ".highlight .gi { color: #00A000 } /* Generic.Inserted */\n",
       ".highlight .go { color: #888888 } /* Generic.Output */\n",
       ".highlight .gp { color: #000080; font-weight: bold } /* Generic.Prompt */\n",
       ".highlight .gs { font-weight: bold } /* Generic.Strong */\n",
       ".highlight .gu { color: #800080; font-weight: bold } /* Generic.Subheading */\n",
       ".highlight .gt { color: #0044DD } /* Generic.Traceback */\n",
       ".highlight .kc { color: #008000; font-weight: bold } /* Keyword.Constant */\n",
       ".highlight .kd { color: #008000; font-weight: bold } /* Keyword.Declaration */\n",
       ".highlight .kn { color: #008000; font-weight: bold } /* Keyword.Namespace */\n",
       ".highlight .kp { color: #008000 } /* Keyword.Pseudo */\n",
       ".highlight .kr { color: #008000; font-weight: bold } /* Keyword.Reserved */\n",
       ".highlight .kt { color: #B00040 } /* Keyword.Type */\n",
       ".highlight .m { color: #666666 } /* Literal.Number */\n",
       ".highlight .s { color: #BA2121 } /* Literal.String */\n",
       ".highlight .na { color: #7D9029 } /* Name.Attribute */\n",
       ".highlight .nb { color: #008000 } /* Name.Builtin */\n",
       ".highlight .nc { color: #0000FF; font-weight: bold } /* Name.Class */\n",
       ".highlight .no { color: #880000 } /* Name.Constant */\n",
       ".highlight .nd { color: #AA22FF } /* Name.Decorator */\n",
       ".highlight .ni { color: #999999; font-weight: bold } /* Name.Entity */\n",
       ".highlight .ne { color: #D2413A; font-weight: bold } /* Name.Exception */\n",
       ".highlight .nf { color: #0000FF } /* Name.Function */\n",
       ".highlight .nl { color: #A0A000 } /* Name.Label */\n",
       ".highlight .nn { color: #0000FF; font-weight: bold } /* Name.Namespace */\n",
       ".highlight .nt { color: #008000; font-weight: bold } /* Name.Tag */\n",
       ".highlight .nv { color: #19177C } /* Name.Variable */\n",
       ".highlight .ow { color: #AA22FF; font-weight: bold } /* Operator.Word */\n",
       ".highlight .w { color: #bbbbbb } /* Text.Whitespace */\n",
       ".highlight .mb { color: #666666 } /* Literal.Number.Bin */\n",
       ".highlight .mf { color: #666666 } /* Literal.Number.Float */\n",
       ".highlight .mh { color: #666666 } /* Literal.Number.Hex */\n",
       ".highlight .mi { color: #666666 } /* Literal.Number.Integer */\n",
       ".highlight .mo { color: #666666 } /* Literal.Number.Oct */\n",
       ".highlight .sa { color: #BA2121 } /* Literal.String.Affix */\n",
       ".highlight .sb { color: #BA2121 } /* Literal.String.Backtick */\n",
       ".highlight .sc { color: #BA2121 } /* Literal.String.Char */\n",
       ".highlight .dl { color: #BA2121 } /* Literal.String.Delimiter */\n",
       ".highlight .sd { color: #BA2121; font-style: italic } /* Literal.String.Doc */\n",
       ".highlight .s2 { color: #BA2121 } /* Literal.String.Double */\n",
       ".highlight .se { color: #BB6622; font-weight: bold } /* Literal.String.Escape */\n",
       ".highlight .sh { color: #BA2121 } /* Literal.String.Heredoc */\n",
       ".highlight .si { color: #BB6688; font-weight: bold } /* Literal.String.Interpol */\n",
       ".highlight .sx { color: #008000 } /* Literal.String.Other */\n",
       ".highlight .sr { color: #BB6688 } /* Literal.String.Regex */\n",
       ".highlight .s1 { color: #BA2121 } /* Literal.String.Single */\n",
       ".highlight .ss { color: #19177C } /* Literal.String.Symbol */\n",
       ".highlight .bp { color: #008000 } /* Name.Builtin.Pseudo */\n",
       ".highlight .fm { color: #0000FF } /* Name.Function.Magic */\n",
       ".highlight .vc { color: #19177C } /* Name.Variable.Class */\n",
       ".highlight .vg { color: #19177C } /* Name.Variable.Global */\n",
       ".highlight .vi { color: #19177C } /* Name.Variable.Instance */\n",
       ".highlight .vm { color: #19177C } /* Name.Variable.Magic */\n",
       ".highlight .il { color: #666666 } /* Literal.Number.Integer.Long */</style><div class=\"highlight\"><pre><span></span><span class=\"na\">log-level</span><span class=\"o\">=</span><span class=\"s\">INFO</span>\n",
       "<span class=\"na\">log-file</span><span class=\"o\">=</span><span class=\"s\">sim09.log</span>\n",
       "<span class=\"na\">auto-kron-factor</span><span class=\"o\">=</span><span class=\"s\">2.5</span>\n",
       "<span class=\"na\">auto-kron-min-radius</span><span class=\"o\">=</span><span class=\"s\">3.5</span>\n",
       "<span class=\"na\">background-cell-size</span><span class=\"o\">=</span><span class=\"s\">64</span>\n",
       "<span class=\"na\">smoothing-box-size</span><span class=\"o\">=</span><span class=\"s\">3</span>\n",
       "<span class=\"na\">detection-threshold</span><span class=\"o\">=</span><span class=\"s\">1.5</span>\n",
       "<span class=\"na\">segmentation-algorithm</span><span class=\"o\">=</span><span class=\"s\">LUTZ</span>\n",
       "<span class=\"na\">segmentation-disable-filtering</span><span class=\"o\">=</span><span class=\"s\">false</span>\n",
       "<span class=\"na\">segmentation-filter</span><span class=\"o\">=</span><span class=\"s\">/home/aalvarez/Work/Data/sim09/default.conv</span>\n",
       "<span class=\"na\">detection-image-interpolation</span><span class=\"o\">=</span><span class=\"s\">1</span>\n",
       "<span class=\"na\">detection-image-interpolation-gap</span><span class=\"o\">=</span><span class=\"s\">5</span>\n",
       "<span class=\"na\">detect-minarea</span><span class=\"o\">=</span><span class=\"s\">9</span>\n",
       "<span class=\"na\">grouping-algorithm</span><span class=\"o\">=</span><span class=\"s\">SPLIT</span>\n",
       "<span class=\"na\">magnitude-zeropoint</span><span class=\"o\">=</span><span class=\"s\">32.19</span>\n",
       "<span class=\"na\">tile-memory-limit</span><span class=\"o\">=</span><span class=\"s\">512</span>\n",
       "<span class=\"na\">tile-size</span><span class=\"o\">=</span><span class=\"s\">256</span>\n",
       "<span class=\"na\">model-fitting-iterations</span><span class=\"o\">=</span><span class=\"s\">1000</span>\n",
       "<span class=\"na\">thread-count</span><span class=\"o\">=</span><span class=\"s\">20</span>\n",
       "<span class=\"na\">partition-multithreshold</span><span class=\"o\">=</span><span class=\"s\">true</span>\n",
       "<span class=\"na\">partition-threshold-count</span><span class=\"o\">=</span><span class=\"s\">32</span>\n",
       "<span class=\"na\">partition-min-area</span><span class=\"o\">=</span><span class=\"s\">3</span>\n",
       "<span class=\"na\">partition-min-contrast</span><span class=\"o\">=</span><span class=\"s\">0.005</span>\n",
       "<span class=\"na\">psf-fwhm</span><span class=\"o\">=</span><span class=\"s\">3</span>\n",
       "<span class=\"na\">psf-pixel-scale</span><span class=\"o\">=</span><span class=\"s\">1</span>\n",
       "<span class=\"na\">weight-usesymmetry</span><span class=\"o\">=</span><span class=\"s\">1</span>\n",
       "<span class=\"na\">check-image-model-fitting</span><span class=\"o\">=</span><span class=\"s\">check_modelfitting.fits</span>\n",
       "<span class=\"na\">check-image-residual</span><span class=\"o\">=</span><span class=\"s\">check_residual.fits</span>\n",
       "<span class=\"na\">check-image-background</span><span class=\"o\">=</span><span class=\"s\">check_background.fits</span>\n",
       "<span class=\"na\">check-image-variance</span><span class=\"o\">=</span><span class=\"s\">check_variance.fits</span>\n",
       "<span class=\"na\">check-image-segmentation</span><span class=\"o\">=</span><span class=\"s\">check_segmentation.fits</span>\n",
       "<span class=\"na\">check-image-partition</span><span class=\"o\">=</span><span class=\"s\">check_partition.fits</span>\n",
       "<span class=\"na\">check-image-grouping</span><span class=\"o\">=</span><span class=\"s\">check_grouping.fits</span>\n",
       "<span class=\"na\">check-image-auto-aperture</span><span class=\"o\">=</span><span class=\"s\">check_autoaperture.fits</span>\n",
       "<span class=\"na\">check-image-aperture</span><span class=\"o\">=</span><span class=\"s\">check_aperture.fits</span>\n",
       "<span class=\"na\">output-properties</span><span class=\"o\">=</span><span class=\"s\">SourceIDs,PixelCentroid,WorldCentroid,SourceFlags,FlexibleModelFitting,ShapeParameters,AutoPhotometry,IsophotalFlux</span>\n",
       "<span class=\"na\">detection-image</span><span class=\"o\">=</span><span class=\"s\">/home/aalvarez/Work/Data/sim09/sim09_r.fits</span>\n",
       "<span class=\"na\">weight-image</span><span class=\"o\">=</span><span class=\"s\">/home/aalvarez/Work/Data/sim09/sim09_r.weight.fits</span>\n",
       "<span class=\"na\">weight-type</span><span class=\"o\">=</span><span class=\"s\">weight</span>\n",
       "<span class=\"na\">weight-absolute</span><span class=\"o\">=</span><span class=\"s\">True</span>\n",
       "<span class=\"na\">python-config-file</span><span class=\"o\">=</span><span class=\"s\">/home/aalvarez/Work/Data/sim09/sim09_multiframe.py</span>\n",
       "<span class=\"na\">output-catalog-filename</span><span class=\"o\">=</span><span class=\"s\">/home/aalvarez/Work/Data/sim09/sim09_cat.fits</span>\n",
       "</pre></div>\n"
      ],
      "text/plain": [
       "<IPython.core.display.HTML object>"
      ]
     },
     "execution_count": 2,
     "metadata": {},
     "output_type": "execute_result"
    }
   ],
   "source": [
    "prettyprint.prettyprint('/home/aalvarez/Work/Data/sim09/sim09.config')"
   ]
  },
  {
   "cell_type": "code",
   "execution_count": 4,
   "metadata": {},
   "outputs": [
    {
     "data": {
      "text/html": [
       "<style type=\"text/css\">.highlight .hll { background-color: #ffffcc }\n",
       ".highlight  { background: #f8f8f8; }\n",
       ".highlight .c { color: #408080; font-style: italic } /* Comment */\n",
       ".highlight .err { border: 1px solid #FF0000 } /* Error */\n",
       ".highlight .k { color: #008000; font-weight: bold } /* Keyword */\n",
       ".highlight .o { color: #666666 } /* Operator */\n",
       ".highlight .ch { color: #408080; font-style: italic } /* Comment.Hashbang */\n",
       ".highlight .cm { color: #408080; font-style: italic } /* Comment.Multiline */\n",
       ".highlight .cp { color: #BC7A00 } /* Comment.Preproc */\n",
       ".highlight .cpf { color: #408080; font-style: italic } /* Comment.PreprocFile */\n",
       ".highlight .c1 { color: #408080; font-style: italic } /* Comment.Single */\n",
       ".highlight .cs { color: #408080; font-style: italic } /* Comment.Special */\n",
       ".highlight .gd { color: #A00000 } /* Generic.Deleted */\n",
       ".highlight .ge { font-style: italic } /* Generic.Emph */\n",
       ".highlight .gr { color: #FF0000 } /* Generic.Error */\n",
       ".highlight .gh { color: #000080; font-weight: bold } /* Generic.Heading */\n",
       ".highlight .gi { color: #00A000 } /* Generic.Inserted */\n",
       ".highlight .go { color: #888888 } /* Generic.Output */\n",
       ".highlight .gp { color: #000080; font-weight: bold } /* Generic.Prompt */\n",
       ".highlight .gs { font-weight: bold } /* Generic.Strong */\n",
       ".highlight .gu { color: #800080; font-weight: bold } /* Generic.Subheading */\n",
       ".highlight .gt { color: #0044DD } /* Generic.Traceback */\n",
       ".highlight .kc { color: #008000; font-weight: bold } /* Keyword.Constant */\n",
       ".highlight .kd { color: #008000; font-weight: bold } /* Keyword.Declaration */\n",
       ".highlight .kn { color: #008000; font-weight: bold } /* Keyword.Namespace */\n",
       ".highlight .kp { color: #008000 } /* Keyword.Pseudo */\n",
       ".highlight .kr { color: #008000; font-weight: bold } /* Keyword.Reserved */\n",
       ".highlight .kt { color: #B00040 } /* Keyword.Type */\n",
       ".highlight .m { color: #666666 } /* Literal.Number */\n",
       ".highlight .s { color: #BA2121 } /* Literal.String */\n",
       ".highlight .na { color: #7D9029 } /* Name.Attribute */\n",
       ".highlight .nb { color: #008000 } /* Name.Builtin */\n",
       ".highlight .nc { color: #0000FF; font-weight: bold } /* Name.Class */\n",
       ".highlight .no { color: #880000 } /* Name.Constant */\n",
       ".highlight .nd { color: #AA22FF } /* Name.Decorator */\n",
       ".highlight .ni { color: #999999; font-weight: bold } /* Name.Entity */\n",
       ".highlight .ne { color: #D2413A; font-weight: bold } /* Name.Exception */\n",
       ".highlight .nf { color: #0000FF } /* Name.Function */\n",
       ".highlight .nl { color: #A0A000 } /* Name.Label */\n",
       ".highlight .nn { color: #0000FF; font-weight: bold } /* Name.Namespace */\n",
       ".highlight .nt { color: #008000; font-weight: bold } /* Name.Tag */\n",
       ".highlight .nv { color: #19177C } /* Name.Variable */\n",
       ".highlight .ow { color: #AA22FF; font-weight: bold } /* Operator.Word */\n",
       ".highlight .w { color: #bbbbbb } /* Text.Whitespace */\n",
       ".highlight .mb { color: #666666 } /* Literal.Number.Bin */\n",
       ".highlight .mf { color: #666666 } /* Literal.Number.Float */\n",
       ".highlight .mh { color: #666666 } /* Literal.Number.Hex */\n",
       ".highlight .mi { color: #666666 } /* Literal.Number.Integer */\n",
       ".highlight .mo { color: #666666 } /* Literal.Number.Oct */\n",
       ".highlight .sa { color: #BA2121 } /* Literal.String.Affix */\n",
       ".highlight .sb { color: #BA2121 } /* Literal.String.Backtick */\n",
       ".highlight .sc { color: #BA2121 } /* Literal.String.Char */\n",
       ".highlight .dl { color: #BA2121 } /* Literal.String.Delimiter */\n",
       ".highlight .sd { color: #BA2121; font-style: italic } /* Literal.String.Doc */\n",
       ".highlight .s2 { color: #BA2121 } /* Literal.String.Double */\n",
       ".highlight .se { color: #BB6622; font-weight: bold } /* Literal.String.Escape */\n",
       ".highlight .sh { color: #BA2121 } /* Literal.String.Heredoc */\n",
       ".highlight .si { color: #BB6688; font-weight: bold } /* Literal.String.Interpol */\n",
       ".highlight .sx { color: #008000 } /* Literal.String.Other */\n",
       ".highlight .sr { color: #BB6688 } /* Literal.String.Regex */\n",
       ".highlight .s1 { color: #BA2121 } /* Literal.String.Single */\n",
       ".highlight .ss { color: #19177C } /* Literal.String.Symbol */\n",
       ".highlight .bp { color: #008000 } /* Name.Builtin.Pseudo */\n",
       ".highlight .fm { color: #0000FF } /* Name.Function.Magic */\n",
       ".highlight .vc { color: #19177C } /* Name.Variable.Class */\n",
       ".highlight .vg { color: #19177C } /* Name.Variable.Global */\n",
       ".highlight .vi { color: #19177C } /* Name.Variable.Instance */\n",
       ".highlight .vm { color: #19177C } /* Name.Variable.Magic */\n",
       ".highlight .il { color: #666666 } /* Literal.Number.Integer.Long */</style><div class=\"highlight\"><pre><span></span><span class=\"kn\">from</span> <span class=\"nn\">sextractorxx.config</span> <span class=\"kn\">import</span> <span class=\"o\">*</span>\n",
       "<span class=\"kn\">from</span> <span class=\"nn\">glob</span> <span class=\"kn\">import</span> <span class=\"n\">glob</span>\n",
       "<span class=\"kn\">import</span> <span class=\"nn\">os</span>\n",
       "<span class=\"kn\">import</span> <span class=\"nn\">numpy</span> <span class=\"kn\">as</span> <span class=\"nn\">np</span>\n",
       "\n",
       "<span class=\"n\">set_engine</span><span class=\"p\">(</span><span class=\"s1\">&#39;gsl&#39;</span><span class=\"p\">)</span>\n",
       "\n",
       "<span class=\"n\">base_dir</span> <span class=\"o\">=</span> <span class=\"n\">os</span><span class=\"o\">.</span><span class=\"n\">path</span><span class=\"o\">.</span><span class=\"n\">abspath</span><span class=\"p\">(</span><span class=\"n\">os</span><span class=\"o\">.</span><span class=\"n\">path</span><span class=\"o\">.</span><span class=\"n\">dirname</span><span class=\"p\">(</span><span class=\"vm\">__file__</span><span class=\"p\">))</span>\n",
       "\n",
       "<span class=\"n\">MAG_ZEROPOINT</span> <span class=\"o\">=</span> <span class=\"mf\">32.19</span>\n",
       "\n",
       "<span class=\"n\">frames</span> <span class=\"o\">=</span> <span class=\"nb\">sorted</span><span class=\"p\">(</span><span class=\"n\">glob</span><span class=\"p\">(</span><span class=\"n\">os</span><span class=\"o\">.</span><span class=\"n\">path</span><span class=\"o\">.</span><span class=\"n\">join</span><span class=\"p\">(</span><span class=\"n\">base_dir</span><span class=\"p\">,</span> <span class=\"s1\">&#39;sim09_r_*.fits&#39;</span><span class=\"p\">)))</span>\n",
       "<span class=\"n\">psfs</span> <span class=\"o\">=</span> <span class=\"nb\">sorted</span><span class=\"p\">(</span><span class=\"n\">glob</span><span class=\"p\">(</span><span class=\"n\">os</span><span class=\"o\">.</span><span class=\"n\">path</span><span class=\"o\">.</span><span class=\"n\">join</span><span class=\"p\">(</span><span class=\"n\">base_dir</span><span class=\"p\">,</span> <span class=\"s1\">&#39;sim09_r_*.psf&#39;</span><span class=\"p\">)))</span>\n",
       "\n",
       "<span class=\"n\">top</span> <span class=\"o\">=</span> <span class=\"n\">load_fits_images</span><span class=\"p\">(</span><span class=\"n\">frames</span><span class=\"p\">,</span> <span class=\"n\">psfs</span><span class=\"p\">)</span>\n",
       "<span class=\"n\">top</span><span class=\"o\">.</span><span class=\"n\">split</span><span class=\"p\">(</span><span class=\"n\">ByKeyword</span><span class=\"p\">(</span><span class=\"s1\">&#39;FILTER&#39;</span><span class=\"p\">))</span>\n",
       "<span class=\"n\">measurement_group</span> <span class=\"o\">=</span> <span class=\"n\">MeasurementGroup</span><span class=\"p\">(</span><span class=\"n\">top</span><span class=\"p\">)</span>\n",
       "\n",
       "<span class=\"n\">x</span><span class=\"p\">,</span> <span class=\"n\">y</span> <span class=\"o\">=</span> <span class=\"n\">get_pos_parameters</span><span class=\"p\">()</span>\n",
       "<span class=\"n\">ratio</span> <span class=\"o\">=</span> <span class=\"n\">FreeParameter</span><span class=\"p\">(</span><span class=\"mi\">1</span><span class=\"p\">,</span> <span class=\"n\">Range</span><span class=\"p\">((</span><span class=\"mi\">0</span><span class=\"p\">,</span> <span class=\"mi\">10</span><span class=\"p\">),</span> <span class=\"n\">RangeType</span><span class=\"o\">.</span><span class=\"n\">LINEAR</span><span class=\"p\">))</span>\n",
       "<span class=\"n\">rad</span> <span class=\"o\">=</span> <span class=\"n\">FreeParameter</span><span class=\"p\">(</span><span class=\"k\">lambda</span> <span class=\"n\">o</span><span class=\"p\">:</span> <span class=\"n\">o</span><span class=\"o\">.</span><span class=\"n\">get_radius</span><span class=\"p\">(),</span> <span class=\"n\">Range</span><span class=\"p\">(</span><span class=\"k\">lambda</span> <span class=\"n\">v</span><span class=\"p\">,</span> <span class=\"n\">o</span><span class=\"p\">:</span> <span class=\"p\">(</span><span class=\"o\">.</span><span class=\"mo\">01</span> <span class=\"o\">*</span> <span class=\"n\">v</span><span class=\"p\">,</span> <span class=\"mi\">100</span> <span class=\"o\">*</span> <span class=\"n\">v</span><span class=\"p\">),</span> <span class=\"n\">RangeType</span><span class=\"o\">.</span><span class=\"n\">EXPONENTIAL</span><span class=\"p\">))</span>\n",
       "<span class=\"n\">angle</span> <span class=\"o\">=</span> <span class=\"n\">FreeParameter</span><span class=\"p\">(</span><span class=\"k\">lambda</span> <span class=\"n\">o</span><span class=\"p\">:</span> <span class=\"n\">o</span><span class=\"o\">.</span><span class=\"n\">get_angle</span><span class=\"p\">(),</span> <span class=\"n\">Range</span><span class=\"p\">((</span><span class=\"o\">-</span><span class=\"mi\">2</span> <span class=\"o\">*</span> <span class=\"mf\">3.14159</span><span class=\"p\">,</span> <span class=\"mi\">2</span> <span class=\"o\">*</span> <span class=\"mf\">3.14159</span><span class=\"p\">),</span> <span class=\"n\">RangeType</span><span class=\"o\">.</span><span class=\"n\">LINEAR</span><span class=\"p\">))</span>\n",
       "\n",
       "<span class=\"k\">for</span> <span class=\"n\">band</span><span class=\"p\">,</span> <span class=\"n\">group</span> <span class=\"ow\">in</span> <span class=\"n\">measurement_group</span><span class=\"p\">:</span>\n",
       "    <span class=\"n\">flux</span> <span class=\"o\">=</span> <span class=\"n\">get_flux_parameter</span><span class=\"p\">()</span>\n",
       "    <span class=\"n\">mag</span> <span class=\"o\">=</span> <span class=\"n\">DependentParameter</span><span class=\"p\">(</span><span class=\"k\">lambda</span> <span class=\"n\">f</span><span class=\"p\">:</span> <span class=\"o\">-</span><span class=\"mf\">2.5</span> <span class=\"o\">*</span> <span class=\"n\">np</span><span class=\"o\">.</span><span class=\"n\">log10</span><span class=\"p\">(</span><span class=\"n\">f</span><span class=\"p\">)</span> <span class=\"o\">+</span> <span class=\"n\">MAG_ZEROPOINT</span><span class=\"p\">,</span> <span class=\"n\">flux</span><span class=\"p\">)</span>\n",
       "    <span class=\"n\">add_model</span><span class=\"p\">(</span><span class=\"n\">group</span><span class=\"p\">,</span> <span class=\"n\">ExponentialModel</span><span class=\"p\">(</span><span class=\"n\">x</span><span class=\"p\">,</span> <span class=\"n\">y</span><span class=\"p\">,</span> <span class=\"n\">flux</span><span class=\"p\">,</span> <span class=\"n\">rad</span><span class=\"p\">,</span> <span class=\"n\">ratio</span><span class=\"p\">,</span> <span class=\"n\">angle</span><span class=\"p\">))</span>\n",
       "\n",
       "    <span class=\"n\">add_output_column</span><span class=\"p\">(</span><span class=\"s1\">&#39;mf_flux_&#39;</span> <span class=\"o\">+</span> <span class=\"n\">band</span><span class=\"p\">,</span> <span class=\"n\">flux</span><span class=\"p\">)</span>\n",
       "    <span class=\"n\">add_output_column</span><span class=\"p\">(</span><span class=\"s1\">&#39;mf_mag_&#39;</span> <span class=\"o\">+</span> <span class=\"n\">band</span><span class=\"p\">,</span> <span class=\"n\">mag</span><span class=\"p\">)</span>\n",
       "\n",
       "<span class=\"n\">add_output_column</span><span class=\"p\">(</span><span class=\"s1\">&#39;mf_x&#39;</span><span class=\"p\">,</span> <span class=\"n\">x</span><span class=\"p\">)</span>\n",
       "<span class=\"n\">add_output_column</span><span class=\"p\">(</span><span class=\"s1\">&#39;mf_y&#39;</span><span class=\"p\">,</span> <span class=\"n\">y</span><span class=\"p\">)</span>\n",
       "<span class=\"n\">add_output_column</span><span class=\"p\">(</span><span class=\"s1\">&#39;mf_rad&#39;</span><span class=\"p\">,</span> <span class=\"n\">rad</span><span class=\"p\">)</span>\n",
       "<span class=\"n\">add_output_column</span><span class=\"p\">(</span><span class=\"s1\">&#39;mf_angle&#39;</span><span class=\"p\">,</span> <span class=\"n\">angle</span><span class=\"p\">)</span>\n",
       "<span class=\"n\">add_output_column</span><span class=\"p\">(</span><span class=\"s1\">&#39;mf_aspect&#39;</span><span class=\"p\">,</span> <span class=\"n\">ratio</span><span class=\"p\">)</span>\n",
       "\n",
       "<span class=\"n\">print_output_columns</span><span class=\"p\">()</span>\n",
       "</pre></div>\n"
      ],
      "text/plain": [
       "<IPython.core.display.HTML object>"
      ]
     },
     "execution_count": 4,
     "metadata": {},
     "output_type": "execute_result"
    }
   ],
   "source": [
    "prettyprint.prettyprint('/home/aalvarez/Work/Data/sim09/sim09_r_model.py')"
   ]
  },
  {
   "cell_type": "markdown",
   "metadata": {},
   "source": [
    "**Note:** `set_engine('gsl')` is commented out when running using Levmar"
   ]
  },
  {
   "cell_type": "code",
   "execution_count": 5,
   "metadata": {},
   "outputs": [
    {
     "name": "stdout",
     "output_type": "stream",
     "text": [
      "Number of frames used: 10\n"
     ]
    }
   ],
   "source": [
    "base_dir = '/home/aalvarez/Work/Data/sim09/'\n",
    "frames = sorted(glob(os.path.join(base_dir, 'sim09_r_*.fits')))\n",
    "nframes = len(frames)\n",
    "print(f'Number of frames used: {nframes}')"
   ]
  },
  {
   "cell_type": "markdown",
   "metadata": {},
   "source": [
    "## Levmar run"
   ]
  },
  {
   "cell_type": "code",
   "execution_count": 8,
   "metadata": {},
   "outputs": [],
   "source": [
    "levmar_dir = '/home/aalvarez/Work/Data/sim09/sim09_r_levmar/'\n",
    "levmar_log = open(os.path.join(levmar_dir, 'sim09.log')).read()"
   ]
  },
  {
   "cell_type": "code",
   "execution_count": 9,
   "metadata": {},
   "outputs": [
    {
     "data": {
      "text/plain": [
       "'Using engine levmar'"
      ]
     },
     "execution_count": 9,
     "metadata": {},
     "output_type": "execute_result"
    }
   ],
   "source": [
    "rengine = re.search('Using engine \\w+', levmar_log)\n",
    "levmar_log[rengine.start():rengine.end()]"
   ]
  },
  {
   "cell_type": "code",
   "execution_count": 10,
   "metadata": {},
   "outputs": [
    {
     "data": {
      "text/plain": [
       "'Elapsed: 00:02:39'"
      ]
     },
     "execution_count": 10,
     "metadata": {},
     "output_type": "execute_result"
    }
   ],
   "source": [
    "re.findall('Elapsed: \\d+:\\d+:\\d+', levmar_log)[-1]"
   ]
  },
  {
   "cell_type": "code",
   "execution_count": 11,
   "metadata": {},
   "outputs": [],
   "source": [
    "cmap = plt.get_cmap('Greys')\n",
    "norm = colors.SymLogNorm(1)\n",
    "\n",
    "ncols = 2\n",
    "nrows = int(nframes / ncols)"
   ]
  },
  {
   "cell_type": "code",
   "execution_count": 12,
   "metadata": {
    "scrolled": false
   },
   "outputs": [
    {
     "data": {
      "application/vnd.jupyter.widget-view+json": {
       "model_id": "d00e52681a0d47aabceeb6aa5b060c38",
       "version_major": 2,
       "version_minor": 0
      },
      "text/plain": [
       "FigureCanvasNbAgg()"
      ]
     },
     "metadata": {},
     "output_type": "display_data"
    }
   ],
   "source": [
    "fig, axs = plt.subplots(nrows, ncols, figsize=(9,18))\n",
    "\n",
    "for i in range(nframes):\n",
    "    frame_data = fits.open(os.path.join(levmar_dir, f'_residual_{i}.fits'))[0].data\n",
    "    axs[int(i / 2), int(i % 2)].imshow(frame_data, cmap=cmap, norm=norm)\n",
    "\n",
    "plt.tight_layout()\n",
    "plt.show()"
   ]
  },
  {
   "cell_type": "markdown",
   "metadata": {},
   "source": [
    "## GSL run"
   ]
  },
  {
   "cell_type": "code",
   "execution_count": 13,
   "metadata": {},
   "outputs": [],
   "source": [
    "gsl_dir = '/home/aalvarez/Work/Data/sim09/sim09_r_gsl/'\n",
    "gsl_log = open(os.path.join(gsl_dir, 'sim09.log')).read()"
   ]
  },
  {
   "cell_type": "code",
   "execution_count": 14,
   "metadata": {},
   "outputs": [
    {
     "data": {
      "text/plain": [
       "'Using engine gsl'"
      ]
     },
     "execution_count": 14,
     "metadata": {},
     "output_type": "execute_result"
    }
   ],
   "source": [
    "rengine = re.search('Using engine \\w+', gsl_log)\n",
    "gsl_log[rengine.start():rengine.end()]"
   ]
  },
  {
   "cell_type": "code",
   "execution_count": 15,
   "metadata": {},
   "outputs": [
    {
     "data": {
      "text/plain": [
       "'Elapsed: 00:04:59'"
      ]
     },
     "execution_count": 15,
     "metadata": {},
     "output_type": "execute_result"
    }
   ],
   "source": [
    "re.findall('Elapsed: \\d+:\\d+:\\d+', gsl_log)[-1]"
   ]
  },
  {
   "cell_type": "markdown",
   "metadata": {},
   "source": [
    "First approach takes longer. May be possible to play with the parameters?"
   ]
  },
  {
   "cell_type": "code",
   "execution_count": 16,
   "metadata": {
    "scrolled": false
   },
   "outputs": [
    {
     "data": {
      "application/vnd.jupyter.widget-view+json": {
       "model_id": "5e469adb1f604271b3d72ffeba82a35e",
       "version_major": 2,
       "version_minor": 0
      },
      "text/plain": [
       "FigureCanvasNbAgg()"
      ]
     },
     "metadata": {},
     "output_type": "display_data"
    }
   ],
   "source": [
    "fig, axs = plt.subplots(nrows, ncols, figsize=(9,18))\n",
    "\n",
    "for i in range(nframes):\n",
    "    frame_data = fits.open(os.path.join(gsl_dir, f'_residual_{i}.fits'))[0].data\n",
    "    axs[int(i / 2), int(i % 2)].imshow(frame_data, cmap=cmap, norm=norm)\n",
    "\n",
    "plt.tight_layout()\n",
    "plt.show()"
   ]
  },
  {
   "cell_type": "markdown",
   "metadata": {},
   "source": [
    "## Compare"
   ]
  },
  {
   "cell_type": "code",
   "execution_count": 17,
   "metadata": {
    "scrolled": false
   },
   "outputs": [
    {
     "data": {
      "application/vnd.jupyter.widget-view+json": {
       "model_id": "7a23cc6964a44422bdd88194716db832",
       "version_major": 2,
       "version_minor": 0
      },
      "text/plain": [
       "FigureCanvasNbAgg()"
      ]
     },
     "metadata": {},
     "output_type": "display_data"
    }
   ],
   "source": [
    "fig, axs = plt.subplots(nrows, ncols, figsize=(9,18))\n",
    "diff_norm = colors.SymLogNorm(1, vmin=-1e5, vmax=1e5)\n",
    "levmar_total_residual = 0\n",
    "gsl_total_residual = 0\n",
    "\n",
    "for i in range(nframes):\n",
    "    levmar_residual = fits.open(os.path.join(levmar_dir, f'_residual_{i}.fits'))[0].data\n",
    "    gsl_residual = fits.open(os.path.join(gsl_dir, f'_residual_{i}.fits'))[0].data\n",
    "    levmar_total_residual += np.abs(levmar_residual).sum()\n",
    "    gsl_total_residual += np.abs(gsl_residual).sum()\n",
    "    ratio = np.abs(gsl_residual).sum() / np.abs(levmar_residual).sum()\n",
    "    axs[int(i/2), int(i%2)].imshow(levmar_residual-gsl_residual, cmap=plt.get_cmap('seismic'), norm=diff_norm)\n",
    "    axs[int(i/2), int(i%2)].set_title(ratio)\n",
    "\n",
    "plt.tight_layout()\n",
    "plt.show()"
   ]
  },
  {
   "cell_type": "code",
   "execution_count": 18,
   "metadata": {
    "scrolled": true
   },
   "outputs": [
    {
     "name": "stdout",
     "output_type": "stream",
     "text": [
      "1.0008438759308822\n"
     ]
    }
   ],
   "source": [
    "print(gsl_total_residual/levmar_total_residual)"
   ]
  },
  {
   "cell_type": "markdown",
   "metadata": {},
   "source": [
    "## Compare catalogs"
   ]
  },
  {
   "cell_type": "code",
   "execution_count": 19,
   "metadata": {},
   "outputs": [],
   "source": [
    "levmar_cat = Table.read(os.path.join(levmar_dir, 'sim09_cat.fits'))\n",
    "gsl_cat = Table.read(os.path.join(gsl_dir, 'sim09_cat.fits'))\n",
    "sim09_r = Simulation('/home/aalvarez/Work/Data/sim09/sim09_r.list', mag_zeropoint=26, exposure=300)\n",
    "sim09_r_img = Image('/home/aalvarez/Work/Data/sim09/sim09_r.fits', weight_image='/home/aalvarez/Work/Data/sim09/sim09_r.weight.fits')"
   ]
  },
  {
   "cell_type": "code",
   "execution_count": 20,
   "metadata": {},
   "outputs": [
    {
     "name": "stdout",
     "output_type": "stream",
     "text": [
      "True\n",
      "True\n",
      "True\n"
     ]
    }
   ],
   "source": [
    "print((np.isnan(levmar_cat['fmf_reduced_chi_2']) == np.isnan(gsl_cat['fmf_reduced_chi_2'])).all())\n",
    "print(np.isclose(levmar_cat['auto_flux'], gsl_cat['auto_flux']).all())\n",
    "print(np.isclose(levmar_cat['auto_flux_err'], gsl_cat['auto_flux_err']).all())"
   ]
  },
  {
   "cell_type": "markdown",
   "metadata": {},
   "source": [
    "Filter out entries that have NaN $\\chi^2$ or with a low signal/noise ratio (using iso aperture, which is the same for both)"
   ]
  },
  {
   "cell_type": "code",
   "execution_count": 21,
   "metadata": {},
   "outputs": [
    {
     "name": "stdout",
     "output_type": "stream",
     "text": [
      "844\n"
     ]
    }
   ],
   "source": [
    "nan_chi2 = np.isnan(levmar_cat['fmf_reduced_chi_2']) == False\n",
    "signal_f = levmar_cat['isophotal_flux'] / levmar_cat['isophotal_flux_err'] > 10.\n",
    "matching = np.logical_and(nan_chi2, signal_f)\n",
    "levmar_cat = levmar_cat[matching]\n",
    "gsl_cat = gsl_cat[matching]\n",
    "\n",
    "print(len(gsl_cat))"
   ]
  },
  {
   "cell_type": "code",
   "execution_count": 22,
   "metadata": {},
   "outputs": [],
   "source": [
    "crossval_r = CrossValidation(sim09_r_img, sim09_r, max_dist=1.5)"
   ]
  },
  {
   "cell_type": "code",
   "execution_count": 24,
   "metadata": {},
   "outputs": [],
   "source": [
    "gsl_cross_r = crossval_r(gsl_cat['mf_x'], gsl_cat['mf_y'])\n",
    "levmar_cross_r = crossval_r(levmar_cat['mf_x'], levmar_cat['mf_y'])"
   ]
  },
  {
   "cell_type": "code",
   "execution_count": 46,
   "metadata": {},
   "outputs": [
    {
     "name": "stderr",
     "output_type": "stream",
     "text": [
      "/home/aalvarez/.local/lib/python3.7/site-packages/matplotlib/pyplot.py:514: RuntimeWarning: More than 20 figures have been opened. Figures created through the pyplot interface (`matplotlib.pyplot.figure`) are retained until explicitly closed and may consume too much memory. (To control this warning, see the rcParam `figure.max_open_warning`).\n",
      "  max_open_warning, RuntimeWarning)\n"
     ]
    },
    {
     "data": {
      "application/vnd.jupyter.widget-view+json": {
       "model_id": "07e3a80034ca4b19846f677312fb0e4a",
       "version_major": 2,
       "version_minor": 0
      },
      "text/plain": [
       "FigureCanvasNbAgg()"
      ]
     },
     "metadata": {},
     "output_type": "display_data"
    }
   ],
   "source": [
    "fig = plt.figure(figsize=(9, 8))\n",
    "fig.subplots_adjust(left=0.07, right=0.93, hspace=0.0, wspace=0.2)\n",
    "gridspec = GridSpec(3, 1)\n",
    "\n",
    "ax_mag = fig.add_subplot(gridspec.new_subplotspec((0, 0), 2))\n",
    "ax_mag.set_title('R Band')\n",
    "ax_mag.set_ylabel('Modeled magnitude')\n",
    "ax_mag.set_xlabel('Real magnitude')\n",
    "ax_mag.scatter(levmar_cross_r.all_magnitudes, levmar_cat[levmar_cross_r.all_catalog]['mf_mag_r'], label='Levmar', marker='o')\n",
    "ax_mag.scatter(gsl_cross_r.all_magnitudes, gsl_cat[gsl_cross_r.all_catalog]['mf_mag_r'], label='GSL', marker='.')\n",
    "ax_mag.grid(True)\n",
    "ax_mag.legend()\n",
    "\n",
    "ax_diff = fig.add_subplot(gridspec.new_subplotspec((2, 0), 1))\n",
    "ax_diff.set_ylabel('$\\Delta$')\n",
    "ax_diff.set_xlabel('Real magnitude')\n",
    "ax_diff.scatter(levmar_cross_r.all_magnitudes, levmar_cat[levmar_cross_r.all_catalog]['mf_mag_r'] - levmar_cross_r.all_magnitudes, label='Levmar', marker='o')\n",
    "ax_diff.scatter(gsl_cross_r.all_magnitudes, gsl_cat[gsl_cross_r.all_catalog]['mf_mag_r'] - gsl_cross_r.all_magnitudes, label='GSL', marker='.')\n",
    "ax_diff.set_ylim(-1, 1)\n",
    "ax_diff.grid(True)\n",
    "\n",
    "plt.show()"
   ]
  },
  {
   "cell_type": "code",
   "execution_count": 29,
   "metadata": {},
   "outputs": [
    {
     "data": {
      "application/vnd.jupyter.widget-view+json": {
       "model_id": "d1ac99a6e1d04c3e8ea3679810fb979e",
       "version_major": 2,
       "version_minor": 0
      },
      "text/plain": [
       "FigureCanvasNbAgg()"
      ]
     },
     "metadata": {},
     "output_type": "display_data"
    },
    {
     "data": {
      "text/plain": [
       "Text(0.5, 1.0, 'Aspect')"
      ]
     },
     "execution_count": 29,
     "metadata": {},
     "output_type": "execute_result"
    }
   ],
   "source": [
    "plt.figure(figsize=(9,9))\n",
    "plt.scatter(levmar_cat['mf_aspect'], gsl_cat['mf_aspect'])\n",
    "plt.xlabel('LEVMAR')\n",
    "plt.ylabel('GSL')\n",
    "plt.title('Aspect')"
   ]
  },
  {
   "cell_type": "code",
   "execution_count": 32,
   "metadata": {},
   "outputs": [
    {
     "data": {
      "application/vnd.jupyter.widget-view+json": {
       "model_id": "db6d1bd01dbd440cb12c267be7bc236f",
       "version_major": 2,
       "version_minor": 0
      },
      "text/plain": [
       "FigureCanvasNbAgg()"
      ]
     },
     "metadata": {},
     "output_type": "display_data"
    },
    {
     "data": {
      "text/plain": [
       "Text(0, 0.5, 'GSL')"
      ]
     },
     "execution_count": 32,
     "metadata": {},
     "output_type": "execute_result"
    }
   ],
   "source": [
    "plt.figure(figsize=(9,9))\n",
    "plt.scatter(np.log(levmar_cat['mf_rad']), np.log(gsl_cat['mf_rad']))\n",
    "plt.title(\n",
    "    'Radius ({:.3f})'.format(np.sqrt(((levmar_cat['mf_rad'] - gsl_cat['mf_rad'])**2).sum()))\n",
    ")\n",
    "plt.xlabel('LEVMAR')\n",
    "plt.ylabel('GSL')"
   ]
  },
  {
   "cell_type": "code",
   "execution_count": 33,
   "metadata": {},
   "outputs": [
    {
     "data": {
      "application/vnd.jupyter.widget-view+json": {
       "model_id": "d42beed3296e45f4b9d545185d7fadfe",
       "version_major": 2,
       "version_minor": 0
      },
      "text/plain": [
       "FigureCanvasNbAgg()"
      ]
     },
     "metadata": {},
     "output_type": "display_data"
    },
    {
     "data": {
      "text/plain": [
       "Text(0, 0.5, 'Levmar')"
      ]
     },
     "execution_count": 33,
     "metadata": {},
     "output_type": "execute_result"
    }
   ],
   "source": [
    "levmar_galaxies = levmar_cat[levmar_cross_r.galaxies_catalog]\n",
    "f = levmar_galaxies['mf_aspect'] < 0.9\n",
    "\n",
    "plt.figure(figsize=(9,9))\n",
    "plt.scatter(levmar_cross_r.galaxies_found.disk_angle, levmar_galaxies['mf_angle']*(180/np.pi))\n",
    "plt.xlabel('Simulation')\n",
    "plt.ylabel('Levmar')"
   ]
  },
  {
   "cell_type": "code",
   "execution_count": 34,
   "metadata": {},
   "outputs": [],
   "source": [
    "sim09_img = fits.open('/home/aalvarez/Work/Data/sim09/sim09_r.fits')[0].data"
   ]
  },
  {
   "cell_type": "code",
   "execution_count": 42,
   "metadata": {},
   "outputs": [],
   "source": [
    "def render_models(fig, ax, catalog, **kwargs):\n",
    "    patches = []\n",
    "    for entry in catalog:\n",
    "        patches.append(Ellipse((entry['mf_x', 'mf_y']), entry['mf_rad']*2, entry['mf_rad']*2*entry['mf_aspect'], angle=np.degrees(-entry['mf_angle']), **kwargs))\n",
    "    col = PatchCollection(patches, alpha=0.5)\n",
    "    col.set(array=np.log(catalog['mf_flux_r']), cmap='inferno')\n",
    "    ax.add_collection(col)\n",
    "    ax.scatter(catalog['pixel_centroid_x'], levmar_cat['pixel_centroid_y'], marker='1', label='Detected', c='r')\n",
    "    fig.colorbar(col, ax=ax)"
   ]
  },
  {
   "cell_type": "code",
   "execution_count": 45,
   "metadata": {
    "scrolled": false
   },
   "outputs": [
    {
     "data": {
      "application/vnd.jupyter.widget-view+json": {
       "model_id": "a4443caf6c164995b09880320c86aae8",
       "version_major": 2,
       "version_minor": 0
      },
      "text/plain": [
       "FigureCanvasNbAgg()"
      ]
     },
     "metadata": {},
     "output_type": "display_data"
    }
   ],
   "source": [
    "fig = plt.figure(figsize=(15, 10))\n",
    "ax_levmar = plt.subplot(121)\n",
    "\n",
    "ax_levmar.imshow(sim09_img, cmap=plt.get_cmap('Greys_r'), norm=colors.SymLogNorm(100))\n",
    "ax_levmar.scatter(crossval_r.galaxies.x, crossval_r.galaxies.y, marker='2', label='Galaxies', c='green')\n",
    "ax_levmar.scatter(crossval_r.stars.x, crossval_r.stars.y, marker='3', label='Stars', c='green')\n",
    "render_models(fig, ax_levmar, levmar_cat)\n",
    "ax_levmar.legend()\n",
    "ax_levmar.set_title('LEVMAR')\n",
    "\n",
    "ax_gsl = plt.subplot(122, sharex=ax_levmar, sharey=ax_levmar)\n",
    "ax_gsl.imshow(sim09_img, cmap=plt.get_cmap('Greys_r'), norm=colors.SymLogNorm(100))\n",
    "ax_gsl.scatter(crossval_r.galaxies.x, crossval_r.galaxies.y, marker='2', label='Galaxies', c='green')\n",
    "ax_gsl.scatter(crossval_r.stars.x, crossval_r.stars.y, marker='3', label='Stars', c='green')\n",
    "render_models(fig, ax_gsl, gsl_cat)\n",
    "ax_gsl.legend()\n",
    "ax_gsl.set_title('GSL')\n",
    "\n",
    "plt.tight_layout()"
   ]
  },
  {
   "cell_type": "code",
   "execution_count": null,
   "metadata": {},
   "outputs": [],
   "source": []
  }
 ],
 "metadata": {
  "kernelspec": {
   "display_name": "Python 3",
   "language": "python",
   "name": "python3"
  },
  "language_info": {
   "codemirror_mode": {
    "name": "ipython",
    "version": 3
   },
   "file_extension": ".py",
   "mimetype": "text/x-python",
   "name": "python",
   "nbconvert_exporter": "python",
   "pygments_lexer": "ipython3",
   "version": "3.7.3"
  }
 },
 "nbformat": 4,
 "nbformat_minor": 2
}
