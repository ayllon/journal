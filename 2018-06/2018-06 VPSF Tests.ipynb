{
 "cells": [
  {
   "cell_type": "markdown",
   "metadata": {},
   "source": [
    "Trying some easy-enough variable PSF so I can write some tests!"
   ]
  },
  {
   "cell_type": "code",
   "execution_count": 1,
   "metadata": {},
   "outputs": [],
   "source": [
    "%matplotlib notebook\n",
    "from astropy.io import fits\n",
    "from astropy.table import Table\n",
    "from matplotlib import colors\n",
    "import matplotlib.pyplot as plt\n",
    "import numpy as np\n",
    "import math"
   ]
  },
  {
   "cell_type": "code",
   "execution_count": 2,
   "metadata": {},
   "outputs": [],
   "source": [
    "class PsfEx(object):\n",
    "    def __init__(self, properties, prop_groups, group_degrees, offsets, scales, coefs):\n",
    "        assert len(properties) == len(prop_groups)\n",
    "        assert len(offsets) == len(properties)\n",
    "        assert len(scales) == len(properties)\n",
    "        \n",
    "        self._n_axis = len(properties)\n",
    "        self._names = properties\n",
    "        self._groups = prop_groups\n",
    "        self._n_groups = len(group_degrees)\n",
    "        self._offsets = offsets\n",
    "        self._scales = scales\n",
    "        self._coefs = coefs\n",
    "        self._n_coefs = len(coefs)\n",
    "        self._degrees = group_degrees\n",
    "\n",
    "        self._width = coefs[0].shape[0]\n",
    "        self._height = coefs[0].shape[1]\n",
    "        \n",
    "        if len(coefs) > 1:\n",
    "            self._powers = self._calculate_powers()\n",
    "            \n",
    "    def _calculate_powers(self):\n",
    "        exponents = np.zeros(self._n_axis, dtype=np.int)\n",
    "        powers = np.zeros((self._n_coefs, self._n_axis), dtype=np.int)\n",
    "        group_exponents = np.zeros(self._n_groups, dtype=np.int)\n",
    "        group_exponents[:self._n_groups] = self._degrees\n",
    "        \n",
    "        # Constant\n",
    "        powers[0,:] = 0\n",
    "        if self._n_axis:\n",
    "            group_exponents[self._groups[0]] -= 1\n",
    "        \n",
    "        # Polynom\n",
    "        exponents[0] = 1\n",
    "        pi = 1\n",
    "        for t in reversed(range(1, self._n_coefs)):\n",
    "            powers[pi,:] = exponents[:]\n",
    "            pi += 1\n",
    "            \n",
    "            ei = 0\n",
    "            for group in self._groups:\n",
    "                if group_exponents[group]:\n",
    "                    group_exponents[group] -= 1\n",
    "                    exponents[ei] += 1\n",
    "                    break\n",
    "                else:\n",
    "                    group_exponents[group] = exponents[ei]\n",
    "                    exponents[ei] = 0\n",
    "                    ei += 1\n",
    "        \n",
    "        return powers\n",
    "    \n",
    "    def get_size(self):\n",
    "        return self._width, self._height\n",
    "    \n",
    "    def normalize_properties(self, *args):\n",
    "        out = list()\n",
    "        for i, a in enumerate(args):\n",
    "            out.append((a - self._offsets[i]) / self._scales[i])\n",
    "        return out\n",
    "    \n",
    "    def get_repr(self, i):\n",
    "        if i == 0:\n",
    "            return 'Constant'\n",
    "        \n",
    "        components = []\n",
    "        for v, p in zip(self._names, self._powers[i,:]):\n",
    "            if p != 0:\n",
    "                components.append(f'{v}$^{p}$')\n",
    "            \n",
    "        return ' + '.join(components)\n",
    "    \n",
    "    def get_psf_scaled(self, *args):\n",
    "        result = np.array(self._coefs[0], copy=True)\n",
    "        for i in range(1, self._n_coefs):\n",
    "            exp = self._powers[i,:]\n",
    "            coefs = self._coefs[i]\n",
    "            acc = 1\n",
    "            for v, e in zip(args, exp):\n",
    "                acc *= v ** e\n",
    "            result += coefs * acc\n",
    "        return result\n",
    "    \n",
    "    def get_psf(self, *args):\n",
    "        properties = self.normalize_properties(*args)\n",
    "        return self.get_psf_scaled(*properties)"
   ]
  },
  {
   "cell_type": "code",
   "execution_count": 15,
   "metadata": {},
   "outputs": [],
   "source": [
    "constant = np.array([\n",
    " [ 0.0, 1.0, 0.0],\n",
    " [ 0.5, 1.0, 0.5],\n",
    " [ 0.0, 1.0, 0.0]\n",
    "])\n",
    "x = np.array([\n",
    " [ 0.0, 0.0, 0.0],\n",
    " [ 0.0, 2.0, 0.0],\n",
    " [ 0.0, 0.0, 0.0]\n",
    "])\n",
    "x2 = np.array([\n",
    " [ 1.0, 0.0, 0.0],\n",
    " [ 0.0, 0.0, 0.0],\n",
    " [ 0.0, 0.0, 0.2]\n",
    "])\n",
    "y = np.array([\n",
    " [ 0.0, 0.0, 0.0],\n",
    " [ 0.0, 0.0, 0.0],\n",
    " [ 0.5, 0.0, 0.0]\n",
    "])\n",
    "xy = np.array([\n",
    " [ 0.5, 0.0, 0.0],\n",
    " [ 0.0, 0.0, 0.0],\n",
    " [ 0.0, 0.5, 0.0]\n",
    "])\n",
    "x2y = np.array([\n",
    " [ 0.0, 0.0, 0.0],\n",
    " [ 0.0, 0.0, 0.0],\n",
    " [ 0.0, 0.0, 1.0]\n",
    "])\n",
    "psfex = PsfEx(\n",
    "    ['x', 'y'], [0, 1], [2, 1],\n",
    "    offsets=[50., 20.],\n",
    "    scales=[5., 3.],\n",
    "    coefs=[constant, x, x2, y, xy, x2y]\n",
    ")"
   ]
  },
  {
   "cell_type": "code",
   "execution_count": 16,
   "metadata": {},
   "outputs": [
    {
     "data": {
      "text/plain": [
       "array([[ 105. ,    1. ,    0. ],\n",
       "       [   0.5,   21. ,    0.5],\n",
       "       [   0.5,    6. ,  120. ]])"
      ]
     },
     "execution_count": 16,
     "metadata": {},
     "output_type": "execute_result"
    }
   ],
   "source": [
    "psfex.get_psf(100., 23)"
   ]
  }
 ],
 "metadata": {
  "kernelspec": {
   "display_name": "Python 3",
   "language": "python",
   "name": "python3"
  },
  "language_info": {
   "codemirror_mode": {
    "name": "ipython",
    "version": 3
   },
   "file_extension": ".py",
   "mimetype": "text/x-python",
   "name": "python",
   "nbconvert_exporter": "python",
   "pygments_lexer": "ipython3",
   "version": "3.6.5"
  }
 },
 "nbformat": 4,
 "nbformat_minor": 2
}
