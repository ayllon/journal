{
 "cells": [
  {
   "cell_type": "code",
   "execution_count": 27,
   "metadata": {},
   "outputs": [],
   "source": [
    "%matplotlib inline\n",
    "import matplotlib.pyplot as plt\n",
    "from matplotlib.colors import Normalize, SymLogNorm\n",
    "import numpy as np\n",
    "from astropy.table import Table, join\n",
    "from IPython.display import set_matplotlib_formats\n",
    "from scipy.spatial import distance\n",
    "import Euclid\n",
    "import os\n",
    "\n",
    "#set_matplotlib_formats('pdf')\n",
    "%erun PHZ_NNPZ 0.10.0\n",
    "\n",
    "from nnpz.reference_sample.ReferenceSample import ReferenceSample\n",
    "from nnpz.photometry.PhotometryProvider import PhotometryProvider\n",
    "from nnpz.photometry.SourceIndependantGalacticUnReddening import SourceIndependantGalacticUnReddening\n",
    "\n",
    "%erun Phosphoros 0.17\n",
    "from PhzCLI.PlotSpecZComparison import SpeczPhotozPlot, displayHistogram, compute_stats"
   ]
  },
  {
   "cell_type": "code",
   "execution_count": 2,
   "metadata": {},
   "outputs": [
    {
     "name": "stderr",
     "output_type": "stream",
     "text": [
      "INFO    : Found provider PdzProvider\n",
      "2021-01-14T09:35:12CET ReferenceSample  INFO : Found provider PdzProvider\n",
      "INFO    : Found provider SedProvider\n",
      "2021-01-14T09:35:13CET ReferenceSample  INFO : Found provider SedProvider\n"
     ]
    }
   ],
   "source": [
    "ref = ReferenceSample('/home/aalvarez/Downloads/SC8R6/ZReferenceSample/')"
   ]
  },
  {
   "cell_type": "code",
   "execution_count": 3,
   "metadata": {},
   "outputs": [],
   "source": [
    "withz = Table.read('/home/aalvarez/Downloads/SC8R6/ZReferenceSample/RefWithZ.fits')"
   ]
  },
  {
   "cell_type": "code",
   "execution_count": 7,
   "metadata": {},
   "outputs": [],
   "source": [
    "phz = np.zeros(len(withz))\n",
    "for i, oid in enumerate(withz['SOURCE_ID']):\n",
    "    pdz = ref.getPdzData(oid)\n",
    "    phz[i] = np.average(pdz[:,0], weights=pdz[:,1])"
   ]
  },
  {
   "cell_type": "code",
   "execution_count": 16,
   "metadata": {},
   "outputs": [
    {
     "data": {
      "image/png": "[encoded data removed]",
      "text/plain": [
       "<Figure size 864x432 with 2 Axes>"
      ]
     },
     "metadata": {
      "needs_background": "light"
     },
     "output_type": "display_data"
    }
   ],
   "source": [
    "fig, axes = plt.subplots(ncols=2, figsize=(12,6))\n",
    "bins = axes[0].hist(phz, bins=20)\n",
    "axes[1].hist(withz['Z_OBS'], bins=bins[1])\n",
    "plt.show()"
   ]
  },
  {
   "cell_type": "code",
   "execution_count": 28,
   "metadata": {},
   "outputs": [
    {
     "name": "stdout",
     "output_type": "stream",
     "text": [
      "--> Mean                :  0.011228723657107947\n",
      "--> Median              :  0.006764338426404432\n",
      "--> Sigma               :  0.09170855143918794\n",
      "--> Mad                 :  0.015460867611739123\n",
      "--> Outliers            :  1.265731260067404 %\n",
      "--> Sigma (no outliers) :  0.022596454733942006\n"
     ]
    }
   ],
   "source": [
    "data, mean, median, sigma, mad, outliersPercent,sigmaNoOutliers, meanNoOutliers = compute_stats(withz['Z_OBS'], phz)"
   ]
  },
  {
   "cell_type": "code",
   "execution_count": null,
   "metadata": {},
   "outputs": [],
   "source": [
    "SpeczPhotozPlot(withz['ID'], withz['Z_OBS'], phz, data)"
   ]
  },
  {
   "cell_type": "code",
   "execution_count": null,
   "metadata": {},
   "outputs": [],
   "source": []
  }
 ],
 "metadata": {
  "kernelspec": {
   "display_name": "Python 3",
   "language": "python",
   "name": "python3"
  },
  "language_info": {
   "codemirror_mode": {
    "name": "ipython",
    "version": 3
   },
   "file_extension": ".py",
   "mimetype": "text/x-python",
   "name": "python",
   "nbconvert_exporter": "python",
   "pygments_lexer": "ipython3",
   "version": "3.7.8"
  }
 },
 "nbformat": 4,
 "nbformat_minor": 4
}
