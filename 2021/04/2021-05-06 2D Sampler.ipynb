{
 "cells": [
  {
   "cell_type": "code",
   "execution_count": 16,
   "id": "norman-accent",
   "metadata": {},
   "outputs": [],
   "source": [
    "%matplotlib widget\n",
    "import numpy as np\n",
    "import matplotlib.pyplot as plt\n",
    "from scipy.integrate import dblquad\n",
    "from scipy.interpolate import interp2d\n",
    "from scipy.stats import multivariate_normal\n",
    "\n",
    "plt.rcParams['figure.figsize'] = (10, 10)"
   ]
  },
  {
   "cell_type": "markdown",
   "id": "banner-return",
   "metadata": {},
   "source": [
    "# Original distribution"
   ]
  },
  {
   "cell_type": "code",
   "execution_count": 17,
   "id": "general-sierra",
   "metadata": {},
   "outputs": [],
   "source": [
    "d0 = multivariate_normal(mean=[5, 22], cov=[[3,2],[2,2]])\n",
    "d1 = multivariate_normal(mean=[11, 31], cov=[[3,-2],[-2,2]])\n",
    "\n",
    "d0x = multivariate_normal(mean=[5], cov=3)\n",
    "d1x = multivariate_normal(mean=[11], cov=3)\n",
    "d0y = multivariate_normal(mean=[22], cov=2)\n",
    "d1y = multivariate_normal(mean=[31], cov=2)"
   ]
  },
  {
   "cell_type": "code",
   "execution_count": 18,
   "id": "alive-dragon",
   "metadata": {},
   "outputs": [],
   "source": [
    "def comb(pos):\n",
    "    return (d0.pdf(pos) + d1.pdf(pos))/2\n",
    "\n",
    "def combx(pos):\n",
    "    return (d0x.pdf(pos) + d1x.pdf(pos)) / 2\n",
    "\n",
    "def comby(pos):\n",
    "    return (d0y.pdf(pos) + d1y.pdf(pos)) / 2"
   ]
  },
  {
   "cell_type": "code",
   "execution_count": 30,
   "id": "phantom-colon",
   "metadata": {},
   "outputs": [
    {
     "data": {
      "text/plain": [
       "(200, 200)"
      ]
     },
     "execution_count": 30,
     "metadata": {},
     "output_type": "execute_result"
    }
   ],
   "source": [
    "knots_x = np.linspace(-1, 20, 200)\n",
    "knots_y = np.linspace(15, 36, 200)\n",
    "\n",
    "x, y = np.meshgrid(knots_x, knots_y)\n",
    "pos = np.dstack((x, y))\n",
    "values = comb(pos)\n",
    "values.shape"
   ]
  },
  {
   "cell_type": "code",
   "execution_count": 20,
   "id": "handed-force",
   "metadata": {},
   "outputs": [
    {
     "data": {
      "application/vnd.jupyter.widget-view+json": {
       "model_id": "c26d5fccdc5d4944a64ce62a56e6c333",
       "version_major": 2,
       "version_minor": 0
      },
      "text/plain": [
       "Canvas(toolbar=Toolbar(toolitems=[('Home', 'Reset original view', 'home', 'home'), ('Back', 'Back to previous …"
      ]
     },
     "metadata": {},
     "output_type": "display_data"
    }
   ],
   "source": [
    "fig = plt.figure()\n",
    "\n",
    "gs = fig.add_gridspec(2, 2, hspace=0, wspace=0, width_ratios=[1., 0.5], height_ratios=[1., 0.5])\n",
    "axs = gs.subplots(sharex='col', sharey='row')\n",
    "axs[1,1].remove()\n",
    "\n",
    "axs[0,0].contourf(knots_x, knots_y, values)\n",
    "axs[0,1].plot(comby(knots_y), knots_y)\n",
    "axs[1,0].plot(knots_x, combx(knots_x))\n",
    "\n",
    "plt.show()"
   ]
  },
  {
   "cell_type": "code",
   "execution_count": 21,
   "id": "received-theorem",
   "metadata": {},
   "outputs": [
    {
     "data": {
      "text/plain": [
       "array([-1.,  0.,  1.,  2.,  3.,  4.,  5.,  6.,  7.,  8.,  9., 10., 11.,\n",
       "       12., 13., 14., 15., 16., 17., 18., 19., 20.])"
      ]
     },
     "execution_count": 21,
     "metadata": {},
     "output_type": "execute_result"
    }
   ],
   "source": [
    "knots_x"
   ]
  },
  {
   "cell_type": "code",
   "execution_count": 22,
   "id": "decent-insured",
   "metadata": {},
   "outputs": [
    {
     "data": {
      "text/plain": [
       "array([15.  , 16.05, 17.1 , 18.15, 19.2 , 20.25, 21.3 , 22.35, 23.4 ,\n",
       "       24.45, 25.5 , 26.55, 27.6 , 28.65, 29.7 , 30.75, 31.8 , 32.85,\n",
       "       33.9 , 34.95, 36.  ])"
      ]
     },
     "execution_count": 22,
     "metadata": {},
     "output_type": "execute_result"
    }
   ],
   "source": [
    "knots_y"
   ]
  },
  {
   "cell_type": "code",
   "execution_count": 23,
   "id": "given-gender",
   "metadata": {},
   "outputs": [],
   "source": [
    "#values.ravel()"
   ]
  },
  {
   "cell_type": "code",
   "execution_count": 24,
   "id": "polish-poetry",
   "metadata": {},
   "outputs": [
    {
     "data": {
      "text/plain": [
       "(21, 22)"
      ]
     },
     "execution_count": 24,
     "metadata": {},
     "output_type": "execute_result"
    }
   ],
   "source": [
    "values.shape"
   ]
  },
  {
   "cell_type": "markdown",
   "id": "technical-aberdeen",
   "metadata": {},
   "source": [
    "# Compare 2D"
   ]
  },
  {
   "cell_type": "code",
   "execution_count": 29,
   "id": "liable-miniature",
   "metadata": {},
   "outputs": [
    {
     "data": {
      "text/plain": [
       "20000"
      ]
     },
     "execution_count": 29,
     "metadata": {},
     "output_type": "execute_result"
    }
   ],
   "source": [
    "test2_str = open('/tmp/sample2d.txt').read()\n",
    "test2_str = test2_str[test2_str.index('>')+1:]\n",
    "test2 = np.fromstring(test2_str, sep=',').reshape(-1, 2)\n",
    "len(test2)"
   ]
  },
  {
   "cell_type": "code",
   "execution_count": 26,
   "id": "lined-stranger",
   "metadata": {},
   "outputs": [],
   "source": [
    "centers_x = (knots_x[:-1]+knots_x[1:])/2\n",
    "centers_y = (knots_y[:-1]+knots_y[1:])/2"
   ]
  },
  {
   "cell_type": "code",
   "execution_count": 33,
   "id": "actual-plane",
   "metadata": {},
   "outputs": [
    {
     "data": {
      "application/vnd.jupyter.widget-view+json": {
       "model_id": "cd7e2b3e104e475fa865eca0232ae67a",
       "version_major": 2,
       "version_minor": 0
      },
      "text/plain": [
       "Canvas(toolbar=Toolbar(toolitems=[('Home', 'Reset original view', 'home', 'home'), ('Back', 'Back to previous …"
      ]
     },
     "metadata": {},
     "output_type": "display_data"
    }
   ],
   "source": [
    "fig = plt.figure(figsize=(12, 12))\n",
    "gs = fig.add_gridspec(2, 2, hspace=0, wspace=0, width_ratios=[1., 0.5], height_ratios=[1., 0.5])\n",
    "axs = gs.subplots(sharex='col', sharey='row')\n",
    "axs[1,1].remove()\n",
    "\n",
    "axs[0,0].hist2d(test2[:,1], test2[:,0], density=True, bins=40)\n",
    "axs[0,0].contour(knots_x, knots_y, values, cmap='hot')\n",
    "\n",
    "axs[0,1].hist(test2[:,0], orientation='horizontal', density=True, bins=40, histtype='step')\n",
    "axs[0,1].plot(comby(np.linspace(knots_y.min(), knots_y.max())), np.linspace(knots_y.min(), knots_y.max()))\n",
    "axs[0,1].set_yticks(knots_y[::10])\n",
    "\n",
    "axs[1,0].hist(test2[:,1], density=True, bins=40, histtype='step')\n",
    "axs[1,0].plot(np.linspace(knots_x.min(), knots_x.max()), combx(np.linspace(knots_x.min(), knots_x.max())), label='True distribution')\n",
    "axs[1,0].set_xticks(knots_x[::10])\n",
    "axs[1,0].legend()\n",
    "\n",
    "plt.tight_layout()\n",
    "plt.show()"
   ]
  },
  {
   "cell_type": "code",
   "execution_count": 13,
   "id": "noticed-grace",
   "metadata": {},
   "outputs": [
    {
     "data": {
      "text/plain": [
       "(15, 12)"
      ]
     },
     "execution_count": 13,
     "metadata": {},
     "output_type": "execute_result"
    }
   ],
   "source": [
    "np.unravel_index(values.argmax(), values.shape)"
   ]
  },
  {
   "cell_type": "code",
   "execution_count": 14,
   "id": "f344bf7f-2bb9-428f-ade3-adde5b60cab6",
   "metadata": {},
   "outputs": [
    {
     "data": {
      "text/plain": [
       "26.499109094999998"
      ]
     },
     "execution_count": 14,
     "metadata": {},
     "output_type": "execute_result"
    }
   ],
   "source": [
    "test2[:,0].mean()"
   ]
  },
  {
   "cell_type": "code",
   "execution_count": 15,
   "id": "b914d288-a6a7-4eb9-adc7-1a4a87453108",
   "metadata": {},
   "outputs": [
    {
     "data": {
      "text/plain": [
       "32.85"
      ]
     },
     "execution_count": 15,
     "metadata": {},
     "output_type": "execute_result"
    }
   ],
   "source": [
    "knots_y[17]"
   ]
  },
  {
   "cell_type": "code",
   "execution_count": null,
   "id": "b718ca5f-6bdb-475b-a84b-782885fb489d",
   "metadata": {},
   "outputs": [],
   "source": []
  }
 ],
 "metadata": {
  "kernelspec": {
   "display_name": "Python 3",
   "language": "python",
   "name": "python3"
  },
  "language_info": {
   "codemirror_mode": {
    "name": "ipython",
    "version": 3
   },
   "file_extension": ".py",
   "mimetype": "text/x-python",
   "name": "python",
   "nbconvert_exporter": "python",
   "pygments_lexer": "ipython3",
   "version": "3.7.10"
  }
 },
 "nbformat": 4,
 "nbformat_minor": 5
}
