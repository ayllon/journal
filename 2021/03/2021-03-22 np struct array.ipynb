{
 "cells": [
  {
   "cell_type": "code",
   "execution_count": 104,
   "id": "quiet-synthesis",
   "metadata": {},
   "outputs": [],
   "source": [
    "import numpy as np\n",
    "from astropy.io import fits"
   ]
  },
  {
   "cell_type": "code",
   "execution_count": 48,
   "id": "excited-bangkok",
   "metadata": {},
   "outputs": [],
   "source": [
    "band_names = list('ugriz')"
   ]
  },
  {
   "cell_type": "code",
   "execution_count": 40,
   "id": "modular-crown",
   "metadata": {},
   "outputs": [],
   "source": [
    "col_defs = [\n",
    "    fits.Column(name='ID', format='K'),\n",
    "    fits.Column(name='Tata', format='L'),\n",
    "]\n",
    "for b in band_names:\n",
    "    col_defs.append(fits.Column(name=b, format='E'))\n",
    "col_defs.append(fits.Column(name='Something Else', format='J'))"
   ]
  },
  {
   "cell_type": "code",
   "execution_count": 41,
   "id": "greenhouse-senator",
   "metadata": {},
   "outputs": [],
   "source": [
    "table = fits.BinTableHDU.from_columns(col_defs, nrows=100)\n",
    "data = table.data"
   ]
  },
  {
   "cell_type": "code",
   "execution_count": 49,
   "id": "valuable-bleeding",
   "metadata": {},
   "outputs": [
    {
     "data": {
      "text/plain": [
       "dtype({'names':['ID','u','g','r','i','z'], 'formats':['<i8','<f4','<f4','<f4','<f4','<f4'], 'offsets':[0,9,13,17,21,25], 'itemsize':29})"
      ]
     },
     "execution_count": 49,
     "metadata": {},
     "output_type": "execute_result"
    }
   ],
   "source": [
    "dtype2 = np.dtype({name: data.dtype.fields[name] for name in band_names + ['ID']})\n",
    "dtype2"
   ]
  },
  {
   "cell_type": "code",
   "execution_count": 73,
   "id": "molecular-sigma",
   "metadata": {},
   "outputs": [
    {
     "data": {
      "text/plain": [
       "(8, 0)"
      ]
     },
     "execution_count": 73,
     "metadata": {},
     "output_type": "execute_result"
    }
   ],
   "source": [
    "dtype2['ID'].itemsize, dtype2.fields['ID'][1]"
   ]
  },
  {
   "cell_type": "code",
   "execution_count": 76,
   "id": "separated-insured",
   "metadata": {},
   "outputs": [
    {
     "data": {
      "text/plain": [
       "dtype({'names':['u','g','r','i','z'], 'formats':['<f4','<f4','<f4','<f4','<f4'], 'offsets':[9,13,17,21,25], 'itemsize':29})"
      ]
     },
     "execution_count": 76,
     "metadata": {},
     "output_type": "execute_result"
    }
   ],
   "source": [
    "dtype2 = np.dtype({name: data.dtype.fields[name] for name in band_names})\n",
    "dtype2"
   ]
  },
  {
   "cell_type": "code",
   "execution_count": 88,
   "id": "korean-companion",
   "metadata": {},
   "outputs": [],
   "source": [
    "x = np.ndarray(data.shape, (np.float32, len(band_names)), data, dtype2.fields['u'][1], data.strides)"
   ]
  },
  {
   "cell_type": "code",
   "execution_count": 89,
   "id": "significant-encounter",
   "metadata": {},
   "outputs": [
    {
     "data": {
      "text/plain": [
       "(100, 5)"
      ]
     },
     "execution_count": 89,
     "metadata": {},
     "output_type": "execute_result"
    }
   ],
   "source": [
    "x.shape"
   ]
  },
  {
   "cell_type": "code",
   "execution_count": 91,
   "id": "thick-buying",
   "metadata": {},
   "outputs": [
    {
     "data": {
      "text/plain": [
       "True"
      ]
     },
     "execution_count": 91,
     "metadata": {},
     "output_type": "execute_result"
    }
   ],
   "source": [
    "np.may_share_memory(x, data)"
   ]
  },
  {
   "cell_type": "code",
   "execution_count": 92,
   "id": "verified-muslim",
   "metadata": {},
   "outputs": [],
   "source": [
    "x[:,0] = 1\n",
    "x[:,4] = 55"
   ]
  },
  {
   "cell_type": "code",
   "execution_count": 94,
   "id": "breathing-marathon",
   "metadata": {},
   "outputs": [
    {
     "data": {
      "text/plain": [
       "array([[ 1.,  0.,  0.,  0., 55.],\n",
       "       [ 1.,  0.,  0.,  0., 55.],\n",
       "       [ 1.,  0.,  0.,  0., 55.],\n",
       "       [ 1.,  0.,  0.,  0., 55.],\n",
       "       [ 1.,  0.,  0.,  0., 55.],\n",
       "       [ 1.,  0.,  0.,  0., 55.],\n",
       "       [ 1.,  0.,  0.,  0., 55.],\n",
       "       [ 1.,  0.,  0.,  0., 55.],\n",
       "       [ 1.,  0.,  0.,  0., 55.],\n",
       "       [ 1.,  0.,  0.,  0., 55.]], dtype=float32)"
      ]
     },
     "execution_count": 94,
     "metadata": {},
     "output_type": "execute_result"
    }
   ],
   "source": [
    "x[0:10,:]"
   ]
  },
  {
   "cell_type": "code",
   "execution_count": 98,
   "id": "laughing-mixture",
   "metadata": {},
   "outputs": [
    {
     "data": {
      "text/plain": [
       "(array([1., 1., 1., 1., 1., 1., 1., 1., 1., 1.], dtype=float32),\n",
       " array([55., 55., 55., 55., 55., 55., 55., 55., 55., 55.], dtype=float32))"
      ]
     },
     "execution_count": 98,
     "metadata": {},
     "output_type": "execute_result"
    }
   ],
   "source": [
    "data['u'][0:10], data['z'][0:10]"
   ]
  },
  {
   "cell_type": "code",
   "execution_count": 147,
   "id": "exclusive-university",
   "metadata": {},
   "outputs": [],
   "source": [
    "def flat_view(data, fields):\n",
    "    selected = [data.dtype.fields[c] for c in fields]\n",
    "    dtypes = [f[0] for f in selected]\n",
    "    offsets = np.array([f[1] for f in selected])\n",
    "    sizes = np.array([data.dtype[f].itemsize for f in fields])\n",
    "    if len(set(dtypes)) > 1:\n",
    "        raise Exception('Must have the same type!')\n",
    "\n",
    "    consecutive = (offsets[:-1] + sizes[:-1] == offsets[1:]).all()\n",
    "    if not consecutive:\n",
    "        raise Exception('Must be consecutive!')\n",
    "\n",
    "    view = np.ndarray(data.shape, dtype=(dtypes[0], len(dtypes)), buffer=data, offset=offsets[0], strides=data.strides)\n",
    "    assert np.may_share_memory(view, data)\n",
    "    return view"
   ]
  },
  {
   "cell_type": "code",
   "execution_count": 148,
   "id": "average-prince",
   "metadata": {},
   "outputs": [],
   "source": [
    "y = flat_view(data, band_names)"
   ]
  },
  {
   "cell_type": "code",
   "execution_count": 152,
   "id": "dynamic-viking",
   "metadata": {},
   "outputs": [],
   "source": [
    "y[:,1] = 22"
   ]
  },
  {
   "cell_type": "code",
   "execution_count": 163,
   "id": "acceptable-burlington",
   "metadata": {},
   "outputs": [
    {
     "data": {
      "text/plain": [
       "  C_CONTIGUOUS : True\n",
       "  F_CONTIGUOUS : True\n",
       "  OWNDATA : False\n",
       "  WRITEABLE : True\n",
       "  ALIGNED : True\n",
       "  WRITEBACKIFCOPY : False\n",
       "  UPDATEIFCOPY : False"
      ]
     },
     "execution_count": 163,
     "metadata": {},
     "output_type": "execute_result"
    }
   ],
   "source": [
    "data.flags"
   ]
  },
  {
   "cell_type": "code",
   "execution_count": null,
   "id": "partial-thermal",
   "metadata": {},
   "outputs": [],
   "source": []
  }
 ],
 "metadata": {
  "kernelspec": {
   "display_name": "Python 3",
   "language": "python",
   "name": "python3"
  },
  "language_info": {
   "codemirror_mode": {
    "name": "ipython",
    "version": 3
   },
   "file_extension": ".py",
   "mimetype": "text/x-python",
   "name": "python",
   "nbconvert_exporter": "python",
   "pygments_lexer": "ipython3",
   "version": "3.7.9"
  }
 },
 "nbformat": 4,
 "nbformat_minor": 5
}
