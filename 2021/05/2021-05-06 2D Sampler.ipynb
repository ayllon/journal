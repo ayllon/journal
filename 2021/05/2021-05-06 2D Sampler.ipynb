{
 "cells": [
  {
   "cell_type": "code",
   "execution_count": 3,
   "id": "norman-accent",
   "metadata": {},
   "outputs": [],
   "source": [
    "%matplotlib widget\n",
    "import numpy as np\n",
    "import matplotlib.pyplot as plt\n",
    "from scipy.integrate import dblquad\n",
    "from scipy.interpolate import interp2d\n",
    "from scipy.stats import multivariate_normal\n",
    "\n",
    "plt.rcParams['figure.figsize'] = (10, 10)"
   ]
  },
  {
   "cell_type": "markdown",
   "id": "banner-return",
   "metadata": {},
   "source": [
    "# Original distribution"
   ]
  },
  {
   "cell_type": "code",
   "execution_count": 4,
   "id": "general-sierra",
   "metadata": {},
   "outputs": [],
   "source": [
    "d0 = multivariate_normal(mean=[5, 22], cov=[[3,2],[2,2]])\n",
    "d1 = multivariate_normal(mean=[11, 31], cov=[[3,-2],[-2,2]])\n",
    "\n",
    "d0x = multivariate_normal(mean=[5], cov=3)\n",
    "d1x = multivariate_normal(mean=[11], cov=3)\n",
    "d0y = multivariate_normal(mean=[22], cov=2)\n",
    "d1y = multivariate_normal(mean=[31], cov=2)"
   ]
  },
  {
   "cell_type": "code",
   "execution_count": 5,
   "id": "alive-dragon",
   "metadata": {},
   "outputs": [],
   "source": [
    "def comb(pos):\n",
    "    return (d0.pdf(pos) + d1.pdf(pos))/2\n",
    "\n",
    "def combx(pos):\n",
    "    return (d0x.pdf(pos) + d1x.pdf(pos)) / 2\n",
    "\n",
    "def comby(pos):\n",
    "    return (d0y.pdf(pos) + d1y.pdf(pos)) / 2"
   ]
  },
  {
   "cell_type": "code",
   "execution_count": 6,
   "id": "phantom-colon",
   "metadata": {},
   "outputs": [
    {
     "data": {
      "text/plain": [
       "(200, 200)"
      ]
     },
     "execution_count": 6,
     "metadata": {},
     "output_type": "execute_result"
    }
   ],
   "source": [
    "knots_x = np.linspace(-1, 20, 200)\n",
    "knots_y = np.linspace(15, 36, 200)\n",
    "\n",
    "x, y = np.meshgrid(knots_x, knots_y)\n",
    "pos = np.dstack((x, y))\n",
    "values = comb(pos)\n",
    "values.shape"
   ]
  },
  {
   "cell_type": "code",
   "execution_count": 5,
   "id": "handed-force",
   "metadata": {},
   "outputs": [
    {
     "data": {
      "application/vnd.jupyter.widget-view+json": {
       "model_id": "c2b7a0d8ca044f79a11759397ac74ba5",
       "version_major": 2,
       "version_minor": 0
      },
      "text/plain": [
       "Canvas(toolbar=Toolbar(toolitems=[('Home', 'Reset original view', 'home', 'home'), ('Back', 'Back to previous …"
      ]
     },
     "metadata": {},
     "output_type": "display_data"
    }
   ],
   "source": [
    "fig = plt.figure()\n",
    "\n",
    "gs = fig.add_gridspec(2, 2, hspace=0, wspace=0, width_ratios=[1., 0.5], height_ratios=[1., 0.5])\n",
    "axs = gs.subplots(sharex='col', sharey='row')\n",
    "axs[1,1].remove()\n",
    "\n",
    "axs[0,0].contourf(knots_x, knots_y, values)\n",
    "axs[0,1].plot(comby(knots_y), knots_y)\n",
    "axs[1,0].plot(knots_x, combx(knots_x))\n",
    "\n",
    "plt.show()"
   ]
  },
  {
   "cell_type": "code",
   "execution_count": 6,
   "id": "received-theorem",
   "metadata": {},
   "outputs": [
    {
     "data": {
      "text/plain": [
       "array([-1.        , -0.89447236, -0.78894472, -0.68341709, -0.57788945,\n",
       "       -0.47236181, -0.36683417, -0.26130653, -0.15577889, -0.05025126,\n",
       "        0.05527638,  0.16080402,  0.26633166,  0.3718593 ,  0.47738693,\n",
       "        0.58291457,  0.68844221,  0.79396985,  0.89949749,  1.00502513,\n",
       "        1.11055276,  1.2160804 ,  1.32160804,  1.42713568,  1.53266332,\n",
       "        1.63819095,  1.74371859,  1.84924623,  1.95477387,  2.06030151,\n",
       "        2.16582915,  2.27135678,  2.37688442,  2.48241206,  2.5879397 ,\n",
       "        2.69346734,  2.79899497,  2.90452261,  3.01005025,  3.11557789,\n",
       "        3.22110553,  3.32663317,  3.4321608 ,  3.53768844,  3.64321608,\n",
       "        3.74874372,  3.85427136,  3.95979899,  4.06532663,  4.17085427,\n",
       "        4.27638191,  4.38190955,  4.48743719,  4.59296482,  4.69849246,\n",
       "        4.8040201 ,  4.90954774,  5.01507538,  5.12060302,  5.22613065,\n",
       "        5.33165829,  5.43718593,  5.54271357,  5.64824121,  5.75376884,\n",
       "        5.85929648,  5.96482412,  6.07035176,  6.1758794 ,  6.28140704,\n",
       "        6.38693467,  6.49246231,  6.59798995,  6.70351759,  6.80904523,\n",
       "        6.91457286,  7.0201005 ,  7.12562814,  7.23115578,  7.33668342,\n",
       "        7.44221106,  7.54773869,  7.65326633,  7.75879397,  7.86432161,\n",
       "        7.96984925,  8.07537688,  8.18090452,  8.28643216,  8.3919598 ,\n",
       "        8.49748744,  8.60301508,  8.70854271,  8.81407035,  8.91959799,\n",
       "        9.02512563,  9.13065327,  9.2361809 ,  9.34170854,  9.44723618,\n",
       "        9.55276382,  9.65829146,  9.7638191 ,  9.86934673,  9.97487437,\n",
       "       10.08040201, 10.18592965, 10.29145729, 10.39698492, 10.50251256,\n",
       "       10.6080402 , 10.71356784, 10.81909548, 10.92462312, 11.03015075,\n",
       "       11.13567839, 11.24120603, 11.34673367, 11.45226131, 11.55778894,\n",
       "       11.66331658, 11.76884422, 11.87437186, 11.9798995 , 12.08542714,\n",
       "       12.19095477, 12.29648241, 12.40201005, 12.50753769, 12.61306533,\n",
       "       12.71859296, 12.8241206 , 12.92964824, 13.03517588, 13.14070352,\n",
       "       13.24623116, 13.35175879, 13.45728643, 13.56281407, 13.66834171,\n",
       "       13.77386935, 13.87939698, 13.98492462, 14.09045226, 14.1959799 ,\n",
       "       14.30150754, 14.40703518, 14.51256281, 14.61809045, 14.72361809,\n",
       "       14.82914573, 14.93467337, 15.04020101, 15.14572864, 15.25125628,\n",
       "       15.35678392, 15.46231156, 15.5678392 , 15.67336683, 15.77889447,\n",
       "       15.88442211, 15.98994975, 16.09547739, 16.20100503, 16.30653266,\n",
       "       16.4120603 , 16.51758794, 16.62311558, 16.72864322, 16.83417085,\n",
       "       16.93969849, 17.04522613, 17.15075377, 17.25628141, 17.36180905,\n",
       "       17.46733668, 17.57286432, 17.67839196, 17.7839196 , 17.88944724,\n",
       "       17.99497487, 18.10050251, 18.20603015, 18.31155779, 18.41708543,\n",
       "       18.52261307, 18.6281407 , 18.73366834, 18.83919598, 18.94472362,\n",
       "       19.05025126, 19.15577889, 19.26130653, 19.36683417, 19.47236181,\n",
       "       19.57788945, 19.68341709, 19.78894472, 19.89447236, 20.        ])"
      ]
     },
     "execution_count": 6,
     "metadata": {},
     "output_type": "execute_result"
    }
   ],
   "source": [
    "knots_x"
   ]
  },
  {
   "cell_type": "code",
   "execution_count": 7,
   "id": "decent-insured",
   "metadata": {},
   "outputs": [
    {
     "data": {
      "text/plain": [
       "array([15.        , 15.10552764, 15.21105528, 15.31658291, 15.42211055,\n",
       "       15.52763819, 15.63316583, 15.73869347, 15.84422111, 15.94974874,\n",
       "       16.05527638, 16.16080402, 16.26633166, 16.3718593 , 16.47738693,\n",
       "       16.58291457, 16.68844221, 16.79396985, 16.89949749, 17.00502513,\n",
       "       17.11055276, 17.2160804 , 17.32160804, 17.42713568, 17.53266332,\n",
       "       17.63819095, 17.74371859, 17.84924623, 17.95477387, 18.06030151,\n",
       "       18.16582915, 18.27135678, 18.37688442, 18.48241206, 18.5879397 ,\n",
       "       18.69346734, 18.79899497, 18.90452261, 19.01005025, 19.11557789,\n",
       "       19.22110553, 19.32663317, 19.4321608 , 19.53768844, 19.64321608,\n",
       "       19.74874372, 19.85427136, 19.95979899, 20.06532663, 20.17085427,\n",
       "       20.27638191, 20.38190955, 20.48743719, 20.59296482, 20.69849246,\n",
       "       20.8040201 , 20.90954774, 21.01507538, 21.12060302, 21.22613065,\n",
       "       21.33165829, 21.43718593, 21.54271357, 21.64824121, 21.75376884,\n",
       "       21.85929648, 21.96482412, 22.07035176, 22.1758794 , 22.28140704,\n",
       "       22.38693467, 22.49246231, 22.59798995, 22.70351759, 22.80904523,\n",
       "       22.91457286, 23.0201005 , 23.12562814, 23.23115578, 23.33668342,\n",
       "       23.44221106, 23.54773869, 23.65326633, 23.75879397, 23.86432161,\n",
       "       23.96984925, 24.07537688, 24.18090452, 24.28643216, 24.3919598 ,\n",
       "       24.49748744, 24.60301508, 24.70854271, 24.81407035, 24.91959799,\n",
       "       25.02512563, 25.13065327, 25.2361809 , 25.34170854, 25.44723618,\n",
       "       25.55276382, 25.65829146, 25.7638191 , 25.86934673, 25.97487437,\n",
       "       26.08040201, 26.18592965, 26.29145729, 26.39698492, 26.50251256,\n",
       "       26.6080402 , 26.71356784, 26.81909548, 26.92462312, 27.03015075,\n",
       "       27.13567839, 27.24120603, 27.34673367, 27.45226131, 27.55778894,\n",
       "       27.66331658, 27.76884422, 27.87437186, 27.9798995 , 28.08542714,\n",
       "       28.19095477, 28.29648241, 28.40201005, 28.50753769, 28.61306533,\n",
       "       28.71859296, 28.8241206 , 28.92964824, 29.03517588, 29.14070352,\n",
       "       29.24623116, 29.35175879, 29.45728643, 29.56281407, 29.66834171,\n",
       "       29.77386935, 29.87939698, 29.98492462, 30.09045226, 30.1959799 ,\n",
       "       30.30150754, 30.40703518, 30.51256281, 30.61809045, 30.72361809,\n",
       "       30.82914573, 30.93467337, 31.04020101, 31.14572864, 31.25125628,\n",
       "       31.35678392, 31.46231156, 31.5678392 , 31.67336683, 31.77889447,\n",
       "       31.88442211, 31.98994975, 32.09547739, 32.20100503, 32.30653266,\n",
       "       32.4120603 , 32.51758794, 32.62311558, 32.72864322, 32.83417085,\n",
       "       32.93969849, 33.04522613, 33.15075377, 33.25628141, 33.36180905,\n",
       "       33.46733668, 33.57286432, 33.67839196, 33.7839196 , 33.88944724,\n",
       "       33.99497487, 34.10050251, 34.20603015, 34.31155779, 34.41708543,\n",
       "       34.52261307, 34.6281407 , 34.73366834, 34.83919598, 34.94472362,\n",
       "       35.05025126, 35.15577889, 35.26130653, 35.36683417, 35.47236181,\n",
       "       35.57788945, 35.68341709, 35.78894472, 35.89447236, 36.        ])"
      ]
     },
     "execution_count": 7,
     "metadata": {},
     "output_type": "execute_result"
    }
   ],
   "source": [
    "knots_y"
   ]
  },
  {
   "cell_type": "code",
   "execution_count": 8,
   "id": "given-gender",
   "metadata": {},
   "outputs": [],
   "source": [
    "#values.ravel()"
   ]
  },
  {
   "cell_type": "code",
   "execution_count": 9,
   "id": "polish-poetry",
   "metadata": {},
   "outputs": [
    {
     "data": {
      "text/plain": [
       "(200, 200)"
      ]
     },
     "execution_count": 9,
     "metadata": {},
     "output_type": "execute_result"
    }
   ],
   "source": [
    "values.shape"
   ]
  },
  {
   "cell_type": "markdown",
   "id": "technical-aberdeen",
   "metadata": {},
   "source": [
    "# Compare 2D"
   ]
  },
  {
   "cell_type": "code",
   "execution_count": 7,
   "id": "liable-miniature",
   "metadata": {},
   "outputs": [
    {
     "data": {
      "text/plain": [
       "20000"
      ]
     },
     "execution_count": 7,
     "metadata": {},
     "output_type": "execute_result"
    }
   ],
   "source": [
    "test2_str = open('/tmp/sample2d.txt').read()\n",
    "test2_str = test2_str[test2_str.index('>')+1:]\n",
    "test2 = np.fromstring(test2_str, sep=',').reshape(-1, 2)\n",
    "len(test2)"
   ]
  },
  {
   "cell_type": "code",
   "execution_count": 8,
   "id": "lined-stranger",
   "metadata": {},
   "outputs": [],
   "source": [
    "centers_x = (knots_x[:-1]+knots_x[1:])/2\n",
    "centers_y = (knots_y[:-1]+knots_y[1:])/2"
   ]
  },
  {
   "cell_type": "code",
   "execution_count": 16,
   "id": "actual-plane",
   "metadata": {},
   "outputs": [
    {
     "data": {
      "application/vnd.jupyter.widget-view+json": {
       "model_id": "f759188399314ce493dd0581680ead7d",
       "version_major": 2,
       "version_minor": 0
      },
      "text/plain": [
       "Canvas(toolbar=Toolbar(toolitems=[('Home', 'Reset original view', 'home', 'home'), ('Back', 'Back to previous …"
      ]
     },
     "metadata": {},
     "output_type": "display_data"
    }
   ],
   "source": [
    "fig = plt.figure(figsize=(12, 12))\n",
    "gs = fig.add_gridspec(2, 2, hspace=0, wspace=0, width_ratios=[1., 0.5], height_ratios=[1., 0.5])\n",
    "axs = gs.subplots(sharex='col', sharey='row')\n",
    "axs[1,1].remove()\n",
    "\n",
    "axs[0,0].hist2d(test2[:,1], test2[:,0], density=True, bins=100)\n",
    "axs[0,0].contour(knots_x, knots_y, values, cmap='hot')\n",
    "\n",
    "axs[0,1].hist(test2[:,0], orientation='horizontal', density=True, bins=100, histtype='step')\n",
    "axs[0,1].plot(comby(np.linspace(knots_y.min(), knots_y.max())), np.linspace(knots_y.min(), knots_y.max()))\n",
    "axs[0,1].set_yticks(knots_y[::10])\n",
    "\n",
    "axs[1,0].hist(test2[:,1], density=True, bins=100, histtype='step')\n",
    "axs[1,0].plot(np.linspace(knots_x.min(), knots_x.max()), combx(np.linspace(knots_x.min(), knots_x.max())), label='True distribution')\n",
    "axs[1,0].set_xticks(knots_x[::10])\n",
    "axs[1,0].legend()\n",
    "\n",
    "plt.tight_layout()\n",
    "plt.show()"
   ]
  },
  {
   "cell_type": "code",
   "execution_count": 17,
   "id": "noticed-grace",
   "metadata": {},
   "outputs": [
    {
     "data": {
      "text/plain": [
       "(152, 113)"
      ]
     },
     "execution_count": 17,
     "metadata": {},
     "output_type": "execute_result"
    }
   ],
   "source": [
    "np.unravel_index(values.argmax(), values.shape)"
   ]
  },
  {
   "cell_type": "code",
   "execution_count": 18,
   "id": "f344bf7f-2bb9-428f-ade3-adde5b60cab6",
   "metadata": {},
   "outputs": [
    {
     "data": {
      "text/plain": [
       "26.488938745000002"
      ]
     },
     "execution_count": 18,
     "metadata": {},
     "output_type": "execute_result"
    }
   ],
   "source": [
    "test2[:,0].mean()"
   ]
  },
  {
   "cell_type": "code",
   "execution_count": 19,
   "id": "b914d288-a6a7-4eb9-adc7-1a4a87453108",
   "metadata": {},
   "outputs": [
    {
     "data": {
      "text/plain": [
       "16.79396984924623"
      ]
     },
     "execution_count": 19,
     "metadata": {},
     "output_type": "execute_result"
    }
   ],
   "source": [
    "knots_y[17]"
   ]
  },
  {
   "cell_type": "code",
   "execution_count": null,
   "id": "b718ca5f-6bdb-475b-a84b-782885fb489d",
   "metadata": {},
   "outputs": [],
   "source": []
  }
 ],
 "metadata": {
  "kernelspec": {
   "display_name": "Python 3",
   "language": "python",
   "name": "python3"
  },
  "language_info": {
   "codemirror_mode": {
    "name": "ipython",
    "version": 3
   },
   "file_extension": ".py",
   "mimetype": "text/x-python",
   "name": "python",
   "nbconvert_exporter": "python",
   "pygments_lexer": "ipython3",
   "version": "3.7.10"
  }
 },
 "nbformat": 4,
 "nbformat_minor": 5
}
