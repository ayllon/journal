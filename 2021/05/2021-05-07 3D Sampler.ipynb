{
 "cells": [
  {
   "cell_type": "code",
   "execution_count": 1,
   "id": "correct-disco",
   "metadata": {},
   "outputs": [],
   "source": [
    "%matplotlib widget\n",
    "import numpy as np\n",
    "import matplotlib.pyplot as plt\n",
    "from scipy.integrate import dblquad\n",
    "from scipy.interpolate import interp2d\n",
    "from scipy.stats import multivariate_normal\n",
    "from mpl_toolkits import mplot3d\n",
    "from matplotlib import colors, cm, animation\n",
    "\n",
    "plt.rcParams['figure.figsize'] = (10, 10)"
   ]
  },
  {
   "cell_type": "code",
   "execution_count": 2,
   "id": "a8a0f5e5-a9ae-4ef4-aef7-2c0b9075900c",
   "metadata": {},
   "outputs": [
    {
     "data": {
      "text/plain": [
       "['pillow', 'ffmpeg', 'ffmpeg_file', 'imagemagick', 'imagemagick_file', 'html']"
      ]
     },
     "execution_count": 2,
     "metadata": {},
     "output_type": "execute_result"
    }
   ],
   "source": [
    "animation.writers.list()"
   ]
  },
  {
   "cell_type": "code",
   "execution_count": 3,
   "id": "5d53c692-0023-40a9-9a8a-fac9faf27126",
   "metadata": {},
   "outputs": [],
   "source": [
    "Writer = animation.writers['pillow']\n",
    "writer = Writer(fps=5)"
   ]
  },
  {
   "cell_type": "markdown",
   "id": "careful-australian",
   "metadata": {},
   "source": [
    "# Original distribution"
   ]
  },
  {
   "cell_type": "code",
   "execution_count": 4,
   "id": "practical-shade",
   "metadata": {},
   "outputs": [],
   "source": [
    "d0 = multivariate_normal(mean=[5, 22, 54], cov=[[8,2,1],[2,2,1],[1,2,4]])\n",
    "d1 = multivariate_normal(mean=[11, 31, 108], cov=[[1,-2,1],[-1,2,-1],[1,-1,2]])\n",
    "\n",
    "d0xs = [\n",
    "    multivariate_normal(mean=5, cov=8),\n",
    "    multivariate_normal(mean=22, cov=2),\n",
    "    multivariate_normal(mean=54, cov=4),\n",
    "]\n",
    "d1xs = [\n",
    "    multivariate_normal(mean=11, cov=1),\n",
    "    multivariate_normal(mean=31, cov=2),\n",
    "    multivariate_normal(mean=108, cov=2),\n",
    "]"
   ]
  },
  {
   "cell_type": "code",
   "execution_count": 5,
   "id": "graduate-history",
   "metadata": {},
   "outputs": [],
   "source": [
    "def comb(pos):\n",
    "    return (d0.pdf(pos) + d1.pdf(pos))/2"
   ]
  },
  {
   "cell_type": "code",
   "execution_count": 92,
   "id": "opposite-discovery",
   "metadata": {},
   "outputs": [
    {
     "data": {
      "text/plain": [
       "(10, 8, 9)"
      ]
     },
     "execution_count": 92,
     "metadata": {},
     "output_type": "execute_result"
    }
   ],
   "source": [
    "knots_x0 = np.linspace(-1, 20, 10, endpoint=True)\n",
    "knots_x1 = np.linspace(15, 36, 8, endpoint=True)\n",
    "knots_x2 = np.linspace(44, 118, 9, endpoint=True)\n",
    "\n",
    "x0, x1, x2 = np.meshgrid(knots_x0, knots_x1, knots_x2, indexing='ij')\n",
    "pos = np.stack((x0, x1, x2), axis=-1)\n",
    "values = comb(pos)\n",
    "values.shape"
   ]
  },
  {
   "cell_type": "code",
   "execution_count": 93,
   "id": "a8b880d2-9db5-47ba-975c-497d279eba87",
   "metadata": {},
   "outputs": [],
   "source": [
    "def weighted_avg_and_std(values, weights):\n",
    "    \"\"\"\n",
    "    Return the weighted average and standard deviation.\n",
    "\n",
    "    values, weights -- Numpy ndarrays with the same shape.\n",
    "    \"\"\"\n",
    "    average = np.average(values, weights=weights)\n",
    "    # Fast and numerically precise:\n",
    "    variance = np.average((values-average)**2, weights=weights)\n",
    "    return (average, np.sqrt(variance))"
   ]
  },
  {
   "cell_type": "code",
   "execution_count": 94,
   "id": "3aab386b-e59f-4117-8eae-08a91892520a",
   "metadata": {},
   "outputs": [
    {
     "name": "stdout",
     "output_type": "stream",
     "text": [
      "(7.3790898193707015, 3.882799178472711)\n",
      "(25.792886155799668, 5.0025838581389195)\n",
      "(79.43038557938095, 27.705095527138454)\n"
     ]
    }
   ],
   "source": [
    "m0 = values.sum(axis=-1).sum(axis=-1)\n",
    "print(weighted_avg_and_std(knots_x0, weights=m0))\n",
    "m1 = values.sum(axis=-1).sum(axis=0)\n",
    "print(weighted_avg_and_std(knots_x1, weights=m1))\n",
    "m2 = values.sum(axis=0).sum(axis=0)\n",
    "print(weighted_avg_and_std(knots_x2, weights=m2))"
   ]
  },
  {
   "cell_type": "code",
   "execution_count": 95,
   "id": "d886a163-3113-4c71-a858-d6bf7fe2a48b",
   "metadata": {},
   "outputs": [],
   "source": [
    "subset = values[::3,::3,::3]"
   ]
  },
  {
   "cell_type": "code",
   "execution_count": 96,
   "id": "41c9ebb8-1324-4b8f-a255-da994efd4313",
   "metadata": {},
   "outputs": [],
   "source": [
    "norm = colors.SymLogNorm(1e-6, vmin=subset.min(), vmax=subset.max())\n",
    "normed = norm(subset.ravel()).reshape(subset.shape)\n",
    "c = cm.get_cmap('jet')(normed)\n",
    "c[:,:,:,3] = normed"
   ]
  },
  {
   "cell_type": "code",
   "execution_count": 97,
   "id": "proper-bernard",
   "metadata": {},
   "outputs": [
    {
     "data": {
      "application/vnd.jupyter.widget-view+json": {
       "model_id": "0e4fdd425cbb4946beb78418e93a2d81",
       "version_major": 2,
       "version_minor": 0
      },
      "text/plain": [
       "Canvas(toolbar=Toolbar(toolitems=[('Home', 'Reset original view', 'home', 'home'), ('Back', 'Back to previous …"
      ]
     },
     "metadata": {},
     "output_type": "display_data"
    }
   ],
   "source": [
    "fig = plt.figure()\n",
    "ax = plt.axes(projection='3d')\n",
    "\n",
    "cuts = np.linspace(1., 0., 5)\n",
    "for a, b in zip(cuts[:-1], cuts[1:]):\n",
    "    mask = ((normed > b) & (normed <= a)).astype(np.float32)\n",
    "    ax.voxels(mask, facecolors=c)\n",
    "\n",
    "ax.set_xticks(np.arange(len(knots_x0[::3]), step=2))\n",
    "ax.set_xticklabels([f'{k:.2f}' for k in knots_x0[::6]])\n",
    "ax.set_yticks(np.arange(len(knots_x1[::3]), step=2))\n",
    "ax.set_yticklabels([f'{k:.2f}' for k in knots_x1[::6]])\n",
    "ax.set_zticks(np.arange(len(knots_x2[::3]), step=2))\n",
    "ax.set_zticklabels([f'{k:.2f}' for k in knots_x2[::6]])\n",
    "\n",
    "plt.show()\n",
    "\n",
    "#def rotate(angle):\n",
    "#     ax.view_init(azim=angle)\n",
    "#\n",
    "#ani = animation.FuncAnimation(fig, rotate, frames=np.arange(0, 360, 10), interval=50)\n",
    "#ani.save('/home/aalvarez/Downloads/truth_3d.gif', writer=writer, dpi=72)"
   ]
  },
  {
   "cell_type": "code",
   "execution_count": 98,
   "id": "nervous-boxing",
   "metadata": {},
   "outputs": [
    {
     "data": {
      "text/plain": [
       "(-1.0, 2.3333333333333335, (10,))"
      ]
     },
     "execution_count": 98,
     "metadata": {},
     "output_type": "execute_result"
    }
   ],
   "source": [
    "knots_x0.min(), np.diff(knots_x0)[0], knots_x0.shape"
   ]
  },
  {
   "cell_type": "code",
   "execution_count": 106,
   "id": "09038975-ec35-495a-b436-0c48ff55ee11",
   "metadata": {},
   "outputs": [
    {
     "data": {
      "text/plain": [
       "2.3333333333333335"
      ]
     },
     "execution_count": 106,
     "metadata": {},
     "output_type": "execute_result"
    }
   ],
   "source": [
    "(20- -1)/9"
   ]
  },
  {
   "cell_type": "code",
   "execution_count": 107,
   "id": "knowing-question",
   "metadata": {},
   "outputs": [
    {
     "data": {
      "text/plain": [
       "(15.0, 3.0, (8,))"
      ]
     },
     "execution_count": 107,
     "metadata": {},
     "output_type": "execute_result"
    }
   ],
   "source": [
    "knots_x1.min(), np.diff(knots_x1)[0], knots_x1.shape"
   ]
  },
  {
   "cell_type": "code",
   "execution_count": 109,
   "id": "9376d36f-f2df-4809-b2c6-76035936fe01",
   "metadata": {},
   "outputs": [
    {
     "data": {
      "text/plain": [
       "3.0"
      ]
     },
     "execution_count": 109,
     "metadata": {},
     "output_type": "execute_result"
    }
   ],
   "source": [
    "(36-15)/7"
   ]
  },
  {
   "cell_type": "code",
   "execution_count": 110,
   "id": "exceptional-joint",
   "metadata": {},
   "outputs": [
    {
     "data": {
      "text/plain": [
       "(44.0, 9.25, (9,))"
      ]
     },
     "execution_count": 110,
     "metadata": {},
     "output_type": "execute_result"
    }
   ],
   "source": [
    "knots_x2.min(), np.diff(knots_x2)[0], knots_x2.shape"
   ]
  },
  {
   "cell_type": "code",
   "execution_count": 112,
   "id": "6adc03b2-8cef-4cf6-929c-c8b01105dd75",
   "metadata": {},
   "outputs": [
    {
     "data": {
      "text/plain": [
       "9.25"
      ]
     },
     "execution_count": 112,
     "metadata": {},
     "output_type": "execute_result"
    }
   ],
   "source": [
    "(118-44)/8"
   ]
  },
  {
   "cell_type": "code",
   "execution_count": 113,
   "id": "86058c80-6f7e-4656-8150-b2d10d7ff3e4",
   "metadata": {},
   "outputs": [],
   "source": [
    "np.save('/home/aalvarez/Work/Projects/Alexandria/Alexandria/MathUtils/tests/src/PDF/pdf3d.npy', values)"
   ]
  },
  {
   "cell_type": "code",
   "execution_count": 114,
   "id": "banned-estate",
   "metadata": {},
   "outputs": [
    {
     "data": {
      "text/plain": [
       "(10, 8, 9)"
      ]
     },
     "execution_count": 114,
     "metadata": {},
     "output_type": "execute_result"
    }
   ],
   "source": [
    "values.shape"
   ]
  },
  {
   "cell_type": "markdown",
   "id": "regulated-calvin",
   "metadata": {},
   "source": [
    "# Compare 3D"
   ]
  },
  {
   "cell_type": "code",
   "execution_count": 133,
   "id": "limiting-carbon",
   "metadata": {},
   "outputs": [
    {
     "data": {
      "text/plain": [
       "100000"
      ]
     },
     "execution_count": 133,
     "metadata": {},
     "output_type": "execute_result"
    }
   ],
   "source": [
    "test3_str = open('/tmp/sample3d.txt').read()\n",
    "test3_str = test3_str[test3_str.index('>')+1:]\n",
    "test3 = np.fromstring(test3_str, sep=',').reshape(-1, 3)\n",
    "len(test3)"
   ]
  },
  {
   "cell_type": "code",
   "execution_count": 134,
   "id": "beautiful-commitment",
   "metadata": {},
   "outputs": [],
   "source": [
    "centers_x0 = (knots_x0[:-1]+knots_x0[1:])/2\n",
    "centers_x1 = (knots_x1[:-1]+knots_x1[1:])/2\n",
    "centers_x2 = (knots_x2[:-1]+knots_x2[1:])/2"
   ]
  },
  {
   "cell_type": "code",
   "execution_count": 135,
   "id": "digital-accessory",
   "metadata": {},
   "outputs": [],
   "source": [
    "H, (e0, e1, e2) = np.histogramdd(test3, bins=40, density=True)"
   ]
  },
  {
   "cell_type": "code",
   "execution_count": 136,
   "id": "563c236c-faf8-4916-be49-c9358858895b",
   "metadata": {},
   "outputs": [],
   "source": [
    "norm = colors.SymLogNorm(1e-3, vmin=H[H > 0].min(), vmax=H.max())\n",
    "normed = norm(H.ravel()).reshape(H.shape)\n",
    "c = cm.get_cmap('jet')(normed)\n",
    "c[:,:,:,3] = normed"
   ]
  },
  {
   "cell_type": "raw",
   "id": "7023ddb9-2c52-478a-8a59-54ca63894c2d",
   "metadata": {},
   "source": [
    "fig = plt.figure()\n",
    "ax = plt.axes(projection='3d')\n",
    "\n",
    "cuts = np.linspace(1., 0., 5)\n",
    "for a, b in zip(cuts[:-1], cuts[1:]):\n",
    "    mask = ((normed > b) & (normed <= a)).astype(np.float32)\n",
    "    ax.voxels(mask, facecolors=c)\n",
    "\n",
    "ax.set_xticks(np.arange(len(e0), step=2))\n",
    "ax.set_xticklabels([f'{k:.2f}' for k in e0[::2]])\n",
    "ax.set_yticks(np.arange(len(e1), step=2))\n",
    "ax.set_yticklabels([f'{k:.2f}' for k in e1[::2]])\n",
    "ax.set_zticks(np.arange(len(e2), step=2))\n",
    "ax.set_zticklabels([f'{k:.2f}' for k in e2[::2]])\n",
    "plt.show()\n",
    "#\n",
    "#def rotate(angle):\n",
    "#     ax.view_init(azim=angle)\n",
    "#\n",
    "#ani = animation.FuncAnimation(fig, rotate, frames=np.arange(0, 360, 10), interval=50)\n",
    "#ani.save('/home/aalvarez/Downloads/samples_3d.gif', writer=writer, dpi=72)"
   ]
  },
  {
   "cell_type": "code",
   "execution_count": 137,
   "id": "promotional-metropolitan",
   "metadata": {},
   "outputs": [
    {
     "data": {
      "text/plain": [
       "79.361777432"
      ]
     },
     "execution_count": 137,
     "metadata": {},
     "output_type": "execute_result"
    }
   ],
   "source": [
    "np.mean(test3[:,2])"
   ]
  },
  {
   "cell_type": "code",
   "execution_count": 138,
   "id": "482a0aa2-69e5-49eb-8eb7-2ef886bf9e9c",
   "metadata": {},
   "outputs": [
    {
     "data": {
      "application/vnd.jupyter.widget-view+json": {
       "model_id": "6dff4fd6882b48fcafcaf772325a60ac",
       "version_major": 2,
       "version_minor": 0
      },
      "text/plain": [
       "Canvas(toolbar=Toolbar(toolitems=[('Home', 'Reset original view', 'home', 'home'), ('Back', 'Back to previous …"
      ]
     },
     "metadata": {},
     "output_type": "display_data"
    }
   ],
   "source": [
    "fig, axes = plt.subplots(ncols=3, figsize=(12, 4))\n",
    "for i, ax in enumerate(axes):\n",
    "    _, edges, _ = ax.hist(test3[:,i], density=True, bins=150)\n",
    "    xs = np.linspace(edges[0], edges[-1])\n",
    "    ax.plot(xs, d0xs[i].pdf(xs)/2, label='Population 1')\n",
    "    ax.plot(xs, d1xs[i].pdf(xs)/2, label='Population 2')\n",
    "    ax.plot(xs, d0xs[i].pdf(xs)/2+d1xs[i].pdf(xs)/2, color='red', label='Total', linestyle=':')\n",
    "    ax.set_title(f'Axis {i}')\n",
    "axes[0].legend()\n",
    "plt.tight_layout()    \n",
    "plt.show()"
   ]
  },
  {
   "cell_type": "code",
   "execution_count": null,
   "id": "ac3090ca-a314-44e4-b307-a74c95ad3271",
   "metadata": {},
   "outputs": [],
   "source": []
  },
  {
   "cell_type": "code",
   "execution_count": 139,
   "id": "9a21e0bd-0641-4cd1-b3ca-f585df80824d",
   "metadata": {},
   "outputs": [
    {
     "data": {
      "application/vnd.jupyter.widget-view+json": {
       "model_id": "e822dbf4531f4b0682e5896144717f75",
       "version_major": 2,
       "version_minor": 0
      },
      "text/plain": [
       "Canvas(toolbar=Toolbar(toolitems=[('Home', 'Reset original view', 'home', 'home'), ('Back', 'Back to previous …"
      ]
     },
     "metadata": {},
     "output_type": "display_data"
    },
    {
     "data": {
      "text/plain": [
       "[]"
      ]
     },
     "execution_count": 139,
     "metadata": {},
     "output_type": "execute_result"
    }
   ],
   "source": [
    "a, b = knots_x0[1], knots_x0[5]\n",
    "mask = (test3[:,0] >= a) & (test3[:,0]<b)\n",
    "plt.figure()\n",
    "count, edges = np.histogram(test3[mask,0], bins=200)\n",
    "centers = (edges[1:]+edges[:-1])/2\n",
    "w = np.diff(centers)[0]\n",
    "plt.bar(centers, (count/len(test3))/w, width=w)\n",
    "xs = np.linspace(a, b)\n",
    "plt.plot(xs, d0xs[0].pdf(xs)/2+d1xs[0].pdf(xs)/2, linestyle='--', color='red')\n",
    "plt.vlines(knots_x0[(knots_x0>=a) & (knots_x0<b)], 0, 0.08, linestyle=':', color='black', alpha=0.8)\n",
    "plt.plot()"
   ]
  },
  {
   "cell_type": "code",
   "execution_count": null,
   "id": "64f89c8a-4785-4870-821b-b2b09b51dce7",
   "metadata": {},
   "outputs": [],
   "source": []
  }
 ],
 "metadata": {
  "kernelspec": {
   "display_name": "Python 3",
   "language": "python",
   "name": "python3"
  },
  "language_info": {
   "codemirror_mode": {
    "name": "ipython",
    "version": 3
   },
   "file_extension": ".py",
   "mimetype": "text/x-python",
   "name": "python",
   "nbconvert_exporter": "python",
   "pygments_lexer": "ipython3",
   "version": "3.7.10"
  }
 },
 "nbformat": 4,
 "nbformat_minor": 5
}
